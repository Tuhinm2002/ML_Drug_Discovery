{
  "cells": [
    {
      "cell_type": "markdown",
      "metadata": {
        "id": "4Ban-ZO5_6Vf"
      },
      "source": [
        "### Importing Important Modules and Database connectors"
      ]
    },
    {
      "cell_type": "code",
      "execution_count": 1,
      "metadata": {
        "colab": {
          "base_uri": "https://localhost:8080/"
        },
        "id": "uh7CxBVxlbi9",
        "outputId": "f93f3982-59ba-402a-a173-516bfe2184de"
      },
      "outputs": [
        {
          "output_type": "stream",
          "name": "stdout",
          "text": [
            "Looking in indexes: https://pypi.org/simple, https://us-python.pkg.dev/colab-wheels/public/simple/\n",
            "Collecting chembl_webresource_client\n",
            "  Downloading chembl_webresource_client-0.10.8-py3-none-any.whl (55 kB)\n",
            "\u001b[2K     \u001b[90m━━━━━━━━━━━━━━━━━━━━━━━━━━━━━━━━━━━━━━━━\u001b[0m \u001b[32m55.2/55.2 KB\u001b[0m \u001b[31m1.7 MB/s\u001b[0m eta \u001b[36m0:00:00\u001b[0m\n",
            "\u001b[?25hRequirement already satisfied: easydict in /usr/local/lib/python3.9/dist-packages (from chembl_webresource_client) (1.10)\n",
            "Collecting requests-cache~=0.7.0\n",
            "  Downloading requests_cache-0.7.5-py3-none-any.whl (39 kB)\n",
            "Requirement already satisfied: requests>=2.18.4 in /usr/local/lib/python3.9/dist-packages (from chembl_webresource_client) (2.25.1)\n",
            "Requirement already satisfied: urllib3 in /usr/local/lib/python3.9/dist-packages (from chembl_webresource_client) (1.26.14)\n",
            "Requirement already satisfied: idna<3,>=2.5 in /usr/local/lib/python3.9/dist-packages (from requests>=2.18.4->chembl_webresource_client) (2.10)\n",
            "Requirement already satisfied: certifi>=2017.4.17 in /usr/local/lib/python3.9/dist-packages (from requests>=2.18.4->chembl_webresource_client) (2022.12.7)\n",
            "Requirement already satisfied: chardet<5,>=3.0.2 in /usr/local/lib/python3.9/dist-packages (from requests>=2.18.4->chembl_webresource_client) (4.0.0)\n",
            "Collecting url-normalize<2.0,>=1.4\n",
            "  Downloading url_normalize-1.4.3-py2.py3-none-any.whl (6.8 kB)\n",
            "Requirement already satisfied: itsdangerous>=2.0.1 in /usr/local/lib/python3.9/dist-packages (from requests-cache~=0.7.0->chembl_webresource_client) (2.1.2)\n",
            "Collecting attrs<22.0,>=21.2\n",
            "  Downloading attrs-21.4.0-py2.py3-none-any.whl (60 kB)\n",
            "\u001b[2K     \u001b[90m━━━━━━━━━━━━━━━━━━━━━━━━━━━━━━━━━━━━━━━━\u001b[0m \u001b[32m60.6/60.6 KB\u001b[0m \u001b[31m4.2 MB/s\u001b[0m eta \u001b[36m0:00:00\u001b[0m\n",
            "\u001b[?25hRequirement already satisfied: pyyaml>=5.4 in /usr/local/lib/python3.9/dist-packages (from requests-cache~=0.7.0->chembl_webresource_client) (6.0)\n",
            "Requirement already satisfied: six in /usr/local/lib/python3.9/dist-packages (from url-normalize<2.0,>=1.4->requests-cache~=0.7.0->chembl_webresource_client) (1.15.0)\n",
            "Installing collected packages: url-normalize, attrs, requests-cache, chembl_webresource_client\n",
            "  Attempting uninstall: attrs\n",
            "    Found existing installation: attrs 22.2.0\n",
            "    Uninstalling attrs-22.2.0:\n",
            "      Successfully uninstalled attrs-22.2.0\n",
            "Successfully installed attrs-21.4.0 chembl_webresource_client-0.10.8 requests-cache-0.7.5 url-normalize-1.4.3\n"
          ]
        }
      ],
      "source": [
        "! pip install chembl_webresource_client"
      ]
    },
    {
      "cell_type": "code",
      "execution_count": 2,
      "metadata": {
        "id": "MqSnLFbQls26"
      },
      "outputs": [],
      "source": [
        "import pandas as pd\n",
        "import numpy as np\n",
        "from chembl_webresource_client.new_client import new_client\n",
        "import matplotlib.pyplot as plt"
      ]
    },
    {
      "cell_type": "markdown",
      "metadata": {
        "id": "MgjhG1kiACOJ"
      },
      "source": [
        "### Collecting And Processing Data\n",
        "* Our main goal is to process the target protien structure `independent variable`\n",
        "* And predict the `IC50` value the `dependent variable`\n",
        "* To process the chemical structure Ww will be using `Padel Descripter` later on"
      ]
    },
    {
      "cell_type": "code",
      "execution_count": 3,
      "metadata": {
        "id": "T29V3oPJl9O3"
      },
      "outputs": [],
      "source": [
        "target = new_client.target\n",
        "target_query = target.search('dengue')\n",
        "target_result = pd.DataFrame.from_dict(target_query)"
      ]
    },
    {
      "cell_type": "code",
      "execution_count": 4,
      "metadata": {
        "colab": {
          "base_uri": "https://localhost:8080/",
          "height": 403
        },
        "id": "ZOSTm5S-mfuI",
        "outputId": "e60a1929-7c29-4186-ceb4-4b59a738af92"
      },
      "outputs": [
        {
          "output_type": "execute_result",
          "data": {
            "text/plain": [
              "                                    cross_references  \\\n",
              "0                                                 []   \n",
              "1                                                 []   \n",
              "2                                                 []   \n",
              "3                                                 []   \n",
              "4                                                 []   \n",
              "5  [{'xref_id': 'P29990', 'xref_name': None, 'xre...   \n",
              "\n",
              "                                            organism  \\\n",
              "0                                       Dengue virus   \n",
              "1                                     Dengue virus 1   \n",
              "2                                     Dengue virus 2   \n",
              "3                                     Dengue virus 3   \n",
              "4                                     Dengue virus 4   \n",
              "5  Dengue virus type 2 (strain Thailand/16681/198...   \n",
              "\n",
              "                         pref_name  score  species_group_flag  \\\n",
              "0                     Dengue virus   15.0               False   \n",
              "1                   Dengue virus 1   13.0               False   \n",
              "2                   Dengue virus 2   13.0               False   \n",
              "3                   Dengue virus 3   13.0               False   \n",
              "4              Dengue virus type 4   11.0               False   \n",
              "5  Dengue virus type 2 NS3 protein    9.0               False   \n",
              "\n",
              "  target_chembl_id                                  target_components  \\\n",
              "0     CHEMBL613757                                                 []   \n",
              "1     CHEMBL613360                                                 []   \n",
              "2     CHEMBL613966                                                 []   \n",
              "3     CHEMBL612717                                                 []   \n",
              "4     CHEMBL613728                                                 []   \n",
              "5       CHEMBL5980  [{'accession': 'P29990', 'component_descriptio...   \n",
              "\n",
              "      target_type  tax_id  \n",
              "0        ORGANISM   12637  \n",
              "1        ORGANISM   11053  \n",
              "2        ORGANISM   11060  \n",
              "3        ORGANISM   11069  \n",
              "4        ORGANISM   11070  \n",
              "5  SINGLE PROTEIN   31634  "
            ],
            "text/html": [
              "\n",
              "  <div id=\"df-e1fd9e4b-75e5-4a22-bf1e-fefe5b65550a\">\n",
              "    <div class=\"colab-df-container\">\n",
              "      <div>\n",
              "<style scoped>\n",
              "    .dataframe tbody tr th:only-of-type {\n",
              "        vertical-align: middle;\n",
              "    }\n",
              "\n",
              "    .dataframe tbody tr th {\n",
              "        vertical-align: top;\n",
              "    }\n",
              "\n",
              "    .dataframe thead th {\n",
              "        text-align: right;\n",
              "    }\n",
              "</style>\n",
              "<table border=\"1\" class=\"dataframe\">\n",
              "  <thead>\n",
              "    <tr style=\"text-align: right;\">\n",
              "      <th></th>\n",
              "      <th>cross_references</th>\n",
              "      <th>organism</th>\n",
              "      <th>pref_name</th>\n",
              "      <th>score</th>\n",
              "      <th>species_group_flag</th>\n",
              "      <th>target_chembl_id</th>\n",
              "      <th>target_components</th>\n",
              "      <th>target_type</th>\n",
              "      <th>tax_id</th>\n",
              "    </tr>\n",
              "  </thead>\n",
              "  <tbody>\n",
              "    <tr>\n",
              "      <th>0</th>\n",
              "      <td>[]</td>\n",
              "      <td>Dengue virus</td>\n",
              "      <td>Dengue virus</td>\n",
              "      <td>15.0</td>\n",
              "      <td>False</td>\n",
              "      <td>CHEMBL613757</td>\n",
              "      <td>[]</td>\n",
              "      <td>ORGANISM</td>\n",
              "      <td>12637</td>\n",
              "    </tr>\n",
              "    <tr>\n",
              "      <th>1</th>\n",
              "      <td>[]</td>\n",
              "      <td>Dengue virus 1</td>\n",
              "      <td>Dengue virus 1</td>\n",
              "      <td>13.0</td>\n",
              "      <td>False</td>\n",
              "      <td>CHEMBL613360</td>\n",
              "      <td>[]</td>\n",
              "      <td>ORGANISM</td>\n",
              "      <td>11053</td>\n",
              "    </tr>\n",
              "    <tr>\n",
              "      <th>2</th>\n",
              "      <td>[]</td>\n",
              "      <td>Dengue virus 2</td>\n",
              "      <td>Dengue virus 2</td>\n",
              "      <td>13.0</td>\n",
              "      <td>False</td>\n",
              "      <td>CHEMBL613966</td>\n",
              "      <td>[]</td>\n",
              "      <td>ORGANISM</td>\n",
              "      <td>11060</td>\n",
              "    </tr>\n",
              "    <tr>\n",
              "      <th>3</th>\n",
              "      <td>[]</td>\n",
              "      <td>Dengue virus 3</td>\n",
              "      <td>Dengue virus 3</td>\n",
              "      <td>13.0</td>\n",
              "      <td>False</td>\n",
              "      <td>CHEMBL612717</td>\n",
              "      <td>[]</td>\n",
              "      <td>ORGANISM</td>\n",
              "      <td>11069</td>\n",
              "    </tr>\n",
              "    <tr>\n",
              "      <th>4</th>\n",
              "      <td>[]</td>\n",
              "      <td>Dengue virus 4</td>\n",
              "      <td>Dengue virus type 4</td>\n",
              "      <td>11.0</td>\n",
              "      <td>False</td>\n",
              "      <td>CHEMBL613728</td>\n",
              "      <td>[]</td>\n",
              "      <td>ORGANISM</td>\n",
              "      <td>11070</td>\n",
              "    </tr>\n",
              "    <tr>\n",
              "      <th>5</th>\n",
              "      <td>[{'xref_id': 'P29990', 'xref_name': None, 'xre...</td>\n",
              "      <td>Dengue virus type 2 (strain Thailand/16681/198...</td>\n",
              "      <td>Dengue virus type 2 NS3 protein</td>\n",
              "      <td>9.0</td>\n",
              "      <td>False</td>\n",
              "      <td>CHEMBL5980</td>\n",
              "      <td>[{'accession': 'P29990', 'component_descriptio...</td>\n",
              "      <td>SINGLE PROTEIN</td>\n",
              "      <td>31634</td>\n",
              "    </tr>\n",
              "  </tbody>\n",
              "</table>\n",
              "</div>\n",
              "      <button class=\"colab-df-convert\" onclick=\"convertToInteractive('df-e1fd9e4b-75e5-4a22-bf1e-fefe5b65550a')\"\n",
              "              title=\"Convert this dataframe to an interactive table.\"\n",
              "              style=\"display:none;\">\n",
              "        \n",
              "  <svg xmlns=\"http://www.w3.org/2000/svg\" height=\"24px\"viewBox=\"0 0 24 24\"\n",
              "       width=\"24px\">\n",
              "    <path d=\"M0 0h24v24H0V0z\" fill=\"none\"/>\n",
              "    <path d=\"M18.56 5.44l.94 2.06.94-2.06 2.06-.94-2.06-.94-.94-2.06-.94 2.06-2.06.94zm-11 1L8.5 8.5l.94-2.06 2.06-.94-2.06-.94L8.5 2.5l-.94 2.06-2.06.94zm10 10l.94 2.06.94-2.06 2.06-.94-2.06-.94-.94-2.06-.94 2.06-2.06.94z\"/><path d=\"M17.41 7.96l-1.37-1.37c-.4-.4-.92-.59-1.43-.59-.52 0-1.04.2-1.43.59L10.3 9.45l-7.72 7.72c-.78.78-.78 2.05 0 2.83L4 21.41c.39.39.9.59 1.41.59.51 0 1.02-.2 1.41-.59l7.78-7.78 2.81-2.81c.8-.78.8-2.07 0-2.86zM5.41 20L4 18.59l7.72-7.72 1.47 1.35L5.41 20z\"/>\n",
              "  </svg>\n",
              "      </button>\n",
              "      \n",
              "  <style>\n",
              "    .colab-df-container {\n",
              "      display:flex;\n",
              "      flex-wrap:wrap;\n",
              "      gap: 12px;\n",
              "    }\n",
              "\n",
              "    .colab-df-convert {\n",
              "      background-color: #E8F0FE;\n",
              "      border: none;\n",
              "      border-radius: 50%;\n",
              "      cursor: pointer;\n",
              "      display: none;\n",
              "      fill: #1967D2;\n",
              "      height: 32px;\n",
              "      padding: 0 0 0 0;\n",
              "      width: 32px;\n",
              "    }\n",
              "\n",
              "    .colab-df-convert:hover {\n",
              "      background-color: #E2EBFA;\n",
              "      box-shadow: 0px 1px 2px rgba(60, 64, 67, 0.3), 0px 1px 3px 1px rgba(60, 64, 67, 0.15);\n",
              "      fill: #174EA6;\n",
              "    }\n",
              "\n",
              "    [theme=dark] .colab-df-convert {\n",
              "      background-color: #3B4455;\n",
              "      fill: #D2E3FC;\n",
              "    }\n",
              "\n",
              "    [theme=dark] .colab-df-convert:hover {\n",
              "      background-color: #434B5C;\n",
              "      box-shadow: 0px 1px 3px 1px rgba(0, 0, 0, 0.15);\n",
              "      filter: drop-shadow(0px 1px 2px rgba(0, 0, 0, 0.3));\n",
              "      fill: #FFFFFF;\n",
              "    }\n",
              "  </style>\n",
              "\n",
              "      <script>\n",
              "        const buttonEl =\n",
              "          document.querySelector('#df-e1fd9e4b-75e5-4a22-bf1e-fefe5b65550a button.colab-df-convert');\n",
              "        buttonEl.style.display =\n",
              "          google.colab.kernel.accessAllowed ? 'block' : 'none';\n",
              "\n",
              "        async function convertToInteractive(key) {\n",
              "          const element = document.querySelector('#df-e1fd9e4b-75e5-4a22-bf1e-fefe5b65550a');\n",
              "          const dataTable =\n",
              "            await google.colab.kernel.invokeFunction('convertToInteractive',\n",
              "                                                     [key], {});\n",
              "          if (!dataTable) return;\n",
              "\n",
              "          const docLinkHtml = 'Like what you see? Visit the ' +\n",
              "            '<a target=\"_blank\" href=https://colab.research.google.com/notebooks/data_table.ipynb>data table notebook</a>'\n",
              "            + ' to learn more about interactive tables.';\n",
              "          element.innerHTML = '';\n",
              "          dataTable['output_type'] = 'display_data';\n",
              "          await google.colab.output.renderOutput(dataTable, element);\n",
              "          const docLink = document.createElement('div');\n",
              "          docLink.innerHTML = docLinkHtml;\n",
              "          element.appendChild(docLink);\n",
              "        }\n",
              "      </script>\n",
              "    </div>\n",
              "  </div>\n",
              "  "
            ]
          },
          "metadata": {},
          "execution_count": 4
        }
      ],
      "source": [
        "target_result"
      ]
    },
    {
      "cell_type": "code",
      "execution_count": 5,
      "metadata": {
        "colab": {
          "base_uri": "https://localhost:8080/",
          "height": 36
        },
        "id": "Th0_EaNCml_t",
        "outputId": "a3ab1a98-d4bf-4f56-dc64-c0d8c41d2ce5"
      },
      "outputs": [
        {
          "output_type": "execute_result",
          "data": {
            "text/plain": [
              "'CHEMBL5980'"
            ],
            "application/vnd.google.colaboratory.intrinsic+json": {
              "type": "string"
            }
          },
          "metadata": {},
          "execution_count": 5
        }
      ],
      "source": [
        "selected_target1 = target_result.target_chembl_id[5]\n",
        "selected_target1"
      ]
    },
    {
      "cell_type": "code",
      "execution_count": 6,
      "metadata": {
        "id": "bBK0Rg1zm9x0"
      },
      "outputs": [],
      "source": [
        "activity1 = new_client.activity\n",
        "res = activity1.filter(target_chembl_id=selected_target1).filter(standard_type='IC50')\n",
        "df1 = pd.DataFrame.from_dict(res)"
      ]
    },
    {
      "cell_type": "code",
      "execution_count": 7,
      "metadata": {
        "colab": {
          "base_uri": "https://localhost:8080/",
          "height": 341
        },
        "id": "4Qjf8ZgInaIS",
        "outputId": "a0d43d86-9ce8-45f7-930b-da3854e80b84"
      },
      "outputs": [
        {
          "output_type": "execute_result",
          "data": {
            "text/plain": [
              "  activity_comment  activity_id activity_properties assay_chembl_id  \\\n",
              "0           active      7018430                  []   CHEMBL1794550   \n",
              "1           active      7018431                  []   CHEMBL1794550   \n",
              "2           active      7018432                  []   CHEMBL1794550   \n",
              "\n",
              "                                   assay_description assay_type  \\\n",
              "0  PUBCHEM_BIOASSAY: Primary and Confirmatory Scr...          F   \n",
              "1  PUBCHEM_BIOASSAY: Primary and Confirmatory Scr...          F   \n",
              "2  PUBCHEM_BIOASSAY: Primary and Confirmatory Scr...          F   \n",
              "\n",
              "  assay_variant_accession assay_variant_mutation bao_endpoint   bao_format  \\\n",
              "0                    None                   None  BAO_0000190  BAO_0000019   \n",
              "1                    None                   None  BAO_0000190  BAO_0000019   \n",
              "2                    None                   None  BAO_0000190  BAO_0000019   \n",
              "\n",
              "   ...                                    target_organism  \\\n",
              "0  ...  Dengue virus type 2 (strain Thailand/16681/198...   \n",
              "1  ...  Dengue virus type 2 (strain Thailand/16681/198...   \n",
              "2  ...  Dengue virus type 2 (strain Thailand/16681/198...   \n",
              "\n",
              "                  target_pref_name target_tax_id text_value  toid  type  \\\n",
              "0  Dengue virus type 2 NS3 protein         31634       None  None  IC50   \n",
              "1  Dengue virus type 2 NS3 protein         31634       None  None  IC50   \n",
              "2  Dengue virus type 2 NS3 protein         31634       None  None  IC50   \n",
              "\n",
              "   units    uo_units upper_value  value  \n",
              "0     uM  UO_0000065        None  100.0  \n",
              "1     uM  UO_0000065        None  12.31  \n",
              "2     uM  UO_0000065        None  100.0  \n",
              "\n",
              "[3 rows x 45 columns]"
            ],
            "text/html": [
              "\n",
              "  <div id=\"df-028c039e-1957-427a-8830-7b0289c91618\">\n",
              "    <div class=\"colab-df-container\">\n",
              "      <div>\n",
              "<style scoped>\n",
              "    .dataframe tbody tr th:only-of-type {\n",
              "        vertical-align: middle;\n",
              "    }\n",
              "\n",
              "    .dataframe tbody tr th {\n",
              "        vertical-align: top;\n",
              "    }\n",
              "\n",
              "    .dataframe thead th {\n",
              "        text-align: right;\n",
              "    }\n",
              "</style>\n",
              "<table border=\"1\" class=\"dataframe\">\n",
              "  <thead>\n",
              "    <tr style=\"text-align: right;\">\n",
              "      <th></th>\n",
              "      <th>activity_comment</th>\n",
              "      <th>activity_id</th>\n",
              "      <th>activity_properties</th>\n",
              "      <th>assay_chembl_id</th>\n",
              "      <th>assay_description</th>\n",
              "      <th>assay_type</th>\n",
              "      <th>assay_variant_accession</th>\n",
              "      <th>assay_variant_mutation</th>\n",
              "      <th>bao_endpoint</th>\n",
              "      <th>bao_format</th>\n",
              "      <th>...</th>\n",
              "      <th>target_organism</th>\n",
              "      <th>target_pref_name</th>\n",
              "      <th>target_tax_id</th>\n",
              "      <th>text_value</th>\n",
              "      <th>toid</th>\n",
              "      <th>type</th>\n",
              "      <th>units</th>\n",
              "      <th>uo_units</th>\n",
              "      <th>upper_value</th>\n",
              "      <th>value</th>\n",
              "    </tr>\n",
              "  </thead>\n",
              "  <tbody>\n",
              "    <tr>\n",
              "      <th>0</th>\n",
              "      <td>active</td>\n",
              "      <td>7018430</td>\n",
              "      <td>[]</td>\n",
              "      <td>CHEMBL1794550</td>\n",
              "      <td>PUBCHEM_BIOASSAY: Primary and Confirmatory Scr...</td>\n",
              "      <td>F</td>\n",
              "      <td>None</td>\n",
              "      <td>None</td>\n",
              "      <td>BAO_0000190</td>\n",
              "      <td>BAO_0000019</td>\n",
              "      <td>...</td>\n",
              "      <td>Dengue virus type 2 (strain Thailand/16681/198...</td>\n",
              "      <td>Dengue virus type 2 NS3 protein</td>\n",
              "      <td>31634</td>\n",
              "      <td>None</td>\n",
              "      <td>None</td>\n",
              "      <td>IC50</td>\n",
              "      <td>uM</td>\n",
              "      <td>UO_0000065</td>\n",
              "      <td>None</td>\n",
              "      <td>100.0</td>\n",
              "    </tr>\n",
              "    <tr>\n",
              "      <th>1</th>\n",
              "      <td>active</td>\n",
              "      <td>7018431</td>\n",
              "      <td>[]</td>\n",
              "      <td>CHEMBL1794550</td>\n",
              "      <td>PUBCHEM_BIOASSAY: Primary and Confirmatory Scr...</td>\n",
              "      <td>F</td>\n",
              "      <td>None</td>\n",
              "      <td>None</td>\n",
              "      <td>BAO_0000190</td>\n",
              "      <td>BAO_0000019</td>\n",
              "      <td>...</td>\n",
              "      <td>Dengue virus type 2 (strain Thailand/16681/198...</td>\n",
              "      <td>Dengue virus type 2 NS3 protein</td>\n",
              "      <td>31634</td>\n",
              "      <td>None</td>\n",
              "      <td>None</td>\n",
              "      <td>IC50</td>\n",
              "      <td>uM</td>\n",
              "      <td>UO_0000065</td>\n",
              "      <td>None</td>\n",
              "      <td>12.31</td>\n",
              "    </tr>\n",
              "    <tr>\n",
              "      <th>2</th>\n",
              "      <td>active</td>\n",
              "      <td>7018432</td>\n",
              "      <td>[]</td>\n",
              "      <td>CHEMBL1794550</td>\n",
              "      <td>PUBCHEM_BIOASSAY: Primary and Confirmatory Scr...</td>\n",
              "      <td>F</td>\n",
              "      <td>None</td>\n",
              "      <td>None</td>\n",
              "      <td>BAO_0000190</td>\n",
              "      <td>BAO_0000019</td>\n",
              "      <td>...</td>\n",
              "      <td>Dengue virus type 2 (strain Thailand/16681/198...</td>\n",
              "      <td>Dengue virus type 2 NS3 protein</td>\n",
              "      <td>31634</td>\n",
              "      <td>None</td>\n",
              "      <td>None</td>\n",
              "      <td>IC50</td>\n",
              "      <td>uM</td>\n",
              "      <td>UO_0000065</td>\n",
              "      <td>None</td>\n",
              "      <td>100.0</td>\n",
              "    </tr>\n",
              "  </tbody>\n",
              "</table>\n",
              "<p>3 rows × 45 columns</p>\n",
              "</div>\n",
              "      <button class=\"colab-df-convert\" onclick=\"convertToInteractive('df-028c039e-1957-427a-8830-7b0289c91618')\"\n",
              "              title=\"Convert this dataframe to an interactive table.\"\n",
              "              style=\"display:none;\">\n",
              "        \n",
              "  <svg xmlns=\"http://www.w3.org/2000/svg\" height=\"24px\"viewBox=\"0 0 24 24\"\n",
              "       width=\"24px\">\n",
              "    <path d=\"M0 0h24v24H0V0z\" fill=\"none\"/>\n",
              "    <path d=\"M18.56 5.44l.94 2.06.94-2.06 2.06-.94-2.06-.94-.94-2.06-.94 2.06-2.06.94zm-11 1L8.5 8.5l.94-2.06 2.06-.94-2.06-.94L8.5 2.5l-.94 2.06-2.06.94zm10 10l.94 2.06.94-2.06 2.06-.94-2.06-.94-.94-2.06-.94 2.06-2.06.94z\"/><path d=\"M17.41 7.96l-1.37-1.37c-.4-.4-.92-.59-1.43-.59-.52 0-1.04.2-1.43.59L10.3 9.45l-7.72 7.72c-.78.78-.78 2.05 0 2.83L4 21.41c.39.39.9.59 1.41.59.51 0 1.02-.2 1.41-.59l7.78-7.78 2.81-2.81c.8-.78.8-2.07 0-2.86zM5.41 20L4 18.59l7.72-7.72 1.47 1.35L5.41 20z\"/>\n",
              "  </svg>\n",
              "      </button>\n",
              "      \n",
              "  <style>\n",
              "    .colab-df-container {\n",
              "      display:flex;\n",
              "      flex-wrap:wrap;\n",
              "      gap: 12px;\n",
              "    }\n",
              "\n",
              "    .colab-df-convert {\n",
              "      background-color: #E8F0FE;\n",
              "      border: none;\n",
              "      border-radius: 50%;\n",
              "      cursor: pointer;\n",
              "      display: none;\n",
              "      fill: #1967D2;\n",
              "      height: 32px;\n",
              "      padding: 0 0 0 0;\n",
              "      width: 32px;\n",
              "    }\n",
              "\n",
              "    .colab-df-convert:hover {\n",
              "      background-color: #E2EBFA;\n",
              "      box-shadow: 0px 1px 2px rgba(60, 64, 67, 0.3), 0px 1px 3px 1px rgba(60, 64, 67, 0.15);\n",
              "      fill: #174EA6;\n",
              "    }\n",
              "\n",
              "    [theme=dark] .colab-df-convert {\n",
              "      background-color: #3B4455;\n",
              "      fill: #D2E3FC;\n",
              "    }\n",
              "\n",
              "    [theme=dark] .colab-df-convert:hover {\n",
              "      background-color: #434B5C;\n",
              "      box-shadow: 0px 1px 3px 1px rgba(0, 0, 0, 0.15);\n",
              "      filter: drop-shadow(0px 1px 2px rgba(0, 0, 0, 0.3));\n",
              "      fill: #FFFFFF;\n",
              "    }\n",
              "  </style>\n",
              "\n",
              "      <script>\n",
              "        const buttonEl =\n",
              "          document.querySelector('#df-028c039e-1957-427a-8830-7b0289c91618 button.colab-df-convert');\n",
              "        buttonEl.style.display =\n",
              "          google.colab.kernel.accessAllowed ? 'block' : 'none';\n",
              "\n",
              "        async function convertToInteractive(key) {\n",
              "          const element = document.querySelector('#df-028c039e-1957-427a-8830-7b0289c91618');\n",
              "          const dataTable =\n",
              "            await google.colab.kernel.invokeFunction('convertToInteractive',\n",
              "                                                     [key], {});\n",
              "          if (!dataTable) return;\n",
              "\n",
              "          const docLinkHtml = 'Like what you see? Visit the ' +\n",
              "            '<a target=\"_blank\" href=https://colab.research.google.com/notebooks/data_table.ipynb>data table notebook</a>'\n",
              "            + ' to learn more about interactive tables.';\n",
              "          element.innerHTML = '';\n",
              "          dataTable['output_type'] = 'display_data';\n",
              "          await google.colab.output.renderOutput(dataTable, element);\n",
              "          const docLink = document.createElement('div');\n",
              "          docLink.innerHTML = docLinkHtml;\n",
              "          element.appendChild(docLink);\n",
              "        }\n",
              "      </script>\n",
              "    </div>\n",
              "  </div>\n",
              "  "
            ]
          },
          "metadata": {},
          "execution_count": 7
        }
      ],
      "source": [
        "df1.head(3)"
      ]
    },
    {
      "cell_type": "markdown",
      "metadata": {
        "id": "DrATmarmCixN"
      },
      "source": [
        "### Only Selecting the required Columns"
      ]
    },
    {
      "cell_type": "code",
      "execution_count": 8,
      "metadata": {
        "id": "CLtBKBiPpHtI"
      },
      "outputs": [],
      "source": [
        "columns = ['canonical_smiles','molecule_chembl_id','standard_value']"
      ]
    },
    {
      "cell_type": "code",
      "execution_count": 9,
      "metadata": {
        "id": "PFeqBDQ1quLX"
      },
      "outputs": [],
      "source": [
        "df1_selected = df1[columns]"
      ]
    },
    {
      "cell_type": "code",
      "execution_count": 10,
      "metadata": {
        "colab": {
          "base_uri": "https://localhost:8080/"
        },
        "id": "80rkMAU2qzm_",
        "outputId": "8c13dae0-344b-4c8f-a178-428070ea10ed"
      },
      "outputs": [
        {
          "output_type": "execute_result",
          "data": {
            "text/plain": [
              "1230"
            ]
          },
          "metadata": {},
          "execution_count": 10
        }
      ],
      "source": [
        "len(df1_selected)"
      ]
    },
    {
      "cell_type": "markdown",
      "metadata": {
        "id": "dgnR3oetCpsd"
      },
      "source": [
        "### Fixing Missing Values\n",
        "* For that I am using mean() of the column `standard_value`\n",
        "* For values greater than `100000000` I am going to limit it to `100000000` so after converting to log value it will not show any negative value\n",
        "* Then we will finally apply to convert all `standard_value` to log of `standard_value` so it will fix high deviation and outliers(most of them atleast)"
      ]
    },
    {
      "cell_type": "code",
      "execution_count": 11,
      "metadata": {
        "colab": {
          "base_uri": "https://localhost:8080/"
        },
        "id": "9o9FsQYn_KXS",
        "outputId": "f466e80c-1ce2-4045-ddf3-791307483721"
      },
      "outputs": [
        {
          "output_type": "execute_result",
          "data": {
            "text/plain": [
              "canonical_smiles       0\n",
              "molecule_chembl_id     0\n",
              "standard_value        45\n",
              "dtype: int64"
            ]
          },
          "metadata": {},
          "execution_count": 11
        }
      ],
      "source": [
        "df1_selected.isnull().sum()"
      ]
    },
    {
      "cell_type": "code",
      "execution_count": 12,
      "metadata": {
        "colab": {
          "base_uri": "https://localhost:8080/"
        },
        "id": "FGo6k6tUFHBl",
        "outputId": "fec9b0d7-a008-4726-fdba-1e7d611753d7"
      },
      "outputs": [
        {
          "output_type": "execute_result",
          "data": {
            "text/plain": [
              "dtype('O')"
            ]
          },
          "metadata": {},
          "execution_count": 12
        }
      ],
      "source": [
        "df1_selected['standard_value'].dtype"
      ]
    },
    {
      "cell_type": "code",
      "execution_count": 13,
      "metadata": {
        "colab": {
          "base_uri": "https://localhost:8080/"
        },
        "id": "WqXY73DcFNnG",
        "outputId": "8651bfb3-a839-45aa-c9ce-3882a34a6efe"
      },
      "outputs": [
        {
          "output_type": "stream",
          "name": "stderr",
          "text": [
            "<ipython-input-13-3a9a20ee965c>:1: SettingWithCopyWarning: \n",
            "A value is trying to be set on a copy of a slice from a DataFrame.\n",
            "Try using .loc[row_indexer,col_indexer] = value instead\n",
            "\n",
            "See the caveats in the documentation: https://pandas.pydata.org/pandas-docs/stable/user_guide/indexing.html#returning-a-view-versus-a-copy\n",
            "  df1_selected['standard_value'] = df1_selected['standard_value'].astype(float)\n"
          ]
        }
      ],
      "source": [
        "df1_selected['standard_value'] = df1_selected['standard_value'].astype(float)"
      ]
    },
    {
      "cell_type": "code",
      "execution_count": 14,
      "metadata": {
        "colab": {
          "base_uri": "https://localhost:8080/"
        },
        "id": "Cz3skoIsGwnx",
        "outputId": "0f2e5c13-1013-4da2-b686-d7385ed4dbb4"
      },
      "outputs": [
        {
          "output_type": "execute_result",
          "data": {
            "text/plain": [
              "dtype('float64')"
            ]
          },
          "metadata": {},
          "execution_count": 14
        }
      ],
      "source": [
        "df1_selected['standard_value'].dtype"
      ]
    },
    {
      "cell_type": "code",
      "execution_count": 15,
      "metadata": {
        "colab": {
          "base_uri": "https://localhost:8080/"
        },
        "id": "6KWIIbNHGyUY",
        "outputId": "9a08a3e7-4a1b-4a72-a991-7c439c782224"
      },
      "outputs": [
        {
          "output_type": "execute_result",
          "data": {
            "text/plain": [
              "0    100000.0\n",
              "1     12310.0\n",
              "2    100000.0\n",
              "Name: standard_value, dtype: float64"
            ]
          },
          "metadata": {},
          "execution_count": 15
        }
      ],
      "source": [
        "df1_selected['standard_value'].head(3)"
      ]
    },
    {
      "cell_type": "code",
      "execution_count": 16,
      "metadata": {
        "colab": {
          "base_uri": "https://localhost:8080/"
        },
        "id": "ikp-6_CYD__h",
        "outputId": "c5be72f5-b3b8-46cf-983c-b2528333217d"
      },
      "outputs": [
        {
          "output_type": "stream",
          "name": "stderr",
          "text": [
            "/usr/local/lib/python3.9/dist-packages/pandas/core/generic.py:6392: SettingWithCopyWarning: \n",
            "A value is trying to be set on a copy of a slice from a DataFrame\n",
            "\n",
            "See the caveats in the documentation: https://pandas.pydata.org/pandas-docs/stable/user_guide/indexing.html#returning-a-view-versus-a-copy\n",
            "  return self._update_inplace(result)\n"
          ]
        }
      ],
      "source": [
        "try:\n",
        "  df1_selected['standard_value'].fillna(df1_selected['standard_value'].mean(),inplace=True)\n",
        "except:\n",
        "  pass"
      ]
    },
    {
      "cell_type": "code",
      "execution_count": 17,
      "metadata": {
        "colab": {
          "base_uri": "https://localhost:8080/"
        },
        "id": "eNLa9BMlG7m-",
        "outputId": "17bc5003-0b49-4603-b2c0-97ad346bbe82"
      },
      "outputs": [
        {
          "output_type": "execute_result",
          "data": {
            "text/plain": [
              "canonical_smiles      0\n",
              "molecule_chembl_id    0\n",
              "standard_value        0\n",
              "dtype: int64"
            ]
          },
          "metadata": {},
          "execution_count": 17
        }
      ],
      "source": [
        "df1_selected.isnull().sum()"
      ]
    },
    {
      "cell_type": "code",
      "execution_count": 18,
      "metadata": {
        "colab": {
          "base_uri": "https://localhost:8080/"
        },
        "id": "rmqo_ox6kNMl",
        "outputId": "8b575319-0c12-4378-d071-444964d6deb7"
      },
      "outputs": [
        {
          "output_type": "execute_result",
          "data": {
            "text/plain": [
              "1230"
            ]
          },
          "metadata": {},
          "execution_count": 18
        }
      ],
      "source": [
        "len(df1_selected)"
      ]
    },
    {
      "cell_type": "code",
      "execution_count": 19,
      "metadata": {
        "id": "oNCK36zHHHTl"
      },
      "outputs": [],
      "source": [
        "def norm_val(data):\n",
        "  for i in data['standard_value']:\n",
        "    if i > 100000000:\n",
        "      data['standard_value'] = data['standard_value'].replace(i,100000000)\n",
        "  return data['standard_value']"
      ]
    },
    {
      "cell_type": "code",
      "execution_count": 20,
      "metadata": {
        "id": "6lH8Rv9cHHQv"
      },
      "outputs": [],
      "source": [
        "def convert_log(data):\n",
        "  pIC50 = []\n",
        "  for i in data['standard_value']:\n",
        "    data['standard_value'] = data['standard_value'].replace(i,-np.log10(i*(10**-9)))\n",
        "  return data['standard_value']"
      ]
    },
    {
      "cell_type": "code",
      "execution_count": 21,
      "metadata": {
        "colab": {
          "base_uri": "https://localhost:8080/",
          "height": 300
        },
        "id": "jsxKZUxyRW3A",
        "outputId": "b12d95d3-85b8-4cb3-ab7b-d58f83568231"
      },
      "outputs": [
        {
          "output_type": "execute_result",
          "data": {
            "text/plain": [
              "       standard_value\n",
              "count     1230.000000\n",
              "mean     47424.321519\n",
              "std      33161.085107\n",
              "min          6.000000\n",
              "25%      22302.500000\n",
              "50%      42535.000000\n",
              "75%      67952.500000\n",
              "max     432000.000000"
            ],
            "text/html": [
              "\n",
              "  <div id=\"df-245c6958-c77b-4df8-8f28-ea6191df0de0\">\n",
              "    <div class=\"colab-df-container\">\n",
              "      <div>\n",
              "<style scoped>\n",
              "    .dataframe tbody tr th:only-of-type {\n",
              "        vertical-align: middle;\n",
              "    }\n",
              "\n",
              "    .dataframe tbody tr th {\n",
              "        vertical-align: top;\n",
              "    }\n",
              "\n",
              "    .dataframe thead th {\n",
              "        text-align: right;\n",
              "    }\n",
              "</style>\n",
              "<table border=\"1\" class=\"dataframe\">\n",
              "  <thead>\n",
              "    <tr style=\"text-align: right;\">\n",
              "      <th></th>\n",
              "      <th>standard_value</th>\n",
              "    </tr>\n",
              "  </thead>\n",
              "  <tbody>\n",
              "    <tr>\n",
              "      <th>count</th>\n",
              "      <td>1230.000000</td>\n",
              "    </tr>\n",
              "    <tr>\n",
              "      <th>mean</th>\n",
              "      <td>47424.321519</td>\n",
              "    </tr>\n",
              "    <tr>\n",
              "      <th>std</th>\n",
              "      <td>33161.085107</td>\n",
              "    </tr>\n",
              "    <tr>\n",
              "      <th>min</th>\n",
              "      <td>6.000000</td>\n",
              "    </tr>\n",
              "    <tr>\n",
              "      <th>25%</th>\n",
              "      <td>22302.500000</td>\n",
              "    </tr>\n",
              "    <tr>\n",
              "      <th>50%</th>\n",
              "      <td>42535.000000</td>\n",
              "    </tr>\n",
              "    <tr>\n",
              "      <th>75%</th>\n",
              "      <td>67952.500000</td>\n",
              "    </tr>\n",
              "    <tr>\n",
              "      <th>max</th>\n",
              "      <td>432000.000000</td>\n",
              "    </tr>\n",
              "  </tbody>\n",
              "</table>\n",
              "</div>\n",
              "      <button class=\"colab-df-convert\" onclick=\"convertToInteractive('df-245c6958-c77b-4df8-8f28-ea6191df0de0')\"\n",
              "              title=\"Convert this dataframe to an interactive table.\"\n",
              "              style=\"display:none;\">\n",
              "        \n",
              "  <svg xmlns=\"http://www.w3.org/2000/svg\" height=\"24px\"viewBox=\"0 0 24 24\"\n",
              "       width=\"24px\">\n",
              "    <path d=\"M0 0h24v24H0V0z\" fill=\"none\"/>\n",
              "    <path d=\"M18.56 5.44l.94 2.06.94-2.06 2.06-.94-2.06-.94-.94-2.06-.94 2.06-2.06.94zm-11 1L8.5 8.5l.94-2.06 2.06-.94-2.06-.94L8.5 2.5l-.94 2.06-2.06.94zm10 10l.94 2.06.94-2.06 2.06-.94-2.06-.94-.94-2.06-.94 2.06-2.06.94z\"/><path d=\"M17.41 7.96l-1.37-1.37c-.4-.4-.92-.59-1.43-.59-.52 0-1.04.2-1.43.59L10.3 9.45l-7.72 7.72c-.78.78-.78 2.05 0 2.83L4 21.41c.39.39.9.59 1.41.59.51 0 1.02-.2 1.41-.59l7.78-7.78 2.81-2.81c.8-.78.8-2.07 0-2.86zM5.41 20L4 18.59l7.72-7.72 1.47 1.35L5.41 20z\"/>\n",
              "  </svg>\n",
              "      </button>\n",
              "      \n",
              "  <style>\n",
              "    .colab-df-container {\n",
              "      display:flex;\n",
              "      flex-wrap:wrap;\n",
              "      gap: 12px;\n",
              "    }\n",
              "\n",
              "    .colab-df-convert {\n",
              "      background-color: #E8F0FE;\n",
              "      border: none;\n",
              "      border-radius: 50%;\n",
              "      cursor: pointer;\n",
              "      display: none;\n",
              "      fill: #1967D2;\n",
              "      height: 32px;\n",
              "      padding: 0 0 0 0;\n",
              "      width: 32px;\n",
              "    }\n",
              "\n",
              "    .colab-df-convert:hover {\n",
              "      background-color: #E2EBFA;\n",
              "      box-shadow: 0px 1px 2px rgba(60, 64, 67, 0.3), 0px 1px 3px 1px rgba(60, 64, 67, 0.15);\n",
              "      fill: #174EA6;\n",
              "    }\n",
              "\n",
              "    [theme=dark] .colab-df-convert {\n",
              "      background-color: #3B4455;\n",
              "      fill: #D2E3FC;\n",
              "    }\n",
              "\n",
              "    [theme=dark] .colab-df-convert:hover {\n",
              "      background-color: #434B5C;\n",
              "      box-shadow: 0px 1px 3px 1px rgba(0, 0, 0, 0.15);\n",
              "      filter: drop-shadow(0px 1px 2px rgba(0, 0, 0, 0.3));\n",
              "      fill: #FFFFFF;\n",
              "    }\n",
              "  </style>\n",
              "\n",
              "      <script>\n",
              "        const buttonEl =\n",
              "          document.querySelector('#df-245c6958-c77b-4df8-8f28-ea6191df0de0 button.colab-df-convert');\n",
              "        buttonEl.style.display =\n",
              "          google.colab.kernel.accessAllowed ? 'block' : 'none';\n",
              "\n",
              "        async function convertToInteractive(key) {\n",
              "          const element = document.querySelector('#df-245c6958-c77b-4df8-8f28-ea6191df0de0');\n",
              "          const dataTable =\n",
              "            await google.colab.kernel.invokeFunction('convertToInteractive',\n",
              "                                                     [key], {});\n",
              "          if (!dataTable) return;\n",
              "\n",
              "          const docLinkHtml = 'Like what you see? Visit the ' +\n",
              "            '<a target=\"_blank\" href=https://colab.research.google.com/notebooks/data_table.ipynb>data table notebook</a>'\n",
              "            + ' to learn more about interactive tables.';\n",
              "          element.innerHTML = '';\n",
              "          dataTable['output_type'] = 'display_data';\n",
              "          await google.colab.output.renderOutput(dataTable, element);\n",
              "          const docLink = document.createElement('div');\n",
              "          docLink.innerHTML = docLinkHtml;\n",
              "          element.appendChild(docLink);\n",
              "        }\n",
              "      </script>\n",
              "    </div>\n",
              "  </div>\n",
              "  "
            ]
          },
          "metadata": {},
          "execution_count": 21
        }
      ],
      "source": [
        "df1_selected.describe()"
      ]
    },
    {
      "cell_type": "code",
      "execution_count": 22,
      "metadata": {
        "id": "LHWkqZ7xRXgV",
        "colab": {
          "base_uri": "https://localhost:8080/"
        },
        "outputId": "cc561828-e7d4-41c2-921e-ef6a374ac904"
      },
      "outputs": [
        {
          "output_type": "stream",
          "name": "stderr",
          "text": [
            "<ipython-input-22-1651fe78b754>:1: SettingWithCopyWarning: \n",
            "A value is trying to be set on a copy of a slice from a DataFrame.\n",
            "Try using .loc[row_indexer,col_indexer] = value instead\n",
            "\n",
            "See the caveats in the documentation: https://pandas.pydata.org/pandas-docs/stable/user_guide/indexing.html#returning-a-view-versus-a-copy\n",
            "  df1_selected['standard_value'] = norm_val(df1_selected)\n"
          ]
        }
      ],
      "source": [
        "df1_selected['standard_value'] = norm_val(df1_selected)"
      ]
    },
    {
      "cell_type": "code",
      "execution_count": 23,
      "metadata": {
        "id": "0l4eQ2d0RW5r",
        "colab": {
          "base_uri": "https://localhost:8080/"
        },
        "outputId": "41bf2e94-add2-4b3a-e8a2-d2f9c5d519bd"
      },
      "outputs": [
        {
          "output_type": "stream",
          "name": "stderr",
          "text": [
            "<ipython-input-20-31a96a23224e>:4: SettingWithCopyWarning: \n",
            "A value is trying to be set on a copy of a slice from a DataFrame.\n",
            "Try using .loc[row_indexer,col_indexer] = value instead\n",
            "\n",
            "See the caveats in the documentation: https://pandas.pydata.org/pandas-docs/stable/user_guide/indexing.html#returning-a-view-versus-a-copy\n",
            "  data['standard_value'] = data['standard_value'].replace(i,-np.log10(i*(10**-9)))\n",
            "<ipython-input-23-dc51576c3f0d>:1: SettingWithCopyWarning: \n",
            "A value is trying to be set on a copy of a slice from a DataFrame.\n",
            "Try using .loc[row_indexer,col_indexer] = value instead\n",
            "\n",
            "See the caveats in the documentation: https://pandas.pydata.org/pandas-docs/stable/user_guide/indexing.html#returning-a-view-versus-a-copy\n",
            "  df1_selected['standard_value'] = convert_log(df1_selected)\n"
          ]
        }
      ],
      "source": [
        "df1_selected['standard_value'] = convert_log(df1_selected)"
      ]
    },
    {
      "cell_type": "code",
      "execution_count": 24,
      "metadata": {
        "colab": {
          "base_uri": "https://localhost:8080/"
        },
        "id": "PhE3hhyaSWtK",
        "outputId": "3c8f707c-d68c-4f70-f3a1-d61f41179053"
      },
      "outputs": [
        {
          "output_type": "execute_result",
          "data": {
            "text/plain": [
              "0    8.091947\n",
              "1    4.909742\n",
              "2    8.091947\n",
              "3    4.292685\n",
              "4    8.091947\n",
              "Name: standard_value, dtype: float64"
            ]
          },
          "metadata": {},
          "execution_count": 24
        }
      ],
      "source": [
        "df1_selected['standard_value'].head()"
      ]
    },
    {
      "cell_type": "code",
      "execution_count": 25,
      "metadata": {
        "colab": {
          "base_uri": "https://localhost:8080/"
        },
        "id": "kiJ3cXvQTPeO",
        "outputId": "8e3cd8d0-1151-4bd0-98a9-6d6aeb3f9aaf"
      },
      "outputs": [
        {
          "output_type": "execute_result",
          "data": {
            "text/plain": [
              "canonical_smiles      0\n",
              "molecule_chembl_id    0\n",
              "standard_value        0\n",
              "dtype: int64"
            ]
          },
          "metadata": {},
          "execution_count": 25
        }
      ],
      "source": [
        "df1_selected.isnull().sum()"
      ]
    },
    {
      "cell_type": "code",
      "execution_count": 26,
      "metadata": {
        "id": "HEca_Uxkkg5M",
        "colab": {
          "base_uri": "https://localhost:8080/"
        },
        "outputId": "8d1e7b3c-a564-42ae-a684-617fdee3560a"
      },
      "outputs": [
        {
          "output_type": "stream",
          "name": "stderr",
          "text": [
            "/usr/local/lib/python3.9/dist-packages/pandas/core/frame.py:5238: SettingWithCopyWarning: \n",
            "A value is trying to be set on a copy of a slice from a DataFrame\n",
            "\n",
            "See the caveats in the documentation: https://pandas.pydata.org/pandas-docs/stable/user_guide/indexing.html#returning-a-view-versus-a-copy\n",
            "  return super().replace(\n",
            "/usr/local/lib/python3.9/dist-packages/pandas/core/generic.py:6392: SettingWithCopyWarning: \n",
            "A value is trying to be set on a copy of a slice from a DataFrame\n",
            "\n",
            "See the caveats in the documentation: https://pandas.pydata.org/pandas-docs/stable/user_guide/indexing.html#returning-a-view-versus-a-copy\n",
            "  return self._update_inplace(result)\n"
          ]
        }
      ],
      "source": [
        "try:\n",
        "  df1_selected.replace([np.inf, -np.inf], np.nan, inplace=True)\n",
        "  df1_selected['standard_value'].fillna(df1_selected['standard_value'].mean(),inplace=True)\n",
        "except:\n",
        "  pass"
      ]
    },
    {
      "cell_type": "markdown",
      "metadata": {
        "id": "YNL0IyQJTh95"
      },
      "source": [
        "### Creating labels and features"
      ]
    },
    {
      "cell_type": "code",
      "execution_count": 27,
      "metadata": {
        "id": "j_oJwzK5q-zR"
      },
      "outputs": [],
      "source": [
        "df1_x = df1_selected.drop(columns=['standard_value'],axis=1)\n",
        "df1_y = df1_selected['standard_value']"
      ]
    },
    {
      "cell_type": "code",
      "execution_count": 28,
      "metadata": {
        "colab": {
          "base_uri": "https://localhost:8080/"
        },
        "id": "Y0Ppqidir2Ep",
        "outputId": "16cae9bc-8a31-4366-966d-eedebdddc3d3"
      },
      "outputs": [
        {
          "output_type": "execute_result",
          "data": {
            "text/plain": [
              "(1230, 1230)"
            ]
          },
          "metadata": {},
          "execution_count": 28
        }
      ],
      "source": [
        "len(df1_x),len(df1_y)"
      ]
    },
    {
      "cell_type": "code",
      "execution_count": 29,
      "metadata": {
        "id": "kEWmxdkLr5Eq"
      },
      "outputs": [],
      "source": [
        "df1_x.to_csv('molecule.smi', sep='\\t', index=False, header=False)\n",
        "df1_y.to_csv('dengue_labels.csv',index=False)"
      ]
    },
    {
      "cell_type": "markdown",
      "metadata": {
        "id": "rgzVpVFwUBOc"
      },
      "source": [
        "### A quick look at files"
      ]
    },
    {
      "cell_type": "code",
      "execution_count": 30,
      "metadata": {
        "colab": {
          "base_uri": "https://localhost:8080/"
        },
        "id": "lI8wYt4tTzGo",
        "outputId": "5ce832df-7fcf-4fdf-b270-32c279fde07c"
      },
      "outputs": [
        {
          "output_type": "stream",
          "name": "stdout",
          "text": [
            "dengue_labels.csv  molecule.smi  sample_data\n"
          ]
        }
      ],
      "source": [
        "! ls"
      ]
    },
    {
      "cell_type": "code",
      "execution_count": 31,
      "metadata": {
        "colab": {
          "base_uri": "https://localhost:8080/"
        },
        "id": "8KoTNDIYT2hq",
        "outputId": "a17f8dd1-ae54-412a-eaf5-53f31cb45860"
      },
      "outputs": [
        {
          "output_type": "stream",
          "name": "stdout",
          "text": [
            "COc1ccc2nc3cccc(OC)c3nc2c1\tCHEMBL1401841\n",
            "O=C(O)c1ccc2c(c1)C(=O)/C(=C\\c1ccco1)C2=O\tCHEMBL1608853\n",
            "O=C1NN(c2ccccc2)C(=O)/C1=C\\c1ccccc1OCC(=O)N1CCOCC1\tCHEMBL1429799\n",
            "O=C(O)c1ccc2nc(-c3ccco3)c(-c3ccco3)nc2c1\tCHEMBL246446\n",
            "CCn1nc([N+](=O)[O-])c(C(C#N)c2nc3ccccc3n2C)c(Cl)c1=O\tCHEMBL1383455\n"
          ]
        }
      ],
      "source": [
        "! cat molecule.smi | head -5"
      ]
    },
    {
      "cell_type": "markdown",
      "metadata": {
        "id": "YX13O8GaUFvl"
      },
      "source": [
        "### Using padel Descriptor to break it into dataset form"
      ]
    },
    {
      "cell_type": "code",
      "execution_count": 32,
      "metadata": {
        "colab": {
          "base_uri": "https://localhost:8080/"
        },
        "id": "imDEI2vhUgGt",
        "outputId": "298f0eec-216d-4299-80ae-8f6a793d575a"
      },
      "outputs": [
        {
          "output_type": "stream",
          "name": "stdout",
          "text": [
            "--2023-03-09 15:56:41--  https://github.com/dataprofessor/bioinformatics/raw/master/padel.zip\n",
            "Resolving github.com (github.com)... 140.82.113.4\n",
            "Connecting to github.com (github.com)|140.82.113.4|:443... connected.\n",
            "HTTP request sent, awaiting response... 302 Found\n",
            "Location: https://raw.githubusercontent.com/dataprofessor/bioinformatics/master/padel.zip [following]\n",
            "--2023-03-09 15:56:42--  https://raw.githubusercontent.com/dataprofessor/bioinformatics/master/padel.zip\n",
            "Resolving raw.githubusercontent.com (raw.githubusercontent.com)... 185.199.110.133, 185.199.109.133, 185.199.108.133, ...\n",
            "Connecting to raw.githubusercontent.com (raw.githubusercontent.com)|185.199.110.133|:443... connected.\n",
            "HTTP request sent, awaiting response... 200 OK\n",
            "Length: 25768637 (25M) [application/zip]\n",
            "Saving to: ‘padel.zip’\n",
            "\n",
            "padel.zip           100%[===================>]  24.57M   153MB/s    in 0.2s    \n",
            "\n",
            "2023-03-09 15:56:42 (153 MB/s) - ‘padel.zip’ saved [25768637/25768637]\n",
            "\n",
            "--2023-03-09 15:56:42--  https://github.com/dataprofessor/bioinformatics/raw/master/padel.sh\n",
            "Resolving github.com (github.com)... 140.82.113.3\n",
            "Connecting to github.com (github.com)|140.82.113.3|:443... connected.\n",
            "HTTP request sent, awaiting response... 302 Found\n",
            "Location: https://raw.githubusercontent.com/dataprofessor/bioinformatics/master/padel.sh [following]\n",
            "--2023-03-09 15:56:42--  https://raw.githubusercontent.com/dataprofessor/bioinformatics/master/padel.sh\n",
            "Resolving raw.githubusercontent.com (raw.githubusercontent.com)... 185.199.110.133, 185.199.111.133, 185.199.109.133, ...\n",
            "Connecting to raw.githubusercontent.com (raw.githubusercontent.com)|185.199.110.133|:443... connected.\n",
            "HTTP request sent, awaiting response... 200 OK\n",
            "Length: 231 [text/plain]\n",
            "Saving to: ‘padel.sh’\n",
            "\n",
            "padel.sh            100%[===================>]     231  --.-KB/s    in 0s      \n",
            "\n",
            "2023-03-09 15:56:42 (3.47 MB/s) - ‘padel.sh’ saved [231/231]\n",
            "\n"
          ]
        }
      ],
      "source": [
        "\n",
        "! wget https://github.com/dataprofessor/bioinformatics/raw/master/padel.zip\n",
        "! wget https://github.com/dataprofessor/bioinformatics/raw/master/padel.sh"
      ]
    },
    {
      "cell_type": "code",
      "execution_count": 33,
      "metadata": {
        "colab": {
          "base_uri": "https://localhost:8080/"
        },
        "id": "ZXCzERzIUhQ_",
        "outputId": "818cd780-110c-48e4-dd8b-ce6d17e96cd9"
      },
      "outputs": [
        {
          "output_type": "stream",
          "name": "stdout",
          "text": [
            "Archive:  padel.zip\n",
            "   creating: PaDEL-Descriptor/\n",
            "  inflating: __MACOSX/._PaDEL-Descriptor  \n",
            "  inflating: PaDEL-Descriptor/MACCSFingerprinter.xml  \n",
            "  inflating: __MACOSX/PaDEL-Descriptor/._MACCSFingerprinter.xml  \n",
            "  inflating: PaDEL-Descriptor/AtomPairs2DFingerprinter.xml  \n",
            "  inflating: __MACOSX/PaDEL-Descriptor/._AtomPairs2DFingerprinter.xml  \n",
            "  inflating: PaDEL-Descriptor/EStateFingerprinter.xml  \n",
            "  inflating: __MACOSX/PaDEL-Descriptor/._EStateFingerprinter.xml  \n",
            "  inflating: PaDEL-Descriptor/Fingerprinter.xml  \n",
            "  inflating: __MACOSX/PaDEL-Descriptor/._Fingerprinter.xml  \n",
            "  inflating: PaDEL-Descriptor/.DS_Store  \n",
            "  inflating: __MACOSX/PaDEL-Descriptor/._.DS_Store  \n",
            "   creating: PaDEL-Descriptor/license/\n",
            "  inflating: __MACOSX/PaDEL-Descriptor/._license  \n",
            "  inflating: PaDEL-Descriptor/KlekotaRothFingerprintCount.xml  \n",
            "  inflating: __MACOSX/PaDEL-Descriptor/._KlekotaRothFingerprintCount.xml  \n",
            "  inflating: PaDEL-Descriptor/config  \n",
            "  inflating: __MACOSX/PaDEL-Descriptor/._config  \n",
            "  inflating: PaDEL-Descriptor/PubchemFingerprinter.xml  \n",
            "  inflating: __MACOSX/PaDEL-Descriptor/._PubchemFingerprinter.xml  \n",
            "  inflating: PaDEL-Descriptor/ExtendedFingerprinter.xml  \n",
            "  inflating: __MACOSX/PaDEL-Descriptor/._ExtendedFingerprinter.xml  \n",
            "  inflating: PaDEL-Descriptor/KlekotaRothFingerprinter.xml  \n",
            "  inflating: __MACOSX/PaDEL-Descriptor/._KlekotaRothFingerprinter.xml  \n",
            "  inflating: PaDEL-Descriptor/GraphOnlyFingerprinter.xml  \n",
            "  inflating: __MACOSX/PaDEL-Descriptor/._GraphOnlyFingerprinter.xml  \n",
            "  inflating: PaDEL-Descriptor/SubstructureFingerprinter.xml  \n",
            "  inflating: __MACOSX/PaDEL-Descriptor/._SubstructureFingerprinter.xml  \n",
            "  inflating: PaDEL-Descriptor/Descriptors.xls  \n",
            "  inflating: __MACOSX/PaDEL-Descriptor/._Descriptors.xls  \n",
            "   creating: PaDEL-Descriptor/lib/\n",
            "  inflating: __MACOSX/PaDEL-Descriptor/._lib  \n",
            "  inflating: PaDEL-Descriptor/PaDEL-Descriptor.jar  \n",
            "  inflating: __MACOSX/PaDEL-Descriptor/._PaDEL-Descriptor.jar  \n",
            "  inflating: PaDEL-Descriptor/SubstructureFingerprintCount.xml  \n",
            "  inflating: __MACOSX/PaDEL-Descriptor/._SubstructureFingerprintCount.xml  \n",
            "  inflating: PaDEL-Descriptor/AtomPairs2DFingerprintCount.xml  \n",
            "  inflating: __MACOSX/PaDEL-Descriptor/._AtomPairs2DFingerprintCount.xml  \n",
            "  inflating: PaDEL-Descriptor/descriptors.xml  \n",
            "  inflating: __MACOSX/PaDEL-Descriptor/._descriptors.xml  \n",
            "  inflating: PaDEL-Descriptor/license/lgpl-2.1.txt  \n",
            "  inflating: __MACOSX/PaDEL-Descriptor/license/._lgpl-2.1.txt  \n",
            "  inflating: PaDEL-Descriptor/license/LICENSE.txt  \n",
            "  inflating: __MACOSX/PaDEL-Descriptor/license/._LICENSE.txt  \n",
            "  inflating: PaDEL-Descriptor/license/README - CDK  \n",
            "  inflating: __MACOSX/PaDEL-Descriptor/license/._README - CDK  \n",
            "  inflating: PaDEL-Descriptor/license/lgpl.license  \n",
            "  inflating: __MACOSX/PaDEL-Descriptor/license/._lgpl.license  \n",
            "  inflating: PaDEL-Descriptor/lib/ambit2-core-2.4.7-SNAPSHOT(3).jar  \n",
            "  inflating: __MACOSX/PaDEL-Descriptor/lib/._ambit2-core-2.4.7-SNAPSHOT(3).jar  \n",
            "  inflating: PaDEL-Descriptor/lib/libPaDEL-Jobs(6).jar  \n",
            "  inflating: __MACOSX/PaDEL-Descriptor/lib/._libPaDEL-Jobs(6).jar  \n",
            "  inflating: PaDEL-Descriptor/lib/libPaDEL.jar  \n",
            "  inflating: __MACOSX/PaDEL-Descriptor/lib/._libPaDEL.jar  \n",
            "  inflating: PaDEL-Descriptor/lib/jgrapht-0.6.0(4).jar  \n",
            "  inflating: __MACOSX/PaDEL-Descriptor/lib/._jgrapht-0.6.0(4).jar  \n",
            "  inflating: PaDEL-Descriptor/lib/commons-cli-1.2(2).jar  \n",
            "  inflating: __MACOSX/PaDEL-Descriptor/lib/._commons-cli-1.2(2).jar  \n",
            "  inflating: PaDEL-Descriptor/lib/xom-1.1(1).jar  \n",
            "  inflating: __MACOSX/PaDEL-Descriptor/lib/._xom-1.1(1).jar  \n",
            "  inflating: PaDEL-Descriptor/lib/swing-worker-1.1.jar  \n",
            "  inflating: __MACOSX/PaDEL-Descriptor/lib/._swing-worker-1.1.jar  \n",
            "  inflating: PaDEL-Descriptor/lib/commons-cli-1.2(3).jar  \n",
            "  inflating: __MACOSX/PaDEL-Descriptor/lib/._commons-cli-1.2(3).jar  \n",
            "  inflating: PaDEL-Descriptor/lib/jgrapht-0.6.0(5).jar  \n",
            "  inflating: __MACOSX/PaDEL-Descriptor/lib/._jgrapht-0.6.0(5).jar  \n",
            "  inflating: PaDEL-Descriptor/lib/jama(1).jar  \n",
            "  inflating: __MACOSX/PaDEL-Descriptor/lib/._jama(1).jar  \n",
            "  inflating: PaDEL-Descriptor/lib/appframework-1.0.3.jar  \n",
            "  inflating: __MACOSX/PaDEL-Descriptor/lib/._appframework-1.0.3.jar  \n",
            "  inflating: PaDEL-Descriptor/lib/libPaDEL-Jobs(7).jar  \n",
            "  inflating: __MACOSX/PaDEL-Descriptor/lib/._libPaDEL-Jobs(7).jar  \n",
            "  inflating: PaDEL-Descriptor/lib/vecmath1.2-1.14.jar  \n",
            "  inflating: __MACOSX/PaDEL-Descriptor/lib/._vecmath1.2-1.14.jar  \n",
            "  inflating: PaDEL-Descriptor/lib/ambit2-smarts-2.4.7-SNAPSHOT(6).jar  \n",
            "  inflating: __MACOSX/PaDEL-Descriptor/lib/._ambit2-smarts-2.4.7-SNAPSHOT(6).jar  \n",
            "  inflating: PaDEL-Descriptor/lib/ambit2-core-2.4.7-SNAPSHOT(2).jar  \n",
            "  inflating: __MACOSX/PaDEL-Descriptor/lib/._ambit2-core-2.4.7-SNAPSHOT(2).jar  \n",
            "  inflating: PaDEL-Descriptor/lib/jama(6).jar  \n",
            "  inflating: __MACOSX/PaDEL-Descriptor/lib/._jama(6).jar  \n",
            "  inflating: PaDEL-Descriptor/lib/jgrapht-0.6.0(2).jar  \n",
            "  inflating: __MACOSX/PaDEL-Descriptor/lib/._jgrapht-0.6.0(2).jar  \n",
            "  inflating: PaDEL-Descriptor/lib/libPaDEL-Descriptor(3).jar  \n",
            "  inflating: __MACOSX/PaDEL-Descriptor/lib/._libPaDEL-Descriptor(3).jar  \n",
            "  inflating: PaDEL-Descriptor/lib/commons-cli-1.2(4).jar  \n",
            "  inflating: __MACOSX/PaDEL-Descriptor/lib/._commons-cli-1.2(4).jar  \n",
            "  inflating: PaDEL-Descriptor/lib/ambit2-base-2.4.7-SNAPSHOT.jar  \n",
            "  inflating: __MACOSX/PaDEL-Descriptor/lib/._ambit2-base-2.4.7-SNAPSHOT.jar  \n",
            "  inflating: PaDEL-Descriptor/lib/ambit2-smarts-2.4.7-SNAPSHOT(1).jar  \n",
            "  inflating: __MACOSX/PaDEL-Descriptor/lib/._ambit2-smarts-2.4.7-SNAPSHOT(1).jar  \n",
            "  inflating: PaDEL-Descriptor/lib/commons-cli-1.2.jar  \n",
            "  inflating: __MACOSX/PaDEL-Descriptor/lib/._commons-cli-1.2.jar  \n",
            "  inflating: PaDEL-Descriptor/lib/commons-cli-1.2(8).jar  \n",
            "  inflating: __MACOSX/PaDEL-Descriptor/lib/._commons-cli-1.2(8).jar  \n",
            "  inflating: PaDEL-Descriptor/lib/jgrapht-0.6.0.jar  \n",
            "  inflating: __MACOSX/PaDEL-Descriptor/lib/._jgrapht-0.6.0.jar  \n",
            "  inflating: PaDEL-Descriptor/lib/libPaDEL-Jobs(1).jar  \n",
            "  inflating: __MACOSX/PaDEL-Descriptor/lib/._libPaDEL-Jobs(1).jar  \n",
            "  inflating: PaDEL-Descriptor/lib/libPaDEL-Jobs.jar  \n",
            "  inflating: __MACOSX/PaDEL-Descriptor/lib/._libPaDEL-Jobs.jar  \n",
            "  inflating: PaDEL-Descriptor/lib/ambit2-core-2.4.7-SNAPSHOT(4).jar  \n",
            "  inflating: __MACOSX/PaDEL-Descriptor/lib/._ambit2-core-2.4.7-SNAPSHOT(4).jar  \n",
            "  inflating: PaDEL-Descriptor/lib/xom-1.1.jar  \n",
            "  inflating: __MACOSX/PaDEL-Descriptor/lib/._xom-1.1.jar  \n",
            "  inflating: PaDEL-Descriptor/lib/commons-cli-1.2(5).jar  \n",
            "  inflating: __MACOSX/PaDEL-Descriptor/lib/._commons-cli-1.2(5).jar  \n",
            "  inflating: PaDEL-Descriptor/lib/libPaDEL-Descriptor(2).jar  \n",
            "  inflating: __MACOSX/PaDEL-Descriptor/lib/._libPaDEL-Descriptor(2).jar  \n",
            "  inflating: PaDEL-Descriptor/lib/jgrapht-0.6.0(3).jar  \n",
            "  inflating: __MACOSX/PaDEL-Descriptor/lib/._jgrapht-0.6.0(3).jar  \n",
            "  inflating: PaDEL-Descriptor/lib/jama(7).jar  \n",
            "  inflating: __MACOSX/PaDEL-Descriptor/lib/._jama(7).jar  \n",
            "  inflating: PaDEL-Descriptor/lib/ambit2-core-2.4.7-SNAPSHOT.jar  \n",
            "  inflating: __MACOSX/PaDEL-Descriptor/lib/._ambit2-core-2.4.7-SNAPSHOT.jar  \n",
            "  inflating: PaDEL-Descriptor/lib/commons-cli-1.2(6).jar  \n",
            "  inflating: __MACOSX/PaDEL-Descriptor/lib/._commons-cli-1.2(6).jar  \n",
            "  inflating: PaDEL-Descriptor/lib/libPaDEL-Descriptor(1).jar  \n",
            "  inflating: __MACOSX/PaDEL-Descriptor/lib/._libPaDEL-Descriptor(1).jar  \n",
            "  inflating: PaDEL-Descriptor/lib/jama(4).jar  \n",
            "  inflating: __MACOSX/PaDEL-Descriptor/lib/._jama(4).jar  \n",
            "  inflating: PaDEL-Descriptor/lib/libPaDEL-Jobs(2).jar  \n",
            "  inflating: __MACOSX/PaDEL-Descriptor/lib/._libPaDEL-Jobs(2).jar  \n",
            "  inflating: PaDEL-Descriptor/lib/ambit2-smarts-2.4.7-SNAPSHOT(3).jar  \n",
            "  inflating: __MACOSX/PaDEL-Descriptor/lib/._ambit2-smarts-2.4.7-SNAPSHOT(3).jar  \n",
            "  inflating: PaDEL-Descriptor/lib/ambit2-smarts-2.4.7-SNAPSHOT(2).jar  \n",
            "  inflating: __MACOSX/PaDEL-Descriptor/lib/._ambit2-smarts-2.4.7-SNAPSHOT(2).jar  \n",
            "  inflating: PaDEL-Descriptor/lib/ambit2-smarts-2.4.7-SNAPSHOT.jar  \n",
            "  inflating: __MACOSX/PaDEL-Descriptor/lib/._ambit2-smarts-2.4.7-SNAPSHOT.jar  \n",
            "  inflating: PaDEL-Descriptor/lib/libPaDEL-Jobs(3).jar  \n",
            "  inflating: __MACOSX/PaDEL-Descriptor/lib/._libPaDEL-Jobs(3).jar  \n",
            "  inflating: PaDEL-Descriptor/lib/l2fprod-common-all(1).jar  \n",
            "  inflating: __MACOSX/PaDEL-Descriptor/lib/._l2fprod-common-all(1).jar  \n",
            "  inflating: PaDEL-Descriptor/lib/jama.jar  \n",
            "  inflating: __MACOSX/PaDEL-Descriptor/lib/._jama.jar  \n",
            "  inflating: PaDEL-Descriptor/lib/l2fprod-common-all.jar  \n",
            "  inflating: __MACOSX/PaDEL-Descriptor/lib/._l2fprod-common-all.jar  \n",
            "  inflating: PaDEL-Descriptor/lib/jama(5).jar  \n",
            "  inflating: __MACOSX/PaDEL-Descriptor/lib/._jama(5).jar  \n",
            "  inflating: PaDEL-Descriptor/lib/jgrapht-0.6.0(1).jar  \n",
            "  inflating: __MACOSX/PaDEL-Descriptor/lib/._jgrapht-0.6.0(1).jar  \n",
            "  inflating: PaDEL-Descriptor/lib/commons-cli-1.2(7).jar  \n",
            "  inflating: __MACOSX/PaDEL-Descriptor/lib/._commons-cli-1.2(7).jar  \n",
            "  inflating: PaDEL-Descriptor/lib/libPaDEL-Descriptor.jar  \n",
            "  inflating: __MACOSX/PaDEL-Descriptor/lib/._libPaDEL-Descriptor.jar  \n",
            "  inflating: PaDEL-Descriptor/lib/libPaDEL-Jobs(4).jar  \n",
            "  inflating: __MACOSX/PaDEL-Descriptor/lib/._libPaDEL-Jobs(4).jar  \n",
            "  inflating: PaDEL-Descriptor/lib/cdk-1.4.15.jar  \n",
            "  inflating: __MACOSX/PaDEL-Descriptor/lib/._cdk-1.4.15.jar  \n",
            "  inflating: PaDEL-Descriptor/lib/ambit2-smarts-2.4.7-SNAPSHOT(5).jar  \n",
            "  inflating: __MACOSX/PaDEL-Descriptor/lib/._ambit2-smarts-2.4.7-SNAPSHOT(5).jar  \n",
            "  inflating: PaDEL-Descriptor/lib/ambit2-core-2.4.7-SNAPSHOT(1).jar  \n",
            "  inflating: __MACOSX/PaDEL-Descriptor/lib/._ambit2-core-2.4.7-SNAPSHOT(1).jar  \n",
            "  inflating: PaDEL-Descriptor/lib/libPaDEL-Jobs(8).jar  \n",
            "  inflating: __MACOSX/PaDEL-Descriptor/lib/._libPaDEL-Jobs(8).jar  \n",
            "  inflating: PaDEL-Descriptor/lib/jgrapht-0.6.0(6).jar  \n",
            "  inflating: __MACOSX/PaDEL-Descriptor/lib/._jgrapht-0.6.0(6).jar  \n",
            "  inflating: PaDEL-Descriptor/lib/jama(2).jar  \n",
            "  inflating: __MACOSX/PaDEL-Descriptor/lib/._jama(2).jar  \n",
            "  inflating: PaDEL-Descriptor/lib/jama(3).jar  \n",
            "  inflating: __MACOSX/PaDEL-Descriptor/lib/._jama(3).jar  \n",
            "  inflating: PaDEL-Descriptor/lib/commons-cli-1.2(1).jar  \n",
            "  inflating: __MACOSX/PaDEL-Descriptor/lib/._commons-cli-1.2(1).jar  \n",
            "  inflating: PaDEL-Descriptor/lib/guava-17.0.jar  \n",
            "  inflating: __MACOSX/PaDEL-Descriptor/lib/._guava-17.0.jar  \n",
            "  inflating: PaDEL-Descriptor/lib/ambit2-smarts-2.4.7-SNAPSHOT(4).jar  \n",
            "  inflating: __MACOSX/PaDEL-Descriptor/lib/._ambit2-smarts-2.4.7-SNAPSHOT(4).jar  \n",
            "  inflating: PaDEL-Descriptor/lib/libPaDEL-Jobs(5).jar  \n",
            "  inflating: __MACOSX/PaDEL-Descriptor/lib/._libPaDEL-Jobs(5).jar  \n"
          ]
        }
      ],
      "source": [
        "! unzip padel.zip"
      ]
    },
    {
      "cell_type": "code",
      "execution_count": 34,
      "metadata": {
        "id": "1YeimCamshFR",
        "colab": {
          "base_uri": "https://localhost:8080/"
        },
        "outputId": "26adb27b-fb29-40e7-af28-f2f6de3bcdcf"
      },
      "outputs": [
        {
          "output_type": "stream",
          "name": "stdout",
          "text": [
            "Processing CHEMBL1608853 in molecule.smi (2/1230). \n",
            "Processing CHEMBL1401841 in molecule.smi (1/1230). \n",
            "Processing CHEMBL246446 in molecule.smi (4/1230). Average speed: 2.22 s/mol.\n",
            "Processing CHEMBL1429799 in molecule.smi (3/1230). Average speed: 3.94 s/mol.\n",
            "Processing CHEMBL1485159 in molecule.smi (6/1230). Average speed: 1.77 s/mol.\n",
            "Processing CHEMBL1383455 in molecule.smi (5/1230). Average speed: 2.29 s/mol.\n",
            "Processing CHEMBL1730401 in molecule.smi (8/1230). Average speed: 1.37 s/mol.\n",
            "Processing CHEMBL1383611 in molecule.smi (7/1230). Average speed: 1.54 s/mol.\n",
            "Processing CHEMBL1440986 in molecule.smi (9/1230). Average speed: 1.22 s/mol.\n",
            "Processing CHEMBL3194058 in molecule.smi (10/1230). Average speed: 1.13 s/mol.\n",
            "Processing CHEMBL66953 in molecule.smi (11/1230). Average speed: 1.10 s/mol.\n",
            "Processing CHEMBL3194143 in molecule.smi (13/1230). Average speed: 0.94 s/mol.\n",
            "Processing CHEMBL1586109 in molecule.smi (12/1230). Average speed: 0.99 s/mol.\n",
            "Processing CHEMBL1318358 in molecule.smi (14/1230). Average speed: 0.90 s/mol.\n",
            "Processing CHEMBL173530 in molecule.smi (16/1230). Average speed: 0.90 s/mol.\n",
            "Processing CHEMBL1373390 in molecule.smi (15/1230). Average speed: 0.98 s/mol.\n",
            "Processing CHEMBL1310601 in molecule.smi (17/1230). Average speed: 0.84 s/mol.\n",
            "Processing CHEMBL305978 in molecule.smi (18/1230). Average speed: 0.81 s/mol.\n",
            "Processing CHEMBL1730252 in molecule.smi (19/1230). Average speed: 0.76 s/mol.\n",
            "Processing CHEMBL1492106 in molecule.smi (20/1230). Average speed: 0.75 s/mol.\n",
            "Processing CHEMBL1877709 in molecule.smi (21/1230). Average speed: 0.72 s/mol.\n",
            "Processing CHEMBL1730100 in molecule.smi (22/1230). Average speed: 0.69 s/mol.\n",
            "Processing CHEMBL3195434 in molecule.smi (23/1230). Average speed: 0.69 s/mol.\n",
            "Processing CHEMBL1440977 in molecule.smi (25/1230). Average speed: 0.66 s/mol.\n",
            "Processing CHEMBL1605379 in molecule.smi (24/1230). Average speed: 0.66 s/mol.\n",
            "Processing CHEMBL1597427 in molecule.smi (26/1230). Average speed: 0.64 s/mol.\n",
            "Processing CHEMBL1430159 in molecule.smi (27/1230). Average speed: 0.62 s/mol.\n",
            "Processing CHEMBL3196407 in molecule.smi (28/1230). Average speed: 0.61 s/mol.\n",
            "Processing CHEMBL1508598 in molecule.smi (29/1230). Average speed: 0.62 s/mol.\n",
            "Processing CHEMBL512216 in molecule.smi (30/1230). Average speed: 0.60 s/mol.\n",
            "Processing CHEMBL1374578 in molecule.smi (31/1230). Average speed: 0.60 s/mol.\n",
            "Processing CHEMBL1547715 in molecule.smi (32/1230). Average speed: 0.59 s/mol.\n",
            "Processing CHEMBL1730762 in molecule.smi (33/1230). Average speed: 0.60 s/mol.\n",
            "Processing CHEMBL1531656 in molecule.smi (34/1230). Average speed: 0.61 s/mol.\n",
            "Processing CHEMBL1310865 in molecule.smi (35/1230). Average speed: 0.59 s/mol.\n",
            "Processing CHEMBL1334452 in molecule.smi (37/1230). Average speed: 0.59 s/mol.\n",
            "Processing CHEMBL1711303 in molecule.smi (36/1230). Average speed: 0.59 s/mol.\n",
            "Processing CHEMBL1476673 in molecule.smi (38/1230). Average speed: 0.58 s/mol.\n",
            "Processing CHEMBL1390702 in molecule.smi (39/1230). Average speed: 0.57 s/mol.\n",
            "Processing CHEMBL1322139 in molecule.smi (40/1230). Average speed: 0.57 s/mol.\n",
            "Processing CHEMBL3144954 in molecule.smi (41/1230). Average speed: 0.56 s/mol.\n",
            "Processing CHEMBL1602234 in molecule.smi (43/1230). Average speed: 0.55 s/mol.\n",
            "Processing CHEMBL1480398 in molecule.smi (42/1230). Average speed: 0.55 s/mol.\n",
            "Processing CHEMBL1334552 in molecule.smi (44/1230). Average speed: 0.54 s/mol.\n",
            "Processing CHEMBL1558809 in molecule.smi (46/1230). Average speed: 0.52 s/mol.\n",
            "Processing CHEMBL1350958 in molecule.smi (45/1230). Average speed: 0.53 s/mol.\n",
            "Processing CHEMBL1430245 in molecule.smi (47/1230). Average speed: 0.53 s/mol.\n",
            "Processing CHEMBL1423198 in molecule.smi (48/1230). Average speed: 0.53 s/mol.\n",
            "Processing CHEMBL1390936 in molecule.smi (49/1230). Average speed: 0.52 s/mol.\n",
            "Processing CHEMBL3145017 in molecule.smi (50/1230). Average speed: 0.52 s/mol.\n",
            "Processing CHEMBL1406745 in molecule.smi (51/1230). Average speed: 0.53 s/mol.\n",
            "Processing CHEMBL1469314 in molecule.smi (52/1230). Average speed: 0.53 s/mol.\n",
            "Processing CHEMBL1547740 in molecule.smi (53/1230). Average speed: 0.53 s/mol.\n",
            "Processing CHEMBL1410383 in molecule.smi (54/1230). Average speed: 0.53 s/mol.\n",
            "Processing CHEMBL1597458 in molecule.smi (56/1230). Average speed: 0.52 s/mol.\n",
            "Processing CHEMBL1602380 in molecule.smi (55/1230). Average speed: 0.52 s/mol.\n",
            "Processing CHEMBL1383957 in molecule.smi (58/1230). Average speed: 0.51 s/mol.\n",
            "Processing CHEMBL1413174 in molecule.smi (57/1230). Average speed: 0.52 s/mol.\n",
            "Processing CHEMBL1333593 in molecule.smi (60/1230). Average speed: 0.50 s/mol.\n",
            "Processing CHEMBL1901559 in molecule.smi (59/1230). Average speed: 0.51 s/mol.\n",
            "Processing CHEMBL1469489 in molecule.smi (62/1230). Average speed: 0.49 s/mol.\n",
            "Processing CHEMBL1402117 in molecule.smi (61/1230). Average speed: 0.49 s/mol.\n",
            "Processing CHEMBL1327479 in molecule.smi (64/1230). Average speed: 0.48 s/mol.\n",
            "Processing CHEMBL1519860 in molecule.smi (63/1230). Average speed: 0.49 s/mol.\n",
            "Processing CHEMBL1609490 in molecule.smi (65/1230). Average speed: 0.48 s/mol.\n",
            "Processing CHEMBL1362734 in molecule.smi (66/1230). Average speed: 0.48 s/mol.\n",
            "Processing CHEMBL1731022 in molecule.smi (67/1230). Average speed: 0.47 s/mol.\n",
            "Processing CHEMBL3191525 in molecule.smi (68/1230). Average speed: 0.47 s/mol.\n",
            "Processing CHEMBL1579562 in molecule.smi (69/1230). Average speed: 0.48 s/mol.\n",
            "Processing CHEMBL1730974 in molecule.smi (70/1230). Average speed: 0.48 s/mol.\n",
            "Processing CHEMBL1563712 in molecule.smi (72/1230). Average speed: 0.48 s/mol.\n",
            "Processing CHEMBL1441315 in molecule.smi (71/1230). Average speed: 0.47 s/mol.\n",
            "Processing CHEMBL1878916 in molecule.smi (73/1230). Average speed: 0.47 s/mol.\n",
            "Processing CHEMBL1469463 in molecule.smi (74/1230). Average speed: 0.47 s/mol.\n",
            "Processing CHEMBL1311185 in molecule.smi (75/1230). Average speed: 0.46 s/mol.\n",
            "Processing CHEMBL1311109 in molecule.smi (77/1230). Average speed: 0.45 s/mol.\n",
            "Processing CHEMBL234338 in molecule.smi (76/1230). Average speed: 0.46 s/mol.\n",
            "Processing CHEMBL3212315 in molecule.smi (78/1230). Average speed: 0.46 s/mol.\n",
            "Processing CHEMBL1327390 in molecule.smi (79/1230). Average speed: 0.46 s/mol.\n",
            "Processing CHEMBL3193134 in molecule.smi (80/1230). Average speed: 0.45 s/mol.\n",
            "Processing CHEMBL1711432 in molecule.smi (81/1230). Average speed: 0.45 s/mol.\n",
            "Processing CHEMBL1311053 in molecule.smi (82/1230). Average speed: 0.45 s/mol.\n",
            "Processing CHEMBL1590814 in molecule.smi (83/1230). Average speed: 0.45 s/mol.\n",
            "Processing CHEMBL1492642 in molecule.smi (85/1230). Average speed: 0.45 s/mol.\n",
            "Processing CHEMBL1711524 in molecule.smi (84/1230). Average speed: 0.45 s/mol.\n",
            "Processing CHEMBL1712164 in molecule.smi (86/1230). Average speed: 0.44 s/mol.\n",
            "Processing CHEMBL1879156 in molecule.smi (88/1230). Average speed: 0.44 s/mol.\n",
            "Processing CHEMBL1391235 in molecule.smi (87/1230). Average speed: 0.44 s/mol.\n",
            "Processing CHEMBL1384008 in molecule.smi (90/1230). Average speed: 0.43 s/mol.\n",
            "Processing CHEMBL1712082 in molecule.smi (89/1230). Average speed: 0.44 s/mol.\n",
            "Processing CHEMBL1327612 in molecule.smi (92/1230). Average speed: 0.43 s/mol.\n",
            "Processing CHEMBL1449334 in molecule.smi (91/1230). Average speed: 0.44 s/mol.\n",
            "Processing CHEMBL1469698 in molecule.smi (93/1230). Average speed: 0.43 s/mol.\n",
            "Processing CHEMBL1900163 in molecule.smi (94/1230). Average speed: 0.43 s/mol.\n",
            "Processing CHEMBL1587073 in molecule.smi (95/1230). Average speed: 0.43 s/mol.\n",
            "Processing CHEMBL1462469 in molecule.smi (96/1230). Average speed: 0.43 s/mol.\n",
            "Processing CHEMBL1541029 in molecule.smi (97/1230). Average speed: 0.43 s/mol.\n",
            "Processing CHEMBL1731834 in molecule.smi (98/1230). Average speed: 0.42 s/mol.\n",
            "Processing CHEMBL3197141 in molecule.smi (99/1230). Average speed: 0.42 s/mol.\n",
            "Processing CHEMBL1554169 in molecule.smi (100/1230). Average speed: 0.42 s/mol.\n",
            "Processing CHEMBL1731730 in molecule.smi (101/1230). Average speed: 0.42 s/mol.\n",
            "Processing CHEMBL3198550 in molecule.smi (102/1230). Average speed: 0.42 s/mol.\n",
            "Processing CHEMBL1579924 in molecule.smi (103/1230). Average speed: 0.42 s/mol.\n",
            "Processing CHEMBL1592785 in molecule.smi (104/1230). Average speed: 0.41 s/mol.\n",
            "Processing CHEMBL1879517 in molecule.smi (105/1230). Average speed: 0.41 s/mol.\n",
            "Processing CHEMBL1430882 in molecule.smi (106/1230). Average speed: 0.41 s/mol.\n",
            "Processing CHEMBL1985591 in molecule.smi (107/1230). Average speed: 0.41 s/mol.\n",
            "Processing CHEMBL1423709 in molecule.smi (108/1230). Average speed: 0.41 s/mol.\n",
            "Processing CHEMBL1391547 in molecule.smi (109/1230). Average speed: 0.41 s/mol.\n",
            "Processing CHEMBL1462687 in molecule.smi (111/1230). Average speed: 0.41 s/mol.\n",
            "Processing CHEMBL1532198 in molecule.smi (110/1230). Average speed: 0.40 s/mol.\n",
            "Processing CHEMBL1335165 in molecule.smi (112/1230). Average speed: 0.40 s/mol.\n",
            "Processing CHEMBL1732365 in molecule.smi (113/1230). Average speed: 0.40 s/mol.\n",
            "Processing CHEMBL1587159 in molecule.smi (114/1230). Average speed: 0.40 s/mol.\n",
            "Processing CHEMBL1344289 in molecule.smi (115/1230). Average speed: 0.40 s/mol.\n",
            "Processing CHEMBL1327721 in molecule.smi (116/1230). Average speed: 0.40 s/mol.\n",
            "Processing CHEMBL1311708 in molecule.smi (117/1230). Average speed: 0.40 s/mol.\n",
            "Processing CHEMBL1462906 in molecule.smi (118/1230). Average speed: 0.40 s/mol.\n",
            "Processing CHEMBL1431126 in molecule.smi (119/1230). Average speed: 0.40 s/mol.\n",
            "Processing CHEMBL1163377 in molecule.smi (120/1230). Average speed: 0.40 s/mol.\n",
            "Processing CHEMBL1559165 in molecule.smi (121/1230). Average speed: 0.40 s/mol.\n",
            "Processing CHEMBL1462814 in molecule.smi (122/1230). Average speed: 0.40 s/mol.\n",
            "Processing CHEMBL1407205 in molecule.smi (123/1230). Average speed: 0.39 s/mol.\n",
            "Processing CHEMBL1548688 in molecule.smi (124/1230). Average speed: 0.39 s/mol.\n",
            "Processing CHEMBL1470135 in molecule.smi (125/1230). Average speed: 0.39 s/mol.\n",
            "Processing CHEMBL1304402 in molecule.smi (126/1230). Average speed: 0.39 s/mol.\n",
            "Processing CHEMBL1304374 in molecule.smi (128/1230). Average speed: 0.39 s/mol.\n",
            "Processing CHEMBL1431075 in molecule.smi (127/1230). Average speed: 0.39 s/mol.\n",
            "Processing CHEMBL1311811 in molecule.smi (129/1230). Average speed: 0.39 s/mol.\n",
            "Processing CHEMBL1470182 in molecule.smi (130/1230). Average speed: 0.39 s/mol.\n",
            "Processing CHEMBL3144932 in molecule.smi (131/1230). Average speed: 0.39 s/mol.\n",
            "Processing CHEMBL1334390 in molecule.smi (132/1230). Average speed: 0.39 s/mol.\n",
            "Processing CHEMBL1431018 in molecule.smi (133/1230). Average speed: 0.39 s/mol.\n",
            "Processing CHEMBL1364062 in molecule.smi (134/1230). Average speed: 0.38 s/mol.\n",
            "Processing CHEMBL1391737 in molecule.smi (135/1230). Average speed: 0.38 s/mol.\n",
            "Processing CHEMBL461622 in molecule.smi (137/1230). Average speed: 0.38 s/mol.\n",
            "Processing CHEMBL1430983 in molecule.smi (136/1230). Average speed: 0.38 s/mol.\n",
            "Processing CHEMBL1344491 in molecule.smi (139/1230). Average speed: 0.38 s/mol.\n",
            "Processing CHEMBL1587422 in molecule.smi (138/1230). Average speed: 0.38 s/mol.\n",
            "Processing CHEMBL1509648 in molecule.smi (140/1230). Average speed: 0.38 s/mol.\n",
            "Processing CHEMBL1541379 in molecule.smi (142/1230). Average speed: 0.37 s/mol.\n",
            "Processing CHEMBL1509676 in molecule.smi (141/1230). Average speed: 0.37 s/mol.\n",
            "Processing CHEMBL1509704 in molecule.smi (143/1230). Average speed: 0.37 s/mol.\n",
            "Processing CHEMBL1402473 in molecule.smi (144/1230). Average speed: 0.37 s/mol.\n",
            "Processing CHEMBL3145223 in molecule.smi (145/1230). Average speed: 0.37 s/mol.\n",
            "Processing CHEMBL1402497 in molecule.smi (146/1230). Average speed: 0.37 s/mol.\n",
            "Processing CHEMBL1492926 in molecule.smi (148/1230). Average speed: 0.37 s/mol.\n",
            "Processing CHEMBL1532323 in molecule.smi (147/1230). Average speed: 0.37 s/mol.\n",
            "Processing CHEMBL1880447 in molecule.smi (150/1230). Average speed: 0.37 s/mol.\n",
            "Processing CHEMBL3194554 in molecule.smi (149/1230). Average speed: 0.37 s/mol.\n",
            "Processing CHEMBL1732567 in molecule.smi (151/1230). Average speed: 0.37 s/mol.\n",
            "Processing CHEMBL1440703 in molecule.smi (152/1230). Average speed: 0.37 s/mol.\n",
            "Processing CHEMBL1431163 in molecule.smi (154/1230). Average speed: 0.36 s/mol.\n",
            "Processing CHEMBL1458660 in molecule.smi (153/1230). Average speed: 0.36 s/mol.\n",
            "Processing CHEMBL1351902 in molecule.smi (155/1230). Average speed: 0.37 s/mol.\n",
            "Processing CHEMBL1470408 in molecule.smi (156/1230). Average speed: 0.36 s/mol.\n",
            "Processing CHEMBL1502247 in molecule.smi (157/1230). Average speed: 0.36 s/mol.\n",
            "Processing CHEMBL1541247 in molecule.smi (158/1230). Average speed: 0.36 s/mol.\n",
            "Processing CHEMBL3195827 in molecule.smi (160/1230). Average speed: 0.36 s/mol.\n",
            "Processing CHEMBL1304529 in molecule.smi (159/1230). Average speed: 0.36 s/mol.\n",
            "Processing CHEMBL1327816 in molecule.smi (161/1230). Average speed: 0.36 s/mol.\n",
            "Processing CHEMBL1564253 in molecule.smi (162/1230). Average speed: 0.36 s/mol.\n",
            "Processing CHEMBL1424064 in molecule.smi (163/1230). Average speed: 0.36 s/mol.\n",
            "Processing CHEMBL1571258 in molecule.smi (164/1230). Average speed: 0.36 s/mol.\n",
            "Processing CHEMBL1509826 in molecule.smi (165/1230). Average speed: 0.36 s/mol.\n",
            "Processing CHEMBL1391887 in molecule.smi (166/1230). Average speed: 0.36 s/mol.\n",
            "Processing CHEMBL1580345 in molecule.smi (167/1230). Average speed: 0.36 s/mol.\n",
            "Processing CHEMBL1733061 in molecule.smi (168/1230). Average speed: 0.36 s/mol.\n",
            "Processing CHEMBL1990734 in molecule.smi (170/1230). Average speed: 0.36 s/mol.\n",
            "Processing CHEMBL1713628 in molecule.smi (169/1230). Average speed: 0.36 s/mol.\n",
            "Processing CHEMBL1392064 in molecule.smi (171/1230). Average speed: 0.36 s/mol.\n",
            "Processing CHEMBL1462969 in molecule.smi (172/1230). Average speed: 0.36 s/mol.\n",
            "Processing CHEMBL1352170 in molecule.smi (173/1230). Average speed: 0.36 s/mol.\n",
            "Processing CHEMBL1449785 in molecule.smi (174/1230). Average speed: 0.36 s/mol.\n",
            "Processing CHEMBL3216654 in molecule.smi (175/1230). Average speed: 0.36 s/mol.\n",
            "Processing CHEMBL1481016 in molecule.smi (176/1230). Average speed: 0.36 s/mol.\n",
            "Processing CHEMBL1312212 in molecule.smi (178/1230). Average speed: 0.35 s/mol.\n",
            "Processing CHEMBL1991599 in molecule.smi (177/1230). Average speed: 0.35 s/mol.\n",
            "Processing CHEMBL202043 in molecule.smi (179/1230). Average speed: 0.35 s/mol.\n",
            "Processing CHEMBL1452526 in molecule.smi (180/1230). Average speed: 0.35 s/mol.\n",
            "Processing CHEMBL1173036 in molecule.smi (181/1230). Average speed: 0.35 s/mol.\n",
            "Processing CHEMBL1587876 in molecule.smi (182/1230). Average speed: 0.35 s/mol.\n",
            "Processing CHEMBL1392200 in molecule.smi (183/1230). Average speed: 0.35 s/mol.\n",
            "Processing CHEMBL1532491 in molecule.smi (184/1230). Average speed: 0.35 s/mol.\n",
            "Processing CHEMBL1714002 in molecule.smi (185/1230). Average speed: 0.35 s/mol.\n",
            "Processing CHEMBL1392133 in molecule.smi (187/1230). Average speed: 0.35 s/mol.\n",
            "Processing CHEMBL1549172 in molecule.smi (186/1230). Average speed: 0.35 s/mol.\n",
            "Processing CHEMBL1431490 in molecule.smi (188/1230). Average speed: 0.35 s/mol.\n",
            "Processing CHEMBL1532549 in molecule.smi (190/1230). Average speed: 0.34 s/mol.\n",
            "Processing CHEMBL1431570 in molecule.smi (189/1230). Average speed: 0.35 s/mol.\n",
            "Processing CHEMBL1610098 in molecule.smi (192/1230). Average speed: 0.34 s/mol.\n",
            "Processing CHEMBL1713747 in molecule.smi (191/1230). Average speed: 0.34 s/mol.\n",
            "Processing CHEMBL1392332 in molecule.smi (193/1230). Average speed: 0.34 s/mol.\n",
            "Processing CHEMBL1881266 in molecule.smi (194/1230). Average speed: 0.34 s/mol.\n",
            "Processing CHEMBL1881398 in molecule.smi (195/1230). Average speed: 0.34 s/mol.\n",
            "Processing CHEMBL1714335 in molecule.smi (196/1230). Average speed: 0.34 s/mol.\n",
            "Processing CHEMBL1714348 in molecule.smi (197/1230). Average speed: 0.34 s/mol.\n",
            "Processing CHEMBL1470869 in molecule.smi (198/1230). Average speed: 0.34 s/mol.\n",
            "Processing CHEMBL1502839 in molecule.smi (199/1230). Average speed: 0.34 s/mol.\n",
            "Processing CHEMBL1335410 in molecule.smi (200/1230). Average speed: 0.34 s/mol.\n",
            "Processing CHEMBL1571467 in molecule.smi (201/1230). Average speed: 0.34 s/mol.\n",
            "Processing CHEMBL1580660 in molecule.smi (202/1230). Average speed: 0.34 s/mol.\n",
            "Processing CHEMBL1318520 in molecule.smi (203/1230). Average speed: 0.34 s/mol.\n",
            "Processing CHEMBL1312739 in molecule.smi (204/1230). Average speed: 0.33 s/mol.\n",
            "Processing CHEMBL1994988 in molecule.smi (205/1230). Average speed: 0.33 s/mol.\n",
            "Processing CHEMBL1902287 in molecule.smi (206/1230). Average speed: 0.33 s/mol.\n",
            "Processing CHEMBL1510455 in molecule.smi (207/1230). Average speed: 0.33 s/mol.\n",
            "Processing CHEMBL1541889 in molecule.smi (208/1230). Average speed: 0.33 s/mol.\n",
            "Processing CHEMBL1312673 in molecule.smi (209/1230). Average speed: 0.33 s/mol.\n",
            "Processing CHEMBL1714283 in molecule.smi (210/1230). Average speed: 0.33 s/mol.\n",
            "Processing CHEMBL1528294 in molecule.smi (211/1230). Average speed: 0.33 s/mol.\n",
            "Processing CHEMBL1453783 in molecule.smi (213/1230). Average speed: 0.33 s/mol.\n",
            "Processing CHEMBL581225 in molecule.smi (212/1230). Average speed: 0.33 s/mol.\n",
            "Processing CHEMBL1525576 in molecule.smi (214/1230). Average speed: 0.33 s/mol.\n",
            "Processing CHEMBL1588205 in molecule.smi (215/1230). Average speed: 0.33 s/mol.\n",
            "Processing CHEMBL1541890 in molecule.smi (216/1230). Average speed: 0.33 s/mol.\n",
            "Processing CHEMBL1734152 in molecule.smi (217/1230). Average speed: 0.33 s/mol.\n",
            "Processing CHEMBL1527565 in molecule.smi (218/1230). Average speed: 0.33 s/mol.\n",
            "Processing CHEMBL1330109 in molecule.smi (219/1230). Average speed: 0.33 s/mol.\n",
            "Processing CHEMBL1541795 in molecule.smi (220/1230). Average speed: 0.33 s/mol.\n",
            "Processing CHEMBL1335615 in molecule.smi (221/1230). Average speed: 0.33 s/mol.\n",
            "Processing CHEMBL1463571 in molecule.smi (222/1230). Average speed: 0.33 s/mol.\n",
            "Processing CHEMBL1410860 in molecule.smi (223/1230). Average speed: 0.33 s/mol.\n",
            "Processing CHEMBL1402954 in molecule.smi (224/1230). Average speed: 0.33 s/mol.\n",
            "Processing CHEMBL1532684 in molecule.smi (225/1230). Average speed: 0.33 s/mol.\n",
            "Processing CHEMBL1598439 in molecule.smi (226/1230). Average speed: 0.33 s/mol.\n",
            "Processing CHEMBL1902239 in molecule.smi (227/1230). Average speed: 0.33 s/mol.\n",
            "Processing CHEMBL1714492 in molecule.smi (228/1230). Average speed: 0.33 s/mol.\n",
            "Processing CHEMBL3144962 in molecule.smi (229/1230). Average speed: 0.33 s/mol.\n",
            "Processing CHEMBL1305092 in molecule.smi (230/1230). Average speed: 0.33 s/mol.\n",
            "Processing CHEMBL1492148 in molecule.smi (231/1230). Average speed: 0.33 s/mol.\n",
            "Processing CHEMBL1580684 in molecule.smi (232/1230). Average speed: 0.33 s/mol.\n",
            "Processing CHEMBL1312842 in molecule.smi (233/1230). Average speed: 0.33 s/mol.\n",
            "Processing CHEMBL1549691 in molecule.smi (234/1230). Average speed: 0.33 s/mol.\n",
            "Processing CHEMBL1368160 in molecule.smi (235/1230). Average speed: 0.33 s/mol.\n",
            "Processing CHEMBL1995550 in molecule.smi (236/1230). Average speed: 0.33 s/mol.\n",
            "Processing CHEMBL1715126 in molecule.smi (237/1230). Average speed: 0.33 s/mol.\n",
            "Processing CHEMBL1549660 in molecule.smi (238/1230). Average speed: 0.33 s/mol.\n",
            "Processing CHEMBL1392718 in molecule.smi (239/1230). Average speed: 0.32 s/mol.\n",
            "Processing CHEMBL1541950 in molecule.smi (240/1230). Average speed: 0.32 s/mol.\n",
            "Processing CHEMBL1463468 in molecule.smi (241/1230). Average speed: 0.32 s/mol.\n",
            "Processing CHEMBL1348345 in molecule.smi (242/1230). Average speed: 0.32 s/mol.\n",
            "Processing CHEMBL1734539 in molecule.smi (243/1230). Average speed: 0.32 s/mol.\n",
            "Processing CHEMBL1588339 in molecule.smi (244/1230). Average speed: 0.32 s/mol.\n",
            "Processing CHEMBL1715210 in molecule.smi (245/1230). Average speed: 0.32 s/mol.\n",
            "Processing CHEMBL1323243 in molecule.smi (246/1230). Average speed: 0.32 s/mol.\n",
            "Processing CHEMBL1486234 in molecule.smi (247/1230). Average speed: 0.32 s/mol.\n",
            "Processing CHEMBL1442097 in molecule.smi (248/1230). Average speed: 0.32 s/mol.\n",
            "Processing CHEMBL1447137 in molecule.smi (249/1230). Average speed: 0.32 s/mol.\n",
            "Processing CHEMBL3191022 in molecule.smi (250/1230). Average speed: 0.32 s/mol.\n",
            "Processing CHEMBL1559687 in molecule.smi (251/1230). Average speed: 0.32 s/mol.\n",
            "Processing CHEMBL1446929 in molecule.smi (253/1230). Average speed: 0.32 s/mol.\n",
            "Processing CHEMBL1580896 in molecule.smi (252/1230). Average speed: 0.32 s/mol.\n",
            "Processing CHEMBL1424728 in molecule.smi (254/1230). Average speed: 0.32 s/mol.\n",
            "Processing CHEMBL3211294 in molecule.smi (255/1230). Average speed: 0.32 s/mol.\n",
            "Processing CHEMBL1493697 in molecule.smi (256/1230). Average speed: 0.32 s/mol.\n",
            "Processing CHEMBL1486418 in molecule.smi (257/1230). Average speed: 0.32 s/mol.\n",
            "Processing CHEMBL1368398 in molecule.smi (258/1230). Average speed: 0.32 s/mol.\n",
            "Processing CHEMBL1476948 in molecule.smi (260/1230). Average speed: 0.31 s/mol.\n",
            "Processing CHEMBL1381627 in molecule.smi (259/1230). Average speed: 0.31 s/mol.\n",
            "Processing CHEMBL1715529 in molecule.smi (261/1230). Average speed: 0.31 s/mol.\n",
            "Processing CHEMBL1490677 in molecule.smi (263/1230). Average speed: 0.31 s/mol.\n",
            "Processing CHEMBL1715633 in molecule.smi (262/1230). Average speed: 0.31 s/mol.\n",
            "Processing CHEMBL1570573 in molecule.smi (264/1230). Average speed: 0.31 s/mol.\n",
            "Processing CHEMBL1580845 in molecule.smi (265/1230). Average speed: 0.31 s/mol.\n",
            "Processing CHEMBL1375750 in molecule.smi (267/1230). Average speed: 0.31 s/mol.\n",
            "Processing CHEMBL1542151 in molecule.smi (266/1230). Average speed: 0.31 s/mol.\n",
            "Processing CHEMBL1331111 in molecule.smi (268/1230). Average speed: 0.31 s/mol.\n",
            "Processing CHEMBL1375820 in molecule.smi (269/1230). Average speed: 0.31 s/mol.\n",
            "Processing CHEMBL1365198 in molecule.smi (270/1230). Average speed: 0.31 s/mol.\n",
            "Processing CHEMBL1370841 in molecule.smi (271/1230). Average speed: 0.31 s/mol.\n",
            "Processing CHEMBL1453077 in molecule.smi (272/1230). Average speed: 0.31 s/mol.\n",
            "Processing CHEMBL1345295 in molecule.smi (274/1230). Average speed: 0.31 s/mol.\n",
            "Processing CHEMBL1451327 in molecule.smi (273/1230). Average speed: 0.31 s/mol.\n",
            "Processing CHEMBL1570535 in molecule.smi (275/1230). Average speed: 0.31 s/mol.\n",
            "Processing CHEMBL1471546 in molecule.smi (277/1230). Average speed: 0.31 s/mol.\n",
            "Processing CHEMBL1313127 in molecule.smi (276/1230). Average speed: 0.31 s/mol.\n",
            "Processing CHEMBL1610382 in molecule.smi (278/1230). Average speed: 0.31 s/mol.\n",
            "Processing CHEMBL1998429 in molecule.smi (279/1230). Average speed: 0.30 s/mol.\n",
            "Processing CHEMBL1471595 in molecule.smi (280/1230). Average speed: 0.30 s/mol.\n",
            "Processing CHEMBL1432468 in molecule.smi (281/1230). Average speed: 0.31 s/mol.\n",
            "Processing CHEMBL1323428 in molecule.smi (282/1230). Average speed: 0.31 s/mol.\n",
            "Processing CHEMBL1735496 in molecule.smi (283/1230). Average speed: 0.31 s/mol.\n",
            "Processing CHEMBL1353221 in molecule.smi (284/1230). Average speed: 0.31 s/mol.\n",
            "Processing CHEMBL1715441 in molecule.smi (285/1230). Average speed: 0.30 s/mol.\n",
            "Processing CHEMBL1434708 in molecule.smi (286/1230). Average speed: 0.30 s/mol.\n",
            "Processing CHEMBL1525702 in molecule.smi (287/1230). Average speed: 0.31 s/mol.\n",
            "Processing CHEMBL1559790 in molecule.smi (288/1230). Average speed: 0.31 s/mol.\n",
            "Processing CHEMBL329706 in molecule.smi (289/1230). Average speed: 0.31 s/mol.\n",
            "Processing CHEMBL1432590 in molecule.smi (290/1230). Average speed: 0.31 s/mol.\n",
            "Processing CHEMBL1471665 in molecule.smi (291/1230). Average speed: 0.31 s/mol.\n",
            "Processing CHEMBL1526067 in molecule.smi (292/1230). Average speed: 0.30 s/mol.\n",
            "Processing CHEMBL1328567 in molecule.smi (293/1230). Average speed: 0.30 s/mol.\n",
            "Processing CHEMBL1570497 in molecule.smi (294/1230). Average speed: 0.30 s/mol.\n",
            "Processing CHEMBL1313324 in molecule.smi (295/1230). Average speed: 0.30 s/mol.\n",
            "Processing CHEMBL1403191 in molecule.smi (296/1230). Average speed: 0.30 s/mol.\n",
            "Processing CHEMBL1471648 in molecule.smi (297/1230). Average speed: 0.30 s/mol.\n",
            "Processing CHEMBL1904459 in molecule.smi (298/1230). Average speed: 0.30 s/mol.\n",
            "Processing CHEMBL1313262 in molecule.smi (299/1230). Average speed: 0.30 s/mol.\n",
            "Processing CHEMBL3197557 in molecule.smi (300/1230). Average speed: 0.30 s/mol.\n",
            "Processing CHEMBL1408302 in molecule.smi (301/1230). Average speed: 0.30 s/mol.\n",
            "Processing CHEMBL1581086 in molecule.smi (302/1230). Average speed: 0.30 s/mol.\n",
            "Processing CHEMBL1305450 in molecule.smi (304/1230). Average speed: 0.30 s/mol.\n",
            "Processing CHEMBL1432739 in molecule.smi (303/1230). Average speed: 0.30 s/mol.\n",
            "Processing CHEMBL1533094 in molecule.smi (306/1230). Average speed: 0.30 s/mol.\n",
            "Processing CHEMBL1581158 in molecule.smi (305/1230). Average speed: 0.30 s/mol.\n",
            "Processing CHEMBL1526088 in molecule.smi (308/1230). Average speed: 0.30 s/mol.\n",
            "Processing CHEMBL2002332 in molecule.smi (307/1230). Average speed: 0.30 s/mol.\n",
            "Processing CHEMBL1464014 in molecule.smi (309/1230). Average speed: 0.30 s/mol.\n",
            "Processing CHEMBL1735864 in molecule.smi (311/1230). Average speed: 0.30 s/mol.\n",
            "Processing CHEMBL1716414 in molecule.smi (310/1230). Average speed: 0.30 s/mol.\n",
            "Processing CHEMBL1589086 in molecule.smi (313/1230). Average speed: 0.29 s/mol.\n",
            "Processing CHEMBL1571889 in molecule.smi (312/1230). Average speed: 0.30 s/mol.\n",
            "Processing CHEMBL1353570 in molecule.smi (314/1230). Average speed: 0.29 s/mol.\n",
            "Processing CHEMBL1393237 in molecule.smi (315/1230). Average speed: 0.29 s/mol.\n",
            "Processing CHEMBL1345754 in molecule.smi (317/1230). Average speed: 0.29 s/mol.\n",
            "Processing CHEMBL1385494 in molecule.smi (316/1230). Average speed: 0.29 s/mol.\n",
            "Processing CHEMBL1408292 in molecule.smi (319/1230). Average speed: 0.29 s/mol.\n",
            "Processing CHEMBL1313485 in molecule.smi (318/1230). Average speed: 0.29 s/mol.\n",
            "Processing CHEMBL2001761 in molecule.smi (320/1230). Average speed: 0.29 s/mol.\n",
            "Processing CHEMBL2001904 in molecule.smi (321/1230). Average speed: 0.29 s/mol.\n",
            "Processing CHEMBL1393327 in molecule.smi (322/1230). Average speed: 0.29 s/mol.\n",
            "Processing CHEMBL1550490 in molecule.smi (323/1230). Average speed: 0.29 s/mol.\n",
            "Processing CHEMBL1464042 in molecule.smi (324/1230). Average speed: 0.29 s/mol.\n",
            "Processing CHEMBL1503442 in molecule.smi (325/1230). Average speed: 0.29 s/mol.\n",
            "Processing CHEMBL1393512 in molecule.smi (326/1230). Average speed: 0.29 s/mol.\n",
            "Processing CHEMBL1542529 in molecule.smi (327/1230). Average speed: 0.29 s/mol.\n",
            "Processing CHEMBL1736254 in molecule.smi (328/1230). Average speed: 0.29 s/mol.\n",
            "Processing CHEMBL1542511 in molecule.smi (329/1230). Average speed: 0.29 s/mol.\n",
            "Processing CHEMBL1408494 in molecule.smi (330/1230). Average speed: 0.29 s/mol.\n",
            "Processing CHEMBL390559 in molecule.smi (331/1230). Average speed: 0.29 s/mol.\n",
            "Processing CHEMBL1570587 in molecule.smi (332/1230). Average speed: 0.29 s/mol.\n",
            "Processing CHEMBL1433028 in molecule.smi (333/1230). Average speed: 0.29 s/mol.\n",
            "Processing CHEMBL1313807 in molecule.smi (335/1230). Average speed: 0.28 s/mol.\n",
            "Processing CHEMBL1472217 in molecule.smi (334/1230). Average speed: 0.28 s/mol.\n",
            "Processing CHEMBL1589453 in molecule.smi (337/1230). Average speed: 0.29 s/mol.\n",
            "Processing CHEMBL2005484 in molecule.smi (336/1230). Average speed: 0.28 s/mol.\n",
            "Processing CHEMBL1521165 in molecule.smi (338/1230). Average speed: 0.28 s/mol.\n",
            "Processing CHEMBL1393568 in molecule.smi (339/1230). Average speed: 0.28 s/mol.\n",
            "Processing CHEMBL1464107 in molecule.smi (341/1230). Average speed: 0.28 s/mol.\n",
            "Processing CHEMBL133576 in molecule.smi (340/1230). Average speed: 0.28 s/mol.\n",
            "Processing CHEMBL1363719 in molecule.smi (342/1230). Average speed: 0.28 s/mol.\n",
            "Processing CHEMBL1345808 in molecule.smi (344/1230). Average speed: 0.28 s/mol.\n",
            "Processing CHEMBL1453327 in molecule.smi (343/1230). Average speed: 0.28 s/mol.\n",
            "Processing CHEMBL1716493 in molecule.smi (345/1230). Average speed: 0.28 s/mol.\n",
            "Processing CHEMBL1473975 in molecule.smi (347/1230). Average speed: 0.28 s/mol.\n",
            "Processing CHEMBL1415513 in molecule.smi (346/1230). Average speed: 0.28 s/mol.\n",
            "Processing CHEMBL1381243 in molecule.smi (349/1230). Average speed: 0.28 s/mol.\n",
            "Processing CHEMBL1374665 in molecule.smi (348/1230). Average speed: 0.28 s/mol.\n",
            "Processing CHEMBL1736648 in molecule.smi (351/1230). Average speed: 0.28 s/mol.\n",
            "Processing CHEMBL1385654 in molecule.smi (350/1230). Average speed: 0.28 s/mol.\n",
            "Processing CHEMBL1408395 in molecule.smi (353/1230). Average speed: 0.28 s/mol.\n",
            "Processing CHEMBL1516335 in molecule.smi (352/1230). Average speed: 0.28 s/mol.\n",
            "Processing CHEMBL1589514 in molecule.smi (355/1230). Average speed: 0.28 s/mol.\n",
            "Processing CHEMBL1486827 in molecule.smi (354/1230). Average speed: 0.28 s/mol.\n",
            "Processing CHEMBL1492654 in molecule.smi (357/1230). Average speed: 0.28 s/mol.\n",
            "Processing CHEMBL1598843 in molecule.smi (356/1230). Average speed: 0.28 s/mol.\n",
            "Processing CHEMBL2006418 in molecule.smi (358/1230). Average speed: 0.28 s/mol.\n",
            "Processing CHEMBL1490987 in molecule.smi (359/1230). Average speed: 0.28 s/mol.\n",
            "Processing CHEMBL515505 in molecule.smi (360/1230). Average speed: 0.28 s/mol.\n",
            "Processing CHEMBL1464233 in molecule.smi (361/1230). Average speed: 0.28 s/mol.\n",
            "Processing CHEMBL1736502 in molecule.smi (362/1230). Average speed: 0.28 s/mol.\n",
            "Processing CHEMBL1489368 in molecule.smi (363/1230). Average speed: 0.28 s/mol.\n",
            "Processing CHEMBL3197153 in molecule.smi (364/1230). Average speed: 0.28 s/mol.\n",
            "Processing CHEMBL1503793 in molecule.smi (365/1230). Average speed: 0.28 s/mol.\n",
            "Processing CHEMBL1736432 in molecule.smi (366/1230). Average speed: 0.28 s/mol.\n",
            "Processing CHEMBL1363865 in molecule.smi (367/1230). Average speed: 0.28 s/mol.\n",
            "Processing CHEMBL1425314 in molecule.smi (368/1230). Average speed: 0.28 s/mol.\n",
            "Processing CHEMBL1369048 in molecule.smi (370/1230). Average speed: 0.28 s/mol.\n",
            "Processing CHEMBL1414222 in molecule.smi (369/1230). Average speed: 0.28 s/mol.\n",
            "Processing CHEMBL1550841 in molecule.smi (372/1230). Average speed: 0.28 s/mol.\n",
            "Processing CHEMBL1442758 in molecule.smi (371/1230). Average speed: 0.28 s/mol.\n",
            "Processing CHEMBL1443706 in molecule.smi (373/1230). Average speed: 0.28 s/mol.\n",
            "Processing CHEMBL1598985 in molecule.smi (374/1230). Average speed: 0.28 s/mol.\n",
            "Processing CHEMBL1345999 in molecule.smi (376/1230). Average speed: 0.28 s/mol.\n",
            "Processing CHEMBL1363782 in molecule.smi (375/1230). Average speed: 0.28 s/mol.\n",
            "Processing CHEMBL3199187 in molecule.smi (377/1230). Average speed: 0.28 s/mol.\n",
            "Processing CHEMBL1717449 in molecule.smi (378/1230). Average speed: 0.28 s/mol.\n",
            "Processing CHEMBL3183391 in molecule.smi (379/1230). Average speed: 0.28 s/mol.\n",
            "Processing CHEMBL3182716 in molecule.smi (380/1230). Average speed: 0.27 s/mol.\n",
            "Processing CHEMBL1336283 in molecule.smi (381/1230). Average speed: 0.28 s/mol.\n",
            "Processing CHEMBL2007419 in molecule.smi (382/1230). Average speed: 0.27 s/mol.\n",
            "Processing CHEMBL1555532 in molecule.smi (383/1230). Average speed: 0.27 s/mol.\n",
            "Processing CHEMBL1521297 in molecule.smi (384/1230). Average speed: 0.27 s/mol.\n",
            "Processing CHEMBL1964407 in molecule.smi (385/1230). Average speed: 0.27 s/mol.\n",
            "Processing CHEMBL1572216 in molecule.smi (386/1230). Average speed: 0.27 s/mol.\n",
            "Processing CHEMBL1594182 in molecule.smi (387/1230). Average speed: 0.27 s/mol.\n",
            "Processing CHEMBL1318778 in molecule.smi (388/1230). Average speed: 0.27 s/mol.\n",
            "Processing CHEMBL1542987 in molecule.smi (389/1230). Average speed: 0.27 s/mol.\n",
            "Processing CHEMBL551842 in molecule.smi (390/1230). Average speed: 0.27 s/mol.\n",
            "Processing CHEMBL1408705 in molecule.smi (391/1230). Average speed: 0.27 s/mol.\n",
            "Processing CHEMBL1581683 in molecule.smi (392/1230). Average speed: 0.27 s/mol.\n",
            "Processing CHEMBL3190629 in molecule.smi (393/1230). Average speed: 0.27 s/mol.\n",
            "Processing CHEMBL1503852 in molecule.smi (394/1230). Average speed: 0.27 s/mol.\n",
            "Processing CHEMBL1497153 in molecule.smi (395/1230). Average speed: 0.27 s/mol.\n",
            "Processing CHEMBL1374603 in molecule.smi (396/1230). Average speed: 0.27 s/mol.\n",
            "Processing CHEMBL1503985 in molecule.smi (398/1230). Average speed: 0.27 s/mol.\n",
            "Processing CHEMBL1598944 in molecule.smi (397/1230). Average speed: 0.27 s/mol.\n",
            "Processing CHEMBL1318817 in molecule.smi (399/1230). Average speed: 0.27 s/mol.\n",
            "Processing CHEMBL1318818 in molecule.smi (400/1230). Average speed: 0.27 s/mol.\n",
            "Processing CHEMBL1886015 in molecule.smi (402/1230). Average speed: 0.27 s/mol.\n",
            "Processing CHEMBL1437954 in molecule.smi (401/1230). Average speed: 0.27 s/mol.\n",
            "Processing CHEMBL1599120 in molecule.smi (403/1230). Average speed: 0.27 s/mol.\n",
            "Processing CHEMBL3192031 in molecule.smi (404/1230). Average speed: 0.27 s/mol.\n",
            "Processing CHEMBL1599047 in molecule.smi (405/1230). Average speed: 0.27 s/mol.\n",
            "Processing CHEMBL1497208 in molecule.smi (406/1230). Average speed: 0.27 s/mol.\n",
            "Processing CHEMBL1565810 in molecule.smi (408/1230). Average speed: 0.27 s/mol.\n",
            "Processing CHEMBL1594191 in molecule.smi (407/1230). Average speed: 0.27 s/mol.\n",
            "Processing CHEMBL1477046 in molecule.smi (410/1230). Average speed: 0.27 s/mol.\n",
            "Processing CHEMBL1717890 in molecule.smi (409/1230). Average speed: 0.27 s/mol.\n",
            "Processing CHEMBL1533464 in molecule.smi (411/1230). Average speed: 0.27 s/mol.\n",
            "Processing CHEMBL1966224 in molecule.smi (412/1230). Average speed: 0.27 s/mol.\n",
            "Processing CHEMBL1494242 in molecule.smi (413/1230). Average speed: 0.27 s/mol.\n",
            "Processing CHEMBL187266 in molecule.smi (414/1230). Average speed: 0.27 s/mol.\n",
            "Processing CHEMBL1526763 in molecule.smi (415/1230). Average speed: 0.27 s/mol.\n",
            "Processing CHEMBL1533621 in molecule.smi (417/1230). Average speed: 0.27 s/mol.\n",
            "Processing CHEMBL1376342 in molecule.smi (416/1230). Average speed: 0.27 s/mol.\n",
            "Processing CHEMBL131037 in molecule.smi (418/1230). Average speed: 0.27 s/mol.\n",
            "Processing CHEMBL1497243 in molecule.smi (419/1230). Average speed: 0.27 s/mol.\n",
            "Processing CHEMBL1408935 in molecule.smi (420/1230). Average speed: 0.27 s/mol.\n",
            "Processing CHEMBL1521427 in molecule.smi (421/1230). Average speed: 0.27 s/mol.\n",
            "Processing CHEMBL1418928 in molecule.smi (422/1230). Average speed: 0.27 s/mol.\n",
            "Processing CHEMBL1411089 in molecule.smi (423/1230). Average speed: 0.27 s/mol.\n",
            "Processing CHEMBL1536196 in molecule.smi (424/1230). Average speed: 0.27 s/mol.\n",
            "Processing CHEMBL1434750 in molecule.smi (425/1230). Average speed: 0.26 s/mol.\n",
            "Processing CHEMBL1395453 in molecule.smi (426/1230). Average speed: 0.26 s/mol.\n",
            "Processing CHEMBL1698646 in molecule.smi (427/1230). Average speed: 0.27 s/mol.\n",
            "Processing CHEMBL1464715 in molecule.smi (428/1230). Average speed: 0.27 s/mol.\n",
            "Processing CHEMBL1454835 in molecule.smi (429/1230). Average speed: 0.27 s/mol.\n",
            "Processing CHEMBL1967862 in molecule.smi (430/1230). Average speed: 0.27 s/mol.\n",
            "Processing CHEMBL3196320 in molecule.smi (431/1230). Average speed: 0.27 s/mol.\n",
            "Processing CHEMBL1376311 in molecule.smi (432/1230). Average speed: 0.27 s/mol.\n",
            "Processing CHEMBL1425600 in molecule.smi (433/1230). Average speed: 0.27 s/mol.\n",
            "Processing CHEMBL1581845 in molecule.smi (434/1230). Average speed: 0.27 s/mol.\n",
            "Processing CHEMBL1346365 in molecule.smi (435/1230). Average speed: 0.27 s/mol.\n",
            "Processing CHEMBL1543152 in molecule.smi (436/1230). Average speed: 0.27 s/mol.\n",
            "Processing CHEMBL1464721 in molecule.smi (437/1230). Average speed: 0.27 s/mol.\n",
            "Processing CHEMBL3145167 in molecule.smi (438/1230). Average speed: 0.27 s/mol.\n",
            "Processing CHEMBL1386235 in molecule.smi (439/1230). Average speed: 0.27 s/mol.\n",
            "Processing CHEMBL1324181 in molecule.smi (440/1230). Average speed: 0.27 s/mol.\n",
            "Processing CHEMBL1369592 in molecule.smi (441/1230). Average speed: 0.27 s/mol.\n",
            "Processing CHEMBL1698859 in molecule.smi (442/1230). Average speed: 0.27 s/mol.\n",
            "Processing CHEMBL1359070 in molecule.smi (443/1230). Average speed: 0.27 s/mol.\n",
            "Processing CHEMBL1581916 in molecule.smi (444/1230). Average speed: 0.27 s/mol.\n",
            "Processing CHEMBL1536548 in molecule.smi (445/1230). Average speed: 0.27 s/mol.\n",
            "Processing CHEMBL1560629 in molecule.smi (446/1230). Average speed: 0.26 s/mol.\n",
            "Processing CHEMBL1359054 in molecule.smi (447/1230). Average speed: 0.26 s/mol.\n",
            "Processing CHEMBL1398748 in molecule.smi (448/1230). Average speed: 0.26 s/mol.\n",
            "Processing CHEMBL1364221 in molecule.smi (449/1230). Average speed: 0.26 s/mol.\n",
            "Processing CHEMBL1604527 in molecule.smi (450/1230). Average speed: 0.26 s/mol.\n",
            "Processing CHEMBL1324111 in molecule.smi (451/1230). Average speed: 0.26 s/mol.\n",
            "Processing CHEMBL1718737 in molecule.smi (452/1230). Average speed: 0.26 s/mol.\n",
            "Processing CHEMBL1575481 in molecule.smi (453/1230). Average speed: 0.26 s/mol.\n",
            "Processing CHEMBL1599312 in molecule.smi (454/1230). Average speed: 0.26 s/mol.\n",
            "Processing CHEMBL3392033 in molecule.smi (455/1230). Average speed: 0.26 s/mol.\n",
            "Processing CHEMBL1564699 in molecule.smi (456/1230). Average speed: 0.26 s/mol.\n",
            "Processing CHEMBL1611182 in molecule.smi (457/1230). Average speed: 0.26 s/mol.\n",
            "Processing CHEMBL1386409 in molecule.smi (458/1230). Average speed: 0.26 s/mol.\n",
            "Processing CHEMBL1299634 in molecule.smi (459/1230). Average speed: 0.26 s/mol.\n",
            "Processing CHEMBL3189707 in molecule.smi (460/1230). Average speed: 0.26 s/mol.\n",
            "Processing CHEMBL1555752 in molecule.smi (461/1230). Average speed: 0.26 s/mol.\n",
            "Processing CHEMBL3189815 in molecule.smi (462/1230). Average speed: 0.26 s/mol.\n",
            "Processing CHEMBL1699206 in molecule.smi (463/1230). Average speed: 0.26 s/mol.\n",
            "Processing CHEMBL1970118 in molecule.smi (464/1230). Average speed: 0.26 s/mol.\n",
            "Processing CHEMBL1438182 in molecule.smi (465/1230). Average speed: 0.26 s/mol.\n",
            "Processing CHEMBL1425797 in molecule.smi (467/1230). Average speed: 0.26 s/mol.\n",
            "Processing CHEMBL1398964 in molecule.smi (466/1230). Average speed: 0.26 s/mol.\n",
            "Processing CHEMBL1865058 in molecule.smi (468/1230). Average speed: 0.26 s/mol.\n",
            "Processing CHEMBL1718480 in molecule.smi (470/1230). Average speed: 0.26 s/mol.\n",
            "Processing CHEMBL3190381 in molecule.smi (469/1230). Average speed: 0.26 s/mol.\n",
            "Processing CHEMBL1458114 in molecule.smi (471/1230). Average speed: 0.26 s/mol.\n",
            "Processing CHEMBL1560577 in molecule.smi (472/1230). Average speed: 0.26 s/mol.\n",
            "Processing CHEMBL1566197 in molecule.smi (474/1230). Average speed: 0.26 s/mol.\n",
            "Processing CHEMBL1438240 in molecule.smi (473/1230). Average speed: 0.26 s/mol.\n",
            "Processing CHEMBL1566216 in molecule.smi (476/1230). Average speed: 0.26 s/mol.\n",
            "Processing CHEMBL1543544 in molecule.smi (475/1230). Average speed: 0.26 s/mol.\n",
            "Processing CHEMBL1487959 in molecule.smi (478/1230). Average speed: 0.26 s/mol.\n",
            "Processing CHEMBL1494499 in molecule.smi (477/1230). Average speed: 0.26 s/mol.\n",
            "Processing CHEMBL1865393 in molecule.smi (479/1230). Average speed: 0.26 s/mol.\n",
            "Processing CHEMBL1379740 in molecule.smi (480/1230). Average speed: 0.26 s/mol.\n",
            "Processing CHEMBL3194086 in molecule.smi (482/1230). Average speed: 0.26 s/mol.\n",
            "Processing CHEMBL1416184 in molecule.smi (481/1230). Average speed: 0.26 s/mol.\n",
            "Processing CHEMBL1504429 in molecule.smi (484/1230). Average speed: 0.26 s/mol.\n",
            "Processing CHEMBL187460 in molecule.smi (483/1230). Average speed: 0.26 s/mol.\n",
            "Processing CHEMBL1448367 in molecule.smi (485/1230). Average speed: 0.26 s/mol.\n",
            "Processing CHEMBL1409585 in molecule.smi (486/1230). Average speed: 0.26 s/mol.\n",
            "Processing CHEMBL1972915 in molecule.smi (488/1230). Average speed: 0.26 s/mol.\n",
            "Processing CHEMBL1447211 in molecule.smi (487/1230). Average speed: 0.26 s/mol.\n",
            "Processing CHEMBL1594698 in molecule.smi (489/1230). Average speed: 0.26 s/mol.\n",
            "Processing CHEMBL1699845 in molecule.smi (490/1230). Average speed: 0.26 s/mol.\n",
            "Processing CHEMBL1359270 in molecule.smi (491/1230). Average speed: 0.26 s/mol.\n",
            "Processing CHEMBL1287980 in molecule.smi (492/1230). Average speed: 0.26 s/mol.\n",
            "Processing CHEMBL1369802 in molecule.smi (493/1230). Average speed: 0.26 s/mol.\n",
            "Processing CHEMBL3196672 in molecule.smi (494/1230). Average speed: 0.26 s/mol.\n",
            "Processing CHEMBL1379894 in molecule.smi (496/1230). Average speed: 0.26 s/mol.\n",
            "Processing CHEMBL3197091 in molecule.smi (495/1230). Average speed: 0.26 s/mol.\n",
            "Processing CHEMBL3197651 in molecule.smi (498/1230). Average speed: 0.26 s/mol.\n",
            "Processing CHEMBL1604719 in molecule.smi (497/1230). Average speed: 0.26 s/mol.\n",
            "Processing CHEMBL1379924 in molecule.smi (500/1230). Average speed: 0.26 s/mol.\n",
            "Processing CHEMBL1336916 in molecule.smi (499/1230). Average speed: 0.26 s/mol.\n",
            "Processing CHEMBL1364384 in molecule.smi (501/1230). Average speed: 0.26 s/mol.\n",
            "Processing CHEMBL1575788 in molecule.smi (502/1230). Average speed: 0.26 s/mol.\n",
            "Processing CHEMBL381033 in molecule.smi (503/1230). Average speed: 0.26 s/mol.\n",
            "Processing CHEMBL1324406 in molecule.smi (504/1230). Average speed: 0.26 s/mol.\n",
            "Processing CHEMBL1482595 in molecule.smi (505/1230). Average speed: 0.26 s/mol.\n",
            "Processing CHEMBL1354710 in molecule.smi (506/1230). Average speed: 0.26 s/mol.\n",
            "Processing CHEMBL1700257 in molecule.smi (508/1230). Average speed: 0.26 s/mol.\n",
            "Processing CHEMBL1346887 in molecule.smi (507/1230). Average speed: 0.26 s/mol.\n",
            "Processing CHEMBL44664 in molecule.smi (509/1230). Average speed: 0.26 s/mol.\n",
            "Processing CHEMBL1521945 in molecule.smi (510/1230). Average speed: 0.26 s/mol.\n",
            "Processing CHEMBL1543611 in molecule.smi (511/1230). Average speed: 0.26 s/mol.\n",
            "Processing CHEMBL1497878 in molecule.smi (512/1230). Average speed: 0.26 s/mol.\n",
            "Processing CHEMBL1700270 in molecule.smi (513/1230). Average speed: 0.26 s/mol.\n",
            "Processing CHEMBL1887422 in molecule.smi (514/1230). Average speed: 0.26 s/mol.\n",
            "Processing CHEMBL1416451 in molecule.smi (515/1230). Average speed: 0.26 s/mol.\n",
            "Processing CHEMBL3145089 in molecule.smi (516/1230). Average speed: 0.26 s/mol.\n",
            "Processing CHEMBL1537099 in molecule.smi (517/1230). Average speed: 0.26 s/mol.\n",
            "Processing CHEMBL1543897 in molecule.smi (518/1230). Average speed: 0.26 s/mol.\n",
            "Processing CHEMBL1386851 in molecule.smi (519/1230). Average speed: 0.26 s/mol.\n",
            "Processing CHEMBL1594818 in molecule.smi (520/1230). Average speed: 0.26 s/mol.\n",
            "Processing CHEMBL1606705 in molecule.smi (521/1230). Average speed: 0.26 s/mol.\n",
            "Processing CHEMBL1386872 in molecule.smi (523/1230). Average speed: 0.26 s/mol.\n",
            "Processing CHEMBL1572924 in molecule.smi (522/1230). Average speed: 0.26 s/mol.\n",
            "Processing CHEMBL119878 in molecule.smi (524/1230). Average speed: 0.26 s/mol.\n",
            "Processing CHEMBL1409740 in molecule.smi (525/1230). Average speed: 0.26 s/mol.\n",
            "Processing CHEMBL1409780 in molecule.smi (526/1230). Average speed: 0.26 s/mol.\n",
            "Processing CHEMBL1433919 in molecule.smi (527/1230). Average speed: 0.26 s/mol.\n",
            "Processing CHEMBL1399247 in molecule.smi (528/1230). Average speed: 0.26 s/mol.\n",
            "Processing CHEMBL1340229 in molecule.smi (529/1230). Average speed: 0.26 s/mol.\n",
            "Processing CHEMBL441433 in molecule.smi (530/1230). Average speed: 0.26 s/mol.\n",
            "Processing CHEMBL1399331 in molecule.smi (531/1230). Average speed: 0.26 s/mol.\n",
            "Processing CHEMBL1976042 in molecule.smi (532/1230). Average speed: 0.26 s/mol.\n",
            "Processing CHEMBL1477708 in molecule.smi (533/1230). Average speed: 0.26 s/mol.\n",
            "Processing CHEMBL1359508 in molecule.smi (534/1230). Average speed: 0.26 s/mol.\n",
            "Processing CHEMBL1438567 in molecule.smi (535/1230). Average speed: 0.26 s/mol.\n",
            "Processing CHEMBL1306943 in molecule.smi (536/1230). Average speed: 0.26 s/mol.\n",
            "Processing CHEMBL1561832 in molecule.smi (537/1230). Average speed: 0.26 s/mol.\n",
            "Processing CHEMBL1605235 in molecule.smi (538/1230). Average speed: 0.26 s/mol.\n",
            "Processing CHEMBL3194553 in molecule.smi (540/1230). Average speed: 0.25 s/mol.\n",
            "Processing CHEMBL1340284 in molecule.smi (539/1230). Average speed: 0.26 s/mol.\n",
            "Processing CHEMBL1566530 in molecule.smi (541/1230). Average speed: 0.25 s/mol.\n",
            "Processing CHEMBL1701202 in molecule.smi (543/1230). Average speed: 0.25 s/mol.\n",
            "Processing CHEMBL3145018 in molecule.smi (542/1230). Average speed: 0.25 s/mol.\n",
            "Processing CHEMBL1340338 in molecule.smi (544/1230). Average speed: 0.25 s/mol.\n",
            "Processing CHEMBL1404302 in molecule.smi (546/1230). Average speed: 0.25 s/mol.\n",
            "Processing CHEMBL1543994 in molecule.smi (545/1230). Average speed: 0.25 s/mol.\n",
            "Processing CHEMBL1347163 in molecule.smi (547/1230). Average speed: 0.25 s/mol.\n",
            "Processing CHEMBL1347107 in molecule.smi (548/1230). Average speed: 0.25 s/mol.\n",
            "Processing CHEMBL3145049 in molecule.smi (549/1230). Average speed: 0.25 s/mol.\n",
            "Processing CHEMBL1455522 in molecule.smi (550/1230). Average speed: 0.25 s/mol.\n",
            "Processing CHEMBL1458709 in molecule.smi (551/1230). Average speed: 0.25 s/mol.\n",
            "Processing CHEMBL1437854 in molecule.smi (552/1230). Average speed: 0.25 s/mol.\n",
            "Processing CHEMBL1359614 in molecule.smi (553/1230). Average speed: 0.25 s/mol.\n",
            "Processing CHEMBL3196837 in molecule.smi (554/1230). Average speed: 0.26 s/mol.\n",
            "Processing CHEMBL1867311 in molecule.smi (555/1230). Average speed: 0.26 s/mol.\n",
            "Processing CHEMBL1594915 in molecule.smi (556/1230). Average speed: 0.26 s/mol.\n",
            "Processing CHEMBL1700996 in molecule.smi (558/1230). Average speed: 0.26 s/mol.\n",
            "Processing CHEMBL3196993 in molecule.smi (557/1230). Average speed: 0.26 s/mol.\n",
            "Processing CHEMBL1887884 in molecule.smi (560/1230). Average speed: 0.26 s/mol.\n",
            "Processing CHEMBL1337176 in molecule.smi (559/1230). Average speed: 0.26 s/mol.\n",
            "Processing CHEMBL1556267 in molecule.smi (561/1230). Average speed: 0.26 s/mol.\n",
            "Processing CHEMBL1979957 in molecule.smi (562/1230). Average speed: 0.26 s/mol.\n",
            "Processing CHEMBL1426440 in molecule.smi (564/1230). Average speed: 0.25 s/mol.\n",
            "Processing CHEMBL1396610 in molecule.smi (563/1230). Average speed: 0.25 s/mol.\n",
            "Processing CHEMBL1380356 in molecule.smi (566/1230). Average speed: 0.25 s/mol.\n",
            "Processing CHEMBL1720855 in molecule.smi (565/1230). Average speed: 0.25 s/mol.\n",
            "Processing CHEMBL1410091 in molecule.smi (567/1230). Average speed: 0.25 s/mol.\n",
            "Processing CHEMBL1410249 in molecule.smi (568/1230). Average speed: 0.25 s/mol.\n",
            "Processing CHEMBL1582895 in molecule.smi (569/1230). Average speed: 0.25 s/mol.\n",
            "Processing CHEMBL1489865 in molecule.smi (570/1230). Average speed: 0.25 s/mol.\n",
            "Processing CHEMBL1380403 in molecule.smi (571/1230). Average speed: 0.25 s/mol.\n",
            "Processing CHEMBL1494912 in molecule.smi (572/1230). Average speed: 0.25 s/mol.\n",
            "Processing CHEMBL175434 in molecule.smi (573/1230). Average speed: 0.25 s/mol.\n",
            "Processing CHEMBL1426592 in molecule.smi (575/1230). Average speed: 0.25 s/mol.\n",
            "Processing CHEMBL1489812 in molecule.smi (574/1230). Average speed: 0.25 s/mol.\n",
            "Processing CHEMBL1337235 in molecule.smi (577/1230). Average speed: 0.25 s/mol.\n",
            "Processing CHEMBL3145001 in molecule.smi (576/1230). Average speed: 0.25 s/mol.\n",
            "Processing CHEMBL1605668 in molecule.smi (578/1230). Average speed: 0.25 s/mol.\n",
            "Processing CHEMBL1517374 in molecule.smi (579/1230). Average speed: 0.25 s/mol.\n",
            "Processing CHEMBL1325819 in molecule.smi (580/1230). Average speed: 0.25 s/mol.\n",
            "Processing CHEMBL3144970 in molecule.smi (581/1230). Average speed: 0.25 s/mol.\n",
            "Processing CHEMBL1347373 in molecule.smi (582/1230). Average speed: 0.25 s/mol.\n",
            "Processing CHEMBL1307207 in molecule.smi (583/1230). Average speed: 0.25 s/mol.\n",
            "Processing CHEMBL394197 in molecule.smi (584/1230). Average speed: 0.25 s/mol.\n",
            "Processing CHEMBL1603886 in molecule.smi (585/1230). Average speed: 0.25 s/mol.\n",
            "Processing CHEMBL1891071 in molecule.smi (586/1230). Average speed: 0.25 s/mol.\n",
            "Processing CHEMBL1495157 in molecule.smi (587/1230). Average speed: 0.25 s/mol.\n",
            "Processing CHEMBL1340633 in molecule.smi (588/1230). Average speed: 0.25 s/mol.\n",
            "Processing CHEMBL1522210 in molecule.smi (589/1230). Average speed: 0.25 s/mol.\n",
            "Processing CHEMBL1721095 in molecule.smi (590/1230). Average speed: 0.25 s/mol.\n",
            "Processing CHEMBL1534470 in molecule.smi (591/1230). Average speed: 0.25 s/mol.\n",
            "Processing CHEMBL3145155 in molecule.smi (592/1230). Average speed: 0.25 s/mol.\n",
            "Processing CHEMBL1319867 in molecule.smi (593/1230). Average speed: 0.25 s/mol.\n",
            "Processing CHEMBL1566786 in molecule.smi (594/1230). Average speed: 0.25 s/mol.\n",
            "Processing CHEMBL1455803 in molecule.smi (595/1230). Average speed: 0.25 s/mol.\n",
            "Processing CHEMBL1544403 in molecule.smi (596/1230). Average speed: 0.25 s/mol.\n",
            "Processing CHEMBL1410562 in molecule.smi (597/1230). Average speed: 0.25 s/mol.\n",
            "Processing CHEMBL1212972 in molecule.smi (598/1230). Average speed: 0.25 s/mol.\n",
            "Processing CHEMBL1576509 in molecule.smi (599/1230). Average speed: 0.25 s/mol.\n",
            "Processing CHEMBL1495219 in molecule.smi (600/1230). Average speed: 0.25 s/mol.\n",
            "Processing CHEMBL1455757 in molecule.smi (601/1230). Average speed: 0.25 s/mol.\n",
            "Processing CHEMBL3194876 in molecule.smi (602/1230). Average speed: 0.25 s/mol.\n",
            "Processing CHEMBL1370708 in molecule.smi (603/1230). Average speed: 0.25 s/mol.\n",
            "Processing CHEMBL3195177 in molecule.smi (604/1230). Average speed: 0.25 s/mol.\n",
            "Processing CHEMBL1890959 in molecule.smi (605/1230). Average speed: 0.25 s/mol.\n",
            "Processing CHEMBL1890961 in molecule.smi (606/1230). Average speed: 0.25 s/mol.\n",
            "Processing CHEMBL1890165 in molecule.smi (607/1230). Average speed: 0.25 s/mol.\n",
            "Processing CHEMBL1583026 in molecule.smi (608/1230). Average speed: 0.25 s/mol.\n",
            "Processing CHEMBL1984240 in molecule.smi (609/1230). Average speed: 0.25 s/mol.\n",
            "Processing CHEMBL1534498 in molecule.smi (610/1230). Average speed: 0.25 s/mol.\n",
            "Processing CHEMBL1443679 in molecule.smi (611/1230). Average speed: 0.25 s/mol.\n",
            "Processing CHEMBL1517470 in molecule.smi (612/1230). Average speed: 0.25 s/mol.\n",
            "Processing CHEMBL1365018 in molecule.smi (613/1230). Average speed: 0.25 s/mol.\n",
            "Processing CHEMBL1387563 in molecule.smi (614/1230). Average speed: 0.25 s/mol.\n",
            "Processing CHEMBL1370899 in molecule.smi (616/1230). Average speed: 0.25 s/mol.\n",
            "Processing CHEMBL3196491 in molecule.smi (615/1230). Average speed: 0.25 s/mol.\n",
            "Processing CHEMBL1476089 in molecule.smi (617/1230). Average speed: 0.25 s/mol.\n",
            "Processing CHEMBL1387631 in molecule.smi (618/1230). Average speed: 0.25 s/mol.\n",
            "Processing CHEMBL3197063 in molecule.smi (619/1230). Average speed: 0.25 s/mol.\n",
            "Processing CHEMBL1459167 in molecule.smi (620/1230). Average speed: 0.25 s/mol.\n",
            "Processing CHEMBL1721986 in molecule.smi (621/1230). Average speed: 0.25 s/mol.\n",
            "Processing CHEMBL1537807 in molecule.smi (622/1230). Average speed: 0.25 s/mol.\n",
            "Processing CHEMBL1889709 in molecule.smi (623/1230). Average speed: 0.25 s/mol.\n",
            "Processing CHEMBL1583264 in molecule.smi (624/1230). Average speed: 0.25 s/mol.\n",
            "Processing CHEMBL1551717 in molecule.smi (625/1230). Average speed: 0.25 s/mol.\n",
            "Processing CHEMBL1498652 in molecule.smi (626/1230). Average speed: 0.25 s/mol.\n",
            "Processing CHEMBL1365079 in molecule.smi (627/1230). Average speed: 0.25 s/mol.\n",
            "Processing CHEMBL1371004 in molecule.smi (629/1230). Average speed: 0.25 s/mol.\n",
            "Processing CHEMBL1889318 in molecule.smi (628/1230). Average speed: 0.25 s/mol.\n",
            "Processing CHEMBL1465938 in molecule.smi (630/1230). Average speed: 0.25 s/mol.\n",
            "Processing CHEMBL1985932 in molecule.smi (631/1230). Average speed: 0.25 s/mol.\n",
            "Processing CHEMBL3199328 in molecule.smi (632/1230). Average speed: 0.25 s/mol.\n",
            "Processing CHEMBL1380801 in molecule.smi (633/1230). Average speed: 0.25 s/mol.\n",
            "Processing CHEMBL1420379 in molecule.smi (635/1230). Average speed: 0.25 s/mol.\n",
            "Processing CHEMBL1537873 in molecule.smi (634/1230). Average speed: 0.25 s/mol.\n",
            "Processing CHEMBL1347659 in molecule.smi (636/1230). Average speed: 0.25 s/mol.\n",
            "Processing CHEMBL1565506 in molecule.smi (638/1230). Average speed: 0.25 s/mol.\n",
            "Processing CHEMBL1400512 in molecule.smi (637/1230). Average speed: 0.25 s/mol.\n",
            "Processing CHEMBL3186541 in molecule.smi (639/1230). Average speed: 0.25 s/mol.\n",
            "Processing CHEMBL1320143 in molecule.smi (640/1230). Average speed: 0.25 s/mol.\n",
            "Processing CHEMBL1377516 in molecule.smi (642/1230). Average speed: 0.25 s/mol.\n",
            "Processing CHEMBL1420416 in molecule.smi (641/1230). Average speed: 0.25 s/mol.\n",
            "Processing CHEMBL1527 in molecule.smi (643/1230). Average speed: 0.25 s/mol.\n",
            "Processing CHEMBL1377465 in molecule.smi (644/1230). Average speed: 0.25 s/mol.\n",
            "Processing CHEMBL1478304 in molecule.smi (645/1230). Average speed: 0.25 s/mol.\n",
            "Processing CHEMBL1987742 in molecule.smi (646/1230). Average speed: 0.25 s/mol.\n",
            "Processing CHEMBL1417070 in molecule.smi (647/1230). Average speed: 0.25 s/mol.\n",
            "Processing CHEMBL1703236 in molecule.smi (648/1230). Average speed: 0.25 s/mol.\n",
            "Processing CHEMBL1583386 in molecule.smi (649/1230). Average speed: 0.25 s/mol.\n",
            "Processing CHEMBL1331211 in molecule.smi (650/1230). Average speed: 0.25 s/mol.\n",
            "Processing CHEMBL3191602 in molecule.smi (652/1230). Average speed: 0.25 s/mol.\n",
            "Processing CHEMBL1435111 in molecule.smi (651/1230). Average speed: 0.25 s/mol.\n",
            "Processing CHEMBL1466196 in molecule.smi (653/1230). Average speed: 0.25 s/mol.\n",
            "Processing CHEMBL1538023 in molecule.smi (654/1230). Average speed: 0.25 s/mol.\n",
            "Processing CHEMBL1505493 in molecule.smi (656/1230). Average speed: 0.25 s/mol.\n",
            "Processing CHEMBL1869545 in molecule.smi (655/1230). Average speed: 0.25 s/mol.\n",
            "Processing CHEMBL1583428 in molecule.smi (657/1230). Average speed: 0.25 s/mol.\n",
            "Processing CHEMBL1320111 in molecule.smi (658/1230). Average speed: 0.25 s/mol.\n",
            "Processing CHEMBL1702945 in molecule.smi (660/1230). Average speed: 0.25 s/mol.\n",
            "Processing CHEMBL1498871 in molecule.smi (659/1230). Average speed: 0.25 s/mol.\n",
            "Processing CHEMBL1439124 in molecule.smi (661/1230). Average speed: 0.25 s/mol.\n",
            "Processing CHEMBL267548 in molecule.smi (663/1230). Average speed: 0.25 s/mol.\n",
            "Processing CHEMBL1561711 in molecule.smi (662/1230). Average speed: 0.25 s/mol.\n",
            "Processing CHEMBL1544885 in molecule.smi (664/1230). Average speed: 0.25 s/mol.\n",
            "Processing CHEMBL1372387 in molecule.smi (666/1230). Average speed: 0.25 s/mol.\n",
            "Processing CHEMBL1487033 in molecule.smi (665/1230). Average speed: 0.25 s/mol.\n",
            "Processing CHEMBL1420642 in molecule.smi (668/1230). Average speed: 0.25 s/mol.\n",
            "Processing CHEMBL1459491 in molecule.smi (667/1230). Average speed: 0.25 s/mol.\n",
            "Processing CHEMBL1420606 in molecule.smi (669/1230). Average speed: 0.25 s/mol.\n",
            "Processing CHEMBL1387843 in molecule.smi (670/1230). Average speed: 0.25 s/mol.\n",
            "Processing CHEMBL1538116 in molecule.smi (671/1230). Average speed: 0.25 s/mol.\n",
            "Processing CHEMBL1360321 in molecule.smi (672/1230). Average speed: 0.24 s/mol.\n",
            "Processing CHEMBL1451059 in molecule.smi (673/1230). Average speed: 0.24 s/mol.\n",
            "Processing CHEMBL1459563 in molecule.smi (675/1230). Average speed: 0.24 s/mol.\n",
            "Processing CHEMBL1722512 in molecule.smi (674/1230). Average speed: 0.24 s/mol.\n",
            "Processing CHEMBL1722625 in molecule.smi (676/1230). Average speed: 0.24 s/mol.\n",
            "Processing CHEMBL1381149 in molecule.smi (677/1230). Average speed: 0.24 s/mol.\n",
            "Processing CHEMBL1870168 in molecule.smi (678/1230). Average speed: 0.24 s/mol.\n",
            "Processing CHEMBL1607313 in molecule.smi (679/1230). Average speed: 0.24 s/mol.\n",
            "Processing CHEMBL409315 in molecule.smi (680/1230). Average speed: 0.24 s/mol.\n",
            "Processing CHEMBL1892650 in molecule.smi (681/1230). Average speed: 0.24 s/mol.\n",
            "Processing CHEMBL1420739 in molecule.smi (682/1230). Average speed: 0.24 s/mol.\n",
            "Processing CHEMBL1538225 in molecule.smi (683/1230). Average speed: 0.24 s/mol.\n",
            "Processing CHEMBL1703976 in molecule.smi (684/1230). Average speed: 0.24 s/mol.\n",
            "Processing CHEMBL1529705 in molecule.smi (685/1230). Average speed: 0.24 s/mol.\n",
            "Processing CHEMBL1703892 in molecule.smi (686/1230). Average speed: 0.25 s/mol.\n",
            "Processing CHEMBL1444119 in molecule.smi (687/1230). Average speed: 0.25 s/mol.\n",
            "Processing CHEMBL1703812 in molecule.smi (688/1230). Average speed: 0.25 s/mol.\n",
            "Processing CHEMBL1400127 in molecule.smi (689/1230). Average speed: 0.25 s/mol.\n",
            "Processing CHEMBL1466466 in molecule.smi (690/1230). Average speed: 0.25 s/mol.\n",
            "Processing CHEMBL1325440 in molecule.smi (691/1230). Average speed: 0.25 s/mol.\n",
            "Processing CHEMBL1411221 in molecule.smi (692/1230). Average speed: 0.25 s/mol.\n",
            "Processing CHEMBL221415 in molecule.smi (693/1230). Average speed: 0.25 s/mol.\n",
            "Processing CHEMBL1341444 in molecule.smi (694/1230). Average speed: 0.25 s/mol.\n",
            "Processing CHEMBL1538359 in molecule.smi (695/1230). Average speed: 0.25 s/mol.\n",
            "Processing CHEMBL1489633 in molecule.smi (696/1230). Average speed: 0.25 s/mol.\n",
            "Processing CHEMBL1301362 in molecule.smi (697/1230). Average speed: 0.25 s/mol.\n",
            "Processing CHEMBL1400214 in molecule.smi (698/1230). Average speed: 0.25 s/mol.\n",
            "Processing CHEMBL1704261 in molecule.smi (699/1230). Average speed: 0.25 s/mol.\n",
            "Processing CHEMBL1301353 in molecule.smi (700/1230). Average speed: 0.25 s/mol.\n",
            "Processing CHEMBL1331561 in molecule.smi (701/1230). Average speed: 0.25 s/mol.\n",
            "Processing CHEMBL1538386 in molecule.smi (702/1230). Average speed: 0.25 s/mol.\n",
            "Processing CHEMBL1478635 in molecule.smi (703/1230). Average speed: 0.25 s/mol.\n",
            "Processing CHEMBL3190829 in molecule.smi (704/1230). Average speed: 0.25 s/mol.\n",
            "Processing CHEMBL1723511 in molecule.smi (705/1230). Average speed: 0.25 s/mol.\n",
            "Processing CHEMBL1991442 in molecule.smi (706/1230). Average speed: 0.25 s/mol.\n",
            "Processing CHEMBL1371641 in molecule.smi (707/1230). Average speed: 0.25 s/mol.\n",
            "Processing CHEMBL1172978 in molecule.smi (708/1230). Average speed: 0.25 s/mol.\n",
            "Processing CHEMBL1551702 in molecule.smi (709/1230). Average speed: 0.25 s/mol.\n",
            "Processing CHEMBL1172912 in molecule.smi (710/1230). Average speed: 0.25 s/mol.\n",
            "Processing CHEMBL3145109 in molecule.smi (711/1230). Average speed: 0.25 s/mol.\n",
            "Processing CHEMBL1491562 in molecule.smi (712/1230). Average speed: 0.25 s/mol.\n",
            "Processing CHEMBL3191780 in molecule.smi (713/1230). Average speed: 0.25 s/mol.\n",
            "Processing CHEMBL1478587 in molecule.smi (714/1230). Average speed: 0.25 s/mol.\n",
            "Processing CHEMBL1411344 in molecule.smi (715/1230). Average speed: 0.25 s/mol.\n",
            "Processing CHEMBL1506031 in molecule.smi (717/1230). Average speed: 0.24 s/mol.\n",
            "Processing CHEMBL1528850 in molecule.smi (716/1230). Average speed: 0.24 s/mol.\n",
            "Processing CHEMBL1538460 in molecule.smi (719/1230). Average speed: 0.24 s/mol.\n",
            "Processing CHEMBL1723955 in molecule.smi (718/1230). Average speed: 0.24 s/mol.\n",
            "Processing CHEMBL1308276 in molecule.smi (720/1230). Average speed: 0.24 s/mol.\n",
            "Processing CHEMBL1325591 in molecule.smi (722/1230). Average speed: 0.24 s/mol.\n",
            "Processing CHEMBL1331911 in molecule.smi (721/1230). Average speed: 0.24 s/mol.\n",
            "Processing CHEMBL1434285 in molecule.smi (723/1230). Average speed: 0.24 s/mol.\n",
            "Processing CHEMBL1607263 in molecule.smi (724/1230). Average speed: 0.24 s/mol.\n",
            "Processing CHEMBL1368308 in molecule.smi (725/1230). Average speed: 0.24 s/mol.\n",
            "Processing CHEMBL1400203 in molecule.smi (726/1230). Average speed: 0.24 s/mol.\n",
            "Processing CHEMBL1704513 in molecule.smi (728/1230). Average speed: 0.24 s/mol.\n",
            "Processing CHEMBL1405333 in molecule.smi (727/1230). Average speed: 0.24 s/mol.\n",
            "Processing CHEMBL1517389 in molecule.smi (729/1230). Average speed: 0.24 s/mol.\n",
            "Processing CHEMBL1994371 in molecule.smi (731/1230). Average speed: 0.24 s/mol.\n",
            "Processing CHEMBL1529285 in molecule.smi (730/1230). Average speed: 0.24 s/mol.\n",
            "Processing CHEMBL1724452 in molecule.smi (732/1230). Average speed: 0.24 s/mol.\n",
            "Processing CHEMBL1538622 in molecule.smi (733/1230). Average speed: 0.24 s/mol.\n",
            "Processing CHEMBL1332506 in molecule.smi (734/1230). Average speed: 0.24 s/mol.\n",
            "Processing CHEMBL1518073 in molecule.smi (735/1230). Average speed: 0.24 s/mol.\n",
            "Processing CHEMBL1705201 in molecule.smi (736/1230). Average speed: 0.24 s/mol.\n",
            "Processing CHEMBL1450570 in molecule.smi (737/1230). Average speed: 0.24 s/mol.\n",
            "Processing CHEMBL1421193 in molecule.smi (738/1230). Average speed: 0.24 s/mol.\n",
            "Processing CHEMBL1568643 in molecule.smi (740/1230). Average speed: 0.24 s/mol.\n",
            "Processing CHEMBL1577474 in molecule.smi (739/1230). Average speed: 0.24 s/mol.\n",
            "Processing CHEMBL1308404 in molecule.smi (741/1230). Average speed: 0.24 s/mol.\n",
            "Processing CHEMBL1456635 in molecule.smi (742/1230). Average speed: 0.24 s/mol.\n",
            "Processing CHEMBL1341762 in molecule.smi (743/1230). Average speed: 0.24 s/mol.\n",
            "Processing CHEMBL1427750 in molecule.smi (744/1230). Average speed: 0.24 s/mol.\n",
            "Processing CHEMBL1526855 in molecule.smi (745/1230). Average speed: 0.24 s/mol.\n",
            "Processing CHEMBL1499491 in molecule.smi (746/1230). Average speed: 0.24 s/mol.\n",
            "Processing CHEMBL1400449 in molecule.smi (747/1230). Average speed: 0.24 s/mol.\n",
            "Processing CHEMBL1871771 in molecule.smi (748/1230). Average speed: 0.24 s/mol.\n",
            "Processing CHEMBL1360525 in molecule.smi (749/1230). Average speed: 0.24 s/mol.\n",
            "Processing CHEMBL1466912 in molecule.smi (750/1230). Average speed: 0.24 s/mol.\n",
            "Processing CHEMBL1584052 in molecule.smi (751/1230). Average speed: 0.24 s/mol.\n",
            "Processing CHEMBL1995904 in molecule.smi (752/1230). Average speed: 0.24 s/mol.\n",
            "Processing CHEMBL3199658 in molecule.smi (753/1230). Average speed: 0.24 s/mol.\n",
            "Processing CHEMBL1421256 in molecule.smi (754/1230). Average speed: 0.24 s/mol.\n",
            "Processing CHEMBL1704904 in molecule.smi (755/1230). Average speed: 0.24 s/mol.\n",
            "Processing CHEMBL1998302 in molecule.smi (756/1230). Average speed: 0.24 s/mol.\n",
            "Processing CHEMBL1705449 in molecule.smi (757/1230). Average speed: 0.24 s/mol.\n",
            "Processing CHEMBL1529471 in molecule.smi (758/1230). Average speed: 0.24 s/mol.\n",
            "Processing CHEMBL1381676 in molecule.smi (759/1230). Average speed: 0.24 s/mol.\n",
            "Processing CHEMBL1316014 in molecule.smi (760/1230). Average speed: 0.24 s/mol.\n",
            "Processing CHEMBL1606907 in molecule.smi (761/1230). Average speed: 0.24 s/mol.\n",
            "Processing CHEMBL1895325 in molecule.smi (762/1230). Average speed: 0.24 s/mol.\n",
            "Processing CHEMBL1724600 in molecule.smi (763/1230). Average speed: 0.24 s/mol.\n",
            "Processing CHEMBL1341870 in molecule.smi (764/1230). Average speed: 0.24 s/mol.\n",
            "Processing CHEMBL1421333 in molecule.smi (766/1230). Average speed: 0.24 s/mol.\n",
            "Processing CHEMBL1604350 in molecule.smi (765/1230). Average speed: 0.24 s/mol.\n",
            "Processing CHEMBL1467007 in molecule.smi (768/1230). Average speed: 0.24 s/mol.\n",
            "Processing CHEMBL1523077 in molecule.smi (767/1230). Average speed: 0.24 s/mol.\n",
            "Processing CHEMBL1895397 in molecule.smi (769/1230). Average speed: 0.24 s/mol.\n",
            "Processing CHEMBL1409603 in molecule.smi (770/1230). Average speed: 0.24 s/mol.\n",
            "Processing CHEMBL1577622 in molecule.smi (771/1230). Average speed: 0.24 s/mol.\n",
            "Processing CHEMBL3191474 in molecule.smi (772/1230). Average speed: 0.24 s/mol.\n",
            "Processing CHEMBL1529115 in molecule.smi (774/1230). Average speed: 0.24 s/mol.\n",
            "Processing CHEMBL1342041 in molecule.smi (773/1230). Average speed: 0.24 s/mol.\n",
            "Processing CHEMBL1499798 in molecule.smi (775/1230). Average speed: 0.24 s/mol.\n",
            "Processing CHEMBL1325759 in molecule.smi (776/1230). Average speed: 0.24 s/mol.\n",
            "Processing CHEMBL1568333 in molecule.smi (777/1230). Average speed: 0.24 s/mol.\n",
            "Processing CHEMBL1421441 in molecule.smi (778/1230). Average speed: 0.24 s/mol.\n",
            "Processing CHEMBL1467030 in molecule.smi (779/1230). Average speed: 0.24 s/mol.\n",
            "Processing CHEMBL1360792 in molecule.smi (780/1230). Average speed: 0.24 s/mol.\n",
            "Processing CHEMBL3193823 in molecule.smi (781/1230). Average speed: 0.24 s/mol.\n",
            "Processing CHEMBL3194164 in molecule.smi (782/1230). Average speed: 0.24 s/mol.\n",
            "Processing CHEMBL1369492 in molecule.smi (783/1230). Average speed: 0.24 s/mol.\n",
            "Processing CHEMBL1400620 in molecule.smi (785/1230). Average speed: 0.24 s/mol.\n",
            "Processing CHEMBL1467133 in molecule.smi (784/1230). Average speed: 0.24 s/mol.\n",
            "Processing CHEMBL1378309 in molecule.smi (787/1230). Average speed: 0.24 s/mol.\n",
            "Processing CHEMBL1523343 in molecule.smi (786/1230). Average speed: 0.24 s/mol.\n",
            "Processing CHEMBL1332481 in molecule.smi (789/1230). Average speed: 0.24 s/mol.\n",
            "Processing CHEMBL1499794 in molecule.smi (788/1230). Average speed: 0.24 s/mol.\n",
            "Processing CHEMBL1545646 in molecule.smi (790/1230). Average speed: 0.24 s/mol.\n",
            "Processing CHEMBL1439832 in molecule.smi (791/1230). Average speed: 0.24 s/mol.\n",
            "Processing CHEMBL1998566 in molecule.smi (792/1230). Average speed: 0.24 s/mol.\n",
            "Processing CHEMBL1476442 in molecule.smi (793/1230). Average speed: 0.24 s/mol.\n",
            "Processing CHEMBL1369527 in molecule.smi (794/1230). Average speed: 0.24 s/mol.\n",
            "Processing CHEMBL1494334 in molecule.smi (795/1230). Average speed: 0.24 s/mol.\n",
            "Processing CHEMBL1872442 in molecule.smi (796/1230). Average speed: 0.24 s/mol.\n",
            "Processing CHEMBL1551808 in molecule.smi (797/1230). Average speed: 0.24 s/mol.\n",
            "Processing CHEMBL1725519 in molecule.smi (798/1230). Average speed: 0.24 s/mol.\n",
            "Processing CHEMBL1428078 in molecule.smi (799/1230). Average speed: 0.24 s/mol.\n",
            "Processing CHEMBL3145023 in molecule.smi (800/1230). Average speed: 0.24 s/mol.\n",
            "Processing CHEMBL1612887 in molecule.smi (801/1230). Average speed: 0.24 s/mol.\n",
            "Processing CHEMBL1562359 in molecule.smi (802/1230). Average speed: 0.24 s/mol.\n",
            "Processing CHEMBL1872625 in molecule.smi (803/1230). Average speed: 0.24 s/mol.\n",
            "Processing CHEMBL1535285 in molecule.smi (804/1230). Average speed: 0.24 s/mol.\n",
            "Processing CHEMBL1568897 in molecule.smi (805/1230). Average speed: 0.24 s/mol.\n",
            "Processing CHEMBL3197999 in molecule.smi (806/1230). Average speed: 0.24 s/mol.\n",
            "Processing CHEMBL1490597 in molecule.smi (807/1230). Average speed: 0.24 s/mol.\n",
            "Processing CHEMBL1378223 in molecule.smi (808/1230). Average speed: 0.24 s/mol.\n",
            "Processing CHEMBL1417932 in molecule.smi (809/1230). Average speed: 0.24 s/mol.\n",
            "Processing CHEMBL1405684 in molecule.smi (810/1230). Average speed: 0.24 s/mol.\n",
            "Processing CHEMBL1523512 in molecule.smi (811/1230). Average speed: 0.24 s/mol.\n",
            "Processing CHEMBL1577907 in molecule.smi (812/1230). Average speed: 0.24 s/mol.\n",
            "Processing CHEMBL1607556 in molecule.smi (813/1230). Average speed: 0.24 s/mol.\n",
            "Processing CHEMBL1302213 in molecule.smi (814/1230). Average speed: 0.24 s/mol.\n",
            "Processing CHEMBL1506708 in molecule.smi (815/1230). Average speed: 0.24 s/mol.\n",
            "Processing CHEMBL1460695 in molecule.smi (816/1230). Average speed: 0.24 s/mol.\n",
            "Processing CHEMBL1321179 in molecule.smi (817/1230). Average speed: 0.24 s/mol.\n",
            "Processing CHEMBL2003651 in molecule.smi (818/1230). Average speed: 0.24 s/mol.\n",
            "Processing CHEMBL1428278 in molecule.smi (819/1230). Average speed: 0.24 s/mol.\n",
            "Processing CHEMBL1706407 in molecule.smi (820/1230). Average speed: 0.24 s/mol.\n",
            "Processing CHEMBL1596373 in molecule.smi (821/1230). Average speed: 0.24 s/mol.\n",
            "Processing CHEMBL1706454 in molecule.smi (822/1230). Average speed: 0.24 s/mol.\n",
            "Processing CHEMBL1535586 in molecule.smi (823/1230). Average speed: 0.24 s/mol.\n",
            "Processing CHEMBL1400929 in molecule.smi (825/1230). Average speed: 0.24 s/mol.\n",
            "Processing CHEMBL1317077 in molecule.smi (824/1230). Average speed: 0.24 s/mol.\n",
            "Processing CHEMBL3191758 in molecule.smi (827/1230). Average speed: 0.24 s/mol.\n",
            "Processing CHEMBL1389073 in molecule.smi (826/1230). Average speed: 0.24 s/mol.\n",
            "Processing CHEMBL1479103 in molecule.smi (828/1230). Average speed: 0.24 s/mol.\n",
            "Processing CHEMBL1726363 in molecule.smi (830/1230). Average speed: 0.24 s/mol.\n",
            "Processing CHEMBL1321164 in molecule.smi (829/1230). Average speed: 0.24 s/mol.\n",
            "Processing CHEMBL8260 in molecule.smi (831/1230). Average speed: 0.24 s/mol.\n",
            "Processing CHEMBL1893983 in molecule.smi (833/1230). Average speed: 0.24 s/mol.\n",
            "Processing CHEMBL1500035 in molecule.smi (832/1230). Average speed: 0.24 s/mol.\n",
            "Processing CHEMBL1460650 in molecule.smi (834/1230). Average speed: 0.24 s/mol.\n",
            "Processing CHEMBL1496231 in molecule.smi (836/1230). Average speed: 0.24 s/mol.\n",
            "Processing CHEMBL1500165 in molecule.smi (835/1230). Average speed: 0.24 s/mol.\n",
            "Processing CHEMBL1726134 in molecule.smi (838/1230). Average speed: 0.24 s/mol.\n",
            "Processing CHEMBL1707040 in molecule.smi (837/1230). Average speed: 0.24 s/mol.\n",
            "Processing CHEMBL1568915 in molecule.smi (840/1230). Average speed: 0.24 s/mol.\n",
            "Processing CHEMBL1535670 in molecule.smi (839/1230). Average speed: 0.24 s/mol.\n",
            "Processing CHEMBL1382399 in molecule.smi (841/1230). Average speed: 0.24 s/mol.\n",
            "Processing CHEMBL1302328 in molecule.smi (842/1230). Average speed: 0.24 s/mol.\n",
            "Processing CHEMBL1584752 in molecule.smi (844/1230). Average speed: 0.24 s/mol.\n",
            "Processing CHEMBL1321103 in molecule.smi (843/1230). Average speed: 0.24 s/mol.\n",
            "Processing CHEMBL1338698 in molecule.smi (846/1230). Average speed: 0.24 s/mol.\n",
            "Processing CHEMBL1569215 in molecule.smi (845/1230). Average speed: 0.24 s/mol.\n",
            "Processing CHEMBL1484283 in molecule.smi (848/1230). Average speed: 0.24 s/mol.\n",
            "Processing CHEMBL1326252 in molecule.smi (847/1230). Average speed: 0.24 s/mol.\n",
            "Processing CHEMBL1428507 in molecule.smi (849/1230). Average speed: 0.24 s/mol.\n",
            "Processing CHEMBL1496458 in molecule.smi (850/1230). Average speed: 0.24 s/mol.\n",
            "Processing CHEMBL1457048 in molecule.smi (851/1230). Average speed: 0.24 s/mol.\n",
            "Processing CHEMBL562949 in molecule.smi (852/1230). Average speed: 0.24 s/mol.\n",
            "Processing CHEMBL3145176 in molecule.smi (854/1230). Average speed: 0.24 s/mol.\n",
            "Processing CHEMBL1873953 in molecule.smi (853/1230). Average speed: 0.24 s/mol.\n",
            "Processing CHEMBL1428688 in molecule.smi (855/1230). Average speed: 0.24 s/mol.\n",
            "Processing CHEMBL1366252 in molecule.smi (857/1230). Average speed: 0.24 s/mol.\n",
            "Processing CHEMBL1302460 in molecule.smi (856/1230). Average speed: 0.24 s/mol.\n",
            "Processing CHEMBL1484379 in molecule.smi (859/1230). Average speed: 0.24 s/mol.\n",
            "Processing CHEMBL1500266 in molecule.smi (858/1230). Average speed: 0.24 s/mol.\n",
            "Processing CHEMBL1578127 in molecule.smi (860/1230). Average speed: 0.24 s/mol.\n",
            "Processing CHEMBL1448387 in molecule.smi (861/1230). Average speed: 0.24 s/mol.\n",
            "Processing CHEMBL1590513 in molecule.smi (862/1230). Average speed: 0.24 s/mol.\n",
            "Processing CHEMBL1514916 in molecule.smi (864/1230). Average speed: 0.24 s/mol.\n",
            "Processing CHEMBL1372964 in molecule.smi (863/1230). Average speed: 0.24 s/mol.\n",
            "Processing CHEMBL1535633 in molecule.smi (865/1230). Average speed: 0.24 s/mol.\n",
            "Processing CHEMBL1467719 in molecule.smi (866/1230). Average speed: 0.24 s/mol.\n",
            "Processing CHEMBL1557914 in molecule.smi (868/1230). Average speed: 0.24 s/mol.\n",
            "Processing CHEMBL1707443 in molecule.smi (867/1230). Average speed: 0.24 s/mol.\n",
            "Processing CHEMBL1707215 in molecule.smi (869/1230). Average speed: 0.24 s/mol.\n",
            "Processing CHEMBL1349290 in molecule.smi (870/1230). Average speed: 0.24 s/mol.\n",
            "Processing CHEMBL1539338 in molecule.smi (871/1230). Average speed: 0.24 s/mol.\n",
            "Processing CHEMBL1546228 in molecule.smi (872/1230). Average speed: 0.24 s/mol.\n",
            "Processing CHEMBL1467623 in molecule.smi (873/1230). Average speed: 0.24 s/mol.\n",
            "Processing CHEMBL3392068 in molecule.smi (875/1230). Average speed: 0.24 s/mol.\n",
            "Processing CHEMBL1569134 in molecule.smi (874/1230). Average speed: 0.24 s/mol.\n",
            "Processing CHEMBL1707222 in molecule.smi (877/1230). Average speed: 0.24 s/mol.\n",
            "Processing CHEMBL393834 in molecule.smi (876/1230). Average speed: 0.24 s/mol.\n",
            "Processing CHEMBL1578345 in molecule.smi (878/1230). Average speed: 0.24 s/mol.\n",
            "Processing CHEMBL1562723 in molecule.smi (879/1230). Average speed: 0.24 s/mol.\n",
            "Processing CHEMBL1382439 in molecule.smi (880/1230). Average speed: 0.24 s/mol.\n",
            "Processing CHEMBL1372836 in molecule.smi (881/1230). Average speed: 0.24 s/mol.\n",
            "Processing CHEMBL1302524 in molecule.smi (882/1230). Average speed: 0.24 s/mol.\n",
            "Processing CHEMBL1428710 in molecule.smi (883/1230). Average speed: 0.24 s/mol.\n",
            "Processing CHEMBL1412785 in molecule.smi (884/1230). Average speed: 0.24 s/mol.\n",
            "Processing CHEMBL1546134 in molecule.smi (885/1230). Average speed: 0.24 s/mol.\n",
            "Processing CHEMBL1546136 in molecule.smi (886/1230). Average speed: 0.24 s/mol.\n",
            "Processing CHEMBL1562843 in molecule.smi (887/1230). Average speed: 0.24 s/mol.\n",
            "Processing CHEMBL1479624 in molecule.smi (888/1230). Average speed: 0.24 s/mol.\n",
            "Processing CHEMBL118175 in molecule.smi (889/1230). Average speed: 0.24 s/mol.\n",
            "Processing CHEMBL1467893 in molecule.smi (891/1230). Average speed: 0.24 s/mol.\n",
            "Processing CHEMBL1418191 in molecule.smi (890/1230). Average speed: 0.24 s/mol.\n",
            "Processing CHEMBL1422185 in molecule.smi (892/1230). Average speed: 0.24 s/mol.\n",
            "Processing CHEMBL179574 in molecule.smi (893/1230). Average speed: 0.24 s/mol.\n",
            "Processing CHEMBL1578299 in molecule.smi (894/1230). Average speed: 0.24 s/mol.\n",
            "Processing CHEMBL1342821 in molecule.smi (895/1230). Average speed: 0.24 s/mol.\n",
            "Processing CHEMBL1566266 in molecule.smi (896/1230). Average speed: 0.24 s/mol.\n",
            "Processing CHEMBL1389299 in molecule.smi (897/1230). Average speed: 0.24 s/mol.\n",
            "Processing CHEMBL1553837 in molecule.smi (898/1230). Average speed: 0.24 s/mol.\n",
            "Processing CHEMBL1607675 in molecule.smi (899/1230). Average speed: 0.24 s/mol.\n",
            "Processing CHEMBL1610025 in molecule.smi (901/1230). Average speed: 0.24 s/mol.\n",
            "Processing CHEMBL1322995 in molecule.smi (900/1230). Average speed: 0.24 s/mol.\n",
            "Processing CHEMBL1422340 in molecule.smi (902/1230). Average speed: 0.24 s/mol.\n",
            "Processing CHEMBL1707907 in molecule.smi (904/1230). Average speed: 0.24 s/mol.\n",
            "Processing CHEMBL1271266 in molecule.smi (903/1230). Average speed: 0.24 s/mol.\n",
            "Processing CHEMBL1585191 in molecule.smi (906/1230). Average speed: 0.24 s/mol.\n",
            "Processing CHEMBL1349629 in molecule.smi (905/1230). Average speed: 0.24 s/mol.\n",
            "Processing CHEMBL1309568 in molecule.smi (908/1230). Average speed: 0.24 s/mol.\n",
            "Processing CHEMBL1558051 in molecule.smi (907/1230). Average speed: 0.24 s/mol.\n",
            "Processing CHEMBL1507443 in molecule.smi (910/1230). Average speed: 0.24 s/mol.\n",
            "Processing CHEMBL1349676 in molecule.smi (909/1230). Average speed: 0.23 s/mol.\n",
            "Processing CHEMBL1496782 in molecule.smi (911/1230). Average speed: 0.24 s/mol.\n",
            "Processing CHEMBL1373316 in molecule.smi (912/1230). Average speed: 0.24 s/mol.\n",
            "Processing CHEMBL3144999 in molecule.smi (913/1230). Average speed: 0.23 s/mol.\n",
            "Processing CHEMBL1728065 in molecule.smi (914/1230). Average speed: 0.23 s/mol.\n",
            "Processing CHEMBL1361582 in molecule.smi (915/1230). Average speed: 0.24 s/mol.\n",
            "Processing CHEMBL1479843 in molecule.smi (917/1230). Average speed: 0.23 s/mol.\n",
            "Processing CHEMBL1382760 in molecule.smi (916/1230). Average speed: 0.24 s/mol.\n",
            "Processing CHEMBL1578670 in molecule.smi (918/1230). Average speed: 0.23 s/mol.\n",
            "Processing CHEMBL3196706 in molecule.smi (920/1230). Average speed: 0.23 s/mol.\n",
            "Processing CHEMBL1895726 in molecule.smi (919/1230). Average speed: 0.23 s/mol.\n",
            "Processing CHEMBL1708363 in molecule.smi (922/1230). Average speed: 0.23 s/mol.\n",
            "Processing CHEMBL210208 in molecule.smi (921/1230). Average speed: 0.23 s/mol.\n",
            "Processing CHEMBL1968273 in molecule.smi (923/1230). Average speed: 0.23 s/mol.\n",
            "Processing CHEMBL1608106 in molecule.smi (924/1230). Average speed: 0.23 s/mol.\n",
            "Processing CHEMBL1326643 in molecule.smi (925/1230). Average speed: 0.23 s/mol.\n",
            "Processing CHEMBL1496732 in molecule.smi (926/1230). Average speed: 0.23 s/mol.\n",
            "Processing CHEMBL1728361 in molecule.smi (927/1230). Average speed: 0.23 s/mol.\n",
            "Processing CHEMBL1382785 in molecule.smi (928/1230). Average speed: 0.23 s/mol.\n",
            "Processing CHEMBL1562987 in molecule.smi (929/1230). Average speed: 0.23 s/mol.\n",
            "Processing CHEMBL1389785 in molecule.smi (930/1230). Average speed: 0.23 s/mol.\n",
            "Processing CHEMBL1968789 in molecule.smi (931/1230). Average speed: 0.23 s/mol.\n",
            "Processing CHEMBL1349793 in molecule.smi (932/1230). Average speed: 0.23 s/mol.\n",
            "Processing CHEMBL2021431 in molecule.smi (933/1230). Average speed: 0.23 s/mol.\n",
            "Processing CHEMBL1412968 in molecule.smi (934/1230). Average speed: 0.23 s/mol.\n",
            "Processing CHEMBL1558183 in molecule.smi (935/1230). Average speed: 0.23 s/mol.\n",
            "Processing CHEMBL3198496 in molecule.smi (936/1230). Average speed: 0.23 s/mol.\n",
            "Processing CHEMBL1370025 in molecule.smi (937/1230). Average speed: 0.23 s/mol.\n",
            "Processing CHEMBL1969088 in molecule.smi (938/1230). Average speed: 0.23 s/mol.\n",
            "Processing CHEMBL1608255 in molecule.smi (940/1230). Average speed: 0.23 s/mol.\n",
            "Processing CHEMBL3198976 in molecule.smi (939/1230). Average speed: 0.23 s/mol.\n",
            "Processing CHEMBL1969672 in molecule.smi (941/1230). Average speed: 0.23 s/mol.\n",
            "Processing CHEMBL1500942 in molecule.smi (942/1230). Average speed: 0.23 s/mol.\n",
            "Processing CHEMBL1448709 in molecule.smi (943/1230). Average speed: 0.23 s/mol.\n",
            "Processing CHEMBL1601846 in molecule.smi (944/1230). Average speed: 0.23 s/mol.\n",
            "Processing CHEMBL1728280 in molecule.smi (945/1230). Average speed: 0.23 s/mol.\n",
            "Processing CHEMBL1708852 in molecule.smi (946/1230). Average speed: 0.23 s/mol.\n",
            "Processing CHEMBL1790039 in molecule.smi (948/1230). Average speed: 0.23 s/mol.\n",
            "Processing CHEMBL1349850 in molecule.smi (947/1230). Average speed: 0.23 s/mol.\n",
            "Processing CHEMBL3190974 in molecule.smi (949/1230). Average speed: 0.23 s/mol.\n",
            "Processing CHEMBL1302957 in molecule.smi (950/1230). Average speed: 0.23 s/mol.\n",
            "Processing CHEMBL1382968 in molecule.smi (951/1230). Average speed: 0.23 s/mol.\n",
            "Processing CHEMBL63883 in molecule.smi (952/1230). Average speed: 0.23 s/mol.\n",
            "Processing CHEMBL1321664 in molecule.smi (953/1230). Average speed: 0.23 s/mol.\n",
            "Processing CHEMBL1324674 in molecule.smi (954/1230). Average speed: 0.23 s/mol.\n",
            "Processing CHEMBL495852 in molecule.smi (955/1230). Average speed: 0.23 s/mol.\n",
            "Processing CHEMBL1507776 in molecule.smi (956/1230). Average speed: 0.23 s/mol.\n",
            "Processing CHEMBL1536153 in molecule.smi (957/1230). Average speed: 0.23 s/mol.\n",
            "Processing CHEMBL1601789 in molecule.smi (958/1230). Average speed: 0.23 s/mol.\n",
            "Processing CHEMBL3192179 in molecule.smi (960/1230). Average speed: 0.23 s/mol.\n",
            "Processing CHEMBL1429320 in molecule.smi (959/1230). Average speed: 0.23 s/mol.\n",
            "Processing CHEMBL1563172 in molecule.smi (961/1230). Average speed: 0.23 s/mol.\n",
            "Processing CHEMBL1479899 in molecule.smi (962/1230). Average speed: 0.23 s/mol.\n",
            "Processing CHEMBL1613608 in molecule.smi (964/1230). Average speed: 0.23 s/mol.\n",
            "Processing CHEMBL1317919 in molecule.smi (963/1230). Average speed: 0.23 s/mol.\n",
            "Processing CHEMBL1339158 in molecule.smi (965/1230). Average speed: 0.23 s/mol.\n",
            "Processing CHEMBL1484839 in molecule.smi (966/1230). Average speed: 0.23 s/mol.\n",
            "Processing CHEMBL3193639 in molecule.smi (967/1230). Average speed: 0.23 s/mol.\n",
            "Processing CHEMBL1972037 in molecule.smi (968/1230). Average speed: 0.23 s/mol.\n",
            "Processing CHEMBL1578997 in molecule.smi (969/1230). Average speed: 0.23 s/mol.\n",
            "Processing CHEMBL1271764 in molecule.smi (970/1230). Average speed: 0.23 s/mol.\n",
            "Processing CHEMBL1383141 in molecule.smi (971/1230). Average speed: 0.23 s/mol.\n",
            "Processing CHEMBL1422763 in molecule.smi (972/1230). Average speed: 0.23 s/mol.\n",
            "Processing CHEMBL1383256 in molecule.smi (973/1230). Average speed: 0.23 s/mol.\n",
            "Processing CHEMBL1350220 in molecule.smi (974/1230). Average speed: 0.23 s/mol.\n",
            "Processing CHEMBL1310138 in molecule.smi (976/1230). Average speed: 0.23 s/mol.\n",
            "Processing CHEMBL1461619 in molecule.smi (975/1230). Average speed: 0.23 s/mol.\n",
            "Processing CHEMBL1519313 in molecule.smi (977/1230). Average speed: 0.23 s/mol.\n",
            "Processing CHEMBL1333250 in molecule.smi (978/1230). Average speed: 0.23 s/mol.\n",
            "Processing CHEMBL1422732 in molecule.smi (979/1230). Average speed: 0.23 s/mol.\n",
            "Processing CHEMBL3209440 in molecule.smi (980/1230). Average speed: 0.23 s/mol.\n",
            "Processing CHEMBL3144974 in molecule.smi (981/1230). Average speed: 0.23 s/mol.\n",
            "Processing CHEMBL1310036 in molecule.smi (982/1230). Average speed: 0.23 s/mol.\n",
            "Processing CHEMBL1899341 in molecule.smi (983/1230). Average speed: 0.23 s/mol.\n",
            "Processing CHEMBL1329974 in molecule.smi (984/1230). Average speed: 0.23 s/mol.\n",
            "Processing CHEMBL1501132 in molecule.smi (985/1230). Average speed: 0.23 s/mol.\n",
            "Processing CHEMBL1373937 in molecule.smi (986/1230). Average speed: 0.23 s/mol.\n",
            "Processing CHEMBL246448 in molecule.smi (987/1230). Average speed: 0.23 s/mol.\n",
            "Processing CHEMBL1303426 in molecule.smi (988/1230). Average speed: 0.23 s/mol.\n",
            "Processing CHEMBL3198927 in molecule.smi (989/1230). Average speed: 0.23 s/mol.\n",
            "Processing CHEMBL1327017 in molecule.smi (990/1230). Average speed: 0.23 s/mol.\n",
            "Processing CHEMBL1585923 in molecule.smi (991/1230). Average speed: 0.23 s/mol.\n",
            "Processing CHEMBL1401639 in molecule.smi (992/1230). Average speed: 0.23 s/mol.\n",
            "Processing CHEMBL1448985 in molecule.smi (993/1230). Average speed: 0.23 s/mol.\n",
            "Processing CHEMBL1519374 in molecule.smi (994/1230). Average speed: 0.23 s/mol.\n",
            "Processing CHEMBL1540372 in molecule.smi (995/1230). Average speed: 0.23 s/mol.\n",
            "Processing CHEMBL1390246 in molecule.smi (997/1230). Average speed: 0.23 s/mol.\n",
            "Processing CHEMBL1729300 in molecule.smi (996/1230). Average speed: 0.23 s/mol.\n",
            "Processing CHEMBL1540330 in molecule.smi (998/1230). Average speed: 0.23 s/mol.\n",
            "Processing CHEMBL1374226 in molecule.smi (999/1230). Average speed: 0.23 s/mol.\n",
            "Processing CHEMBL1468800 in molecule.smi (1000/1230). Average speed: 0.23 s/mol.\n",
            "Processing CHEMBL1373248 in molecule.smi (1001/1230). Average speed: 0.23 s/mol.\n",
            "Processing CHEMBL1569472 in molecule.smi (1002/1230). Average speed: 0.23 s/mol.\n",
            "Processing CHEMBL1256915 in molecule.smi (1003/1230). Average speed: 0.23 s/mol.\n",
            "Processing CHEMBL1413719 in molecule.smi (1005/1230). Average speed: 0.23 s/mol.\n",
            "Processing CHEMBL1524427 in molecule.smi (1004/1230). Average speed: 0.23 s/mol.\n",
            "Processing CHEMBL1374123 in molecule.smi (1007/1230). Average speed: 0.23 s/mol.\n",
            "Processing CHEMBL1445765 in molecule.smi (1006/1230). Average speed: 0.23 s/mol.\n",
            "Processing CHEMBL1898246 in molecule.smi (1008/1230). Average speed: 0.23 s/mol.\n",
            "Processing CHEMBL1710429 in molecule.smi (1010/1230). Average speed: 0.23 s/mol.\n",
            "Processing CHEMBL1570267 in molecule.smi (1009/1230). Average speed: 0.23 s/mol.\n",
            "Processing CHEMBL285527 in molecule.smi (1011/1230). Average speed: 0.23 s/mol.\n",
            "Processing CHEMBL1563370 in molecule.smi (1013/1230). Average speed: 0.23 s/mol.\n",
            "Processing CHEMBL3145192 in molecule.smi (1012/1230). Average speed: 0.23 s/mol.\n",
            "Processing CHEMBL4483351 in molecule.smi (1014/1230). Average speed: 0.23 s/mol.\n",
            "Processing CHEMBL4452943 in molecule.smi (1015/1230). Average speed: 0.23 s/mol.\n",
            "Processing CHEMBL4555617 in molecule.smi (1016/1230). Average speed: 0.23 s/mol.\n",
            "Processing CHEMBL4454475 in molecule.smi (1017/1230). Average speed: 0.24 s/mol.\n",
            "Processing CHEMBL4538618 in molecule.smi (1019/1230). Average speed: 0.24 s/mol.\n",
            "Processing CHEMBL4589938 in molecule.smi (1018/1230). Average speed: 0.24 s/mol.\n",
            "Processing CHEMBL3344303 in molecule.smi (1021/1230). Average speed: 0.24 s/mol.\n",
            "Processing CHEMBL4440832 in molecule.smi (1020/1230). Average speed: 0.24 s/mol.\n",
            "Processing CHEMBL506092 in molecule.smi (1022/1230). Average speed: 0.24 s/mol.\n",
            "Processing CHEMBL4437334 in molecule.smi (1023/1230). Average speed: 0.24 s/mol.\n",
            "Processing CHEMBL4518162 in molecule.smi (1025/1230). Average speed: 0.24 s/mol.\n",
            "Processing CHEMBL4569882 in molecule.smi (1024/1230). Average speed: 0.24 s/mol.\n",
            "Processing CHEMBL4527753 in molecule.smi (1026/1230). Average speed: 0.24 s/mol.\n",
            "Processing CHEMBL4435541 in molecule.smi (1027/1230). Average speed: 0.24 s/mol.\n",
            "Processing CHEMBL4545602 in molecule.smi (1028/1230). Average speed: 0.24 s/mol.\n",
            "Processing CHEMBL4568434 in molecule.smi (1029/1230). Average speed: 0.24 s/mol.\n",
            "Processing CHEMBL4452870 in molecule.smi (1030/1230). Average speed: 0.24 s/mol.\n",
            "Processing CHEMBL4576745 in molecule.smi (1032/1230). Average speed: 0.24 s/mol.\n",
            "Processing CHEMBL4462164 in molecule.smi (1031/1230). Average speed: 0.24 s/mol.\n",
            "Processing CHEMBL4537775 in molecule.smi (1034/1230). Average speed: 0.24 s/mol.\n",
            "Processing CHEMBL4561419 in molecule.smi (1033/1230). Average speed: 0.24 s/mol.\n",
            "Processing CHEMBL3740277 in molecule.smi (1035/1230). Average speed: 0.25 s/mol.\n",
            "Processing CHEMBL4469131 in molecule.smi (1036/1230). Average speed: 0.25 s/mol.\n",
            "Processing CHEMBL4476608 in molecule.smi (1037/1230). Average speed: 0.25 s/mol.\n",
            "Processing CHEMBL4563546 in molecule.smi (1038/1230). Average speed: 0.25 s/mol.\n",
            "Processing CHEMBL4468720 in molecule.smi (1039/1230). Average speed: 0.25 s/mol.\n",
            "Processing CHEMBL4442641 in molecule.smi (1040/1230). Average speed: 0.25 s/mol.\n",
            "Processing CHEMBL4519077 in molecule.smi (1041/1230). Average speed: 0.25 s/mol.\n",
            "Processing CHEMBL3335494 in molecule.smi (1042/1230). Average speed: 0.25 s/mol.\n",
            "Processing CHEMBL4527041 in molecule.smi (1043/1230). Average speed: 0.25 s/mol.\n",
            "Processing CHEMBL4436871 in molecule.smi (1044/1230). Average speed: 0.25 s/mol.\n",
            "Processing CHEMBL4587765 in molecule.smi (1046/1230). Average speed: 0.25 s/mol.\n",
            "Processing CHEMBL4470468 in molecule.smi (1045/1230). Average speed: 0.25 s/mol.\n",
            "Processing CHEMBL4469492 in molecule.smi (1047/1230). Average speed: 0.25 s/mol.\n",
            "Processing CHEMBL4548502 in molecule.smi (1048/1230). Average speed: 0.25 s/mol.\n",
            "Processing CHEMBL4464884 in molecule.smi (1049/1230). Average speed: 0.25 s/mol.\n",
            "Processing CHEMBL4469272 in molecule.smi (1050/1230). Average speed: 0.24 s/mol.\n",
            "Processing CHEMBL4519543 in molecule.smi (1051/1230). Average speed: 0.24 s/mol.\n",
            "Processing CHEMBL4574992 in molecule.smi (1052/1230). Average speed: 0.24 s/mol.\n",
            "Processing CHEMBL4438710 in molecule.smi (1053/1230). Average speed: 0.24 s/mol.\n",
            "Processing CHEMBL4474101 in molecule.smi (1054/1230). Average speed: 0.25 s/mol.\n",
            "Processing CHEMBL3741422 in molecule.smi (1055/1230). Average speed: 0.24 s/mol.\n",
            "Processing CHEMBL4545026 in molecule.smi (1056/1230). Average speed: 0.25 s/mol.\n",
            "Processing CHEMBL4533598 in molecule.smi (1057/1230). Average speed: 0.25 s/mol.\n",
            "Processing CHEMBL4441561 in molecule.smi (1059/1230). Average speed: 0.25 s/mol.\n",
            "Processing CHEMBL4522006 in molecule.smi (1058/1230). Average speed: 0.25 s/mol.\n",
            "Processing CHEMBL4533598 in molecule.smi (1061/1230). Average speed: 0.25 s/mol.\n",
            "Processing CHEMBL4450411 in molecule.smi (1060/1230). Average speed: 0.25 s/mol.\n",
            "Processing CHEMBL4522006 in molecule.smi (1062/1230). Average speed: 0.25 s/mol.\n",
            "Processing CHEMBL4450411 in molecule.smi (1064/1230). Average speed: 0.25 s/mol.\n",
            "Processing CHEMBL4441561 in molecule.smi (1063/1230). Average speed: 0.24 s/mol.\n",
            "Processing CHEMBL4457482 in molecule.smi (1065/1230). Average speed: 0.24 s/mol.\n",
            "Processing CHEMBL4457482 in molecule.smi (1066/1230). Average speed: 0.24 s/mol.\n",
            "Processing CHEMBL4457482 in molecule.smi (1068/1230). Average speed: 0.24 s/mol.\n",
            "Processing CHEMBL4457482 in molecule.smi (1067/1230). Average speed: 0.24 s/mol.\n",
            "Processing CHEMBL1324 in molecule.smi (1070/1230). Average speed: 0.24 s/mol.\n",
            "Processing CHEMBL1458891 in molecule.smi (1069/1230). Average speed: 0.24 s/mol.\n",
            "Processing CHEMBL4584771 in molecule.smi (1072/1230). Average speed: 0.24 s/mol.\n",
            "Processing CHEMBL4550503 in molecule.smi (1071/1230). Average speed: 0.24 s/mol.\n",
            "Processing CHEMBL4441383 in molecule.smi (1073/1230). Average speed: 0.24 s/mol.\n",
            "Processing CHEMBL4441383 in molecule.smi (1074/1230). Average speed: 0.24 s/mol.\n",
            "Processing CHEMBL4441383 in molecule.smi (1075/1230). Average speed: 0.24 s/mol.\n",
            "Processing CHEMBL4441383 in molecule.smi (1076/1230). Average speed: 0.24 s/mol.\n",
            "Processing CHEMBL4447800 in molecule.smi (1077/1230). Average speed: 0.24 s/mol.\n",
            "Processing CHEMBL4447800 in molecule.smi (1078/1230). Average speed: 0.24 s/mol.\n",
            "Processing CHEMBL4457482 in molecule.smi (1079/1230). Average speed: 0.25 s/mol.\n",
            "Processing CHEMBL4436496 in molecule.smi (1080/1230). Average speed: 0.25 s/mol.\n",
            "Processing CHEMBL4441561 in molecule.smi (1081/1230). Average speed: 0.25 s/mol.\n",
            "Processing CHEMBL4440832 in molecule.smi (1082/1230). Average speed: 0.25 s/mol.\n",
            "Processing CHEMBL4440832 in molecule.smi (1083/1230). Average speed: 0.25 s/mol.\n",
            "Processing CHEMBL4440832 in molecule.smi (1084/1230). Average speed: 0.25 s/mol.\n",
            "Processing CHEMBL4647630 in molecule.smi (1086/1230). Average speed: 0.25 s/mol.\n",
            "Processing CHEMBL3741422 in molecule.smi (1085/1230). Average speed: 0.25 s/mol.\n",
            "Processing CHEMBL4646482 in molecule.smi (1088/1230). Average speed: 0.25 s/mol.\n",
            "Processing CHEMBL4645960 in molecule.smi (1087/1230). Average speed: 0.25 s/mol.\n",
            "Processing CHEMBL4635939 in molecule.smi (1090/1230). Average speed: 0.25 s/mol.\n",
            "Processing CHEMBL4640965 in molecule.smi (1089/1230). Average speed: 0.25 s/mol.\n",
            "Processing CHEMBL4635612 in molecule.smi (1092/1230). Average speed: 0.25 s/mol.\n",
            "Processing CHEMBL4634164 in molecule.smi (1091/1230). Average speed: 0.25 s/mol.\n",
            "Processing CHEMBL4640682 in molecule.smi (1094/1230). Average speed: 0.25 s/mol.\n",
            "Processing CHEMBL4640656 in molecule.smi (1093/1230). Average speed: 0.25 s/mol.\n",
            "Processing CHEMBL4646913 in molecule.smi (1095/1230). Average speed: 0.25 s/mol.\n",
            "Processing CHEMBL4634206 in molecule.smi (1096/1230). Average speed: 0.25 s/mol.\n",
            "Processing CHEMBL4636025 in molecule.smi (1097/1230). Average speed: 0.25 s/mol.\n",
            "Processing CHEMBL4644051 in molecule.smi (1098/1230). Average speed: 0.25 s/mol.\n",
            "Processing CHEMBL4640386 in molecule.smi (1099/1230). Average speed: 0.25 s/mol.\n",
            "Processing CHEMBL4638202 in molecule.smi (1100/1230). Average speed: 0.25 s/mol.\n",
            "Processing CHEMBL4648935 in molecule.smi (1101/1230). Average speed: 0.25 s/mol.\n",
            "Processing CHEMBL4644972 in molecule.smi (1102/1230). Average speed: 0.25 s/mol.\n",
            "Processing CHEMBL4634101 in molecule.smi (1103/1230). Average speed: 0.25 s/mol.\n",
            "Processing CHEMBL4641686 in molecule.smi (1104/1230). Average speed: 0.25 s/mol.\n",
            "Processing CHEMBL4649655 in molecule.smi (1105/1230). Average speed: 0.25 s/mol.\n",
            "Processing CHEMBL4633636 in molecule.smi (1106/1230). Average speed: 0.25 s/mol.\n",
            "Processing CHEMBL4633218 in molecule.smi (1108/1230). Average speed: 0.25 s/mol.\n",
            "Processing CHEMBL4802111 in molecule.smi (1107/1230). Average speed: 0.25 s/mol.\n",
            "Processing CHEMBL4633691 in molecule.smi (1110/1230). Average speed: 0.25 s/mol.\n",
            "Processing CHEMBL4640040 in molecule.smi (1109/1230). Average speed: 0.25 s/mol.\n",
            "Processing CHEMBL3335490 in molecule.smi (1111/1230). Average speed: 0.25 s/mol.\n",
            "Processing CHEMBL4637376 in molecule.smi (1113/1230). Average speed: 0.25 s/mol.\n",
            "Processing CHEMBL4640172 in molecule.smi (1112/1230). Average speed: 0.25 s/mol.\n",
            "Processing CHEMBL4645091 in molecule.smi (1115/1230). Average speed: 0.25 s/mol.\n",
            "Processing CHEMBL4641816 in molecule.smi (1114/1230). Average speed: 0.25 s/mol.\n",
            "Processing CHEMBL4636972 in molecule.smi (1116/1230). Average speed: 0.25 s/mol.\n",
            "Processing CHEMBL4635643 in molecule.smi (1117/1230). Average speed: 0.25 s/mol.\n",
            "Processing CHEMBL4649859 in molecule.smi (1118/1230). Average speed: 0.25 s/mol.\n",
            "Processing CHEMBL4638743 in molecule.smi (1119/1230). Average speed: 0.25 s/mol.\n",
            "Processing CHEMBL4638581 in molecule.smi (1120/1230). Average speed: 0.25 s/mol.\n",
            "Processing CHEMBL4634622 in molecule.smi (1121/1230). Average speed: 0.25 s/mol.\n",
            "Processing CHEMBL4649399 in molecule.smi (1122/1230). Average speed: 0.25 s/mol.\n",
            "Processing CHEMBL4632524 in molecule.smi (1123/1230). Average speed: 0.25 s/mol.\n",
            "Processing CHEMBL4641383 in molecule.smi (1124/1230). Average speed: 0.25 s/mol.\n",
            "Processing CHEMBL4649657 in molecule.smi (1125/1230). Average speed: 0.25 s/mol.\n",
            "Processing CHEMBL4638781 in molecule.smi (1126/1230). Average speed: 0.25 s/mol.\n",
            "Processing CHEMBL4632939 in molecule.smi (1127/1230). Average speed: 0.25 s/mol.\n",
            "Processing CHEMBL4646053 in molecule.smi (1128/1230). Average speed: 0.25 s/mol.\n",
            "Processing CHEMBL4634331 in molecule.smi (1129/1230). Average speed: 0.25 s/mol.\n",
            "Processing CHEMBL4643221 in molecule.smi (1130/1230). Average speed: 0.25 s/mol.\n",
            "Processing CHEMBL4646812 in molecule.smi (1131/1230). Average speed: 0.25 s/mol.\n",
            "Processing CHEMBL4634176 in molecule.smi (1132/1230). Average speed: 0.25 s/mol.\n",
            "Processing CHEMBL4633204 in molecule.smi (1134/1230). Average speed: 0.25 s/mol.\n",
            "Processing CHEMBL4639241 in molecule.smi (1133/1230). Average speed: 0.25 s/mol.\n",
            "Processing CHEMBL4638299 in molecule.smi (1135/1230). Average speed: 0.25 s/mol.\n",
            "Processing CHEMBL4642710 in molecule.smi (1136/1230). Average speed: 0.25 s/mol.\n",
            "Processing CHEMBL4640021 in molecule.smi (1137/1230). Average speed: 0.25 s/mol.\n",
            "Processing CHEMBL4642885 in molecule.smi (1138/1230). Average speed: 0.25 s/mol.\n",
            "Processing CHEMBL4633312 in molecule.smi (1140/1230). Average speed: 0.25 s/mol.\n",
            "Processing CHEMBL4636584 in molecule.smi (1139/1230). Average speed: 0.25 s/mol.\n",
            "Processing CHEMBL3758664 in molecule.smi (1142/1230). Average speed: 0.25 s/mol.\n",
            "Processing CHEMBL4643526 in molecule.smi (1141/1230). Average speed: 0.25 s/mol.\n",
            "Processing CHEMBL4869904 in molecule.smi (1143/1230). Average speed: 0.25 s/mol.\n",
            "Processing CHEMBL4868257 in molecule.smi (1145/1230). Average speed: 0.25 s/mol.\n",
            "Processing CHEMBL4857480 in molecule.smi (1144/1230). Average speed: 0.25 s/mol.\n",
            "Processing CHEMBL4851607 in molecule.smi (1146/1230). Average speed: 0.25 s/mol.\n",
            "Processing CHEMBL4877376 in molecule.smi (1147/1230). Average speed: 0.25 s/mol.\n",
            "Processing CHEMBL4867805 in molecule.smi (1148/1230). Average speed: 0.25 s/mol.\n",
            "Processing CHEMBL4451922 in molecule.smi (1149/1230). Average speed: 0.25 s/mol.\n",
            "Processing CHEMBL4871503 in molecule.smi (1150/1230). Average speed: 0.25 s/mol.\n",
            "Processing CHEMBL4862682 in molecule.smi (1152/1230). Average speed: 0.25 s/mol.\n",
            "Processing CHEMBL4858938 in molecule.smi (1151/1230). Average speed: 0.25 s/mol.\n",
            "Processing CHEMBL4853830 in molecule.smi (1154/1230). Average speed: 0.25 s/mol.\n",
            "Processing CHEMBL4850391 in molecule.smi (1153/1230). Average speed: 0.25 s/mol.\n",
            "Processing CHEMBL4862353 in molecule.smi (1156/1230). Average speed: 0.25 s/mol.\n",
            "Processing CHEMBL4856850 in molecule.smi (1155/1230). Average speed: 0.25 s/mol.\n",
            "Processing CHEMBL4876865 in molecule.smi (1157/1230). Average speed: 0.25 s/mol.\n",
            "Processing CHEMBL4848934 in molecule.smi (1158/1230). Average speed: 0.25 s/mol.\n",
            "Processing CHEMBL4872757 in molecule.smi (1159/1230). Average speed: 0.26 s/mol.\n",
            "Processing CHEMBL4871540 in molecule.smi (1160/1230). Average speed: 0.26 s/mol.\n",
            "Processing CHEMBL4876394 in molecule.smi (1161/1230). Average speed: 0.26 s/mol.\n",
            "Processing CHEMBL4850218 in molecule.smi (1162/1230). Average speed: 0.26 s/mol.\n",
            "Processing CHEMBL4878316 in molecule.smi (1163/1230). Average speed: 0.26 s/mol.\n",
            "Processing CHEMBL4848342 in molecule.smi (1164/1230). Average speed: 0.25 s/mol.\n",
            "Processing CHEMBL4855786 in molecule.smi (1165/1230). Average speed: 0.25 s/mol.\n",
            "Processing CHEMBL4859361 in molecule.smi (1166/1230). Average speed: 0.25 s/mol.\n",
            "Processing CHEMBL4871256 in molecule.smi (1167/1230). Average speed: 0.25 s/mol.\n",
            "Processing CHEMBL4871038 in molecule.smi (1168/1230). Average speed: 0.25 s/mol.\n",
            "Processing CHEMBL4870594 in molecule.smi (1169/1230). Average speed: 0.25 s/mol.\n",
            "Processing CHEMBL4857961 in molecule.smi (1170/1230). Average speed: 0.25 s/mol.\n",
            "Processing CHEMBL4857545 in molecule.smi (1171/1230). Average speed: 0.25 s/mol.\n",
            "Processing CHEMBL4848445 in molecule.smi (1172/1230). Average speed: 0.25 s/mol.\n",
            "Processing CHEMBL4872363 in molecule.smi (1173/1230). Average speed: 0.25 s/mol.\n",
            "Processing CHEMBL4875563 in molecule.smi (1174/1230). Average speed: 0.25 s/mol.\n",
            "Processing CHEMBL4865575 in molecule.smi (1175/1230). Average speed: 0.25 s/mol.\n",
            "Processing CHEMBL4853600 in molecule.smi (1176/1230). Average speed: 0.25 s/mol.\n",
            "Processing CHEMBL4870335 in molecule.smi (1177/1230). Average speed: 0.25 s/mol.\n",
            "Processing CHEMBL4872711 in molecule.smi (1178/1230). Average speed: 0.25 s/mol.\n",
            "Processing CHEMBL4859701 in molecule.smi (1179/1230). Average speed: 0.25 s/mol.\n",
            "Processing CHEMBL4869859 in molecule.smi (1181/1230). Average speed: 0.25 s/mol.\n",
            "Processing CHEMBL4874382 in molecule.smi (1180/1230). Average speed: 0.25 s/mol.\n",
            "Processing CHEMBL4860444 in molecule.smi (1182/1230). Average speed: 0.25 s/mol.\n",
            "Processing CHEMBL3741422 in molecule.smi (1183/1230). Average speed: 0.25 s/mol.\n",
            "Processing CHEMBL4863749 in molecule.smi (1184/1230). Average speed: 0.25 s/mol.\n",
            "Processing CHEMBL4865561 in molecule.smi (1185/1230). Average speed: 0.25 s/mol.\n",
            "Processing CHEMBL4847952 in molecule.smi (1186/1230). Average speed: 0.25 s/mol.\n",
            "Processing CHEMBL4864398 in molecule.smi (1187/1230). Average speed: 0.26 s/mol.\n",
            "Processing CHEMBL4849531 in molecule.smi (1188/1230). Average speed: 0.26 s/mol.\n",
            "Processing CHEMBL4860057 in molecule.smi (1189/1230). Average speed: 0.26 s/mol.\n",
            "Processing CHEMBL4871225 in molecule.smi (1190/1230). Average speed: 0.26 s/mol.\n",
            "Processing CHEMBL4446364 in molecule.smi (1191/1230). Average speed: 0.26 s/mol.\n",
            "Processing CHEMBL4878425 in molecule.smi (1192/1230). Average speed: 0.26 s/mol.\n",
            "Processing CHEMBL4853799 in molecule.smi (1194/1230). Average speed: 0.26 s/mol.\n",
            "Processing CHEMBL4568823 in molecule.smi (1193/1230). Average speed: 0.26 s/mol.\n",
            "Processing CHEMBL4864411 in molecule.smi (1196/1230). Average speed: 0.26 s/mol.\n",
            "Processing CHEMBL4870296 in molecule.smi (1195/1230). Average speed: 0.26 s/mol.\n",
            "Processing CHEMBL4860508 in molecule.smi (1197/1230). Average speed: 0.26 s/mol.\n",
            "Processing CHEMBL4850198 in molecule.smi (1198/1230). Average speed: 0.26 s/mol.\n",
            "Processing CHEMBL4854366 in molecule.smi (1199/1230). Average speed: 0.26 s/mol.\n",
            "Processing CHEMBL4857319 in molecule.smi (1200/1230). Average speed: 0.26 s/mol.\n",
            "Processing CHEMBL4853295 in molecule.smi (1202/1230). Average speed: 0.26 s/mol.\n",
            "Processing CHEMBL4879110 in molecule.smi (1201/1230). Average speed: 0.26 s/mol.\n",
            "Processing CHEMBL4868241 in molecule.smi (1203/1230). Average speed: 0.26 s/mol.\n",
            "Processing CHEMBL4854249 in molecule.smi (1204/1230). Average speed: 0.26 s/mol.\n",
            "Processing CHEMBL4437334 in molecule.smi (1205/1230). Average speed: 0.26 s/mol.\n",
            "Processing CHEMBL1535689 in molecule.smi (1206/1230). Average speed: 0.26 s/mol.\n",
            "Processing CHEMBL4853384 in molecule.smi (1207/1230). Average speed: 0.26 s/mol.\n",
            "Processing CHEMBL4876027 in molecule.smi (1208/1230). Average speed: 0.26 s/mol.\n",
            "Processing CHEMBL4849553 in molecule.smi (1209/1230). Average speed: 0.26 s/mol.\n",
            "Processing CHEMBL4875360 in molecule.smi (1210/1230). Average speed: 0.26 s/mol.\n",
            "Processing CHEMBL4870696 in molecule.smi (1211/1230). Average speed: 0.26 s/mol.\n",
            "Processing CHEMBL4856452 in molecule.smi (1212/1230). Average speed: 0.26 s/mol.\n",
            "Processing CHEMBL4849139 in molecule.smi (1213/1230). Average speed: 0.26 s/mol.\n",
            "Processing CHEMBL4861658 in molecule.smi (1214/1230). Average speed: 0.26 s/mol.\n",
            "Processing CHEMBL4855636 in molecule.smi (1216/1230). Average speed: 0.26 s/mol.\n",
            "Processing CHEMBL4868018 in molecule.smi (1215/1230). Average speed: 0.26 s/mol.\n",
            "Processing CHEMBL4864012 in molecule.smi (1218/1230). Average speed: 0.26 s/mol.\n",
            "Processing CHEMBL4869765 in molecule.smi (1217/1230). Average speed: 0.26 s/mol.\n",
            "Processing CHEMBL4867842 in molecule.smi (1219/1230). Average speed: 0.26 s/mol.\n",
            "Processing CHEMBL4871785 in molecule.smi (1220/1230). Average speed: 0.26 s/mol.\n",
            "Processing CHEMBL4862793 in molecule.smi (1221/1230). Average speed: 0.26 s/mol.\n",
            "Processing CHEMBL4865004 in molecule.smi (1222/1230). Average speed: 0.26 s/mol.\n",
            "Processing CHEMBL4852919 in molecule.smi (1223/1230). Average speed: 0.26 s/mol.\n",
            "Processing CHEMBL5083861 in molecule.smi (1224/1230). Average speed: 0.26 s/mol.\n",
            "Processing CHEMBL5083861 in molecule.smi (1225/1230). Average speed: 0.26 s/mol.\n",
            "Processing CHEMBL5075008 in molecule.smi (1226/1230). Average speed: 0.26 s/mol.\n",
            "Processing CHEMBL5092085 in molecule.smi (1227/1230). Average speed: 0.26 s/mol.\n",
            "Processing CHEMBL5075993 in molecule.smi (1228/1230). Average speed: 0.26 s/mol.\n",
            "Processing CHEMBL5081752 in molecule.smi (1229/1230). Average speed: 0.26 s/mol.\n",
            "Processing CHEMBL5094815 in molecule.smi (1230/1230). Average speed: 0.26 s/mol.\n",
            "Descriptor calculation completed in 5 mins 24.8 secs . Average speed: 0.26 s/mol.\n"
          ]
        }
      ],
      "source": [
        "! bash padel.sh"
      ]
    },
    {
      "cell_type": "markdown",
      "metadata": {
        "id": "PaHKjxbyVEVx"
      },
      "source": [
        "### Model selection and usage"
      ]
    },
    {
      "cell_type": "markdown",
      "metadata": {
        "id": "FuqBUBbgXvaq"
      },
      "source": [
        "### Importing Modules"
      ]
    },
    {
      "cell_type": "code",
      "execution_count": 35,
      "metadata": {
        "id": "8AW9jy8uXlKz"
      },
      "outputs": [],
      "source": [
        "from sklearn.tree import DecisionTreeRegressor\n",
        "from sklearn.ensemble import RandomForestRegressor , ExtraTreesRegressor\n",
        "from sklearn.linear_model import Lasso,Ridge,OrthogonalMatchingPursuit,LinearRegression\n",
        "from sklearn.svm import SVR\n",
        "from sklearn.model_selection import train_test_split, KFold , cross_val_score\n",
        "from sklearn.metrics import r2_score,mean_squared_error,mean_absolute_error"
      ]
    },
    {
      "cell_type": "markdown",
      "metadata": {
        "id": "NIF6keLVZFgZ"
      },
      "source": [
        "### Using different models and importing processed data "
      ]
    },
    {
      "cell_type": "code",
      "execution_count": 36,
      "metadata": {
        "id": "ZmdaqLd8bLp_"
      },
      "outputs": [],
      "source": [
        "X = pd.read_csv('descriptors_output.csv')\n",
        "Y = pd.read_csv('dengue_labels.csv')"
      ]
    },
    {
      "cell_type": "code",
      "execution_count": 37,
      "metadata": {
        "colab": {
          "base_uri": "https://localhost:8080/"
        },
        "id": "apotqTqnjyXi",
        "outputId": "e903c1a6-478f-4f68-ce6d-d4e9a3b827ca"
      },
      "outputs": [
        {
          "output_type": "execute_result",
          "data": {
            "text/plain": [
              "0"
            ]
          },
          "metadata": {},
          "execution_count": 37
        }
      ],
      "source": [
        "Y['standard_value'].isnull().sum()"
      ]
    },
    {
      "cell_type": "code",
      "execution_count": 38,
      "metadata": {
        "id": "T02ORodMdgR0"
      },
      "outputs": [],
      "source": [
        "for i in Y['standard_value']:\n",
        "  Y['standard_value'] = Y['standard_value'].replace(i,round(i,2))"
      ]
    },
    {
      "cell_type": "code",
      "execution_count": 39,
      "metadata": {
        "id": "ZfB1Pt8HaJOb",
        "colab": {
          "base_uri": "https://localhost:8080/"
        },
        "outputId": "75725ab2-0ed7-4110-e84d-bf04e3a3232b"
      },
      "outputs": [
        {
          "output_type": "execute_result",
          "data": {
            "text/plain": [
              "array([8.09, 4.91, 4.29, 4.73, 4.37, 4.26, 4.32, 4.33, 4.45, 4.15, 4.47,\n",
              "       4.2 , 4.  , 8.37, 4.58, 4.02, 4.31, 8.36, 4.34, 5.02, 4.57, 5.03,\n",
              "       5.07, 5.13, 4.19, 4.17, 4.4 , 4.23, 8.34, 4.63, 4.27, 4.25, 4.04,\n",
              "       4.36, 4.07, 8.35, 4.24, 4.22, 5.14, 4.13, 4.46, 8.08, 4.48, 5.2 ,\n",
              "       4.7 , 4.76, 4.42, 4.66, 4.53, 4.52, 4.79, 4.14, 4.43, 4.71, 4.06,\n",
              "       4.5 , 4.03, 4.38, 4.64, 4.39, 4.62, 4.51, 4.69, 4.11, 5.08, 8.28,\n",
              "       4.41, 4.77, 4.35, 4.83, 4.92, 4.3 , 4.54, 4.49, 4.44, 4.1 , 4.78,\n",
              "       4.08, 8.39, 4.55, 4.72, 4.59, 8.38, 4.09, 5.47, 5.1 , 4.05, 4.67,\n",
              "       4.28, 4.84, 4.89, 4.18, 5.28, 4.74, 4.56, 5.79, 4.97, 4.8 , 4.86,\n",
              "       4.99, 5.45, 4.12, 5.34, 8.32, 4.9 , 4.68, 5.01, 4.21, 4.61, 4.81,\n",
              "       5.15, 8.3 , 5.33, 4.93, 4.94, 4.6 , 4.01, 5.29, 5.25, 5.22, 5.23,\n",
              "       5.3 , 4.95, 5.16, 4.16, 5.12, 4.82, 5.26, 5.04, 4.85, 4.98, 4.65,\n",
              "       4.87, 8.31, 4.96, 5.11, 5.42, 4.75, 5.39, 5.27, 8.24, 8.27, 8.25,\n",
              "       5.57, 5.55, 5.72, 5.48, 8.23, 6.22, 5.52, 5.53, 8.21, 3.91, 8.29,\n",
              "       5.82, 5.56, 6.  , 5.49, 6.17, 8.26, 5.24, 5.17, 5.32, 5.05, 5.4 ,\n",
              "       5.36, 5.66, 5.7 , 6.27, 6.68, 6.23, 6.14, 6.54, 6.07, 6.01, 5.62,\n",
              "       5.  , 5.19, 5.31, 6.16, 5.44, 5.61, 6.52, 3.92, 5.35, 5.06, 3.36,\n",
              "       8.05, 7.92, 8.22, 7.13])"
            ]
          },
          "metadata": {},
          "execution_count": 39
        }
      ],
      "source": [
        "Y.standard_value.unique()"
      ]
    },
    {
      "cell_type": "code",
      "execution_count": 40,
      "metadata": {
        "id": "Fpx2JPmQboUW",
        "colab": {
          "base_uri": "https://localhost:8080/",
          "height": 300
        },
        "outputId": "e114aae7-7b33-45ea-cd65-882cb6d09b3f"
      },
      "outputs": [
        {
          "output_type": "execute_result",
          "data": {
            "text/plain": [
              "       standard_value\n",
              "count     1230.000000\n",
              "mean         5.559691\n",
              "std          1.679136\n",
              "min          3.360000\n",
              "25%          4.320000\n",
              "50%          4.600000\n",
              "75%          8.090000\n",
              "max          8.390000"
            ],
            "text/html": [
              "\n",
              "  <div id=\"df-21b78894-c635-4c9f-a7e6-0af81de74b86\">\n",
              "    <div class=\"colab-df-container\">\n",
              "      <div>\n",
              "<style scoped>\n",
              "    .dataframe tbody tr th:only-of-type {\n",
              "        vertical-align: middle;\n",
              "    }\n",
              "\n",
              "    .dataframe tbody tr th {\n",
              "        vertical-align: top;\n",
              "    }\n",
              "\n",
              "    .dataframe thead th {\n",
              "        text-align: right;\n",
              "    }\n",
              "</style>\n",
              "<table border=\"1\" class=\"dataframe\">\n",
              "  <thead>\n",
              "    <tr style=\"text-align: right;\">\n",
              "      <th></th>\n",
              "      <th>standard_value</th>\n",
              "    </tr>\n",
              "  </thead>\n",
              "  <tbody>\n",
              "    <tr>\n",
              "      <th>count</th>\n",
              "      <td>1230.000000</td>\n",
              "    </tr>\n",
              "    <tr>\n",
              "      <th>mean</th>\n",
              "      <td>5.559691</td>\n",
              "    </tr>\n",
              "    <tr>\n",
              "      <th>std</th>\n",
              "      <td>1.679136</td>\n",
              "    </tr>\n",
              "    <tr>\n",
              "      <th>min</th>\n",
              "      <td>3.360000</td>\n",
              "    </tr>\n",
              "    <tr>\n",
              "      <th>25%</th>\n",
              "      <td>4.320000</td>\n",
              "    </tr>\n",
              "    <tr>\n",
              "      <th>50%</th>\n",
              "      <td>4.600000</td>\n",
              "    </tr>\n",
              "    <tr>\n",
              "      <th>75%</th>\n",
              "      <td>8.090000</td>\n",
              "    </tr>\n",
              "    <tr>\n",
              "      <th>max</th>\n",
              "      <td>8.390000</td>\n",
              "    </tr>\n",
              "  </tbody>\n",
              "</table>\n",
              "</div>\n",
              "      <button class=\"colab-df-convert\" onclick=\"convertToInteractive('df-21b78894-c635-4c9f-a7e6-0af81de74b86')\"\n",
              "              title=\"Convert this dataframe to an interactive table.\"\n",
              "              style=\"display:none;\">\n",
              "        \n",
              "  <svg xmlns=\"http://www.w3.org/2000/svg\" height=\"24px\"viewBox=\"0 0 24 24\"\n",
              "       width=\"24px\">\n",
              "    <path d=\"M0 0h24v24H0V0z\" fill=\"none\"/>\n",
              "    <path d=\"M18.56 5.44l.94 2.06.94-2.06 2.06-.94-2.06-.94-.94-2.06-.94 2.06-2.06.94zm-11 1L8.5 8.5l.94-2.06 2.06-.94-2.06-.94L8.5 2.5l-.94 2.06-2.06.94zm10 10l.94 2.06.94-2.06 2.06-.94-2.06-.94-.94-2.06-.94 2.06-2.06.94z\"/><path d=\"M17.41 7.96l-1.37-1.37c-.4-.4-.92-.59-1.43-.59-.52 0-1.04.2-1.43.59L10.3 9.45l-7.72 7.72c-.78.78-.78 2.05 0 2.83L4 21.41c.39.39.9.59 1.41.59.51 0 1.02-.2 1.41-.59l7.78-7.78 2.81-2.81c.8-.78.8-2.07 0-2.86zM5.41 20L4 18.59l7.72-7.72 1.47 1.35L5.41 20z\"/>\n",
              "  </svg>\n",
              "      </button>\n",
              "      \n",
              "  <style>\n",
              "    .colab-df-container {\n",
              "      display:flex;\n",
              "      flex-wrap:wrap;\n",
              "      gap: 12px;\n",
              "    }\n",
              "\n",
              "    .colab-df-convert {\n",
              "      background-color: #E8F0FE;\n",
              "      border: none;\n",
              "      border-radius: 50%;\n",
              "      cursor: pointer;\n",
              "      display: none;\n",
              "      fill: #1967D2;\n",
              "      height: 32px;\n",
              "      padding: 0 0 0 0;\n",
              "      width: 32px;\n",
              "    }\n",
              "\n",
              "    .colab-df-convert:hover {\n",
              "      background-color: #E2EBFA;\n",
              "      box-shadow: 0px 1px 2px rgba(60, 64, 67, 0.3), 0px 1px 3px 1px rgba(60, 64, 67, 0.15);\n",
              "      fill: #174EA6;\n",
              "    }\n",
              "\n",
              "    [theme=dark] .colab-df-convert {\n",
              "      background-color: #3B4455;\n",
              "      fill: #D2E3FC;\n",
              "    }\n",
              "\n",
              "    [theme=dark] .colab-df-convert:hover {\n",
              "      background-color: #434B5C;\n",
              "      box-shadow: 0px 1px 3px 1px rgba(0, 0, 0, 0.15);\n",
              "      filter: drop-shadow(0px 1px 2px rgba(0, 0, 0, 0.3));\n",
              "      fill: #FFFFFF;\n",
              "    }\n",
              "  </style>\n",
              "\n",
              "      <script>\n",
              "        const buttonEl =\n",
              "          document.querySelector('#df-21b78894-c635-4c9f-a7e6-0af81de74b86 button.colab-df-convert');\n",
              "        buttonEl.style.display =\n",
              "          google.colab.kernel.accessAllowed ? 'block' : 'none';\n",
              "\n",
              "        async function convertToInteractive(key) {\n",
              "          const element = document.querySelector('#df-21b78894-c635-4c9f-a7e6-0af81de74b86');\n",
              "          const dataTable =\n",
              "            await google.colab.kernel.invokeFunction('convertToInteractive',\n",
              "                                                     [key], {});\n",
              "          if (!dataTable) return;\n",
              "\n",
              "          const docLinkHtml = 'Like what you see? Visit the ' +\n",
              "            '<a target=\"_blank\" href=https://colab.research.google.com/notebooks/data_table.ipynb>data table notebook</a>'\n",
              "            + ' to learn more about interactive tables.';\n",
              "          element.innerHTML = '';\n",
              "          dataTable['output_type'] = 'display_data';\n",
              "          await google.colab.output.renderOutput(dataTable, element);\n",
              "          const docLink = document.createElement('div');\n",
              "          docLink.innerHTML = docLinkHtml;\n",
              "          element.appendChild(docLink);\n",
              "        }\n",
              "      </script>\n",
              "    </div>\n",
              "  </div>\n",
              "  "
            ]
          },
          "metadata": {},
          "execution_count": 40
        }
      ],
      "source": [
        "Y.describe()"
      ]
    },
    {
      "cell_type": "code",
      "execution_count": 41,
      "metadata": {
        "id": "SKx4Oz0HdlYW"
      },
      "outputs": [],
      "source": [
        "Y = Y.to_numpy().ravel()\n",
        "X = X.drop(columns=['Name'],axis=1)"
      ]
    },
    {
      "cell_type": "code",
      "execution_count": 42,
      "metadata": {
        "id": "a1e3oHx-dvLo",
        "colab": {
          "base_uri": "https://localhost:8080/",
          "height": 237
        },
        "outputId": "9d84e31b-0a37-4dc4-e222-e35af8613f99"
      },
      "outputs": [
        {
          "output_type": "execute_result",
          "data": {
            "text/plain": [
              "   PubchemFP0  PubchemFP1  PubchemFP2  PubchemFP3  PubchemFP4  PubchemFP5  \\\n",
              "0           1           1           0           0           0           0   \n",
              "1           1           1           0           0           0           0   \n",
              "2           1           1           1           0           0           0   \n",
              "\n",
              "   PubchemFP6  PubchemFP7  PubchemFP8  PubchemFP9  ...  PubchemFP871  \\\n",
              "0           0           0           0           1  ...             0   \n",
              "1           0           0           0           1  ...             0   \n",
              "2           0           0           0           1  ...             0   \n",
              "\n",
              "   PubchemFP872  PubchemFP873  PubchemFP874  PubchemFP875  PubchemFP876  \\\n",
              "0             0             0             0             0             0   \n",
              "1             0             0             0             0             0   \n",
              "2             0             0             0             0             0   \n",
              "\n",
              "   PubchemFP877  PubchemFP878  PubchemFP879  PubchemFP880  \n",
              "0             0             0             0             0  \n",
              "1             0             0             0             0  \n",
              "2             0             0             0             0  \n",
              "\n",
              "[3 rows x 881 columns]"
            ],
            "text/html": [
              "\n",
              "  <div id=\"df-590bdecf-b8b7-4c04-97e9-4b30a7838ac1\">\n",
              "    <div class=\"colab-df-container\">\n",
              "      <div>\n",
              "<style scoped>\n",
              "    .dataframe tbody tr th:only-of-type {\n",
              "        vertical-align: middle;\n",
              "    }\n",
              "\n",
              "    .dataframe tbody tr th {\n",
              "        vertical-align: top;\n",
              "    }\n",
              "\n",
              "    .dataframe thead th {\n",
              "        text-align: right;\n",
              "    }\n",
              "</style>\n",
              "<table border=\"1\" class=\"dataframe\">\n",
              "  <thead>\n",
              "    <tr style=\"text-align: right;\">\n",
              "      <th></th>\n",
              "      <th>PubchemFP0</th>\n",
              "      <th>PubchemFP1</th>\n",
              "      <th>PubchemFP2</th>\n",
              "      <th>PubchemFP3</th>\n",
              "      <th>PubchemFP4</th>\n",
              "      <th>PubchemFP5</th>\n",
              "      <th>PubchemFP6</th>\n",
              "      <th>PubchemFP7</th>\n",
              "      <th>PubchemFP8</th>\n",
              "      <th>PubchemFP9</th>\n",
              "      <th>...</th>\n",
              "      <th>PubchemFP871</th>\n",
              "      <th>PubchemFP872</th>\n",
              "      <th>PubchemFP873</th>\n",
              "      <th>PubchemFP874</th>\n",
              "      <th>PubchemFP875</th>\n",
              "      <th>PubchemFP876</th>\n",
              "      <th>PubchemFP877</th>\n",
              "      <th>PubchemFP878</th>\n",
              "      <th>PubchemFP879</th>\n",
              "      <th>PubchemFP880</th>\n",
              "    </tr>\n",
              "  </thead>\n",
              "  <tbody>\n",
              "    <tr>\n",
              "      <th>0</th>\n",
              "      <td>1</td>\n",
              "      <td>1</td>\n",
              "      <td>0</td>\n",
              "      <td>0</td>\n",
              "      <td>0</td>\n",
              "      <td>0</td>\n",
              "      <td>0</td>\n",
              "      <td>0</td>\n",
              "      <td>0</td>\n",
              "      <td>1</td>\n",
              "      <td>...</td>\n",
              "      <td>0</td>\n",
              "      <td>0</td>\n",
              "      <td>0</td>\n",
              "      <td>0</td>\n",
              "      <td>0</td>\n",
              "      <td>0</td>\n",
              "      <td>0</td>\n",
              "      <td>0</td>\n",
              "      <td>0</td>\n",
              "      <td>0</td>\n",
              "    </tr>\n",
              "    <tr>\n",
              "      <th>1</th>\n",
              "      <td>1</td>\n",
              "      <td>1</td>\n",
              "      <td>0</td>\n",
              "      <td>0</td>\n",
              "      <td>0</td>\n",
              "      <td>0</td>\n",
              "      <td>0</td>\n",
              "      <td>0</td>\n",
              "      <td>0</td>\n",
              "      <td>1</td>\n",
              "      <td>...</td>\n",
              "      <td>0</td>\n",
              "      <td>0</td>\n",
              "      <td>0</td>\n",
              "      <td>0</td>\n",
              "      <td>0</td>\n",
              "      <td>0</td>\n",
              "      <td>0</td>\n",
              "      <td>0</td>\n",
              "      <td>0</td>\n",
              "      <td>0</td>\n",
              "    </tr>\n",
              "    <tr>\n",
              "      <th>2</th>\n",
              "      <td>1</td>\n",
              "      <td>1</td>\n",
              "      <td>1</td>\n",
              "      <td>0</td>\n",
              "      <td>0</td>\n",
              "      <td>0</td>\n",
              "      <td>0</td>\n",
              "      <td>0</td>\n",
              "      <td>0</td>\n",
              "      <td>1</td>\n",
              "      <td>...</td>\n",
              "      <td>0</td>\n",
              "      <td>0</td>\n",
              "      <td>0</td>\n",
              "      <td>0</td>\n",
              "      <td>0</td>\n",
              "      <td>0</td>\n",
              "      <td>0</td>\n",
              "      <td>0</td>\n",
              "      <td>0</td>\n",
              "      <td>0</td>\n",
              "    </tr>\n",
              "  </tbody>\n",
              "</table>\n",
              "<p>3 rows × 881 columns</p>\n",
              "</div>\n",
              "      <button class=\"colab-df-convert\" onclick=\"convertToInteractive('df-590bdecf-b8b7-4c04-97e9-4b30a7838ac1')\"\n",
              "              title=\"Convert this dataframe to an interactive table.\"\n",
              "              style=\"display:none;\">\n",
              "        \n",
              "  <svg xmlns=\"http://www.w3.org/2000/svg\" height=\"24px\"viewBox=\"0 0 24 24\"\n",
              "       width=\"24px\">\n",
              "    <path d=\"M0 0h24v24H0V0z\" fill=\"none\"/>\n",
              "    <path d=\"M18.56 5.44l.94 2.06.94-2.06 2.06-.94-2.06-.94-.94-2.06-.94 2.06-2.06.94zm-11 1L8.5 8.5l.94-2.06 2.06-.94-2.06-.94L8.5 2.5l-.94 2.06-2.06.94zm10 10l.94 2.06.94-2.06 2.06-.94-2.06-.94-.94-2.06-.94 2.06-2.06.94z\"/><path d=\"M17.41 7.96l-1.37-1.37c-.4-.4-.92-.59-1.43-.59-.52 0-1.04.2-1.43.59L10.3 9.45l-7.72 7.72c-.78.78-.78 2.05 0 2.83L4 21.41c.39.39.9.59 1.41.59.51 0 1.02-.2 1.41-.59l7.78-7.78 2.81-2.81c.8-.78.8-2.07 0-2.86zM5.41 20L4 18.59l7.72-7.72 1.47 1.35L5.41 20z\"/>\n",
              "  </svg>\n",
              "      </button>\n",
              "      \n",
              "  <style>\n",
              "    .colab-df-container {\n",
              "      display:flex;\n",
              "      flex-wrap:wrap;\n",
              "      gap: 12px;\n",
              "    }\n",
              "\n",
              "    .colab-df-convert {\n",
              "      background-color: #E8F0FE;\n",
              "      border: none;\n",
              "      border-radius: 50%;\n",
              "      cursor: pointer;\n",
              "      display: none;\n",
              "      fill: #1967D2;\n",
              "      height: 32px;\n",
              "      padding: 0 0 0 0;\n",
              "      width: 32px;\n",
              "    }\n",
              "\n",
              "    .colab-df-convert:hover {\n",
              "      background-color: #E2EBFA;\n",
              "      box-shadow: 0px 1px 2px rgba(60, 64, 67, 0.3), 0px 1px 3px 1px rgba(60, 64, 67, 0.15);\n",
              "      fill: #174EA6;\n",
              "    }\n",
              "\n",
              "    [theme=dark] .colab-df-convert {\n",
              "      background-color: #3B4455;\n",
              "      fill: #D2E3FC;\n",
              "    }\n",
              "\n",
              "    [theme=dark] .colab-df-convert:hover {\n",
              "      background-color: #434B5C;\n",
              "      box-shadow: 0px 1px 3px 1px rgba(0, 0, 0, 0.15);\n",
              "      filter: drop-shadow(0px 1px 2px rgba(0, 0, 0, 0.3));\n",
              "      fill: #FFFFFF;\n",
              "    }\n",
              "  </style>\n",
              "\n",
              "      <script>\n",
              "        const buttonEl =\n",
              "          document.querySelector('#df-590bdecf-b8b7-4c04-97e9-4b30a7838ac1 button.colab-df-convert');\n",
              "        buttonEl.style.display =\n",
              "          google.colab.kernel.accessAllowed ? 'block' : 'none';\n",
              "\n",
              "        async function convertToInteractive(key) {\n",
              "          const element = document.querySelector('#df-590bdecf-b8b7-4c04-97e9-4b30a7838ac1');\n",
              "          const dataTable =\n",
              "            await google.colab.kernel.invokeFunction('convertToInteractive',\n",
              "                                                     [key], {});\n",
              "          if (!dataTable) return;\n",
              "\n",
              "          const docLinkHtml = 'Like what you see? Visit the ' +\n",
              "            '<a target=\"_blank\" href=https://colab.research.google.com/notebooks/data_table.ipynb>data table notebook</a>'\n",
              "            + ' to learn more about interactive tables.';\n",
              "          element.innerHTML = '';\n",
              "          dataTable['output_type'] = 'display_data';\n",
              "          await google.colab.output.renderOutput(dataTable, element);\n",
              "          const docLink = document.createElement('div');\n",
              "          docLink.innerHTML = docLinkHtml;\n",
              "          element.appendChild(docLink);\n",
              "        }\n",
              "      </script>\n",
              "    </div>\n",
              "  </div>\n",
              "  "
            ]
          },
          "metadata": {},
          "execution_count": 42
        }
      ],
      "source": [
        "X.head(3)"
      ]
    },
    {
      "cell_type": "code",
      "execution_count": 43,
      "metadata": {
        "id": "BQv4ODdpdxLz",
        "colab": {
          "base_uri": "https://localhost:8080/"
        },
        "outputId": "2e282bca-377a-4aa7-b622-2d2aef611d8f"
      },
      "outputs": [
        {
          "output_type": "execute_result",
          "data": {
            "text/plain": [
              "array([8.09, 4.91, 8.09, 4.29, 8.09])"
            ]
          },
          "metadata": {},
          "execution_count": 43
        }
      ],
      "source": [
        "Y[:5]"
      ]
    },
    {
      "cell_type": "code",
      "execution_count": 44,
      "metadata": {
        "id": "VFhn9EsifToH",
        "colab": {
          "base_uri": "https://localhost:8080/"
        },
        "outputId": "f7fc845a-12d0-4776-c93e-e72c2b57ffb8"
      },
      "outputs": [
        {
          "output_type": "execute_result",
          "data": {
            "text/plain": [
              "(1230, 881)"
            ]
          },
          "metadata": {},
          "execution_count": 44
        }
      ],
      "source": [
        "X.shape"
      ]
    },
    {
      "cell_type": "markdown",
      "source": [
        "### Defining all the Regressors"
      ],
      "metadata": {
        "id": "d6fRfED16p4S"
      }
    },
    {
      "cell_type": "code",
      "execution_count": 45,
      "metadata": {
        "id": "Uavte79UY8Mm"
      },
      "outputs": [],
      "source": [
        "rfe = RandomForestRegressor(n_estimators = 100)\n",
        "dtree = DecisionTreeRegressor()\n",
        "svr = SVR()\n",
        "etree = ExtraTreesRegressor()\n",
        "lin_reg = LinearRegression()\n",
        "lasso = Lasso()\n",
        "ridge = Ridge()\n",
        "oth = OrthogonalMatchingPursuit()"
      ]
    },
    {
      "cell_type": "code",
      "source": [
        "def evaluation(y,predictions):\n",
        "    mae = mean_absolute_error(y,predictions)\n",
        "    mse = mean_squared_error(y,predictions)\n",
        "    rmse = np.sqrt(mean_squared_error(y,predictions))\n",
        "    r2 = r2_score(y,predictions)\n",
        "    return mae,mse,rmse,r2"
      ],
      "metadata": {
        "id": "MHrZHioPBSVd"
      },
      "execution_count": 46,
      "outputs": []
    },
    {
      "cell_type": "markdown",
      "source": [
        "### Using different regressors and finding best fit model for our dataset"
      ],
      "metadata": {
        "id": "CqNtuYLy6w9A"
      }
    },
    {
      "cell_type": "code",
      "source": [
        "rmse_arr = []\n",
        "r2_arr=[]"
      ],
      "metadata": {
        "id": "sJccvqinhv5v"
      },
      "execution_count": 47,
      "outputs": []
    },
    {
      "cell_type": "markdown",
      "source": [
        "### Random Forest Tree"
      ],
      "metadata": {
        "id": "X9YrN2oMlUJH"
      }
    },
    {
      "cell_type": "code",
      "execution_count": 48,
      "metadata": {
        "id": "xXwa2Z2IrrMl",
        "colab": {
          "base_uri": "https://localhost:8080/"
        },
        "outputId": "7355c954-698d-4b8e-94a2-90a2fe834239"
      },
      "outputs": [
        {
          "output_type": "stream",
          "name": "stdout",
          "text": [
            "R sqaured value : -0.07340076156351771\n",
            "\n",
            "Mean Sqaured Error : 2.988736319790372\n",
            "\n",
            "Mean Absolute Error : 1.397525447491758\n",
            "\n",
            "Root Mean Squared : 1.7287962053956423\n"
          ]
        }
      ],
      "source": [
        "X_train,X_test,Y_train,Y_test = train_test_split(X,Y,test_size=0.2,random_state=100)\n",
        "rfe.fit(X_train,Y_train)\n",
        "Y_pred = rfe.predict(X_test)\n",
        "mae,mse,rmse,r2 = evaluation(Y_test,Y_pred)\n",
        "r2_arr.append(r2)\n",
        "rmse_arr.append(rmse)\n",
        "print(\"R sqaured value :\",r2)\n",
        "print(\"\")\n",
        "print(\"Mean Sqaured Error :\",mse)\n",
        "print(\"\")\n",
        "print(\"Mean Absolute Error :\",mae)\n",
        "print(\"\")\n",
        "print(\"Root Mean Squared :\",rmse)"
      ]
    },
    {
      "cell_type": "markdown",
      "source": [
        "### Decision Tree Regressor"
      ],
      "metadata": {
        "id": "QWcIVMsrlQjL"
      }
    },
    {
      "cell_type": "code",
      "execution_count": 49,
      "metadata": {
        "id": "SbWD69fhyY3R",
        "colab": {
          "base_uri": "https://localhost:8080/"
        },
        "outputId": "aa97c771-6a1c-4901-85dd-288996d1a161"
      },
      "outputs": [
        {
          "output_type": "stream",
          "name": "stdout",
          "text": [
            "R sqaured value : -0.8720037230492292\n",
            "\n",
            "Mean Sqaured Error : 5.212336080058717\n",
            "\n",
            "Mean Absolute Error : 1.5611144986449863\n",
            "\n",
            "Root Mean Squared : 2.2830541123807637\n"
          ]
        }
      ],
      "source": [
        "X_train,X_test,Y_train,Y_test = train_test_split(X,Y,test_size=0.2,random_state=100)\n",
        "dtree.fit(X_train,Y_train)\n",
        "Y_pred = dtree.predict(X_test)\n",
        "mae,mse,rmse,r2 = evaluation(Y_test,Y_pred)\n",
        "r2_arr.append(r2)\n",
        "rmse_arr.append(rmse)\n",
        "print(\"R sqaured value :\",r2)\n",
        "print(\"\")\n",
        "print(\"Mean Sqaured Error :\",mse)\n",
        "print(\"\")\n",
        "print(\"Mean Absolute Error :\",mae)\n",
        "print(\"\")\n",
        "print(\"Root Mean Squared :\",rmse)"
      ]
    },
    {
      "cell_type": "markdown",
      "source": [
        "### Support Vector Regressor"
      ],
      "metadata": {
        "id": "wmSy6y_YlMur"
      }
    },
    {
      "cell_type": "code",
      "execution_count": 50,
      "metadata": {
        "id": "S86sMcYjycVd",
        "colab": {
          "base_uri": "https://localhost:8080/"
        },
        "outputId": "980caac8-dc6f-4cdc-e104-4f930318b520"
      },
      "outputs": [
        {
          "output_type": "stream",
          "name": "stdout",
          "text": [
            "R sqaured value : -0.05102085013131963\n",
            "\n",
            "Mean Sqaured Error : 2.9264225442405265\n",
            "\n",
            "Mean Absolute Error : 1.1371118514200422\n",
            "\n",
            "Root Mean Squared : 1.7106789717070021\n"
          ]
        }
      ],
      "source": [
        "X_train,X_test,Y_train,Y_test = train_test_split(X,Y,test_size=0.2,random_state=100)\n",
        "svr.fit(X_train,Y_train)\n",
        "Y_pred = svr.predict(X_test)\n",
        "mae,mse,rmse,r2 = evaluation(Y_test,Y_pred)\n",
        "rmse_arr.append(rmse)\n",
        "r2_arr.append(r2)\n",
        "print(\"R sqaured value :\",r2)\n",
        "print(\"\")\n",
        "print(\"Mean Sqaured Error :\",mse)\n",
        "print(\"\")\n",
        "print(\"Mean Absolute Error :\",mae)\n",
        "print(\"\")\n",
        "print(\"Root Mean Squared :\",rmse)"
      ]
    },
    {
      "cell_type": "markdown",
      "source": [
        "### Extra Tree Regression"
      ],
      "metadata": {
        "id": "4xXw5tCRlJE2"
      }
    },
    {
      "cell_type": "code",
      "execution_count": 51,
      "metadata": {
        "id": "ci_fE2VtydGr",
        "colab": {
          "base_uri": "https://localhost:8080/"
        },
        "outputId": "d42bedf1-7acb-4d16-bba2-2944538cc9db"
      },
      "outputs": [
        {
          "output_type": "stream",
          "name": "stdout",
          "text": [
            "R sqaured value : -0.7308859959496026\n",
            "\n",
            "Mean Sqaured Error : 4.819413239446439\n",
            "\n",
            "Mean Absolute Error : 1.5215731436314373\n",
            "\n",
            "Root Mean Squared : 2.1953162048885893\n"
          ]
        }
      ],
      "source": [
        "X_train,X_test,Y_train,Y_test = train_test_split(X,Y,test_size=0.2,random_state=100)\n",
        "etree.fit(X_train,Y_train)\n",
        "Y_pred = etree.predict(X_test)\n",
        "mae,mse,rmse,r2 = evaluation(Y_test,Y_pred)\n",
        "r2_arr.append(r2)\n",
        "rmse_arr.append(rmse)\n",
        "print(\"R sqaured value :\",r2)\n",
        "print(\"\")\n",
        "print(\"Mean Sqaured Error :\",mse)\n",
        "print(\"\")\n",
        "print(\"Mean Absolute Error :\",mae)\n",
        "print(\"\")\n",
        "print(\"Root Mean Squared :\",rmse)"
      ]
    },
    {
      "cell_type": "markdown",
      "source": [
        "### Lasso Regression"
      ],
      "metadata": {
        "id": "Eej25EL-kscD"
      }
    },
    {
      "cell_type": "code",
      "source": [
        "X_train,X_test,Y_train,Y_test = train_test_split(X,Y,test_size=0.2,random_state=100)\n",
        "lasso.fit(X_train,Y_train)\n",
        "Y_pred = lasso.predict(X_test)\n",
        "mae,mse,rmse,r2 = evaluation(Y_test,Y_pred)\n",
        "rmse_arr.append(rmse)\n",
        "r2_arr.append(r2)\n",
        "print(\"R sqaured value :\",r2)\n",
        "print(\"\")\n",
        "print(\"Mean Sqaured Error :\",mse)\n",
        "print(\"\")\n",
        "print(\"Mean Absolute Error :\",mae)\n",
        "print(\"\")\n",
        "print(\"Root Mean Squared :\",rmse)"
      ],
      "metadata": {
        "id": "KqZTjmkykJR0",
        "colab": {
          "base_uri": "https://localhost:8080/"
        },
        "outputId": "5b9c5a88-9e79-46fb-dc28-c59809d29670"
      },
      "execution_count": 52,
      "outputs": [
        {
          "output_type": "stream",
          "name": "stdout",
          "text": [
            "R sqaured value : -0.0016413023150116945\n",
            "\n",
            "Mean Sqaured Error : 2.7889320064115273\n",
            "\n",
            "Mean Absolute Error : 1.5011137550399893\n",
            "\n",
            "Root Mean Squared : 1.6700095827304486\n"
          ]
        }
      ]
    },
    {
      "cell_type": "markdown",
      "source": [
        "### Ridge Regression"
      ],
      "metadata": {
        "id": "yAZkOQV9kpRX"
      }
    },
    {
      "cell_type": "code",
      "source": [
        "X_train,X_test,Y_train,Y_test = train_test_split(X,Y,test_size=0.2,random_state=100)\n",
        "ridge.fit(X_train,Y_train)\n",
        "Y_pred = ridge.predict(X_test)\n",
        "mae,mse,rmse,r2 = evaluation(Y_test,Y_pred)\n",
        "r2_arr.append(r2)\n",
        "rmse_arr.append(rmse)\n",
        "print(\"R sqaured value :\",r2)\n",
        "print(\"\")\n",
        "print(\"Mean Sqaured Error :\",mse)\n",
        "print(\"\")\n",
        "print(\"Mean Absolute Error :\",mae)\n",
        "print(\"\")\n",
        "print(\"Root Mean Squared :\",rmse)"
      ],
      "metadata": {
        "id": "JF0R_3MikNEV",
        "colab": {
          "base_uri": "https://localhost:8080/"
        },
        "outputId": "ac01a7c9-afd7-4163-9a2f-2025eace50c1"
      },
      "execution_count": 53,
      "outputs": [
        {
          "output_type": "stream",
          "name": "stdout",
          "text": [
            "R sqaured value : -0.4435964117954796\n",
            "\n",
            "Mean Sqaured Error : 4.019495030698185\n",
            "\n",
            "Mean Absolute Error : 1.5925826041209878\n",
            "\n",
            "Root Mean Squared : 2.004867833723257\n"
          ]
        }
      ]
    },
    {
      "cell_type": "markdown",
      "source": [
        "### Orthogonal Matching Pursuit Regressor"
      ],
      "metadata": {
        "id": "g6MYBOrRki8L"
      }
    },
    {
      "cell_type": "code",
      "source": [
        "X_train,X_test,Y_train,Y_test = train_test_split(X,Y,test_size=0.2,random_state=100)\n",
        "oth.fit(X_train,Y_train)\n",
        "Y_pred = oth.predict(X_test)\n",
        "mae,mse,rmse,r2 = evaluation(Y_test,Y_pred)\n",
        "r2_arr.append(r2)\n",
        "rmse_arr.append(rmse)\n",
        "print(\"R sqaured value :\",r2)\n",
        "print(\"\")\n",
        "print(\"Mean Sqaured Error :\",mse)\n",
        "print(\"\")\n",
        "print(\"Mean Absolute Error :\",mae)\n",
        "print(\"\")\n",
        "print(\"Root Mean Squared :\",rmse)"
      ],
      "metadata": {
        "id": "B8KxdkEukQRp",
        "colab": {
          "base_uri": "https://localhost:8080/"
        },
        "outputId": "58d18a91-95dc-4455-e7e4-91f44fce4a7d"
      },
      "execution_count": 54,
      "outputs": [
        {
          "output_type": "stream",
          "name": "stdout",
          "text": [
            "R sqaured value : -0.23160602309284228\n",
            "\n",
            "Mean Sqaured Error : 3.4292370423964336\n",
            "\n",
            "Mean Absolute Error : 1.5191639921594071\n",
            "\n",
            "Root Mean Squared : 1.8518199270977818\n"
          ]
        }
      ]
    },
    {
      "cell_type": "markdown",
      "source": [
        "### Linear Regression"
      ],
      "metadata": {
        "id": "8MZ76JXukZs6"
      }
    },
    {
      "cell_type": "code",
      "source": [
        "X_train,X_test,Y_train,Y_test = train_test_split(X,Y,test_size=0.2,random_state=100)\n",
        "lin_reg.fit(X_train,Y_train)\n",
        "Y_pred = lin_reg.predict(X_test)\n",
        "mae,mse,rmse,r2 = evaluation(Y_test,Y_pred)\n",
        "r2_arr.append(r2)\n",
        "rmse_arr.append(rmse)\n",
        "print(\"R sqaured value :\",r2)\n",
        "print(\"\")\n",
        "print(\"Mean Sqaured Error :\",mse)\n",
        "print(\"\")\n",
        "print(\"Mean Absolute Error :\",mae)\n",
        "print(\"\")\n",
        "print(\"Root Mean Squared :\",rmse)"
      ],
      "metadata": {
        "id": "rqW03a-mkUhF",
        "colab": {
          "base_uri": "https://localhost:8080/"
        },
        "outputId": "6be2933e-d6a7-49c9-c8e8-9a97a5bb5acf"
      },
      "execution_count": 55,
      "outputs": [
        {
          "output_type": "stream",
          "name": "stdout",
          "text": [
            "R sqaured value : -2.43483279234005e+21\n",
            "\n",
            "Mean Sqaured Error : 6.779455968042649e+21\n",
            "\n",
            "Mean Absolute Error : 12872163234.847523\n",
            "\n",
            "Root Mean Squared : 82337451794.68848\n"
          ]
        }
      ]
    },
    {
      "cell_type": "markdown",
      "source": [
        "### Model Performance"
      ],
      "metadata": {
        "id": "dIU8xk4XHQDD"
      }
    },
    {
      "cell_type": "code",
      "source": [
        "import seaborn as sns"
      ],
      "metadata": {
        "id": "lbjJTcKqGSA0"
      },
      "execution_count": 56,
      "outputs": []
    },
    {
      "cell_type": "code",
      "source": [
        "di = {\"Name\":[\"Random Forest\",\"Decision Tree\",\"Support Vector\",\"Extra Tree\",\"Lasso\",\"Ridge\",\"Orthogonal\",\"Linear\"],\n",
        "      \"RMSE\":rmse_arr,\"R_Sq\":r2_arr}"
      ],
      "metadata": {
        "id": "a1M-XG96pg_r"
      },
      "execution_count": 57,
      "outputs": []
    },
    {
      "cell_type": "code",
      "source": [
        "model_performance = pd.DataFrame.from_dict(di)"
      ],
      "metadata": {
        "id": "p-vUcxFFqw4g"
      },
      "execution_count": 58,
      "outputs": []
    },
    {
      "cell_type": "code",
      "source": [
        "model_performance"
      ],
      "metadata": {
        "id": "s981HWb7sOtU",
        "colab": {
          "base_uri": "https://localhost:8080/",
          "height": 300
        },
        "outputId": "a293918e-9603-411e-db73-00a7e73cc856"
      },
      "execution_count": 59,
      "outputs": [
        {
          "output_type": "execute_result",
          "data": {
            "text/plain": [
              "             Name          RMSE          R_Sq\n",
              "0   Random Forest  1.728796e+00 -7.340076e-02\n",
              "1   Decision Tree  2.283054e+00 -8.720037e-01\n",
              "2  Support Vector  1.710679e+00 -5.102085e-02\n",
              "3      Extra Tree  2.195316e+00 -7.308860e-01\n",
              "4           Lasso  1.670010e+00 -1.641302e-03\n",
              "5           Ridge  2.004868e+00 -4.435964e-01\n",
              "6      Orthogonal  1.851820e+00 -2.316060e-01\n",
              "7          Linear  8.233745e+10 -2.434833e+21"
            ],
            "text/html": [
              "\n",
              "  <div id=\"df-b9405dcf-feb9-4456-b608-1ff831571824\">\n",
              "    <div class=\"colab-df-container\">\n",
              "      <div>\n",
              "<style scoped>\n",
              "    .dataframe tbody tr th:only-of-type {\n",
              "        vertical-align: middle;\n",
              "    }\n",
              "\n",
              "    .dataframe tbody tr th {\n",
              "        vertical-align: top;\n",
              "    }\n",
              "\n",
              "    .dataframe thead th {\n",
              "        text-align: right;\n",
              "    }\n",
              "</style>\n",
              "<table border=\"1\" class=\"dataframe\">\n",
              "  <thead>\n",
              "    <tr style=\"text-align: right;\">\n",
              "      <th></th>\n",
              "      <th>Name</th>\n",
              "      <th>RMSE</th>\n",
              "      <th>R_Sq</th>\n",
              "    </tr>\n",
              "  </thead>\n",
              "  <tbody>\n",
              "    <tr>\n",
              "      <th>0</th>\n",
              "      <td>Random Forest</td>\n",
              "      <td>1.728796e+00</td>\n",
              "      <td>-7.340076e-02</td>\n",
              "    </tr>\n",
              "    <tr>\n",
              "      <th>1</th>\n",
              "      <td>Decision Tree</td>\n",
              "      <td>2.283054e+00</td>\n",
              "      <td>-8.720037e-01</td>\n",
              "    </tr>\n",
              "    <tr>\n",
              "      <th>2</th>\n",
              "      <td>Support Vector</td>\n",
              "      <td>1.710679e+00</td>\n",
              "      <td>-5.102085e-02</td>\n",
              "    </tr>\n",
              "    <tr>\n",
              "      <th>3</th>\n",
              "      <td>Extra Tree</td>\n",
              "      <td>2.195316e+00</td>\n",
              "      <td>-7.308860e-01</td>\n",
              "    </tr>\n",
              "    <tr>\n",
              "      <th>4</th>\n",
              "      <td>Lasso</td>\n",
              "      <td>1.670010e+00</td>\n",
              "      <td>-1.641302e-03</td>\n",
              "    </tr>\n",
              "    <tr>\n",
              "      <th>5</th>\n",
              "      <td>Ridge</td>\n",
              "      <td>2.004868e+00</td>\n",
              "      <td>-4.435964e-01</td>\n",
              "    </tr>\n",
              "    <tr>\n",
              "      <th>6</th>\n",
              "      <td>Orthogonal</td>\n",
              "      <td>1.851820e+00</td>\n",
              "      <td>-2.316060e-01</td>\n",
              "    </tr>\n",
              "    <tr>\n",
              "      <th>7</th>\n",
              "      <td>Linear</td>\n",
              "      <td>8.233745e+10</td>\n",
              "      <td>-2.434833e+21</td>\n",
              "    </tr>\n",
              "  </tbody>\n",
              "</table>\n",
              "</div>\n",
              "      <button class=\"colab-df-convert\" onclick=\"convertToInteractive('df-b9405dcf-feb9-4456-b608-1ff831571824')\"\n",
              "              title=\"Convert this dataframe to an interactive table.\"\n",
              "              style=\"display:none;\">\n",
              "        \n",
              "  <svg xmlns=\"http://www.w3.org/2000/svg\" height=\"24px\"viewBox=\"0 0 24 24\"\n",
              "       width=\"24px\">\n",
              "    <path d=\"M0 0h24v24H0V0z\" fill=\"none\"/>\n",
              "    <path d=\"M18.56 5.44l.94 2.06.94-2.06 2.06-.94-2.06-.94-.94-2.06-.94 2.06-2.06.94zm-11 1L8.5 8.5l.94-2.06 2.06-.94-2.06-.94L8.5 2.5l-.94 2.06-2.06.94zm10 10l.94 2.06.94-2.06 2.06-.94-2.06-.94-.94-2.06-.94 2.06-2.06.94z\"/><path d=\"M17.41 7.96l-1.37-1.37c-.4-.4-.92-.59-1.43-.59-.52 0-1.04.2-1.43.59L10.3 9.45l-7.72 7.72c-.78.78-.78 2.05 0 2.83L4 21.41c.39.39.9.59 1.41.59.51 0 1.02-.2 1.41-.59l7.78-7.78 2.81-2.81c.8-.78.8-2.07 0-2.86zM5.41 20L4 18.59l7.72-7.72 1.47 1.35L5.41 20z\"/>\n",
              "  </svg>\n",
              "      </button>\n",
              "      \n",
              "  <style>\n",
              "    .colab-df-container {\n",
              "      display:flex;\n",
              "      flex-wrap:wrap;\n",
              "      gap: 12px;\n",
              "    }\n",
              "\n",
              "    .colab-df-convert {\n",
              "      background-color: #E8F0FE;\n",
              "      border: none;\n",
              "      border-radius: 50%;\n",
              "      cursor: pointer;\n",
              "      display: none;\n",
              "      fill: #1967D2;\n",
              "      height: 32px;\n",
              "      padding: 0 0 0 0;\n",
              "      width: 32px;\n",
              "    }\n",
              "\n",
              "    .colab-df-convert:hover {\n",
              "      background-color: #E2EBFA;\n",
              "      box-shadow: 0px 1px 2px rgba(60, 64, 67, 0.3), 0px 1px 3px 1px rgba(60, 64, 67, 0.15);\n",
              "      fill: #174EA6;\n",
              "    }\n",
              "\n",
              "    [theme=dark] .colab-df-convert {\n",
              "      background-color: #3B4455;\n",
              "      fill: #D2E3FC;\n",
              "    }\n",
              "\n",
              "    [theme=dark] .colab-df-convert:hover {\n",
              "      background-color: #434B5C;\n",
              "      box-shadow: 0px 1px 3px 1px rgba(0, 0, 0, 0.15);\n",
              "      filter: drop-shadow(0px 1px 2px rgba(0, 0, 0, 0.3));\n",
              "      fill: #FFFFFF;\n",
              "    }\n",
              "  </style>\n",
              "\n",
              "      <script>\n",
              "        const buttonEl =\n",
              "          document.querySelector('#df-b9405dcf-feb9-4456-b608-1ff831571824 button.colab-df-convert');\n",
              "        buttonEl.style.display =\n",
              "          google.colab.kernel.accessAllowed ? 'block' : 'none';\n",
              "\n",
              "        async function convertToInteractive(key) {\n",
              "          const element = document.querySelector('#df-b9405dcf-feb9-4456-b608-1ff831571824');\n",
              "          const dataTable =\n",
              "            await google.colab.kernel.invokeFunction('convertToInteractive',\n",
              "                                                     [key], {});\n",
              "          if (!dataTable) return;\n",
              "\n",
              "          const docLinkHtml = 'Like what you see? Visit the ' +\n",
              "            '<a target=\"_blank\" href=https://colab.research.google.com/notebooks/data_table.ipynb>data table notebook</a>'\n",
              "            + ' to learn more about interactive tables.';\n",
              "          element.innerHTML = '';\n",
              "          dataTable['output_type'] = 'display_data';\n",
              "          await google.colab.output.renderOutput(dataTable, element);\n",
              "          const docLink = document.createElement('div');\n",
              "          docLink.innerHTML = docLinkHtml;\n",
              "          element.appendChild(docLink);\n",
              "        }\n",
              "      </script>\n",
              "    </div>\n",
              "  </div>\n",
              "  "
            ]
          },
          "metadata": {},
          "execution_count": 59
        }
      ]
    },
    {
      "cell_type": "code",
      "source": [
        "sns.set(rc={'figure.figsize':(10,5)})\n",
        "ax = sns.lineplot(x='RMSE',y='R_Sq',data=model_performance).set(title='Regressor Performance')"
      ],
      "metadata": {
        "id": "8kvulYCREFOu",
        "colab": {
          "base_uri": "https://localhost:8080/",
          "height": 355
        },
        "outputId": "2d809af2-7a6c-4e14-eff6-ca543249a169"
      },
      "execution_count": 60,
      "outputs": [
        {
          "output_type": "display_data",
          "data": {
            "text/plain": [
              "<Figure size 720x360 with 1 Axes>"
            ],
            "image/png": "[encoded data removed]"
          },
          "metadata": {}
        }
      ]
    },
    {
      "cell_type": "markdown",
      "source": [
        "### Using model with lowest rmse"
      ],
      "metadata": {
        "id": "xsGZz74YHfog"
      }
    },
    {
      "cell_type": "code",
      "source": [
        "X_train,X_test,Y_train,Y_test = train_test_split(X,Y,test_size=0.2,random_state=100)\n",
        "lasso.fit(X_train,Y_train)\n",
        "Y_pred = lasso.predict(X_test)\n",
        "rmse = np.sqrt(mean_squared_error(Y_test,Y_pred))"
      ],
      "metadata": {
        "id": "Govnii6WFhDx"
      },
      "execution_count": 61,
      "outputs": []
    },
    {
      "cell_type": "code",
      "source": [
        "rmse"
      ],
      "metadata": {
        "id": "Wr7tofXBI7H6",
        "colab": {
          "base_uri": "https://localhost:8080/"
        },
        "outputId": "f0dd856f-0f01-4ca2-e249-a6c5f6639e09"
      },
      "execution_count": 62,
      "outputs": [
        {
          "output_type": "execute_result",
          "data": {
            "text/plain": [
              "1.6700095827304486"
            ]
          },
          "metadata": {},
          "execution_count": 62
        }
      ]
    },
    {
      "cell_type": "markdown",
      "source": [
        "### Saving model state for later use"
      ],
      "metadata": {
        "id": "bUeMqW2aJCFg"
      }
    },
    {
      "cell_type": "code",
      "source": [
        "import pickle\n",
        "\n",
        "pickle.dump(svr,open(\"dengue_model.pkl\",\"wb\"))"
      ],
      "metadata": {
        "id": "jyxlWv2aI78G"
      },
      "execution_count": 63,
      "outputs": []
    },
    {
      "cell_type": "code",
      "source": [],
      "metadata": {
        "id": "Lo5V0P8AJ4xg"
      },
      "execution_count": 63,
      "outputs": []
    }
  ],
  "metadata": {
    "colab": {
      "provenance": []
    },
    "kernelspec": {
      "display_name": "Python 3",
      "name": "python3"
    },
    "language_info": {
      "name": "python"
    }
  },
  "nbformat": 4,
  "nbformat_minor": 0
}