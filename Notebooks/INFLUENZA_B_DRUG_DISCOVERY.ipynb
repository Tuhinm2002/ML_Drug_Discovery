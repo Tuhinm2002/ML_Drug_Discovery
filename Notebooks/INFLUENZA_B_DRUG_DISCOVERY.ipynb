{
  "cells": [
    {
      "cell_type": "markdown",
      "metadata": {
        "id": "4Ban-ZO5_6Vf"
      },
      "source": [
        "### Importing Important Modules and Database connectors"
      ]
    },
    {
      "cell_type": "code",
      "execution_count": 1,
      "metadata": {
        "colab": {
          "base_uri": "https://localhost:8080/"
        },
        "id": "uh7CxBVxlbi9",
        "outputId": "c97758a9-81ca-449b-8147-41203bd0050d"
      },
      "outputs": [
        {
          "output_type": "stream",
          "name": "stdout",
          "text": [
            "Looking in indexes: https://pypi.org/simple, https://us-python.pkg.dev/colab-wheels/public/simple/\n",
            "Collecting chembl_webresource_client\n",
            "  Downloading chembl_webresource_client-0.10.8-py3-none-any.whl (55 kB)\n",
            "\u001b[2K     \u001b[90m━━━━━━━━━━━━━━━━━━━━━━━━━━━━━━━━━━━━━━━━\u001b[0m \u001b[32m55.2/55.2 KB\u001b[0m \u001b[31m2.1 MB/s\u001b[0m eta \u001b[36m0:00:00\u001b[0m\n",
            "\u001b[?25hCollecting requests-cache~=0.7.0\n",
            "  Downloading requests_cache-0.7.5-py3-none-any.whl (39 kB)\n",
            "Requirement already satisfied: requests>=2.18.4 in /usr/local/lib/python3.9/dist-packages (from chembl_webresource_client) (2.25.1)\n",
            "Requirement already satisfied: urllib3 in /usr/local/lib/python3.9/dist-packages (from chembl_webresource_client) (1.26.14)\n",
            "Requirement already satisfied: easydict in /usr/local/lib/python3.9/dist-packages (from chembl_webresource_client) (1.10)\n",
            "Requirement already satisfied: chardet<5,>=3.0.2 in /usr/local/lib/python3.9/dist-packages (from requests>=2.18.4->chembl_webresource_client) (4.0.0)\n",
            "Requirement already satisfied: certifi>=2017.4.17 in /usr/local/lib/python3.9/dist-packages (from requests>=2.18.4->chembl_webresource_client) (2022.12.7)\n",
            "Requirement already satisfied: idna<3,>=2.5 in /usr/local/lib/python3.9/dist-packages (from requests>=2.18.4->chembl_webresource_client) (2.10)\n",
            "Collecting attrs<22.0,>=21.2\n",
            "  Downloading attrs-21.4.0-py2.py3-none-any.whl (60 kB)\n",
            "\u001b[2K     \u001b[90m━━━━━━━━━━━━━━━━━━━━━━━━━━━━━━━━━━━━━━━━\u001b[0m \u001b[32m60.6/60.6 KB\u001b[0m \u001b[31m5.1 MB/s\u001b[0m eta \u001b[36m0:00:00\u001b[0m\n",
            "\u001b[?25hCollecting url-normalize<2.0,>=1.4\n",
            "  Downloading url_normalize-1.4.3-py2.py3-none-any.whl (6.8 kB)\n",
            "Requirement already satisfied: pyyaml>=5.4 in /usr/local/lib/python3.9/dist-packages (from requests-cache~=0.7.0->chembl_webresource_client) (6.0)\n",
            "Requirement already satisfied: itsdangerous>=2.0.1 in /usr/local/lib/python3.9/dist-packages (from requests-cache~=0.7.0->chembl_webresource_client) (2.1.2)\n",
            "Requirement already satisfied: six in /usr/local/lib/python3.9/dist-packages (from url-normalize<2.0,>=1.4->requests-cache~=0.7.0->chembl_webresource_client) (1.15.0)\n",
            "Installing collected packages: url-normalize, attrs, requests-cache, chembl_webresource_client\n",
            "  Attempting uninstall: attrs\n",
            "    Found existing installation: attrs 22.2.0\n",
            "    Uninstalling attrs-22.2.0:\n",
            "      Successfully uninstalled attrs-22.2.0\n",
            "Successfully installed attrs-21.4.0 chembl_webresource_client-0.10.8 requests-cache-0.7.5 url-normalize-1.4.3\n"
          ]
        }
      ],
      "source": [
        "! pip install chembl_webresource_client"
      ]
    },
    {
      "cell_type": "code",
      "execution_count": 2,
      "metadata": {
        "id": "MqSnLFbQls26"
      },
      "outputs": [],
      "source": [
        "import pandas as pd\n",
        "import numpy as np\n",
        "from chembl_webresource_client.new_client import new_client\n",
        "import matplotlib.pyplot as plt"
      ]
    },
    {
      "cell_type": "markdown",
      "metadata": {
        "id": "MgjhG1kiACOJ"
      },
      "source": [
        "### Collecting And Processing Data\n",
        "* Our main goal is to process the target protien structure `independent variable`\n",
        "* And predict the `IC50` value the `dependent variable`\n",
        "* To process the chemical structure Ww will be using `Padel Descripter` later on"
      ]
    },
    {
      "cell_type": "code",
      "execution_count": 3,
      "metadata": {
        "id": "T29V3oPJl9O3"
      },
      "outputs": [],
      "source": [
        "target = new_client.target\n",
        "target_query = target.search('influenza')\n",
        "target_result = pd.DataFrame.from_dict(target_query)"
      ]
    },
    {
      "cell_type": "code",
      "execution_count": 4,
      "metadata": {
        "colab": {
          "base_uri": "https://localhost:8080/",
          "height": 746
        },
        "id": "ZOSTm5S-mfuI",
        "outputId": "f79982ef-b525-4ed4-fde1-af0bb63e8f12"
      },
      "outputs": [
        {
          "output_type": "execute_result",
          "data": {
            "text/plain": [
              "                                     cross_references  \\\n",
              "0                                                  []   \n",
              "1                                                  []   \n",
              "2                                                  []   \n",
              "3                                                  []   \n",
              "4   [{'xref_id': 'P03438', 'xref_name': None, 'xre...   \n",
              "5                                                  []   \n",
              "6                                                  []   \n",
              "7   [{'xref_id': 'P63231', 'xref_name': None, 'xre...   \n",
              "8                                                  []   \n",
              "9                                                  []   \n",
              "10                                                 []   \n",
              "11                                                 []   \n",
              "12                                                 []   \n",
              "\n",
              "                                          organism  \\\n",
              "0                     unidentified influenza virus   \n",
              "1                                Influenza B virus   \n",
              "2                                Influenza A virus   \n",
              "3                                Influenza C virus   \n",
              "4           Influenza A virus (strain A/X-31 H3N2)   \n",
              "5                         Influenza A virus (H5N1)   \n",
              "6                           Influenza A virus H3N2   \n",
              "7       Influenza A virus (A/Udorn/307/1972(H3N2))   \n",
              "8                     Influenza B virus (B/Lee/40)   \n",
              "9                                Influenza A virus   \n",
              "10           Unidentified Influenza A virus (H1N2)   \n",
              "11  Influenza A virus (A/Puerto Rico/8/1934(H1N1))   \n",
              "12                          Haemophilus influenzae   \n",
              "\n",
              "                                pref_name  score  species_group_flag  \\\n",
              "0            unidentified influenza virus   12.0               False   \n",
              "1                       Influenza B virus   12.0               False   \n",
              "2                       Influenza A virus   12.0               False   \n",
              "3                       Influenza C virus   12.0               False   \n",
              "4         Influenza A virus Hemagglutinin   11.0               False   \n",
              "5                Influenza A virus (H5N1)   11.0               False   \n",
              "6                  Influenza A virus H3N2   11.0               False   \n",
              "7     Influenza virus A matrix protein M2    9.0               False   \n",
              "8            Influenza B virus (B/Lee/40)    9.0               False   \n",
              "9                        Matrix protein 2    9.0               False   \n",
              "10  Unidentified Influenza A virus (H1N2)    9.0               False   \n",
              "11    Influenza A virus (A/PR/8/34(H1N1))    8.0               False   \n",
              "12                 Haemophilus influenzae    6.0               False   \n",
              "\n",
              "   target_chembl_id                                  target_components  \\\n",
              "0      CHEMBL613128                                                 []   \n",
              "1      CHEMBL613129                                                 []   \n",
              "2      CHEMBL613740                                                 []   \n",
              "3      CHEMBL612783                                                 []   \n",
              "4        CHEMBL4918  [{'accession': 'P03438', 'component_descriptio...   \n",
              "5      CHEMBL613845                                                 []   \n",
              "6     CHEMBL2366902                                                 []   \n",
              "7        CHEMBL2052  [{'accession': 'P0DOF8', 'component_descriptio...   \n",
              "8      CHEMBL612452                                                 []   \n",
              "9     CHEMBL1932894  [{'accession': 'P06821', 'component_descriptio...   \n",
              "10    CHEMBL2367089                                                 []   \n",
              "11     CHEMBL612610                                                 []   \n",
              "12        CHEMBL355                                                 []   \n",
              "\n",
              "       target_type   tax_id  \n",
              "0         ORGANISM    11309  \n",
              "1         ORGANISM    11520  \n",
              "2         ORGANISM    11320  \n",
              "3         ORGANISM    11552  \n",
              "4   SINGLE PROTEIN   132504  \n",
              "5         ORGANISM   102793  \n",
              "6         ORGANISM    41857  \n",
              "7   SINGLE PROTEIN   381517  \n",
              "8         ORGANISM   107412  \n",
              "9   SINGLE PROTEIN    11320  \n",
              "10        ORGANISM  1323429  \n",
              "11        ORGANISM   211044  \n",
              "12        ORGANISM      727  "
            ],
            "text/html": [
              "\n",
              "  <div id=\"df-d4a70570-27b8-4751-938d-7ce31bdfaaf1\">\n",
              "    <div class=\"colab-df-container\">\n",
              "      <div>\n",
              "<style scoped>\n",
              "    .dataframe tbody tr th:only-of-type {\n",
              "        vertical-align: middle;\n",
              "    }\n",
              "\n",
              "    .dataframe tbody tr th {\n",
              "        vertical-align: top;\n",
              "    }\n",
              "\n",
              "    .dataframe thead th {\n",
              "        text-align: right;\n",
              "    }\n",
              "</style>\n",
              "<table border=\"1\" class=\"dataframe\">\n",
              "  <thead>\n",
              "    <tr style=\"text-align: right;\">\n",
              "      <th></th>\n",
              "      <th>cross_references</th>\n",
              "      <th>organism</th>\n",
              "      <th>pref_name</th>\n",
              "      <th>score</th>\n",
              "      <th>species_group_flag</th>\n",
              "      <th>target_chembl_id</th>\n",
              "      <th>target_components</th>\n",
              "      <th>target_type</th>\n",
              "      <th>tax_id</th>\n",
              "    </tr>\n",
              "  </thead>\n",
              "  <tbody>\n",
              "    <tr>\n",
              "      <th>0</th>\n",
              "      <td>[]</td>\n",
              "      <td>unidentified influenza virus</td>\n",
              "      <td>unidentified influenza virus</td>\n",
              "      <td>12.0</td>\n",
              "      <td>False</td>\n",
              "      <td>CHEMBL613128</td>\n",
              "      <td>[]</td>\n",
              "      <td>ORGANISM</td>\n",
              "      <td>11309</td>\n",
              "    </tr>\n",
              "    <tr>\n",
              "      <th>1</th>\n",
              "      <td>[]</td>\n",
              "      <td>Influenza B virus</td>\n",
              "      <td>Influenza B virus</td>\n",
              "      <td>12.0</td>\n",
              "      <td>False</td>\n",
              "      <td>CHEMBL613129</td>\n",
              "      <td>[]</td>\n",
              "      <td>ORGANISM</td>\n",
              "      <td>11520</td>\n",
              "    </tr>\n",
              "    <tr>\n",
              "      <th>2</th>\n",
              "      <td>[]</td>\n",
              "      <td>Influenza A virus</td>\n",
              "      <td>Influenza A virus</td>\n",
              "      <td>12.0</td>\n",
              "      <td>False</td>\n",
              "      <td>CHEMBL613740</td>\n",
              "      <td>[]</td>\n",
              "      <td>ORGANISM</td>\n",
              "      <td>11320</td>\n",
              "    </tr>\n",
              "    <tr>\n",
              "      <th>3</th>\n",
              "      <td>[]</td>\n",
              "      <td>Influenza C virus</td>\n",
              "      <td>Influenza C virus</td>\n",
              "      <td>12.0</td>\n",
              "      <td>False</td>\n",
              "      <td>CHEMBL612783</td>\n",
              "      <td>[]</td>\n",
              "      <td>ORGANISM</td>\n",
              "      <td>11552</td>\n",
              "    </tr>\n",
              "    <tr>\n",
              "      <th>4</th>\n",
              "      <td>[{'xref_id': 'P03438', 'xref_name': None, 'xre...</td>\n",
              "      <td>Influenza A virus (strain A/X-31 H3N2)</td>\n",
              "      <td>Influenza A virus Hemagglutinin</td>\n",
              "      <td>11.0</td>\n",
              "      <td>False</td>\n",
              "      <td>CHEMBL4918</td>\n",
              "      <td>[{'accession': 'P03438', 'component_descriptio...</td>\n",
              "      <td>SINGLE PROTEIN</td>\n",
              "      <td>132504</td>\n",
              "    </tr>\n",
              "    <tr>\n",
              "      <th>5</th>\n",
              "      <td>[]</td>\n",
              "      <td>Influenza A virus (H5N1)</td>\n",
              "      <td>Influenza A virus (H5N1)</td>\n",
              "      <td>11.0</td>\n",
              "      <td>False</td>\n",
              "      <td>CHEMBL613845</td>\n",
              "      <td>[]</td>\n",
              "      <td>ORGANISM</td>\n",
              "      <td>102793</td>\n",
              "    </tr>\n",
              "    <tr>\n",
              "      <th>6</th>\n",
              "      <td>[]</td>\n",
              "      <td>Influenza A virus H3N2</td>\n",
              "      <td>Influenza A virus H3N2</td>\n",
              "      <td>11.0</td>\n",
              "      <td>False</td>\n",
              "      <td>CHEMBL2366902</td>\n",
              "      <td>[]</td>\n",
              "      <td>ORGANISM</td>\n",
              "      <td>41857</td>\n",
              "    </tr>\n",
              "    <tr>\n",
              "      <th>7</th>\n",
              "      <td>[{'xref_id': 'P63231', 'xref_name': None, 'xre...</td>\n",
              "      <td>Influenza A virus (A/Udorn/307/1972(H3N2))</td>\n",
              "      <td>Influenza virus A matrix protein M2</td>\n",
              "      <td>9.0</td>\n",
              "      <td>False</td>\n",
              "      <td>CHEMBL2052</td>\n",
              "      <td>[{'accession': 'P0DOF8', 'component_descriptio...</td>\n",
              "      <td>SINGLE PROTEIN</td>\n",
              "      <td>381517</td>\n",
              "    </tr>\n",
              "    <tr>\n",
              "      <th>8</th>\n",
              "      <td>[]</td>\n",
              "      <td>Influenza B virus (B/Lee/40)</td>\n",
              "      <td>Influenza B virus (B/Lee/40)</td>\n",
              "      <td>9.0</td>\n",
              "      <td>False</td>\n",
              "      <td>CHEMBL612452</td>\n",
              "      <td>[]</td>\n",
              "      <td>ORGANISM</td>\n",
              "      <td>107412</td>\n",
              "    </tr>\n",
              "    <tr>\n",
              "      <th>9</th>\n",
              "      <td>[]</td>\n",
              "      <td>Influenza A virus</td>\n",
              "      <td>Matrix protein 2</td>\n",
              "      <td>9.0</td>\n",
              "      <td>False</td>\n",
              "      <td>CHEMBL1932894</td>\n",
              "      <td>[{'accession': 'P06821', 'component_descriptio...</td>\n",
              "      <td>SINGLE PROTEIN</td>\n",
              "      <td>11320</td>\n",
              "    </tr>\n",
              "    <tr>\n",
              "      <th>10</th>\n",
              "      <td>[]</td>\n",
              "      <td>Unidentified Influenza A virus (H1N2)</td>\n",
              "      <td>Unidentified Influenza A virus (H1N2)</td>\n",
              "      <td>9.0</td>\n",
              "      <td>False</td>\n",
              "      <td>CHEMBL2367089</td>\n",
              "      <td>[]</td>\n",
              "      <td>ORGANISM</td>\n",
              "      <td>1323429</td>\n",
              "    </tr>\n",
              "    <tr>\n",
              "      <th>11</th>\n",
              "      <td>[]</td>\n",
              "      <td>Influenza A virus (A/Puerto Rico/8/1934(H1N1))</td>\n",
              "      <td>Influenza A virus (A/PR/8/34(H1N1))</td>\n",
              "      <td>8.0</td>\n",
              "      <td>False</td>\n",
              "      <td>CHEMBL612610</td>\n",
              "      <td>[]</td>\n",
              "      <td>ORGANISM</td>\n",
              "      <td>211044</td>\n",
              "    </tr>\n",
              "    <tr>\n",
              "      <th>12</th>\n",
              "      <td>[]</td>\n",
              "      <td>Haemophilus influenzae</td>\n",
              "      <td>Haemophilus influenzae</td>\n",
              "      <td>6.0</td>\n",
              "      <td>False</td>\n",
              "      <td>CHEMBL355</td>\n",
              "      <td>[]</td>\n",
              "      <td>ORGANISM</td>\n",
              "      <td>727</td>\n",
              "    </tr>\n",
              "  </tbody>\n",
              "</table>\n",
              "</div>\n",
              "      <button class=\"colab-df-convert\" onclick=\"convertToInteractive('df-d4a70570-27b8-4751-938d-7ce31bdfaaf1')\"\n",
              "              title=\"Convert this dataframe to an interactive table.\"\n",
              "              style=\"display:none;\">\n",
              "        \n",
              "  <svg xmlns=\"http://www.w3.org/2000/svg\" height=\"24px\"viewBox=\"0 0 24 24\"\n",
              "       width=\"24px\">\n",
              "    <path d=\"M0 0h24v24H0V0z\" fill=\"none\"/>\n",
              "    <path d=\"M18.56 5.44l.94 2.06.94-2.06 2.06-.94-2.06-.94-.94-2.06-.94 2.06-2.06.94zm-11 1L8.5 8.5l.94-2.06 2.06-.94-2.06-.94L8.5 2.5l-.94 2.06-2.06.94zm10 10l.94 2.06.94-2.06 2.06-.94-2.06-.94-.94-2.06-.94 2.06-2.06.94z\"/><path d=\"M17.41 7.96l-1.37-1.37c-.4-.4-.92-.59-1.43-.59-.52 0-1.04.2-1.43.59L10.3 9.45l-7.72 7.72c-.78.78-.78 2.05 0 2.83L4 21.41c.39.39.9.59 1.41.59.51 0 1.02-.2 1.41-.59l7.78-7.78 2.81-2.81c.8-.78.8-2.07 0-2.86zM5.41 20L4 18.59l7.72-7.72 1.47 1.35L5.41 20z\"/>\n",
              "  </svg>\n",
              "      </button>\n",
              "      \n",
              "  <style>\n",
              "    .colab-df-container {\n",
              "      display:flex;\n",
              "      flex-wrap:wrap;\n",
              "      gap: 12px;\n",
              "    }\n",
              "\n",
              "    .colab-df-convert {\n",
              "      background-color: #E8F0FE;\n",
              "      border: none;\n",
              "      border-radius: 50%;\n",
              "      cursor: pointer;\n",
              "      display: none;\n",
              "      fill: #1967D2;\n",
              "      height: 32px;\n",
              "      padding: 0 0 0 0;\n",
              "      width: 32px;\n",
              "    }\n",
              "\n",
              "    .colab-df-convert:hover {\n",
              "      background-color: #E2EBFA;\n",
              "      box-shadow: 0px 1px 2px rgba(60, 64, 67, 0.3), 0px 1px 3px 1px rgba(60, 64, 67, 0.15);\n",
              "      fill: #174EA6;\n",
              "    }\n",
              "\n",
              "    [theme=dark] .colab-df-convert {\n",
              "      background-color: #3B4455;\n",
              "      fill: #D2E3FC;\n",
              "    }\n",
              "\n",
              "    [theme=dark] .colab-df-convert:hover {\n",
              "      background-color: #434B5C;\n",
              "      box-shadow: 0px 1px 3px 1px rgba(0, 0, 0, 0.15);\n",
              "      filter: drop-shadow(0px 1px 2px rgba(0, 0, 0, 0.3));\n",
              "      fill: #FFFFFF;\n",
              "    }\n",
              "  </style>\n",
              "\n",
              "      <script>\n",
              "        const buttonEl =\n",
              "          document.querySelector('#df-d4a70570-27b8-4751-938d-7ce31bdfaaf1 button.colab-df-convert');\n",
              "        buttonEl.style.display =\n",
              "          google.colab.kernel.accessAllowed ? 'block' : 'none';\n",
              "\n",
              "        async function convertToInteractive(key) {\n",
              "          const element = document.querySelector('#df-d4a70570-27b8-4751-938d-7ce31bdfaaf1');\n",
              "          const dataTable =\n",
              "            await google.colab.kernel.invokeFunction('convertToInteractive',\n",
              "                                                     [key], {});\n",
              "          if (!dataTable) return;\n",
              "\n",
              "          const docLinkHtml = 'Like what you see? Visit the ' +\n",
              "            '<a target=\"_blank\" href=https://colab.research.google.com/notebooks/data_table.ipynb>data table notebook</a>'\n",
              "            + ' to learn more about interactive tables.';\n",
              "          element.innerHTML = '';\n",
              "          dataTable['output_type'] = 'display_data';\n",
              "          await google.colab.output.renderOutput(dataTable, element);\n",
              "          const docLink = document.createElement('div');\n",
              "          docLink.innerHTML = docLinkHtml;\n",
              "          element.appendChild(docLink);\n",
              "        }\n",
              "      </script>\n",
              "    </div>\n",
              "  </div>\n",
              "  "
            ]
          },
          "metadata": {},
          "execution_count": 4
        }
      ],
      "source": [
        "target_result"
      ]
    },
    {
      "cell_type": "code",
      "execution_count": 5,
      "metadata": {
        "colab": {
          "base_uri": "https://localhost:8080/",
          "height": 36
        },
        "id": "Th0_EaNCml_t",
        "outputId": "2dd936a1-9e5d-4bc1-88f6-c8a7007f4a78"
      },
      "outputs": [
        {
          "output_type": "execute_result",
          "data": {
            "text/plain": [
              "'CHEMBL613129'"
            ],
            "application/vnd.google.colaboratory.intrinsic+json": {
              "type": "string"
            }
          },
          "metadata": {},
          "execution_count": 5
        }
      ],
      "source": [
        "selected_target1 = target_result.target_chembl_id[1]\n",
        "selected_target1"
      ]
    },
    {
      "cell_type": "code",
      "execution_count": 6,
      "metadata": {
        "id": "bBK0Rg1zm9x0"
      },
      "outputs": [],
      "source": [
        "activity1 = new_client.activity\n",
        "res = activity1.filter(target_chembl_id=selected_target1).filter(standard_type='IC50')\n",
        "df1 = pd.DataFrame.from_dict(res)"
      ]
    },
    {
      "cell_type": "code",
      "execution_count": 7,
      "metadata": {
        "colab": {
          "base_uri": "https://localhost:8080/",
          "height": 341
        },
        "id": "4Qjf8ZgInaIS",
        "outputId": "67e0964b-1936-4784-eb77-edb2fb43e212"
      },
      "outputs": [
        {
          "output_type": "execute_result",
          "data": {
            "text/plain": [
              "  activity_comment  activity_id activity_properties assay_chembl_id  \\\n",
              "0             None        76867                  []    CHEMBL808329   \n",
              "1             None        76869                  []    CHEMBL809002   \n",
              "2             None        77907                  []    CHEMBL808329   \n",
              "\n",
              "                                   assay_description assay_type  \\\n",
              "0  The compound was tested in vitro for the inhib...          F   \n",
              "1  The compound was tested in vitro for the inhib...          F   \n",
              "2  The compound was tested in vitro for the inhib...          F   \n",
              "\n",
              "  assay_variant_accession assay_variant_mutation bao_endpoint   bao_format  \\\n",
              "0                    None                   None  BAO_0000190  BAO_0000218   \n",
              "1                    None                   None  BAO_0000190  BAO_0000218   \n",
              "2                    None                   None  BAO_0000190  BAO_0000218   \n",
              "\n",
              "   ...    target_organism   target_pref_name target_tax_id text_value  toid  \\\n",
              "0  ...  Influenza B virus  Influenza B virus         11520       None  None   \n",
              "1  ...  Influenza B virus  Influenza B virus         11520       None  None   \n",
              "2  ...  Influenza B virus  Influenza B virus         11520       None  None   \n",
              "\n",
              "   type  units    uo_units upper_value value  \n",
              "0  IC50     mM  UO_0000065        None   3.0  \n",
              "1  IC50     mM  UO_0000065        None  10.0  \n",
              "2  IC50     mM  UO_0000065        None  0.75  \n",
              "\n",
              "[3 rows x 45 columns]"
            ],
            "text/html": [
              "\n",
              "  <div id=\"df-57965c51-7d56-443f-b327-a4acfe984069\">\n",
              "    <div class=\"colab-df-container\">\n",
              "      <div>\n",
              "<style scoped>\n",
              "    .dataframe tbody tr th:only-of-type {\n",
              "        vertical-align: middle;\n",
              "    }\n",
              "\n",
              "    .dataframe tbody tr th {\n",
              "        vertical-align: top;\n",
              "    }\n",
              "\n",
              "    .dataframe thead th {\n",
              "        text-align: right;\n",
              "    }\n",
              "</style>\n",
              "<table border=\"1\" class=\"dataframe\">\n",
              "  <thead>\n",
              "    <tr style=\"text-align: right;\">\n",
              "      <th></th>\n",
              "      <th>activity_comment</th>\n",
              "      <th>activity_id</th>\n",
              "      <th>activity_properties</th>\n",
              "      <th>assay_chembl_id</th>\n",
              "      <th>assay_description</th>\n",
              "      <th>assay_type</th>\n",
              "      <th>assay_variant_accession</th>\n",
              "      <th>assay_variant_mutation</th>\n",
              "      <th>bao_endpoint</th>\n",
              "      <th>bao_format</th>\n",
              "      <th>...</th>\n",
              "      <th>target_organism</th>\n",
              "      <th>target_pref_name</th>\n",
              "      <th>target_tax_id</th>\n",
              "      <th>text_value</th>\n",
              "      <th>toid</th>\n",
              "      <th>type</th>\n",
              "      <th>units</th>\n",
              "      <th>uo_units</th>\n",
              "      <th>upper_value</th>\n",
              "      <th>value</th>\n",
              "    </tr>\n",
              "  </thead>\n",
              "  <tbody>\n",
              "    <tr>\n",
              "      <th>0</th>\n",
              "      <td>None</td>\n",
              "      <td>76867</td>\n",
              "      <td>[]</td>\n",
              "      <td>CHEMBL808329</td>\n",
              "      <td>The compound was tested in vitro for the inhib...</td>\n",
              "      <td>F</td>\n",
              "      <td>None</td>\n",
              "      <td>None</td>\n",
              "      <td>BAO_0000190</td>\n",
              "      <td>BAO_0000218</td>\n",
              "      <td>...</td>\n",
              "      <td>Influenza B virus</td>\n",
              "      <td>Influenza B virus</td>\n",
              "      <td>11520</td>\n",
              "      <td>None</td>\n",
              "      <td>None</td>\n",
              "      <td>IC50</td>\n",
              "      <td>mM</td>\n",
              "      <td>UO_0000065</td>\n",
              "      <td>None</td>\n",
              "      <td>3.0</td>\n",
              "    </tr>\n",
              "    <tr>\n",
              "      <th>1</th>\n",
              "      <td>None</td>\n",
              "      <td>76869</td>\n",
              "      <td>[]</td>\n",
              "      <td>CHEMBL809002</td>\n",
              "      <td>The compound was tested in vitro for the inhib...</td>\n",
              "      <td>F</td>\n",
              "      <td>None</td>\n",
              "      <td>None</td>\n",
              "      <td>BAO_0000190</td>\n",
              "      <td>BAO_0000218</td>\n",
              "      <td>...</td>\n",
              "      <td>Influenza B virus</td>\n",
              "      <td>Influenza B virus</td>\n",
              "      <td>11520</td>\n",
              "      <td>None</td>\n",
              "      <td>None</td>\n",
              "      <td>IC50</td>\n",
              "      <td>mM</td>\n",
              "      <td>UO_0000065</td>\n",
              "      <td>None</td>\n",
              "      <td>10.0</td>\n",
              "    </tr>\n",
              "    <tr>\n",
              "      <th>2</th>\n",
              "      <td>None</td>\n",
              "      <td>77907</td>\n",
              "      <td>[]</td>\n",
              "      <td>CHEMBL808329</td>\n",
              "      <td>The compound was tested in vitro for the inhib...</td>\n",
              "      <td>F</td>\n",
              "      <td>None</td>\n",
              "      <td>None</td>\n",
              "      <td>BAO_0000190</td>\n",
              "      <td>BAO_0000218</td>\n",
              "      <td>...</td>\n",
              "      <td>Influenza B virus</td>\n",
              "      <td>Influenza B virus</td>\n",
              "      <td>11520</td>\n",
              "      <td>None</td>\n",
              "      <td>None</td>\n",
              "      <td>IC50</td>\n",
              "      <td>mM</td>\n",
              "      <td>UO_0000065</td>\n",
              "      <td>None</td>\n",
              "      <td>0.75</td>\n",
              "    </tr>\n",
              "  </tbody>\n",
              "</table>\n",
              "<p>3 rows × 45 columns</p>\n",
              "</div>\n",
              "      <button class=\"colab-df-convert\" onclick=\"convertToInteractive('df-57965c51-7d56-443f-b327-a4acfe984069')\"\n",
              "              title=\"Convert this dataframe to an interactive table.\"\n",
              "              style=\"display:none;\">\n",
              "        \n",
              "  <svg xmlns=\"http://www.w3.org/2000/svg\" height=\"24px\"viewBox=\"0 0 24 24\"\n",
              "       width=\"24px\">\n",
              "    <path d=\"M0 0h24v24H0V0z\" fill=\"none\"/>\n",
              "    <path d=\"M18.56 5.44l.94 2.06.94-2.06 2.06-.94-2.06-.94-.94-2.06-.94 2.06-2.06.94zm-11 1L8.5 8.5l.94-2.06 2.06-.94-2.06-.94L8.5 2.5l-.94 2.06-2.06.94zm10 10l.94 2.06.94-2.06 2.06-.94-2.06-.94-.94-2.06-.94 2.06-2.06.94z\"/><path d=\"M17.41 7.96l-1.37-1.37c-.4-.4-.92-.59-1.43-.59-.52 0-1.04.2-1.43.59L10.3 9.45l-7.72 7.72c-.78.78-.78 2.05 0 2.83L4 21.41c.39.39.9.59 1.41.59.51 0 1.02-.2 1.41-.59l7.78-7.78 2.81-2.81c.8-.78.8-2.07 0-2.86zM5.41 20L4 18.59l7.72-7.72 1.47 1.35L5.41 20z\"/>\n",
              "  </svg>\n",
              "      </button>\n",
              "      \n",
              "  <style>\n",
              "    .colab-df-container {\n",
              "      display:flex;\n",
              "      flex-wrap:wrap;\n",
              "      gap: 12px;\n",
              "    }\n",
              "\n",
              "    .colab-df-convert {\n",
              "      background-color: #E8F0FE;\n",
              "      border: none;\n",
              "      border-radius: 50%;\n",
              "      cursor: pointer;\n",
              "      display: none;\n",
              "      fill: #1967D2;\n",
              "      height: 32px;\n",
              "      padding: 0 0 0 0;\n",
              "      width: 32px;\n",
              "    }\n",
              "\n",
              "    .colab-df-convert:hover {\n",
              "      background-color: #E2EBFA;\n",
              "      box-shadow: 0px 1px 2px rgba(60, 64, 67, 0.3), 0px 1px 3px 1px rgba(60, 64, 67, 0.15);\n",
              "      fill: #174EA6;\n",
              "    }\n",
              "\n",
              "    [theme=dark] .colab-df-convert {\n",
              "      background-color: #3B4455;\n",
              "      fill: #D2E3FC;\n",
              "    }\n",
              "\n",
              "    [theme=dark] .colab-df-convert:hover {\n",
              "      background-color: #434B5C;\n",
              "      box-shadow: 0px 1px 3px 1px rgba(0, 0, 0, 0.15);\n",
              "      filter: drop-shadow(0px 1px 2px rgba(0, 0, 0, 0.3));\n",
              "      fill: #FFFFFF;\n",
              "    }\n",
              "  </style>\n",
              "\n",
              "      <script>\n",
              "        const buttonEl =\n",
              "          document.querySelector('#df-57965c51-7d56-443f-b327-a4acfe984069 button.colab-df-convert');\n",
              "        buttonEl.style.display =\n",
              "          google.colab.kernel.accessAllowed ? 'block' : 'none';\n",
              "\n",
              "        async function convertToInteractive(key) {\n",
              "          const element = document.querySelector('#df-57965c51-7d56-443f-b327-a4acfe984069');\n",
              "          const dataTable =\n",
              "            await google.colab.kernel.invokeFunction('convertToInteractive',\n",
              "                                                     [key], {});\n",
              "          if (!dataTable) return;\n",
              "\n",
              "          const docLinkHtml = 'Like what you see? Visit the ' +\n",
              "            '<a target=\"_blank\" href=https://colab.research.google.com/notebooks/data_table.ipynb>data table notebook</a>'\n",
              "            + ' to learn more about interactive tables.';\n",
              "          element.innerHTML = '';\n",
              "          dataTable['output_type'] = 'display_data';\n",
              "          await google.colab.output.renderOutput(dataTable, element);\n",
              "          const docLink = document.createElement('div');\n",
              "          docLink.innerHTML = docLinkHtml;\n",
              "          element.appendChild(docLink);\n",
              "        }\n",
              "      </script>\n",
              "    </div>\n",
              "  </div>\n",
              "  "
            ]
          },
          "metadata": {},
          "execution_count": 7
        }
      ],
      "source": [
        "df1.head(3)"
      ]
    },
    {
      "cell_type": "markdown",
      "metadata": {
        "id": "DrATmarmCixN"
      },
      "source": [
        "### Only Selecting the required Columns"
      ]
    },
    {
      "cell_type": "code",
      "execution_count": 8,
      "metadata": {
        "id": "CLtBKBiPpHtI"
      },
      "outputs": [],
      "source": [
        "columns = ['canonical_smiles','molecule_chembl_id','standard_value']"
      ]
    },
    {
      "cell_type": "code",
      "execution_count": 9,
      "metadata": {
        "id": "PFeqBDQ1quLX"
      },
      "outputs": [],
      "source": [
        "df1_selected = df1[columns]"
      ]
    },
    {
      "cell_type": "code",
      "execution_count": 10,
      "metadata": {
        "colab": {
          "base_uri": "https://localhost:8080/"
        },
        "id": "80rkMAU2qzm_",
        "outputId": "ee30b00b-39fe-486e-d34a-3f47cde3e067"
      },
      "outputs": [
        {
          "output_type": "execute_result",
          "data": {
            "text/plain": [
              "254"
            ]
          },
          "metadata": {},
          "execution_count": 10
        }
      ],
      "source": [
        "len(df1_selected)"
      ]
    },
    {
      "cell_type": "markdown",
      "metadata": {
        "id": "dgnR3oetCpsd"
      },
      "source": [
        "### Fixing Missing Values\n",
        "* For that I am using mean() of the column `standard_value`\n",
        "* For values greater than `100000000` I am going to limit it to `100000000` so after converting to log value it will not show any negative value\n",
        "* Then we will finally apply to convert all `standard_value` to log of `standard_value` so it will fix high deviation and outliers(most of them atleast)"
      ]
    },
    {
      "cell_type": "code",
      "execution_count": 11,
      "metadata": {
        "colab": {
          "base_uri": "https://localhost:8080/"
        },
        "id": "9o9FsQYn_KXS",
        "outputId": "8df57a03-1784-4d82-dd01-d01bd7b0f0af"
      },
      "outputs": [
        {
          "output_type": "execute_result",
          "data": {
            "text/plain": [
              "canonical_smiles       0\n",
              "molecule_chembl_id     0\n",
              "standard_value        14\n",
              "dtype: int64"
            ]
          },
          "metadata": {},
          "execution_count": 11
        }
      ],
      "source": [
        "df1_selected.isnull().sum()"
      ]
    },
    {
      "cell_type": "code",
      "execution_count": 12,
      "metadata": {
        "colab": {
          "base_uri": "https://localhost:8080/"
        },
        "id": "FGo6k6tUFHBl",
        "outputId": "0cd14a73-0ae4-43b3-cba8-d20d0ace1f2d"
      },
      "outputs": [
        {
          "output_type": "execute_result",
          "data": {
            "text/plain": [
              "dtype('O')"
            ]
          },
          "metadata": {},
          "execution_count": 12
        }
      ],
      "source": [
        "df1_selected['standard_value'].dtype"
      ]
    },
    {
      "cell_type": "code",
      "execution_count": 13,
      "metadata": {
        "colab": {
          "base_uri": "https://localhost:8080/"
        },
        "id": "WqXY73DcFNnG",
        "outputId": "c344f8ea-abc6-40d9-cf8d-92444e37acf1"
      },
      "outputs": [
        {
          "output_type": "stream",
          "name": "stderr",
          "text": [
            "<ipython-input-13-3a9a20ee965c>:1: SettingWithCopyWarning: \n",
            "A value is trying to be set on a copy of a slice from a DataFrame.\n",
            "Try using .loc[row_indexer,col_indexer] = value instead\n",
            "\n",
            "See the caveats in the documentation: https://pandas.pydata.org/pandas-docs/stable/user_guide/indexing.html#returning-a-view-versus-a-copy\n",
            "  df1_selected['standard_value'] = df1_selected['standard_value'].astype(float)\n"
          ]
        }
      ],
      "source": [
        "df1_selected['standard_value'] = df1_selected['standard_value'].astype(float)"
      ]
    },
    {
      "cell_type": "code",
      "execution_count": 14,
      "metadata": {
        "colab": {
          "base_uri": "https://localhost:8080/"
        },
        "id": "Cz3skoIsGwnx",
        "outputId": "0dda20f5-dc28-483f-eddc-c2be2153ca5e"
      },
      "outputs": [
        {
          "output_type": "execute_result",
          "data": {
            "text/plain": [
              "dtype('float64')"
            ]
          },
          "metadata": {},
          "execution_count": 14
        }
      ],
      "source": [
        "df1_selected['standard_value'].dtype"
      ]
    },
    {
      "cell_type": "code",
      "execution_count": 15,
      "metadata": {
        "colab": {
          "base_uri": "https://localhost:8080/"
        },
        "id": "6KWIIbNHGyUY",
        "outputId": "ebffa2d3-f087-45d0-bef5-bf8a1479a1be"
      },
      "outputs": [
        {
          "output_type": "execute_result",
          "data": {
            "text/plain": [
              "0     3000000.0\n",
              "1    10000000.0\n",
              "2      750000.0\n",
              "Name: standard_value, dtype: float64"
            ]
          },
          "metadata": {},
          "execution_count": 15
        }
      ],
      "source": [
        "df1_selected['standard_value'].head(3)"
      ]
    },
    {
      "cell_type": "code",
      "execution_count": 16,
      "metadata": {
        "colab": {
          "base_uri": "https://localhost:8080/"
        },
        "id": "ikp-6_CYD__h",
        "outputId": "ad292706-30ce-468a-a135-f3467f2a42a1"
      },
      "outputs": [
        {
          "output_type": "stream",
          "name": "stderr",
          "text": [
            "/usr/local/lib/python3.9/dist-packages/pandas/core/generic.py:6392: SettingWithCopyWarning: \n",
            "A value is trying to be set on a copy of a slice from a DataFrame\n",
            "\n",
            "See the caveats in the documentation: https://pandas.pydata.org/pandas-docs/stable/user_guide/indexing.html#returning-a-view-versus-a-copy\n",
            "  return self._update_inplace(result)\n"
          ]
        }
      ],
      "source": [
        "try:\n",
        "  df1_selected['standard_value'].fillna(df1_selected['standard_value'].mean(),inplace=True)\n",
        "except:\n",
        "  pass"
      ]
    },
    {
      "cell_type": "code",
      "execution_count": 17,
      "metadata": {
        "colab": {
          "base_uri": "https://localhost:8080/"
        },
        "id": "eNLa9BMlG7m-",
        "outputId": "faf343f0-0168-4f09-b136-7b4d4078f246"
      },
      "outputs": [
        {
          "output_type": "execute_result",
          "data": {
            "text/plain": [
              "canonical_smiles      0\n",
              "molecule_chembl_id    0\n",
              "standard_value        0\n",
              "dtype: int64"
            ]
          },
          "metadata": {},
          "execution_count": 17
        }
      ],
      "source": [
        "df1_selected.isnull().sum()"
      ]
    },
    {
      "cell_type": "code",
      "execution_count": 18,
      "metadata": {
        "colab": {
          "base_uri": "https://localhost:8080/"
        },
        "id": "rmqo_ox6kNMl",
        "outputId": "c58d3600-b4db-4ad7-9689-b4d6c7292f9f"
      },
      "outputs": [
        {
          "output_type": "execute_result",
          "data": {
            "text/plain": [
              "254"
            ]
          },
          "metadata": {},
          "execution_count": 18
        }
      ],
      "source": [
        "len(df1_selected)"
      ]
    },
    {
      "cell_type": "code",
      "execution_count": 19,
      "metadata": {
        "id": "oNCK36zHHHTl"
      },
      "outputs": [],
      "source": [
        "def norm_val(data):\n",
        "  for i in data['standard_value']:\n",
        "    if i > 100000000:\n",
        "      data['standard_value'] = data['standard_value'].replace(i,100000000)\n",
        "  return data['standard_value']"
      ]
    },
    {
      "cell_type": "code",
      "execution_count": 20,
      "metadata": {
        "id": "6lH8Rv9cHHQv"
      },
      "outputs": [],
      "source": [
        "def convert_log(data):\n",
        "  pIC50 = []\n",
        "  for i in data['standard_value']:\n",
        "    data['standard_value'] = data['standard_value'].replace(i,-np.log10(i*(10**-9)))\n",
        "  return data['standard_value']"
      ]
    },
    {
      "cell_type": "code",
      "execution_count": 21,
      "metadata": {
        "colab": {
          "base_uri": "https://localhost:8080/",
          "height": 300
        },
        "id": "jsxKZUxyRW3A",
        "outputId": "ff8b36d2-3d31-438a-b377-6bf1461f802d"
      },
      "outputs": [
        {
          "output_type": "execute_result",
          "data": {
            "text/plain": [
              "       standard_value\n",
              "count    2.540000e+02\n",
              "mean     8.541345e+05\n",
              "std      2.613145e+06\n",
              "min      2.000000e-03\n",
              "25%      1.852000e+01\n",
              "50%      1.815000e+04\n",
              "75%      1.103750e+05\n",
              "max      2.000000e+07"
            ],
            "text/html": [
              "\n",
              "  <div id=\"df-aca66cd7-1e7b-4ade-b6ac-c874df5756bd\">\n",
              "    <div class=\"colab-df-container\">\n",
              "      <div>\n",
              "<style scoped>\n",
              "    .dataframe tbody tr th:only-of-type {\n",
              "        vertical-align: middle;\n",
              "    }\n",
              "\n",
              "    .dataframe tbody tr th {\n",
              "        vertical-align: top;\n",
              "    }\n",
              "\n",
              "    .dataframe thead th {\n",
              "        text-align: right;\n",
              "    }\n",
              "</style>\n",
              "<table border=\"1\" class=\"dataframe\">\n",
              "  <thead>\n",
              "    <tr style=\"text-align: right;\">\n",
              "      <th></th>\n",
              "      <th>standard_value</th>\n",
              "    </tr>\n",
              "  </thead>\n",
              "  <tbody>\n",
              "    <tr>\n",
              "      <th>count</th>\n",
              "      <td>2.540000e+02</td>\n",
              "    </tr>\n",
              "    <tr>\n",
              "      <th>mean</th>\n",
              "      <td>8.541345e+05</td>\n",
              "    </tr>\n",
              "    <tr>\n",
              "      <th>std</th>\n",
              "      <td>2.613145e+06</td>\n",
              "    </tr>\n",
              "    <tr>\n",
              "      <th>min</th>\n",
              "      <td>2.000000e-03</td>\n",
              "    </tr>\n",
              "    <tr>\n",
              "      <th>25%</th>\n",
              "      <td>1.852000e+01</td>\n",
              "    </tr>\n",
              "    <tr>\n",
              "      <th>50%</th>\n",
              "      <td>1.815000e+04</td>\n",
              "    </tr>\n",
              "    <tr>\n",
              "      <th>75%</th>\n",
              "      <td>1.103750e+05</td>\n",
              "    </tr>\n",
              "    <tr>\n",
              "      <th>max</th>\n",
              "      <td>2.000000e+07</td>\n",
              "    </tr>\n",
              "  </tbody>\n",
              "</table>\n",
              "</div>\n",
              "      <button class=\"colab-df-convert\" onclick=\"convertToInteractive('df-aca66cd7-1e7b-4ade-b6ac-c874df5756bd')\"\n",
              "              title=\"Convert this dataframe to an interactive table.\"\n",
              "              style=\"display:none;\">\n",
              "        \n",
              "  <svg xmlns=\"http://www.w3.org/2000/svg\" height=\"24px\"viewBox=\"0 0 24 24\"\n",
              "       width=\"24px\">\n",
              "    <path d=\"M0 0h24v24H0V0z\" fill=\"none\"/>\n",
              "    <path d=\"M18.56 5.44l.94 2.06.94-2.06 2.06-.94-2.06-.94-.94-2.06-.94 2.06-2.06.94zm-11 1L8.5 8.5l.94-2.06 2.06-.94-2.06-.94L8.5 2.5l-.94 2.06-2.06.94zm10 10l.94 2.06.94-2.06 2.06-.94-2.06-.94-.94-2.06-.94 2.06-2.06.94z\"/><path d=\"M17.41 7.96l-1.37-1.37c-.4-.4-.92-.59-1.43-.59-.52 0-1.04.2-1.43.59L10.3 9.45l-7.72 7.72c-.78.78-.78 2.05 0 2.83L4 21.41c.39.39.9.59 1.41.59.51 0 1.02-.2 1.41-.59l7.78-7.78 2.81-2.81c.8-.78.8-2.07 0-2.86zM5.41 20L4 18.59l7.72-7.72 1.47 1.35L5.41 20z\"/>\n",
              "  </svg>\n",
              "      </button>\n",
              "      \n",
              "  <style>\n",
              "    .colab-df-container {\n",
              "      display:flex;\n",
              "      flex-wrap:wrap;\n",
              "      gap: 12px;\n",
              "    }\n",
              "\n",
              "    .colab-df-convert {\n",
              "      background-color: #E8F0FE;\n",
              "      border: none;\n",
              "      border-radius: 50%;\n",
              "      cursor: pointer;\n",
              "      display: none;\n",
              "      fill: #1967D2;\n",
              "      height: 32px;\n",
              "      padding: 0 0 0 0;\n",
              "      width: 32px;\n",
              "    }\n",
              "\n",
              "    .colab-df-convert:hover {\n",
              "      background-color: #E2EBFA;\n",
              "      box-shadow: 0px 1px 2px rgba(60, 64, 67, 0.3), 0px 1px 3px 1px rgba(60, 64, 67, 0.15);\n",
              "      fill: #174EA6;\n",
              "    }\n",
              "\n",
              "    [theme=dark] .colab-df-convert {\n",
              "      background-color: #3B4455;\n",
              "      fill: #D2E3FC;\n",
              "    }\n",
              "\n",
              "    [theme=dark] .colab-df-convert:hover {\n",
              "      background-color: #434B5C;\n",
              "      box-shadow: 0px 1px 3px 1px rgba(0, 0, 0, 0.15);\n",
              "      filter: drop-shadow(0px 1px 2px rgba(0, 0, 0, 0.3));\n",
              "      fill: #FFFFFF;\n",
              "    }\n",
              "  </style>\n",
              "\n",
              "      <script>\n",
              "        const buttonEl =\n",
              "          document.querySelector('#df-aca66cd7-1e7b-4ade-b6ac-c874df5756bd button.colab-df-convert');\n",
              "        buttonEl.style.display =\n",
              "          google.colab.kernel.accessAllowed ? 'block' : 'none';\n",
              "\n",
              "        async function convertToInteractive(key) {\n",
              "          const element = document.querySelector('#df-aca66cd7-1e7b-4ade-b6ac-c874df5756bd');\n",
              "          const dataTable =\n",
              "            await google.colab.kernel.invokeFunction('convertToInteractive',\n",
              "                                                     [key], {});\n",
              "          if (!dataTable) return;\n",
              "\n",
              "          const docLinkHtml = 'Like what you see? Visit the ' +\n",
              "            '<a target=\"_blank\" href=https://colab.research.google.com/notebooks/data_table.ipynb>data table notebook</a>'\n",
              "            + ' to learn more about interactive tables.';\n",
              "          element.innerHTML = '';\n",
              "          dataTable['output_type'] = 'display_data';\n",
              "          await google.colab.output.renderOutput(dataTable, element);\n",
              "          const docLink = document.createElement('div');\n",
              "          docLink.innerHTML = docLinkHtml;\n",
              "          element.appendChild(docLink);\n",
              "        }\n",
              "      </script>\n",
              "    </div>\n",
              "  </div>\n",
              "  "
            ]
          },
          "metadata": {},
          "execution_count": 21
        }
      ],
      "source": [
        "df1_selected.describe()"
      ]
    },
    {
      "cell_type": "code",
      "execution_count": 22,
      "metadata": {
        "id": "LHWkqZ7xRXgV",
        "colab": {
          "base_uri": "https://localhost:8080/"
        },
        "outputId": "b58eb911-7b21-49f0-8118-741697447812"
      },
      "outputs": [
        {
          "output_type": "stream",
          "name": "stderr",
          "text": [
            "<ipython-input-22-1651fe78b754>:1: SettingWithCopyWarning: \n",
            "A value is trying to be set on a copy of a slice from a DataFrame.\n",
            "Try using .loc[row_indexer,col_indexer] = value instead\n",
            "\n",
            "See the caveats in the documentation: https://pandas.pydata.org/pandas-docs/stable/user_guide/indexing.html#returning-a-view-versus-a-copy\n",
            "  df1_selected['standard_value'] = norm_val(df1_selected)\n"
          ]
        }
      ],
      "source": [
        "df1_selected['standard_value'] = norm_val(df1_selected)"
      ]
    },
    {
      "cell_type": "code",
      "execution_count": 23,
      "metadata": {
        "id": "0l4eQ2d0RW5r",
        "colab": {
          "base_uri": "https://localhost:8080/"
        },
        "outputId": "3b08fca2-60a4-478e-bd4b-3dec8b2eebca"
      },
      "outputs": [
        {
          "output_type": "stream",
          "name": "stderr",
          "text": [
            "<ipython-input-20-31a96a23224e>:4: SettingWithCopyWarning: \n",
            "A value is trying to be set on a copy of a slice from a DataFrame.\n",
            "Try using .loc[row_indexer,col_indexer] = value instead\n",
            "\n",
            "See the caveats in the documentation: https://pandas.pydata.org/pandas-docs/stable/user_guide/indexing.html#returning-a-view-versus-a-copy\n",
            "  data['standard_value'] = data['standard_value'].replace(i,-np.log10(i*(10**-9)))\n",
            "<ipython-input-23-dc51576c3f0d>:1: SettingWithCopyWarning: \n",
            "A value is trying to be set on a copy of a slice from a DataFrame.\n",
            "Try using .loc[row_indexer,col_indexer] = value instead\n",
            "\n",
            "See the caveats in the documentation: https://pandas.pydata.org/pandas-docs/stable/user_guide/indexing.html#returning-a-view-versus-a-copy\n",
            "  df1_selected['standard_value'] = convert_log(df1_selected)\n"
          ]
        }
      ],
      "source": [
        "df1_selected['standard_value'] = convert_log(df1_selected)"
      ]
    },
    {
      "cell_type": "code",
      "execution_count": 24,
      "metadata": {
        "colab": {
          "base_uri": "https://localhost:8080/"
        },
        "id": "PhE3hhyaSWtK",
        "outputId": "e0092691-2d97-4c94-e647-00f38131db88"
      },
      "outputs": [
        {
          "output_type": "execute_result",
          "data": {
            "text/plain": [
              "0    2.522879\n",
              "1    8.091947\n",
              "2    3.124939\n",
              "3    8.093158\n",
              "4    2.698970\n",
              "Name: standard_value, dtype: float64"
            ]
          },
          "metadata": {},
          "execution_count": 24
        }
      ],
      "source": [
        "df1_selected['standard_value'].head()"
      ]
    },
    {
      "cell_type": "code",
      "execution_count": 25,
      "metadata": {
        "colab": {
          "base_uri": "https://localhost:8080/"
        },
        "id": "kiJ3cXvQTPeO",
        "outputId": "78dae9a2-c450-4ad2-9be1-e5740d338a9b"
      },
      "outputs": [
        {
          "output_type": "execute_result",
          "data": {
            "text/plain": [
              "canonical_smiles      0\n",
              "molecule_chembl_id    0\n",
              "standard_value        0\n",
              "dtype: int64"
            ]
          },
          "metadata": {},
          "execution_count": 25
        }
      ],
      "source": [
        "df1_selected.isnull().sum()"
      ]
    },
    {
      "cell_type": "code",
      "execution_count": 26,
      "metadata": {
        "id": "HEca_Uxkkg5M",
        "colab": {
          "base_uri": "https://localhost:8080/"
        },
        "outputId": "7a08297f-04d2-4eb4-a282-fa17b5bf6c75"
      },
      "outputs": [
        {
          "output_type": "stream",
          "name": "stderr",
          "text": [
            "/usr/local/lib/python3.9/dist-packages/pandas/core/frame.py:5238: SettingWithCopyWarning: \n",
            "A value is trying to be set on a copy of a slice from a DataFrame\n",
            "\n",
            "See the caveats in the documentation: https://pandas.pydata.org/pandas-docs/stable/user_guide/indexing.html#returning-a-view-versus-a-copy\n",
            "  return super().replace(\n",
            "/usr/local/lib/python3.9/dist-packages/pandas/core/generic.py:6392: SettingWithCopyWarning: \n",
            "A value is trying to be set on a copy of a slice from a DataFrame\n",
            "\n",
            "See the caveats in the documentation: https://pandas.pydata.org/pandas-docs/stable/user_guide/indexing.html#returning-a-view-versus-a-copy\n",
            "  return self._update_inplace(result)\n"
          ]
        }
      ],
      "source": [
        "try:\n",
        "  df1_selected.replace([np.inf, -np.inf], np.nan, inplace=True)\n",
        "  df1_selected['standard_value'].fillna(df1_selected['standard_value'].mean(),inplace=True)\n",
        "except:\n",
        "  pass"
      ]
    },
    {
      "cell_type": "markdown",
      "metadata": {
        "id": "YNL0IyQJTh95"
      },
      "source": [
        "### Creating labels and features"
      ]
    },
    {
      "cell_type": "code",
      "execution_count": 27,
      "metadata": {
        "id": "j_oJwzK5q-zR"
      },
      "outputs": [],
      "source": [
        "df1_x = df1_selected.drop(columns=['standard_value'],axis=1)\n",
        "df1_y = df1_selected['standard_value']"
      ]
    },
    {
      "cell_type": "code",
      "execution_count": 28,
      "metadata": {
        "colab": {
          "base_uri": "https://localhost:8080/"
        },
        "id": "Y0Ppqidir2Ep",
        "outputId": "c29ada27-14ee-430b-cab6-cc70ffce7760"
      },
      "outputs": [
        {
          "output_type": "execute_result",
          "data": {
            "text/plain": [
              "(254, 254)"
            ]
          },
          "metadata": {},
          "execution_count": 28
        }
      ],
      "source": [
        "len(df1_x),len(df1_y)"
      ]
    },
    {
      "cell_type": "code",
      "execution_count": 29,
      "metadata": {
        "id": "kEWmxdkLr5Eq"
      },
      "outputs": [],
      "source": [
        "df1_x.to_csv('molecule.smi', sep='\\t', index=False, header=False)\n",
        "df1_y.to_csv('influenzaB_labels.csv',index=False)"
      ]
    },
    {
      "cell_type": "markdown",
      "metadata": {
        "id": "rgzVpVFwUBOc"
      },
      "source": [
        "### A quick look at files"
      ]
    },
    {
      "cell_type": "code",
      "execution_count": 30,
      "metadata": {
        "colab": {
          "base_uri": "https://localhost:8080/"
        },
        "id": "lI8wYt4tTzGo",
        "outputId": "876787b4-e9a4-491c-b98e-f136e2dde81e"
      },
      "outputs": [
        {
          "output_type": "stream",
          "name": "stdout",
          "text": [
            "influenzaB_labels.csv  molecule.smi  sample_data\n"
          ]
        }
      ],
      "source": [
        "! ls"
      ]
    },
    {
      "cell_type": "code",
      "execution_count": 31,
      "metadata": {
        "colab": {
          "base_uri": "https://localhost:8080/"
        },
        "id": "8KoTNDIYT2hq",
        "outputId": "e0142456-50e1-4b9b-d75d-5ec58c8fd2b0"
      },
      "outputs": [
        {
          "output_type": "stream",
          "name": "stdout",
          "text": [
            "CC(=O)Nc1ccc(C(=O)O)cc1NC(=O)CO\tCHEMBL327097\n",
            "CC(=O)Nc1ccc(C(=O)O)cc1NC(=O)CO\tCHEMBL327097\n",
            "CC(=O)Nc1c(O)cc(C(=O)O)cc1[N+](=O)[O-]\tCHEMBL324455\n",
            "CC(=O)Nc1c(O)cc(C(=O)O)cc1[N+](=O)[O-]\tCHEMBL324455\n",
            "CC(=O)Nc1c(OC(C)=O)cc(C(=O)O)cc1[N+](=O)[O-]\tCHEMBL321393\n"
          ]
        }
      ],
      "source": [
        "! cat molecule.smi | head -5"
      ]
    },
    {
      "cell_type": "markdown",
      "metadata": {
        "id": "YX13O8GaUFvl"
      },
      "source": [
        "### Using padel Descriptor to break it into dataset form"
      ]
    },
    {
      "cell_type": "code",
      "execution_count": 32,
      "metadata": {
        "colab": {
          "base_uri": "https://localhost:8080/"
        },
        "id": "imDEI2vhUgGt",
        "outputId": "31dfe75b-f8bb-43d9-8360-1f57d66fd6a0"
      },
      "outputs": [
        {
          "output_type": "stream",
          "name": "stdout",
          "text": [
            "--2023-03-10 13:39:16--  https://github.com/dataprofessor/bioinformatics/raw/master/padel.zip\n",
            "Resolving github.com (github.com)... 140.82.112.3\n",
            "Connecting to github.com (github.com)|140.82.112.3|:443... connected.\n",
            "HTTP request sent, awaiting response... 302 Found\n",
            "Location: https://raw.githubusercontent.com/dataprofessor/bioinformatics/master/padel.zip [following]\n",
            "--2023-03-10 13:39:17--  https://raw.githubusercontent.com/dataprofessor/bioinformatics/master/padel.zip\n",
            "Resolving raw.githubusercontent.com (raw.githubusercontent.com)... 185.199.108.133, 185.199.109.133, 185.199.111.133, ...\n",
            "Connecting to raw.githubusercontent.com (raw.githubusercontent.com)|185.199.108.133|:443... connected.\n",
            "HTTP request sent, awaiting response... 200 OK\n",
            "Length: 25768637 (25M) [application/zip]\n",
            "Saving to: ‘padel.zip’\n",
            "\n",
            "padel.zip           100%[===================>]  24.57M   119MB/s    in 0.2s    \n",
            "\n",
            "2023-03-10 13:39:17 (119 MB/s) - ‘padel.zip’ saved [25768637/25768637]\n",
            "\n",
            "--2023-03-10 13:39:17--  https://github.com/dataprofessor/bioinformatics/raw/master/padel.sh\n",
            "Resolving github.com (github.com)... 140.82.113.3\n",
            "Connecting to github.com (github.com)|140.82.113.3|:443... connected.\n",
            "HTTP request sent, awaiting response... 302 Found\n",
            "Location: https://raw.githubusercontent.com/dataprofessor/bioinformatics/master/padel.sh [following]\n",
            "--2023-03-10 13:39:17--  https://raw.githubusercontent.com/dataprofessor/bioinformatics/master/padel.sh\n",
            "Resolving raw.githubusercontent.com (raw.githubusercontent.com)... 185.199.108.133, 185.199.109.133, 185.199.110.133, ...\n",
            "Connecting to raw.githubusercontent.com (raw.githubusercontent.com)|185.199.108.133|:443... connected.\n",
            "HTTP request sent, awaiting response... 200 OK\n",
            "Length: 231 [text/plain]\n",
            "Saving to: ‘padel.sh’\n",
            "\n",
            "padel.sh            100%[===================>]     231  --.-KB/s    in 0s      \n",
            "\n",
            "2023-03-10 13:39:18 (8.11 MB/s) - ‘padel.sh’ saved [231/231]\n",
            "\n"
          ]
        }
      ],
      "source": [
        "\n",
        "! wget https://github.com/dataprofessor/bioinformatics/raw/master/padel.zip\n",
        "! wget https://github.com/dataprofessor/bioinformatics/raw/master/padel.sh"
      ]
    },
    {
      "cell_type": "code",
      "execution_count": 33,
      "metadata": {
        "colab": {
          "base_uri": "https://localhost:8080/"
        },
        "id": "ZXCzERzIUhQ_",
        "outputId": "60013efc-3d40-4941-8451-89c4f22f2bd6"
      },
      "outputs": [
        {
          "output_type": "stream",
          "name": "stdout",
          "text": [
            "Archive:  padel.zip\n",
            "   creating: PaDEL-Descriptor/\n",
            "  inflating: __MACOSX/._PaDEL-Descriptor  \n",
            "  inflating: PaDEL-Descriptor/MACCSFingerprinter.xml  \n",
            "  inflating: __MACOSX/PaDEL-Descriptor/._MACCSFingerprinter.xml  \n",
            "  inflating: PaDEL-Descriptor/AtomPairs2DFingerprinter.xml  \n",
            "  inflating: __MACOSX/PaDEL-Descriptor/._AtomPairs2DFingerprinter.xml  \n",
            "  inflating: PaDEL-Descriptor/EStateFingerprinter.xml  \n",
            "  inflating: __MACOSX/PaDEL-Descriptor/._EStateFingerprinter.xml  \n",
            "  inflating: PaDEL-Descriptor/Fingerprinter.xml  \n",
            "  inflating: __MACOSX/PaDEL-Descriptor/._Fingerprinter.xml  \n",
            "  inflating: PaDEL-Descriptor/.DS_Store  \n",
            "  inflating: __MACOSX/PaDEL-Descriptor/._.DS_Store  \n",
            "   creating: PaDEL-Descriptor/license/\n",
            "  inflating: __MACOSX/PaDEL-Descriptor/._license  \n",
            "  inflating: PaDEL-Descriptor/KlekotaRothFingerprintCount.xml  \n",
            "  inflating: __MACOSX/PaDEL-Descriptor/._KlekotaRothFingerprintCount.xml  \n",
            "  inflating: PaDEL-Descriptor/config  \n",
            "  inflating: __MACOSX/PaDEL-Descriptor/._config  \n",
            "  inflating: PaDEL-Descriptor/PubchemFingerprinter.xml  \n",
            "  inflating: __MACOSX/PaDEL-Descriptor/._PubchemFingerprinter.xml  \n",
            "  inflating: PaDEL-Descriptor/ExtendedFingerprinter.xml  \n",
            "  inflating: __MACOSX/PaDEL-Descriptor/._ExtendedFingerprinter.xml  \n",
            "  inflating: PaDEL-Descriptor/KlekotaRothFingerprinter.xml  \n",
            "  inflating: __MACOSX/PaDEL-Descriptor/._KlekotaRothFingerprinter.xml  \n",
            "  inflating: PaDEL-Descriptor/GraphOnlyFingerprinter.xml  \n",
            "  inflating: __MACOSX/PaDEL-Descriptor/._GraphOnlyFingerprinter.xml  \n",
            "  inflating: PaDEL-Descriptor/SubstructureFingerprinter.xml  \n",
            "  inflating: __MACOSX/PaDEL-Descriptor/._SubstructureFingerprinter.xml  \n",
            "  inflating: PaDEL-Descriptor/Descriptors.xls  \n",
            "  inflating: __MACOSX/PaDEL-Descriptor/._Descriptors.xls  \n",
            "   creating: PaDEL-Descriptor/lib/\n",
            "  inflating: __MACOSX/PaDEL-Descriptor/._lib  \n",
            "  inflating: PaDEL-Descriptor/PaDEL-Descriptor.jar  \n",
            "  inflating: __MACOSX/PaDEL-Descriptor/._PaDEL-Descriptor.jar  \n",
            "  inflating: PaDEL-Descriptor/SubstructureFingerprintCount.xml  \n",
            "  inflating: __MACOSX/PaDEL-Descriptor/._SubstructureFingerprintCount.xml  \n",
            "  inflating: PaDEL-Descriptor/AtomPairs2DFingerprintCount.xml  \n",
            "  inflating: __MACOSX/PaDEL-Descriptor/._AtomPairs2DFingerprintCount.xml  \n",
            "  inflating: PaDEL-Descriptor/descriptors.xml  \n",
            "  inflating: __MACOSX/PaDEL-Descriptor/._descriptors.xml  \n",
            "  inflating: PaDEL-Descriptor/license/lgpl-2.1.txt  \n",
            "  inflating: __MACOSX/PaDEL-Descriptor/license/._lgpl-2.1.txt  \n",
            "  inflating: PaDEL-Descriptor/license/LICENSE.txt  \n",
            "  inflating: __MACOSX/PaDEL-Descriptor/license/._LICENSE.txt  \n",
            "  inflating: PaDEL-Descriptor/license/README - CDK  \n",
            "  inflating: __MACOSX/PaDEL-Descriptor/license/._README - CDK  \n",
            "  inflating: PaDEL-Descriptor/license/lgpl.license  \n",
            "  inflating: __MACOSX/PaDEL-Descriptor/license/._lgpl.license  \n",
            "  inflating: PaDEL-Descriptor/lib/ambit2-core-2.4.7-SNAPSHOT(3).jar  \n",
            "  inflating: __MACOSX/PaDEL-Descriptor/lib/._ambit2-core-2.4.7-SNAPSHOT(3).jar  \n",
            "  inflating: PaDEL-Descriptor/lib/libPaDEL-Jobs(6).jar  \n",
            "  inflating: __MACOSX/PaDEL-Descriptor/lib/._libPaDEL-Jobs(6).jar  \n",
            "  inflating: PaDEL-Descriptor/lib/libPaDEL.jar  \n",
            "  inflating: __MACOSX/PaDEL-Descriptor/lib/._libPaDEL.jar  \n",
            "  inflating: PaDEL-Descriptor/lib/jgrapht-0.6.0(4).jar  \n",
            "  inflating: __MACOSX/PaDEL-Descriptor/lib/._jgrapht-0.6.0(4).jar  \n",
            "  inflating: PaDEL-Descriptor/lib/commons-cli-1.2(2).jar  \n",
            "  inflating: __MACOSX/PaDEL-Descriptor/lib/._commons-cli-1.2(2).jar  \n",
            "  inflating: PaDEL-Descriptor/lib/xom-1.1(1).jar  \n",
            "  inflating: __MACOSX/PaDEL-Descriptor/lib/._xom-1.1(1).jar  \n",
            "  inflating: PaDEL-Descriptor/lib/swing-worker-1.1.jar  \n",
            "  inflating: __MACOSX/PaDEL-Descriptor/lib/._swing-worker-1.1.jar  \n",
            "  inflating: PaDEL-Descriptor/lib/commons-cli-1.2(3).jar  \n",
            "  inflating: __MACOSX/PaDEL-Descriptor/lib/._commons-cli-1.2(3).jar  \n",
            "  inflating: PaDEL-Descriptor/lib/jgrapht-0.6.0(5).jar  \n",
            "  inflating: __MACOSX/PaDEL-Descriptor/lib/._jgrapht-0.6.0(5).jar  \n",
            "  inflating: PaDEL-Descriptor/lib/jama(1).jar  \n",
            "  inflating: __MACOSX/PaDEL-Descriptor/lib/._jama(1).jar  \n",
            "  inflating: PaDEL-Descriptor/lib/appframework-1.0.3.jar  \n",
            "  inflating: __MACOSX/PaDEL-Descriptor/lib/._appframework-1.0.3.jar  \n",
            "  inflating: PaDEL-Descriptor/lib/libPaDEL-Jobs(7).jar  \n",
            "  inflating: __MACOSX/PaDEL-Descriptor/lib/._libPaDEL-Jobs(7).jar  \n",
            "  inflating: PaDEL-Descriptor/lib/vecmath1.2-1.14.jar  \n",
            "  inflating: __MACOSX/PaDEL-Descriptor/lib/._vecmath1.2-1.14.jar  \n",
            "  inflating: PaDEL-Descriptor/lib/ambit2-smarts-2.4.7-SNAPSHOT(6).jar  \n",
            "  inflating: __MACOSX/PaDEL-Descriptor/lib/._ambit2-smarts-2.4.7-SNAPSHOT(6).jar  \n",
            "  inflating: PaDEL-Descriptor/lib/ambit2-core-2.4.7-SNAPSHOT(2).jar  \n",
            "  inflating: __MACOSX/PaDEL-Descriptor/lib/._ambit2-core-2.4.7-SNAPSHOT(2).jar  \n",
            "  inflating: PaDEL-Descriptor/lib/jama(6).jar  \n",
            "  inflating: __MACOSX/PaDEL-Descriptor/lib/._jama(6).jar  \n",
            "  inflating: PaDEL-Descriptor/lib/jgrapht-0.6.0(2).jar  \n",
            "  inflating: __MACOSX/PaDEL-Descriptor/lib/._jgrapht-0.6.0(2).jar  \n",
            "  inflating: PaDEL-Descriptor/lib/libPaDEL-Descriptor(3).jar  \n",
            "  inflating: __MACOSX/PaDEL-Descriptor/lib/._libPaDEL-Descriptor(3).jar  \n",
            "  inflating: PaDEL-Descriptor/lib/commons-cli-1.2(4).jar  \n",
            "  inflating: __MACOSX/PaDEL-Descriptor/lib/._commons-cli-1.2(4).jar  \n",
            "  inflating: PaDEL-Descriptor/lib/ambit2-base-2.4.7-SNAPSHOT.jar  \n",
            "  inflating: __MACOSX/PaDEL-Descriptor/lib/._ambit2-base-2.4.7-SNAPSHOT.jar  \n",
            "  inflating: PaDEL-Descriptor/lib/ambit2-smarts-2.4.7-SNAPSHOT(1).jar  \n",
            "  inflating: __MACOSX/PaDEL-Descriptor/lib/._ambit2-smarts-2.4.7-SNAPSHOT(1).jar  \n",
            "  inflating: PaDEL-Descriptor/lib/commons-cli-1.2.jar  \n",
            "  inflating: __MACOSX/PaDEL-Descriptor/lib/._commons-cli-1.2.jar  \n",
            "  inflating: PaDEL-Descriptor/lib/commons-cli-1.2(8).jar  \n",
            "  inflating: __MACOSX/PaDEL-Descriptor/lib/._commons-cli-1.2(8).jar  \n",
            "  inflating: PaDEL-Descriptor/lib/jgrapht-0.6.0.jar  \n",
            "  inflating: __MACOSX/PaDEL-Descriptor/lib/._jgrapht-0.6.0.jar  \n",
            "  inflating: PaDEL-Descriptor/lib/libPaDEL-Jobs(1).jar  \n",
            "  inflating: __MACOSX/PaDEL-Descriptor/lib/._libPaDEL-Jobs(1).jar  \n",
            "  inflating: PaDEL-Descriptor/lib/libPaDEL-Jobs.jar  \n",
            "  inflating: __MACOSX/PaDEL-Descriptor/lib/._libPaDEL-Jobs.jar  \n",
            "  inflating: PaDEL-Descriptor/lib/ambit2-core-2.4.7-SNAPSHOT(4).jar  \n",
            "  inflating: __MACOSX/PaDEL-Descriptor/lib/._ambit2-core-2.4.7-SNAPSHOT(4).jar  \n",
            "  inflating: PaDEL-Descriptor/lib/xom-1.1.jar  \n",
            "  inflating: __MACOSX/PaDEL-Descriptor/lib/._xom-1.1.jar  \n",
            "  inflating: PaDEL-Descriptor/lib/commons-cli-1.2(5).jar  \n",
            "  inflating: __MACOSX/PaDEL-Descriptor/lib/._commons-cli-1.2(5).jar  \n",
            "  inflating: PaDEL-Descriptor/lib/libPaDEL-Descriptor(2).jar  \n",
            "  inflating: __MACOSX/PaDEL-Descriptor/lib/._libPaDEL-Descriptor(2).jar  \n",
            "  inflating: PaDEL-Descriptor/lib/jgrapht-0.6.0(3).jar  \n",
            "  inflating: __MACOSX/PaDEL-Descriptor/lib/._jgrapht-0.6.0(3).jar  \n",
            "  inflating: PaDEL-Descriptor/lib/jama(7).jar  \n",
            "  inflating: __MACOSX/PaDEL-Descriptor/lib/._jama(7).jar  \n",
            "  inflating: PaDEL-Descriptor/lib/ambit2-core-2.4.7-SNAPSHOT.jar  \n",
            "  inflating: __MACOSX/PaDEL-Descriptor/lib/._ambit2-core-2.4.7-SNAPSHOT.jar  \n",
            "  inflating: PaDEL-Descriptor/lib/commons-cli-1.2(6).jar  \n",
            "  inflating: __MACOSX/PaDEL-Descriptor/lib/._commons-cli-1.2(6).jar  \n",
            "  inflating: PaDEL-Descriptor/lib/libPaDEL-Descriptor(1).jar  \n",
            "  inflating: __MACOSX/PaDEL-Descriptor/lib/._libPaDEL-Descriptor(1).jar  \n",
            "  inflating: PaDEL-Descriptor/lib/jama(4).jar  \n",
            "  inflating: __MACOSX/PaDEL-Descriptor/lib/._jama(4).jar  \n",
            "  inflating: PaDEL-Descriptor/lib/libPaDEL-Jobs(2).jar  \n",
            "  inflating: __MACOSX/PaDEL-Descriptor/lib/._libPaDEL-Jobs(2).jar  \n",
            "  inflating: PaDEL-Descriptor/lib/ambit2-smarts-2.4.7-SNAPSHOT(3).jar  \n",
            "  inflating: __MACOSX/PaDEL-Descriptor/lib/._ambit2-smarts-2.4.7-SNAPSHOT(3).jar  \n",
            "  inflating: PaDEL-Descriptor/lib/ambit2-smarts-2.4.7-SNAPSHOT(2).jar  \n",
            "  inflating: __MACOSX/PaDEL-Descriptor/lib/._ambit2-smarts-2.4.7-SNAPSHOT(2).jar  \n",
            "  inflating: PaDEL-Descriptor/lib/ambit2-smarts-2.4.7-SNAPSHOT.jar  \n",
            "  inflating: __MACOSX/PaDEL-Descriptor/lib/._ambit2-smarts-2.4.7-SNAPSHOT.jar  \n",
            "  inflating: PaDEL-Descriptor/lib/libPaDEL-Jobs(3).jar  \n",
            "  inflating: __MACOSX/PaDEL-Descriptor/lib/._libPaDEL-Jobs(3).jar  \n",
            "  inflating: PaDEL-Descriptor/lib/l2fprod-common-all(1).jar  \n",
            "  inflating: __MACOSX/PaDEL-Descriptor/lib/._l2fprod-common-all(1).jar  \n",
            "  inflating: PaDEL-Descriptor/lib/jama.jar  \n",
            "  inflating: __MACOSX/PaDEL-Descriptor/lib/._jama.jar  \n",
            "  inflating: PaDEL-Descriptor/lib/l2fprod-common-all.jar  \n",
            "  inflating: __MACOSX/PaDEL-Descriptor/lib/._l2fprod-common-all.jar  \n",
            "  inflating: PaDEL-Descriptor/lib/jama(5).jar  \n",
            "  inflating: __MACOSX/PaDEL-Descriptor/lib/._jama(5).jar  \n",
            "  inflating: PaDEL-Descriptor/lib/jgrapht-0.6.0(1).jar  \n",
            "  inflating: __MACOSX/PaDEL-Descriptor/lib/._jgrapht-0.6.0(1).jar  \n",
            "  inflating: PaDEL-Descriptor/lib/commons-cli-1.2(7).jar  \n",
            "  inflating: __MACOSX/PaDEL-Descriptor/lib/._commons-cli-1.2(7).jar  \n",
            "  inflating: PaDEL-Descriptor/lib/libPaDEL-Descriptor.jar  \n",
            "  inflating: __MACOSX/PaDEL-Descriptor/lib/._libPaDEL-Descriptor.jar  \n",
            "  inflating: PaDEL-Descriptor/lib/libPaDEL-Jobs(4).jar  \n",
            "  inflating: __MACOSX/PaDEL-Descriptor/lib/._libPaDEL-Jobs(4).jar  \n",
            "  inflating: PaDEL-Descriptor/lib/cdk-1.4.15.jar  \n",
            "  inflating: __MACOSX/PaDEL-Descriptor/lib/._cdk-1.4.15.jar  \n",
            "  inflating: PaDEL-Descriptor/lib/ambit2-smarts-2.4.7-SNAPSHOT(5).jar  \n",
            "  inflating: __MACOSX/PaDEL-Descriptor/lib/._ambit2-smarts-2.4.7-SNAPSHOT(5).jar  \n",
            "  inflating: PaDEL-Descriptor/lib/ambit2-core-2.4.7-SNAPSHOT(1).jar  \n",
            "  inflating: __MACOSX/PaDEL-Descriptor/lib/._ambit2-core-2.4.7-SNAPSHOT(1).jar  \n",
            "  inflating: PaDEL-Descriptor/lib/libPaDEL-Jobs(8).jar  \n",
            "  inflating: __MACOSX/PaDEL-Descriptor/lib/._libPaDEL-Jobs(8).jar  \n",
            "  inflating: PaDEL-Descriptor/lib/jgrapht-0.6.0(6).jar  \n",
            "  inflating: __MACOSX/PaDEL-Descriptor/lib/._jgrapht-0.6.0(6).jar  \n",
            "  inflating: PaDEL-Descriptor/lib/jama(2).jar  \n",
            "  inflating: __MACOSX/PaDEL-Descriptor/lib/._jama(2).jar  \n",
            "  inflating: PaDEL-Descriptor/lib/jama(3).jar  \n",
            "  inflating: __MACOSX/PaDEL-Descriptor/lib/._jama(3).jar  \n",
            "  inflating: PaDEL-Descriptor/lib/commons-cli-1.2(1).jar  \n",
            "  inflating: __MACOSX/PaDEL-Descriptor/lib/._commons-cli-1.2(1).jar  \n",
            "  inflating: PaDEL-Descriptor/lib/guava-17.0.jar  \n",
            "  inflating: __MACOSX/PaDEL-Descriptor/lib/._guava-17.0.jar  \n",
            "  inflating: PaDEL-Descriptor/lib/ambit2-smarts-2.4.7-SNAPSHOT(4).jar  \n",
            "  inflating: __MACOSX/PaDEL-Descriptor/lib/._ambit2-smarts-2.4.7-SNAPSHOT(4).jar  \n",
            "  inflating: PaDEL-Descriptor/lib/libPaDEL-Jobs(5).jar  \n",
            "  inflating: __MACOSX/PaDEL-Descriptor/lib/._libPaDEL-Jobs(5).jar  \n"
          ]
        }
      ],
      "source": [
        "! unzip padel.zip"
      ]
    },
    {
      "cell_type": "code",
      "execution_count": 34,
      "metadata": {
        "id": "1YeimCamshFR",
        "colab": {
          "base_uri": "https://localhost:8080/"
        },
        "outputId": "d98fbd21-30a6-4d4f-9c94-b9333a8764da"
      },
      "outputs": [
        {
          "output_type": "stream",
          "name": "stdout",
          "text": [
            "Processing CHEMBL327097 in molecule.smi (1/254). \n",
            "Processing CHEMBL327097 in molecule.smi (2/254). \n",
            "Processing CHEMBL324455 in molecule.smi (3/254). Average speed: 5.22 s/mol.\n",
            "Processing CHEMBL324455 in molecule.smi (4/254). Average speed: 2.63 s/mol.\n",
            "Processing CHEMBL321393 in molecule.smi (5/254). Average speed: 1.93 s/mol.\n",
            "Processing CHEMBL321393 in molecule.smi (6/254). Average speed: 1.56 s/mol.\n",
            "Processing CHEMBL109162 in molecule.smi (7/254). Average speed: 1.34 s/mol.\n",
            "Processing CHEMBL111082 in molecule.smi (8/254). Average speed: 1.16 s/mol.\n",
            "Processing CHEMBL111082 in molecule.smi (9/254). Average speed: 1.08 s/mol.\n",
            "Processing CHEMBL55440 in molecule.smi (10/254). Average speed: 0.96 s/mol.\n",
            "Processing CHEMBL55440 in molecule.smi (11/254). Average speed: 0.91 s/mol.\n",
            "Processing CHEMBL111756 in molecule.smi (12/254). Average speed: 0.86 s/mol.\n",
            "Processing CHEMBL111756 in molecule.smi (13/254). Average speed: 0.80 s/mol.\n",
            "Processing CHEMBL420491 in molecule.smi (15/254). Average speed: 0.74 s/mol.\n",
            "Processing CHEMBL420491 in molecule.smi (14/254). Average speed: 0.74 s/mol.\n",
            "Processing CHEMBL109781 in molecule.smi (16/254). Average speed: 0.77 s/mol.\n",
            "Processing CHEMBL109781 in molecule.smi (17/254). Average speed: 0.72 s/mol.\n",
            "Processing CHEMBL109005 in molecule.smi (18/254). Average speed: 0.74 s/mol.\n",
            "Processing CHEMBL109005 in molecule.smi (19/254). Average speed: 0.70 s/mol.\n",
            "Processing CHEMBL109939 in molecule.smi (20/254). Average speed: 0.70 s/mol.\n",
            "Processing CHEMBL109939 in molecule.smi (21/254). Average speed: 0.66 s/mol.\n",
            "Processing CHEMBL109004 in molecule.smi (22/254). Average speed: 0.66 s/mol.\n",
            "Processing CHEMBL109004 in molecule.smi (23/254). Average speed: 0.64 s/mol.\n",
            "Processing CHEMBL1145 in molecule.smi (24/254). Average speed: 0.63 s/mol.\n",
            "Processing CHEMBL1145 in molecule.smi (25/254). Average speed: 0.66 s/mol.\n",
            "Processing CHEMBL109645 in molecule.smi (26/254). Average speed: 0.63 s/mol.\n",
            "Processing CHEMBL96712 in molecule.smi (28/254). Average speed: 0.66 s/mol.\n",
            "Processing CHEMBL96712 in molecule.smi (27/254). Average speed: 0.64 s/mol.\n",
            "Processing CHEMBL345674 in molecule.smi (29/254). Average speed: 0.64 s/mol.\n",
            "Processing CHEMBL436422 in molecule.smi (30/254). Average speed: 0.61 s/mol.\n",
            "Processing CHEMBL156342 in molecule.smi (32/254). Average speed: 0.59 s/mol.\n",
            "Processing CHEMBL674 in molecule.smi (31/254). Average speed: 0.59 s/mol.\n",
            "Processing CHEMBL222813 in molecule.smi (34/254). Average speed: 0.57 s/mol.\n",
            "Processing CHEMBL317645 in molecule.smi (33/254). Average speed: 0.58 s/mol.\n",
            "Processing CHEMBL222813 in molecule.smi (35/254). Average speed: 0.55 s/mol.\n",
            "Processing CHEMBL50254 in molecule.smi (36/254). Average speed: 0.54 s/mol.\n",
            "Processing CHEMBL52270 in molecule.smi (37/254). Average speed: 0.53 s/mol.\n",
            "Processing CHEMBL51451 in molecule.smi (38/254). Average speed: 0.52 s/mol.\n",
            "Processing CHEMBL433269 in molecule.smi (39/254). Average speed: 0.51 s/mol.\n",
            "Processing CHEMBL54149 in molecule.smi (40/254). Average speed: 0.50 s/mol.\n",
            "Processing CHEMBL295490 in molecule.smi (41/254). Average speed: 0.50 s/mol.\n",
            "Processing CHEMBL300461 in molecule.smi (42/254). Average speed: 0.49 s/mol.\n",
            "Processing CHEMBL73669 in molecule.smi (43/254). Average speed: 0.49 s/mol.\n",
            "Processing CHEMBL346767 in molecule.smi (44/254). Average speed: 0.48 s/mol.\n",
            "Processing CHEMBL350298 in molecule.smi (45/254). Average speed: 0.48 s/mol.\n",
            "Processing CHEMBL162413 in molecule.smi (46/254). Average speed: 0.47 s/mol.\n",
            "Processing CHEMBL73669 in molecule.smi (47/254). Average speed: 0.47 s/mol.\n",
            "Processing CHEMBL348066 in molecule.smi (48/254). Average speed: 0.47 s/mol.\n",
            "Processing CHEMBL422016 in molecule.smi (49/254). Average speed: 0.46 s/mol.\n",
            "Processing CHEMBL348995 in molecule.smi (51/254). Average speed: 0.45 s/mol.\n",
            "Processing CHEMBL422026 in molecule.smi (50/254). Average speed: 0.46 s/mol.\n",
            "Processing CHEMBL350474 in molecule.smi (52/254). Average speed: 0.45 s/mol.\n",
            "Processing CHEMBL349042 in molecule.smi (53/254). Average speed: 0.44 s/mol.\n",
            "Processing CHEMBL353573 in molecule.smi (54/254). Average speed: 0.44 s/mol.\n",
            "Processing CHEMBL161629 in molecule.smi (55/254). Average speed: 0.44 s/mol.\n",
            "Processing CHEMBL222813 in molecule.smi (56/254). Average speed: 0.43 s/mol.\n",
            "Processing CHEMBL422357 in molecule.smi (57/254). Average speed: 0.43 s/mol.\n",
            "Processing CHEMBL295490 in molecule.smi (58/254). Average speed: 0.43 s/mol.\n",
            "Processing CHEMBL350837 in molecule.smi (59/254). Average speed: 0.43 s/mol.\n",
            "Processing CHEMBL346548 in molecule.smi (60/254). Average speed: 0.43 s/mol.\n",
            "Processing CHEMBL96712 in molecule.smi (61/254). Average speed: 0.42 s/mol.\n",
            "Processing CHEMBL345872 in molecule.smi (62/254). Average speed: 0.42 s/mol.\n",
            "Processing CHEMBL155186 in molecule.smi (63/254). Average speed: 0.41 s/mol.\n",
            "Processing CHEMBL355930 in molecule.smi (65/254). Average speed: 0.41 s/mol.\n",
            "Processing CHEMBL154991 in molecule.smi (64/254). Average speed: 0.41 s/mol.\n",
            "Processing CHEMBL347206 in molecule.smi (67/254). Average speed: 0.41 s/mol.\n",
            "Processing CHEMBL154604 in molecule.smi (66/254). Average speed: 0.41 s/mol.\n",
            "Processing CHEMBL96712 in molecule.smi (68/254). Average speed: 0.40 s/mol.\n",
            "Processing CHEMBL2112153 in molecule.smi (69/254). Average speed: 0.40 s/mol.\n",
            "Processing CHEMBL54758 in molecule.smi (70/254). Average speed: 0.41 s/mol.\n",
            "Processing CHEMBL315650 in molecule.smi (71/254). Average speed: 0.40 s/mol.\n",
            "Processing CHEMBL96603 in molecule.smi (72/254). Average speed: 0.40 s/mol.\n",
            "Processing CHEMBL316915 in molecule.smi (73/254). Average speed: 0.40 s/mol.\n",
            "Processing CHEMBL674 in molecule.smi (74/254). Average speed: 0.39 s/mol.\n",
            "Processing CHEMBL97199 in molecule.smi (75/254). Average speed: 0.39 s/mol.\n",
            "Processing CHEMBL291183 in molecule.smi (76/254). Average speed: 0.39 s/mol.\n",
            "Processing CHEMBL84696 in molecule.smi (77/254). Average speed: 0.39 s/mol.\n",
            "Processing CHEMBL236092 in molecule.smi (78/254). Average speed: 0.40 s/mol.\n",
            "Processing CHEMBL236092 in molecule.smi (79/254). Average speed: 0.40 s/mol.\n",
            "Processing CHEMBL236092 in molecule.smi (80/254). Average speed: 0.40 s/mol.\n",
            "Processing CHEMBL1643 in molecule.smi (81/254). Average speed: 0.40 s/mol.\n",
            "Processing CHEMBL222813 in molecule.smi (82/254). Average speed: 0.40 s/mol.\n",
            "Processing CHEMBL266587 in molecule.smi (83/254). Average speed: 0.40 s/mol.\n",
            "Processing CHEMBL140893 in molecule.smi (84/254). Average speed: 0.39 s/mol.\n",
            "Processing CHEMBL1643 in molecule.smi (85/254). Average speed: 0.40 s/mol.\n",
            "Processing CHEMBL222813 in molecule.smi (86/254). Average speed: 0.39 s/mol.\n",
            "Processing CHEMBL266587 in molecule.smi (87/254). Average speed: 0.39 s/mol.\n",
            "Processing CHEMBL140893 in molecule.smi (88/254). Average speed: 0.39 s/mol.\n",
            "Processing CHEMBL1643 in molecule.smi (89/254). Average speed: 0.39 s/mol.\n",
            "Processing CHEMBL222813 in molecule.smi (90/254). Average speed: 0.38 s/mol.\n",
            "Processing CHEMBL266587 in molecule.smi (91/254). Average speed: 0.38 s/mol.\n",
            "Processing CHEMBL140893 in molecule.smi (92/254). Average speed: 0.38 s/mol.\n",
            "Processing CHEMBL256197 in molecule.smi (93/254). Average speed: 0.38 s/mol.\n",
            "Processing CHEMBL1643 in molecule.smi (94/254). Average speed: 0.37 s/mol.\n",
            "Processing CHEMBL502613 in molecule.smi (96/254). Average speed: 0.37 s/mol.\n",
            "Processing CHEMBL502613 in molecule.smi (95/254). Average speed: 0.37 s/mol.\n",
            "Processing CHEMBL221722 in molecule.smi (97/254). Average speed: 0.37 s/mol.\n",
            "Processing CHEMBL674 in molecule.smi (99/254). Average speed: 0.36 s/mol.\n",
            "Processing CHEMBL1643 in molecule.smi (98/254). Average speed: 0.37 s/mol.\n",
            "Processing CHEMBL1229 in molecule.smi (100/254). Average speed: 0.36 s/mol.\n",
            "Processing CHEMBL660 in molecule.smi (101/254). Average speed: 0.36 s/mol.\n",
            "Processing CHEMBL222813 in molecule.smi (102/254). Average speed: 0.36 s/mol.\n",
            "Processing CHEMBL466246 in molecule.smi (103/254). Average speed: 0.36 s/mol.\n",
            "Processing CHEMBL222813 in molecule.smi (105/254). Average speed: 0.35 s/mol.\n",
            "Processing CHEMBL222813 in molecule.smi (104/254). Average speed: 0.35 s/mol.\n",
            "Processing CHEMBL222813 in molecule.smi (106/254). Average speed: 0.35 s/mol.\n",
            "Processing CHEMBL602496 in molecule.smi (107/254). Average speed: 0.35 s/mol.\n",
            "Processing CHEMBL602496 in molecule.smi (108/254). Average speed: 0.34 s/mol.\n",
            "Processing CHEMBL602496 in molecule.smi (109/254). Average speed: 0.35 s/mol.\n",
            "Processing CHEMBL139367 in molecule.smi (110/254). Average speed: 0.34 s/mol.\n",
            "Processing CHEMBL1651956 in molecule.smi (111/254). Average speed: 0.34 s/mol.\n",
            "Processing CHEMBL160 in molecule.smi (112/254). Average speed: 0.35 s/mol.\n",
            "Processing CHEMBL1956544 in molecule.smi (113/254). Average speed: 0.36 s/mol.\n",
            "Processing CHEMBL1956545 in molecule.smi (114/254). Average speed: 0.36 s/mol.\n",
            "Processing CHEMBL1956542 in molecule.smi (116/254). Average speed: 0.36 s/mol.\n",
            "Processing CHEMBL1643 in molecule.smi (115/254). Average speed: 0.36 s/mol.\n",
            "Processing CHEMBL1956535 in molecule.smi (117/254). Average speed: 0.35 s/mol.\n",
            "Processing CHEMBL1956406 in molecule.smi (118/254). Average speed: 0.35 s/mol.\n",
            "Processing CHEMBL1956403 in molecule.smi (119/254). Average speed: 0.36 s/mol.\n",
            "Processing CHEMBL1956541 in molecule.smi (121/254). Average speed: 0.36 s/mol.\n",
            "Processing CHEMBL1956401 in molecule.smi (120/254). Average speed: 0.36 s/mol.\n",
            "Processing CHEMBL1956547 in molecule.smi (122/254). Average speed: 0.36 s/mol.\n",
            "Processing CHEMBL1956400 in molecule.smi (123/254). Average speed: 0.36 s/mol.\n",
            "Processing CHEMBL1956407 in molecule.smi (124/254). Average speed: 0.36 s/mol.\n",
            "Processing CHEMBL1956531 in molecule.smi (125/254). Average speed: 0.36 s/mol.\n",
            "Processing CHEMBL1956538 in molecule.smi (127/254). Average speed: 0.36 s/mol.\n",
            "Processing CHEMBL1956411 in molecule.smi (126/254). Average speed: 0.36 s/mol.\n",
            "Processing CHEMBL1956409 in molecule.smi (128/254). Average speed: 0.36 s/mol.\n",
            "Processing CHEMBL1956405 in molecule.smi (129/254). Average speed: 0.36 s/mol.\n",
            "Processing CHEMBL1956537 in molecule.smi (130/254). Average speed: 0.36 s/mol.\n",
            "Processing CHEMBL1956404 in molecule.smi (131/254). Average speed: 0.35 s/mol.\n",
            "Processing CHEMBL1956543 in molecule.smi (132/254). Average speed: 0.35 s/mol.\n",
            "Processing CHEMBL1956402 in molecule.smi (133/254). Average speed: 0.35 s/mol.\n",
            "Processing CHEMBL1956399 in molecule.smi (134/254). Average speed: 0.35 s/mol.\n",
            "Processing CHEMBL1956532 in molecule.smi (135/254). Average speed: 0.35 s/mol.\n",
            "Processing CHEMBL1956540 in molecule.smi (136/254). Average speed: 0.35 s/mol.\n",
            "Processing CHEMBL1956398 in molecule.smi (137/254). Average speed: 0.35 s/mol.\n",
            "Processing CHEMBL1200340 in molecule.smi (138/254). Average speed: 0.35 s/mol.\n",
            "Processing CHEMBL1956410 in molecule.smi (139/254). Average speed: 0.34 s/mol.\n",
            "Processing CHEMBL1956408 in molecule.smi (140/254). Average speed: 0.34 s/mol.\n",
            "Processing CHEMBL1956539 in molecule.smi (141/254). Average speed: 0.35 s/mol.\n",
            "Processing CHEMBL1956536 in molecule.smi (142/254). Average speed: 0.34 s/mol.\n",
            "Processing CHEMBL1956534 in molecule.smi (143/254). Average speed: 0.34 s/mol.\n",
            "Processing CHEMBL1956533 in molecule.smi (144/254). Average speed: 0.34 s/mol.\n",
            "Processing CHEMBL2064580 in molecule.smi (145/254). Average speed: 0.34 s/mol.\n",
            "Processing CHEMBL2064586 in molecule.smi (147/254). Average speed: 0.34 s/mol.\n",
            "Processing CHEMBL2064581 in molecule.smi (146/254). Average speed: 0.34 s/mol.\n",
            "Processing CHEMBL2064587 in molecule.smi (148/254). Average speed: 0.34 s/mol.\n",
            "Processing CHEMBL2064588 in molecule.smi (149/254). Average speed: 0.34 s/mol.\n",
            "Processing CHEMBL2064590 in molecule.smi (150/254). Average speed: 0.33 s/mol.\n",
            "Processing CHEMBL2064591 in molecule.smi (151/254). Average speed: 0.33 s/mol.\n",
            "Processing CHEMBL1229 in molecule.smi (154/254). Average speed: 0.33 s/mol.\n",
            "Processing CHEMBL2064593 in molecule.smi (152/254). Average speed: 0.33 s/mol.\n",
            "Processing CHEMBL2064604 in molecule.smi (153/254). Average speed: 0.33 s/mol.\n",
            "Processing CHEMBL1643 in molecule.smi (155/254). Average speed: 0.33 s/mol.\n",
            "Processing CHEMBL3124959 in molecule.smi (157/254). Average speed: 0.33 s/mol.\n",
            "Processing CHEMBL1643 in molecule.smi (156/254). Average speed: 0.33 s/mol.\n",
            "Processing CHEMBL3126777 in molecule.smi (158/254). Average speed: 0.33 s/mol.\n",
            "Processing CHEMBL3126765 in molecule.smi (160/254). Average speed: 0.33 s/mol.\n",
            "Processing CHEMBL3126769 in molecule.smi (159/254). Average speed: 0.33 s/mol.\n",
            "Processing CHEMBL1643 in molecule.smi (161/254). Average speed: 0.33 s/mol.\n",
            "Processing CHEMBL1956398 in molecule.smi (162/254). Average speed: 0.33 s/mol.\n",
            "Processing CHEMBL3126784 in molecule.smi (163/254). Average speed: 0.32 s/mol.\n",
            "Processing CHEMBL3126783 in molecule.smi (164/254). Average speed: 0.32 s/mol.\n",
            "Processing CHEMBL3124959 in molecule.smi (166/254). Average speed: 0.32 s/mol.\n",
            "Processing CHEMBL3126782 in molecule.smi (165/254). Average speed: 0.32 s/mol.\n",
            "Processing CHEMBL3126780 in molecule.smi (168/254). Average speed: 0.32 s/mol.\n",
            "Processing CHEMBL3126781 in molecule.smi (167/254). Average speed: 0.32 s/mol.\n",
            "Processing CHEMBL3126779 in molecule.smi (169/254). Average speed: 0.32 s/mol.\n",
            "Processing CHEMBL3126778 in molecule.smi (170/254). Average speed: 0.32 s/mol.\n",
            "Processing CHEMBL3126777 in molecule.smi (171/254). Average speed: 0.32 s/mol.\n",
            "Processing CHEMBL3126776 in molecule.smi (172/254). Average speed: 0.32 s/mol.\n",
            "Processing CHEMBL3126775 in molecule.smi (173/254). Average speed: 0.33 s/mol.\n",
            "Processing CHEMBL3126774 in molecule.smi (174/254). Average speed: 0.33 s/mol.\n",
            "Processing CHEMBL3126773 in molecule.smi (175/254). Average speed: 0.33 s/mol.\n",
            "Processing CHEMBL3126772 in molecule.smi (176/254). Average speed: 0.33 s/mol.\n",
            "Processing CHEMBL3126771 in molecule.smi (177/254). Average speed: 0.33 s/mol.\n",
            "Processing CHEMBL3126769 in molecule.smi (179/254). Average speed: 0.33 s/mol.\n",
            "Processing CHEMBL3126770 in molecule.smi (178/254). Average speed: 0.33 s/mol.\n",
            "Processing CHEMBL3126768 in molecule.smi (180/254). Average speed: 0.33 s/mol.\n",
            "Processing CHEMBL3126767 in molecule.smi (181/254). Average speed: 0.33 s/mol.\n",
            "Processing CHEMBL3126766 in molecule.smi (182/254). Average speed: 0.33 s/mol.\n",
            "Processing CHEMBL3126765 in molecule.smi (183/254). Average speed: 0.33 s/mol.\n",
            "Processing CHEMBL3126764 in molecule.smi (184/254). Average speed: 0.33 s/mol.\n",
            "Processing CHEMBL3126763 in molecule.smi (185/254). Average speed: 0.33 s/mol.\n",
            "Processing CHEMBL3126790 in molecule.smi (187/254). Average speed: 0.33 s/mol.\n",
            "Processing CHEMBL3126791 in molecule.smi (186/254). Average speed: 0.33 s/mol.\n",
            "Processing CHEMBL3126788 in molecule.smi (189/254). Average speed: 0.32 s/mol.\n",
            "Processing CHEMBL3126789 in molecule.smi (188/254). Average speed: 0.33 s/mol.\n",
            "Processing CHEMBL3126786 in molecule.smi (191/254). Average speed: 0.32 s/mol.\n",
            "Processing CHEMBL3126787 in molecule.smi (190/254). Average speed: 0.32 s/mol.\n",
            "Processing CHEMBL3126785 in molecule.smi (192/254). Average speed: 0.32 s/mol.\n",
            "Processing CHEMBL3604361 in molecule.smi (193/254). Average speed: 0.32 s/mol.\n",
            "Processing CHEMBL3604362 in molecule.smi (194/254). Average speed: 0.32 s/mol.\n",
            "Processing CHEMBL1643 in molecule.smi (196/254). Average speed: 0.32 s/mol.\n",
            "Processing CHEMBL3603846 in molecule.smi (195/254). Average speed: 0.32 s/mol.\n",
            "Processing CHEMBL4082164 in molecule.smi (197/254). Average speed: 0.32 s/mol.\n",
            "Processing CHEMBL4071634 in molecule.smi (199/254). Average speed: 0.32 s/mol.\n",
            "Processing CHEMBL4100166 in molecule.smi (198/254). Average speed: 0.32 s/mol.\n",
            "Processing CHEMBL4092427 in molecule.smi (200/254). Average speed: 0.32 s/mol.\n",
            "Processing CHEMBL4097739 in molecule.smi (201/254). Average speed: 0.32 s/mol.\n",
            "Processing CHEMBL4070593 in molecule.smi (202/254). Average speed: 0.31 s/mol.\n",
            "Processing CHEMBL4105298 in molecule.smi (203/254). Average speed: 0.31 s/mol.\n",
            "Processing CHEMBL4087444 in molecule.smi (204/254). Average speed: 0.31 s/mol.\n",
            "Processing CHEMBL4067716 in molecule.smi (205/254). Average speed: 0.31 s/mol.\n",
            "Processing CHEMBL4095139 in molecule.smi (206/254). Average speed: 0.31 s/mol.\n",
            "Processing CHEMBL4089859 in molecule.smi (207/254). Average speed: 0.31 s/mol.\n",
            "Processing CHEMBL4068760 in molecule.smi (208/254). Average speed: 0.31 s/mol.\n",
            "Processing CHEMBL4097589 in molecule.smi (209/254). Average speed: 0.31 s/mol.\n",
            "Processing CHEMBL4079562 in molecule.smi (210/254). Average speed: 0.31 s/mol.\n",
            "Processing CHEMBL4094226 in molecule.smi (211/254). Average speed: 0.31 s/mol.\n",
            "Processing CHEMBL4073601 in molecule.smi (212/254). Average speed: 0.31 s/mol.\n",
            "Processing CHEMBL1956398 in molecule.smi (213/254). Average speed: 0.31 s/mol.\n",
            "Processing CHEMBL1643 in molecule.smi (214/254). Average speed: 0.31 s/mol.\n",
            "Processing CHEMBL1229 in molecule.smi (215/254). Average speed: 0.31 s/mol.\n",
            "Processing CHEMBL4130078 in molecule.smi (216/254). Average speed: 0.31 s/mol.\n",
            "Processing CHEMBL4212028 in molecule.smi (217/254). Average speed: 0.31 s/mol.\n",
            "Processing CHEMBL4207148 in molecule.smi (218/254). Average speed: 0.31 s/mol.\n",
            "Processing CHEMBL4214276 in molecule.smi (219/254). Average speed: 0.31 s/mol.\n",
            "Processing CHEMBL1229 in molecule.smi (220/254). Average speed: 0.31 s/mol.\n",
            "Processing CHEMBL4539433 in molecule.smi (221/254). Average speed: 0.31 s/mol.\n",
            "Processing CHEMBL1200340 in molecule.smi (222/254). Average speed: 0.31 s/mol.\n",
            "Processing CHEMBL4539433 in molecule.smi (223/254). Average speed: 0.31 s/mol.\n",
            "Processing CHEMBL1200340 in molecule.smi (224/254). Average speed: 0.32 s/mol.\n",
            "Processing CHEMBL1200340 in molecule.smi (226/254). Average speed: 0.32 s/mol.\n",
            "Processing CHEMBL4539433 in molecule.smi (225/254). Average speed: 0.32 s/mol.\n",
            "Processing CHEMBL1643 in molecule.smi (227/254). Average speed: 0.32 s/mol.\n",
            "Processing CHEMBL1229 in molecule.smi (228/254). Average speed: 0.32 s/mol.\n",
            "Processing CHEMBL4073601 in molecule.smi (229/254). Average speed: 0.31 s/mol.\n",
            "Processing CHEMBL1956398 in molecule.smi (230/254). Average speed: 0.31 s/mol.\n",
            "Processing CHEMBL4445526 in molecule.smi (231/254). Average speed: 0.31 s/mol.\n",
            "Processing CHEMBL4446257 in molecule.smi (232/254). Average speed: 0.31 s/mol.\n",
            "Processing CHEMBL4448130 in molecule.smi (233/254). Average speed: 0.31 s/mol.\n",
            "Processing CHEMBL4474957 in molecule.smi (234/254). Average speed: 0.31 s/mol.\n",
            "Processing CHEMBL4441066 in molecule.smi (235/254). Average speed: 0.31 s/mol.\n",
            "Processing CHEMBL4468682 in molecule.smi (236/254). Average speed: 0.31 s/mol.\n",
            "Processing CHEMBL4528295 in molecule.smi (237/254). Average speed: 0.31 s/mol.\n",
            "Processing CHEMBL4459102 in molecule.smi (238/254). Average speed: 0.31 s/mol.\n",
            "Processing CHEMBL4567889 in molecule.smi (239/254). Average speed: 0.31 s/mol.\n",
            "Processing CHEMBL4465664 in molecule.smi (240/254). Average speed: 0.31 s/mol.\n",
            "Processing CHEMBL4533320 in molecule.smi (241/254). Average speed: 0.31 s/mol.\n",
            "Processing CHEMBL4527859 in molecule.smi (242/254). Average speed: 0.31 s/mol.\n",
            "Processing CHEMBL4450376 in molecule.smi (243/254). Average speed: 0.31 s/mol.\n",
            "Processing CHEMBL4476416 in molecule.smi (244/254). Average speed: 0.31 s/mol.\n",
            "Processing CHEMBL4483331 in molecule.smi (245/254). Average speed: 0.31 s/mol.\n",
            "Processing CHEMBL1200340 in molecule.smi (247/254). Average speed: 0.31 s/mol.\n",
            "Processing CHEMBL4578422 in molecule.smi (246/254). Average speed: 0.31 s/mol.\n",
            "Processing CHEMBL4578422 in molecule.smi (248/254). Average speed: 0.31 s/mol.\n",
            "Processing CHEMBL1200340 in molecule.smi (249/254). Average speed: 0.31 s/mol.\n",
            "Processing CHEMBL4870860 in molecule.smi (250/254). Average speed: 0.31 s/mol.\n",
            "Processing CHEMBL4866899 in molecule.smi (251/254). Average speed: 0.31 s/mol.\n",
            "Processing CHEMBL4855404 in molecule.smi (253/254). Average speed: 0.36 s/mol.\n",
            "Processing CHEMBL4872826 in molecule.smi (252/254). Average speed: 0.36 s/mol.\n",
            "Processing CHEMBL1200340 in molecule.smi (254/254). Average speed: 0.42 s/mol.\n",
            "Descriptor calculation completed in 1 mins 45.613 secs . Average speed: 0.42 s/mol.\n"
          ]
        }
      ],
      "source": [
        "! bash padel.sh"
      ]
    },
    {
      "cell_type": "markdown",
      "metadata": {
        "id": "PaHKjxbyVEVx"
      },
      "source": [
        "### Model selection and usage"
      ]
    },
    {
      "cell_type": "markdown",
      "metadata": {
        "id": "FuqBUBbgXvaq"
      },
      "source": [
        "### Importing Modules"
      ]
    },
    {
      "cell_type": "code",
      "execution_count": 35,
      "metadata": {
        "id": "8AW9jy8uXlKz"
      },
      "outputs": [],
      "source": [
        "from sklearn.tree import DecisionTreeRegressor\n",
        "from sklearn.ensemble import RandomForestRegressor , ExtraTreesRegressor\n",
        "from sklearn.linear_model import Lasso,Ridge,OrthogonalMatchingPursuit,LinearRegression\n",
        "from sklearn.svm import SVR\n",
        "from sklearn.model_selection import train_test_split, KFold , cross_val_score\n",
        "from sklearn.metrics import r2_score,mean_squared_error,mean_absolute_error"
      ]
    },
    {
      "cell_type": "markdown",
      "metadata": {
        "id": "NIF6keLVZFgZ"
      },
      "source": [
        "### Using different models and importing processed data "
      ]
    },
    {
      "cell_type": "code",
      "execution_count": 36,
      "metadata": {
        "id": "ZmdaqLd8bLp_"
      },
      "outputs": [],
      "source": [
        "X = pd.read_csv('descriptors_output.csv')\n",
        "Y = pd.read_csv('influenzaB_labels.csv')"
      ]
    },
    {
      "cell_type": "code",
      "execution_count": 37,
      "metadata": {
        "colab": {
          "base_uri": "https://localhost:8080/"
        },
        "id": "apotqTqnjyXi",
        "outputId": "4ad7c013-b507-4dab-91c9-0af3d37c7d1a"
      },
      "outputs": [
        {
          "output_type": "execute_result",
          "data": {
            "text/plain": [
              "0"
            ]
          },
          "metadata": {},
          "execution_count": 37
        }
      ],
      "source": [
        "Y['standard_value'].isnull().sum()"
      ]
    },
    {
      "cell_type": "code",
      "execution_count": 38,
      "metadata": {
        "id": "T02ORodMdgR0"
      },
      "outputs": [],
      "source": [
        "for i in Y['standard_value']:\n",
        "  Y['standard_value'] = Y['standard_value'].replace(i,round(i,2))"
      ]
    },
    {
      "cell_type": "code",
      "execution_count": 39,
      "metadata": {
        "id": "ZfB1Pt8HaJOb",
        "colab": {
          "base_uri": "https://localhost:8080/"
        },
        "outputId": "deaed11f-9405-4f7a-ea22-56cfb6b8783c"
      },
      "outputs": [
        {
          "output_type": "execute_result",
          "data": {
            "text/plain": [
              "array([ 2.52,  8.09,  3.12,  2.7 ,  8.62,  1.7 ,  8.08,  2.1 ,  8.32,\n",
              "        6.33,  5.13,  7.49,  4.38,  8.19,  7.93,  7.8 , 10.7 ,  7.36,\n",
              "        9.49,  8.42,  8.04,  8.66,  9.55,  8.02,  8.15, 10.25,  8.26,\n",
              "        4.08,  3.17,  3.47,  5.19,  5.29,  3.18,  7.07,  6.4 ,  8.34,\n",
              "        4.5 ,  4.63,  4.42,  4.02,  2.3 ,  3.61,  4.82,  3.65,  4.18,\n",
              "        3.79,  2.8 ,  4.66,  4.06,  5.37,  1.83,  7.05,  4.72,  8.11,\n",
              "        5.68,  4.3 ,  8.38,  7.52,  7.7 ,  7.4 ,  5.  ,  4.83,  5.49,\n",
              "        4.95,  4.76,  4.69,  4.31,  4.28,  4.17,  4.11,  3.45,  4.  ,\n",
              "        3.82,  3.8 ,  4.6 ,  4.59,  4.58,  4.57,  4.55,  4.51,  3.5 ,\n",
              "        4.48,  4.46,  2.39,  3.3 ,  4.25,  4.1 ,  8.29,  5.02,  4.04,\n",
              "        3.62,  3.9 ,  4.67,  4.19,  4.34,  8.49,  9.14,  9.68,  8.48,\n",
              "        9.04,  6.74,  7.87,  8.17,  8.41,  8.33,  8.14,  8.68,  8.77,\n",
              "        7.95,  7.73,  8.05,  8.65,  7.89,  7.83,  6.  ,  5.96,  5.05,\n",
              "        7.14,  8.92,  7.96,  7.26,  8.06,  7.62,  9.1 ,  6.94,  4.77,\n",
              "        8.51,  7.48,  5.26,  4.94,  3.31,  4.15,  4.01,  3.87,  3.83,\n",
              "        3.35,  4.35,  4.85,  4.39,  3.94,  3.37,  4.36,  3.28,  4.21,\n",
              "        5.73])"
            ]
          },
          "metadata": {},
          "execution_count": 39
        }
      ],
      "source": [
        "Y.standard_value.unique()"
      ]
    },
    {
      "cell_type": "code",
      "execution_count": 40,
      "metadata": {
        "id": "Fpx2JPmQboUW",
        "colab": {
          "base_uri": "https://localhost:8080/",
          "height": 300
        },
        "outputId": "3a4bf8e2-3532-46ec-f086-8e5cc8934523"
      },
      "outputs": [
        {
          "output_type": "execute_result",
          "data": {
            "text/plain": [
              "       standard_value\n",
              "count      254.000000\n",
              "mean         6.528031\n",
              "std          2.050769\n",
              "min          1.700000\n",
              "25%          4.485000\n",
              "50%          7.955000\n",
              "75%          8.090000\n",
              "max         10.700000"
            ],
            "text/html": [
              "\n",
              "  <div id=\"df-432a57c9-4a06-4901-a559-9d13f7c5281a\">\n",
              "    <div class=\"colab-df-container\">\n",
              "      <div>\n",
              "<style scoped>\n",
              "    .dataframe tbody tr th:only-of-type {\n",
              "        vertical-align: middle;\n",
              "    }\n",
              "\n",
              "    .dataframe tbody tr th {\n",
              "        vertical-align: top;\n",
              "    }\n",
              "\n",
              "    .dataframe thead th {\n",
              "        text-align: right;\n",
              "    }\n",
              "</style>\n",
              "<table border=\"1\" class=\"dataframe\">\n",
              "  <thead>\n",
              "    <tr style=\"text-align: right;\">\n",
              "      <th></th>\n",
              "      <th>standard_value</th>\n",
              "    </tr>\n",
              "  </thead>\n",
              "  <tbody>\n",
              "    <tr>\n",
              "      <th>count</th>\n",
              "      <td>254.000000</td>\n",
              "    </tr>\n",
              "    <tr>\n",
              "      <th>mean</th>\n",
              "      <td>6.528031</td>\n",
              "    </tr>\n",
              "    <tr>\n",
              "      <th>std</th>\n",
              "      <td>2.050769</td>\n",
              "    </tr>\n",
              "    <tr>\n",
              "      <th>min</th>\n",
              "      <td>1.700000</td>\n",
              "    </tr>\n",
              "    <tr>\n",
              "      <th>25%</th>\n",
              "      <td>4.485000</td>\n",
              "    </tr>\n",
              "    <tr>\n",
              "      <th>50%</th>\n",
              "      <td>7.955000</td>\n",
              "    </tr>\n",
              "    <tr>\n",
              "      <th>75%</th>\n",
              "      <td>8.090000</td>\n",
              "    </tr>\n",
              "    <tr>\n",
              "      <th>max</th>\n",
              "      <td>10.700000</td>\n",
              "    </tr>\n",
              "  </tbody>\n",
              "</table>\n",
              "</div>\n",
              "      <button class=\"colab-df-convert\" onclick=\"convertToInteractive('df-432a57c9-4a06-4901-a559-9d13f7c5281a')\"\n",
              "              title=\"Convert this dataframe to an interactive table.\"\n",
              "              style=\"display:none;\">\n",
              "        \n",
              "  <svg xmlns=\"http://www.w3.org/2000/svg\" height=\"24px\"viewBox=\"0 0 24 24\"\n",
              "       width=\"24px\">\n",
              "    <path d=\"M0 0h24v24H0V0z\" fill=\"none\"/>\n",
              "    <path d=\"M18.56 5.44l.94 2.06.94-2.06 2.06-.94-2.06-.94-.94-2.06-.94 2.06-2.06.94zm-11 1L8.5 8.5l.94-2.06 2.06-.94-2.06-.94L8.5 2.5l-.94 2.06-2.06.94zm10 10l.94 2.06.94-2.06 2.06-.94-2.06-.94-.94-2.06-.94 2.06-2.06.94z\"/><path d=\"M17.41 7.96l-1.37-1.37c-.4-.4-.92-.59-1.43-.59-.52 0-1.04.2-1.43.59L10.3 9.45l-7.72 7.72c-.78.78-.78 2.05 0 2.83L4 21.41c.39.39.9.59 1.41.59.51 0 1.02-.2 1.41-.59l7.78-7.78 2.81-2.81c.8-.78.8-2.07 0-2.86zM5.41 20L4 18.59l7.72-7.72 1.47 1.35L5.41 20z\"/>\n",
              "  </svg>\n",
              "      </button>\n",
              "      \n",
              "  <style>\n",
              "    .colab-df-container {\n",
              "      display:flex;\n",
              "      flex-wrap:wrap;\n",
              "      gap: 12px;\n",
              "    }\n",
              "\n",
              "    .colab-df-convert {\n",
              "      background-color: #E8F0FE;\n",
              "      border: none;\n",
              "      border-radius: 50%;\n",
              "      cursor: pointer;\n",
              "      display: none;\n",
              "      fill: #1967D2;\n",
              "      height: 32px;\n",
              "      padding: 0 0 0 0;\n",
              "      width: 32px;\n",
              "    }\n",
              "\n",
              "    .colab-df-convert:hover {\n",
              "      background-color: #E2EBFA;\n",
              "      box-shadow: 0px 1px 2px rgba(60, 64, 67, 0.3), 0px 1px 3px 1px rgba(60, 64, 67, 0.15);\n",
              "      fill: #174EA6;\n",
              "    }\n",
              "\n",
              "    [theme=dark] .colab-df-convert {\n",
              "      background-color: #3B4455;\n",
              "      fill: #D2E3FC;\n",
              "    }\n",
              "\n",
              "    [theme=dark] .colab-df-convert:hover {\n",
              "      background-color: #434B5C;\n",
              "      box-shadow: 0px 1px 3px 1px rgba(0, 0, 0, 0.15);\n",
              "      filter: drop-shadow(0px 1px 2px rgba(0, 0, 0, 0.3));\n",
              "      fill: #FFFFFF;\n",
              "    }\n",
              "  </style>\n",
              "\n",
              "      <script>\n",
              "        const buttonEl =\n",
              "          document.querySelector('#df-432a57c9-4a06-4901-a559-9d13f7c5281a button.colab-df-convert');\n",
              "        buttonEl.style.display =\n",
              "          google.colab.kernel.accessAllowed ? 'block' : 'none';\n",
              "\n",
              "        async function convertToInteractive(key) {\n",
              "          const element = document.querySelector('#df-432a57c9-4a06-4901-a559-9d13f7c5281a');\n",
              "          const dataTable =\n",
              "            await google.colab.kernel.invokeFunction('convertToInteractive',\n",
              "                                                     [key], {});\n",
              "          if (!dataTable) return;\n",
              "\n",
              "          const docLinkHtml = 'Like what you see? Visit the ' +\n",
              "            '<a target=\"_blank\" href=https://colab.research.google.com/notebooks/data_table.ipynb>data table notebook</a>'\n",
              "            + ' to learn more about interactive tables.';\n",
              "          element.innerHTML = '';\n",
              "          dataTable['output_type'] = 'display_data';\n",
              "          await google.colab.output.renderOutput(dataTable, element);\n",
              "          const docLink = document.createElement('div');\n",
              "          docLink.innerHTML = docLinkHtml;\n",
              "          element.appendChild(docLink);\n",
              "        }\n",
              "      </script>\n",
              "    </div>\n",
              "  </div>\n",
              "  "
            ]
          },
          "metadata": {},
          "execution_count": 40
        }
      ],
      "source": [
        "Y.describe()"
      ]
    },
    {
      "cell_type": "code",
      "execution_count": 41,
      "metadata": {
        "id": "SKx4Oz0HdlYW"
      },
      "outputs": [],
      "source": [
        "Y = Y.to_numpy().ravel()\n",
        "X = X.drop(columns=['Name'],axis=1)"
      ]
    },
    {
      "cell_type": "code",
      "execution_count": 42,
      "metadata": {
        "id": "a1e3oHx-dvLo",
        "colab": {
          "base_uri": "https://localhost:8080/",
          "height": 237
        },
        "outputId": "3a59756a-4fa2-4afa-c341-0222f306d6c6"
      },
      "outputs": [
        {
          "output_type": "execute_result",
          "data": {
            "text/plain": [
              "   PubchemFP0  PubchemFP1  PubchemFP2  PubchemFP3  PubchemFP4  PubchemFP5  \\\n",
              "0           1           1           0           0           0           0   \n",
              "1           1           1           0           0           0           0   \n",
              "2           1           1           0           0           0           0   \n",
              "\n",
              "   PubchemFP6  PubchemFP7  PubchemFP8  PubchemFP9  ...  PubchemFP871  \\\n",
              "0           0           0           0           1  ...             0   \n",
              "1           0           0           0           1  ...             0   \n",
              "2           0           0           0           1  ...             0   \n",
              "\n",
              "   PubchemFP872  PubchemFP873  PubchemFP874  PubchemFP875  PubchemFP876  \\\n",
              "0             0             0             0             0             0   \n",
              "1             0             0             0             0             0   \n",
              "2             0             0             0             0             0   \n",
              "\n",
              "   PubchemFP877  PubchemFP878  PubchemFP879  PubchemFP880  \n",
              "0             0             0             0             0  \n",
              "1             0             0             0             0  \n",
              "2             0             0             0             0  \n",
              "\n",
              "[3 rows x 881 columns]"
            ],
            "text/html": [
              "\n",
              "  <div id=\"df-04a2e7e2-123c-48c6-b065-b28d24af1958\">\n",
              "    <div class=\"colab-df-container\">\n",
              "      <div>\n",
              "<style scoped>\n",
              "    .dataframe tbody tr th:only-of-type {\n",
              "        vertical-align: middle;\n",
              "    }\n",
              "\n",
              "    .dataframe tbody tr th {\n",
              "        vertical-align: top;\n",
              "    }\n",
              "\n",
              "    .dataframe thead th {\n",
              "        text-align: right;\n",
              "    }\n",
              "</style>\n",
              "<table border=\"1\" class=\"dataframe\">\n",
              "  <thead>\n",
              "    <tr style=\"text-align: right;\">\n",
              "      <th></th>\n",
              "      <th>PubchemFP0</th>\n",
              "      <th>PubchemFP1</th>\n",
              "      <th>PubchemFP2</th>\n",
              "      <th>PubchemFP3</th>\n",
              "      <th>PubchemFP4</th>\n",
              "      <th>PubchemFP5</th>\n",
              "      <th>PubchemFP6</th>\n",
              "      <th>PubchemFP7</th>\n",
              "      <th>PubchemFP8</th>\n",
              "      <th>PubchemFP9</th>\n",
              "      <th>...</th>\n",
              "      <th>PubchemFP871</th>\n",
              "      <th>PubchemFP872</th>\n",
              "      <th>PubchemFP873</th>\n",
              "      <th>PubchemFP874</th>\n",
              "      <th>PubchemFP875</th>\n",
              "      <th>PubchemFP876</th>\n",
              "      <th>PubchemFP877</th>\n",
              "      <th>PubchemFP878</th>\n",
              "      <th>PubchemFP879</th>\n",
              "      <th>PubchemFP880</th>\n",
              "    </tr>\n",
              "  </thead>\n",
              "  <tbody>\n",
              "    <tr>\n",
              "      <th>0</th>\n",
              "      <td>1</td>\n",
              "      <td>1</td>\n",
              "      <td>0</td>\n",
              "      <td>0</td>\n",
              "      <td>0</td>\n",
              "      <td>0</td>\n",
              "      <td>0</td>\n",
              "      <td>0</td>\n",
              "      <td>0</td>\n",
              "      <td>1</td>\n",
              "      <td>...</td>\n",
              "      <td>0</td>\n",
              "      <td>0</td>\n",
              "      <td>0</td>\n",
              "      <td>0</td>\n",
              "      <td>0</td>\n",
              "      <td>0</td>\n",
              "      <td>0</td>\n",
              "      <td>0</td>\n",
              "      <td>0</td>\n",
              "      <td>0</td>\n",
              "    </tr>\n",
              "    <tr>\n",
              "      <th>1</th>\n",
              "      <td>1</td>\n",
              "      <td>1</td>\n",
              "      <td>0</td>\n",
              "      <td>0</td>\n",
              "      <td>0</td>\n",
              "      <td>0</td>\n",
              "      <td>0</td>\n",
              "      <td>0</td>\n",
              "      <td>0</td>\n",
              "      <td>1</td>\n",
              "      <td>...</td>\n",
              "      <td>0</td>\n",
              "      <td>0</td>\n",
              "      <td>0</td>\n",
              "      <td>0</td>\n",
              "      <td>0</td>\n",
              "      <td>0</td>\n",
              "      <td>0</td>\n",
              "      <td>0</td>\n",
              "      <td>0</td>\n",
              "      <td>0</td>\n",
              "    </tr>\n",
              "    <tr>\n",
              "      <th>2</th>\n",
              "      <td>1</td>\n",
              "      <td>1</td>\n",
              "      <td>0</td>\n",
              "      <td>0</td>\n",
              "      <td>0</td>\n",
              "      <td>0</td>\n",
              "      <td>0</td>\n",
              "      <td>0</td>\n",
              "      <td>0</td>\n",
              "      <td>1</td>\n",
              "      <td>...</td>\n",
              "      <td>0</td>\n",
              "      <td>0</td>\n",
              "      <td>0</td>\n",
              "      <td>0</td>\n",
              "      <td>0</td>\n",
              "      <td>0</td>\n",
              "      <td>0</td>\n",
              "      <td>0</td>\n",
              "      <td>0</td>\n",
              "      <td>0</td>\n",
              "    </tr>\n",
              "  </tbody>\n",
              "</table>\n",
              "<p>3 rows × 881 columns</p>\n",
              "</div>\n",
              "      <button class=\"colab-df-convert\" onclick=\"convertToInteractive('df-04a2e7e2-123c-48c6-b065-b28d24af1958')\"\n",
              "              title=\"Convert this dataframe to an interactive table.\"\n",
              "              style=\"display:none;\">\n",
              "        \n",
              "  <svg xmlns=\"http://www.w3.org/2000/svg\" height=\"24px\"viewBox=\"0 0 24 24\"\n",
              "       width=\"24px\">\n",
              "    <path d=\"M0 0h24v24H0V0z\" fill=\"none\"/>\n",
              "    <path d=\"M18.56 5.44l.94 2.06.94-2.06 2.06-.94-2.06-.94-.94-2.06-.94 2.06-2.06.94zm-11 1L8.5 8.5l.94-2.06 2.06-.94-2.06-.94L8.5 2.5l-.94 2.06-2.06.94zm10 10l.94 2.06.94-2.06 2.06-.94-2.06-.94-.94-2.06-.94 2.06-2.06.94z\"/><path d=\"M17.41 7.96l-1.37-1.37c-.4-.4-.92-.59-1.43-.59-.52 0-1.04.2-1.43.59L10.3 9.45l-7.72 7.72c-.78.78-.78 2.05 0 2.83L4 21.41c.39.39.9.59 1.41.59.51 0 1.02-.2 1.41-.59l7.78-7.78 2.81-2.81c.8-.78.8-2.07 0-2.86zM5.41 20L4 18.59l7.72-7.72 1.47 1.35L5.41 20z\"/>\n",
              "  </svg>\n",
              "      </button>\n",
              "      \n",
              "  <style>\n",
              "    .colab-df-container {\n",
              "      display:flex;\n",
              "      flex-wrap:wrap;\n",
              "      gap: 12px;\n",
              "    }\n",
              "\n",
              "    .colab-df-convert {\n",
              "      background-color: #E8F0FE;\n",
              "      border: none;\n",
              "      border-radius: 50%;\n",
              "      cursor: pointer;\n",
              "      display: none;\n",
              "      fill: #1967D2;\n",
              "      height: 32px;\n",
              "      padding: 0 0 0 0;\n",
              "      width: 32px;\n",
              "    }\n",
              "\n",
              "    .colab-df-convert:hover {\n",
              "      background-color: #E2EBFA;\n",
              "      box-shadow: 0px 1px 2px rgba(60, 64, 67, 0.3), 0px 1px 3px 1px rgba(60, 64, 67, 0.15);\n",
              "      fill: #174EA6;\n",
              "    }\n",
              "\n",
              "    [theme=dark] .colab-df-convert {\n",
              "      background-color: #3B4455;\n",
              "      fill: #D2E3FC;\n",
              "    }\n",
              "\n",
              "    [theme=dark] .colab-df-convert:hover {\n",
              "      background-color: #434B5C;\n",
              "      box-shadow: 0px 1px 3px 1px rgba(0, 0, 0, 0.15);\n",
              "      filter: drop-shadow(0px 1px 2px rgba(0, 0, 0, 0.3));\n",
              "      fill: #FFFFFF;\n",
              "    }\n",
              "  </style>\n",
              "\n",
              "      <script>\n",
              "        const buttonEl =\n",
              "          document.querySelector('#df-04a2e7e2-123c-48c6-b065-b28d24af1958 button.colab-df-convert');\n",
              "        buttonEl.style.display =\n",
              "          google.colab.kernel.accessAllowed ? 'block' : 'none';\n",
              "\n",
              "        async function convertToInteractive(key) {\n",
              "          const element = document.querySelector('#df-04a2e7e2-123c-48c6-b065-b28d24af1958');\n",
              "          const dataTable =\n",
              "            await google.colab.kernel.invokeFunction('convertToInteractive',\n",
              "                                                     [key], {});\n",
              "          if (!dataTable) return;\n",
              "\n",
              "          const docLinkHtml = 'Like what you see? Visit the ' +\n",
              "            '<a target=\"_blank\" href=https://colab.research.google.com/notebooks/data_table.ipynb>data table notebook</a>'\n",
              "            + ' to learn more about interactive tables.';\n",
              "          element.innerHTML = '';\n",
              "          dataTable['output_type'] = 'display_data';\n",
              "          await google.colab.output.renderOutput(dataTable, element);\n",
              "          const docLink = document.createElement('div');\n",
              "          docLink.innerHTML = docLinkHtml;\n",
              "          element.appendChild(docLink);\n",
              "        }\n",
              "      </script>\n",
              "    </div>\n",
              "  </div>\n",
              "  "
            ]
          },
          "metadata": {},
          "execution_count": 42
        }
      ],
      "source": [
        "X.head(3)"
      ]
    },
    {
      "cell_type": "code",
      "execution_count": 43,
      "metadata": {
        "id": "BQv4ODdpdxLz",
        "colab": {
          "base_uri": "https://localhost:8080/"
        },
        "outputId": "206b5376-752c-4f95-cc6d-3e49d1664b73"
      },
      "outputs": [
        {
          "output_type": "execute_result",
          "data": {
            "text/plain": [
              "array([2.52, 8.09, 3.12, 8.09, 2.7 ])"
            ]
          },
          "metadata": {},
          "execution_count": 43
        }
      ],
      "source": [
        "Y[:5]"
      ]
    },
    {
      "cell_type": "code",
      "execution_count": 44,
      "metadata": {
        "id": "VFhn9EsifToH",
        "colab": {
          "base_uri": "https://localhost:8080/"
        },
        "outputId": "ffcb389e-cf86-4729-87ee-913328ad6462"
      },
      "outputs": [
        {
          "output_type": "execute_result",
          "data": {
            "text/plain": [
              "(254, 881)"
            ]
          },
          "metadata": {},
          "execution_count": 44
        }
      ],
      "source": [
        "X.shape"
      ]
    },
    {
      "cell_type": "markdown",
      "source": [
        "### Defining all the Regressors"
      ],
      "metadata": {
        "id": "d6fRfED16p4S"
      }
    },
    {
      "cell_type": "code",
      "execution_count": 45,
      "metadata": {
        "id": "Uavte79UY8Mm"
      },
      "outputs": [],
      "source": [
        "rfe = RandomForestRegressor(n_estimators = 100)\n",
        "dtree = DecisionTreeRegressor()\n",
        "svr = SVR()\n",
        "etree = ExtraTreesRegressor()\n",
        "lin_reg = LinearRegression()\n",
        "lasso = Lasso()\n",
        "ridge = Ridge()\n",
        "oth = OrthogonalMatchingPursuit()"
      ]
    },
    {
      "cell_type": "code",
      "source": [
        "def evaluation(y,predictions):\n",
        "    mae = mean_absolute_error(y,predictions)\n",
        "    mse = mean_squared_error(y,predictions)\n",
        "    rmse = np.sqrt(mean_squared_error(y,predictions))\n",
        "    r2 = r2_score(y,predictions)\n",
        "    return mae,mse,rmse,r2"
      ],
      "metadata": {
        "id": "MHrZHioPBSVd"
      },
      "execution_count": 46,
      "outputs": []
    },
    {
      "cell_type": "markdown",
      "source": [
        "### Using different regressors and finding best fit model for our dataset"
      ],
      "metadata": {
        "id": "CqNtuYLy6w9A"
      }
    },
    {
      "cell_type": "code",
      "source": [
        "rmse_arr = []\n",
        "r2_arr=[]"
      ],
      "metadata": {
        "id": "sJccvqinhv5v"
      },
      "execution_count": 47,
      "outputs": []
    },
    {
      "cell_type": "markdown",
      "source": [
        "### Random Forest Tree"
      ],
      "metadata": {
        "id": "X9YrN2oMlUJH"
      }
    },
    {
      "cell_type": "code",
      "execution_count": 48,
      "metadata": {
        "id": "xXwa2Z2IrrMl",
        "colab": {
          "base_uri": "https://localhost:8080/"
        },
        "outputId": "01f0bd29-cb72-4d5b-eab1-fe4411f2fd41"
      },
      "outputs": [
        {
          "output_type": "stream",
          "name": "stdout",
          "text": [
            "R sqaured value : 0.2167283935941774\n",
            "\n",
            "Mean Sqaured Error : 3.358346907635994\n",
            "\n",
            "Mean Absolute Error : 1.3117490429586762\n",
            "\n",
            "Root Mean Squared : 1.8325793045966643\n"
          ]
        }
      ],
      "source": [
        "X_train,X_test,Y_train,Y_test = train_test_split(X,Y,test_size=0.2,random_state=100)\n",
        "rfe.fit(X_train,Y_train)\n",
        "Y_pred = rfe.predict(X_test)\n",
        "mae,mse,rmse,r2 = evaluation(Y_test,Y_pred)\n",
        "r2_arr.append(r2)\n",
        "rmse_arr.append(rmse)\n",
        "print(\"R sqaured value :\",r2)\n",
        "print(\"\")\n",
        "print(\"Mean Sqaured Error :\",mse)\n",
        "print(\"\")\n",
        "print(\"Mean Absolute Error :\",mae)\n",
        "print(\"\")\n",
        "print(\"Root Mean Squared :\",rmse)"
      ]
    },
    {
      "cell_type": "markdown",
      "source": [
        "### Decision Tree Regressor"
      ],
      "metadata": {
        "id": "QWcIVMsrlQjL"
      }
    },
    {
      "cell_type": "code",
      "execution_count": 49,
      "metadata": {
        "id": "SbWD69fhyY3R",
        "colab": {
          "base_uri": "https://localhost:8080/"
        },
        "outputId": "b91916f1-2664-4154-daa5-c1beed977fa7"
      },
      "outputs": [
        {
          "output_type": "stream",
          "name": "stdout",
          "text": [
            "R sqaured value : -0.07214829215528096\n",
            "\n",
            "Mean Sqaured Error : 4.59693147567175\n",
            "\n",
            "Mean Absolute Error : 1.38239651416122\n",
            "\n",
            "Root Mean Squared : 2.1440455861925485\n"
          ]
        }
      ],
      "source": [
        "X_train,X_test,Y_train,Y_test = train_test_split(X,Y,test_size=0.2,random_state=100)\n",
        "dtree.fit(X_train,Y_train)\n",
        "Y_pred = dtree.predict(X_test)\n",
        "mae,mse,rmse,r2 = evaluation(Y_test,Y_pred)\n",
        "r2_arr.append(r2)\n",
        "rmse_arr.append(rmse)\n",
        "print(\"R sqaured value :\",r2)\n",
        "print(\"\")\n",
        "print(\"Mean Sqaured Error :\",mse)\n",
        "print(\"\")\n",
        "print(\"Mean Absolute Error :\",mae)\n",
        "print(\"\")\n",
        "print(\"Root Mean Squared :\",rmse)"
      ]
    },
    {
      "cell_type": "markdown",
      "source": [
        "### Support Vector Regressor"
      ],
      "metadata": {
        "id": "wmSy6y_YlMur"
      }
    },
    {
      "cell_type": "code",
      "execution_count": 50,
      "metadata": {
        "id": "S86sMcYjycVd",
        "colab": {
          "base_uri": "https://localhost:8080/"
        },
        "outputId": "84bf5a62-ca25-4324-b25e-7201d24a3a1c"
      },
      "outputs": [
        {
          "output_type": "stream",
          "name": "stdout",
          "text": [
            "R sqaured value : 0.12351795401279875\n",
            "\n",
            "Mean Sqaured Error : 3.757994984966309\n",
            "\n",
            "Mean Absolute Error : 1.4646891091635015\n",
            "\n",
            "Root Mean Squared : 1.9385548702490494\n"
          ]
        }
      ],
      "source": [
        "X_train,X_test,Y_train,Y_test = train_test_split(X,Y,test_size=0.2,random_state=100)\n",
        "svr.fit(X_train,Y_train)\n",
        "Y_pred = svr.predict(X_test)\n",
        "mae,mse,rmse,r2 = evaluation(Y_test,Y_pred)\n",
        "rmse_arr.append(rmse)\n",
        "r2_arr.append(r2)\n",
        "print(\"R sqaured value :\",r2)\n",
        "print(\"\")\n",
        "print(\"Mean Sqaured Error :\",mse)\n",
        "print(\"\")\n",
        "print(\"Mean Absolute Error :\",mae)\n",
        "print(\"\")\n",
        "print(\"Root Mean Squared :\",rmse)"
      ]
    },
    {
      "cell_type": "markdown",
      "source": [
        "### Extra Tree Regression"
      ],
      "metadata": {
        "id": "4xXw5tCRlJE2"
      }
    },
    {
      "cell_type": "code",
      "execution_count": 51,
      "metadata": {
        "id": "ci_fE2VtydGr",
        "colab": {
          "base_uri": "https://localhost:8080/"
        },
        "outputId": "5d94a5a1-f57d-4ee7-a533-35d3a1b31fe9"
      },
      "outputs": [
        {
          "output_type": "stream",
          "name": "stdout",
          "text": [
            "R sqaured value : -0.0964738333474815\n",
            "\n",
            "Mean Sqaured Error : 4.701229404220779\n",
            "\n",
            "Mean Absolute Error : 1.4084286710239682\n",
            "\n",
            "Root Mean Squared : 2.168231861268711\n"
          ]
        }
      ],
      "source": [
        "X_train,X_test,Y_train,Y_test = train_test_split(X,Y,test_size=0.2,random_state=100)\n",
        "etree.fit(X_train,Y_train)\n",
        "Y_pred = etree.predict(X_test)\n",
        "mae,mse,rmse,r2 = evaluation(Y_test,Y_pred)\n",
        "r2_arr.append(r2)\n",
        "rmse_arr.append(rmse)\n",
        "print(\"R sqaured value :\",r2)\n",
        "print(\"\")\n",
        "print(\"Mean Sqaured Error :\",mse)\n",
        "print(\"\")\n",
        "print(\"Mean Absolute Error :\",mae)\n",
        "print(\"\")\n",
        "print(\"Root Mean Squared :\",rmse)"
      ]
    },
    {
      "cell_type": "markdown",
      "source": [
        "### Lasso Regression"
      ],
      "metadata": {
        "id": "Eej25EL-kscD"
      }
    },
    {
      "cell_type": "code",
      "source": [
        "X_train,X_test,Y_train,Y_test = train_test_split(X,Y,test_size=0.2,random_state=100)\n",
        "lasso.fit(X_train,Y_train)\n",
        "Y_pred = lasso.predict(X_test)\n",
        "mae,mse,rmse,r2 = evaluation(Y_test,Y_pred)\n",
        "rmse_arr.append(rmse)\n",
        "r2_arr.append(r2)\n",
        "print(\"R sqaured value :\",r2)\n",
        "print(\"\")\n",
        "print(\"Mean Sqaured Error :\",mse)\n",
        "print(\"\")\n",
        "print(\"Mean Absolute Error :\",mae)\n",
        "print(\"\")\n",
        "print(\"Root Mean Squared :\",rmse)"
      ],
      "metadata": {
        "id": "KqZTjmkykJR0",
        "colab": {
          "base_uri": "https://localhost:8080/"
        },
        "outputId": "e831e3dd-972f-415a-f1a4-0a47a900d136"
      },
      "execution_count": 52,
      "outputs": [
        {
          "output_type": "stream",
          "name": "stdout",
          "text": [
            "R sqaured value : -0.0019110932894736976\n",
            "\n",
            "Mean Sqaured Error : 4.295783217924506\n",
            "\n",
            "Mean Absolute Error : 1.958607167004733\n",
            "\n",
            "Root Mean Squared : 2.0726271294964045\n"
          ]
        }
      ]
    },
    {
      "cell_type": "markdown",
      "source": [
        "### Ridge Regression"
      ],
      "metadata": {
        "id": "yAZkOQV9kpRX"
      }
    },
    {
      "cell_type": "code",
      "source": [
        "X_train,X_test,Y_train,Y_test = train_test_split(X,Y,test_size=0.2,random_state=100)\n",
        "ridge.fit(X_train,Y_train)\n",
        "Y_pred = ridge.predict(X_test)\n",
        "mae,mse,rmse,r2 = evaluation(Y_test,Y_pred)\n",
        "r2_arr.append(r2)\n",
        "rmse_arr.append(rmse)\n",
        "print(\"R sqaured value :\",r2)\n",
        "print(\"\")\n",
        "print(\"Mean Sqaured Error :\",mse)\n",
        "print(\"\")\n",
        "print(\"Mean Absolute Error :\",mae)\n",
        "print(\"\")\n",
        "print(\"Root Mean Squared :\",rmse)"
      ],
      "metadata": {
        "id": "JF0R_3MikNEV",
        "colab": {
          "base_uri": "https://localhost:8080/"
        },
        "outputId": "e7898e30-bdd5-4fe0-d93b-848ddbd7ab4c"
      },
      "execution_count": 53,
      "outputs": [
        {
          "output_type": "stream",
          "name": "stdout",
          "text": [
            "R sqaured value : 0.19904842643883325\n",
            "\n",
            "Mean Sqaured Error : 3.4341513444848033\n",
            "\n",
            "Mean Absolute Error : 1.3040000040846162\n",
            "\n",
            "Root Mean Squared : 1.8531463365003864\n"
          ]
        }
      ]
    },
    {
      "cell_type": "markdown",
      "source": [
        "### Orthogonal Matching Pursuit Regressor"
      ],
      "metadata": {
        "id": "g6MYBOrRki8L"
      }
    },
    {
      "cell_type": "code",
      "source": [
        "X_train,X_test,Y_train,Y_test = train_test_split(X,Y,test_size=0.2,random_state=100)\n",
        "oth.fit(X_train,Y_train)\n",
        "Y_pred = oth.predict(X_test)\n",
        "mae,mse,rmse,r2 = evaluation(Y_test,Y_pred)\n",
        "r2_arr.append(r2)\n",
        "rmse_arr.append(rmse)\n",
        "print(\"R sqaured value :\",r2)\n",
        "print(\"\")\n",
        "print(\"Mean Sqaured Error :\",mse)\n",
        "print(\"\")\n",
        "print(\"Mean Absolute Error :\",mae)\n",
        "print(\"\")\n",
        "print(\"Root Mean Squared :\",rmse)"
      ],
      "metadata": {
        "id": "B8KxdkEukQRp",
        "colab": {
          "base_uri": "https://localhost:8080/"
        },
        "outputId": "d12b1542-c4c3-46c1-9e99-4536229b06da"
      },
      "execution_count": 54,
      "outputs": [
        {
          "output_type": "stream",
          "name": "stdout",
          "text": [
            "R sqaured value : -1.9317421483943003\n",
            "\n",
            "Mean Sqaured Error : 12.570106074986292\n",
            "\n",
            "Mean Absolute Error : 2.114778516033159\n",
            "\n",
            "Root Mean Squared : 3.545434539656076\n"
          ]
        }
      ]
    },
    {
      "cell_type": "markdown",
      "source": [
        "### Linear Regression"
      ],
      "metadata": {
        "id": "8MZ76JXukZs6"
      }
    },
    {
      "cell_type": "code",
      "source": [
        "X_train,X_test,Y_train,Y_test = train_test_split(X,Y,test_size=0.2,random_state=100)\n",
        "lin_reg.fit(X_train,Y_train)\n",
        "Y_pred = lin_reg.predict(X_test)\n",
        "mae,mse,rmse,r2 = evaluation(Y_test,Y_pred)\n",
        "r2_arr.append(r2)\n",
        "rmse_arr.append(rmse)\n",
        "print(\"R sqaured value :\",r2)\n",
        "print(\"\")\n",
        "print(\"Mean Sqaured Error :\",mse)\n",
        "print(\"\")\n",
        "print(\"Mean Absolute Error :\",mae)\n",
        "print(\"\")\n",
        "print(\"Root Mean Squared :\",rmse)"
      ],
      "metadata": {
        "id": "rqW03a-mkUhF",
        "colab": {
          "base_uri": "https://localhost:8080/"
        },
        "outputId": "e368be39-d09d-476c-eb73-7804de13b8df"
      },
      "execution_count": 55,
      "outputs": [
        {
          "output_type": "stream",
          "name": "stdout",
          "text": [
            "R sqaured value : -2.1154271624595067e+21\n",
            "\n",
            "Mean Sqaured Error : 9.070082728996849e+21\n",
            "\n",
            "Mean Absolute Error : 37707276475.727486\n",
            "\n",
            "Root Mean Squared : 95236981939.77405\n"
          ]
        }
      ]
    },
    {
      "cell_type": "markdown",
      "source": [
        "### Model Performance"
      ],
      "metadata": {
        "id": "dIU8xk4XHQDD"
      }
    },
    {
      "cell_type": "code",
      "source": [
        "import seaborn as sns"
      ],
      "metadata": {
        "id": "lbjJTcKqGSA0"
      },
      "execution_count": 56,
      "outputs": []
    },
    {
      "cell_type": "code",
      "source": [
        "di = {\"Name\":[\"Random Forest\",\"Decision Tree\",\"Support Vector\",\"Extra Tree\",\"Lasso\",\"Ridge\",\"Orthogonal\",\"Linear\"],\n",
        "      \"RMSE\":rmse_arr,\"R_Sq\":r2_arr}"
      ],
      "metadata": {
        "id": "a1M-XG96pg_r"
      },
      "execution_count": 57,
      "outputs": []
    },
    {
      "cell_type": "code",
      "source": [
        "model_performance = pd.DataFrame.from_dict(di)"
      ],
      "metadata": {
        "id": "p-vUcxFFqw4g"
      },
      "execution_count": 58,
      "outputs": []
    },
    {
      "cell_type": "code",
      "source": [
        "model_performance"
      ],
      "metadata": {
        "id": "s981HWb7sOtU",
        "colab": {
          "base_uri": "https://localhost:8080/",
          "height": 300
        },
        "outputId": "6204117d-0eb0-4494-9b54-29350a4b3721"
      },
      "execution_count": 59,
      "outputs": [
        {
          "output_type": "execute_result",
          "data": {
            "text/plain": [
              "             Name          RMSE          R_Sq\n",
              "0   Random Forest  1.832579e+00  2.167284e-01\n",
              "1   Decision Tree  2.144046e+00 -7.214829e-02\n",
              "2  Support Vector  1.938555e+00  1.235180e-01\n",
              "3      Extra Tree  2.168232e+00 -9.647383e-02\n",
              "4           Lasso  2.072627e+00 -1.911093e-03\n",
              "5           Ridge  1.853146e+00  1.990484e-01\n",
              "6      Orthogonal  3.545435e+00 -1.931742e+00\n",
              "7          Linear  9.523698e+10 -2.115427e+21"
            ],
            "text/html": [
              "\n",
              "  <div id=\"df-cda73842-c006-4ef3-be5d-6c936b9391ba\">\n",
              "    <div class=\"colab-df-container\">\n",
              "      <div>\n",
              "<style scoped>\n",
              "    .dataframe tbody tr th:only-of-type {\n",
              "        vertical-align: middle;\n",
              "    }\n",
              "\n",
              "    .dataframe tbody tr th {\n",
              "        vertical-align: top;\n",
              "    }\n",
              "\n",
              "    .dataframe thead th {\n",
              "        text-align: right;\n",
              "    }\n",
              "</style>\n",
              "<table border=\"1\" class=\"dataframe\">\n",
              "  <thead>\n",
              "    <tr style=\"text-align: right;\">\n",
              "      <th></th>\n",
              "      <th>Name</th>\n",
              "      <th>RMSE</th>\n",
              "      <th>R_Sq</th>\n",
              "    </tr>\n",
              "  </thead>\n",
              "  <tbody>\n",
              "    <tr>\n",
              "      <th>0</th>\n",
              "      <td>Random Forest</td>\n",
              "      <td>1.832579e+00</td>\n",
              "      <td>2.167284e-01</td>\n",
              "    </tr>\n",
              "    <tr>\n",
              "      <th>1</th>\n",
              "      <td>Decision Tree</td>\n",
              "      <td>2.144046e+00</td>\n",
              "      <td>-7.214829e-02</td>\n",
              "    </tr>\n",
              "    <tr>\n",
              "      <th>2</th>\n",
              "      <td>Support Vector</td>\n",
              "      <td>1.938555e+00</td>\n",
              "      <td>1.235180e-01</td>\n",
              "    </tr>\n",
              "    <tr>\n",
              "      <th>3</th>\n",
              "      <td>Extra Tree</td>\n",
              "      <td>2.168232e+00</td>\n",
              "      <td>-9.647383e-02</td>\n",
              "    </tr>\n",
              "    <tr>\n",
              "      <th>4</th>\n",
              "      <td>Lasso</td>\n",
              "      <td>2.072627e+00</td>\n",
              "      <td>-1.911093e-03</td>\n",
              "    </tr>\n",
              "    <tr>\n",
              "      <th>5</th>\n",
              "      <td>Ridge</td>\n",
              "      <td>1.853146e+00</td>\n",
              "      <td>1.990484e-01</td>\n",
              "    </tr>\n",
              "    <tr>\n",
              "      <th>6</th>\n",
              "      <td>Orthogonal</td>\n",
              "      <td>3.545435e+00</td>\n",
              "      <td>-1.931742e+00</td>\n",
              "    </tr>\n",
              "    <tr>\n",
              "      <th>7</th>\n",
              "      <td>Linear</td>\n",
              "      <td>9.523698e+10</td>\n",
              "      <td>-2.115427e+21</td>\n",
              "    </tr>\n",
              "  </tbody>\n",
              "</table>\n",
              "</div>\n",
              "      <button class=\"colab-df-convert\" onclick=\"convertToInteractive('df-cda73842-c006-4ef3-be5d-6c936b9391ba')\"\n",
              "              title=\"Convert this dataframe to an interactive table.\"\n",
              "              style=\"display:none;\">\n",
              "        \n",
              "  <svg xmlns=\"http://www.w3.org/2000/svg\" height=\"24px\"viewBox=\"0 0 24 24\"\n",
              "       width=\"24px\">\n",
              "    <path d=\"M0 0h24v24H0V0z\" fill=\"none\"/>\n",
              "    <path d=\"M18.56 5.44l.94 2.06.94-2.06 2.06-.94-2.06-.94-.94-2.06-.94 2.06-2.06.94zm-11 1L8.5 8.5l.94-2.06 2.06-.94-2.06-.94L8.5 2.5l-.94 2.06-2.06.94zm10 10l.94 2.06.94-2.06 2.06-.94-2.06-.94-.94-2.06-.94 2.06-2.06.94z\"/><path d=\"M17.41 7.96l-1.37-1.37c-.4-.4-.92-.59-1.43-.59-.52 0-1.04.2-1.43.59L10.3 9.45l-7.72 7.72c-.78.78-.78 2.05 0 2.83L4 21.41c.39.39.9.59 1.41.59.51 0 1.02-.2 1.41-.59l7.78-7.78 2.81-2.81c.8-.78.8-2.07 0-2.86zM5.41 20L4 18.59l7.72-7.72 1.47 1.35L5.41 20z\"/>\n",
              "  </svg>\n",
              "      </button>\n",
              "      \n",
              "  <style>\n",
              "    .colab-df-container {\n",
              "      display:flex;\n",
              "      flex-wrap:wrap;\n",
              "      gap: 12px;\n",
              "    }\n",
              "\n",
              "    .colab-df-convert {\n",
              "      background-color: #E8F0FE;\n",
              "      border: none;\n",
              "      border-radius: 50%;\n",
              "      cursor: pointer;\n",
              "      display: none;\n",
              "      fill: #1967D2;\n",
              "      height: 32px;\n",
              "      padding: 0 0 0 0;\n",
              "      width: 32px;\n",
              "    }\n",
              "\n",
              "    .colab-df-convert:hover {\n",
              "      background-color: #E2EBFA;\n",
              "      box-shadow: 0px 1px 2px rgba(60, 64, 67, 0.3), 0px 1px 3px 1px rgba(60, 64, 67, 0.15);\n",
              "      fill: #174EA6;\n",
              "    }\n",
              "\n",
              "    [theme=dark] .colab-df-convert {\n",
              "      background-color: #3B4455;\n",
              "      fill: #D2E3FC;\n",
              "    }\n",
              "\n",
              "    [theme=dark] .colab-df-convert:hover {\n",
              "      background-color: #434B5C;\n",
              "      box-shadow: 0px 1px 3px 1px rgba(0, 0, 0, 0.15);\n",
              "      filter: drop-shadow(0px 1px 2px rgba(0, 0, 0, 0.3));\n",
              "      fill: #FFFFFF;\n",
              "    }\n",
              "  </style>\n",
              "\n",
              "      <script>\n",
              "        const buttonEl =\n",
              "          document.querySelector('#df-cda73842-c006-4ef3-be5d-6c936b9391ba button.colab-df-convert');\n",
              "        buttonEl.style.display =\n",
              "          google.colab.kernel.accessAllowed ? 'block' : 'none';\n",
              "\n",
              "        async function convertToInteractive(key) {\n",
              "          const element = document.querySelector('#df-cda73842-c006-4ef3-be5d-6c936b9391ba');\n",
              "          const dataTable =\n",
              "            await google.colab.kernel.invokeFunction('convertToInteractive',\n",
              "                                                     [key], {});\n",
              "          if (!dataTable) return;\n",
              "\n",
              "          const docLinkHtml = 'Like what you see? Visit the ' +\n",
              "            '<a target=\"_blank\" href=https://colab.research.google.com/notebooks/data_table.ipynb>data table notebook</a>'\n",
              "            + ' to learn more about interactive tables.';\n",
              "          element.innerHTML = '';\n",
              "          dataTable['output_type'] = 'display_data';\n",
              "          await google.colab.output.renderOutput(dataTable, element);\n",
              "          const docLink = document.createElement('div');\n",
              "          docLink.innerHTML = docLinkHtml;\n",
              "          element.appendChild(docLink);\n",
              "        }\n",
              "      </script>\n",
              "    </div>\n",
              "  </div>\n",
              "  "
            ]
          },
          "metadata": {},
          "execution_count": 59
        }
      ]
    },
    {
      "cell_type": "code",
      "source": [
        "sns.set(rc={'figure.figsize':(10,5)})\n",
        "ax = sns.lineplot(x='RMSE',y='R_Sq',data=model_performance).set(title='Regressor Performance')"
      ],
      "metadata": {
        "id": "8kvulYCREFOu",
        "colab": {
          "base_uri": "https://localhost:8080/",
          "height": 355
        },
        "outputId": "a3d550ec-0f77-4b69-ec82-0bf789d26949"
      },
      "execution_count": 60,
      "outputs": [
        {
          "output_type": "display_data",
          "data": {
            "text/plain": [
              "<Figure size 720x360 with 1 Axes>"
            ],
            "image/png": "[encoded data removed]"
          },
          "metadata": {}
        }
      ]
    },
    {
      "cell_type": "markdown",
      "source": [
        "### Using model with lowest rmse"
      ],
      "metadata": {
        "id": "xsGZz74YHfog"
      }
    },
    {
      "cell_type": "code",
      "source": [
        "X_train,X_test,Y_train,Y_test = train_test_split(X,Y,test_size=0.2,random_state=100)\n",
        "rfe.fit(X_train,Y_train)\n",
        "Y_pred = rfe.predict(X_test)\n",
        "rmse = np.sqrt(mean_squared_error(Y_test,Y_pred))"
      ],
      "metadata": {
        "id": "Govnii6WFhDx"
      },
      "execution_count": 64,
      "outputs": []
    },
    {
      "cell_type": "code",
      "source": [
        "rmse"
      ],
      "metadata": {
        "id": "Wr7tofXBI7H6",
        "colab": {
          "base_uri": "https://localhost:8080/"
        },
        "outputId": "beef96fd-83bd-47c6-d4f5-1bd1a6de8768"
      },
      "execution_count": 65,
      "outputs": [
        {
          "output_type": "execute_result",
          "data": {
            "text/plain": [
              "1.8153251179931627"
            ]
          },
          "metadata": {},
          "execution_count": 65
        }
      ]
    },
    {
      "cell_type": "markdown",
      "source": [
        "### Saving model state for later use"
      ],
      "metadata": {
        "id": "bUeMqW2aJCFg"
      }
    },
    {
      "cell_type": "code",
      "source": [
        "import pickle\n",
        "\n",
        "pickle.dump(rfe,open(\"influenzaB_model.pkl\",\"wb\"))"
      ],
      "metadata": {
        "id": "jyxlWv2aI78G"
      },
      "execution_count": 66,
      "outputs": []
    },
    {
      "cell_type": "code",
      "source": [],
      "metadata": {
        "id": "Lo5V0P8AJ4xg"
      },
      "execution_count": 63,
      "outputs": []
    }
  ],
  "metadata": {
    "colab": {
      "provenance": []
    },
    "kernelspec": {
      "display_name": "Python 3",
      "name": "python3"
    },
    "language_info": {
      "name": "python"
    }
  },
  "nbformat": 4,
  "nbformat_minor": 0
}