{
  "cells": [
    {
      "cell_type": "markdown",
      "metadata": {
        "id": "4Ban-ZO5_6Vf"
      },
      "source": [
        "### Importing Important Modules and Database connectors"
      ]
    },
    {
      "cell_type": "code",
      "execution_count": 1,
      "metadata": {
        "colab": {
          "base_uri": "https://localhost:8080/"
        },
        "id": "uh7CxBVxlbi9",
        "outputId": "2921901f-393c-4e94-f32c-eaf6df765c51"
      },
      "outputs": [
        {
          "output_type": "stream",
          "name": "stdout",
          "text": [
            "Looking in indexes: https://pypi.org/simple, https://us-python.pkg.dev/colab-wheels/public/simple/\n",
            "Collecting chembl_webresource_client\n",
            "  Downloading chembl_webresource_client-0.10.8-py3-none-any.whl (55 kB)\n",
            "\u001b[2K     \u001b[90m━━━━━━━━━━━━━━━━━━━━━━━━━━━━━━━━━━━━━━━━\u001b[0m \u001b[32m55.2/55.2 KB\u001b[0m \u001b[31m3.1 MB/s\u001b[0m eta \u001b[36m0:00:00\u001b[0m\n",
            "\u001b[?25hRequirement already satisfied: requests>=2.18.4 in /usr/local/lib/python3.9/dist-packages (from chembl_webresource_client) (2.25.1)\n",
            "Requirement already satisfied: urllib3 in /usr/local/lib/python3.9/dist-packages (from chembl_webresource_client) (1.26.14)\n",
            "Collecting requests-cache~=0.7.0\n",
            "  Downloading requests_cache-0.7.5-py3-none-any.whl (39 kB)\n",
            "Requirement already satisfied: easydict in /usr/local/lib/python3.9/dist-packages (from chembl_webresource_client) (1.10)\n",
            "Requirement already satisfied: certifi>=2017.4.17 in /usr/local/lib/python3.9/dist-packages (from requests>=2.18.4->chembl_webresource_client) (2022.12.7)\n",
            "Requirement already satisfied: chardet<5,>=3.0.2 in /usr/local/lib/python3.9/dist-packages (from requests>=2.18.4->chembl_webresource_client) (4.0.0)\n",
            "Requirement already satisfied: idna<3,>=2.5 in /usr/local/lib/python3.9/dist-packages (from requests>=2.18.4->chembl_webresource_client) (2.10)\n",
            "Collecting attrs<22.0,>=21.2\n",
            "  Downloading attrs-21.4.0-py2.py3-none-any.whl (60 kB)\n",
            "\u001b[2K     \u001b[90m━━━━━━━━━━━━━━━━━━━━━━━━━━━━━━━━━━━━━━━━\u001b[0m \u001b[32m60.6/60.6 KB\u001b[0m \u001b[31m6.3 MB/s\u001b[0m eta \u001b[36m0:00:00\u001b[0m\n",
            "\u001b[?25hRequirement already satisfied: pyyaml>=5.4 in /usr/local/lib/python3.9/dist-packages (from requests-cache~=0.7.0->chembl_webresource_client) (6.0)\n",
            "Requirement already satisfied: itsdangerous>=2.0.1 in /usr/local/lib/python3.9/dist-packages (from requests-cache~=0.7.0->chembl_webresource_client) (2.1.2)\n",
            "Collecting url-normalize<2.0,>=1.4\n",
            "  Downloading url_normalize-1.4.3-py2.py3-none-any.whl (6.8 kB)\n",
            "Requirement already satisfied: six in /usr/local/lib/python3.9/dist-packages (from url-normalize<2.0,>=1.4->requests-cache~=0.7.0->chembl_webresource_client) (1.15.0)\n",
            "Installing collected packages: url-normalize, attrs, requests-cache, chembl_webresource_client\n",
            "  Attempting uninstall: attrs\n",
            "    Found existing installation: attrs 22.2.0\n",
            "    Uninstalling attrs-22.2.0:\n",
            "      Successfully uninstalled attrs-22.2.0\n",
            "Successfully installed attrs-21.4.0 chembl_webresource_client-0.10.8 requests-cache-0.7.5 url-normalize-1.4.3\n"
          ]
        }
      ],
      "source": [
        "! pip install chembl_webresource_client"
      ]
    },
    {
      "cell_type": "code",
      "execution_count": 2,
      "metadata": {
        "id": "MqSnLFbQls26"
      },
      "outputs": [],
      "source": [
        "import pandas as pd\n",
        "import numpy as np\n",
        "from chembl_webresource_client.new_client import new_client\n",
        "import matplotlib.pyplot as plt"
      ]
    },
    {
      "cell_type": "markdown",
      "metadata": {
        "id": "MgjhG1kiACOJ"
      },
      "source": [
        "### Collecting And Processing Data\n",
        "* Our main goal is to process the target protien structure `independent variable`\n",
        "* And predict the `IC50` value the `dependent variable`\n",
        "* To process the chemical structure Ww will be using `Padel Descripter` later on"
      ]
    },
    {
      "cell_type": "code",
      "execution_count": 3,
      "metadata": {
        "id": "T29V3oPJl9O3"
      },
      "outputs": [],
      "source": [
        "target = new_client.target\n",
        "target_query = target.search('kidney')\n",
        "target_result = pd.DataFrame.from_dict(target_query)"
      ]
    },
    {
      "cell_type": "code",
      "execution_count": 4,
      "metadata": {
        "colab": {
          "base_uri": "https://localhost:8080/",
          "height": 693
        },
        "id": "ZOSTm5S-mfuI",
        "outputId": "8d86103f-3395-4764-d17f-4fc2a039104c"
      },
      "outputs": [
        {
          "output_type": "execute_result",
          "data": {
            "text/plain": [
              "   cross_references           organism  \\\n",
              "0                []       Mus musculus   \n",
              "1                []  Rattus norvegicus   \n",
              "2                []       Mus musculus   \n",
              "3                []       Homo sapiens   \n",
              "4                []  Rattus norvegicus   \n",
              "..              ...                ...   \n",
              "74               []       Mus musculus   \n",
              "75               []      Gallus gallus   \n",
              "76               []       Mus musculus   \n",
              "77               []       Homo sapiens   \n",
              "78               []       Homo sapiens   \n",
              "\n",
              "                                    pref_name  score  species_group_flag  \\\n",
              "0                                      Kidney   17.0               False   \n",
              "1                                      Kidney   17.0               False   \n",
              "2   Glutaminase kidney isoform, mitochondrial   15.0               False   \n",
              "3   Glutaminase kidney isoform, mitochondrial   14.0               False   \n",
              "4   Glutaminase kidney isoform, mitochondrial   14.0               False   \n",
              "..                                        ...    ...                 ...   \n",
              "74                          Oxytocin receptor    3.0               False   \n",
              "75                     Oxytocin-like receptor    3.0               False   \n",
              "76                   Vasopressin V1a receptor    3.0               False   \n",
              "77                         Vasopressin V1a/V2    3.0               False   \n",
              "78                             Aminopeptidase    2.0               False   \n",
              "\n",
              "   target_chembl_id                                  target_components  \\\n",
              "0      CHEMBL613579                                                 []   \n",
              "1      CHEMBL613638                                                 []   \n",
              "2     CHEMBL4523110  [{'accession': 'D3Z7P3', 'component_descriptio...   \n",
              "3     CHEMBL2146302  [{'accession': 'O94925', 'component_descriptio...   \n",
              "4     CHEMBL4523186  [{'accession': 'P13264', 'component_descriptio...   \n",
              "..              ...                                                ...   \n",
              "74    CHEMBL3243907  [{'accession': 'P97926', 'component_descriptio...   \n",
              "75    CHEMBL3243915  [{'accession': 'Q5D7U5', 'component_descriptio...   \n",
              "76    CHEMBL3414410  [{'accession': 'Q62463', 'component_descriptio...   \n",
              "77    CHEMBL4523980  [{'accession': 'P30518', 'component_descriptio...   \n",
              "78    CHEMBL3831223  [{'accession': 'P15144', 'component_descriptio...   \n",
              "\n",
              "          target_type  tax_id  \n",
              "0              TISSUE   10090  \n",
              "1              TISSUE   10116  \n",
              "2      SINGLE PROTEIN   10090  \n",
              "3      SINGLE PROTEIN    9606  \n",
              "4      SINGLE PROTEIN   10116  \n",
              "..                ...     ...  \n",
              "74     SINGLE PROTEIN   10090  \n",
              "75     SINGLE PROTEIN    9031  \n",
              "76     SINGLE PROTEIN   10090  \n",
              "77  SELECTIVITY GROUP    9606  \n",
              "78     PROTEIN FAMILY    9606  \n",
              "\n",
              "[79 rows x 9 columns]"
            ],
            "text/html": [
              "\n",
              "  <div id=\"df-74215169-572e-472a-8c00-a707d61ac7cf\">\n",
              "    <div class=\"colab-df-container\">\n",
              "      <div>\n",
              "<style scoped>\n",
              "    .dataframe tbody tr th:only-of-type {\n",
              "        vertical-align: middle;\n",
              "    }\n",
              "\n",
              "    .dataframe tbody tr th {\n",
              "        vertical-align: top;\n",
              "    }\n",
              "\n",
              "    .dataframe thead th {\n",
              "        text-align: right;\n",
              "    }\n",
              "</style>\n",
              "<table border=\"1\" class=\"dataframe\">\n",
              "  <thead>\n",
              "    <tr style=\"text-align: right;\">\n",
              "      <th></th>\n",
              "      <th>cross_references</th>\n",
              "      <th>organism</th>\n",
              "      <th>pref_name</th>\n",
              "      <th>score</th>\n",
              "      <th>species_group_flag</th>\n",
              "      <th>target_chembl_id</th>\n",
              "      <th>target_components</th>\n",
              "      <th>target_type</th>\n",
              "      <th>tax_id</th>\n",
              "    </tr>\n",
              "  </thead>\n",
              "  <tbody>\n",
              "    <tr>\n",
              "      <th>0</th>\n",
              "      <td>[]</td>\n",
              "      <td>Mus musculus</td>\n",
              "      <td>Kidney</td>\n",
              "      <td>17.0</td>\n",
              "      <td>False</td>\n",
              "      <td>CHEMBL613579</td>\n",
              "      <td>[]</td>\n",
              "      <td>TISSUE</td>\n",
              "      <td>10090</td>\n",
              "    </tr>\n",
              "    <tr>\n",
              "      <th>1</th>\n",
              "      <td>[]</td>\n",
              "      <td>Rattus norvegicus</td>\n",
              "      <td>Kidney</td>\n",
              "      <td>17.0</td>\n",
              "      <td>False</td>\n",
              "      <td>CHEMBL613638</td>\n",
              "      <td>[]</td>\n",
              "      <td>TISSUE</td>\n",
              "      <td>10116</td>\n",
              "    </tr>\n",
              "    <tr>\n",
              "      <th>2</th>\n",
              "      <td>[]</td>\n",
              "      <td>Mus musculus</td>\n",
              "      <td>Glutaminase kidney isoform, mitochondrial</td>\n",
              "      <td>15.0</td>\n",
              "      <td>False</td>\n",
              "      <td>CHEMBL4523110</td>\n",
              "      <td>[{'accession': 'D3Z7P3', 'component_descriptio...</td>\n",
              "      <td>SINGLE PROTEIN</td>\n",
              "      <td>10090</td>\n",
              "    </tr>\n",
              "    <tr>\n",
              "      <th>3</th>\n",
              "      <td>[]</td>\n",
              "      <td>Homo sapiens</td>\n",
              "      <td>Glutaminase kidney isoform, mitochondrial</td>\n",
              "      <td>14.0</td>\n",
              "      <td>False</td>\n",
              "      <td>CHEMBL2146302</td>\n",
              "      <td>[{'accession': 'O94925', 'component_descriptio...</td>\n",
              "      <td>SINGLE PROTEIN</td>\n",
              "      <td>9606</td>\n",
              "    </tr>\n",
              "    <tr>\n",
              "      <th>4</th>\n",
              "      <td>[]</td>\n",
              "      <td>Rattus norvegicus</td>\n",
              "      <td>Glutaminase kidney isoform, mitochondrial</td>\n",
              "      <td>14.0</td>\n",
              "      <td>False</td>\n",
              "      <td>CHEMBL4523186</td>\n",
              "      <td>[{'accession': 'P13264', 'component_descriptio...</td>\n",
              "      <td>SINGLE PROTEIN</td>\n",
              "      <td>10116</td>\n",
              "    </tr>\n",
              "    <tr>\n",
              "      <th>...</th>\n",
              "      <td>...</td>\n",
              "      <td>...</td>\n",
              "      <td>...</td>\n",
              "      <td>...</td>\n",
              "      <td>...</td>\n",
              "      <td>...</td>\n",
              "      <td>...</td>\n",
              "      <td>...</td>\n",
              "      <td>...</td>\n",
              "    </tr>\n",
              "    <tr>\n",
              "      <th>74</th>\n",
              "      <td>[]</td>\n",
              "      <td>Mus musculus</td>\n",
              "      <td>Oxytocin receptor</td>\n",
              "      <td>3.0</td>\n",
              "      <td>False</td>\n",
              "      <td>CHEMBL3243907</td>\n",
              "      <td>[{'accession': 'P97926', 'component_descriptio...</td>\n",
              "      <td>SINGLE PROTEIN</td>\n",
              "      <td>10090</td>\n",
              "    </tr>\n",
              "    <tr>\n",
              "      <th>75</th>\n",
              "      <td>[]</td>\n",
              "      <td>Gallus gallus</td>\n",
              "      <td>Oxytocin-like receptor</td>\n",
              "      <td>3.0</td>\n",
              "      <td>False</td>\n",
              "      <td>CHEMBL3243915</td>\n",
              "      <td>[{'accession': 'Q5D7U5', 'component_descriptio...</td>\n",
              "      <td>SINGLE PROTEIN</td>\n",
              "      <td>9031</td>\n",
              "    </tr>\n",
              "    <tr>\n",
              "      <th>76</th>\n",
              "      <td>[]</td>\n",
              "      <td>Mus musculus</td>\n",
              "      <td>Vasopressin V1a receptor</td>\n",
              "      <td>3.0</td>\n",
              "      <td>False</td>\n",
              "      <td>CHEMBL3414410</td>\n",
              "      <td>[{'accession': 'Q62463', 'component_descriptio...</td>\n",
              "      <td>SINGLE PROTEIN</td>\n",
              "      <td>10090</td>\n",
              "    </tr>\n",
              "    <tr>\n",
              "      <th>77</th>\n",
              "      <td>[]</td>\n",
              "      <td>Homo sapiens</td>\n",
              "      <td>Vasopressin V1a/V2</td>\n",
              "      <td>3.0</td>\n",
              "      <td>False</td>\n",
              "      <td>CHEMBL4523980</td>\n",
              "      <td>[{'accession': 'P30518', 'component_descriptio...</td>\n",
              "      <td>SELECTIVITY GROUP</td>\n",
              "      <td>9606</td>\n",
              "    </tr>\n",
              "    <tr>\n",
              "      <th>78</th>\n",
              "      <td>[]</td>\n",
              "      <td>Homo sapiens</td>\n",
              "      <td>Aminopeptidase</td>\n",
              "      <td>2.0</td>\n",
              "      <td>False</td>\n",
              "      <td>CHEMBL3831223</td>\n",
              "      <td>[{'accession': 'P15144', 'component_descriptio...</td>\n",
              "      <td>PROTEIN FAMILY</td>\n",
              "      <td>9606</td>\n",
              "    </tr>\n",
              "  </tbody>\n",
              "</table>\n",
              "<p>79 rows × 9 columns</p>\n",
              "</div>\n",
              "      <button class=\"colab-df-convert\" onclick=\"convertToInteractive('df-74215169-572e-472a-8c00-a707d61ac7cf')\"\n",
              "              title=\"Convert this dataframe to an interactive table.\"\n",
              "              style=\"display:none;\">\n",
              "        \n",
              "  <svg xmlns=\"http://www.w3.org/2000/svg\" height=\"24px\"viewBox=\"0 0 24 24\"\n",
              "       width=\"24px\">\n",
              "    <path d=\"M0 0h24v24H0V0z\" fill=\"none\"/>\n",
              "    <path d=\"M18.56 5.44l.94 2.06.94-2.06 2.06-.94-2.06-.94-.94-2.06-.94 2.06-2.06.94zm-11 1L8.5 8.5l.94-2.06 2.06-.94-2.06-.94L8.5 2.5l-.94 2.06-2.06.94zm10 10l.94 2.06.94-2.06 2.06-.94-2.06-.94-.94-2.06-.94 2.06-2.06.94z\"/><path d=\"M17.41 7.96l-1.37-1.37c-.4-.4-.92-.59-1.43-.59-.52 0-1.04.2-1.43.59L10.3 9.45l-7.72 7.72c-.78.78-.78 2.05 0 2.83L4 21.41c.39.39.9.59 1.41.59.51 0 1.02-.2 1.41-.59l7.78-7.78 2.81-2.81c.8-.78.8-2.07 0-2.86zM5.41 20L4 18.59l7.72-7.72 1.47 1.35L5.41 20z\"/>\n",
              "  </svg>\n",
              "      </button>\n",
              "      \n",
              "  <style>\n",
              "    .colab-df-container {\n",
              "      display:flex;\n",
              "      flex-wrap:wrap;\n",
              "      gap: 12px;\n",
              "    }\n",
              "\n",
              "    .colab-df-convert {\n",
              "      background-color: #E8F0FE;\n",
              "      border: none;\n",
              "      border-radius: 50%;\n",
              "      cursor: pointer;\n",
              "      display: none;\n",
              "      fill: #1967D2;\n",
              "      height: 32px;\n",
              "      padding: 0 0 0 0;\n",
              "      width: 32px;\n",
              "    }\n",
              "\n",
              "    .colab-df-convert:hover {\n",
              "      background-color: #E2EBFA;\n",
              "      box-shadow: 0px 1px 2px rgba(60, 64, 67, 0.3), 0px 1px 3px 1px rgba(60, 64, 67, 0.15);\n",
              "      fill: #174EA6;\n",
              "    }\n",
              "\n",
              "    [theme=dark] .colab-df-convert {\n",
              "      background-color: #3B4455;\n",
              "      fill: #D2E3FC;\n",
              "    }\n",
              "\n",
              "    [theme=dark] .colab-df-convert:hover {\n",
              "      background-color: #434B5C;\n",
              "      box-shadow: 0px 1px 3px 1px rgba(0, 0, 0, 0.15);\n",
              "      filter: drop-shadow(0px 1px 2px rgba(0, 0, 0, 0.3));\n",
              "      fill: #FFFFFF;\n",
              "    }\n",
              "  </style>\n",
              "\n",
              "      <script>\n",
              "        const buttonEl =\n",
              "          document.querySelector('#df-74215169-572e-472a-8c00-a707d61ac7cf button.colab-df-convert');\n",
              "        buttonEl.style.display =\n",
              "          google.colab.kernel.accessAllowed ? 'block' : 'none';\n",
              "\n",
              "        async function convertToInteractive(key) {\n",
              "          const element = document.querySelector('#df-74215169-572e-472a-8c00-a707d61ac7cf');\n",
              "          const dataTable =\n",
              "            await google.colab.kernel.invokeFunction('convertToInteractive',\n",
              "                                                     [key], {});\n",
              "          if (!dataTable) return;\n",
              "\n",
              "          const docLinkHtml = 'Like what you see? Visit the ' +\n",
              "            '<a target=\"_blank\" href=https://colab.research.google.com/notebooks/data_table.ipynb>data table notebook</a>'\n",
              "            + ' to learn more about interactive tables.';\n",
              "          element.innerHTML = '';\n",
              "          dataTable['output_type'] = 'display_data';\n",
              "          await google.colab.output.renderOutput(dataTable, element);\n",
              "          const docLink = document.createElement('div');\n",
              "          docLink.innerHTML = docLinkHtml;\n",
              "          element.appendChild(docLink);\n",
              "        }\n",
              "      </script>\n",
              "    </div>\n",
              "  </div>\n",
              "  "
            ]
          },
          "metadata": {},
          "execution_count": 4
        }
      ],
      "source": [
        "target_result"
      ]
    },
    {
      "cell_type": "code",
      "execution_count": 5,
      "metadata": {
        "colab": {
          "base_uri": "https://localhost:8080/",
          "height": 36
        },
        "id": "Th0_EaNCml_t",
        "outputId": "6794ea34-3d11-40b3-ab2e-5937fb616d5c"
      },
      "outputs": [
        {
          "output_type": "execute_result",
          "data": {
            "text/plain": [
              "'CHEMBL2146302'"
            ],
            "application/vnd.google.colaboratory.intrinsic+json": {
              "type": "string"
            }
          },
          "metadata": {},
          "execution_count": 5
        }
      ],
      "source": [
        "selected_target1 = target_result.target_chembl_id[3]\n",
        "selected_target1"
      ]
    },
    {
      "cell_type": "code",
      "execution_count": 6,
      "metadata": {
        "id": "bBK0Rg1zm9x0"
      },
      "outputs": [],
      "source": [
        "activity1 = new_client.activity\n",
        "res = activity1.filter(target_chembl_id=selected_target1).filter(standard_type='IC50')\n",
        "df1 = pd.DataFrame.from_dict(res)"
      ]
    },
    {
      "cell_type": "code",
      "execution_count": 7,
      "metadata": {
        "colab": {
          "base_uri": "https://localhost:8080/",
          "height": 341
        },
        "id": "4Qjf8ZgInaIS",
        "outputId": "c8d90a56-231a-40d2-87b8-e72299f89097"
      },
      "outputs": [
        {
          "output_type": "execute_result",
          "data": {
            "text/plain": [
              "  activity_comment  activity_id activity_properties assay_chembl_id  \\\n",
              "0             None     12142692                  []   CHEMBL2189067   \n",
              "1             None     12142693                  []   CHEMBL2189067   \n",
              "2             None     12142694                  []   CHEMBL2189067   \n",
              "\n",
              "                                   assay_description assay_type  \\\n",
              "0  Inhibition of human kidney glutaminase (124 to...          B   \n",
              "1  Inhibition of human kidney glutaminase (124 to...          B   \n",
              "2  Inhibition of human kidney glutaminase (124 to...          B   \n",
              "\n",
              "  assay_variant_accession assay_variant_mutation bao_endpoint   bao_format  \\\n",
              "0                    None                   None  BAO_0000190  BAO_0000357   \n",
              "1                    None                   None  BAO_0000190  BAO_0000357   \n",
              "2                    None                   None  BAO_0000190  BAO_0000357   \n",
              "\n",
              "   ... target_organism                           target_pref_name  \\\n",
              "0  ...    Homo sapiens  Glutaminase kidney isoform, mitochondrial   \n",
              "1  ...    Homo sapiens  Glutaminase kidney isoform, mitochondrial   \n",
              "2  ...    Homo sapiens  Glutaminase kidney isoform, mitochondrial   \n",
              "\n",
              "  target_tax_id text_value  toid  type  units    uo_units upper_value  value  \n",
              "0          9606       None  None  IC50     uM  UO_0000065        None  100.0  \n",
              "1          9606       None  None  IC50     uM  UO_0000065        None   48.0  \n",
              "2          9606       None  None  IC50     uM  UO_0000065        None  100.0  \n",
              "\n",
              "[3 rows x 45 columns]"
            ],
            "text/html": [
              "\n",
              "  <div id=\"df-51fed153-b212-44a8-a50f-128de7633052\">\n",
              "    <div class=\"colab-df-container\">\n",
              "      <div>\n",
              "<style scoped>\n",
              "    .dataframe tbody tr th:only-of-type {\n",
              "        vertical-align: middle;\n",
              "    }\n",
              "\n",
              "    .dataframe tbody tr th {\n",
              "        vertical-align: top;\n",
              "    }\n",
              "\n",
              "    .dataframe thead th {\n",
              "        text-align: right;\n",
              "    }\n",
              "</style>\n",
              "<table border=\"1\" class=\"dataframe\">\n",
              "  <thead>\n",
              "    <tr style=\"text-align: right;\">\n",
              "      <th></th>\n",
              "      <th>activity_comment</th>\n",
              "      <th>activity_id</th>\n",
              "      <th>activity_properties</th>\n",
              "      <th>assay_chembl_id</th>\n",
              "      <th>assay_description</th>\n",
              "      <th>assay_type</th>\n",
              "      <th>assay_variant_accession</th>\n",
              "      <th>assay_variant_mutation</th>\n",
              "      <th>bao_endpoint</th>\n",
              "      <th>bao_format</th>\n",
              "      <th>...</th>\n",
              "      <th>target_organism</th>\n",
              "      <th>target_pref_name</th>\n",
              "      <th>target_tax_id</th>\n",
              "      <th>text_value</th>\n",
              "      <th>toid</th>\n",
              "      <th>type</th>\n",
              "      <th>units</th>\n",
              "      <th>uo_units</th>\n",
              "      <th>upper_value</th>\n",
              "      <th>value</th>\n",
              "    </tr>\n",
              "  </thead>\n",
              "  <tbody>\n",
              "    <tr>\n",
              "      <th>0</th>\n",
              "      <td>None</td>\n",
              "      <td>12142692</td>\n",
              "      <td>[]</td>\n",
              "      <td>CHEMBL2189067</td>\n",
              "      <td>Inhibition of human kidney glutaminase (124 to...</td>\n",
              "      <td>B</td>\n",
              "      <td>None</td>\n",
              "      <td>None</td>\n",
              "      <td>BAO_0000190</td>\n",
              "      <td>BAO_0000357</td>\n",
              "      <td>...</td>\n",
              "      <td>Homo sapiens</td>\n",
              "      <td>Glutaminase kidney isoform, mitochondrial</td>\n",
              "      <td>9606</td>\n",
              "      <td>None</td>\n",
              "      <td>None</td>\n",
              "      <td>IC50</td>\n",
              "      <td>uM</td>\n",
              "      <td>UO_0000065</td>\n",
              "      <td>None</td>\n",
              "      <td>100.0</td>\n",
              "    </tr>\n",
              "    <tr>\n",
              "      <th>1</th>\n",
              "      <td>None</td>\n",
              "      <td>12142693</td>\n",
              "      <td>[]</td>\n",
              "      <td>CHEMBL2189067</td>\n",
              "      <td>Inhibition of human kidney glutaminase (124 to...</td>\n",
              "      <td>B</td>\n",
              "      <td>None</td>\n",
              "      <td>None</td>\n",
              "      <td>BAO_0000190</td>\n",
              "      <td>BAO_0000357</td>\n",
              "      <td>...</td>\n",
              "      <td>Homo sapiens</td>\n",
              "      <td>Glutaminase kidney isoform, mitochondrial</td>\n",
              "      <td>9606</td>\n",
              "      <td>None</td>\n",
              "      <td>None</td>\n",
              "      <td>IC50</td>\n",
              "      <td>uM</td>\n",
              "      <td>UO_0000065</td>\n",
              "      <td>None</td>\n",
              "      <td>48.0</td>\n",
              "    </tr>\n",
              "    <tr>\n",
              "      <th>2</th>\n",
              "      <td>None</td>\n",
              "      <td>12142694</td>\n",
              "      <td>[]</td>\n",
              "      <td>CHEMBL2189067</td>\n",
              "      <td>Inhibition of human kidney glutaminase (124 to...</td>\n",
              "      <td>B</td>\n",
              "      <td>None</td>\n",
              "      <td>None</td>\n",
              "      <td>BAO_0000190</td>\n",
              "      <td>BAO_0000357</td>\n",
              "      <td>...</td>\n",
              "      <td>Homo sapiens</td>\n",
              "      <td>Glutaminase kidney isoform, mitochondrial</td>\n",
              "      <td>9606</td>\n",
              "      <td>None</td>\n",
              "      <td>None</td>\n",
              "      <td>IC50</td>\n",
              "      <td>uM</td>\n",
              "      <td>UO_0000065</td>\n",
              "      <td>None</td>\n",
              "      <td>100.0</td>\n",
              "    </tr>\n",
              "  </tbody>\n",
              "</table>\n",
              "<p>3 rows × 45 columns</p>\n",
              "</div>\n",
              "      <button class=\"colab-df-convert\" onclick=\"convertToInteractive('df-51fed153-b212-44a8-a50f-128de7633052')\"\n",
              "              title=\"Convert this dataframe to an interactive table.\"\n",
              "              style=\"display:none;\">\n",
              "        \n",
              "  <svg xmlns=\"http://www.w3.org/2000/svg\" height=\"24px\"viewBox=\"0 0 24 24\"\n",
              "       width=\"24px\">\n",
              "    <path d=\"M0 0h24v24H0V0z\" fill=\"none\"/>\n",
              "    <path d=\"M18.56 5.44l.94 2.06.94-2.06 2.06-.94-2.06-.94-.94-2.06-.94 2.06-2.06.94zm-11 1L8.5 8.5l.94-2.06 2.06-.94-2.06-.94L8.5 2.5l-.94 2.06-2.06.94zm10 10l.94 2.06.94-2.06 2.06-.94-2.06-.94-.94-2.06-.94 2.06-2.06.94z\"/><path d=\"M17.41 7.96l-1.37-1.37c-.4-.4-.92-.59-1.43-.59-.52 0-1.04.2-1.43.59L10.3 9.45l-7.72 7.72c-.78.78-.78 2.05 0 2.83L4 21.41c.39.39.9.59 1.41.59.51 0 1.02-.2 1.41-.59l7.78-7.78 2.81-2.81c.8-.78.8-2.07 0-2.86zM5.41 20L4 18.59l7.72-7.72 1.47 1.35L5.41 20z\"/>\n",
              "  </svg>\n",
              "      </button>\n",
              "      \n",
              "  <style>\n",
              "    .colab-df-container {\n",
              "      display:flex;\n",
              "      flex-wrap:wrap;\n",
              "      gap: 12px;\n",
              "    }\n",
              "\n",
              "    .colab-df-convert {\n",
              "      background-color: #E8F0FE;\n",
              "      border: none;\n",
              "      border-radius: 50%;\n",
              "      cursor: pointer;\n",
              "      display: none;\n",
              "      fill: #1967D2;\n",
              "      height: 32px;\n",
              "      padding: 0 0 0 0;\n",
              "      width: 32px;\n",
              "    }\n",
              "\n",
              "    .colab-df-convert:hover {\n",
              "      background-color: #E2EBFA;\n",
              "      box-shadow: 0px 1px 2px rgba(60, 64, 67, 0.3), 0px 1px 3px 1px rgba(60, 64, 67, 0.15);\n",
              "      fill: #174EA6;\n",
              "    }\n",
              "\n",
              "    [theme=dark] .colab-df-convert {\n",
              "      background-color: #3B4455;\n",
              "      fill: #D2E3FC;\n",
              "    }\n",
              "\n",
              "    [theme=dark] .colab-df-convert:hover {\n",
              "      background-color: #434B5C;\n",
              "      box-shadow: 0px 1px 3px 1px rgba(0, 0, 0, 0.15);\n",
              "      filter: drop-shadow(0px 1px 2px rgba(0, 0, 0, 0.3));\n",
              "      fill: #FFFFFF;\n",
              "    }\n",
              "  </style>\n",
              "\n",
              "      <script>\n",
              "        const buttonEl =\n",
              "          document.querySelector('#df-51fed153-b212-44a8-a50f-128de7633052 button.colab-df-convert');\n",
              "        buttonEl.style.display =\n",
              "          google.colab.kernel.accessAllowed ? 'block' : 'none';\n",
              "\n",
              "        async function convertToInteractive(key) {\n",
              "          const element = document.querySelector('#df-51fed153-b212-44a8-a50f-128de7633052');\n",
              "          const dataTable =\n",
              "            await google.colab.kernel.invokeFunction('convertToInteractive',\n",
              "                                                     [key], {});\n",
              "          if (!dataTable) return;\n",
              "\n",
              "          const docLinkHtml = 'Like what you see? Visit the ' +\n",
              "            '<a target=\"_blank\" href=https://colab.research.google.com/notebooks/data_table.ipynb>data table notebook</a>'\n",
              "            + ' to learn more about interactive tables.';\n",
              "          element.innerHTML = '';\n",
              "          dataTable['output_type'] = 'display_data';\n",
              "          await google.colab.output.renderOutput(dataTable, element);\n",
              "          const docLink = document.createElement('div');\n",
              "          docLink.innerHTML = docLinkHtml;\n",
              "          element.appendChild(docLink);\n",
              "        }\n",
              "      </script>\n",
              "    </div>\n",
              "  </div>\n",
              "  "
            ]
          },
          "metadata": {},
          "execution_count": 7
        }
      ],
      "source": [
        "df1.head(3)"
      ]
    },
    {
      "cell_type": "markdown",
      "metadata": {
        "id": "DrATmarmCixN"
      },
      "source": [
        "### Only Selecting the required Columns"
      ]
    },
    {
      "cell_type": "code",
      "execution_count": 8,
      "metadata": {
        "id": "CLtBKBiPpHtI"
      },
      "outputs": [],
      "source": [
        "columns = ['canonical_smiles','molecule_chembl_id','standard_value']"
      ]
    },
    {
      "cell_type": "code",
      "execution_count": 9,
      "metadata": {
        "id": "PFeqBDQ1quLX"
      },
      "outputs": [],
      "source": [
        "df1_selected = df1[columns]"
      ]
    },
    {
      "cell_type": "code",
      "execution_count": 10,
      "metadata": {
        "colab": {
          "base_uri": "https://localhost:8080/"
        },
        "id": "80rkMAU2qzm_",
        "outputId": "916970ab-382b-4a17-b78b-acf638514688"
      },
      "outputs": [
        {
          "output_type": "execute_result",
          "data": {
            "text/plain": [
              "1125"
            ]
          },
          "metadata": {},
          "execution_count": 10
        }
      ],
      "source": [
        "len(df1_selected)"
      ]
    },
    {
      "cell_type": "markdown",
      "metadata": {
        "id": "dgnR3oetCpsd"
      },
      "source": [
        "### Fixing Missing Values\n",
        "* For that I am using mean() of the column `standard_value`\n",
        "* For values greater than `100000000` I am going to limit it to `100000000` so after converting to log value it will not show any negative value\n",
        "* Then we will finally apply to convert all `standard_value` to log of `standard_value` so it will fix high deviation and outliers(most of them atleast)"
      ]
    },
    {
      "cell_type": "code",
      "execution_count": 11,
      "metadata": {
        "colab": {
          "base_uri": "https://localhost:8080/"
        },
        "id": "9o9FsQYn_KXS",
        "outputId": "d7c689bc-ca9f-403b-f8d8-647450eec7bf"
      },
      "outputs": [
        {
          "output_type": "execute_result",
          "data": {
            "text/plain": [
              "canonical_smiles      0\n",
              "molecule_chembl_id    0\n",
              "standard_value        1\n",
              "dtype: int64"
            ]
          },
          "metadata": {},
          "execution_count": 11
        }
      ],
      "source": [
        "df1_selected.isnull().sum()"
      ]
    },
    {
      "cell_type": "code",
      "execution_count": 12,
      "metadata": {
        "colab": {
          "base_uri": "https://localhost:8080/"
        },
        "id": "FGo6k6tUFHBl",
        "outputId": "20c9573a-db79-42ca-83fa-dd2a88075d06"
      },
      "outputs": [
        {
          "output_type": "execute_result",
          "data": {
            "text/plain": [
              "dtype('O')"
            ]
          },
          "metadata": {},
          "execution_count": 12
        }
      ],
      "source": [
        "df1_selected['standard_value'].dtype"
      ]
    },
    {
      "cell_type": "code",
      "execution_count": 13,
      "metadata": {
        "colab": {
          "base_uri": "https://localhost:8080/"
        },
        "id": "WqXY73DcFNnG",
        "outputId": "f59cfaf8-d5e6-4b3f-a160-a9a6100a3371"
      },
      "outputs": [
        {
          "output_type": "stream",
          "name": "stderr",
          "text": [
            "<ipython-input-13-3a9a20ee965c>:1: SettingWithCopyWarning: \n",
            "A value is trying to be set on a copy of a slice from a DataFrame.\n",
            "Try using .loc[row_indexer,col_indexer] = value instead\n",
            "\n",
            "See the caveats in the documentation: https://pandas.pydata.org/pandas-docs/stable/user_guide/indexing.html#returning-a-view-versus-a-copy\n",
            "  df1_selected['standard_value'] = df1_selected['standard_value'].astype(float)\n"
          ]
        }
      ],
      "source": [
        "df1_selected['standard_value'] = df1_selected['standard_value'].astype(float)"
      ]
    },
    {
      "cell_type": "code",
      "execution_count": 14,
      "metadata": {
        "colab": {
          "base_uri": "https://localhost:8080/"
        },
        "id": "Cz3skoIsGwnx",
        "outputId": "6e429004-bb71-46e4-8872-18267f792d81"
      },
      "outputs": [
        {
          "output_type": "execute_result",
          "data": {
            "text/plain": [
              "dtype('float64')"
            ]
          },
          "metadata": {},
          "execution_count": 14
        }
      ],
      "source": [
        "df1_selected['standard_value'].dtype"
      ]
    },
    {
      "cell_type": "code",
      "execution_count": 15,
      "metadata": {
        "colab": {
          "base_uri": "https://localhost:8080/"
        },
        "id": "6KWIIbNHGyUY",
        "outputId": "db27c709-c05c-438c-fa23-31f2665ae51d"
      },
      "outputs": [
        {
          "output_type": "execute_result",
          "data": {
            "text/plain": [
              "0    100000.0\n",
              "1     48000.0\n",
              "2    100000.0\n",
              "Name: standard_value, dtype: float64"
            ]
          },
          "metadata": {},
          "execution_count": 15
        }
      ],
      "source": [
        "df1_selected['standard_value'].head(3)"
      ]
    },
    {
      "cell_type": "code",
      "execution_count": 16,
      "metadata": {
        "colab": {
          "base_uri": "https://localhost:8080/"
        },
        "id": "ikp-6_CYD__h",
        "outputId": "7ca927b6-7e00-4368-d28e-1027b4075ea3"
      },
      "outputs": [
        {
          "output_type": "stream",
          "name": "stderr",
          "text": [
            "/usr/local/lib/python3.9/dist-packages/pandas/core/generic.py:6392: SettingWithCopyWarning: \n",
            "A value is trying to be set on a copy of a slice from a DataFrame\n",
            "\n",
            "See the caveats in the documentation: https://pandas.pydata.org/pandas-docs/stable/user_guide/indexing.html#returning-a-view-versus-a-copy\n",
            "  return self._update_inplace(result)\n"
          ]
        }
      ],
      "source": [
        "try:\n",
        "  df1_selected['standard_value'].fillna(df1_selected['standard_value'].mean(),inplace=True)\n",
        "except:\n",
        "  pass"
      ]
    },
    {
      "cell_type": "code",
      "execution_count": 17,
      "metadata": {
        "colab": {
          "base_uri": "https://localhost:8080/"
        },
        "id": "eNLa9BMlG7m-",
        "outputId": "718d8c89-2a5d-4559-88d8-d73d299fa3e9"
      },
      "outputs": [
        {
          "output_type": "execute_result",
          "data": {
            "text/plain": [
              "canonical_smiles      0\n",
              "molecule_chembl_id    0\n",
              "standard_value        0\n",
              "dtype: int64"
            ]
          },
          "metadata": {},
          "execution_count": 17
        }
      ],
      "source": [
        "df1_selected.isnull().sum()"
      ]
    },
    {
      "cell_type": "code",
      "source": [
        "if df1_selected['canonical_smiles'].isnull().sum() > 0:\n",
        "  df1_selected = df1_selected.dropna(axis=0)"
      ],
      "metadata": {
        "id": "w6OuSa28LXSb"
      },
      "execution_count": 18,
      "outputs": []
    },
    {
      "cell_type": "code",
      "execution_count": 19,
      "metadata": {
        "colab": {
          "base_uri": "https://localhost:8080/"
        },
        "id": "rmqo_ox6kNMl",
        "outputId": "a4504b47-9174-47bf-f4e4-9946b0d0a498"
      },
      "outputs": [
        {
          "output_type": "execute_result",
          "data": {
            "text/plain": [
              "1125"
            ]
          },
          "metadata": {},
          "execution_count": 19
        }
      ],
      "source": [
        "len(df1_selected)"
      ]
    },
    {
      "cell_type": "code",
      "execution_count": 20,
      "metadata": {
        "id": "oNCK36zHHHTl"
      },
      "outputs": [],
      "source": [
        "def norm_val(data):\n",
        "  for i in data['standard_value']:\n",
        "    if i > 100000000:\n",
        "      data['standard_value'] = data['standard_value'].replace(i,100000000)\n",
        "  return data['standard_value']"
      ]
    },
    {
      "cell_type": "code",
      "execution_count": 21,
      "metadata": {
        "id": "6lH8Rv9cHHQv"
      },
      "outputs": [],
      "source": [
        "def convert_log(data):\n",
        "  pIC50 = []\n",
        "  for i in data['standard_value']:\n",
        "    data['standard_value'] = data['standard_value'].replace(i,-np.log10(i*(10**-9)))\n",
        "  return data['standard_value']"
      ]
    },
    {
      "cell_type": "code",
      "execution_count": 22,
      "metadata": {
        "colab": {
          "base_uri": "https://localhost:8080/",
          "height": 300
        },
        "id": "jsxKZUxyRW3A",
        "outputId": "bb7cd2fa-0c99-47ca-a3c6-8d6ca148dbb1"
      },
      "outputs": [
        {
          "output_type": "execute_result",
          "data": {
            "text/plain": [
              "       standard_value\n",
              "count     1125.000000\n",
              "mean      5405.407034\n",
              "std      14986.586118\n",
              "min          0.100000\n",
              "25%         19.000000\n",
              "50%        160.000000\n",
              "75%       1800.000000\n",
              "max     100000.000000"
            ],
            "text/html": [
              "\n",
              "  <div id=\"df-cbccba58-c1f9-4634-a9f6-b5fc4e712a44\">\n",
              "    <div class=\"colab-df-container\">\n",
              "      <div>\n",
              "<style scoped>\n",
              "    .dataframe tbody tr th:only-of-type {\n",
              "        vertical-align: middle;\n",
              "    }\n",
              "\n",
              "    .dataframe tbody tr th {\n",
              "        vertical-align: top;\n",
              "    }\n",
              "\n",
              "    .dataframe thead th {\n",
              "        text-align: right;\n",
              "    }\n",
              "</style>\n",
              "<table border=\"1\" class=\"dataframe\">\n",
              "  <thead>\n",
              "    <tr style=\"text-align: right;\">\n",
              "      <th></th>\n",
              "      <th>standard_value</th>\n",
              "    </tr>\n",
              "  </thead>\n",
              "  <tbody>\n",
              "    <tr>\n",
              "      <th>count</th>\n",
              "      <td>1125.000000</td>\n",
              "    </tr>\n",
              "    <tr>\n",
              "      <th>mean</th>\n",
              "      <td>5405.407034</td>\n",
              "    </tr>\n",
              "    <tr>\n",
              "      <th>std</th>\n",
              "      <td>14986.586118</td>\n",
              "    </tr>\n",
              "    <tr>\n",
              "      <th>min</th>\n",
              "      <td>0.100000</td>\n",
              "    </tr>\n",
              "    <tr>\n",
              "      <th>25%</th>\n",
              "      <td>19.000000</td>\n",
              "    </tr>\n",
              "    <tr>\n",
              "      <th>50%</th>\n",
              "      <td>160.000000</td>\n",
              "    </tr>\n",
              "    <tr>\n",
              "      <th>75%</th>\n",
              "      <td>1800.000000</td>\n",
              "    </tr>\n",
              "    <tr>\n",
              "      <th>max</th>\n",
              "      <td>100000.000000</td>\n",
              "    </tr>\n",
              "  </tbody>\n",
              "</table>\n",
              "</div>\n",
              "      <button class=\"colab-df-convert\" onclick=\"convertToInteractive('df-cbccba58-c1f9-4634-a9f6-b5fc4e712a44')\"\n",
              "              title=\"Convert this dataframe to an interactive table.\"\n",
              "              style=\"display:none;\">\n",
              "        \n",
              "  <svg xmlns=\"http://www.w3.org/2000/svg\" height=\"24px\"viewBox=\"0 0 24 24\"\n",
              "       width=\"24px\">\n",
              "    <path d=\"M0 0h24v24H0V0z\" fill=\"none\"/>\n",
              "    <path d=\"M18.56 5.44l.94 2.06.94-2.06 2.06-.94-2.06-.94-.94-2.06-.94 2.06-2.06.94zm-11 1L8.5 8.5l.94-2.06 2.06-.94-2.06-.94L8.5 2.5l-.94 2.06-2.06.94zm10 10l.94 2.06.94-2.06 2.06-.94-2.06-.94-.94-2.06-.94 2.06-2.06.94z\"/><path d=\"M17.41 7.96l-1.37-1.37c-.4-.4-.92-.59-1.43-.59-.52 0-1.04.2-1.43.59L10.3 9.45l-7.72 7.72c-.78.78-.78 2.05 0 2.83L4 21.41c.39.39.9.59 1.41.59.51 0 1.02-.2 1.41-.59l7.78-7.78 2.81-2.81c.8-.78.8-2.07 0-2.86zM5.41 20L4 18.59l7.72-7.72 1.47 1.35L5.41 20z\"/>\n",
              "  </svg>\n",
              "      </button>\n",
              "      \n",
              "  <style>\n",
              "    .colab-df-container {\n",
              "      display:flex;\n",
              "      flex-wrap:wrap;\n",
              "      gap: 12px;\n",
              "    }\n",
              "\n",
              "    .colab-df-convert {\n",
              "      background-color: #E8F0FE;\n",
              "      border: none;\n",
              "      border-radius: 50%;\n",
              "      cursor: pointer;\n",
              "      display: none;\n",
              "      fill: #1967D2;\n",
              "      height: 32px;\n",
              "      padding: 0 0 0 0;\n",
              "      width: 32px;\n",
              "    }\n",
              "\n",
              "    .colab-df-convert:hover {\n",
              "      background-color: #E2EBFA;\n",
              "      box-shadow: 0px 1px 2px rgba(60, 64, 67, 0.3), 0px 1px 3px 1px rgba(60, 64, 67, 0.15);\n",
              "      fill: #174EA6;\n",
              "    }\n",
              "\n",
              "    [theme=dark] .colab-df-convert {\n",
              "      background-color: #3B4455;\n",
              "      fill: #D2E3FC;\n",
              "    }\n",
              "\n",
              "    [theme=dark] .colab-df-convert:hover {\n",
              "      background-color: #434B5C;\n",
              "      box-shadow: 0px 1px 3px 1px rgba(0, 0, 0, 0.15);\n",
              "      filter: drop-shadow(0px 1px 2px rgba(0, 0, 0, 0.3));\n",
              "      fill: #FFFFFF;\n",
              "    }\n",
              "  </style>\n",
              "\n",
              "      <script>\n",
              "        const buttonEl =\n",
              "          document.querySelector('#df-cbccba58-c1f9-4634-a9f6-b5fc4e712a44 button.colab-df-convert');\n",
              "        buttonEl.style.display =\n",
              "          google.colab.kernel.accessAllowed ? 'block' : 'none';\n",
              "\n",
              "        async function convertToInteractive(key) {\n",
              "          const element = document.querySelector('#df-cbccba58-c1f9-4634-a9f6-b5fc4e712a44');\n",
              "          const dataTable =\n",
              "            await google.colab.kernel.invokeFunction('convertToInteractive',\n",
              "                                                     [key], {});\n",
              "          if (!dataTable) return;\n",
              "\n",
              "          const docLinkHtml = 'Like what you see? Visit the ' +\n",
              "            '<a target=\"_blank\" href=https://colab.research.google.com/notebooks/data_table.ipynb>data table notebook</a>'\n",
              "            + ' to learn more about interactive tables.';\n",
              "          element.innerHTML = '';\n",
              "          dataTable['output_type'] = 'display_data';\n",
              "          await google.colab.output.renderOutput(dataTable, element);\n",
              "          const docLink = document.createElement('div');\n",
              "          docLink.innerHTML = docLinkHtml;\n",
              "          element.appendChild(docLink);\n",
              "        }\n",
              "      </script>\n",
              "    </div>\n",
              "  </div>\n",
              "  "
            ]
          },
          "metadata": {},
          "execution_count": 22
        }
      ],
      "source": [
        "df1_selected.describe()"
      ]
    },
    {
      "cell_type": "code",
      "execution_count": 23,
      "metadata": {
        "id": "LHWkqZ7xRXgV",
        "colab": {
          "base_uri": "https://localhost:8080/"
        },
        "outputId": "17de0e06-6081-470a-f079-9f1d4b9090e7"
      },
      "outputs": [
        {
          "output_type": "stream",
          "name": "stderr",
          "text": [
            "<ipython-input-23-1651fe78b754>:1: SettingWithCopyWarning: \n",
            "A value is trying to be set on a copy of a slice from a DataFrame.\n",
            "Try using .loc[row_indexer,col_indexer] = value instead\n",
            "\n",
            "See the caveats in the documentation: https://pandas.pydata.org/pandas-docs/stable/user_guide/indexing.html#returning-a-view-versus-a-copy\n",
            "  df1_selected['standard_value'] = norm_val(df1_selected)\n"
          ]
        }
      ],
      "source": [
        "df1_selected['standard_value'] = norm_val(df1_selected)"
      ]
    },
    {
      "cell_type": "code",
      "execution_count": 24,
      "metadata": {
        "id": "0l4eQ2d0RW5r",
        "colab": {
          "base_uri": "https://localhost:8080/"
        },
        "outputId": "0dd4050a-d7eb-404d-91d7-ef151ab946b7"
      },
      "outputs": [
        {
          "output_type": "stream",
          "name": "stderr",
          "text": [
            "<ipython-input-21-31a96a23224e>:4: SettingWithCopyWarning: \n",
            "A value is trying to be set on a copy of a slice from a DataFrame.\n",
            "Try using .loc[row_indexer,col_indexer] = value instead\n",
            "\n",
            "See the caveats in the documentation: https://pandas.pydata.org/pandas-docs/stable/user_guide/indexing.html#returning-a-view-versus-a-copy\n",
            "  data['standard_value'] = data['standard_value'].replace(i,-np.log10(i*(10**-9)))\n",
            "<ipython-input-24-dc51576c3f0d>:1: SettingWithCopyWarning: \n",
            "A value is trying to be set on a copy of a slice from a DataFrame.\n",
            "Try using .loc[row_indexer,col_indexer] = value instead\n",
            "\n",
            "See the caveats in the documentation: https://pandas.pydata.org/pandas-docs/stable/user_guide/indexing.html#returning-a-view-versus-a-copy\n",
            "  df1_selected['standard_value'] = convert_log(df1_selected)\n"
          ]
        }
      ],
      "source": [
        "df1_selected['standard_value'] = convert_log(df1_selected)"
      ]
    },
    {
      "cell_type": "code",
      "execution_count": 25,
      "metadata": {
        "colab": {
          "base_uri": "https://localhost:8080/"
        },
        "id": "PhE3hhyaSWtK",
        "outputId": "5252640e-a1d8-4d3c-f372-f54525a4be3f"
      },
      "outputs": [
        {
          "output_type": "execute_result",
          "data": {
            "text/plain": [
              "0    8.091947\n",
              "1    4.318759\n",
              "2    8.091947\n",
              "3    5.283997\n",
              "4    8.080679\n",
              "Name: standard_value, dtype: float64"
            ]
          },
          "metadata": {},
          "execution_count": 25
        }
      ],
      "source": [
        "df1_selected['standard_value'].head()"
      ]
    },
    {
      "cell_type": "code",
      "execution_count": 26,
      "metadata": {
        "colab": {
          "base_uri": "https://localhost:8080/"
        },
        "id": "kiJ3cXvQTPeO",
        "outputId": "e836af7d-a1aa-4935-d525-ece95d5f3e55"
      },
      "outputs": [
        {
          "output_type": "execute_result",
          "data": {
            "text/plain": [
              "canonical_smiles      0\n",
              "molecule_chembl_id    0\n",
              "standard_value        0\n",
              "dtype: int64"
            ]
          },
          "metadata": {},
          "execution_count": 26
        }
      ],
      "source": [
        "df1_selected.isnull().sum()"
      ]
    },
    {
      "cell_type": "code",
      "execution_count": 27,
      "metadata": {
        "id": "HEca_Uxkkg5M",
        "colab": {
          "base_uri": "https://localhost:8080/"
        },
        "outputId": "818beffa-06cd-4ac3-ecd2-9c5e5d765232"
      },
      "outputs": [
        {
          "output_type": "stream",
          "name": "stderr",
          "text": [
            "/usr/local/lib/python3.9/dist-packages/pandas/core/frame.py:5238: SettingWithCopyWarning: \n",
            "A value is trying to be set on a copy of a slice from a DataFrame\n",
            "\n",
            "See the caveats in the documentation: https://pandas.pydata.org/pandas-docs/stable/user_guide/indexing.html#returning-a-view-versus-a-copy\n",
            "  return super().replace(\n",
            "/usr/local/lib/python3.9/dist-packages/pandas/core/generic.py:6392: SettingWithCopyWarning: \n",
            "A value is trying to be set on a copy of a slice from a DataFrame\n",
            "\n",
            "See the caveats in the documentation: https://pandas.pydata.org/pandas-docs/stable/user_guide/indexing.html#returning-a-view-versus-a-copy\n",
            "  return self._update_inplace(result)\n"
          ]
        }
      ],
      "source": [
        "try:\n",
        "  df1_selected.replace([np.inf, -np.inf], np.nan, inplace=True)\n",
        "  df1_selected['standard_value'].fillna(df1_selected['standard_value'].mean(),inplace=True)\n",
        "except:\n",
        "  pass"
      ]
    },
    {
      "cell_type": "markdown",
      "metadata": {
        "id": "YNL0IyQJTh95"
      },
      "source": [
        "### Creating labels and features"
      ]
    },
    {
      "cell_type": "code",
      "execution_count": 28,
      "metadata": {
        "id": "j_oJwzK5q-zR"
      },
      "outputs": [],
      "source": [
        "df1_x = df1_selected.drop(columns=['standard_value'],axis=1)\n",
        "df1_y = df1_selected['standard_value']"
      ]
    },
    {
      "cell_type": "code",
      "execution_count": 29,
      "metadata": {
        "colab": {
          "base_uri": "https://localhost:8080/"
        },
        "id": "Y0Ppqidir2Ep",
        "outputId": "18f31948-c8c2-49b6-d687-e27cb54469b7"
      },
      "outputs": [
        {
          "output_type": "execute_result",
          "data": {
            "text/plain": [
              "(1125, 1125)"
            ]
          },
          "metadata": {},
          "execution_count": 29
        }
      ],
      "source": [
        "len(df1_x),len(df1_y)"
      ]
    },
    {
      "cell_type": "code",
      "execution_count": 30,
      "metadata": {
        "id": "kEWmxdkLr5Eq"
      },
      "outputs": [],
      "source": [
        "df1_x.to_csv('molecule.smi', sep='\\t', index=False, header=False)\n",
        "df1_y.to_csv('kidney_labels.csv',index=False)"
      ]
    },
    {
      "cell_type": "markdown",
      "metadata": {
        "id": "rgzVpVFwUBOc"
      },
      "source": [
        "### A quick look at files"
      ]
    },
    {
      "cell_type": "code",
      "execution_count": 31,
      "metadata": {
        "colab": {
          "base_uri": "https://localhost:8080/"
        },
        "id": "lI8wYt4tTzGo",
        "outputId": "6bdab7ee-ee21-48b8-d86b-9d8803d85399"
      },
      "outputs": [
        {
          "output_type": "stream",
          "name": "stdout",
          "text": [
            "kidney_labels.csv  molecule.smi  sample_data\n"
          ]
        }
      ],
      "source": [
        "! ls"
      ]
    },
    {
      "cell_type": "code",
      "execution_count": 32,
      "metadata": {
        "colab": {
          "base_uri": "https://localhost:8080/"
        },
        "id": "8KoTNDIYT2hq",
        "outputId": "942085a5-6543-4351-9698-657327e264f6"
      },
      "outputs": [
        {
          "output_type": "stream",
          "name": "stdout",
          "text": [
            "O=C(CCCCc1nnc(NC(=O)Cc2ccccc2)s1)NCc1ccc(C(F)(F)F)cc1\tCHEMBL2177756\n",
            "CN(C)c1ccc(CNC(=O)CCCCc2nnc(NC(=O)Cc3ccccc3)s2)cc1\tCHEMBL2177755\n",
            "O=C(CCCCc1nnc(NC(=O)Cc2ccccc2)s1)NCc1ccccc1\tCHEMBL2177754\n",
            "CN(C(=O)CCCCc1nnc(NC(=O)Cc2ccccc2)s1)C(C)(C)C\tCHEMBL2177753\n",
            "CC(C)(C)NC(=O)CCCCc1nnc(NC(=O)Cc2ccccc2)s1\tCHEMBL2177752\n"
          ]
        }
      ],
      "source": [
        "! cat molecule.smi | head -5"
      ]
    },
    {
      "cell_type": "markdown",
      "metadata": {
        "id": "YX13O8GaUFvl"
      },
      "source": [
        "### Using padel Descriptor to break it into dataset form"
      ]
    },
    {
      "cell_type": "code",
      "execution_count": 33,
      "metadata": {
        "colab": {
          "base_uri": "https://localhost:8080/"
        },
        "id": "imDEI2vhUgGt",
        "outputId": "f325ee24-e594-4d8c-ba2d-b6d9578a457c"
      },
      "outputs": [
        {
          "output_type": "stream",
          "name": "stdout",
          "text": [
            "--2023-03-10 12:30:07--  https://github.com/dataprofessor/bioinformatics/raw/master/padel.zip\n",
            "Resolving github.com (github.com)... 140.82.112.3\n",
            "Connecting to github.com (github.com)|140.82.112.3|:443... connected.\n",
            "HTTP request sent, awaiting response... 302 Found\n",
            "Location: https://raw.githubusercontent.com/dataprofessor/bioinformatics/master/padel.zip [following]\n",
            "--2023-03-10 12:30:07--  https://raw.githubusercontent.com/dataprofessor/bioinformatics/master/padel.zip\n",
            "Resolving raw.githubusercontent.com (raw.githubusercontent.com)... 185.199.108.133, 185.199.109.133, 185.199.110.133, ...\n",
            "Connecting to raw.githubusercontent.com (raw.githubusercontent.com)|185.199.108.133|:443... connected.\n",
            "HTTP request sent, awaiting response... 200 OK\n",
            "Length: 25768637 (25M) [application/zip]\n",
            "Saving to: ‘padel.zip’\n",
            "\n",
            "padel.zip           100%[===================>]  24.57M   161MB/s    in 0.2s    \n",
            "\n",
            "2023-03-10 12:30:07 (161 MB/s) - ‘padel.zip’ saved [25768637/25768637]\n",
            "\n",
            "--2023-03-10 12:30:08--  https://github.com/dataprofessor/bioinformatics/raw/master/padel.sh\n",
            "Resolving github.com (github.com)... 140.82.112.3\n",
            "Connecting to github.com (github.com)|140.82.112.3|:443... connected.\n",
            "HTTP request sent, awaiting response... 302 Found\n",
            "Location: https://raw.githubusercontent.com/dataprofessor/bioinformatics/master/padel.sh [following]\n",
            "--2023-03-10 12:30:08--  https://raw.githubusercontent.com/dataprofessor/bioinformatics/master/padel.sh\n",
            "Resolving raw.githubusercontent.com (raw.githubusercontent.com)... 185.199.108.133, 185.199.109.133, 185.199.110.133, ...\n",
            "Connecting to raw.githubusercontent.com (raw.githubusercontent.com)|185.199.108.133|:443... connected.\n",
            "HTTP request sent, awaiting response... 200 OK\n",
            "Length: 231 [text/plain]\n",
            "Saving to: ‘padel.sh’\n",
            "\n",
            "padel.sh            100%[===================>]     231  --.-KB/s    in 0s      \n",
            "\n",
            "2023-03-10 12:30:08 (9.53 MB/s) - ‘padel.sh’ saved [231/231]\n",
            "\n"
          ]
        }
      ],
      "source": [
        "\n",
        "! wget https://github.com/dataprofessor/bioinformatics/raw/master/padel.zip\n",
        "! wget https://github.com/dataprofessor/bioinformatics/raw/master/padel.sh"
      ]
    },
    {
      "cell_type": "code",
      "execution_count": 34,
      "metadata": {
        "colab": {
          "base_uri": "https://localhost:8080/"
        },
        "id": "ZXCzERzIUhQ_",
        "outputId": "cdc35ebd-6716-47b4-feac-ffc254f823e5"
      },
      "outputs": [
        {
          "output_type": "stream",
          "name": "stdout",
          "text": [
            "Archive:  padel.zip\n",
            "   creating: PaDEL-Descriptor/\n",
            "  inflating: __MACOSX/._PaDEL-Descriptor  \n",
            "  inflating: PaDEL-Descriptor/MACCSFingerprinter.xml  \n",
            "  inflating: __MACOSX/PaDEL-Descriptor/._MACCSFingerprinter.xml  \n",
            "  inflating: PaDEL-Descriptor/AtomPairs2DFingerprinter.xml  \n",
            "  inflating: __MACOSX/PaDEL-Descriptor/._AtomPairs2DFingerprinter.xml  \n",
            "  inflating: PaDEL-Descriptor/EStateFingerprinter.xml  \n",
            "  inflating: __MACOSX/PaDEL-Descriptor/._EStateFingerprinter.xml  \n",
            "  inflating: PaDEL-Descriptor/Fingerprinter.xml  \n",
            "  inflating: __MACOSX/PaDEL-Descriptor/._Fingerprinter.xml  \n",
            "  inflating: PaDEL-Descriptor/.DS_Store  \n",
            "  inflating: __MACOSX/PaDEL-Descriptor/._.DS_Store  \n",
            "   creating: PaDEL-Descriptor/license/\n",
            "  inflating: __MACOSX/PaDEL-Descriptor/._license  \n",
            "  inflating: PaDEL-Descriptor/KlekotaRothFingerprintCount.xml  \n",
            "  inflating: __MACOSX/PaDEL-Descriptor/._KlekotaRothFingerprintCount.xml  \n",
            "  inflating: PaDEL-Descriptor/config  \n",
            "  inflating: __MACOSX/PaDEL-Descriptor/._config  \n",
            "  inflating: PaDEL-Descriptor/PubchemFingerprinter.xml  \n",
            "  inflating: __MACOSX/PaDEL-Descriptor/._PubchemFingerprinter.xml  \n",
            "  inflating: PaDEL-Descriptor/ExtendedFingerprinter.xml  \n",
            "  inflating: __MACOSX/PaDEL-Descriptor/._ExtendedFingerprinter.xml  \n",
            "  inflating: PaDEL-Descriptor/KlekotaRothFingerprinter.xml  \n",
            "  inflating: __MACOSX/PaDEL-Descriptor/._KlekotaRothFingerprinter.xml  \n",
            "  inflating: PaDEL-Descriptor/GraphOnlyFingerprinter.xml  \n",
            "  inflating: __MACOSX/PaDEL-Descriptor/._GraphOnlyFingerprinter.xml  \n",
            "  inflating: PaDEL-Descriptor/SubstructureFingerprinter.xml  \n",
            "  inflating: __MACOSX/PaDEL-Descriptor/._SubstructureFingerprinter.xml  \n",
            "  inflating: PaDEL-Descriptor/Descriptors.xls  \n",
            "  inflating: __MACOSX/PaDEL-Descriptor/._Descriptors.xls  \n",
            "   creating: PaDEL-Descriptor/lib/\n",
            "  inflating: __MACOSX/PaDEL-Descriptor/._lib  \n",
            "  inflating: PaDEL-Descriptor/PaDEL-Descriptor.jar  \n",
            "  inflating: __MACOSX/PaDEL-Descriptor/._PaDEL-Descriptor.jar  \n",
            "  inflating: PaDEL-Descriptor/SubstructureFingerprintCount.xml  \n",
            "  inflating: __MACOSX/PaDEL-Descriptor/._SubstructureFingerprintCount.xml  \n",
            "  inflating: PaDEL-Descriptor/AtomPairs2DFingerprintCount.xml  \n",
            "  inflating: __MACOSX/PaDEL-Descriptor/._AtomPairs2DFingerprintCount.xml  \n",
            "  inflating: PaDEL-Descriptor/descriptors.xml  \n",
            "  inflating: __MACOSX/PaDEL-Descriptor/._descriptors.xml  \n",
            "  inflating: PaDEL-Descriptor/license/lgpl-2.1.txt  \n",
            "  inflating: __MACOSX/PaDEL-Descriptor/license/._lgpl-2.1.txt  \n",
            "  inflating: PaDEL-Descriptor/license/LICENSE.txt  \n",
            "  inflating: __MACOSX/PaDEL-Descriptor/license/._LICENSE.txt  \n",
            "  inflating: PaDEL-Descriptor/license/README - CDK  \n",
            "  inflating: __MACOSX/PaDEL-Descriptor/license/._README - CDK  \n",
            "  inflating: PaDEL-Descriptor/license/lgpl.license  \n",
            "  inflating: __MACOSX/PaDEL-Descriptor/license/._lgpl.license  \n",
            "  inflating: PaDEL-Descriptor/lib/ambit2-core-2.4.7-SNAPSHOT(3).jar  \n",
            "  inflating: __MACOSX/PaDEL-Descriptor/lib/._ambit2-core-2.4.7-SNAPSHOT(3).jar  \n",
            "  inflating: PaDEL-Descriptor/lib/libPaDEL-Jobs(6).jar  \n",
            "  inflating: __MACOSX/PaDEL-Descriptor/lib/._libPaDEL-Jobs(6).jar  \n",
            "  inflating: PaDEL-Descriptor/lib/libPaDEL.jar  \n",
            "  inflating: __MACOSX/PaDEL-Descriptor/lib/._libPaDEL.jar  \n",
            "  inflating: PaDEL-Descriptor/lib/jgrapht-0.6.0(4).jar  \n",
            "  inflating: __MACOSX/PaDEL-Descriptor/lib/._jgrapht-0.6.0(4).jar  \n",
            "  inflating: PaDEL-Descriptor/lib/commons-cli-1.2(2).jar  \n",
            "  inflating: __MACOSX/PaDEL-Descriptor/lib/._commons-cli-1.2(2).jar  \n",
            "  inflating: PaDEL-Descriptor/lib/xom-1.1(1).jar  \n",
            "  inflating: __MACOSX/PaDEL-Descriptor/lib/._xom-1.1(1).jar  \n",
            "  inflating: PaDEL-Descriptor/lib/swing-worker-1.1.jar  \n",
            "  inflating: __MACOSX/PaDEL-Descriptor/lib/._swing-worker-1.1.jar  \n",
            "  inflating: PaDEL-Descriptor/lib/commons-cli-1.2(3).jar  \n",
            "  inflating: __MACOSX/PaDEL-Descriptor/lib/._commons-cli-1.2(3).jar  \n",
            "  inflating: PaDEL-Descriptor/lib/jgrapht-0.6.0(5).jar  \n",
            "  inflating: __MACOSX/PaDEL-Descriptor/lib/._jgrapht-0.6.0(5).jar  \n",
            "  inflating: PaDEL-Descriptor/lib/jama(1).jar  \n",
            "  inflating: __MACOSX/PaDEL-Descriptor/lib/._jama(1).jar  \n",
            "  inflating: PaDEL-Descriptor/lib/appframework-1.0.3.jar  \n",
            "  inflating: __MACOSX/PaDEL-Descriptor/lib/._appframework-1.0.3.jar  \n",
            "  inflating: PaDEL-Descriptor/lib/libPaDEL-Jobs(7).jar  \n",
            "  inflating: __MACOSX/PaDEL-Descriptor/lib/._libPaDEL-Jobs(7).jar  \n",
            "  inflating: PaDEL-Descriptor/lib/vecmath1.2-1.14.jar  \n",
            "  inflating: __MACOSX/PaDEL-Descriptor/lib/._vecmath1.2-1.14.jar  \n",
            "  inflating: PaDEL-Descriptor/lib/ambit2-smarts-2.4.7-SNAPSHOT(6).jar  \n",
            "  inflating: __MACOSX/PaDEL-Descriptor/lib/._ambit2-smarts-2.4.7-SNAPSHOT(6).jar  \n",
            "  inflating: PaDEL-Descriptor/lib/ambit2-core-2.4.7-SNAPSHOT(2).jar  \n",
            "  inflating: __MACOSX/PaDEL-Descriptor/lib/._ambit2-core-2.4.7-SNAPSHOT(2).jar  \n",
            "  inflating: PaDEL-Descriptor/lib/jama(6).jar  \n",
            "  inflating: __MACOSX/PaDEL-Descriptor/lib/._jama(6).jar  \n",
            "  inflating: PaDEL-Descriptor/lib/jgrapht-0.6.0(2).jar  \n",
            "  inflating: __MACOSX/PaDEL-Descriptor/lib/._jgrapht-0.6.0(2).jar  \n",
            "  inflating: PaDEL-Descriptor/lib/libPaDEL-Descriptor(3).jar  \n",
            "  inflating: __MACOSX/PaDEL-Descriptor/lib/._libPaDEL-Descriptor(3).jar  \n",
            "  inflating: PaDEL-Descriptor/lib/commons-cli-1.2(4).jar  \n",
            "  inflating: __MACOSX/PaDEL-Descriptor/lib/._commons-cli-1.2(4).jar  \n",
            "  inflating: PaDEL-Descriptor/lib/ambit2-base-2.4.7-SNAPSHOT.jar  \n",
            "  inflating: __MACOSX/PaDEL-Descriptor/lib/._ambit2-base-2.4.7-SNAPSHOT.jar  \n",
            "  inflating: PaDEL-Descriptor/lib/ambit2-smarts-2.4.7-SNAPSHOT(1).jar  \n",
            "  inflating: __MACOSX/PaDEL-Descriptor/lib/._ambit2-smarts-2.4.7-SNAPSHOT(1).jar  \n",
            "  inflating: PaDEL-Descriptor/lib/commons-cli-1.2.jar  \n",
            "  inflating: __MACOSX/PaDEL-Descriptor/lib/._commons-cli-1.2.jar  \n",
            "  inflating: PaDEL-Descriptor/lib/commons-cli-1.2(8).jar  \n",
            "  inflating: __MACOSX/PaDEL-Descriptor/lib/._commons-cli-1.2(8).jar  \n",
            "  inflating: PaDEL-Descriptor/lib/jgrapht-0.6.0.jar  \n",
            "  inflating: __MACOSX/PaDEL-Descriptor/lib/._jgrapht-0.6.0.jar  \n",
            "  inflating: PaDEL-Descriptor/lib/libPaDEL-Jobs(1).jar  \n",
            "  inflating: __MACOSX/PaDEL-Descriptor/lib/._libPaDEL-Jobs(1).jar  \n",
            "  inflating: PaDEL-Descriptor/lib/libPaDEL-Jobs.jar  \n",
            "  inflating: __MACOSX/PaDEL-Descriptor/lib/._libPaDEL-Jobs.jar  \n",
            "  inflating: PaDEL-Descriptor/lib/ambit2-core-2.4.7-SNAPSHOT(4).jar  \n",
            "  inflating: __MACOSX/PaDEL-Descriptor/lib/._ambit2-core-2.4.7-SNAPSHOT(4).jar  \n",
            "  inflating: PaDEL-Descriptor/lib/xom-1.1.jar  \n",
            "  inflating: __MACOSX/PaDEL-Descriptor/lib/._xom-1.1.jar  \n",
            "  inflating: PaDEL-Descriptor/lib/commons-cli-1.2(5).jar  \n",
            "  inflating: __MACOSX/PaDEL-Descriptor/lib/._commons-cli-1.2(5).jar  \n",
            "  inflating: PaDEL-Descriptor/lib/libPaDEL-Descriptor(2).jar  \n",
            "  inflating: __MACOSX/PaDEL-Descriptor/lib/._libPaDEL-Descriptor(2).jar  \n",
            "  inflating: PaDEL-Descriptor/lib/jgrapht-0.6.0(3).jar  \n",
            "  inflating: __MACOSX/PaDEL-Descriptor/lib/._jgrapht-0.6.0(3).jar  \n",
            "  inflating: PaDEL-Descriptor/lib/jama(7).jar  \n",
            "  inflating: __MACOSX/PaDEL-Descriptor/lib/._jama(7).jar  \n",
            "  inflating: PaDEL-Descriptor/lib/ambit2-core-2.4.7-SNAPSHOT.jar  \n",
            "  inflating: __MACOSX/PaDEL-Descriptor/lib/._ambit2-core-2.4.7-SNAPSHOT.jar  \n",
            "  inflating: PaDEL-Descriptor/lib/commons-cli-1.2(6).jar  \n",
            "  inflating: __MACOSX/PaDEL-Descriptor/lib/._commons-cli-1.2(6).jar  \n",
            "  inflating: PaDEL-Descriptor/lib/libPaDEL-Descriptor(1).jar  \n",
            "  inflating: __MACOSX/PaDEL-Descriptor/lib/._libPaDEL-Descriptor(1).jar  \n",
            "  inflating: PaDEL-Descriptor/lib/jama(4).jar  \n",
            "  inflating: __MACOSX/PaDEL-Descriptor/lib/._jama(4).jar  \n",
            "  inflating: PaDEL-Descriptor/lib/libPaDEL-Jobs(2).jar  \n",
            "  inflating: __MACOSX/PaDEL-Descriptor/lib/._libPaDEL-Jobs(2).jar  \n",
            "  inflating: PaDEL-Descriptor/lib/ambit2-smarts-2.4.7-SNAPSHOT(3).jar  \n",
            "  inflating: __MACOSX/PaDEL-Descriptor/lib/._ambit2-smarts-2.4.7-SNAPSHOT(3).jar  \n",
            "  inflating: PaDEL-Descriptor/lib/ambit2-smarts-2.4.7-SNAPSHOT(2).jar  \n",
            "  inflating: __MACOSX/PaDEL-Descriptor/lib/._ambit2-smarts-2.4.7-SNAPSHOT(2).jar  \n",
            "  inflating: PaDEL-Descriptor/lib/ambit2-smarts-2.4.7-SNAPSHOT.jar  \n",
            "  inflating: __MACOSX/PaDEL-Descriptor/lib/._ambit2-smarts-2.4.7-SNAPSHOT.jar  \n",
            "  inflating: PaDEL-Descriptor/lib/libPaDEL-Jobs(3).jar  \n",
            "  inflating: __MACOSX/PaDEL-Descriptor/lib/._libPaDEL-Jobs(3).jar  \n",
            "  inflating: PaDEL-Descriptor/lib/l2fprod-common-all(1).jar  \n",
            "  inflating: __MACOSX/PaDEL-Descriptor/lib/._l2fprod-common-all(1).jar  \n",
            "  inflating: PaDEL-Descriptor/lib/jama.jar  \n",
            "  inflating: __MACOSX/PaDEL-Descriptor/lib/._jama.jar  \n",
            "  inflating: PaDEL-Descriptor/lib/l2fprod-common-all.jar  \n",
            "  inflating: __MACOSX/PaDEL-Descriptor/lib/._l2fprod-common-all.jar  \n",
            "  inflating: PaDEL-Descriptor/lib/jama(5).jar  \n",
            "  inflating: __MACOSX/PaDEL-Descriptor/lib/._jama(5).jar  \n",
            "  inflating: PaDEL-Descriptor/lib/jgrapht-0.6.0(1).jar  \n",
            "  inflating: __MACOSX/PaDEL-Descriptor/lib/._jgrapht-0.6.0(1).jar  \n",
            "  inflating: PaDEL-Descriptor/lib/commons-cli-1.2(7).jar  \n",
            "  inflating: __MACOSX/PaDEL-Descriptor/lib/._commons-cli-1.2(7).jar  \n",
            "  inflating: PaDEL-Descriptor/lib/libPaDEL-Descriptor.jar  \n",
            "  inflating: __MACOSX/PaDEL-Descriptor/lib/._libPaDEL-Descriptor.jar  \n",
            "  inflating: PaDEL-Descriptor/lib/libPaDEL-Jobs(4).jar  \n",
            "  inflating: __MACOSX/PaDEL-Descriptor/lib/._libPaDEL-Jobs(4).jar  \n",
            "  inflating: PaDEL-Descriptor/lib/cdk-1.4.15.jar  \n",
            "  inflating: __MACOSX/PaDEL-Descriptor/lib/._cdk-1.4.15.jar  \n",
            "  inflating: PaDEL-Descriptor/lib/ambit2-smarts-2.4.7-SNAPSHOT(5).jar  \n",
            "  inflating: __MACOSX/PaDEL-Descriptor/lib/._ambit2-smarts-2.4.7-SNAPSHOT(5).jar  \n",
            "  inflating: PaDEL-Descriptor/lib/ambit2-core-2.4.7-SNAPSHOT(1).jar  \n",
            "  inflating: __MACOSX/PaDEL-Descriptor/lib/._ambit2-core-2.4.7-SNAPSHOT(1).jar  \n",
            "  inflating: PaDEL-Descriptor/lib/libPaDEL-Jobs(8).jar  \n",
            "  inflating: __MACOSX/PaDEL-Descriptor/lib/._libPaDEL-Jobs(8).jar  \n",
            "  inflating: PaDEL-Descriptor/lib/jgrapht-0.6.0(6).jar  \n",
            "  inflating: __MACOSX/PaDEL-Descriptor/lib/._jgrapht-0.6.0(6).jar  \n",
            "  inflating: PaDEL-Descriptor/lib/jama(2).jar  \n",
            "  inflating: __MACOSX/PaDEL-Descriptor/lib/._jama(2).jar  \n",
            "  inflating: PaDEL-Descriptor/lib/jama(3).jar  \n",
            "  inflating: __MACOSX/PaDEL-Descriptor/lib/._jama(3).jar  \n",
            "  inflating: PaDEL-Descriptor/lib/commons-cli-1.2(1).jar  \n",
            "  inflating: __MACOSX/PaDEL-Descriptor/lib/._commons-cli-1.2(1).jar  \n",
            "  inflating: PaDEL-Descriptor/lib/guava-17.0.jar  \n",
            "  inflating: __MACOSX/PaDEL-Descriptor/lib/._guava-17.0.jar  \n",
            "  inflating: PaDEL-Descriptor/lib/ambit2-smarts-2.4.7-SNAPSHOT(4).jar  \n",
            "  inflating: __MACOSX/PaDEL-Descriptor/lib/._ambit2-smarts-2.4.7-SNAPSHOT(4).jar  \n",
            "  inflating: PaDEL-Descriptor/lib/libPaDEL-Jobs(5).jar  \n",
            "  inflating: __MACOSX/PaDEL-Descriptor/lib/._libPaDEL-Jobs(5).jar  \n"
          ]
        }
      ],
      "source": [
        "! unzip padel.zip"
      ]
    },
    {
      "cell_type": "code",
      "execution_count": 35,
      "metadata": {
        "id": "1YeimCamshFR",
        "colab": {
          "base_uri": "https://localhost:8080/"
        },
        "outputId": "db8bc99e-f44c-412d-8f96-9d382d670c79"
      },
      "outputs": [
        {
          "output_type": "stream",
          "name": "stdout",
          "text": [
            "Processing CHEMBL2177756 in molecule.smi (1/1125). \n",
            "Processing CHEMBL2177755 in molecule.smi (2/1125). \n",
            "Processing CHEMBL2177753 in molecule.smi (4/1125). Average speed: 3.83 s/mol.\n",
            "Processing CHEMBL2177754 in molecule.smi (3/1125). Average speed: 7.48 s/mol.\n",
            "Processing CHEMBL2177752 in molecule.smi (5/1125). Average speed: 2.89 s/mol.\n",
            "Processing CHEMBL2177751 in molecule.smi (6/1125). Average speed: 2.18 s/mol.\n",
            "Processing CHEMBL2177750 in molecule.smi (7/1125). Average speed: 1.91 s/mol.\n",
            "Processing CHEMBL2177749 in molecule.smi (8/1125). Average speed: 1.62 s/mol.\n",
            "Processing CHEMBL2177748 in molecule.smi (9/1125). Average speed: 1.44 s/mol.\n",
            "Processing CHEMBL2177747 in molecule.smi (10/1125). Average speed: 1.36 s/mol.\n",
            "Processing CHEMBL2177746 in molecule.smi (11/1125). Average speed: 1.23 s/mol.\n",
            "Processing CHEMBL2177745 in molecule.smi (12/1125). Average speed: 1.16 s/mol.\n",
            "Processing CHEMBL2177744 in molecule.smi (13/1125). Average speed: 1.06 s/mol.\n",
            "Processing CHEMBL2177743 in molecule.smi (14/1125). Average speed: 1.02 s/mol.\n",
            "Processing CHEMBL2177742 in molecule.smi (15/1125). Average speed: 0.95 s/mol.\n",
            "Processing CHEMBL2177741 in molecule.smi (16/1125). Average speed: 0.91 s/mol.\n",
            "Processing CHEMBL2177740 in molecule.smi (17/1125). Average speed: 0.92 s/mol.\n",
            "Processing CHEMBL2177738 in molecule.smi (19/1125). Average speed: 0.79 s/mol.\n",
            "Processing CHEMBL2177739 in molecule.smi (18/1125). Average speed: 0.83 s/mol.\n",
            "Processing CHEMBL2178398 in molecule.smi (20/1125). Average speed: 0.77 s/mol.\n",
            "Processing CHEMBL2178397 in molecule.smi (21/1125). Average speed: 0.73 s/mol.\n",
            "Processing CHEMBL2178396 in molecule.smi (22/1125). Average speed: 0.71 s/mol.\n",
            "Processing CHEMBL2178395 in molecule.smi (23/1125). Average speed: 0.69 s/mol.\n",
            "Processing CHEMBL2178394 in molecule.smi (24/1125). Average speed: 0.67 s/mol.\n",
            "Processing CHEMBL2178393 in molecule.smi (25/1125). Average speed: 0.65 s/mol.\n",
            "Processing CHEMBL2177758 in molecule.smi (26/1125). Average speed: 0.63 s/mol.\n",
            "Processing CHEMBL2177757 in molecule.smi (27/1125). Average speed: 0.61 s/mol.\n",
            "Processing CHEMBL3769558 in molecule.smi (28/1125). Average speed: 0.60 s/mol.\n",
            "Processing CHEMBL3769936 in molecule.smi (29/1125). Average speed: 0.59 s/mol.\n",
            "Processing CHEMBL3769593 in molecule.smi (30/1125). Average speed: 0.58 s/mol.\n",
            "Processing CHEMBL3769701 in molecule.smi (31/1125). Average speed: 0.58 s/mol.\n",
            "Processing CHEMBL3770889 in molecule.smi (32/1125). Average speed: 0.58 s/mol.\n",
            "Processing CHEMBL3770357 in molecule.smi (33/1125). Average speed: 0.57 s/mol.\n",
            "Processing CHEMBL3770945 in molecule.smi (34/1125). Average speed: 0.57 s/mol.\n",
            "Processing CHEMBL3770066 in molecule.smi (35/1125). Average speed: 0.59 s/mol.\n",
            "Processing CHEMBL3770229 in molecule.smi (36/1125). Average speed: 0.61 s/mol.\n",
            "Processing CHEMBL3771046 in molecule.smi (37/1125). Average speed: 0.59 s/mol.\n",
            "Processing CHEMBL3769897 in molecule.smi (38/1125). Average speed: 0.60 s/mol.\n",
            "Processing CHEMBL3770218 in molecule.smi (39/1125). Average speed: 0.58 s/mol.\n",
            "Processing CHEMBL3771176 in molecule.smi (41/1125). Average speed: 0.56 s/mol.\n",
            "Processing CHEMBL3769448 in molecule.smi (40/1125). Average speed: 0.57 s/mol.\n",
            "Processing CHEMBL3769551 in molecule.smi (42/1125). Average speed: 0.55 s/mol.\n",
            "Processing CHEMBL3769973 in molecule.smi (43/1125). Average speed: 0.54 s/mol.\n",
            "Processing CHEMBL3769896 in molecule.smi (45/1125). Average speed: 0.52 s/mol.\n",
            "Processing CHEMBL3770235 in molecule.smi (44/1125). Average speed: 0.53 s/mol.\n",
            "Processing CHEMBL3770102 in molecule.smi (47/1125). Average speed: 0.51 s/mol.\n",
            "Processing CHEMBL3771319 in molecule.smi (46/1125). Average speed: 0.52 s/mol.\n",
            "Processing CHEMBL3769604 in molecule.smi (48/1125). Average speed: 0.51 s/mol.\n",
            "Processing CHEMBL3770921 in molecule.smi (49/1125). Average speed: 0.51 s/mol.\n",
            "Processing CHEMBL3769544 in molecule.smi (50/1125). Average speed: 0.51 s/mol.\n",
            "Processing CHEMBL3770563 in molecule.smi (51/1125). Average speed: 0.52 s/mol.\n",
            "Processing CHEMBL3771225 in molecule.smi (52/1125). Average speed: 0.51 s/mol.\n",
            "Processing CHEMBL3770617 in molecule.smi (53/1125). Average speed: 0.51 s/mol.\n",
            "Processing CHEMBL3771098 in molecule.smi (54/1125). Average speed: 0.52 s/mol.\n",
            "Processing CHEMBL3771020 in molecule.smi (56/1125). Average speed: 0.50 s/mol.\n",
            "Processing CHEMBL3770355 in molecule.smi (55/1125). Average speed: 0.50 s/mol.\n",
            "Processing CHEMBL3770033 in molecule.smi (57/1125). Average speed: 0.50 s/mol.\n",
            "Processing CHEMBL3639788 in molecule.smi (59/1125). Average speed: 0.48 s/mol.\n",
            "Processing CHEMBL2177757 in molecule.smi (58/1125). Average speed: 0.49 s/mol.\n",
            "Processing CHEMBL3770713 in molecule.smi (60/1125). Average speed: 0.49 s/mol.\n",
            "Processing CHEMBL3808443 in molecule.smi (61/1125). Average speed: 0.48 s/mol.\n",
            "Processing CHEMBL3810394 in molecule.smi (62/1125). Average speed: 0.48 s/mol.\n",
            "Processing CHEMBL3809014 in molecule.smi (63/1125). Average speed: 0.47 s/mol.\n",
            "Processing CHEMBL3808882 in molecule.smi (64/1125). Average speed: 0.47 s/mol.\n",
            "Processing CHEMBL3810168 in molecule.smi (65/1125). Average speed: 0.46 s/mol.\n",
            "Processing CHEMBL3809081 in molecule.smi (66/1125). Average speed: 0.46 s/mol.\n",
            "Processing CHEMBL3808443 in molecule.smi (67/1125). Average speed: 0.45 s/mol.\n",
            "Processing CHEMBL3810394 in molecule.smi (68/1125). Average speed: 0.45 s/mol.\n",
            "Processing CHEMBL3809014 in molecule.smi (69/1125). Average speed: 0.45 s/mol.\n",
            "Processing CHEMBL3808882 in molecule.smi (70/1125). Average speed: 0.44 s/mol.\n",
            "Processing CHEMBL3810168 in molecule.smi (71/1125). Average speed: 0.44 s/mol.\n",
            "Processing CHEMBL3809081 in molecule.smi (72/1125). Average speed: 0.43 s/mol.\n",
            "Processing CHEMBL3814899 in molecule.smi (73/1125). Average speed: 0.43 s/mol.\n",
            "Processing CHEMBL3814214 in molecule.smi (75/1125). Average speed: 0.43 s/mol.\n",
            "Processing CHEMBL3813810 in molecule.smi (74/1125). Average speed: 0.43 s/mol.\n",
            "Processing CHEMBL3814388 in molecule.smi (76/1125). Average speed: 0.42 s/mol.\n",
            "Processing CHEMBL3813967 in molecule.smi (77/1125). Average speed: 0.43 s/mol.\n",
            "Processing CHEMBL3814427 in molecule.smi (78/1125). Average speed: 0.43 s/mol.\n",
            "Processing CHEMBL3814255 in molecule.smi (79/1125). Average speed: 0.43 s/mol.\n",
            "Processing CHEMBL3814401 in molecule.smi (80/1125). Average speed: 0.44 s/mol.\n",
            "Processing CHEMBL3814265 in molecule.smi (81/1125). Average speed: 0.44 s/mol.\n",
            "Processing CHEMBL3815103 in molecule.smi (82/1125). Average speed: 0.44 s/mol.\n",
            "Processing CHEMBL3814303 in molecule.smi (83/1125). Average speed: 0.43 s/mol.\n",
            "Processing CHEMBL3670008 in molecule.smi (85/1125). Average speed: 0.43 s/mol.\n",
            "Processing CHEMBL3814398 in molecule.smi (84/1125). Average speed: 0.43 s/mol.\n",
            "Processing CHEMBL3814007 in molecule.smi (87/1125). Average speed: 0.43 s/mol.\n",
            "Processing CHEMBL3670009 in molecule.smi (86/1125). Average speed: 0.43 s/mol.\n",
            "Processing CHEMBL3814199 in molecule.smi (89/1125). Average speed: 0.42 s/mol.\n",
            "Processing CHEMBL3814231 in molecule.smi (88/1125). Average speed: 0.42 s/mol.\n",
            "Processing CHEMBL3813734 in molecule.smi (91/1125). Average speed: 0.42 s/mol.\n",
            "Processing CHEMBL3814504 in molecule.smi (90/1125). Average speed: 0.42 s/mol.\n",
            "Processing CHEMBL3664910 in molecule.smi (93/1125). Average speed: 0.42 s/mol.\n",
            "Processing CHEMBL3813769 in molecule.smi (92/1125). Average speed: 0.42 s/mol.\n",
            "Processing CHEMBL3639788 in molecule.smi (94/1125). Average speed: 0.42 s/mol.\n",
            "Processing CHEMBL3680007 in molecule.smi (95/1125). Average speed: 0.42 s/mol.\n",
            "Processing CHEMBL3680009 in molecule.smi (97/1125). Average speed: 0.42 s/mol.\n",
            "Processing CHEMBL3680008 in molecule.smi (96/1125). Average speed: 0.42 s/mol.\n",
            "Processing CHEMBL3680010 in molecule.smi (98/1125). Average speed: 0.42 s/mol.\n",
            "Processing CHEMBL3680011 in molecule.smi (99/1125). Average speed: 0.42 s/mol.\n",
            "Processing CHEMBL3680012 in molecule.smi (100/1125). Average speed: 0.42 s/mol.\n",
            "Processing CHEMBL4108007 in molecule.smi (101/1125). Average speed: 0.41 s/mol.\n",
            "Processing CHEMBL3680014 in molecule.smi (103/1125). Average speed: 0.41 s/mol.\n",
            "Processing CHEMBL3680013 in molecule.smi (102/1125). Average speed: 0.41 s/mol.\n",
            "Processing CHEMBL3680015 in molecule.smi (104/1125). Average speed: 0.41 s/mol.\n",
            "Processing CHEMBL3680016 in molecule.smi (105/1125). Average speed: 0.41 s/mol.\n",
            "Processing CHEMBL3680017 in molecule.smi (106/1125). Average speed: 0.41 s/mol.\n",
            "Processing CHEMBL3680017 in molecule.smi (107/1125). Average speed: 0.41 s/mol.\n",
            "Processing CHEMBL3680019 in molecule.smi (109/1125). Average speed: 0.41 s/mol.\n",
            "Processing CHEMBL3680018 in molecule.smi (108/1125). Average speed: 0.41 s/mol.\n",
            "Processing CHEMBL3680020 in molecule.smi (110/1125). Average speed: 0.41 s/mol.\n",
            "Processing CHEMBL3680021 in molecule.smi (111/1125). Average speed: 0.41 s/mol.\n",
            "Processing CHEMBL3680022 in molecule.smi (112/1125). Average speed: 0.40 s/mol.\n",
            "Processing CHEMBL3680023 in molecule.smi (113/1125). Average speed: 0.41 s/mol.\n",
            "Processing CHEMBL3680024 in molecule.smi (114/1125). Average speed: 0.41 s/mol.\n",
            "Processing CHEMBL3680025 in molecule.smi (115/1125). Average speed: 0.41 s/mol.\n",
            "Processing CHEMBL3680026 in molecule.smi (116/1125). Average speed: 0.41 s/mol.\n",
            "Processing CHEMBL3680027 in molecule.smi (117/1125). Average speed: 0.42 s/mol.\n",
            "Processing CHEMBL3680028 in molecule.smi (118/1125). Average speed: 0.41 s/mol.\n",
            "Processing CHEMBL3680029 in molecule.smi (119/1125). Average speed: 0.41 s/mol.\n",
            "Processing CHEMBL3680030 in molecule.smi (120/1125). Average speed: 0.41 s/mol.\n",
            "Processing CHEMBL3680031 in molecule.smi (121/1125). Average speed: 0.41 s/mol.\n",
            "Processing CHEMBL3680032 in molecule.smi (122/1125). Average speed: 0.41 s/mol.\n",
            "Processing CHEMBL3680033 in molecule.smi (123/1125). Average speed: 0.41 s/mol.\n",
            "Processing CHEMBL3680034 in molecule.smi (124/1125). Average speed: 0.40 s/mol.\n",
            "Processing CHEMBL3680035 in molecule.smi (125/1125). Average speed: 0.40 s/mol.\n",
            "Processing CHEMBL3680036 in molecule.smi (126/1125). Average speed: 0.40 s/mol.\n",
            "Processing CHEMBL3680037 in molecule.smi (127/1125). Average speed: 0.41 s/mol.\n",
            "Processing CHEMBL3680038 in molecule.smi (128/1125). Average speed: 0.40 s/mol.\n",
            "Processing CHEMBL3680039 in molecule.smi (129/1125). Average speed: 0.40 s/mol.\n",
            "Processing CHEMBL3680040 in molecule.smi (130/1125). Average speed: 0.40 s/mol.\n",
            "Processing CHEMBL3680041 in molecule.smi (131/1125). Average speed: 0.40 s/mol.\n",
            "Processing CHEMBL3664925 in molecule.smi (132/1125). Average speed: 0.41 s/mol.\n",
            "Processing CHEMBL3664974 in molecule.smi (133/1125). Average speed: 0.41 s/mol.\n",
            "Processing CHEMBL3669976 in molecule.smi (134/1125). Average speed: 0.41 s/mol.\n",
            "Processing CHEMBL3669971 in molecule.smi (135/1125). Average speed: 0.41 s/mol.\n",
            "Processing CHEMBL3669995 in molecule.smi (136/1125). Average speed: 0.41 s/mol.\n",
            "Processing CHEMBL3669988 in molecule.smi (137/1125). Average speed: 0.41 s/mol.\n",
            "Processing CHEMBL3670005 in molecule.smi (138/1125). Average speed: 0.41 s/mol.\n",
            "Processing CHEMBL3670016 in molecule.smi (139/1125). Average speed: 0.41 s/mol.\n",
            "Processing CHEMBL3670017 in molecule.smi (140/1125). Average speed: 0.40 s/mol.\n",
            "Processing CHEMBL3670022 in molecule.smi (141/1125). Average speed: 0.40 s/mol.\n",
            "Processing CHEMBL3670023 in molecule.smi (142/1125). Average speed: 0.40 s/mol.\n",
            "Processing CHEMBL3670037 in molecule.smi (144/1125). Average speed: 0.40 s/mol.\n",
            "Processing CHEMBL3670043 in molecule.smi (143/1125). Average speed: 0.40 s/mol.\n",
            "Processing CHEMBL3670038 in molecule.smi (145/1125). Average speed: 0.40 s/mol.\n",
            "Processing CHEMBL3670061 in molecule.smi (146/1125). Average speed: 0.40 s/mol.\n",
            "Processing CHEMBL3670065 in molecule.smi (147/1125). Average speed: 0.40 s/mol.\n",
            "Processing CHEMBL3670071 in molecule.smi (148/1125). Average speed: 0.40 s/mol.\n",
            "Processing CHEMBL3674968 in molecule.smi (149/1125). Average speed: 0.40 s/mol.\n",
            "Processing CHEMBL3674976 in molecule.smi (150/1125). Average speed: 0.41 s/mol.\n",
            "Processing CHEMBL3674970 in molecule.smi (151/1125). Average speed: 0.41 s/mol.\n",
            "Processing CHEMBL3674977 in molecule.smi (152/1125). Average speed: 0.41 s/mol.\n",
            "Processing CHEMBL3674978 in molecule.smi (153/1125). Average speed: 0.41 s/mol.\n",
            "Processing CHEMBL3674980 in molecule.smi (155/1125). Average speed: 0.41 s/mol.\n",
            "Processing CHEMBL3674979 in molecule.smi (154/1125). Average speed: 0.41 s/mol.\n",
            "Processing CHEMBL3674981 in molecule.smi (156/1125). Average speed: 0.41 s/mol.\n",
            "Processing CHEMBL3674975 in molecule.smi (157/1125). Average speed: 0.40 s/mol.\n",
            "Processing CHEMBL3674988 in molecule.smi (158/1125). Average speed: 0.40 s/mol.\n",
            "Processing CHEMBL3674989 in molecule.smi (159/1125). Average speed: 0.40 s/mol.\n",
            "Processing CHEMBL3674990 in molecule.smi (160/1125). Average speed: 0.40 s/mol.\n",
            "Processing CHEMBL3674991 in molecule.smi (161/1125). Average speed: 0.40 s/mol.\n",
            "Processing CHEMBL3674992 in molecule.smi (162/1125). Average speed: 0.40 s/mol.\n",
            "Processing CHEMBL3674993 in molecule.smi (163/1125). Average speed: 0.40 s/mol.\n",
            "Processing CHEMBL3674982 in molecule.smi (164/1125). Average speed: 0.40 s/mol.\n",
            "Processing CHEMBL3674983 in molecule.smi (165/1125). Average speed: 0.40 s/mol.\n",
            "Processing CHEMBL3674984 in molecule.smi (166/1125). Average speed: 0.40 s/mol.\n",
            "Processing CHEMBL3674985 in molecule.smi (167/1125). Average speed: 0.40 s/mol.\n",
            "Processing CHEMBL3674986 in molecule.smi (168/1125). Average speed: 0.40 s/mol.\n",
            "Processing CHEMBL3674987 in molecule.smi (169/1125). Average speed: 0.40 s/mol.\n",
            "Processing CHEMBL3674994 in molecule.smi (170/1125). Average speed: 0.40 s/mol.\n",
            "Processing CHEMBL3674995 in molecule.smi (171/1125). Average speed: 0.40 s/mol.\n",
            "Processing CHEMBL3674996 in molecule.smi (172/1125). Average speed: 0.40 s/mol.\n",
            "Processing CHEMBL3674997 in molecule.smi (173/1125). Average speed: 0.40 s/mol.\n",
            "Processing CHEMBL3674999 in molecule.smi (175/1125). Average speed: 0.39 s/mol.\n",
            "Processing CHEMBL3674998 in molecule.smi (174/1125). Average speed: 0.39 s/mol.\n",
            "Processing CHEMBL3675001 in molecule.smi (177/1125). Average speed: 0.39 s/mol.\n",
            "Processing CHEMBL3675000 in molecule.smi (176/1125). Average speed: 0.39 s/mol.\n",
            "Processing CHEMBL3675003 in molecule.smi (179/1125). Average speed: 0.39 s/mol.\n",
            "Processing CHEMBL3675002 in molecule.smi (178/1125). Average speed: 0.39 s/mol.\n",
            "Processing CHEMBL3675004 in molecule.smi (180/1125). Average speed: 0.39 s/mol.\n",
            "Processing CHEMBL3675005 in molecule.smi (181/1125). Average speed: 0.39 s/mol.\n",
            "Processing CHEMBL3675007 in molecule.smi (183/1125). Average speed: 0.39 s/mol.\n",
            "Processing CHEMBL3675006 in molecule.smi (182/1125). Average speed: 0.39 s/mol.\n",
            "Processing CHEMBL3675008 in molecule.smi (184/1125). Average speed: 0.38 s/mol.\n",
            "Processing CHEMBL3675009 in molecule.smi (185/1125). Average speed: 0.38 s/mol.\n",
            "Processing CHEMBL3675010 in molecule.smi (186/1125). Average speed: 0.38 s/mol.\n",
            "Processing CHEMBL3675011 in molecule.smi (187/1125). Average speed: 0.38 s/mol.\n",
            "Processing CHEMBL3675012 in molecule.smi (188/1125). Average speed: 0.38 s/mol.\n",
            "Processing CHEMBL3675013 in molecule.smi (189/1125). Average speed: 0.38 s/mol.\n",
            "Processing CHEMBL3675014 in molecule.smi (190/1125). Average speed: 0.38 s/mol.\n",
            "Processing CHEMBL3675015 in molecule.smi (191/1125). Average speed: 0.38 s/mol.\n",
            "Processing CHEMBL3675016 in molecule.smi (192/1125). Average speed: 0.38 s/mol.\n",
            "Processing CHEMBL3675017 in molecule.smi (193/1125). Average speed: 0.39 s/mol.\n",
            "Processing CHEMBL3675018 in molecule.smi (194/1125). Average speed: 0.39 s/mol.\n",
            "Processing CHEMBL3675019 in molecule.smi (195/1125). Average speed: 0.39 s/mol.\n",
            "Processing CHEMBL3675020 in molecule.smi (196/1125). Average speed: 0.39 s/mol.\n",
            "Processing CHEMBL3675021 in molecule.smi (197/1125). Average speed: 0.39 s/mol.\n",
            "Processing CHEMBL3675022 in molecule.smi (198/1125). Average speed: 0.39 s/mol.\n",
            "Processing CHEMBL3675023 in molecule.smi (199/1125). Average speed: 0.39 s/mol.\n",
            "Processing CHEMBL3675024 in molecule.smi (200/1125). Average speed: 0.38 s/mol.\n",
            "Processing CHEMBL3675025 in molecule.smi (201/1125). Average speed: 0.38 s/mol.\n",
            "Processing CHEMBL3675026 in molecule.smi (202/1125). Average speed: 0.38 s/mol.\n",
            "Processing CHEMBL3675027 in molecule.smi (203/1125). Average speed: 0.38 s/mol.\n",
            "Processing CHEMBL3675028 in molecule.smi (204/1125). Average speed: 0.39 s/mol.\n",
            "Processing CHEMBL3675029 in molecule.smi (205/1125). Average speed: 0.38 s/mol.\n",
            "Processing CHEMBL3675030 in molecule.smi (206/1125). Average speed: 0.38 s/mol.\n",
            "Processing CHEMBL3675031 in molecule.smi (207/1125). Average speed: 0.38 s/mol.\n",
            "Processing CHEMBL3675032 in molecule.smi (208/1125). Average speed: 0.38 s/mol.\n",
            "Processing CHEMBL3675033 in molecule.smi (209/1125). Average speed: 0.38 s/mol.\n",
            "Processing CHEMBL3675034 in molecule.smi (210/1125). Average speed: 0.38 s/mol.\n",
            "Processing CHEMBL3675035 in molecule.smi (211/1125). Average speed: 0.38 s/mol.\n",
            "Processing CHEMBL3675036 in molecule.smi (212/1125). Average speed: 0.38 s/mol.\n",
            "Processing CHEMBL3675037 in molecule.smi (213/1125). Average speed: 0.38 s/mol.\n",
            "Processing CHEMBL3675038 in molecule.smi (214/1125). Average speed: 0.38 s/mol.\n",
            "Processing CHEMBL3675039 in molecule.smi (215/1125). Average speed: 0.38 s/mol.\n",
            "Processing CHEMBL3675040 in molecule.smi (216/1125). Average speed: 0.38 s/mol.\n",
            "Processing CHEMBL3675042 in molecule.smi (218/1125). Average speed: 0.38 s/mol.\n",
            "Processing CHEMBL3675041 in molecule.smi (217/1125). Average speed: 0.38 s/mol.\n",
            "Processing CHEMBL3675043 in molecule.smi (219/1125). Average speed: 0.38 s/mol.\n",
            "Processing CHEMBL3675044 in molecule.smi (220/1125). Average speed: 0.38 s/mol.\n",
            "Processing CHEMBL3675045 in molecule.smi (221/1125). Average speed: 0.38 s/mol.\n",
            "Processing CHEMBL3675046 in molecule.smi (222/1125). Average speed: 0.38 s/mol.\n",
            "Processing CHEMBL3675047 in molecule.smi (223/1125). Average speed: 0.38 s/mol.\n",
            "Processing CHEMBL3675048 in molecule.smi (224/1125). Average speed: 0.38 s/mol.\n",
            "Processing CHEMBL3675049 in molecule.smi (225/1125). Average speed: 0.38 s/mol.\n",
            "Processing CHEMBL3675050 in molecule.smi (226/1125). Average speed: 0.38 s/mol.\n",
            "Processing CHEMBL3675051 in molecule.smi (227/1125). Average speed: 0.38 s/mol.\n",
            "Processing CHEMBL3675052 in molecule.smi (228/1125). Average speed: 0.38 s/mol.\n",
            "Processing CHEMBL3675052 in molecule.smi (229/1125). Average speed: 0.38 s/mol.\n",
            "Processing CHEMBL3639739 in molecule.smi (230/1125). Average speed: 0.38 s/mol.\n",
            "Processing CHEMBL3675053 in molecule.smi (231/1125). Average speed: 0.38 s/mol.\n",
            "Processing CHEMBL3675054 in molecule.smi (232/1125). Average speed: 0.38 s/mol.\n",
            "Processing CHEMBL3675055 in molecule.smi (233/1125). Average speed: 0.38 s/mol.\n",
            "Processing CHEMBL3675056 in molecule.smi (234/1125). Average speed: 0.38 s/mol.\n",
            "Processing CHEMBL3675058 in molecule.smi (236/1125). Average speed: 0.38 s/mol.\n",
            "Processing CHEMBL3675057 in molecule.smi (235/1125). Average speed: 0.38 s/mol.\n",
            "Processing CHEMBL3675059 in molecule.smi (237/1125). Average speed: 0.38 s/mol.\n",
            "Processing CHEMBL3675060 in molecule.smi (238/1125). Average speed: 0.38 s/mol.\n",
            "Processing CHEMBL3675061 in molecule.smi (239/1125). Average speed: 0.38 s/mol.\n",
            "Processing CHEMBL3675062 in molecule.smi (240/1125). Average speed: 0.38 s/mol.\n",
            "Processing CHEMBL3675064 in molecule.smi (242/1125). Average speed: 0.38 s/mol.\n",
            "Processing CHEMBL3675063 in molecule.smi (241/1125). Average speed: 0.38 s/mol.\n",
            "Processing CHEMBL3675066 in molecule.smi (244/1125). Average speed: 0.38 s/mol.\n",
            "Processing CHEMBL3675065 in molecule.smi (243/1125). Average speed: 0.38 s/mol.\n",
            "Processing CHEMBL3675067 in molecule.smi (245/1125). Average speed: 0.38 s/mol.\n",
            "Processing CHEMBL3675068 in molecule.smi (246/1125). Average speed: 0.38 s/mol.\n",
            "Processing CHEMBL3675070 in molecule.smi (248/1125). Average speed: 0.38 s/mol.\n",
            "Processing CHEMBL3675069 in molecule.smi (247/1125). Average speed: 0.38 s/mol.\n",
            "Processing CHEMBL3675071 in molecule.smi (249/1125). Average speed: 0.38 s/mol.\n",
            "Processing CHEMBL3675072 in molecule.smi (250/1125). Average speed: 0.38 s/mol.\n",
            "Processing CHEMBL3675073 in molecule.smi (251/1125). Average speed: 0.38 s/mol.\n",
            "Processing CHEMBL3675074 in molecule.smi (252/1125). Average speed: 0.38 s/mol.\n",
            "Processing CHEMBL3675075 in molecule.smi (253/1125). Average speed: 0.38 s/mol.\n",
            "Processing CHEMBL3675076 in molecule.smi (254/1125). Average speed: 0.38 s/mol.\n",
            "Processing CHEMBL3675077 in molecule.smi (255/1125). Average speed: 0.38 s/mol.\n",
            "Processing CHEMBL3675078 in molecule.smi (256/1125). Average speed: 0.38 s/mol.\n",
            "Processing CHEMBL3675080 in molecule.smi (258/1125). Average speed: 0.38 s/mol.\n",
            "Processing CHEMBL3675079 in molecule.smi (257/1125). Average speed: 0.38 s/mol.\n",
            "Processing CHEMBL3675082 in molecule.smi (260/1125). Average speed: 0.38 s/mol.\n",
            "Processing CHEMBL3675081 in molecule.smi (259/1125). Average speed: 0.38 s/mol.\n",
            "Processing CHEMBL3675084 in molecule.smi (262/1125). Average speed: 0.37 s/mol.\n",
            "Processing CHEMBL3675083 in molecule.smi (261/1125). Average speed: 0.38 s/mol.\n",
            "Processing CHEMBL3675086 in molecule.smi (264/1125). Average speed: 0.37 s/mol.\n",
            "Processing CHEMBL3675085 in molecule.smi (263/1125). Average speed: 0.37 s/mol.\n",
            "Processing CHEMBL3675087 in molecule.smi (265/1125). Average speed: 0.37 s/mol.\n",
            "Processing CHEMBL3675088 in molecule.smi (266/1125). Average speed: 0.37 s/mol.\n",
            "Processing CHEMBL3675089 in molecule.smi (267/1125). Average speed: 0.38 s/mol.\n",
            "Processing CHEMBL3675090 in molecule.smi (268/1125). Average speed: 0.38 s/mol.\n",
            "Processing CHEMBL3675091 in molecule.smi (269/1125). Average speed: 0.38 s/mol.\n",
            "Processing CHEMBL3675093 in molecule.smi (271/1125). Average speed: 0.38 s/mol.\n",
            "Processing CHEMBL3675092 in molecule.smi (270/1125). Average speed: 0.38 s/mol.\n",
            "Processing CHEMBL3675094 in molecule.smi (272/1125). Average speed: 0.38 s/mol.\n",
            "Processing CHEMBL3675095 in molecule.smi (273/1125). Average speed: 0.38 s/mol.\n",
            "Processing CHEMBL3675096 in molecule.smi (274/1125). Average speed: 0.38 s/mol.\n",
            "Processing CHEMBL3675097 in molecule.smi (275/1125). Average speed: 0.38 s/mol.\n",
            "Processing CHEMBL3675098 in molecule.smi (276/1125). Average speed: 0.38 s/mol.\n",
            "Processing CHEMBL3675099 in molecule.smi (277/1125). Average speed: 0.38 s/mol.\n",
            "Processing CHEMBL3675100 in molecule.smi (278/1125). Average speed: 0.38 s/mol.\n",
            "Processing CHEMBL3675101 in molecule.smi (279/1125). Average speed: 0.38 s/mol.\n",
            "Processing CHEMBL3675102 in molecule.smi (280/1125). Average speed: 0.38 s/mol.\n",
            "Processing CHEMBL3675103 in molecule.smi (281/1125). Average speed: 0.38 s/mol.\n",
            "Processing CHEMBL3675104 in molecule.smi (282/1125). Average speed: 0.38 s/mol.\n",
            "Processing CHEMBL3675105 in molecule.smi (283/1125). Average speed: 0.38 s/mol.\n",
            "Processing CHEMBL3675106 in molecule.smi (284/1125). Average speed: 0.37 s/mol.\n",
            "Processing CHEMBL3675107 in molecule.smi (285/1125). Average speed: 0.37 s/mol.\n",
            "Processing CHEMBL3675108 in molecule.smi (286/1125). Average speed: 0.37 s/mol.\n",
            "Processing CHEMBL3675109 in molecule.smi (287/1125). Average speed: 0.37 s/mol.\n",
            "Processing CHEMBL3675110 in molecule.smi (288/1125). Average speed: 0.37 s/mol.\n",
            "Processing CHEMBL3675111 in molecule.smi (289/1125). Average speed: 0.37 s/mol.\n",
            "Processing CHEMBL3675112 in molecule.smi (290/1125). Average speed: 0.37 s/mol.\n",
            "Processing CHEMBL3675113 in molecule.smi (291/1125). Average speed: 0.37 s/mol.\n",
            "Processing CHEMBL3675115 in molecule.smi (293/1125). Average speed: 0.37 s/mol.\n",
            "Processing CHEMBL3675114 in molecule.smi (292/1125). Average speed: 0.37 s/mol.\n",
            "Processing CHEMBL3675117 in molecule.smi (295/1125). Average speed: 0.37 s/mol.\n",
            "Processing CHEMBL3675116 in molecule.smi (294/1125). Average speed: 0.37 s/mol.\n",
            "Processing CHEMBL3675119 in molecule.smi (297/1125). Average speed: 0.37 s/mol.\n",
            "Processing CHEMBL3675118 in molecule.smi (296/1125). Average speed: 0.37 s/mol.\n",
            "Processing CHEMBL3675120 in molecule.smi (298/1125). Average speed: 0.37 s/mol.\n",
            "Processing CHEMBL3675121 in molecule.smi (299/1125). Average speed: 0.37 s/mol.\n",
            "Processing CHEMBL3675122 in molecule.smi (300/1125). Average speed: 0.37 s/mol.\n",
            "Processing CHEMBL3675123 in molecule.smi (301/1125). Average speed: 0.37 s/mol.\n",
            "Processing CHEMBL3675124 in molecule.smi (302/1125). Average speed: 0.37 s/mol.\n",
            "Processing CHEMBL3675125 in molecule.smi (303/1125). Average speed: 0.37 s/mol.\n",
            "Processing CHEMBL3675126 in molecule.smi (304/1125). Average speed: 0.37 s/mol.\n",
            "Processing CHEMBL3675127 in molecule.smi (305/1125). Average speed: 0.37 s/mol.\n",
            "Processing CHEMBL3675128 in molecule.smi (306/1125). Average speed: 0.37 s/mol.\n",
            "Processing CHEMBL3675129 in molecule.smi (307/1125). Average speed: 0.37 s/mol.\n",
            "Processing CHEMBL3675130 in molecule.smi (308/1125). Average speed: 0.37 s/mol.\n",
            "Processing CHEMBL3675131 in molecule.smi (309/1125). Average speed: 0.37 s/mol.\n",
            "Processing CHEMBL3675132 in molecule.smi (310/1125). Average speed: 0.37 s/mol.\n",
            "Processing CHEMBL3675133 in molecule.smi (311/1125). Average speed: 0.37 s/mol.\n",
            "Processing CHEMBL3675135 in molecule.smi (313/1125). Average speed: 0.37 s/mol.\n",
            "Processing CHEMBL3675134 in molecule.smi (312/1125). Average speed: 0.37 s/mol.\n",
            "Processing CHEMBL3675137 in molecule.smi (315/1125). Average speed: 0.37 s/mol.\n",
            "Processing CHEMBL3675136 in molecule.smi (314/1125). Average speed: 0.37 s/mol.\n",
            "Processing CHEMBL3675138 in molecule.smi (316/1125). Average speed: 0.37 s/mol.\n",
            "Processing CHEMBL3675141 in molecule.smi (318/1125). Average speed: 0.37 s/mol.\n",
            "Processing CHEMBL3675139 in molecule.smi (317/1125). Average speed: 0.37 s/mol.\n",
            "Processing CHEMBL3675140 in molecule.smi (319/1125). Average speed: 0.37 s/mol.\n",
            "Processing CHEMBL3675141 in molecule.smi (320/1125). Average speed: 0.37 s/mol.\n",
            "Processing CHEMBL3675142 in molecule.smi (321/1125). Average speed: 0.37 s/mol.\n",
            "Processing CHEMBL3675143 in molecule.smi (322/1125). Average speed: 0.37 s/mol.\n",
            "Processing CHEMBL3675145 in molecule.smi (324/1125). Average speed: 0.37 s/mol.\n",
            "Processing CHEMBL3675144 in molecule.smi (323/1125). Average speed: 0.37 s/mol.\n",
            "Processing CHEMBL3675147 in molecule.smi (326/1125). Average speed: 0.37 s/mol.\n",
            "Processing CHEMBL3675146 in molecule.smi (325/1125). Average speed: 0.37 s/mol.\n",
            "Processing CHEMBL3675149 in molecule.smi (328/1125). Average speed: 0.37 s/mol.\n",
            "Processing CHEMBL3675148 in molecule.smi (327/1125). Average speed: 0.37 s/mol.\n",
            "Processing CHEMBL3675151 in molecule.smi (330/1125). Average speed: 0.37 s/mol.\n",
            "Processing CHEMBL3675150 in molecule.smi (329/1125). Average speed: 0.37 s/mol.\n",
            "Processing CHEMBL3675152 in molecule.smi (332/1125). Average speed: 0.37 s/mol.\n",
            "Processing CHEMBL3639740 in molecule.smi (331/1125). Average speed: 0.37 s/mol.\n",
            "Processing CHEMBL3675153 in molecule.smi (333/1125). Average speed: 0.37 s/mol.\n",
            "Processing CHEMBL3675154 in molecule.smi (334/1125). Average speed: 0.37 s/mol.\n",
            "Processing CHEMBL3675154 in molecule.smi (335/1125). Average speed: 0.37 s/mol.\n",
            "Processing CHEMBL3675155 in molecule.smi (336/1125). Average speed: 0.37 s/mol.\n",
            "Processing CHEMBL3675156 in molecule.smi (337/1125). Average speed: 0.37 s/mol.\n",
            "Processing CHEMBL3675157 in molecule.smi (338/1125). Average speed: 0.37 s/mol.\n",
            "Processing CHEMBL3675159 in molecule.smi (340/1125). Average speed: 0.37 s/mol.\n",
            "Processing CHEMBL3675158 in molecule.smi (339/1125). Average speed: 0.37 s/mol.\n",
            "Processing CHEMBL3675161 in molecule.smi (342/1125). Average speed: 0.37 s/mol.\n",
            "Processing CHEMBL3675160 in molecule.smi (341/1125). Average speed: 0.37 s/mol.\n",
            "Processing CHEMBL3675163 in molecule.smi (344/1125). Average speed: 0.37 s/mol.\n",
            "Processing CHEMBL3675162 in molecule.smi (343/1125). Average speed: 0.37 s/mol.\n",
            "Processing CHEMBL3675164 in molecule.smi (345/1125). Average speed: 0.37 s/mol.\n",
            "Processing CHEMBL3675166 in molecule.smi (347/1125). Average speed: 0.37 s/mol.\n",
            "Processing CHEMBL3675165 in molecule.smi (346/1125). Average speed: 0.37 s/mol.\n",
            "Processing CHEMBL3675167 in molecule.smi (348/1125). Average speed: 0.37 s/mol.\n",
            "Processing CHEMBL3675168 in molecule.smi (349/1125). Average speed: 0.37 s/mol.\n",
            "Processing CHEMBL3675169 in molecule.smi (350/1125). Average speed: 0.37 s/mol.\n",
            "Processing CHEMBL3675170 in molecule.smi (351/1125). Average speed: 0.37 s/mol.\n",
            "Processing CHEMBL3675171 in molecule.smi (352/1125). Average speed: 0.37 s/mol.\n",
            "Processing CHEMBL3675172 in molecule.smi (353/1125). Average speed: 0.37 s/mol.\n",
            "Processing CHEMBL3675173 in molecule.smi (354/1125). Average speed: 0.37 s/mol.\n",
            "Processing CHEMBL3675174 in molecule.smi (355/1125). Average speed: 0.37 s/mol.\n",
            "Processing CHEMBL3675175 in molecule.smi (356/1125). Average speed: 0.37 s/mol.\n",
            "Processing CHEMBL3675176 in molecule.smi (357/1125). Average speed: 0.37 s/mol.\n",
            "Processing CHEMBL3675177 in molecule.smi (358/1125). Average speed: 0.37 s/mol.\n",
            "Processing CHEMBL3675178 in molecule.smi (359/1125). Average speed: 0.37 s/mol.\n",
            "Processing CHEMBL3675179 in molecule.smi (360/1125). Average speed: 0.37 s/mol.\n",
            "Processing CHEMBL3675180 in molecule.smi (361/1125). Average speed: 0.37 s/mol.\n",
            "Processing CHEMBL3675181 in molecule.smi (362/1125). Average speed: 0.37 s/mol.\n",
            "Processing CHEMBL3675182 in molecule.smi (363/1125). Average speed: 0.37 s/mol.\n",
            "Processing CHEMBL3675183 in molecule.smi (364/1125). Average speed: 0.37 s/mol.\n",
            "Processing CHEMBL3675184 in molecule.smi (365/1125). Average speed: 0.37 s/mol.\n",
            "Processing CHEMBL3675185 in molecule.smi (366/1125). Average speed: 0.37 s/mol.\n",
            "Processing CHEMBL3675186 in molecule.smi (367/1125). Average speed: 0.37 s/mol.\n",
            "Processing CHEMBL3675187 in molecule.smi (368/1125). Average speed: 0.37 s/mol.\n",
            "Processing CHEMBL3679954 in molecule.smi (370/1125). Average speed: 0.37 s/mol.\n",
            "Processing CHEMBL3675188 in molecule.smi (369/1125). Average speed: 0.37 s/mol.\n",
            "Processing CHEMBL3679956 in molecule.smi (372/1125). Average speed: 0.37 s/mol.\n",
            "Processing CHEMBL3679955 in molecule.smi (371/1125). Average speed: 0.37 s/mol.\n",
            "Processing CHEMBL3679957 in molecule.smi (373/1125). Average speed: 0.37 s/mol.\n",
            "Processing CHEMBL3679958 in molecule.smi (374/1125). Average speed: 0.37 s/mol.\n",
            "Processing CHEMBL3679959 in molecule.smi (375/1125). Average speed: 0.37 s/mol.\n",
            "Processing CHEMBL3679960 in molecule.smi (376/1125). Average speed: 0.37 s/mol.\n",
            "Processing CHEMBL3679961 in molecule.smi (377/1125). Average speed: 0.37 s/mol.\n",
            "Processing CHEMBL3679962 in molecule.smi (378/1125). Average speed: 0.37 s/mol.\n",
            "Processing CHEMBL3679963 in molecule.smi (379/1125). Average speed: 0.37 s/mol.\n",
            "Processing CHEMBL3679964 in molecule.smi (380/1125). Average speed: 0.37 s/mol.\n",
            "Processing CHEMBL3679965 in molecule.smi (381/1125). Average speed: 0.37 s/mol.\n",
            "Processing CHEMBL3679966 in molecule.smi (382/1125). Average speed: 0.37 s/mol.\n",
            "Processing CHEMBL3679967 in molecule.smi (383/1125). Average speed: 0.37 s/mol.\n",
            "Processing CHEMBL3679968 in molecule.smi (384/1125). Average speed: 0.37 s/mol.\n",
            "Processing CHEMBL3679969 in molecule.smi (385/1125). Average speed: 0.37 s/mol.\n",
            "Processing CHEMBL3679970 in molecule.smi (386/1125). Average speed: 0.37 s/mol.\n",
            "Processing CHEMBL3679972 in molecule.smi (388/1125). Average speed: 0.37 s/mol.\n",
            "Processing CHEMBL3679971 in molecule.smi (387/1125). Average speed: 0.37 s/mol.\n",
            "Processing CHEMBL3679974 in molecule.smi (390/1125). Average speed: 0.37 s/mol.\n",
            "Processing CHEMBL3679973 in molecule.smi (389/1125). Average speed: 0.37 s/mol.\n",
            "Processing CHEMBL3679976 in molecule.smi (392/1125). Average speed: 0.37 s/mol.\n",
            "Processing CHEMBL3679975 in molecule.smi (391/1125). Average speed: 0.37 s/mol.\n",
            "Processing CHEMBL3679977 in molecule.smi (393/1125). Average speed: 0.37 s/mol.\n",
            "Processing CHEMBL3679978 in molecule.smi (394/1125). Average speed: 0.37 s/mol.\n",
            "Processing CHEMBL3679979 in molecule.smi (395/1125). Average speed: 0.37 s/mol.\n",
            "Processing CHEMBL3679980 in molecule.smi (396/1125). Average speed: 0.37 s/mol.\n",
            "Processing CHEMBL3679981 in molecule.smi (397/1125). Average speed: 0.37 s/mol.\n",
            "Processing CHEMBL3679982 in molecule.smi (398/1125). Average speed: 0.37 s/mol.\n",
            "Processing CHEMBL3679983 in molecule.smi (399/1125). Average speed: 0.37 s/mol.\n",
            "Processing CHEMBL3679984 in molecule.smi (400/1125). Average speed: 0.37 s/mol.\n",
            "Processing CHEMBL3679986 in molecule.smi (402/1125). Average speed: 0.36 s/mol.\n",
            "Processing CHEMBL3679985 in molecule.smi (401/1125). Average speed: 0.37 s/mol.\n",
            "Processing CHEMBL3679987 in molecule.smi (403/1125). Average speed: 0.36 s/mol.\n",
            "Processing CHEMBL3679988 in molecule.smi (404/1125). Average speed: 0.36 s/mol.\n",
            "Processing CHEMBL3679989 in molecule.smi (405/1125). Average speed: 0.36 s/mol.\n",
            "Processing CHEMBL3679990 in molecule.smi (406/1125). Average speed: 0.36 s/mol.\n",
            "Processing CHEMBL3679992 in molecule.smi (408/1125). Average speed: 0.36 s/mol.\n",
            "Processing CHEMBL3679991 in molecule.smi (407/1125). Average speed: 0.36 s/mol.\n",
            "Processing CHEMBL3679993 in molecule.smi (409/1125). Average speed: 0.36 s/mol.\n",
            "Processing CHEMBL3679995 in molecule.smi (411/1125). Average speed: 0.36 s/mol.\n",
            "Processing CHEMBL3679994 in molecule.smi (410/1125). Average speed: 0.36 s/mol.\n",
            "Processing CHEMBL3679996 in molecule.smi (412/1125). Average speed: 0.36 s/mol.\n",
            "Processing CHEMBL3679998 in molecule.smi (414/1125). Average speed: 0.36 s/mol.\n",
            "Processing CHEMBL3679997 in molecule.smi (413/1125). Average speed: 0.36 s/mol.\n",
            "Processing CHEMBL3679999 in molecule.smi (415/1125). Average speed: 0.36 s/mol.\n",
            "Processing CHEMBL3680000 in molecule.smi (416/1125). Average speed: 0.36 s/mol.\n",
            "Processing CHEMBL3680001 in molecule.smi (417/1125). Average speed: 0.36 s/mol.\n",
            "Processing CHEMBL3680002 in molecule.smi (418/1125). Average speed: 0.36 s/mol.\n",
            "Processing CHEMBL3639788 in molecule.smi (419/1125). Average speed: 0.36 s/mol.\n",
            "Processing CHEMBL3680003 in molecule.smi (420/1125). Average speed: 0.36 s/mol.\n",
            "Processing CHEMBL3680004 in molecule.smi (421/1125). Average speed: 0.36 s/mol.\n",
            "Processing CHEMBL3680005 in molecule.smi (422/1125). Average speed: 0.36 s/mol.\n",
            "Processing CHEMBL3680006 in molecule.smi (423/1125). Average speed: 0.36 s/mol.\n",
            "Processing CHEMBL2177757 in molecule.smi (424/1125). Average speed: 0.36 s/mol.\n",
            "Processing CHEMBL3664892 in molecule.smi (425/1125). Average speed: 0.36 s/mol.\n",
            "Processing CHEMBL3664894 in molecule.smi (427/1125). Average speed: 0.36 s/mol.\n",
            "Processing CHEMBL3664893 in molecule.smi (426/1125). Average speed: 0.36 s/mol.\n",
            "Processing CHEMBL3664895 in molecule.smi (428/1125). Average speed: 0.36 s/mol.\n",
            "Processing CHEMBL3664896 in molecule.smi (429/1125). Average speed: 0.36 s/mol.\n",
            "Processing CHEMBL3664897 in molecule.smi (430/1125). Average speed: 0.36 s/mol.\n",
            "Processing CHEMBL3664898 in molecule.smi (431/1125). Average speed: 0.36 s/mol.\n",
            "Processing CHEMBL3664899 in molecule.smi (432/1125). Average speed: 0.36 s/mol.\n",
            "Processing CHEMBL3664900 in molecule.smi (433/1125). Average speed: 0.36 s/mol.\n",
            "Processing CHEMBL3664902 in molecule.smi (435/1125). Average speed: 0.36 s/mol.\n",
            "Processing CHEMBL3664901 in molecule.smi (434/1125). Average speed: 0.36 s/mol.\n",
            "Processing CHEMBL3664903 in molecule.smi (436/1125). Average speed: 0.36 s/mol.\n",
            "Processing CHEMBL3664905 in molecule.smi (438/1125). Average speed: 0.36 s/mol.\n",
            "Processing CHEMBL3664904 in molecule.smi (437/1125). Average speed: 0.36 s/mol.\n",
            "Processing CHEMBL2178393 in molecule.smi (440/1125). Average speed: 0.36 s/mol.\n",
            "Processing CHEMBL3664906 in molecule.smi (439/1125). Average speed: 0.36 s/mol.\n",
            "Processing CHEMBL3664907 in molecule.smi (441/1125). Average speed: 0.36 s/mol.\n",
            "Processing CHEMBL3664908 in molecule.smi (442/1125). Average speed: 0.36 s/mol.\n",
            "Processing CHEMBL3664909 in molecule.smi (443/1125). Average speed: 0.36 s/mol.\n",
            "Processing CHEMBL3664910 in molecule.smi (444/1125). Average speed: 0.36 s/mol.\n",
            "Processing CHEMBL3664911 in molecule.smi (445/1125). Average speed: 0.35 s/mol.\n",
            "Processing CHEMBL3664912 in molecule.smi (446/1125). Average speed: 0.35 s/mol.\n",
            "Processing CHEMBL3664913 in molecule.smi (447/1125). Average speed: 0.35 s/mol.\n",
            "Processing CHEMBL3664914 in molecule.smi (448/1125). Average speed: 0.35 s/mol.\n",
            "Processing CHEMBL3664915 in molecule.smi (449/1125). Average speed: 0.35 s/mol.\n",
            "Processing CHEMBL3664916 in molecule.smi (450/1125). Average speed: 0.35 s/mol.\n",
            "Processing CHEMBL3664917 in molecule.smi (451/1125). Average speed: 0.35 s/mol.\n",
            "Processing CHEMBL3664918 in molecule.smi (452/1125). Average speed: 0.35 s/mol.\n",
            "Processing CHEMBL3664920 in molecule.smi (454/1125). Average speed: 0.35 s/mol.\n",
            "Processing CHEMBL3664919 in molecule.smi (453/1125). Average speed: 0.35 s/mol.\n",
            "Processing CHEMBL3664922 in molecule.smi (456/1125). Average speed: 0.35 s/mol.\n",
            "Processing CHEMBL3664921 in molecule.smi (455/1125). Average speed: 0.35 s/mol.\n",
            "Processing CHEMBL3664923 in molecule.smi (457/1125). Average speed: 0.35 s/mol.\n",
            "Processing CHEMBL3664924 in molecule.smi (458/1125). Average speed: 0.35 s/mol.\n",
            "Processing CHEMBL3664926 in molecule.smi (460/1125). Average speed: 0.35 s/mol.\n",
            "Processing CHEMBL3664925 in molecule.smi (459/1125). Average speed: 0.35 s/mol.\n",
            "Processing CHEMBL3664928 in molecule.smi (462/1125). Average speed: 0.35 s/mol.\n",
            "Processing CHEMBL3664927 in molecule.smi (461/1125). Average speed: 0.35 s/mol.\n",
            "Processing CHEMBL3664930 in molecule.smi (464/1125). Average speed: 0.35 s/mol.\n",
            "Processing CHEMBL3664929 in molecule.smi (463/1125). Average speed: 0.35 s/mol.\n",
            "Processing CHEMBL3664931 in molecule.smi (465/1125). Average speed: 0.35 s/mol.\n",
            "Processing CHEMBL3664932 in molecule.smi (466/1125). Average speed: 0.35 s/mol.\n",
            "Processing CHEMBL3664933 in molecule.smi (467/1125). Average speed: 0.35 s/mol.\n",
            "Processing CHEMBL3664934 in molecule.smi (468/1125). Average speed: 0.35 s/mol.\n",
            "Processing CHEMBL3664935 in molecule.smi (469/1125). Average speed: 0.35 s/mol.\n",
            "Processing CHEMBL3664936 in molecule.smi (470/1125). Average speed: 0.35 s/mol.\n",
            "Processing CHEMBL3664937 in molecule.smi (471/1125). Average speed: 0.35 s/mol.\n",
            "Processing CHEMBL3664939 in molecule.smi (473/1125). Average speed: 0.34 s/mol.\n",
            "Processing CHEMBL3664938 in molecule.smi (472/1125). Average speed: 0.34 s/mol.\n",
            "Processing CHEMBL3664940 in molecule.smi (474/1125). Average speed: 0.34 s/mol.\n",
            "Processing CHEMBL3664941 in molecule.smi (475/1125). Average speed: 0.34 s/mol.\n",
            "Processing CHEMBL3664942 in molecule.smi (476/1125). Average speed: 0.34 s/mol.\n",
            "Processing CHEMBL3664943 in molecule.smi (477/1125). Average speed: 0.34 s/mol.\n",
            "Processing CHEMBL3664944 in molecule.smi (478/1125). Average speed: 0.34 s/mol.\n",
            "Processing CHEMBL3664945 in molecule.smi (479/1125). Average speed: 0.34 s/mol.\n",
            "Processing CHEMBL3664947 in molecule.smi (481/1125). Average speed: 0.34 s/mol.\n",
            "Processing CHEMBL3664946 in molecule.smi (480/1125). Average speed: 0.34 s/mol.\n",
            "Processing CHEMBL3664949 in molecule.smi (483/1125). Average speed: 0.34 s/mol.\n",
            "Processing CHEMBL3664948 in molecule.smi (482/1125). Average speed: 0.34 s/mol.\n",
            "Processing CHEMBL3664951 in molecule.smi (485/1125). Average speed: 0.34 s/mol.\n",
            "Processing CHEMBL3664950 in molecule.smi (484/1125). Average speed: 0.34 s/mol.\n",
            "Processing CHEMBL3664952 in molecule.smi (486/1125). Average speed: 0.34 s/mol.\n",
            "Processing CHEMBL3664953 in molecule.smi (487/1125). Average speed: 0.34 s/mol.\n",
            "Processing CHEMBL3664954 in molecule.smi (488/1125). Average speed: 0.34 s/mol.\n",
            "Processing CHEMBL3639638 in molecule.smi (489/1125). Average speed: 0.34 s/mol.\n",
            "Processing CHEMBL3664955 in molecule.smi (490/1125). Average speed: 0.34 s/mol.\n",
            "Processing CHEMBL3664956 in molecule.smi (491/1125). Average speed: 0.34 s/mol.\n",
            "Processing CHEMBL3664957 in molecule.smi (492/1125). Average speed: 0.34 s/mol.\n",
            "Processing CHEMBL3664958 in molecule.smi (493/1125). Average speed: 0.34 s/mol.\n",
            "Processing CHEMBL3664959 in molecule.smi (494/1125). Average speed: 0.34 s/mol.\n",
            "Processing CHEMBL3664960 in molecule.smi (495/1125). Average speed: 0.34 s/mol.\n",
            "Processing CHEMBL3664961 in molecule.smi (496/1125). Average speed: 0.34 s/mol.\n",
            "Processing CHEMBL3664962 in molecule.smi (497/1125). Average speed: 0.34 s/mol.\n",
            "Processing CHEMBL3664964 in molecule.smi (499/1125). Average speed: 0.34 s/mol.\n",
            "Processing CHEMBL3664963 in molecule.smi (498/1125). Average speed: 0.34 s/mol.\n",
            "Processing CHEMBL3664965 in molecule.smi (500/1125). Average speed: 0.34 s/mol.\n",
            "Processing CHEMBL3664966 in molecule.smi (501/1125). Average speed: 0.34 s/mol.\n",
            "Processing CHEMBL3664967 in molecule.smi (502/1125). Average speed: 0.34 s/mol.\n",
            "Processing CHEMBL3664968 in molecule.smi (503/1125). Average speed: 0.34 s/mol.\n",
            "Processing CHEMBL3664969 in molecule.smi (504/1125). Average speed: 0.34 s/mol.\n",
            "Processing CHEMBL3664970 in molecule.smi (505/1125). Average speed: 0.34 s/mol.\n",
            "Processing CHEMBL3664971 in molecule.smi (506/1125). Average speed: 0.34 s/mol.\n",
            "Processing CHEMBL3664972 in molecule.smi (507/1125). Average speed: 0.34 s/mol.\n",
            "Processing CHEMBL3664973 in molecule.smi (508/1125). Average speed: 0.34 s/mol.\n",
            "Processing CHEMBL3664974 in molecule.smi (509/1125). Average speed: 0.34 s/mol.\n",
            "Processing CHEMBL3664975 in molecule.smi (510/1125). Average speed: 0.34 s/mol.\n",
            "Processing CHEMBL3664976 in molecule.smi (511/1125). Average speed: 0.34 s/mol.\n",
            "Processing CHEMBL3664977 in molecule.smi (512/1125). Average speed: 0.34 s/mol.\n",
            "Processing CHEMBL3664978 in molecule.smi (513/1125). Average speed: 0.34 s/mol.\n",
            "Processing CHEMBL3664979 in molecule.smi (514/1125). Average speed: 0.34 s/mol.\n",
            "Processing CHEMBL3664980 in molecule.smi (515/1125). Average speed: 0.34 s/mol.\n",
            "Processing CHEMBL3664981 in molecule.smi (516/1125). Average speed: 0.33 s/mol.\n",
            "Processing CHEMBL3664982 in molecule.smi (517/1125). Average speed: 0.34 s/mol.\n",
            "Processing CHEMBL3664984 in molecule.smi (519/1125). Average speed: 0.33 s/mol.\n",
            "Processing CHEMBL3664983 in molecule.smi (518/1125). Average speed: 0.33 s/mol.\n",
            "Processing CHEMBL3664985 in molecule.smi (520/1125). Average speed: 0.33 s/mol.\n",
            "Processing CHEMBL3664986 in molecule.smi (521/1125). Average speed: 0.33 s/mol.\n",
            "Processing CHEMBL3664987 in molecule.smi (522/1125). Average speed: 0.33 s/mol.\n",
            "Processing CHEMBL3664988 in molecule.smi (523/1125). Average speed: 0.33 s/mol.\n",
            "Processing CHEMBL3664989 in molecule.smi (524/1125). Average speed: 0.33 s/mol.\n",
            "Processing CHEMBL3664990 in molecule.smi (525/1125). Average speed: 0.33 s/mol.\n",
            "Processing CHEMBL3664991 in molecule.smi (526/1125). Average speed: 0.33 s/mol.\n",
            "Processing CHEMBL3664993 in molecule.smi (528/1125). Average speed: 0.33 s/mol.\n",
            "Processing CHEMBL3664992 in molecule.smi (527/1125). Average speed: 0.33 s/mol.\n",
            "Processing CHEMBL3664994 in molecule.smi (529/1125). Average speed: 0.33 s/mol.\n",
            "Processing CHEMBL3664995 in molecule.smi (530/1125). Average speed: 0.33 s/mol.\n",
            "Processing CHEMBL3664996 in molecule.smi (531/1125). Average speed: 0.33 s/mol.\n",
            "Processing CHEMBL3664997 in molecule.smi (532/1125). Average speed: 0.33 s/mol.\n",
            "Processing CHEMBL3664998 in molecule.smi (533/1125). Average speed: 0.33 s/mol.\n",
            "Processing CHEMBL3664999 in molecule.smi (534/1125). Average speed: 0.33 s/mol.\n",
            "Processing CHEMBL3665000 in molecule.smi (535/1125). Average speed: 0.33 s/mol.\n",
            "Processing CHEMBL3665001 in molecule.smi (536/1125). Average speed: 0.33 s/mol.\n",
            "Processing CHEMBL3665002 in molecule.smi (537/1125). Average speed: 0.33 s/mol.\n",
            "Processing CHEMBL3665003 in molecule.smi (538/1125). Average speed: 0.33 s/mol.\n",
            "Processing CHEMBL3665005 in molecule.smi (540/1125). Average speed: 0.33 s/mol.\n",
            "Processing CHEMBL3665004 in molecule.smi (539/1125). Average speed: 0.33 s/mol.\n",
            "Processing CHEMBL3665006 in molecule.smi (541/1125). Average speed: 0.33 s/mol.\n",
            "Processing CHEMBL3665008 in molecule.smi (543/1125). Average speed: 0.33 s/mol.\n",
            "Processing CHEMBL3665007 in molecule.smi (542/1125). Average speed: 0.33 s/mol.\n",
            "Processing CHEMBL3665009 in molecule.smi (544/1125). Average speed: 0.33 s/mol.\n",
            "Processing CHEMBL3665010 in molecule.smi (545/1125). Average speed: 0.33 s/mol.\n",
            "Processing CHEMBL3665011 in molecule.smi (546/1125). Average speed: 0.33 s/mol.\n",
            "Processing CHEMBL3665012 in molecule.smi (547/1125). Average speed: 0.33 s/mol.\n",
            "Processing CHEMBL3665013 in molecule.smi (548/1125). Average speed: 0.33 s/mol.\n",
            "Processing CHEMBL3665014 in molecule.smi (549/1125). Average speed: 0.33 s/mol.\n",
            "Processing CHEMBL3665015 in molecule.smi (550/1125). Average speed: 0.33 s/mol.\n",
            "Processing CHEMBL3665016 in molecule.smi (551/1125). Average speed: 0.33 s/mol.\n",
            "Processing CHEMBL3669856 in molecule.smi (552/1125). Average speed: 0.33 s/mol.\n",
            "Processing CHEMBL3669857 in molecule.smi (553/1125). Average speed: 0.33 s/mol.\n",
            "Processing CHEMBL3669859 in molecule.smi (555/1125). Average speed: 0.33 s/mol.\n",
            "Processing CHEMBL3669858 in molecule.smi (554/1125). Average speed: 0.33 s/mol.\n",
            "Processing CHEMBL3669860 in molecule.smi (556/1125). Average speed: 0.33 s/mol.\n",
            "Processing CHEMBL3669861 in molecule.smi (557/1125). Average speed: 0.33 s/mol.\n",
            "Processing CHEMBL3669862 in molecule.smi (558/1125). Average speed: 0.33 s/mol.\n",
            "Processing CHEMBL3669863 in molecule.smi (559/1125). Average speed: 0.33 s/mol.\n",
            "Processing CHEMBL3669864 in molecule.smi (560/1125). Average speed: 0.33 s/mol.\n",
            "Processing CHEMBL3669866 in molecule.smi (562/1125). Average speed: 0.33 s/mol.\n",
            "Processing CHEMBL3669865 in molecule.smi (561/1125). Average speed: 0.33 s/mol.\n",
            "Processing CHEMBL3669868 in molecule.smi (564/1125). Average speed: 0.32 s/mol.\n",
            "Processing CHEMBL3669867 in molecule.smi (563/1125). Average speed: 0.33 s/mol.\n",
            "Processing CHEMBL3669870 in molecule.smi (566/1125). Average speed: 0.32 s/mol.\n",
            "Processing CHEMBL3669869 in molecule.smi (565/1125). Average speed: 0.32 s/mol.\n",
            "Processing CHEMBL3669871 in molecule.smi (567/1125). Average speed: 0.32 s/mol.\n",
            "Processing CHEMBL3669872 in molecule.smi (568/1125). Average speed: 0.32 s/mol.\n",
            "Processing CHEMBL3669873 in molecule.smi (569/1125). Average speed: 0.32 s/mol.\n",
            "Processing CHEMBL3669874 in molecule.smi (570/1125). Average speed: 0.32 s/mol.\n",
            "Processing CHEMBL3669875 in molecule.smi (571/1125). Average speed: 0.32 s/mol.\n",
            "Processing CHEMBL3669876 in molecule.smi (572/1125). Average speed: 0.32 s/mol.\n",
            "Processing CHEMBL3669877 in molecule.smi (573/1125). Average speed: 0.32 s/mol.\n",
            "Processing CHEMBL3669878 in molecule.smi (574/1125). Average speed: 0.32 s/mol.\n",
            "Processing CHEMBL3669879 in molecule.smi (575/1125). Average speed: 0.32 s/mol.\n",
            "Processing CHEMBL3669880 in molecule.smi (576/1125). Average speed: 0.32 s/mol.\n",
            "Processing CHEMBL3669882 in molecule.smi (578/1125). Average speed: 0.32 s/mol.\n",
            "Processing CHEMBL3669881 in molecule.smi (577/1125). Average speed: 0.32 s/mol.\n",
            "Processing CHEMBL3669884 in molecule.smi (580/1125). Average speed: 0.32 s/mol.\n",
            "Processing CHEMBL3669883 in molecule.smi (579/1125). Average speed: 0.32 s/mol.\n",
            "Processing CHEMBL3669885 in molecule.smi (581/1125). Average speed: 0.32 s/mol.\n",
            "Processing CHEMBL3669887 in molecule.smi (583/1125). Average speed: 0.32 s/mol.\n",
            "Processing CHEMBL3669886 in molecule.smi (582/1125). Average speed: 0.32 s/mol.\n",
            "Processing CHEMBL3669888 in molecule.smi (584/1125). Average speed: 0.32 s/mol.\n",
            "Processing CHEMBL3669889 in molecule.smi (585/1125). Average speed: 0.32 s/mol.\n",
            "Processing CHEMBL3669890 in molecule.smi (586/1125). Average speed: 0.32 s/mol.\n",
            "Processing CHEMBL3669891 in molecule.smi (587/1125). Average speed: 0.32 s/mol.\n",
            "Processing CHEMBL3669892 in molecule.smi (588/1125). Average speed: 0.32 s/mol.\n",
            "Processing CHEMBL3669893 in molecule.smi (589/1125). Average speed: 0.32 s/mol.\n",
            "Processing CHEMBL3669894 in molecule.smi (590/1125). Average speed: 0.32 s/mol.\n",
            "Processing CHEMBL3669895 in molecule.smi (591/1125). Average speed: 0.32 s/mol.\n",
            "Processing CHEMBL3680022 in molecule.smi (592/1125). Average speed: 0.32 s/mol.\n",
            "Processing CHEMBL3669896 in molecule.smi (593/1125). Average speed: 0.32 s/mol.\n",
            "Processing CHEMBL3669897 in molecule.smi (594/1125). Average speed: 0.32 s/mol.\n",
            "Processing CHEMBL3669898 in molecule.smi (595/1125). Average speed: 0.32 s/mol.\n",
            "Processing CHEMBL3669900 in molecule.smi (597/1125). Average speed: 0.32 s/mol.\n",
            "Processing CHEMBL3669899 in molecule.smi (596/1125). Average speed: 0.32 s/mol.\n",
            "Processing CHEMBL3669902 in molecule.smi (599/1125). Average speed: 0.32 s/mol.\n",
            "Processing CHEMBL3669901 in molecule.smi (598/1125). Average speed: 0.32 s/mol.\n",
            "Processing CHEMBL3669903 in molecule.smi (600/1125). Average speed: 0.32 s/mol.\n",
            "Processing CHEMBL3669904 in molecule.smi (601/1125). Average speed: 0.32 s/mol.\n",
            "Processing CHEMBL3639687 in molecule.smi (602/1125). Average speed: 0.32 s/mol.\n",
            "Processing CHEMBL3669906 in molecule.smi (604/1125). Average speed: 0.32 s/mol.\n",
            "Processing CHEMBL3669905 in molecule.smi (603/1125). Average speed: 0.32 s/mol.\n",
            "Processing CHEMBL3669908 in molecule.smi (606/1125). Average speed: 0.32 s/mol.\n",
            "Processing CHEMBL3669907 in molecule.smi (605/1125). Average speed: 0.32 s/mol.\n",
            "Processing CHEMBL3669910 in molecule.smi (608/1125). Average speed: 0.32 s/mol.\n",
            "Processing CHEMBL3669909 in molecule.smi (607/1125). Average speed: 0.32 s/mol.\n",
            "Processing CHEMBL3669912 in molecule.smi (610/1125). Average speed: 0.32 s/mol.\n",
            "Processing CHEMBL3669911 in molecule.smi (609/1125). Average speed: 0.32 s/mol.\n",
            "Processing CHEMBL3669913 in molecule.smi (611/1125). Average speed: 0.32 s/mol.\n",
            "Processing CHEMBL3669914 in molecule.smi (612/1125). Average speed: 0.32 s/mol.\n",
            "Processing CHEMBL3669915 in molecule.smi (613/1125). Average speed: 0.32 s/mol.\n",
            "Processing CHEMBL3669917 in molecule.smi (615/1125). Average speed: 0.32 s/mol.\n",
            "Processing CHEMBL3669916 in molecule.smi (614/1125). Average speed: 0.32 s/mol.\n",
            "Processing CHEMBL3669918 in molecule.smi (616/1125). Average speed: 0.32 s/mol.\n",
            "Processing CHEMBL3669919 in molecule.smi (617/1125). Average speed: 0.32 s/mol.\n",
            "Processing CHEMBL3669920 in molecule.smi (618/1125). Average speed: 0.32 s/mol.\n",
            "Processing CHEMBL3669921 in molecule.smi (619/1125). Average speed: 0.32 s/mol.\n",
            "Processing CHEMBL3669922 in molecule.smi (620/1125). Average speed: 0.32 s/mol.\n",
            "Processing CHEMBL3669923 in molecule.smi (621/1125). Average speed: 0.32 s/mol.\n",
            "Processing CHEMBL3669924 in molecule.smi (622/1125). Average speed: 0.32 s/mol.\n",
            "Processing CHEMBL3669925 in molecule.smi (623/1125). Average speed: 0.32 s/mol.\n",
            "Processing CHEMBL3669926 in molecule.smi (624/1125). Average speed: 0.32 s/mol.\n",
            "Processing CHEMBL3669927 in molecule.smi (625/1125). Average speed: 0.32 s/mol.\n",
            "Processing CHEMBL3669928 in molecule.smi (626/1125). Average speed: 0.32 s/mol.\n",
            "Processing CHEMBL3669929 in molecule.smi (627/1125). Average speed: 0.32 s/mol.\n",
            "Processing CHEMBL3669930 in molecule.smi (628/1125). Average speed: 0.32 s/mol.\n",
            "Processing CHEMBL3669931 in molecule.smi (629/1125). Average speed: 0.32 s/mol.\n",
            "Processing CHEMBL3669932 in molecule.smi (630/1125). Average speed: 0.32 s/mol.\n",
            "Processing CHEMBL3669933 in molecule.smi (631/1125). Average speed: 0.32 s/mol.\n",
            "Processing CHEMBL3669934 in molecule.smi (632/1125). Average speed: 0.32 s/mol.\n",
            "Processing CHEMBL3669935 in molecule.smi (633/1125). Average speed: 0.32 s/mol.\n",
            "Processing CHEMBL3669936 in molecule.smi (634/1125). Average speed: 0.32 s/mol.\n",
            "Processing CHEMBL3669937 in molecule.smi (635/1125). Average speed: 0.32 s/mol.\n",
            "Processing CHEMBL3669938 in molecule.smi (636/1125). Average speed: 0.32 s/mol.\n",
            "Processing CHEMBL3669939 in molecule.smi (637/1125). Average speed: 0.32 s/mol.\n",
            "Processing CHEMBL3669940 in molecule.smi (638/1125). Average speed: 0.32 s/mol.\n",
            "Processing CHEMBL3669941 in molecule.smi (639/1125). Average speed: 0.32 s/mol.\n",
            "Processing CHEMBL3669942 in molecule.smi (640/1125). Average speed: 0.32 s/mol.\n",
            "Processing CHEMBL3669943 in molecule.smi (641/1125). Average speed: 0.32 s/mol.\n",
            "Processing CHEMBL3669944 in molecule.smi (642/1125). Average speed: 0.32 s/mol.\n",
            "Processing CHEMBL3680032 in molecule.smi (644/1125). Average speed: 0.32 s/mol.\n",
            "Processing CHEMBL3669945 in molecule.smi (643/1125). Average speed: 0.32 s/mol.\n",
            "Processing CHEMBL3669946 in molecule.smi (645/1125). Average speed: 0.32 s/mol.\n",
            "Processing CHEMBL3669947 in molecule.smi (646/1125). Average speed: 0.32 s/mol.\n",
            "Processing CHEMBL3669948 in molecule.smi (647/1125). Average speed: 0.32 s/mol.\n",
            "Processing CHEMBL3669950 in molecule.smi (649/1125). Average speed: 0.32 s/mol.\n",
            "Processing CHEMBL3669949 in molecule.smi (648/1125). Average speed: 0.32 s/mol.\n",
            "Processing CHEMBL3669951 in molecule.smi (650/1125). Average speed: 0.32 s/mol.\n",
            "Processing CHEMBL3669952 in molecule.smi (651/1125). Average speed: 0.32 s/mol.\n",
            "Processing CHEMBL3669953 in molecule.smi (652/1125). Average speed: 0.32 s/mol.\n",
            "Processing CHEMBL3669954 in molecule.smi (653/1125). Average speed: 0.32 s/mol.\n",
            "Processing CHEMBL3669955 in molecule.smi (654/1125). Average speed: 0.32 s/mol.\n",
            "Processing CHEMBL3669956 in molecule.smi (655/1125). Average speed: 0.32 s/mol.\n",
            "Processing CHEMBL3669957 in molecule.smi (656/1125). Average speed: 0.32 s/mol.\n",
            "Processing CHEMBL3669958 in molecule.smi (657/1125). Average speed: 0.32 s/mol.\n",
            "Processing CHEMBL3669959 in molecule.smi (658/1125). Average speed: 0.32 s/mol.\n",
            "Processing CHEMBL3669960 in molecule.smi (659/1125). Average speed: 0.32 s/mol.\n",
            "Processing CHEMBL3669961 in molecule.smi (660/1125). Average speed: 0.32 s/mol.\n",
            "Processing CHEMBL3669962 in molecule.smi (661/1125). Average speed: 0.32 s/mol.\n",
            "Processing CHEMBL3669964 in molecule.smi (663/1125). Average speed: 0.32 s/mol.\n",
            "Processing CHEMBL3669963 in molecule.smi (662/1125). Average speed: 0.32 s/mol.\n",
            "Processing CHEMBL3669966 in molecule.smi (665/1125). Average speed: 0.32 s/mol.\n",
            "Processing CHEMBL3669965 in molecule.smi (664/1125). Average speed: 0.32 s/mol.\n",
            "Processing CHEMBL3669968 in molecule.smi (667/1125). Average speed: 0.32 s/mol.\n",
            "Processing CHEMBL3669967 in molecule.smi (666/1125). Average speed: 0.32 s/mol.\n",
            "Processing CHEMBL3669969 in molecule.smi (668/1125). Average speed: 0.32 s/mol.\n",
            "Processing CHEMBL3669970 in molecule.smi (669/1125). Average speed: 0.32 s/mol.\n",
            "Processing CHEMBL3669971 in molecule.smi (670/1125). Average speed: 0.32 s/mol.\n",
            "Processing CHEMBL3669972 in molecule.smi (671/1125). Average speed: 0.32 s/mol.\n",
            "Processing CHEMBL3669973 in molecule.smi (672/1125). Average speed: 0.32 s/mol.\n",
            "Processing CHEMBL3669974 in molecule.smi (673/1125). Average speed: 0.32 s/mol.\n",
            "Processing CHEMBL3669975 in molecule.smi (674/1125). Average speed: 0.32 s/mol.\n",
            "Processing CHEMBL3669976 in molecule.smi (675/1125). Average speed: 0.32 s/mol.\n",
            "Processing CHEMBL3669977 in molecule.smi (676/1125). Average speed: 0.32 s/mol.\n",
            "Processing CHEMBL3669978 in molecule.smi (677/1125). Average speed: 0.32 s/mol.\n",
            "Processing CHEMBL3669979 in molecule.smi (678/1125). Average speed: 0.32 s/mol.\n",
            "Processing CHEMBL3669980 in molecule.smi (679/1125). Average speed: 0.32 s/mol.\n",
            "Processing CHEMBL3669981 in molecule.smi (680/1125). Average speed: 0.32 s/mol.\n",
            "Processing CHEMBL3669983 in molecule.smi (682/1125). Average speed: 0.32 s/mol.\n",
            "Processing CHEMBL3669982 in molecule.smi (681/1125). Average speed: 0.32 s/mol.\n",
            "Processing CHEMBL3669984 in molecule.smi (683/1125). Average speed: 0.32 s/mol.\n",
            "Processing CHEMBL3669986 in molecule.smi (685/1125). Average speed: 0.32 s/mol.\n",
            "Processing CHEMBL3669985 in molecule.smi (684/1125). Average speed: 0.32 s/mol.\n",
            "Processing CHEMBL3669987 in molecule.smi (687/1125). Average speed: 0.32 s/mol.\n",
            "Processing CHEMBL3669977 in molecule.smi (686/1125). Average speed: 0.32 s/mol.\n",
            "Processing CHEMBL3669989 in molecule.smi (689/1125). Average speed: 0.32 s/mol.\n",
            "Processing CHEMBL3669988 in molecule.smi (688/1125). Average speed: 0.32 s/mol.\n",
            "Processing CHEMBL3669990 in molecule.smi (690/1125). Average speed: 0.32 s/mol.\n",
            "Processing CHEMBL3669991 in molecule.smi (691/1125). Average speed: 0.32 s/mol.\n",
            "Processing CHEMBL3669992 in molecule.smi (692/1125). Average speed: 0.32 s/mol.\n",
            "Processing CHEMBL3669994 in molecule.smi (694/1125). Average speed: 0.32 s/mol.\n",
            "Processing CHEMBL3669993 in molecule.smi (693/1125). Average speed: 0.32 s/mol.\n",
            "Processing CHEMBL3669996 in molecule.smi (696/1125). Average speed: 0.32 s/mol.\n",
            "Processing CHEMBL3669995 in molecule.smi (695/1125). Average speed: 0.32 s/mol.\n",
            "Processing CHEMBL3669998 in molecule.smi (698/1125). Average speed: 0.32 s/mol.\n",
            "Processing CHEMBL3669997 in molecule.smi (697/1125). Average speed: 0.32 s/mol.\n",
            "Processing CHEMBL3669999 in molecule.smi (699/1125). Average speed: 0.32 s/mol.\n",
            "Processing CHEMBL3670000 in molecule.smi (700/1125). Average speed: 0.32 s/mol.\n",
            "Processing CHEMBL3670001 in molecule.smi (701/1125). Average speed: 0.32 s/mol.\n",
            "Processing CHEMBL3670002 in molecule.smi (702/1125). Average speed: 0.32 s/mol.\n",
            "Processing CHEMBL3670003 in molecule.smi (703/1125). Average speed: 0.32 s/mol.\n",
            "Processing CHEMBL3639688 in molecule.smi (704/1125). Average speed: 0.32 s/mol.\n",
            "Processing CHEMBL3680036 in molecule.smi (705/1125). Average speed: 0.32 s/mol.\n",
            "Processing CHEMBL3670005 in molecule.smi (707/1125). Average speed: 0.32 s/mol.\n",
            "Processing CHEMBL3670004 in molecule.smi (706/1125). Average speed: 0.32 s/mol.\n",
            "Processing CHEMBL3670006 in molecule.smi (708/1125). Average speed: 0.32 s/mol.\n",
            "Processing CHEMBL3670008 in molecule.smi (710/1125). Average speed: 0.32 s/mol.\n",
            "Processing CHEMBL3670007 in molecule.smi (709/1125). Average speed: 0.32 s/mol.\n",
            "Processing CHEMBL3670010 in molecule.smi (712/1125). Average speed: 0.32 s/mol.\n",
            "Processing CHEMBL3670009 in molecule.smi (711/1125). Average speed: 0.32 s/mol.\n",
            "Processing CHEMBL3670012 in molecule.smi (714/1125). Average speed: 0.32 s/mol.\n",
            "Processing CHEMBL3670011 in molecule.smi (713/1125). Average speed: 0.32 s/mol.\n",
            "Processing CHEMBL3670013 in molecule.smi (715/1125). Average speed: 0.32 s/mol.\n",
            "Processing CHEMBL3670014 in molecule.smi (716/1125). Average speed: 0.32 s/mol.\n",
            "Processing CHEMBL3670015 in molecule.smi (717/1125). Average speed: 0.32 s/mol.\n",
            "Processing CHEMBL3670016 in molecule.smi (718/1125). Average speed: 0.32 s/mol.\n",
            "Processing CHEMBL3670017 in molecule.smi (719/1125). Average speed: 0.32 s/mol.\n",
            "Processing CHEMBL3670019 in molecule.smi (721/1125). Average speed: 0.32 s/mol.\n",
            "Processing CHEMBL3670018 in molecule.smi (720/1125). Average speed: 0.32 s/mol.\n",
            "Processing CHEMBL3670021 in molecule.smi (723/1125). Average speed: 0.32 s/mol.\n",
            "Processing CHEMBL3670020 in molecule.smi (722/1125). Average speed: 0.32 s/mol.\n",
            "Processing CHEMBL3670023 in molecule.smi (725/1125). Average speed: 0.32 s/mol.\n",
            "Processing CHEMBL3670022 in molecule.smi (724/1125). Average speed: 0.32 s/mol.\n",
            "Processing CHEMBL3670025 in molecule.smi (727/1125). Average speed: 0.32 s/mol.\n",
            "Processing CHEMBL3670024 in molecule.smi (726/1125). Average speed: 0.32 s/mol.\n",
            "Processing CHEMBL3670026 in molecule.smi (728/1125). Average speed: 0.32 s/mol.\n",
            "Processing CHEMBL3670027 in molecule.smi (729/1125). Average speed: 0.32 s/mol.\n",
            "Processing CHEMBL3670029 in molecule.smi (731/1125). Average speed: 0.32 s/mol.\n",
            "Processing CHEMBL3670028 in molecule.smi (730/1125). Average speed: 0.32 s/mol.\n",
            "Processing CHEMBL3670030 in molecule.smi (732/1125). Average speed: 0.32 s/mol.\n",
            "Processing CHEMBL3670031 in molecule.smi (733/1125). Average speed: 0.32 s/mol.\n",
            "Processing CHEMBL3670032 in molecule.smi (734/1125). Average speed: 0.32 s/mol.\n",
            "Processing CHEMBL3670034 in molecule.smi (736/1125). Average speed: 0.32 s/mol.\n",
            "Processing CHEMBL3670033 in molecule.smi (735/1125). Average speed: 0.32 s/mol.\n",
            "Processing CHEMBL3670035 in molecule.smi (737/1125). Average speed: 0.32 s/mol.\n",
            "Processing CHEMBL3670036 in molecule.smi (738/1125). Average speed: 0.32 s/mol.\n",
            "Processing CHEMBL3670037 in molecule.smi (739/1125). Average speed: 0.32 s/mol.\n",
            "Processing CHEMBL3670038 in molecule.smi (740/1125). Average speed: 0.32 s/mol.\n",
            "Processing CHEMBL3670039 in molecule.smi (741/1125). Average speed: 0.32 s/mol.\n",
            "Processing CHEMBL3670040 in molecule.smi (742/1125). Average speed: 0.32 s/mol.\n",
            "Processing CHEMBL3670042 in molecule.smi (744/1125). Average speed: 0.32 s/mol.\n",
            "Processing CHEMBL3670041 in molecule.smi (743/1125). Average speed: 0.32 s/mol.\n",
            "Processing CHEMBL3670044 in molecule.smi (746/1125). Average speed: 0.32 s/mol.\n",
            "Processing CHEMBL3670043 in molecule.smi (745/1125). Average speed: 0.32 s/mol.\n",
            "Processing CHEMBL3670046 in molecule.smi (748/1125). Average speed: 0.32 s/mol.\n",
            "Processing CHEMBL3670045 in molecule.smi (747/1125). Average speed: 0.32 s/mol.\n",
            "Processing CHEMBL3670048 in molecule.smi (750/1125). Average speed: 0.32 s/mol.\n",
            "Processing CHEMBL3670047 in molecule.smi (749/1125). Average speed: 0.32 s/mol.\n",
            "Processing CHEMBL3670049 in molecule.smi (751/1125). Average speed: 0.32 s/mol.\n",
            "Processing CHEMBL3670050 in molecule.smi (752/1125). Average speed: 0.32 s/mol.\n",
            "Processing CHEMBL3670051 in molecule.smi (753/1125). Average speed: 0.32 s/mol.\n",
            "Processing CHEMBL3670052 in molecule.smi (754/1125). Average speed: 0.32 s/mol.\n",
            "Processing CHEMBL3670053 in molecule.smi (755/1125). Average speed: 0.32 s/mol.\n",
            "Processing CHEMBL3670054 in molecule.smi (756/1125). Average speed: 0.32 s/mol.\n",
            "Processing CHEMBL3670055 in molecule.smi (757/1125). Average speed: 0.32 s/mol.\n",
            "Processing CHEMBL3670057 in molecule.smi (759/1125). Average speed: 0.32 s/mol.\n",
            "Processing CHEMBL3670056 in molecule.smi (758/1125). Average speed: 0.32 s/mol.\n",
            "Processing CHEMBL3670059 in molecule.smi (761/1125). Average speed: 0.32 s/mol.\n",
            "Processing CHEMBL3670058 in molecule.smi (760/1125). Average speed: 0.32 s/mol.\n",
            "Processing CHEMBL3670060 in molecule.smi (762/1125). Average speed: 0.32 s/mol.\n",
            "Processing CHEMBL3670061 in molecule.smi (763/1125). Average speed: 0.32 s/mol.\n",
            "Processing CHEMBL3670062 in molecule.smi (764/1125). Average speed: 0.32 s/mol.\n",
            "Processing CHEMBL3670063 in molecule.smi (765/1125). Average speed: 0.32 s/mol.\n",
            "Processing CHEMBL3670064 in molecule.smi (766/1125). Average speed: 0.32 s/mol.\n",
            "Processing CHEMBL3670065 in molecule.smi (767/1125). Average speed: 0.32 s/mol.\n",
            "Processing CHEMBL3680032 in molecule.smi (768/1125). Average speed: 0.32 s/mol.\n",
            "Processing CHEMBL3670067 in molecule.smi (770/1125). Average speed: 0.32 s/mol.\n",
            "Processing CHEMBL3670066 in molecule.smi (769/1125). Average speed: 0.32 s/mol.\n",
            "Processing CHEMBL3670069 in molecule.smi (772/1125). Average speed: 0.31 s/mol.\n",
            "Processing CHEMBL3670068 in molecule.smi (771/1125). Average speed: 0.32 s/mol.\n",
            "Processing CHEMBL3670071 in molecule.smi (774/1125). Average speed: 0.31 s/mol.\n",
            "Processing CHEMBL3670070 in molecule.smi (773/1125). Average speed: 0.31 s/mol.\n",
            "Processing CHEMBL3670073 in molecule.smi (776/1125). Average speed: 0.31 s/mol.\n",
            "Processing CHEMBL3670072 in molecule.smi (775/1125). Average speed: 0.31 s/mol.\n",
            "Processing CHEMBL3670075 in molecule.smi (778/1125). Average speed: 0.31 s/mol.\n",
            "Processing CHEMBL3670074 in molecule.smi (777/1125). Average speed: 0.31 s/mol.\n",
            "Processing CHEMBL3670076 in molecule.smi (779/1125). Average speed: 0.31 s/mol.\n",
            "Processing CHEMBL3670077 in molecule.smi (780/1125). Average speed: 0.31 s/mol.\n",
            "Processing CHEMBL3674969 in molecule.smi (782/1125). Average speed: 0.31 s/mol.\n",
            "Processing CHEMBL3674968 in molecule.smi (781/1125). Average speed: 0.31 s/mol.\n",
            "Processing CHEMBL3674970 in molecule.smi (783/1125). Average speed: 0.31 s/mol.\n",
            "Processing CHEMBL3674971 in molecule.smi (784/1125). Average speed: 0.31 s/mol.\n",
            "Processing CHEMBL3674972 in molecule.smi (785/1125). Average speed: 0.31 s/mol.\n",
            "Processing CHEMBL3674973 in molecule.smi (786/1125). Average speed: 0.31 s/mol.\n",
            "Processing CHEMBL3674974 in molecule.smi (787/1125). Average speed: 0.31 s/mol.\n",
            "Processing CHEMBL2177757 in molecule.smi (788/1125). Average speed: 0.32 s/mol.\n",
            "Processing CHEMBL2177757 in molecule.smi (789/1125). Average speed: 0.31 s/mol.\n",
            "Processing CHEMBL3639788 in molecule.smi (790/1125). Average speed: 0.31 s/mol.\n",
            "Processing CHEMBL4075531 in molecule.smi (791/1125). Average speed: 0.31 s/mol.\n",
            "Processing CHEMBL4084095 in molecule.smi (792/1125). Average speed: 0.31 s/mol.\n",
            "Processing CHEMBL4100547 in molecule.smi (793/1125). Average speed: 0.32 s/mol.\n",
            "Processing CHEMBL4073733 in molecule.smi (794/1125). Average speed: 0.32 s/mol.\n",
            "Processing CHEMBL4064324 in molecule.smi (795/1125). Average speed: 0.32 s/mol.\n",
            "Processing CHEMBL4092049 in molecule.smi (796/1125). Average speed: 0.32 s/mol.\n",
            "Processing CHEMBL4070276 in molecule.smi (797/1125). Average speed: 0.32 s/mol.\n",
            "Processing CHEMBL4100814 in molecule.smi (798/1125). Average speed: 0.32 s/mol.\n",
            "Processing CHEMBL4098413 in molecule.smi (800/1125). Average speed: 0.32 s/mol.\n",
            "Processing CHEMBL4074051 in molecule.smi (799/1125). Average speed: 0.32 s/mol.\n",
            "Processing CHEMBL4080388 in molecule.smi (801/1125). Average speed: 0.32 s/mol.\n",
            "Processing CHEMBL4090687 in molecule.smi (802/1125). Average speed: 0.32 s/mol.\n",
            "Processing CHEMBL4069677 in molecule.smi (803/1125). Average speed: 0.32 s/mol.\n",
            "Processing CHEMBL4061000 in molecule.smi (805/1125). Average speed: 0.32 s/mol.\n",
            "Processing CHEMBL4082885 in molecule.smi (804/1125). Average speed: 0.32 s/mol.\n",
            "Processing CHEMBL4099331 in molecule.smi (807/1125). Average speed: 0.32 s/mol.\n",
            "Processing CHEMBL4072390 in molecule.smi (806/1125). Average speed: 0.32 s/mol.\n",
            "Processing CHEMBL4087349 in molecule.smi (808/1125). Average speed: 0.32 s/mol.\n",
            "Processing CHEMBL4065936 in molecule.smi (809/1125). Average speed: 0.32 s/mol.\n",
            "Processing CHEMBL4065595 in molecule.smi (810/1125). Average speed: 0.32 s/mol.\n",
            "Processing CHEMBL4087025 in molecule.smi (811/1125). Average speed: 0.32 s/mol.\n",
            "Processing CHEMBL4074218 in molecule.smi (812/1125). Average speed: 0.32 s/mol.\n",
            "Processing CHEMBL2177757 in molecule.smi (813/1125). Average speed: 0.32 s/mol.\n",
            "Processing CHEMBL4070276 in molecule.smi (814/1125). Average speed: 0.32 s/mol.\n",
            "Processing CHEMBL4100814 in molecule.smi (815/1125). Average speed: 0.32 s/mol.\n",
            "Processing CHEMBL4074051 in molecule.smi (816/1125). Average speed: 0.32 s/mol.\n",
            "Processing CHEMBL4098413 in molecule.smi (817/1125). Average speed: 0.32 s/mol.\n",
            "Processing CHEMBL4080388 in molecule.smi (818/1125). Average speed: 0.32 s/mol.\n",
            "Processing CHEMBL4090687 in molecule.smi (819/1125). Average speed: 0.32 s/mol.\n",
            "Processing CHEMBL4069677 in molecule.smi (820/1125). Average speed: 0.32 s/mol.\n",
            "Processing CHEMBL4061000 in molecule.smi (822/1125). Average speed: 0.32 s/mol.\n",
            "Processing CHEMBL4082885 in molecule.smi (821/1125). Average speed: 0.32 s/mol.\n",
            "Processing CHEMBL4099331 in molecule.smi (824/1125). Average speed: 0.32 s/mol.\n",
            "Processing CHEMBL4072390 in molecule.smi (823/1125). Average speed: 0.32 s/mol.\n",
            "Processing CHEMBL4065936 in molecule.smi (826/1125). Average speed: 0.32 s/mol.\n",
            "Processing CHEMBL4087349 in molecule.smi (825/1125). Average speed: 0.32 s/mol.\n",
            "Processing CHEMBL4087025 in molecule.smi (828/1125). Average speed: 0.32 s/mol.\n",
            "Processing CHEMBL4065595 in molecule.smi (827/1125). Average speed: 0.32 s/mol.\n",
            "Processing CHEMBL4074218 in molecule.smi (829/1125). Average speed: 0.32 s/mol.\n",
            "Processing CHEMBL4567146 in molecule.smi (830/1125). Average speed: 0.32 s/mol.\n",
            "Processing CHEMBL4450395 in molecule.smi (832/1125). Average speed: 0.32 s/mol.\n",
            "Processing CHEMBL4587940 in molecule.smi (831/1125). Average speed: 0.32 s/mol.\n",
            "Processing CHEMBL2177757 in molecule.smi (834/1125). Average speed: 0.32 s/mol.\n",
            "Processing CHEMBL4455802 in molecule.smi (833/1125). Average speed: 0.32 s/mol.\n",
            "Processing CHEMBL2177757 in molecule.smi (835/1125). Average speed: 0.32 s/mol.\n",
            "Processing CHEMBL4569564 in molecule.smi (837/1125). Average speed: 0.32 s/mol.\n",
            "Processing CHEMBL2177757 in molecule.smi (836/1125). Average speed: 0.32 s/mol.\n",
            "Processing CHEMBL4563113 in molecule.smi (839/1125). Average speed: 0.32 s/mol.\n",
            "Processing CHEMBL4528457 in molecule.smi (838/1125). Average speed: 0.32 s/mol.\n",
            "Processing CHEMBL4583795 in molecule.smi (840/1125). Average speed: 0.32 s/mol.\n",
            "Processing CHEMBL4473840 in molecule.smi (841/1125). Average speed: 0.32 s/mol.\n",
            "Processing CHEMBL4446391 in molecule.smi (842/1125). Average speed: 0.32 s/mol.\n",
            "Processing CHEMBL4445730 in molecule.smi (843/1125). Average speed: 0.32 s/mol.\n",
            "Processing CHEMBL4476832 in molecule.smi (844/1125). Average speed: 0.32 s/mol.\n",
            "Processing CHEMBL4557531 in molecule.smi (845/1125). Average speed: 0.32 s/mol.\n",
            "Processing CHEMBL4446717 in molecule.smi (846/1125). Average speed: 0.32 s/mol.\n",
            "Processing CHEMBL4446548 in molecule.smi (847/1125). Average speed: 0.32 s/mol.\n",
            "Processing CHEMBL4468160 in molecule.smi (848/1125). Average speed: 0.32 s/mol.\n",
            "Processing CHEMBL4573807 in molecule.smi (849/1125). Average speed: 0.32 s/mol.\n",
            "Processing CHEMBL4437106 in molecule.smi (851/1125). Average speed: 0.32 s/mol.\n",
            "Processing CHEMBL3808443 in molecule.smi (850/1125). Average speed: 0.32 s/mol.\n",
            "Processing CHEMBL4454263 in molecule.smi (852/1125). Average speed: 0.32 s/mol.\n",
            "Processing CHEMBL4462146 in molecule.smi (853/1125). Average speed: 0.32 s/mol.\n",
            "Processing CHEMBL4538736 in molecule.smi (854/1125). Average speed: 0.31 s/mol.\n",
            "Processing CHEMBL4547874 in molecule.smi (855/1125). Average speed: 0.31 s/mol.\n",
            "Processing CHEMBL4535848 in molecule.smi (856/1125). Average speed: 0.32 s/mol.\n",
            "Processing CHEMBL4457558 in molecule.smi (857/1125). Average speed: 0.31 s/mol.\n",
            "Processing CHEMBL4455298 in molecule.smi (858/1125). Average speed: 0.31 s/mol.\n",
            "Processing CHEMBL4578477 in molecule.smi (859/1125). Average speed: 0.31 s/mol.\n",
            "Processing CHEMBL4583483 in molecule.smi (860/1125). Average speed: 0.31 s/mol.\n",
            "Processing CHEMBL4556025 in molecule.smi (861/1125). Average speed: 0.31 s/mol.\n",
            "Processing CHEMBL4454895 in molecule.smi (863/1125). Average speed: 0.31 s/mol.\n",
            "Processing CHEMBL4532984 in molecule.smi (862/1125). Average speed: 0.31 s/mol.\n",
            "Processing CHEMBL4533926 in molecule.smi (864/1125). Average speed: 0.31 s/mol.\n",
            "Processing CHEMBL4450836 in molecule.smi (865/1125). Average speed: 0.31 s/mol.\n",
            "Processing CHEMBL4473972 in molecule.smi (866/1125). Average speed: 0.31 s/mol.\n",
            "Processing CHEMBL4591144 in molecule.smi (867/1125). Average speed: 0.31 s/mol.\n",
            "Processing CHEMBL4466771 in molecule.smi (868/1125). Average speed: 0.31 s/mol.\n",
            "Processing CHEMBL4555100 in molecule.smi (869/1125). Average speed: 0.31 s/mol.\n",
            "Processing CHEMBL4446020 in molecule.smi (871/1125). Average speed: 0.31 s/mol.\n",
            "Processing CHEMBL4461559 in molecule.smi (870/1125). Average speed: 0.31 s/mol.\n",
            "Processing CHEMBL4518090 in molecule.smi (872/1125). Average speed: 0.31 s/mol.\n",
            "Processing CHEMBL4438668 in molecule.smi (873/1125). Average speed: 0.31 s/mol.\n",
            "Processing CHEMBL4450417 in molecule.smi (874/1125). Average speed: 0.31 s/mol.\n",
            "Processing CHEMBL4445159 in molecule.smi (875/1125). Average speed: 0.31 s/mol.\n",
            "Processing CHEMBL4470880 in molecule.smi (876/1125). Average speed: 0.31 s/mol.\n",
            "Processing CHEMBL4526782 in molecule.smi (877/1125). Average speed: 0.31 s/mol.\n",
            "Processing CHEMBL4530893 in molecule.smi (878/1125). Average speed: 0.31 s/mol.\n",
            "Processing CHEMBL4564454 in molecule.smi (879/1125). Average speed: 0.31 s/mol.\n",
            "Processing CHEMBL4451183 in molecule.smi (880/1125). Average speed: 0.31 s/mol.\n",
            "Processing CHEMBL4534887 in molecule.smi (881/1125). Average speed: 0.31 s/mol.\n",
            "Processing CHEMBL4465413 in molecule.smi (883/1125). Average speed: 0.31 s/mol.\n",
            "Processing CHEMBL4458185 in molecule.smi (882/1125). Average speed: 0.31 s/mol.\n",
            "Processing CHEMBL3670004 in molecule.smi (885/1125). Average speed: 0.31 s/mol.\n",
            "Processing CHEMBL4563418 in molecule.smi (884/1125). Average speed: 0.31 s/mol.\n",
            "Processing CHEMBL3669995 in molecule.smi (886/1125). Average speed: 0.31 s/mol.\n",
            "Processing CHEMBL3813967 in molecule.smi (887/1125). Average speed: 0.31 s/mol.\n",
            "Processing CHEMBL4528646 in molecule.smi (889/1125). Average speed: 0.31 s/mol.\n",
            "Processing CHEMBL3814265 in molecule.smi (888/1125). Average speed: 0.31 s/mol.\n",
            "Processing CHEMBL4473578 in molecule.smi (891/1125). Average speed: 0.31 s/mol.\n",
            "Processing CHEMBL4476215 in molecule.smi (890/1125). Average speed: 0.31 s/mol.\n",
            "Processing CHEMBL4560800 in molecule.smi (892/1125). Average speed: 0.31 s/mol.\n",
            "Processing CHEMBL3669904 in molecule.smi (894/1125). Average speed: 0.31 s/mol.\n",
            "Processing CHEMBL4436330 in molecule.smi (893/1125). Average speed: 0.31 s/mol.\n",
            "Processing CHEMBL3669870 in molecule.smi (896/1125). Average speed: 0.31 s/mol.\n",
            "Processing CHEMBL3669874 in molecule.smi (895/1125). Average speed: 0.31 s/mol.\n",
            "Processing CHEMBL3669965 in molecule.smi (897/1125). Average speed: 0.31 s/mol.\n",
            "Processing CHEMBL4577249 in molecule.smi (898/1125). Average speed: 0.31 s/mol.\n",
            "Processing CHEMBL4454485 in molecule.smi (899/1125). Average speed: 0.31 s/mol.\n",
            "Processing CHEMBL3669861 in molecule.smi (900/1125). Average speed: 0.31 s/mol.\n",
            "Processing CHEMBL4456954 in molecule.smi (902/1125). Average speed: 0.31 s/mol.\n",
            "Processing CHEMBL3664974 in molecule.smi (901/1125). Average speed: 0.31 s/mol.\n",
            "Processing CHEMBL3680010 in molecule.smi (903/1125). Average speed: 0.31 s/mol.\n",
            "Processing CHEMBL3680036 in molecule.smi (904/1125). Average speed: 0.31 s/mol.\n",
            "Processing CHEMBL3664910 in molecule.smi (905/1125). Average speed: 0.31 s/mol.\n",
            "Processing CHEMBL4452869 in molecule.smi (906/1125). Average speed: 0.31 s/mol.\n",
            "Processing CHEMBL4456690 in molecule.smi (907/1125). Average speed: 0.31 s/mol.\n",
            "Processing CHEMBL3664893 in molecule.smi (908/1125). Average speed: 0.31 s/mol.\n",
            "Processing CHEMBL3664892 in molecule.smi (909/1125). Average speed: 0.31 s/mol.\n",
            "Processing CHEMBL3639788 in molecule.smi (910/1125). Average speed: 0.31 s/mol.\n",
            "Processing CHEMBL2177757 in molecule.smi (911/1125). Average speed: 0.31 s/mol.\n",
            "Processing CHEMBL4562029 in molecule.smi (912/1125). Average speed: 0.31 s/mol.\n",
            "Processing CHEMBL4454765 in molecule.smi (913/1125). Average speed: 0.31 s/mol.\n",
            "Processing CHEMBL4542082 in molecule.smi (914/1125). Average speed: 0.31 s/mol.\n",
            "Processing CHEMBL4583238 in molecule.smi (915/1125). Average speed: 0.31 s/mol.\n",
            "Processing CHEMBL4539656 in molecule.smi (916/1125). Average speed: 0.31 s/mol.\n",
            "Processing CHEMBL4469089 in molecule.smi (917/1125). Average speed: 0.31 s/mol.\n",
            "Processing CHEMBL3639788 in molecule.smi (918/1125). Average speed: 0.31 s/mol.\n",
            "Processing CHEMBL3670004 in molecule.smi (919/1125). Average speed: 0.31 s/mol.\n",
            "Processing CHEMBL3669995 in molecule.smi (920/1125). Average speed: 0.31 s/mol.\n",
            "Processing CHEMBL3680036 in molecule.smi (921/1125). Average speed: 0.31 s/mol.\n",
            "Processing CHEMBL3664910 in molecule.smi (922/1125). Average speed: 0.31 s/mol.\n",
            "Processing CHEMBL4545450 in molecule.smi (923/1125). Average speed: 0.31 s/mol.\n",
            "Processing CHEMBL4450417 in molecule.smi (924/1125). Average speed: 0.31 s/mol.\n",
            "Processing CHEMBL4438668 in molecule.smi (925/1125). Average speed: 0.31 s/mol.\n",
            "Processing CHEMBL4445159 in molecule.smi (926/1125). Average speed: 0.31 s/mol.\n",
            "Processing CHEMBL4567806 in molecule.smi (927/1125). Average speed: 0.31 s/mol.\n",
            "Processing CHEMBL4435601 in molecule.smi (928/1125). Average speed: 0.31 s/mol.\n",
            "Processing CHEMBL4574354 in molecule.smi (929/1125). Average speed: 0.31 s/mol.\n",
            "Processing CHEMBL4526782 in molecule.smi (930/1125). Average speed: 0.31 s/mol.\n",
            "Processing CHEMBL4451183 in molecule.smi (932/1125). Average speed: 0.31 s/mol.\n",
            "Processing CHEMBL4436826 in molecule.smi (931/1125). Average speed: 0.31 s/mol.\n",
            "Processing CHEMBL4534887 in molecule.smi (933/1125). Average speed: 0.31 s/mol.\n",
            "Processing CHEMBL4466771 in molecule.smi (934/1125). Average speed: 0.31 s/mol.\n",
            "Processing CHEMBL4588102 in molecule.smi (935/1125). Average speed: 0.31 s/mol.\n",
            "Processing CHEMBL4548854 in molecule.smi (936/1125). Average speed: 0.31 s/mol.\n",
            "Processing CHEMBL4555453 in molecule.smi (937/1125). Average speed: 0.31 s/mol.\n",
            "Processing CHEMBL4452081 in molecule.smi (938/1125). Average speed: 0.31 s/mol.\n",
            "Processing CHEMBL4566122 in molecule.smi (939/1125). Average speed: 0.31 s/mol.\n",
            "Processing CHEMBL4589700 in molecule.smi (940/1125). Average speed: 0.31 s/mol.\n",
            "Processing CHEMBL4587974 in molecule.smi (941/1125). Average speed: 0.31 s/mol.\n",
            "Processing CHEMBL4442699 in molecule.smi (943/1125). Average speed: 0.31 s/mol.\n",
            "Processing CHEMBL4590293 in molecule.smi (942/1125). Average speed: 0.31 s/mol.\n",
            "Processing CHEMBL4474044 in molecule.smi (944/1125). Average speed: 0.31 s/mol.\n",
            "Processing CHEMBL4456304 in molecule.smi (945/1125). Average speed: 0.31 s/mol.\n",
            "Processing CHEMBL4435743 in molecule.smi (947/1125). Average speed: 0.31 s/mol.\n",
            "Processing CHEMBL4436657 in molecule.smi (946/1125). Average speed: 0.31 s/mol.\n",
            "Processing CHEMBL4450088 in molecule.smi (949/1125). Average speed: 0.31 s/mol.\n",
            "Processing CHEMBL4526354 in molecule.smi (948/1125). Average speed: 0.31 s/mol.\n",
            "Processing CHEMBL4554275 in molecule.smi (951/1125). Average speed: 0.31 s/mol.\n",
            "Processing CHEMBL4566446 in molecule.smi (950/1125). Average speed: 0.31 s/mol.\n",
            "Processing CHEMBL4461569 in molecule.smi (953/1125). Average speed: 0.31 s/mol.\n",
            "Processing CHEMBL4447580 in molecule.smi (952/1125). Average speed: 0.31 s/mol.\n",
            "Processing CHEMBL4461687 in molecule.smi (955/1125). Average speed: 0.31 s/mol.\n",
            "Processing CHEMBL4527166 in molecule.smi (954/1125). Average speed: 0.31 s/mol.\n",
            "Processing CHEMBL2177757 in molecule.smi (957/1125). Average speed: 0.31 s/mol.\n",
            "Processing CHEMBL4445509 in molecule.smi (956/1125). Average speed: 0.31 s/mol.\n",
            "Processing CHEMBL4566122 in molecule.smi (959/1125). Average speed: 0.31 s/mol.\n",
            "Processing CHEMBL3639788 in molecule.smi (958/1125). Average speed: 0.31 s/mol.\n",
            "Processing CHEMBL4587974 in molecule.smi (961/1125). Average speed: 0.31 s/mol.\n",
            "Processing CHEMBL4589700 in molecule.smi (960/1125). Average speed: 0.31 s/mol.\n",
            "Processing CHEMBL4442699 in molecule.smi (963/1125). Average speed: 0.31 s/mol.\n",
            "Processing CHEMBL4590293 in molecule.smi (962/1125). Average speed: 0.31 s/mol.\n",
            "Processing CHEMBL4474044 in molecule.smi (964/1125). Average speed: 0.31 s/mol.\n",
            "Processing CHEMBL4456304 in molecule.smi (965/1125). Average speed: 0.31 s/mol.\n",
            "Processing CHEMBL4436657 in molecule.smi (966/1125). Average speed: 0.31 s/mol.\n",
            "Processing CHEMBL4435743 in molecule.smi (967/1125). Average speed: 0.31 s/mol.\n",
            "Processing CHEMBL4526354 in molecule.smi (968/1125). Average speed: 0.31 s/mol.\n",
            "Processing CHEMBL4450088 in molecule.smi (969/1125). Average speed: 0.31 s/mol.\n",
            "Processing CHEMBL4566446 in molecule.smi (970/1125). Average speed: 0.31 s/mol.\n",
            "Processing CHEMBL4554275 in molecule.smi (971/1125). Average speed: 0.31 s/mol.\n",
            "Processing CHEMBL4447580 in molecule.smi (972/1125). Average speed: 0.31 s/mol.\n",
            "Processing CHEMBL4461569 in molecule.smi (973/1125). Average speed: 0.31 s/mol.\n",
            "Processing CHEMBL4461687 in molecule.smi (975/1125). Average speed: 0.31 s/mol.\n",
            "Processing CHEMBL4527166 in molecule.smi (974/1125). Average speed: 0.31 s/mol.\n",
            "Processing CHEMBL2177757 in molecule.smi (977/1125). Average speed: 0.31 s/mol.\n",
            "Processing CHEMBL4445509 in molecule.smi (976/1125). Average speed: 0.31 s/mol.\n",
            "Processing CHEMBL3639788 in molecule.smi (978/1125). Average speed: 0.31 s/mol.\n",
            "Processing CHEMBL3639788 in molecule.smi (979/1125). Average speed: 0.31 s/mol.\n",
            "Processing CHEMBL4444708 in molecule.smi (980/1125). Average speed: 0.31 s/mol.\n",
            "Processing CHEMBL2177757 in molecule.smi (981/1125). Average speed: 0.31 s/mol.\n",
            "Processing CHEMBL3639788 in molecule.smi (982/1125). Average speed: 0.31 s/mol.\n",
            "Processing CHEMBL3664910 in molecule.smi (984/1125). Average speed: 0.31 s/mol.\n",
            "Processing CHEMBL3664901 in molecule.smi (983/1125). Average speed: 0.31 s/mol.\n",
            "Processing CHEMBL3664957 in molecule.smi (985/1125). Average speed: 0.31 s/mol.\n",
            "Processing CHEMBL4461749 in molecule.smi (986/1125). Average speed: 0.31 s/mol.\n",
            "Processing CHEMBL4451434 in molecule.smi (987/1125). Average speed: 0.31 s/mol.\n",
            "Processing CHEMBL4437956 in molecule.smi (988/1125). Average speed: 0.31 s/mol.\n",
            "Processing CHEMBL3770355 in molecule.smi (989/1125). Average speed: 0.31 s/mol.\n",
            "Processing CHEMBL4473143 in molecule.smi (990/1125). Average speed: 0.31 s/mol.\n",
            "Processing CHEMBL4548654 in molecule.smi (991/1125). Average speed: 0.31 s/mol.\n",
            "Processing CHEMBL4457936 in molecule.smi (992/1125). Average speed: 0.31 s/mol.\n",
            "Processing CHEMBL4444363 in molecule.smi (993/1125). Average speed: 0.31 s/mol.\n",
            "Processing CHEMBL4472367 in molecule.smi (994/1125). Average speed: 0.31 s/mol.\n",
            "Processing CHEMBL4438255 in molecule.smi (995/1125). Average speed: 0.31 s/mol.\n",
            "Processing CHEMBL4570299 in molecule.smi (996/1125). Average speed: 0.31 s/mol.\n",
            "Processing CHEMBL4448931 in molecule.smi (998/1125). Average speed: 0.31 s/mol.\n",
            "Processing CHEMBL4434859 in molecule.smi (997/1125). Average speed: 0.31 s/mol.\n",
            "Processing CHEMBL4469711 in molecule.smi (1000/1125). Average speed: 0.31 s/mol.\n",
            "Processing CHEMBL4458193 in molecule.smi (999/1125). Average speed: 0.31 s/mol.\n",
            "Processing CHEMBL4594003 in molecule.smi (1002/1125). Average speed: 0.31 s/mol.\n",
            "Processing CHEMBL4447951 in molecule.smi (1001/1125). Average speed: 0.31 s/mol.\n",
            "Processing CHEMBL4437106 in molecule.smi (1004/1125). Average speed: 0.31 s/mol.\n",
            "Processing CHEMBL4534437 in molecule.smi (1003/1125). Average speed: 0.31 s/mol.\n",
            "Processing CHEMBL3808443 in molecule.smi (1006/1125). Average speed: 0.31 s/mol.\n",
            "Processing CHEMBL4573635 in molecule.smi (1005/1125). Average speed: 0.31 s/mol.\n",
            "Processing CHEMBL2177757 in molecule.smi (1008/1125). Average speed: 0.31 s/mol.\n",
            "Processing CHEMBL4437106 in molecule.smi (1007/1125). Average speed: 0.31 s/mol.\n",
            "Processing CHEMBL4550553 in molecule.smi (1010/1125). Average speed: 0.31 s/mol.\n",
            "Processing CHEMBL4565066 in molecule.smi (1009/1125). Average speed: 0.31 s/mol.\n",
            "Processing CHEMBL2178396 in molecule.smi (1012/1125). Average speed: 0.31 s/mol.\n",
            "Processing CHEMBL4465855 in molecule.smi (1011/1125). Average speed: 0.31 s/mol.\n",
            "Processing CHEMBL3664910 in molecule.smi (1013/1125). Average speed: 0.31 s/mol.\n",
            "Processing CHEMBL4441674 in molecule.smi (1014/1125). Average speed: 0.30 s/mol.\n",
            "Processing CHEMBL4522431 in molecule.smi (1015/1125). Average speed: 0.30 s/mol.\n",
            "Processing CHEMBL4474767 in molecule.smi (1016/1125). Average speed: 0.30 s/mol.\n",
            "Processing CHEMBL3669907 in molecule.smi (1017/1125). Average speed: 0.30 s/mol.\n",
            "Processing CHEMBL4593057 in molecule.smi (1018/1125). Average speed: 0.30 s/mol.\n",
            "Processing CHEMBL4459382 in molecule.smi (1019/1125). Average speed: 0.30 s/mol.\n",
            "Processing CHEMBL4451104 in molecule.smi (1020/1125). Average speed: 0.30 s/mol.\n",
            "Processing CHEMBL4442957 in molecule.smi (1021/1125). Average speed: 0.30 s/mol.\n",
            "Processing CHEMBL4582249 in molecule.smi (1022/1125). Average speed: 0.30 s/mol.\n",
            "Processing CHEMBL2178393 in molecule.smi (1023/1125). Average speed: 0.30 s/mol.\n",
            "Processing CHEMBL4566474 in molecule.smi (1024/1125). Average speed: 0.30 s/mol.\n",
            "Processing CHEMBL2177757 in molecule.smi (1025/1125). Average speed: 0.30 s/mol.\n",
            "Processing CHEMBL4436915 in molecule.smi (1026/1125). Average speed: 0.30 s/mol.\n",
            "Processing CHEMBL4441375 in molecule.smi (1027/1125). Average speed: 0.30 s/mol.\n",
            "Processing CHEMBL4590724 in molecule.smi (1028/1125). Average speed: 0.30 s/mol.\n",
            "Processing CHEMBL3639788 in molecule.smi (1030/1125). Average speed: 0.30 s/mol.\n",
            "Processing CHEMBL4469040 in molecule.smi (1029/1125). Average speed: 0.30 s/mol.\n",
            "Processing CHEMBL4474779 in molecule.smi (1032/1125). Average speed: 0.30 s/mol.\n",
            "Processing CHEMBL4475144 in molecule.smi (1031/1125). Average speed: 0.30 s/mol.\n",
            "Processing CHEMBL4462204 in molecule.smi (1033/1125). Average speed: 0.30 s/mol.\n",
            "Processing CHEMBL3664910 in molecule.smi (1034/1125). Average speed: 0.30 s/mol.\n",
            "Processing CHEMBL3769897 in molecule.smi (1035/1125). Average speed: 0.30 s/mol.\n",
            "Processing CHEMBL4454980 in molecule.smi (1036/1125). Average speed: 0.30 s/mol.\n",
            "Processing CHEMBL4441341 in molecule.smi (1037/1125). Average speed: 0.30 s/mol.\n",
            "Processing CHEMBL4588969 in molecule.smi (1038/1125). Average speed: 0.30 s/mol.\n",
            "Processing CHEMBL4578823 in molecule.smi (1039/1125). Average speed: 0.30 s/mol.\n",
            "Processing CHEMBL4459383 in molecule.smi (1040/1125). Average speed: 0.30 s/mol.\n",
            "Processing CHEMBL4436129 in molecule.smi (1041/1125). Average speed: 0.30 s/mol.\n",
            "Processing CHEMBL4469854 in molecule.smi (1042/1125). Average speed: 0.30 s/mol.\n",
            "Processing CHEMBL4524344 in molecule.smi (1043/1125). Average speed: 0.30 s/mol.\n",
            "Processing CHEMBL4454551 in molecule.smi (1044/1125). Average speed: 0.30 s/mol.\n",
            "Processing CHEMBL3769897 in molecule.smi (1045/1125). Average speed: 0.30 s/mol.\n",
            "Processing CHEMBL4454980 in molecule.smi (1046/1125). Average speed: 0.30 s/mol.\n",
            "Processing CHEMBL4441341 in molecule.smi (1047/1125). Average speed: 0.30 s/mol.\n",
            "Processing CHEMBL4588969 in molecule.smi (1048/1125). Average speed: 0.30 s/mol.\n",
            "Processing CHEMBL4578823 in molecule.smi (1049/1125). Average speed: 0.30 s/mol.\n",
            "Processing CHEMBL4459383 in molecule.smi (1050/1125). Average speed: 0.30 s/mol.\n",
            "Processing CHEMBL4436129 in molecule.smi (1051/1125). Average speed: 0.30 s/mol.\n",
            "Processing CHEMBL4524344 in molecule.smi (1053/1125). Average speed: 0.30 s/mol.\n",
            "Processing CHEMBL4469854 in molecule.smi (1052/1125). Average speed: 0.30 s/mol.\n",
            "Processing CHEMBL4454551 in molecule.smi (1054/1125). Average speed: 0.30 s/mol.\n",
            "Processing CHEMBL2177757 in molecule.smi (1055/1125). Average speed: 0.30 s/mol.\n",
            "Processing CHEMBL2177757 in molecule.smi (1056/1125). Average speed: 0.30 s/mol.\n",
            "Processing CHEMBL3639788 in molecule.smi (1057/1125). Average speed: 0.30 s/mol.\n",
            "Processing CHEMBL3664957 in molecule.smi (1058/1125). Average speed: 0.30 s/mol.\n",
            "Processing CHEMBL3669859 in molecule.smi (1059/1125). Average speed: 0.30 s/mol.\n",
            "Processing CHEMBL4786465 in molecule.smi (1060/1125). Average speed: 0.30 s/mol.\n",
            "Processing CHEMBL4466771 in molecule.smi (1061/1125). Average speed: 0.30 s/mol.\n",
            "Processing CHEMBL4745259 in molecule.smi (1062/1125). Average speed: 0.30 s/mol.\n",
            "Processing CHEMBL4759659 in molecule.smi (1063/1125). Average speed: 0.30 s/mol.\n",
            "Processing CHEMBL4783740 in molecule.smi (1065/1125). Average speed: 0.30 s/mol.\n",
            "Processing CHEMBL4777997 in molecule.smi (1064/1125). Average speed: 0.30 s/mol.\n",
            "Processing CHEMBL4778536 in molecule.smi (1067/1125). Average speed: 0.30 s/mol.\n",
            "Processing CHEMBL4747169 in molecule.smi (1066/1125). Average speed: 0.30 s/mol.\n",
            "Processing CHEMBL4753483 in molecule.smi (1069/1125). Average speed: 0.30 s/mol.\n",
            "Processing CHEMBL4747582 in molecule.smi (1068/1125). Average speed: 0.30 s/mol.\n",
            "Processing CHEMBL4751180 in molecule.smi (1070/1125). Average speed: 0.30 s/mol.\n",
            "Processing CHEMBL4756837 in molecule.smi (1071/1125). Average speed: 0.30 s/mol.\n",
            "Processing CHEMBL4741924 in molecule.smi (1073/1125). Average speed: 0.30 s/mol.\n",
            "Processing CHEMBL4740067 in molecule.smi (1072/1125). Average speed: 0.30 s/mol.\n",
            "Processing CHEMBL4784091 in molecule.smi (1075/1125). Average speed: 0.30 s/mol.\n",
            "Processing CHEMBL4741606 in molecule.smi (1074/1125). Average speed: 0.30 s/mol.\n",
            "Processing CHEMBL4764721 in molecule.smi (1076/1125). Average speed: 0.30 s/mol.\n",
            "Processing CHEMBL4755823 in molecule.smi (1078/1125). Average speed: 0.30 s/mol.\n",
            "Processing CHEMBL4760268 in molecule.smi (1077/1125). Average speed: 0.30 s/mol.\n",
            "Processing CHEMBL4754753 in molecule.smi (1079/1125). Average speed: 0.30 s/mol.\n",
            "Processing CHEMBL4740054 in molecule.smi (1080/1125). Average speed: 0.30 s/mol.\n",
            "Processing CHEMBL4794180 in molecule.smi (1081/1125). Average speed: 0.30 s/mol.\n",
            "Processing CHEMBL4776071 in molecule.smi (1082/1125). Average speed: 0.30 s/mol.\n",
            "Processing CHEMBL4797071 in molecule.smi (1083/1125). Average speed: 0.30 s/mol.\n",
            "Processing CHEMBL4764469 in molecule.smi (1084/1125). Average speed: 0.30 s/mol.\n",
            "Processing CHEMBL4757740 in molecule.smi (1085/1125). Average speed: 0.30 s/mol.\n",
            "Processing CHEMBL4758709 in molecule.smi (1086/1125). Average speed: 0.30 s/mol.\n",
            "Processing CHEMBL4782339 in molecule.smi (1087/1125). Average speed: 0.30 s/mol.\n",
            "Processing CHEMBL4761178 in molecule.smi (1089/1125). Average speed: 0.30 s/mol.\n",
            "Processing CHEMBL4788554 in molecule.smi (1088/1125). Average speed: 0.30 s/mol.\n",
            "Processing CHEMBL4745830 in molecule.smi (1091/1125). Average speed: 0.30 s/mol.\n",
            "Processing CHEMBL4740758 in molecule.smi (1090/1125). Average speed: 0.30 s/mol.\n",
            "Processing CHEMBL3639788 in molecule.smi (1093/1125). Average speed: 0.30 s/mol.\n",
            "Processing CHEMBL4786715 in molecule.smi (1092/1125). Average speed: 0.30 s/mol.\n",
            "Processing CHEMBL2177757 in molecule.smi (1094/1125). Average speed: 0.30 s/mol.\n",
            "Processing CHEMBL4465413 in molecule.smi (1095/1125). Average speed: 0.30 s/mol.\n",
            "Processing CHEMBL4760996 in molecule.smi (1096/1125). Average speed: 0.30 s/mol.\n",
            "Processing CHEMBL4742245 in molecule.smi (1097/1125). Average speed: 0.30 s/mol.\n",
            "Processing CHEMBL4741924 in molecule.smi (1098/1125). Average speed: 0.30 s/mol.\n",
            "Processing CHEMBL4875025 in molecule.smi (1099/1125). Average speed: 0.30 s/mol.\n",
            "Processing CHEMBL4870139 in molecule.smi (1100/1125). Average speed: 0.30 s/mol.\n",
            "Processing CHEMBL2177757 in molecule.smi (1101/1125). Average speed: 0.30 s/mol.\n",
            "Processing CHEMBL2177757 in molecule.smi (1102/1125). Average speed: 0.30 s/mol.\n",
            "Processing CHEMBL3639788 in molecule.smi (1103/1125). Average speed: 0.30 s/mol.\n",
            "Processing CHEMBL4868947 in molecule.smi (1104/1125). Average speed: 0.30 s/mol.\n",
            "Processing CHEMBL4847666 in molecule.smi (1105/1125). Average speed: 0.30 s/mol.\n",
            "Processing CHEMBL4849467 in molecule.smi (1106/1125). Average speed: 0.30 s/mol.\n",
            "Processing CHEMBL4873841 in molecule.smi (1107/1125). Average speed: 0.30 s/mol.\n",
            "Processing CHEMBL4868178 in molecule.smi (1108/1125). Average speed: 0.30 s/mol.\n",
            "Processing CHEMBL4872773 in molecule.smi (1110/1125). Average speed: 0.30 s/mol.\n",
            "Processing CHEMBL4872964 in molecule.smi (1109/1125). Average speed: 0.30 s/mol.\n",
            "Processing CHEMBL4864113 in molecule.smi (1112/1125). Average speed: 0.30 s/mol.\n",
            "Processing CHEMBL4868584 in molecule.smi (1111/1125). Average speed: 0.30 s/mol.\n",
            "Processing CHEMBL4849357 in molecule.smi (1114/1125). Average speed: 0.30 s/mol.\n",
            "Processing CHEMBL4858033 in molecule.smi (1113/1125). Average speed: 0.30 s/mol.\n",
            "Processing CHEMBL4851671 in molecule.smi (1116/1125). Average speed: 0.30 s/mol.\n",
            "Processing CHEMBL4862317 in molecule.smi (1115/1125). Average speed: 0.30 s/mol.\n",
            "Processing CHEMBL4873845 in molecule.smi (1117/1125). Average speed: 0.30 s/mol.\n",
            "Processing CHEMBL4869707 in molecule.smi (1118/1125). Average speed: 0.30 s/mol.\n",
            "Processing CHEMBL4875193 in molecule.smi (1119/1125). Average speed: 0.30 s/mol.\n",
            "Processing CHEMBL4874803 in molecule.smi (1120/1125). Average speed: 0.30 s/mol.\n",
            "Processing CHEMBL4867002 in molecule.smi (1121/1125). Average speed: 0.30 s/mol.\n",
            "Processing CHEMBL2177757 in molecule.smi (1122/1125). Average speed: 0.30 s/mol.\n",
            "Processing CHEMBL3639788 in molecule.smi (1123/1125). Average speed: 0.30 s/mol.\n",
            "Processing CHEMBL4802038 in molecule.smi (1124/1125). Average speed: 0.30 s/mol.\n",
            "Processing CHEMBL4802049 in molecule.smi (1125/1125). Average speed: 0.30 s/mol.\n",
            "Descriptor calculation completed in 5 mins 34.810 secs . Average speed: 0.30 s/mol.\n"
          ]
        }
      ],
      "source": [
        "! bash padel.sh"
      ]
    },
    {
      "cell_type": "markdown",
      "metadata": {
        "id": "PaHKjxbyVEVx"
      },
      "source": [
        "### Model selection and usage"
      ]
    },
    {
      "cell_type": "markdown",
      "metadata": {
        "id": "FuqBUBbgXvaq"
      },
      "source": [
        "### Importing Modules"
      ]
    },
    {
      "cell_type": "code",
      "execution_count": 36,
      "metadata": {
        "id": "8AW9jy8uXlKz"
      },
      "outputs": [],
      "source": [
        "from sklearn.tree import DecisionTreeRegressor\n",
        "from sklearn.ensemble import RandomForestRegressor , ExtraTreesRegressor\n",
        "from sklearn.linear_model import Lasso,Ridge,OrthogonalMatchingPursuit,LinearRegression\n",
        "from sklearn.svm import SVR\n",
        "from sklearn.model_selection import train_test_split, KFold , cross_val_score\n",
        "from sklearn.metrics import r2_score,mean_squared_error,mean_absolute_error"
      ]
    },
    {
      "cell_type": "markdown",
      "metadata": {
        "id": "NIF6keLVZFgZ"
      },
      "source": [
        "### Using different models and importing processed data "
      ]
    },
    {
      "cell_type": "code",
      "execution_count": 37,
      "metadata": {
        "id": "ZmdaqLd8bLp_"
      },
      "outputs": [],
      "source": [
        "X = pd.read_csv('descriptors_output.csv')\n",
        "Y = pd.read_csv('kidney_labels.csv')"
      ]
    },
    {
      "cell_type": "code",
      "source": [
        "len(X),len(Y)"
      ],
      "metadata": {
        "id": "4QuUbklCexJn",
        "colab": {
          "base_uri": "https://localhost:8080/"
        },
        "outputId": "be990b5e-a12d-4bef-cfaf-d931d76b087d"
      },
      "execution_count": 38,
      "outputs": [
        {
          "output_type": "execute_result",
          "data": {
            "text/plain": [
              "(1125, 1125)"
            ]
          },
          "metadata": {},
          "execution_count": 38
        }
      ]
    },
    {
      "cell_type": "code",
      "execution_count": 39,
      "metadata": {
        "id": "apotqTqnjyXi",
        "colab": {
          "base_uri": "https://localhost:8080/"
        },
        "outputId": "a17bfa3d-ef40-4ebe-e385-2b52422bc970"
      },
      "outputs": [
        {
          "output_type": "execute_result",
          "data": {
            "text/plain": [
              "0"
            ]
          },
          "metadata": {},
          "execution_count": 39
        }
      ],
      "source": [
        "Y['standard_value'].isnull().sum()"
      ]
    },
    {
      "cell_type": "code",
      "execution_count": 40,
      "metadata": {
        "id": "T02ORodMdgR0"
      },
      "outputs": [],
      "source": [
        "for i in Y['standard_value']:\n",
        "  Y['standard_value'] = Y['standard_value'].replace(i,round(i,2))"
      ]
    },
    {
      "cell_type": "code",
      "execution_count": 41,
      "metadata": {
        "id": "ZfB1Pt8HaJOb",
        "colab": {
          "base_uri": "https://localhost:8080/"
        },
        "outputId": "95d14f8f-10b5-4cc8-dbae-9d26e7986149"
      },
      "outputs": [
        {
          "output_type": "execute_result",
          "data": {
            "text/plain": [
              "array([ 8.09,  4.32,  5.28,  8.08,  8.34,  8.27,  8.29,  5.59,  4.66,\n",
              "        5.14,  5.72,  4.21,  6.14,  8.13,  6.31,  6.1 ,  6.  ,  8.17,\n",
              "        5.01,  6.64,  5.27,  7.01,  5.51,  6.43,  7.2 ,  5.66,  7.36,\n",
              "        7.15,  8.41,  9.41,  9.4 ,  6.76,  9.69,  8.3 ,  6.35,  5.24,\n",
              "        8.35,  6.15,  8.26,  7.02,  8.22,  6.32,  8.15,  7.08,  8.1 ,\n",
              "        8.14,  8.21,  8.18,  7.28,  8.12,  5.39,  5.18,  5.25,  4.74,\n",
              "        5.43,  5.1 ,  4.44,  5.04,  4.4 ,  6.16,  5.21,  5.37,  6.02,\n",
              "        5.62,  5.46,  6.47,  5.2 ,  5.06,  5.36,  5.16,  6.09,  4.8 ,\n",
              "        6.05,  8.19,  4.68,  6.17,  8.28,  7.1 ,  7.16,  7.13,  7.07,\n",
              "        5.07,  5.  ,  6.12,  5.31,  6.99,  7.35,  6.61,  7.46,  7.41,\n",
              "        7.27,  7.18,  7.23,  5.89,  6.42,  6.82,  6.45,  6.83,  7.06,\n",
              "        6.41,  6.66,  6.75,  6.59,  9.3 ,  8.57, 10.  ,  9.7 ,  4.99,\n",
              "        8.2 ,  5.97,  6.03,  5.56,  5.91,  5.86,  6.07,  6.11,  5.95,\n",
              "        5.9 ,  6.01,  6.38,  6.87,  6.69,  6.46,  6.06,  5.22,  8.11,\n",
              "        6.94,  5.68,  5.29,  8.05,  6.8 ,  6.7 ,  6.62,  6.79,  7.42,\n",
              "        7.54,  7.77,  7.57,  5.17,  7.34,  7.17,  6.93,  5.34,  7.33,\n",
              "        6.65,  7.12,  5.33,  6.71,  7.43,  6.39,  6.91])"
            ]
          },
          "metadata": {},
          "execution_count": 41
        }
      ],
      "source": [
        "Y.standard_value.unique()"
      ]
    },
    {
      "cell_type": "code",
      "execution_count": 42,
      "metadata": {
        "id": "Fpx2JPmQboUW",
        "colab": {
          "base_uri": "https://localhost:8080/",
          "height": 300
        },
        "outputId": "ecf22505-7430-4d7c-9a18-7b662663bd7d"
      },
      "outputs": [
        {
          "output_type": "execute_result",
          "data": {
            "text/plain": [
              "       standard_value\n",
              "count     1125.000000\n",
              "mean         7.867867\n",
              "std          0.721748\n",
              "min          4.210000\n",
              "25%          8.090000\n",
              "50%          8.090000\n",
              "75%          8.090000\n",
              "max         10.000000"
            ],
            "text/html": [
              "\n",
              "  <div id=\"df-1fb64530-65a0-4489-b74e-0589532e8f43\">\n",
              "    <div class=\"colab-df-container\">\n",
              "      <div>\n",
              "<style scoped>\n",
              "    .dataframe tbody tr th:only-of-type {\n",
              "        vertical-align: middle;\n",
              "    }\n",
              "\n",
              "    .dataframe tbody tr th {\n",
              "        vertical-align: top;\n",
              "    }\n",
              "\n",
              "    .dataframe thead th {\n",
              "        text-align: right;\n",
              "    }\n",
              "</style>\n",
              "<table border=\"1\" class=\"dataframe\">\n",
              "  <thead>\n",
              "    <tr style=\"text-align: right;\">\n",
              "      <th></th>\n",
              "      <th>standard_value</th>\n",
              "    </tr>\n",
              "  </thead>\n",
              "  <tbody>\n",
              "    <tr>\n",
              "      <th>count</th>\n",
              "      <td>1125.000000</td>\n",
              "    </tr>\n",
              "    <tr>\n",
              "      <th>mean</th>\n",
              "      <td>7.867867</td>\n",
              "    </tr>\n",
              "    <tr>\n",
              "      <th>std</th>\n",
              "      <td>0.721748</td>\n",
              "    </tr>\n",
              "    <tr>\n",
              "      <th>min</th>\n",
              "      <td>4.210000</td>\n",
              "    </tr>\n",
              "    <tr>\n",
              "      <th>25%</th>\n",
              "      <td>8.090000</td>\n",
              "    </tr>\n",
              "    <tr>\n",
              "      <th>50%</th>\n",
              "      <td>8.090000</td>\n",
              "    </tr>\n",
              "    <tr>\n",
              "      <th>75%</th>\n",
              "      <td>8.090000</td>\n",
              "    </tr>\n",
              "    <tr>\n",
              "      <th>max</th>\n",
              "      <td>10.000000</td>\n",
              "    </tr>\n",
              "  </tbody>\n",
              "</table>\n",
              "</div>\n",
              "      <button class=\"colab-df-convert\" onclick=\"convertToInteractive('df-1fb64530-65a0-4489-b74e-0589532e8f43')\"\n",
              "              title=\"Convert this dataframe to an interactive table.\"\n",
              "              style=\"display:none;\">\n",
              "        \n",
              "  <svg xmlns=\"http://www.w3.org/2000/svg\" height=\"24px\"viewBox=\"0 0 24 24\"\n",
              "       width=\"24px\">\n",
              "    <path d=\"M0 0h24v24H0V0z\" fill=\"none\"/>\n",
              "    <path d=\"M18.56 5.44l.94 2.06.94-2.06 2.06-.94-2.06-.94-.94-2.06-.94 2.06-2.06.94zm-11 1L8.5 8.5l.94-2.06 2.06-.94-2.06-.94L8.5 2.5l-.94 2.06-2.06.94zm10 10l.94 2.06.94-2.06 2.06-.94-2.06-.94-.94-2.06-.94 2.06-2.06.94z\"/><path d=\"M17.41 7.96l-1.37-1.37c-.4-.4-.92-.59-1.43-.59-.52 0-1.04.2-1.43.59L10.3 9.45l-7.72 7.72c-.78.78-.78 2.05 0 2.83L4 21.41c.39.39.9.59 1.41.59.51 0 1.02-.2 1.41-.59l7.78-7.78 2.81-2.81c.8-.78.8-2.07 0-2.86zM5.41 20L4 18.59l7.72-7.72 1.47 1.35L5.41 20z\"/>\n",
              "  </svg>\n",
              "      </button>\n",
              "      \n",
              "  <style>\n",
              "    .colab-df-container {\n",
              "      display:flex;\n",
              "      flex-wrap:wrap;\n",
              "      gap: 12px;\n",
              "    }\n",
              "\n",
              "    .colab-df-convert {\n",
              "      background-color: #E8F0FE;\n",
              "      border: none;\n",
              "      border-radius: 50%;\n",
              "      cursor: pointer;\n",
              "      display: none;\n",
              "      fill: #1967D2;\n",
              "      height: 32px;\n",
              "      padding: 0 0 0 0;\n",
              "      width: 32px;\n",
              "    }\n",
              "\n",
              "    .colab-df-convert:hover {\n",
              "      background-color: #E2EBFA;\n",
              "      box-shadow: 0px 1px 2px rgba(60, 64, 67, 0.3), 0px 1px 3px 1px rgba(60, 64, 67, 0.15);\n",
              "      fill: #174EA6;\n",
              "    }\n",
              "\n",
              "    [theme=dark] .colab-df-convert {\n",
              "      background-color: #3B4455;\n",
              "      fill: #D2E3FC;\n",
              "    }\n",
              "\n",
              "    [theme=dark] .colab-df-convert:hover {\n",
              "      background-color: #434B5C;\n",
              "      box-shadow: 0px 1px 3px 1px rgba(0, 0, 0, 0.15);\n",
              "      filter: drop-shadow(0px 1px 2px rgba(0, 0, 0, 0.3));\n",
              "      fill: #FFFFFF;\n",
              "    }\n",
              "  </style>\n",
              "\n",
              "      <script>\n",
              "        const buttonEl =\n",
              "          document.querySelector('#df-1fb64530-65a0-4489-b74e-0589532e8f43 button.colab-df-convert');\n",
              "        buttonEl.style.display =\n",
              "          google.colab.kernel.accessAllowed ? 'block' : 'none';\n",
              "\n",
              "        async function convertToInteractive(key) {\n",
              "          const element = document.querySelector('#df-1fb64530-65a0-4489-b74e-0589532e8f43');\n",
              "          const dataTable =\n",
              "            await google.colab.kernel.invokeFunction('convertToInteractive',\n",
              "                                                     [key], {});\n",
              "          if (!dataTable) return;\n",
              "\n",
              "          const docLinkHtml = 'Like what you see? Visit the ' +\n",
              "            '<a target=\"_blank\" href=https://colab.research.google.com/notebooks/data_table.ipynb>data table notebook</a>'\n",
              "            + ' to learn more about interactive tables.';\n",
              "          element.innerHTML = '';\n",
              "          dataTable['output_type'] = 'display_data';\n",
              "          await google.colab.output.renderOutput(dataTable, element);\n",
              "          const docLink = document.createElement('div');\n",
              "          docLink.innerHTML = docLinkHtml;\n",
              "          element.appendChild(docLink);\n",
              "        }\n",
              "      </script>\n",
              "    </div>\n",
              "  </div>\n",
              "  "
            ]
          },
          "metadata": {},
          "execution_count": 42
        }
      ],
      "source": [
        "Y.describe()"
      ]
    },
    {
      "cell_type": "code",
      "execution_count": 43,
      "metadata": {
        "id": "SKx4Oz0HdlYW"
      },
      "outputs": [],
      "source": [
        "Y = Y.to_numpy().ravel()\n",
        "X = X.drop(columns=['Name'],axis=1)"
      ]
    },
    {
      "cell_type": "code",
      "execution_count": 44,
      "metadata": {
        "id": "a1e3oHx-dvLo",
        "colab": {
          "base_uri": "https://localhost:8080/",
          "height": 299
        },
        "outputId": "cc155d64-dde2-46f5-fbfb-5b800044388c"
      },
      "outputs": [
        {
          "output_type": "execute_result",
          "data": {
            "text/plain": [
              "   PubchemFP0  PubchemFP1  PubchemFP2  PubchemFP3  PubchemFP4  PubchemFP5  \\\n",
              "0           1           1           1           0           0           0   \n",
              "1           1           1           1           0           0           0   \n",
              "2           1           1           1           0           0           0   \n",
              "3           1           1           1           0           0           0   \n",
              "4           1           1           1           0           0           0   \n",
              "\n",
              "   PubchemFP6  PubchemFP7  PubchemFP8  PubchemFP9  ...  PubchemFP871  \\\n",
              "0           0           0           0           1  ...             0   \n",
              "1           0           0           0           1  ...             0   \n",
              "2           0           0           0           1  ...             0   \n",
              "3           0           0           0           1  ...             0   \n",
              "4           0           0           0           1  ...             0   \n",
              "\n",
              "   PubchemFP872  PubchemFP873  PubchemFP874  PubchemFP875  PubchemFP876  \\\n",
              "0             0             0             0             0             0   \n",
              "1             0             0             0             0             0   \n",
              "2             0             0             0             0             0   \n",
              "3             0             0             0             0             0   \n",
              "4             0             0             0             0             0   \n",
              "\n",
              "   PubchemFP877  PubchemFP878  PubchemFP879  PubchemFP880  \n",
              "0             0             0             0             0  \n",
              "1             0             0             0             0  \n",
              "2             0             0             0             0  \n",
              "3             0             0             0             0  \n",
              "4             0             0             0             0  \n",
              "\n",
              "[5 rows x 881 columns]"
            ],
            "text/html": [
              "\n",
              "  <div id=\"df-86b50858-3d6e-4ed5-aa37-5191501e44fc\">\n",
              "    <div class=\"colab-df-container\">\n",
              "      <div>\n",
              "<style scoped>\n",
              "    .dataframe tbody tr th:only-of-type {\n",
              "        vertical-align: middle;\n",
              "    }\n",
              "\n",
              "    .dataframe tbody tr th {\n",
              "        vertical-align: top;\n",
              "    }\n",
              "\n",
              "    .dataframe thead th {\n",
              "        text-align: right;\n",
              "    }\n",
              "</style>\n",
              "<table border=\"1\" class=\"dataframe\">\n",
              "  <thead>\n",
              "    <tr style=\"text-align: right;\">\n",
              "      <th></th>\n",
              "      <th>PubchemFP0</th>\n",
              "      <th>PubchemFP1</th>\n",
              "      <th>PubchemFP2</th>\n",
              "      <th>PubchemFP3</th>\n",
              "      <th>PubchemFP4</th>\n",
              "      <th>PubchemFP5</th>\n",
              "      <th>PubchemFP6</th>\n",
              "      <th>PubchemFP7</th>\n",
              "      <th>PubchemFP8</th>\n",
              "      <th>PubchemFP9</th>\n",
              "      <th>...</th>\n",
              "      <th>PubchemFP871</th>\n",
              "      <th>PubchemFP872</th>\n",
              "      <th>PubchemFP873</th>\n",
              "      <th>PubchemFP874</th>\n",
              "      <th>PubchemFP875</th>\n",
              "      <th>PubchemFP876</th>\n",
              "      <th>PubchemFP877</th>\n",
              "      <th>PubchemFP878</th>\n",
              "      <th>PubchemFP879</th>\n",
              "      <th>PubchemFP880</th>\n",
              "    </tr>\n",
              "  </thead>\n",
              "  <tbody>\n",
              "    <tr>\n",
              "      <th>0</th>\n",
              "      <td>1</td>\n",
              "      <td>1</td>\n",
              "      <td>1</td>\n",
              "      <td>0</td>\n",
              "      <td>0</td>\n",
              "      <td>0</td>\n",
              "      <td>0</td>\n",
              "      <td>0</td>\n",
              "      <td>0</td>\n",
              "      <td>1</td>\n",
              "      <td>...</td>\n",
              "      <td>0</td>\n",
              "      <td>0</td>\n",
              "      <td>0</td>\n",
              "      <td>0</td>\n",
              "      <td>0</td>\n",
              "      <td>0</td>\n",
              "      <td>0</td>\n",
              "      <td>0</td>\n",
              "      <td>0</td>\n",
              "      <td>0</td>\n",
              "    </tr>\n",
              "    <tr>\n",
              "      <th>1</th>\n",
              "      <td>1</td>\n",
              "      <td>1</td>\n",
              "      <td>1</td>\n",
              "      <td>0</td>\n",
              "      <td>0</td>\n",
              "      <td>0</td>\n",
              "      <td>0</td>\n",
              "      <td>0</td>\n",
              "      <td>0</td>\n",
              "      <td>1</td>\n",
              "      <td>...</td>\n",
              "      <td>0</td>\n",
              "      <td>0</td>\n",
              "      <td>0</td>\n",
              "      <td>0</td>\n",
              "      <td>0</td>\n",
              "      <td>0</td>\n",
              "      <td>0</td>\n",
              "      <td>0</td>\n",
              "      <td>0</td>\n",
              "      <td>0</td>\n",
              "    </tr>\n",
              "    <tr>\n",
              "      <th>2</th>\n",
              "      <td>1</td>\n",
              "      <td>1</td>\n",
              "      <td>1</td>\n",
              "      <td>0</td>\n",
              "      <td>0</td>\n",
              "      <td>0</td>\n",
              "      <td>0</td>\n",
              "      <td>0</td>\n",
              "      <td>0</td>\n",
              "      <td>1</td>\n",
              "      <td>...</td>\n",
              "      <td>0</td>\n",
              "      <td>0</td>\n",
              "      <td>0</td>\n",
              "      <td>0</td>\n",
              "      <td>0</td>\n",
              "      <td>0</td>\n",
              "      <td>0</td>\n",
              "      <td>0</td>\n",
              "      <td>0</td>\n",
              "      <td>0</td>\n",
              "    </tr>\n",
              "    <tr>\n",
              "      <th>3</th>\n",
              "      <td>1</td>\n",
              "      <td>1</td>\n",
              "      <td>1</td>\n",
              "      <td>0</td>\n",
              "      <td>0</td>\n",
              "      <td>0</td>\n",
              "      <td>0</td>\n",
              "      <td>0</td>\n",
              "      <td>0</td>\n",
              "      <td>1</td>\n",
              "      <td>...</td>\n",
              "      <td>0</td>\n",
              "      <td>0</td>\n",
              "      <td>0</td>\n",
              "      <td>0</td>\n",
              "      <td>0</td>\n",
              "      <td>0</td>\n",
              "      <td>0</td>\n",
              "      <td>0</td>\n",
              "      <td>0</td>\n",
              "      <td>0</td>\n",
              "    </tr>\n",
              "    <tr>\n",
              "      <th>4</th>\n",
              "      <td>1</td>\n",
              "      <td>1</td>\n",
              "      <td>1</td>\n",
              "      <td>0</td>\n",
              "      <td>0</td>\n",
              "      <td>0</td>\n",
              "      <td>0</td>\n",
              "      <td>0</td>\n",
              "      <td>0</td>\n",
              "      <td>1</td>\n",
              "      <td>...</td>\n",
              "      <td>0</td>\n",
              "      <td>0</td>\n",
              "      <td>0</td>\n",
              "      <td>0</td>\n",
              "      <td>0</td>\n",
              "      <td>0</td>\n",
              "      <td>0</td>\n",
              "      <td>0</td>\n",
              "      <td>0</td>\n",
              "      <td>0</td>\n",
              "    </tr>\n",
              "  </tbody>\n",
              "</table>\n",
              "<p>5 rows × 881 columns</p>\n",
              "</div>\n",
              "      <button class=\"colab-df-convert\" onclick=\"convertToInteractive('df-86b50858-3d6e-4ed5-aa37-5191501e44fc')\"\n",
              "              title=\"Convert this dataframe to an interactive table.\"\n",
              "              style=\"display:none;\">\n",
              "        \n",
              "  <svg xmlns=\"http://www.w3.org/2000/svg\" height=\"24px\"viewBox=\"0 0 24 24\"\n",
              "       width=\"24px\">\n",
              "    <path d=\"M0 0h24v24H0V0z\" fill=\"none\"/>\n",
              "    <path d=\"M18.56 5.44l.94 2.06.94-2.06 2.06-.94-2.06-.94-.94-2.06-.94 2.06-2.06.94zm-11 1L8.5 8.5l.94-2.06 2.06-.94-2.06-.94L8.5 2.5l-.94 2.06-2.06.94zm10 10l.94 2.06.94-2.06 2.06-.94-2.06-.94-.94-2.06-.94 2.06-2.06.94z\"/><path d=\"M17.41 7.96l-1.37-1.37c-.4-.4-.92-.59-1.43-.59-.52 0-1.04.2-1.43.59L10.3 9.45l-7.72 7.72c-.78.78-.78 2.05 0 2.83L4 21.41c.39.39.9.59 1.41.59.51 0 1.02-.2 1.41-.59l7.78-7.78 2.81-2.81c.8-.78.8-2.07 0-2.86zM5.41 20L4 18.59l7.72-7.72 1.47 1.35L5.41 20z\"/>\n",
              "  </svg>\n",
              "      </button>\n",
              "      \n",
              "  <style>\n",
              "    .colab-df-container {\n",
              "      display:flex;\n",
              "      flex-wrap:wrap;\n",
              "      gap: 12px;\n",
              "    }\n",
              "\n",
              "    .colab-df-convert {\n",
              "      background-color: #E8F0FE;\n",
              "      border: none;\n",
              "      border-radius: 50%;\n",
              "      cursor: pointer;\n",
              "      display: none;\n",
              "      fill: #1967D2;\n",
              "      height: 32px;\n",
              "      padding: 0 0 0 0;\n",
              "      width: 32px;\n",
              "    }\n",
              "\n",
              "    .colab-df-convert:hover {\n",
              "      background-color: #E2EBFA;\n",
              "      box-shadow: 0px 1px 2px rgba(60, 64, 67, 0.3), 0px 1px 3px 1px rgba(60, 64, 67, 0.15);\n",
              "      fill: #174EA6;\n",
              "    }\n",
              "\n",
              "    [theme=dark] .colab-df-convert {\n",
              "      background-color: #3B4455;\n",
              "      fill: #D2E3FC;\n",
              "    }\n",
              "\n",
              "    [theme=dark] .colab-df-convert:hover {\n",
              "      background-color: #434B5C;\n",
              "      box-shadow: 0px 1px 3px 1px rgba(0, 0, 0, 0.15);\n",
              "      filter: drop-shadow(0px 1px 2px rgba(0, 0, 0, 0.3));\n",
              "      fill: #FFFFFF;\n",
              "    }\n",
              "  </style>\n",
              "\n",
              "      <script>\n",
              "        const buttonEl =\n",
              "          document.querySelector('#df-86b50858-3d6e-4ed5-aa37-5191501e44fc button.colab-df-convert');\n",
              "        buttonEl.style.display =\n",
              "          google.colab.kernel.accessAllowed ? 'block' : 'none';\n",
              "\n",
              "        async function convertToInteractive(key) {\n",
              "          const element = document.querySelector('#df-86b50858-3d6e-4ed5-aa37-5191501e44fc');\n",
              "          const dataTable =\n",
              "            await google.colab.kernel.invokeFunction('convertToInteractive',\n",
              "                                                     [key], {});\n",
              "          if (!dataTable) return;\n",
              "\n",
              "          const docLinkHtml = 'Like what you see? Visit the ' +\n",
              "            '<a target=\"_blank\" href=https://colab.research.google.com/notebooks/data_table.ipynb>data table notebook</a>'\n",
              "            + ' to learn more about interactive tables.';\n",
              "          element.innerHTML = '';\n",
              "          dataTable['output_type'] = 'display_data';\n",
              "          await google.colab.output.renderOutput(dataTable, element);\n",
              "          const docLink = document.createElement('div');\n",
              "          docLink.innerHTML = docLinkHtml;\n",
              "          element.appendChild(docLink);\n",
              "        }\n",
              "      </script>\n",
              "    </div>\n",
              "  </div>\n",
              "  "
            ]
          },
          "metadata": {},
          "execution_count": 44
        }
      ],
      "source": [
        "X.head(5)"
      ]
    },
    {
      "cell_type": "code",
      "execution_count": 45,
      "metadata": {
        "id": "BQv4ODdpdxLz",
        "colab": {
          "base_uri": "https://localhost:8080/"
        },
        "outputId": "81b90b3a-55e3-47f6-9b94-9401ff92ab77"
      },
      "outputs": [
        {
          "output_type": "execute_result",
          "data": {
            "text/plain": [
              "array([8.09, 4.32, 8.09, 5.28, 8.08])"
            ]
          },
          "metadata": {},
          "execution_count": 45
        }
      ],
      "source": [
        "Y[:5]"
      ]
    },
    {
      "cell_type": "code",
      "execution_count": 46,
      "metadata": {
        "id": "VFhn9EsifToH",
        "colab": {
          "base_uri": "https://localhost:8080/"
        },
        "outputId": "0d0bf80b-2012-461f-f2f6-4e3367c14b15"
      },
      "outputs": [
        {
          "output_type": "execute_result",
          "data": {
            "text/plain": [
              "(1125, 881)"
            ]
          },
          "metadata": {},
          "execution_count": 46
        }
      ],
      "source": [
        "X.shape"
      ]
    },
    {
      "cell_type": "markdown",
      "source": [
        "### Defining all the Regressors"
      ],
      "metadata": {
        "id": "d6fRfED16p4S"
      }
    },
    {
      "cell_type": "code",
      "execution_count": 47,
      "metadata": {
        "id": "Uavte79UY8Mm"
      },
      "outputs": [],
      "source": [
        "rfe = RandomForestRegressor(n_estimators = 100)\n",
        "dtree = DecisionTreeRegressor()\n",
        "svr = SVR()\n",
        "etree = ExtraTreesRegressor()\n",
        "lin_reg = LinearRegression()\n",
        "lasso = Lasso()\n",
        "ridge = Ridge()\n",
        "oth = OrthogonalMatchingPursuit()"
      ]
    },
    {
      "cell_type": "code",
      "source": [
        "def evaluation(y,predictions):\n",
        "    mae = mean_absolute_error(y,predictions)\n",
        "    mse = mean_squared_error(y,predictions)\n",
        "    rmse = np.sqrt(mean_squared_error(y,predictions))\n",
        "    r2 = r2_score(y,predictions)\n",
        "    return mae,mse,rmse,r2"
      ],
      "metadata": {
        "id": "MHrZHioPBSVd"
      },
      "execution_count": 48,
      "outputs": []
    },
    {
      "cell_type": "markdown",
      "source": [
        "### Using different regressors and finding best fit model for our dataset"
      ],
      "metadata": {
        "id": "CqNtuYLy6w9A"
      }
    },
    {
      "cell_type": "code",
      "source": [
        "rmse_arr = []\n",
        "r2_arr=[]"
      ],
      "metadata": {
        "id": "sJccvqinhv5v"
      },
      "execution_count": 49,
      "outputs": []
    },
    {
      "cell_type": "markdown",
      "source": [
        "### Random Forest Tree"
      ],
      "metadata": {
        "id": "X9YrN2oMlUJH"
      }
    },
    {
      "cell_type": "code",
      "execution_count": 50,
      "metadata": {
        "id": "xXwa2Z2IrrMl",
        "colab": {
          "base_uri": "https://localhost:8080/"
        },
        "outputId": "691094f4-13f6-45f3-918e-4675a6cdfb38"
      },
      "outputs": [
        {
          "output_type": "stream",
          "name": "stdout",
          "text": [
            "R sqaured value : -0.003902785096443706\n",
            "\n",
            "Mean Sqaured Error : 0.5445431337246783\n",
            "\n",
            "Mean Absolute Error : 0.4140096157968814\n",
            "\n",
            "Root Mean Squared : 0.7379316592508268\n"
          ]
        }
      ],
      "source": [
        "X_train,X_test,Y_train,Y_test = train_test_split(X,Y,test_size=0.2,random_state=100)\n",
        "rfe.fit(X_train,Y_train)\n",
        "Y_pred = rfe.predict(X_test)\n",
        "mae,mse,rmse,r2 = evaluation(Y_test,Y_pred)\n",
        "r2_arr.append(r2)\n",
        "rmse_arr.append(rmse)\n",
        "print(\"R sqaured value :\",r2)\n",
        "print(\"\")\n",
        "print(\"Mean Sqaured Error :\",mse)\n",
        "print(\"\")\n",
        "print(\"Mean Absolute Error :\",mae)\n",
        "print(\"\")\n",
        "print(\"Root Mean Squared :\",rmse)"
      ]
    },
    {
      "cell_type": "markdown",
      "source": [
        "### Decision Tree Regressor"
      ],
      "metadata": {
        "id": "QWcIVMsrlQjL"
      }
    },
    {
      "cell_type": "code",
      "execution_count": 51,
      "metadata": {
        "id": "SbWD69fhyY3R",
        "colab": {
          "base_uri": "https://localhost:8080/"
        },
        "outputId": "e2d3f527-6c6b-493c-dea4-f4ede39b5a8e"
      },
      "outputs": [
        {
          "output_type": "stream",
          "name": "stdout",
          "text": [
            "R sqaured value : -0.6420286888238278\n",
            "\n",
            "Mean Sqaured Error : 0.890679317910301\n",
            "\n",
            "Mean Absolute Error : 0.45517888053467054\n",
            "\n",
            "Root Mean Squared : 0.9437580823019748\n"
          ]
        }
      ],
      "source": [
        "X_train,X_test,Y_train,Y_test = train_test_split(X,Y,test_size=0.2,random_state=100)\n",
        "dtree.fit(X_train,Y_train)\n",
        "Y_pred = dtree.predict(X_test)\n",
        "mae,mse,rmse,r2 = evaluation(Y_test,Y_pred)\n",
        "r2_arr.append(r2)\n",
        "rmse_arr.append(rmse)\n",
        "print(\"R sqaured value :\",r2)\n",
        "print(\"\")\n",
        "print(\"Mean Sqaured Error :\",mse)\n",
        "print(\"\")\n",
        "print(\"Mean Absolute Error :\",mae)\n",
        "print(\"\")\n",
        "print(\"Root Mean Squared :\",rmse)"
      ]
    },
    {
      "cell_type": "markdown",
      "source": [
        "### Support Vector Regressor"
      ],
      "metadata": {
        "id": "wmSy6y_YlMur"
      }
    },
    {
      "cell_type": "code",
      "execution_count": 52,
      "metadata": {
        "id": "S86sMcYjycVd",
        "colab": {
          "base_uri": "https://localhost:8080/"
        },
        "outputId": "67ad6775-aae4-40d8-9f01-6a34c559d09f"
      },
      "outputs": [
        {
          "output_type": "stream",
          "name": "stdout",
          "text": [
            "R sqaured value : -0.025495626522142656\n",
            "\n",
            "Mean Sqaured Error : 0.5562556558040354\n",
            "\n",
            "Mean Absolute Error : 0.33112255578820265\n",
            "\n",
            "Root Mean Squared : 0.7458254861588167\n"
          ]
        }
      ],
      "source": [
        "X_train,X_test,Y_train,Y_test = train_test_split(X,Y,test_size=0.2,random_state=100)\n",
        "svr.fit(X_train,Y_train)\n",
        "Y_pred = svr.predict(X_test)\n",
        "mae,mse,rmse,r2 = evaluation(Y_test,Y_pred)\n",
        "rmse_arr.append(rmse)\n",
        "r2_arr.append(r2)\n",
        "print(\"R sqaured value :\",r2)\n",
        "print(\"\")\n",
        "print(\"Mean Sqaured Error :\",mse)\n",
        "print(\"\")\n",
        "print(\"Mean Absolute Error :\",mae)\n",
        "print(\"\")\n",
        "print(\"Root Mean Squared :\",rmse)"
      ]
    },
    {
      "cell_type": "markdown",
      "source": [
        "### Extra Tree Regression"
      ],
      "metadata": {
        "id": "4xXw5tCRlJE2"
      }
    },
    {
      "cell_type": "code",
      "execution_count": 53,
      "metadata": {
        "id": "ci_fE2VtydGr",
        "colab": {
          "base_uri": "https://localhost:8080/"
        },
        "outputId": "2f707c9d-6b63-49ac-94eb-1e7b254e7da3"
      },
      "outputs": [
        {
          "output_type": "stream",
          "name": "stdout",
          "text": [
            "R sqaured value : -0.4870674249597915\n",
            "\n",
            "Mean Sqaured Error : 0.8066242744507367\n",
            "\n",
            "Mean Absolute Error : 0.4447864953494866\n",
            "\n",
            "Root Mean Squared : 0.8981226388699578\n"
          ]
        }
      ],
      "source": [
        "X_train,X_test,Y_train,Y_test = train_test_split(X,Y,test_size=0.2,random_state=100)\n",
        "etree.fit(X_train,Y_train)\n",
        "Y_pred = etree.predict(X_test)\n",
        "mae,mse,rmse,r2 = evaluation(Y_test,Y_pred)\n",
        "r2_arr.append(r2)\n",
        "rmse_arr.append(rmse)\n",
        "print(\"R sqaured value :\",r2)\n",
        "print(\"\")\n",
        "print(\"Mean Sqaured Error :\",mse)\n",
        "print(\"\")\n",
        "print(\"Mean Absolute Error :\",mae)\n",
        "print(\"\")\n",
        "print(\"Root Mean Squared :\",rmse)"
      ]
    },
    {
      "cell_type": "markdown",
      "source": [
        "### Lasso Regression"
      ],
      "metadata": {
        "id": "Eej25EL-kscD"
      }
    },
    {
      "cell_type": "code",
      "source": [
        "X_train,X_test,Y_train,Y_test = train_test_split(X,Y,test_size=0.2,random_state=100)\n",
        "lasso.fit(X_train,Y_train)\n",
        "Y_pred = lasso.predict(X_test)\n",
        "mae,mse,rmse,r2 = evaluation(Y_test,Y_pred)\n",
        "rmse_arr.append(rmse)\n",
        "r2_arr.append(r2)\n",
        "print(\"R sqaured value :\",r2)\n",
        "print(\"\")\n",
        "print(\"Mean Sqaured Error :\",mse)\n",
        "print(\"\")\n",
        "print(\"Mean Absolute Error :\",mae)\n",
        "print(\"\")\n",
        "print(\"Root Mean Squared :\",rmse)"
      ],
      "metadata": {
        "id": "KqZTjmkykJR0",
        "colab": {
          "base_uri": "https://localhost:8080/"
        },
        "outputId": "6dab3b47-f216-4d11-992a-eaee8fa5ebcf"
      },
      "execution_count": 54,
      "outputs": [
        {
          "output_type": "stream",
          "name": "stdout",
          "text": [
            "R sqaured value : -0.006405383406541398\n",
            "\n",
            "Mean Sqaured Error : 0.5459006085185187\n",
            "\n",
            "Mean Absolute Error : 0.4369514567901213\n",
            "\n",
            "Root Mean Squared : 0.7388508702833873\n"
          ]
        }
      ]
    },
    {
      "cell_type": "markdown",
      "source": [
        "### Ridge Regression"
      ],
      "metadata": {
        "id": "yAZkOQV9kpRX"
      }
    },
    {
      "cell_type": "code",
      "source": [
        "X_train,X_test,Y_train,Y_test = train_test_split(X,Y,test_size=0.2,random_state=100)\n",
        "ridge.fit(X_train,Y_train)\n",
        "Y_pred = ridge.predict(X_test)\n",
        "mae,mse,rmse,r2 = evaluation(Y_test,Y_pred)\n",
        "r2_arr.append(r2)\n",
        "rmse_arr.append(rmse)\n",
        "print(\"R sqaured value :\",r2)\n",
        "print(\"\")\n",
        "print(\"Mean Sqaured Error :\",mse)\n",
        "print(\"\")\n",
        "print(\"Mean Absolute Error :\",mae)\n",
        "print(\"\")\n",
        "print(\"Root Mean Squared :\",rmse)"
      ],
      "metadata": {
        "id": "JF0R_3MikNEV",
        "colab": {
          "base_uri": "https://localhost:8080/"
        },
        "outputId": "50015547-61c0-4d9b-fb47-cf6490a457c4"
      },
      "execution_count": 55,
      "outputs": [
        {
          "output_type": "stream",
          "name": "stdout",
          "text": [
            "R sqaured value : -0.07275932283648623\n",
            "\n",
            "Mean Sqaured Error : 0.5818927211499112\n",
            "\n",
            "Mean Absolute Error : 0.4820966049416652\n",
            "\n",
            "Root Mean Squared : 0.7628189307757846\n"
          ]
        }
      ]
    },
    {
      "cell_type": "markdown",
      "source": [
        "### Orthogonal Matching Pursuit Regressor"
      ],
      "metadata": {
        "id": "g6MYBOrRki8L"
      }
    },
    {
      "cell_type": "code",
      "source": [
        "X_train,X_test,Y_train,Y_test = train_test_split(X,Y,test_size=0.2,random_state=100)\n",
        "oth.fit(X_train,Y_train)\n",
        "Y_pred = oth.predict(X_test)\n",
        "mae,mse,rmse,r2 = evaluation(Y_test,Y_pred)\n",
        "r2_arr.append(r2)\n",
        "rmse_arr.append(rmse)\n",
        "print(\"R sqaured value :\",r2)\n",
        "print(\"\")\n",
        "print(\"Mean Sqaured Error :\",mse)\n",
        "print(\"\")\n",
        "print(\"Mean Absolute Error :\",mae)\n",
        "print(\"\")\n",
        "print(\"Root Mean Squared :\",rmse)"
      ],
      "metadata": {
        "id": "B8KxdkEukQRp",
        "colab": {
          "base_uri": "https://localhost:8080/"
        },
        "outputId": "6c26324b-c1a0-46dd-9d6c-a9564816a607"
      },
      "execution_count": 56,
      "outputs": [
        {
          "output_type": "stream",
          "name": "stdout",
          "text": [
            "R sqaured value : -0.07642116176364366\n",
            "\n",
            "Mean Sqaured Error : 0.5838789983813243\n",
            "\n",
            "Mean Absolute Error : 0.5013077892095956\n",
            "\n",
            "Root Mean Squared : 0.7641197539530857\n"
          ]
        }
      ]
    },
    {
      "cell_type": "markdown",
      "source": [
        "### Linear Regression"
      ],
      "metadata": {
        "id": "8MZ76JXukZs6"
      }
    },
    {
      "cell_type": "code",
      "source": [
        "X_train,X_test,Y_train,Y_test = train_test_split(X,Y,test_size=0.2,random_state=100)\n",
        "lin_reg.fit(X_train,Y_train)\n",
        "Y_pred = lin_reg.predict(X_test)\n",
        "mae,mse,rmse,r2 = evaluation(Y_test,Y_pred)\n",
        "r2_arr.append(r2)\n",
        "rmse_arr.append(rmse)\n",
        "print(\"R sqaured value :\",r2)\n",
        "print(\"\")\n",
        "print(\"Mean Sqaured Error :\",mse)\n",
        "print(\"\")\n",
        "print(\"Mean Absolute Error :\",mae)\n",
        "print(\"\")\n",
        "print(\"Root Mean Squared :\",rmse)"
      ],
      "metadata": {
        "id": "rqW03a-mkUhF",
        "colab": {
          "base_uri": "https://localhost:8080/"
        },
        "outputId": "cf2e76cf-17ad-4f27-9383-cd8d9ff1d3ca"
      },
      "execution_count": 57,
      "outputs": [
        {
          "output_type": "stream",
          "name": "stdout",
          "text": [
            "R sqaured value : -5.53877263269526e+19\n",
            "\n",
            "Mean Sqaured Error : 3.004375175736374e+19\n",
            "\n",
            "Mean Absolute Error : 1215656120.9093435\n",
            "\n",
            "Root Mean Squared : 5481218090.658658\n"
          ]
        }
      ]
    },
    {
      "cell_type": "markdown",
      "source": [
        "### Model Performance"
      ],
      "metadata": {
        "id": "dIU8xk4XHQDD"
      }
    },
    {
      "cell_type": "code",
      "source": [
        "import seaborn as sns"
      ],
      "metadata": {
        "id": "lbjJTcKqGSA0"
      },
      "execution_count": 58,
      "outputs": []
    },
    {
      "cell_type": "code",
      "source": [
        "di = {\"Name\":[\"Random Forest\",\"Decision Tree\",\"Support Vector\",\"Extra Tree\",\"Lasso\",\"Ridge\",\"Orthogonal\",\"Linear\"],\n",
        "      \"RMSE\":rmse_arr,\"R_Sq\":r2_arr}"
      ],
      "metadata": {
        "id": "a1M-XG96pg_r"
      },
      "execution_count": 59,
      "outputs": []
    },
    {
      "cell_type": "code",
      "source": [
        "model_performance = pd.DataFrame.from_dict(di)"
      ],
      "metadata": {
        "id": "p-vUcxFFqw4g"
      },
      "execution_count": 60,
      "outputs": []
    },
    {
      "cell_type": "code",
      "source": [
        "model_performance"
      ],
      "metadata": {
        "id": "s981HWb7sOtU",
        "colab": {
          "base_uri": "https://localhost:8080/",
          "height": 300
        },
        "outputId": "9f0969a9-02c5-4869-aed0-5c1b41a75b0a"
      },
      "execution_count": 61,
      "outputs": [
        {
          "output_type": "execute_result",
          "data": {
            "text/plain": [
              "             Name          RMSE          R_Sq\n",
              "0   Random Forest  7.379317e-01 -3.902785e-03\n",
              "1   Decision Tree  9.437581e-01 -6.420287e-01\n",
              "2  Support Vector  7.458255e-01 -2.549563e-02\n",
              "3      Extra Tree  8.981226e-01 -4.870674e-01\n",
              "4           Lasso  7.388509e-01 -6.405383e-03\n",
              "5           Ridge  7.628189e-01 -7.275932e-02\n",
              "6      Orthogonal  7.641198e-01 -7.642116e-02\n",
              "7          Linear  5.481218e+09 -5.538773e+19"
            ],
            "text/html": [
              "\n",
              "  <div id=\"df-910aebb7-d7d0-4df4-882f-71f0e7651d18\">\n",
              "    <div class=\"colab-df-container\">\n",
              "      <div>\n",
              "<style scoped>\n",
              "    .dataframe tbody tr th:only-of-type {\n",
              "        vertical-align: middle;\n",
              "    }\n",
              "\n",
              "    .dataframe tbody tr th {\n",
              "        vertical-align: top;\n",
              "    }\n",
              "\n",
              "    .dataframe thead th {\n",
              "        text-align: right;\n",
              "    }\n",
              "</style>\n",
              "<table border=\"1\" class=\"dataframe\">\n",
              "  <thead>\n",
              "    <tr style=\"text-align: right;\">\n",
              "      <th></th>\n",
              "      <th>Name</th>\n",
              "      <th>RMSE</th>\n",
              "      <th>R_Sq</th>\n",
              "    </tr>\n",
              "  </thead>\n",
              "  <tbody>\n",
              "    <tr>\n",
              "      <th>0</th>\n",
              "      <td>Random Forest</td>\n",
              "      <td>7.379317e-01</td>\n",
              "      <td>-3.902785e-03</td>\n",
              "    </tr>\n",
              "    <tr>\n",
              "      <th>1</th>\n",
              "      <td>Decision Tree</td>\n",
              "      <td>9.437581e-01</td>\n",
              "      <td>-6.420287e-01</td>\n",
              "    </tr>\n",
              "    <tr>\n",
              "      <th>2</th>\n",
              "      <td>Support Vector</td>\n",
              "      <td>7.458255e-01</td>\n",
              "      <td>-2.549563e-02</td>\n",
              "    </tr>\n",
              "    <tr>\n",
              "      <th>3</th>\n",
              "      <td>Extra Tree</td>\n",
              "      <td>8.981226e-01</td>\n",
              "      <td>-4.870674e-01</td>\n",
              "    </tr>\n",
              "    <tr>\n",
              "      <th>4</th>\n",
              "      <td>Lasso</td>\n",
              "      <td>7.388509e-01</td>\n",
              "      <td>-6.405383e-03</td>\n",
              "    </tr>\n",
              "    <tr>\n",
              "      <th>5</th>\n",
              "      <td>Ridge</td>\n",
              "      <td>7.628189e-01</td>\n",
              "      <td>-7.275932e-02</td>\n",
              "    </tr>\n",
              "    <tr>\n",
              "      <th>6</th>\n",
              "      <td>Orthogonal</td>\n",
              "      <td>7.641198e-01</td>\n",
              "      <td>-7.642116e-02</td>\n",
              "    </tr>\n",
              "    <tr>\n",
              "      <th>7</th>\n",
              "      <td>Linear</td>\n",
              "      <td>5.481218e+09</td>\n",
              "      <td>-5.538773e+19</td>\n",
              "    </tr>\n",
              "  </tbody>\n",
              "</table>\n",
              "</div>\n",
              "      <button class=\"colab-df-convert\" onclick=\"convertToInteractive('df-910aebb7-d7d0-4df4-882f-71f0e7651d18')\"\n",
              "              title=\"Convert this dataframe to an interactive table.\"\n",
              "              style=\"display:none;\">\n",
              "        \n",
              "  <svg xmlns=\"http://www.w3.org/2000/svg\" height=\"24px\"viewBox=\"0 0 24 24\"\n",
              "       width=\"24px\">\n",
              "    <path d=\"M0 0h24v24H0V0z\" fill=\"none\"/>\n",
              "    <path d=\"M18.56 5.44l.94 2.06.94-2.06 2.06-.94-2.06-.94-.94-2.06-.94 2.06-2.06.94zm-11 1L8.5 8.5l.94-2.06 2.06-.94-2.06-.94L8.5 2.5l-.94 2.06-2.06.94zm10 10l.94 2.06.94-2.06 2.06-.94-2.06-.94-.94-2.06-.94 2.06-2.06.94z\"/><path d=\"M17.41 7.96l-1.37-1.37c-.4-.4-.92-.59-1.43-.59-.52 0-1.04.2-1.43.59L10.3 9.45l-7.72 7.72c-.78.78-.78 2.05 0 2.83L4 21.41c.39.39.9.59 1.41.59.51 0 1.02-.2 1.41-.59l7.78-7.78 2.81-2.81c.8-.78.8-2.07 0-2.86zM5.41 20L4 18.59l7.72-7.72 1.47 1.35L5.41 20z\"/>\n",
              "  </svg>\n",
              "      </button>\n",
              "      \n",
              "  <style>\n",
              "    .colab-df-container {\n",
              "      display:flex;\n",
              "      flex-wrap:wrap;\n",
              "      gap: 12px;\n",
              "    }\n",
              "\n",
              "    .colab-df-convert {\n",
              "      background-color: #E8F0FE;\n",
              "      border: none;\n",
              "      border-radius: 50%;\n",
              "      cursor: pointer;\n",
              "      display: none;\n",
              "      fill: #1967D2;\n",
              "      height: 32px;\n",
              "      padding: 0 0 0 0;\n",
              "      width: 32px;\n",
              "    }\n",
              "\n",
              "    .colab-df-convert:hover {\n",
              "      background-color: #E2EBFA;\n",
              "      box-shadow: 0px 1px 2px rgba(60, 64, 67, 0.3), 0px 1px 3px 1px rgba(60, 64, 67, 0.15);\n",
              "      fill: #174EA6;\n",
              "    }\n",
              "\n",
              "    [theme=dark] .colab-df-convert {\n",
              "      background-color: #3B4455;\n",
              "      fill: #D2E3FC;\n",
              "    }\n",
              "\n",
              "    [theme=dark] .colab-df-convert:hover {\n",
              "      background-color: #434B5C;\n",
              "      box-shadow: 0px 1px 3px 1px rgba(0, 0, 0, 0.15);\n",
              "      filter: drop-shadow(0px 1px 2px rgba(0, 0, 0, 0.3));\n",
              "      fill: #FFFFFF;\n",
              "    }\n",
              "  </style>\n",
              "\n",
              "      <script>\n",
              "        const buttonEl =\n",
              "          document.querySelector('#df-910aebb7-d7d0-4df4-882f-71f0e7651d18 button.colab-df-convert');\n",
              "        buttonEl.style.display =\n",
              "          google.colab.kernel.accessAllowed ? 'block' : 'none';\n",
              "\n",
              "        async function convertToInteractive(key) {\n",
              "          const element = document.querySelector('#df-910aebb7-d7d0-4df4-882f-71f0e7651d18');\n",
              "          const dataTable =\n",
              "            await google.colab.kernel.invokeFunction('convertToInteractive',\n",
              "                                                     [key], {});\n",
              "          if (!dataTable) return;\n",
              "\n",
              "          const docLinkHtml = 'Like what you see? Visit the ' +\n",
              "            '<a target=\"_blank\" href=https://colab.research.google.com/notebooks/data_table.ipynb>data table notebook</a>'\n",
              "            + ' to learn more about interactive tables.';\n",
              "          element.innerHTML = '';\n",
              "          dataTable['output_type'] = 'display_data';\n",
              "          await google.colab.output.renderOutput(dataTable, element);\n",
              "          const docLink = document.createElement('div');\n",
              "          docLink.innerHTML = docLinkHtml;\n",
              "          element.appendChild(docLink);\n",
              "        }\n",
              "      </script>\n",
              "    </div>\n",
              "  </div>\n",
              "  "
            ]
          },
          "metadata": {},
          "execution_count": 61
        }
      ]
    },
    {
      "cell_type": "code",
      "source": [
        "sns.set(rc={'figure.figsize':(10,5)})\n",
        "ax = sns.lineplot(x='RMSE',y='R_Sq',data=model_performance).set(title='Regressor Performance')"
      ],
      "metadata": {
        "id": "8kvulYCREFOu",
        "colab": {
          "base_uri": "https://localhost:8080/",
          "height": 355
        },
        "outputId": "3f2891eb-8ae4-45a9-be5d-bb338394a350"
      },
      "execution_count": 62,
      "outputs": [
        {
          "output_type": "display_data",
          "data": {
            "text/plain": [
              "<Figure size 720x360 with 1 Axes>"
            ],
            "image/png": "[encoded data removed]"
          },
          "metadata": {}
        }
      ]
    },
    {
      "cell_type": "markdown",
      "source": [
        "### Using model with lowest rmse"
      ],
      "metadata": {
        "id": "xsGZz74YHfog"
      }
    },
    {
      "cell_type": "code",
      "source": [
        "X_train,X_test,Y_train,Y_test = train_test_split(X,Y,test_size=0.2,random_state=100)\n",
        "rfe.fit(X_train,Y_train)\n",
        "Y_pred = rfe.predict(X_test)\n",
        "rmse = np.sqrt(mean_squared_error(Y_test,Y_pred))"
      ],
      "metadata": {
        "id": "Govnii6WFhDx"
      },
      "execution_count": 63,
      "outputs": []
    },
    {
      "cell_type": "code",
      "source": [
        "rmse"
      ],
      "metadata": {
        "id": "Wr7tofXBI7H6",
        "colab": {
          "base_uri": "https://localhost:8080/"
        },
        "outputId": "40ed5bed-0521-4991-b379-2f3c8f51ebf2"
      },
      "execution_count": 64,
      "outputs": [
        {
          "output_type": "execute_result",
          "data": {
            "text/plain": [
              "0.7381616541708522"
            ]
          },
          "metadata": {},
          "execution_count": 64
        }
      ]
    },
    {
      "cell_type": "markdown",
      "source": [
        "### Saving model state for later use"
      ],
      "metadata": {
        "id": "bUeMqW2aJCFg"
      }
    },
    {
      "cell_type": "code",
      "source": [
        "import pickle\n",
        "\n",
        "pickle.dump(rfe,open(\"kidney_model.pkl\",\"wb\"))"
      ],
      "metadata": {
        "id": "jyxlWv2aI78G"
      },
      "execution_count": 65,
      "outputs": []
    },
    {
      "cell_type": "code",
      "source": [],
      "metadata": {
        "id": "Lo5V0P8AJ4xg"
      },
      "execution_count": null,
      "outputs": []
    }
  ],
  "metadata": {
    "colab": {
      "provenance": []
    },
    "kernelspec": {
      "display_name": "Python 3",
      "name": "python3"
    },
    "language_info": {
      "name": "python"
    }
  },
  "nbformat": 4,
  "nbformat_minor": 0
}