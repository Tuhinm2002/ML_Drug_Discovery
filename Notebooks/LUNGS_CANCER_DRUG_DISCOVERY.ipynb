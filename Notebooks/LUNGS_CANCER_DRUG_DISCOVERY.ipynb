{
  "cells": [
    {
      "cell_type": "markdown",
      "metadata": {
        "id": "4Ban-ZO5_6Vf"
      },
      "source": [
        "### Importing Important Modules and Database connectors"
      ]
    },
    {
      "cell_type": "code",
      "execution_count": 1,
      "metadata": {
        "colab": {
          "base_uri": "https://localhost:8080/"
        },
        "id": "uh7CxBVxlbi9",
        "outputId": "fb218577-377b-44fc-9bdd-24cf2a1b559b"
      },
      "outputs": [
        {
          "output_type": "stream",
          "name": "stdout",
          "text": [
            "Looking in indexes: https://pypi.org/simple, https://us-python.pkg.dev/colab-wheels/public/simple/\n",
            "Collecting chembl_webresource_client\n",
            "  Downloading chembl_webresource_client-0.10.8-py3-none-any.whl (55 kB)\n",
            "\u001b[2K     \u001b[90m━━━━━━━━━━━━━━━━━━━━━━━━━━━━━━━━━━━━━━━━\u001b[0m \u001b[32m55.2/55.2 KB\u001b[0m \u001b[31m2.3 MB/s\u001b[0m eta \u001b[36m0:00:00\u001b[0m\n",
            "\u001b[?25hRequirement already satisfied: urllib3 in /usr/local/lib/python3.9/dist-packages (from chembl_webresource_client) (1.26.14)\n",
            "Requirement already satisfied: requests>=2.18.4 in /usr/local/lib/python3.9/dist-packages (from chembl_webresource_client) (2.25.1)\n",
            "Collecting requests-cache~=0.7.0\n",
            "  Downloading requests_cache-0.7.5-py3-none-any.whl (39 kB)\n",
            "Requirement already satisfied: easydict in /usr/local/lib/python3.9/dist-packages (from chembl_webresource_client) (1.10)\n",
            "Requirement already satisfied: certifi>=2017.4.17 in /usr/local/lib/python3.9/dist-packages (from requests>=2.18.4->chembl_webresource_client) (2022.12.7)\n",
            "Requirement already satisfied: idna<3,>=2.5 in /usr/local/lib/python3.9/dist-packages (from requests>=2.18.4->chembl_webresource_client) (2.10)\n",
            "Requirement already satisfied: chardet<5,>=3.0.2 in /usr/local/lib/python3.9/dist-packages (from requests>=2.18.4->chembl_webresource_client) (4.0.0)\n",
            "Requirement already satisfied: pyyaml>=5.4 in /usr/local/lib/python3.9/dist-packages (from requests-cache~=0.7.0->chembl_webresource_client) (6.0)\n",
            "Collecting attrs<22.0,>=21.2\n",
            "  Downloading attrs-21.4.0-py2.py3-none-any.whl (60 kB)\n",
            "\u001b[2K     \u001b[90m━━━━━━━━━━━━━━━━━━━━━━━━━━━━━━━━━━━━━━━━\u001b[0m \u001b[32m60.6/60.6 KB\u001b[0m \u001b[31m4.5 MB/s\u001b[0m eta \u001b[36m0:00:00\u001b[0m\n",
            "\u001b[?25hRequirement already satisfied: itsdangerous>=2.0.1 in /usr/local/lib/python3.9/dist-packages (from requests-cache~=0.7.0->chembl_webresource_client) (2.1.2)\n",
            "Collecting url-normalize<2.0,>=1.4\n",
            "  Downloading url_normalize-1.4.3-py2.py3-none-any.whl (6.8 kB)\n",
            "Requirement already satisfied: six in /usr/local/lib/python3.9/dist-packages (from url-normalize<2.0,>=1.4->requests-cache~=0.7.0->chembl_webresource_client) (1.15.0)\n",
            "Installing collected packages: url-normalize, attrs, requests-cache, chembl_webresource_client\n",
            "  Attempting uninstall: attrs\n",
            "    Found existing installation: attrs 22.2.0\n",
            "    Uninstalling attrs-22.2.0:\n",
            "      Successfully uninstalled attrs-22.2.0\n",
            "Successfully installed attrs-21.4.0 chembl_webresource_client-0.10.8 requests-cache-0.7.5 url-normalize-1.4.3\n"
          ]
        }
      ],
      "source": [
        "! pip install chembl_webresource_client"
      ]
    },
    {
      "cell_type": "code",
      "execution_count": 2,
      "metadata": {
        "id": "MqSnLFbQls26"
      },
      "outputs": [],
      "source": [
        "import pandas as pd\n",
        "import numpy as np\n",
        "from chembl_webresource_client.new_client import new_client\n",
        "import matplotlib.pyplot as plt"
      ]
    },
    {
      "cell_type": "markdown",
      "metadata": {
        "id": "MgjhG1kiACOJ"
      },
      "source": [
        "### Collecting And Processing Data\n",
        "* Our main goal is to process the target protien structure `independent variable`\n",
        "* And predict the `IC50` value the `dependent variable`\n",
        "* To process the chemical structure Ww will be using `Padel Descripter` later on"
      ]
    },
    {
      "cell_type": "code",
      "execution_count": 3,
      "metadata": {
        "id": "T29V3oPJl9O3"
      },
      "outputs": [],
      "source": [
        "target = new_client.target\n",
        "target_query = target.search('lungs')\n",
        "target_result = pd.DataFrame.from_dict(target_query)"
      ]
    },
    {
      "cell_type": "code",
      "execution_count": 4,
      "metadata": {
        "colab": {
          "base_uri": "https://localhost:8080/",
          "height": 1000
        },
        "id": "ZOSTm5S-mfuI",
        "outputId": "022a38c3-2965-4cab-8355-7eebe1499c6a"
      },
      "outputs": [
        {
          "output_type": "execute_result",
          "data": {
            "text/plain": [
              "                                     cross_references               organism  \\\n",
              "0                                                  []  Oryctolagus cuniculus   \n",
              "1                                                  []           Mus musculus   \n",
              "2                                                  []      Rattus norvegicus   \n",
              "3                                                  []           Homo sapiens   \n",
              "4                                                  []           Homo sapiens   \n",
              "5   [{'xref_id': 'P04075', 'xref_name': None, 'xre...           Homo sapiens   \n",
              "6   [{'xref_id': 'Q12794', 'xref_name': None, 'xre...           Homo sapiens   \n",
              "7                                                  []           Homo sapiens   \n",
              "8                                                  []           Homo sapiens   \n",
              "9                                                  []                   None   \n",
              "10                                                 []                   None   \n",
              "11                                                 []           Homo sapiens   \n",
              "12                                                 []           Homo sapiens   \n",
              "13                                                 []           Mus musculus   \n",
              "14                                                 []                   None   \n",
              "15                                                 []           Homo sapiens   \n",
              "16                                                 []                   None   \n",
              "17                                                 []                   None   \n",
              "18  [{'xref_id': 'Q9ULW0', 'xref_name': None, 'xre...           Homo sapiens   \n",
              "19                                                 []           Homo sapiens   \n",
              "20                                                 []           Homo sapiens   \n",
              "21                                                 []           Homo sapiens   \n",
              "\n",
              "                                          pref_name  score  \\\n",
              "0                                              Lung    8.0   \n",
              "1                                              Lung    8.0   \n",
              "2                                              Lung    8.0   \n",
              "3                        Acidic mammalian chitinase    7.0   \n",
              "4                                    Protein GPR107    7.0   \n",
              "5                  Fructose-bisphosphate aldolase A    6.0   \n",
              "6                                   Hyaluronidase-1    6.0   \n",
              "7         Pulmonary surfactant-associated protein D    6.0   \n",
              "8                             Lung cancer cell line    5.0   \n",
              "9                             Lung cancer cell line    5.0   \n",
              "10                         Lung carcinoma cell line    5.0   \n",
              "11  tRNA-dihydrouridine(20) synthase [NAD(P)+]-like    5.0   \n",
              "12                    Lung LXF 629L tumor cell line    4.0   \n",
              "13                   Lewis lung carcinoma cell line    4.0   \n",
              "14                      Lung cancer tumor cell line    4.0   \n",
              "15                          Lung NSCLC-N6 cell-line    4.0   \n",
              "16             Non-small cell lung cancer cell line    4.0   \n",
              "17                 Small cell lung cancer cell line    4.0   \n",
              "18                      Targeting protein for Xklp2    4.0   \n",
              "19           Glycerol-3-phosphate acyltransferase 3    3.0   \n",
              "20      Aurora kinase A/Targeting protein for Xklp2    2.0   \n",
              "21     Mitochondrial complex I (NADH dehydrogenase)    0.0   \n",
              "\n",
              "    species_group_flag target_chembl_id  \\\n",
              "0                False     CHEMBL613449   \n",
              "1                False     CHEMBL613581   \n",
              "2                False     CHEMBL613643   \n",
              "3                False    CHEMBL1293197   \n",
              "4                False    CHEMBL4630835   \n",
              "5                False       CHEMBL2106   \n",
              "6                False       CHEMBL4528   \n",
              "7                False    CHEMBL2176857   \n",
              "8                False     CHEMBL614790   \n",
              "9                False     CHEMBL614103   \n",
              "10               False     CHEMBL614105   \n",
              "11               False    CHEMBL3879825   \n",
              "12               False     CHEMBL614689   \n",
              "13               False     CHEMBL614088   \n",
              "14               False     CHEMBL614104   \n",
              "15               False     CHEMBL614016   \n",
              "16               False     CHEMBL615002   \n",
              "17               False     CHEMBL612561   \n",
              "18               False       CHEMBL5389   \n",
              "19               False    CHEMBL4523318   \n",
              "20               False    CHEMBL3883304   \n",
              "21               False    CHEMBL2363065   \n",
              "\n",
              "                                    target_components      target_type  \\\n",
              "0                                                  []           TISSUE   \n",
              "1                                                  []           TISSUE   \n",
              "2                                                  []           TISSUE   \n",
              "3   [{'accession': 'Q9BZP6', 'component_descriptio...   SINGLE PROTEIN   \n",
              "4   [{'accession': 'Q5VW38', 'component_descriptio...   SINGLE PROTEIN   \n",
              "5   [{'accession': 'P04075', 'component_descriptio...   SINGLE PROTEIN   \n",
              "6   [{'accession': 'Q12794', 'component_descriptio...   SINGLE PROTEIN   \n",
              "7   [{'accession': 'P35247', 'component_descriptio...   SINGLE PROTEIN   \n",
              "8                                                  []        CELL-LINE   \n",
              "9                                                  []        CELL-LINE   \n",
              "10                                                 []        CELL-LINE   \n",
              "11  [{'accession': 'Q9NX74', 'component_descriptio...   SINGLE PROTEIN   \n",
              "12                                                 []        CELL-LINE   \n",
              "13                                                 []        CELL-LINE   \n",
              "14                                                 []        CELL-LINE   \n",
              "15                                                 []        CELL-LINE   \n",
              "16                                                 []        CELL-LINE   \n",
              "17                                                 []        CELL-LINE   \n",
              "18  [{'accession': 'Q9ULW0', 'component_descriptio...   SINGLE PROTEIN   \n",
              "19  [{'accession': 'Q53EU6', 'component_descriptio...   SINGLE PROTEIN   \n",
              "20  [{'accession': 'O14965', 'component_descriptio...  PROTEIN COMPLEX   \n",
              "21  [{'accession': 'P03923', 'component_descriptio...  PROTEIN COMPLEX   \n",
              "\n",
              "     tax_id  \n",
              "0    9986.0  \n",
              "1   10090.0  \n",
              "2   10116.0  \n",
              "3    9606.0  \n",
              "4    9606.0  \n",
              "5    9606.0  \n",
              "6    9606.0  \n",
              "7    9606.0  \n",
              "8    9606.0  \n",
              "9       NaN  \n",
              "10      NaN  \n",
              "11   9606.0  \n",
              "12   9606.0  \n",
              "13  10090.0  \n",
              "14      NaN  \n",
              "15   9606.0  \n",
              "16      NaN  \n",
              "17      NaN  \n",
              "18   9606.0  \n",
              "19   9606.0  \n",
              "20   9606.0  \n",
              "21   9606.0  "
            ],
            "text/html": [
              "\n",
              "  <div id=\"df-88299d39-758b-4e65-9256-e3eee2edcc3b\">\n",
              "    <div class=\"colab-df-container\">\n",
              "      <div>\n",
              "<style scoped>\n",
              "    .dataframe tbody tr th:only-of-type {\n",
              "        vertical-align: middle;\n",
              "    }\n",
              "\n",
              "    .dataframe tbody tr th {\n",
              "        vertical-align: top;\n",
              "    }\n",
              "\n",
              "    .dataframe thead th {\n",
              "        text-align: right;\n",
              "    }\n",
              "</style>\n",
              "<table border=\"1\" class=\"dataframe\">\n",
              "  <thead>\n",
              "    <tr style=\"text-align: right;\">\n",
              "      <th></th>\n",
              "      <th>cross_references</th>\n",
              "      <th>organism</th>\n",
              "      <th>pref_name</th>\n",
              "      <th>score</th>\n",
              "      <th>species_group_flag</th>\n",
              "      <th>target_chembl_id</th>\n",
              "      <th>target_components</th>\n",
              "      <th>target_type</th>\n",
              "      <th>tax_id</th>\n",
              "    </tr>\n",
              "  </thead>\n",
              "  <tbody>\n",
              "    <tr>\n",
              "      <th>0</th>\n",
              "      <td>[]</td>\n",
              "      <td>Oryctolagus cuniculus</td>\n",
              "      <td>Lung</td>\n",
              "      <td>8.0</td>\n",
              "      <td>False</td>\n",
              "      <td>CHEMBL613449</td>\n",
              "      <td>[]</td>\n",
              "      <td>TISSUE</td>\n",
              "      <td>9986.0</td>\n",
              "    </tr>\n",
              "    <tr>\n",
              "      <th>1</th>\n",
              "      <td>[]</td>\n",
              "      <td>Mus musculus</td>\n",
              "      <td>Lung</td>\n",
              "      <td>8.0</td>\n",
              "      <td>False</td>\n",
              "      <td>CHEMBL613581</td>\n",
              "      <td>[]</td>\n",
              "      <td>TISSUE</td>\n",
              "      <td>10090.0</td>\n",
              "    </tr>\n",
              "    <tr>\n",
              "      <th>2</th>\n",
              "      <td>[]</td>\n",
              "      <td>Rattus norvegicus</td>\n",
              "      <td>Lung</td>\n",
              "      <td>8.0</td>\n",
              "      <td>False</td>\n",
              "      <td>CHEMBL613643</td>\n",
              "      <td>[]</td>\n",
              "      <td>TISSUE</td>\n",
              "      <td>10116.0</td>\n",
              "    </tr>\n",
              "    <tr>\n",
              "      <th>3</th>\n",
              "      <td>[]</td>\n",
              "      <td>Homo sapiens</td>\n",
              "      <td>Acidic mammalian chitinase</td>\n",
              "      <td>7.0</td>\n",
              "      <td>False</td>\n",
              "      <td>CHEMBL1293197</td>\n",
              "      <td>[{'accession': 'Q9BZP6', 'component_descriptio...</td>\n",
              "      <td>SINGLE PROTEIN</td>\n",
              "      <td>9606.0</td>\n",
              "    </tr>\n",
              "    <tr>\n",
              "      <th>4</th>\n",
              "      <td>[]</td>\n",
              "      <td>Homo sapiens</td>\n",
              "      <td>Protein GPR107</td>\n",
              "      <td>7.0</td>\n",
              "      <td>False</td>\n",
              "      <td>CHEMBL4630835</td>\n",
              "      <td>[{'accession': 'Q5VW38', 'component_descriptio...</td>\n",
              "      <td>SINGLE PROTEIN</td>\n",
              "      <td>9606.0</td>\n",
              "    </tr>\n",
              "    <tr>\n",
              "      <th>5</th>\n",
              "      <td>[{'xref_id': 'P04075', 'xref_name': None, 'xre...</td>\n",
              "      <td>Homo sapiens</td>\n",
              "      <td>Fructose-bisphosphate aldolase A</td>\n",
              "      <td>6.0</td>\n",
              "      <td>False</td>\n",
              "      <td>CHEMBL2106</td>\n",
              "      <td>[{'accession': 'P04075', 'component_descriptio...</td>\n",
              "      <td>SINGLE PROTEIN</td>\n",
              "      <td>9606.0</td>\n",
              "    </tr>\n",
              "    <tr>\n",
              "      <th>6</th>\n",
              "      <td>[{'xref_id': 'Q12794', 'xref_name': None, 'xre...</td>\n",
              "      <td>Homo sapiens</td>\n",
              "      <td>Hyaluronidase-1</td>\n",
              "      <td>6.0</td>\n",
              "      <td>False</td>\n",
              "      <td>CHEMBL4528</td>\n",
              "      <td>[{'accession': 'Q12794', 'component_descriptio...</td>\n",
              "      <td>SINGLE PROTEIN</td>\n",
              "      <td>9606.0</td>\n",
              "    </tr>\n",
              "    <tr>\n",
              "      <th>7</th>\n",
              "      <td>[]</td>\n",
              "      <td>Homo sapiens</td>\n",
              "      <td>Pulmonary surfactant-associated protein D</td>\n",
              "      <td>6.0</td>\n",
              "      <td>False</td>\n",
              "      <td>CHEMBL2176857</td>\n",
              "      <td>[{'accession': 'P35247', 'component_descriptio...</td>\n",
              "      <td>SINGLE PROTEIN</td>\n",
              "      <td>9606.0</td>\n",
              "    </tr>\n",
              "    <tr>\n",
              "      <th>8</th>\n",
              "      <td>[]</td>\n",
              "      <td>Homo sapiens</td>\n",
              "      <td>Lung cancer cell line</td>\n",
              "      <td>5.0</td>\n",
              "      <td>False</td>\n",
              "      <td>CHEMBL614790</td>\n",
              "      <td>[]</td>\n",
              "      <td>CELL-LINE</td>\n",
              "      <td>9606.0</td>\n",
              "    </tr>\n",
              "    <tr>\n",
              "      <th>9</th>\n",
              "      <td>[]</td>\n",
              "      <td>None</td>\n",
              "      <td>Lung cancer cell line</td>\n",
              "      <td>5.0</td>\n",
              "      <td>False</td>\n",
              "      <td>CHEMBL614103</td>\n",
              "      <td>[]</td>\n",
              "      <td>CELL-LINE</td>\n",
              "      <td>NaN</td>\n",
              "    </tr>\n",
              "    <tr>\n",
              "      <th>10</th>\n",
              "      <td>[]</td>\n",
              "      <td>None</td>\n",
              "      <td>Lung carcinoma cell line</td>\n",
              "      <td>5.0</td>\n",
              "      <td>False</td>\n",
              "      <td>CHEMBL614105</td>\n",
              "      <td>[]</td>\n",
              "      <td>CELL-LINE</td>\n",
              "      <td>NaN</td>\n",
              "    </tr>\n",
              "    <tr>\n",
              "      <th>11</th>\n",
              "      <td>[]</td>\n",
              "      <td>Homo sapiens</td>\n",
              "      <td>tRNA-dihydrouridine(20) synthase [NAD(P)+]-like</td>\n",
              "      <td>5.0</td>\n",
              "      <td>False</td>\n",
              "      <td>CHEMBL3879825</td>\n",
              "      <td>[{'accession': 'Q9NX74', 'component_descriptio...</td>\n",
              "      <td>SINGLE PROTEIN</td>\n",
              "      <td>9606.0</td>\n",
              "    </tr>\n",
              "    <tr>\n",
              "      <th>12</th>\n",
              "      <td>[]</td>\n",
              "      <td>Homo sapiens</td>\n",
              "      <td>Lung LXF 629L tumor cell line</td>\n",
              "      <td>4.0</td>\n",
              "      <td>False</td>\n",
              "      <td>CHEMBL614689</td>\n",
              "      <td>[]</td>\n",
              "      <td>CELL-LINE</td>\n",
              "      <td>9606.0</td>\n",
              "    </tr>\n",
              "    <tr>\n",
              "      <th>13</th>\n",
              "      <td>[]</td>\n",
              "      <td>Mus musculus</td>\n",
              "      <td>Lewis lung carcinoma cell line</td>\n",
              "      <td>4.0</td>\n",
              "      <td>False</td>\n",
              "      <td>CHEMBL614088</td>\n",
              "      <td>[]</td>\n",
              "      <td>CELL-LINE</td>\n",
              "      <td>10090.0</td>\n",
              "    </tr>\n",
              "    <tr>\n",
              "      <th>14</th>\n",
              "      <td>[]</td>\n",
              "      <td>None</td>\n",
              "      <td>Lung cancer tumor cell line</td>\n",
              "      <td>4.0</td>\n",
              "      <td>False</td>\n",
              "      <td>CHEMBL614104</td>\n",
              "      <td>[]</td>\n",
              "      <td>CELL-LINE</td>\n",
              "      <td>NaN</td>\n",
              "    </tr>\n",
              "    <tr>\n",
              "      <th>15</th>\n",
              "      <td>[]</td>\n",
              "      <td>Homo sapiens</td>\n",
              "      <td>Lung NSCLC-N6 cell-line</td>\n",
              "      <td>4.0</td>\n",
              "      <td>False</td>\n",
              "      <td>CHEMBL614016</td>\n",
              "      <td>[]</td>\n",
              "      <td>CELL-LINE</td>\n",
              "      <td>9606.0</td>\n",
              "    </tr>\n",
              "    <tr>\n",
              "      <th>16</th>\n",
              "      <td>[]</td>\n",
              "      <td>None</td>\n",
              "      <td>Non-small cell lung cancer cell line</td>\n",
              "      <td>4.0</td>\n",
              "      <td>False</td>\n",
              "      <td>CHEMBL615002</td>\n",
              "      <td>[]</td>\n",
              "      <td>CELL-LINE</td>\n",
              "      <td>NaN</td>\n",
              "    </tr>\n",
              "    <tr>\n",
              "      <th>17</th>\n",
              "      <td>[]</td>\n",
              "      <td>None</td>\n",
              "      <td>Small cell lung cancer cell line</td>\n",
              "      <td>4.0</td>\n",
              "      <td>False</td>\n",
              "      <td>CHEMBL612561</td>\n",
              "      <td>[]</td>\n",
              "      <td>CELL-LINE</td>\n",
              "      <td>NaN</td>\n",
              "    </tr>\n",
              "    <tr>\n",
              "      <th>18</th>\n",
              "      <td>[{'xref_id': 'Q9ULW0', 'xref_name': None, 'xre...</td>\n",
              "      <td>Homo sapiens</td>\n",
              "      <td>Targeting protein for Xklp2</td>\n",
              "      <td>4.0</td>\n",
              "      <td>False</td>\n",
              "      <td>CHEMBL5389</td>\n",
              "      <td>[{'accession': 'Q9ULW0', 'component_descriptio...</td>\n",
              "      <td>SINGLE PROTEIN</td>\n",
              "      <td>9606.0</td>\n",
              "    </tr>\n",
              "    <tr>\n",
              "      <th>19</th>\n",
              "      <td>[]</td>\n",
              "      <td>Homo sapiens</td>\n",
              "      <td>Glycerol-3-phosphate acyltransferase 3</td>\n",
              "      <td>3.0</td>\n",
              "      <td>False</td>\n",
              "      <td>CHEMBL4523318</td>\n",
              "      <td>[{'accession': 'Q53EU6', 'component_descriptio...</td>\n",
              "      <td>SINGLE PROTEIN</td>\n",
              "      <td>9606.0</td>\n",
              "    </tr>\n",
              "    <tr>\n",
              "      <th>20</th>\n",
              "      <td>[]</td>\n",
              "      <td>Homo sapiens</td>\n",
              "      <td>Aurora kinase A/Targeting protein for Xklp2</td>\n",
              "      <td>2.0</td>\n",
              "      <td>False</td>\n",
              "      <td>CHEMBL3883304</td>\n",
              "      <td>[{'accession': 'O14965', 'component_descriptio...</td>\n",
              "      <td>PROTEIN COMPLEX</td>\n",
              "      <td>9606.0</td>\n",
              "    </tr>\n",
              "    <tr>\n",
              "      <th>21</th>\n",
              "      <td>[]</td>\n",
              "      <td>Homo sapiens</td>\n",
              "      <td>Mitochondrial complex I (NADH dehydrogenase)</td>\n",
              "      <td>0.0</td>\n",
              "      <td>False</td>\n",
              "      <td>CHEMBL2363065</td>\n",
              "      <td>[{'accession': 'P03923', 'component_descriptio...</td>\n",
              "      <td>PROTEIN COMPLEX</td>\n",
              "      <td>9606.0</td>\n",
              "    </tr>\n",
              "  </tbody>\n",
              "</table>\n",
              "</div>\n",
              "      <button class=\"colab-df-convert\" onclick=\"convertToInteractive('df-88299d39-758b-4e65-9256-e3eee2edcc3b')\"\n",
              "              title=\"Convert this dataframe to an interactive table.\"\n",
              "              style=\"display:none;\">\n",
              "        \n",
              "  <svg xmlns=\"http://www.w3.org/2000/svg\" height=\"24px\"viewBox=\"0 0 24 24\"\n",
              "       width=\"24px\">\n",
              "    <path d=\"M0 0h24v24H0V0z\" fill=\"none\"/>\n",
              "    <path d=\"M18.56 5.44l.94 2.06.94-2.06 2.06-.94-2.06-.94-.94-2.06-.94 2.06-2.06.94zm-11 1L8.5 8.5l.94-2.06 2.06-.94-2.06-.94L8.5 2.5l-.94 2.06-2.06.94zm10 10l.94 2.06.94-2.06 2.06-.94-2.06-.94-.94-2.06-.94 2.06-2.06.94z\"/><path d=\"M17.41 7.96l-1.37-1.37c-.4-.4-.92-.59-1.43-.59-.52 0-1.04.2-1.43.59L10.3 9.45l-7.72 7.72c-.78.78-.78 2.05 0 2.83L4 21.41c.39.39.9.59 1.41.59.51 0 1.02-.2 1.41-.59l7.78-7.78 2.81-2.81c.8-.78.8-2.07 0-2.86zM5.41 20L4 18.59l7.72-7.72 1.47 1.35L5.41 20z\"/>\n",
              "  </svg>\n",
              "      </button>\n",
              "      \n",
              "  <style>\n",
              "    .colab-df-container {\n",
              "      display:flex;\n",
              "      flex-wrap:wrap;\n",
              "      gap: 12px;\n",
              "    }\n",
              "\n",
              "    .colab-df-convert {\n",
              "      background-color: #E8F0FE;\n",
              "      border: none;\n",
              "      border-radius: 50%;\n",
              "      cursor: pointer;\n",
              "      display: none;\n",
              "      fill: #1967D2;\n",
              "      height: 32px;\n",
              "      padding: 0 0 0 0;\n",
              "      width: 32px;\n",
              "    }\n",
              "\n",
              "    .colab-df-convert:hover {\n",
              "      background-color: #E2EBFA;\n",
              "      box-shadow: 0px 1px 2px rgba(60, 64, 67, 0.3), 0px 1px 3px 1px rgba(60, 64, 67, 0.15);\n",
              "      fill: #174EA6;\n",
              "    }\n",
              "\n",
              "    [theme=dark] .colab-df-convert {\n",
              "      background-color: #3B4455;\n",
              "      fill: #D2E3FC;\n",
              "    }\n",
              "\n",
              "    [theme=dark] .colab-df-convert:hover {\n",
              "      background-color: #434B5C;\n",
              "      box-shadow: 0px 1px 3px 1px rgba(0, 0, 0, 0.15);\n",
              "      filter: drop-shadow(0px 1px 2px rgba(0, 0, 0, 0.3));\n",
              "      fill: #FFFFFF;\n",
              "    }\n",
              "  </style>\n",
              "\n",
              "      <script>\n",
              "        const buttonEl =\n",
              "          document.querySelector('#df-88299d39-758b-4e65-9256-e3eee2edcc3b button.colab-df-convert');\n",
              "        buttonEl.style.display =\n",
              "          google.colab.kernel.accessAllowed ? 'block' : 'none';\n",
              "\n",
              "        async function convertToInteractive(key) {\n",
              "          const element = document.querySelector('#df-88299d39-758b-4e65-9256-e3eee2edcc3b');\n",
              "          const dataTable =\n",
              "            await google.colab.kernel.invokeFunction('convertToInteractive',\n",
              "                                                     [key], {});\n",
              "          if (!dataTable) return;\n",
              "\n",
              "          const docLinkHtml = 'Like what you see? Visit the ' +\n",
              "            '<a target=\"_blank\" href=https://colab.research.google.com/notebooks/data_table.ipynb>data table notebook</a>'\n",
              "            + ' to learn more about interactive tables.';\n",
              "          element.innerHTML = '';\n",
              "          dataTable['output_type'] = 'display_data';\n",
              "          await google.colab.output.renderOutput(dataTable, element);\n",
              "          const docLink = document.createElement('div');\n",
              "          docLink.innerHTML = docLinkHtml;\n",
              "          element.appendChild(docLink);\n",
              "        }\n",
              "      </script>\n",
              "    </div>\n",
              "  </div>\n",
              "  "
            ]
          },
          "metadata": {},
          "execution_count": 4
        }
      ],
      "source": [
        "target_result"
      ]
    },
    {
      "cell_type": "code",
      "execution_count": 5,
      "metadata": {
        "id": "Th0_EaNCml_t"
      },
      "outputs": [],
      "source": [
        "# selected_target1 = target_result.target_chembl_id[3]\n",
        "selected_target1 = 'CHEMBL614088'"
      ]
    },
    {
      "cell_type": "code",
      "execution_count": 6,
      "metadata": {
        "id": "bBK0Rg1zm9x0"
      },
      "outputs": [],
      "source": [
        "activity1 = new_client.activity\n",
        "res = activity1.filter(target_chembl_id=selected_target1).filter(standard_type='IC50')\n",
        "df1 = pd.DataFrame.from_dict(res)"
      ]
    },
    {
      "cell_type": "code",
      "execution_count": 7,
      "metadata": {
        "colab": {
          "base_uri": "https://localhost:8080/",
          "height": 341
        },
        "id": "4Qjf8ZgInaIS",
        "outputId": "4f9ee79f-0724-42b8-900b-57449745223b"
      },
      "outputs": [
        {
          "output_type": "execute_result",
          "data": {
            "text/plain": [
              "  activity_comment  activity_id activity_properties assay_chembl_id  \\\n",
              "0             None       184585                  []    CHEMBL714170   \n",
              "1             None       184595                  []    CHEMBL714170   \n",
              "2             None       186124                  []    CHEMBL714170   \n",
              "\n",
              "                                   assay_description assay_type  \\\n",
              "0  Inhibitory activity against Murine Lewis lung ...          F   \n",
              "1  Inhibitory activity against Murine Lewis lung ...          F   \n",
              "2  Inhibitory activity against Murine Lewis lung ...          F   \n",
              "\n",
              "  assay_variant_accession assay_variant_mutation bao_endpoint   bao_format  \\\n",
              "0                    None                   None  BAO_0000190  BAO_0000219   \n",
              "1                    None                   None  BAO_0000190  BAO_0000219   \n",
              "2                    None                   None  BAO_0000190  BAO_0000219   \n",
              "\n",
              "   ... target_organism                target_pref_name target_tax_id  \\\n",
              "0  ...    Mus musculus  Lewis lung carcinoma cell line         10090   \n",
              "1  ...    Mus musculus  Lewis lung carcinoma cell line         10090   \n",
              "2  ...    Mus musculus  Lewis lung carcinoma cell line         10090   \n",
              "\n",
              "  text_value  toid  type  units    uo_units upper_value  value  \n",
              "0       None  None  IC50     nM  UO_0000065        None   12.0  \n",
              "1       None  None  IC50     nM  UO_0000065        None  151.0  \n",
              "2       None  None  IC50     nM  UO_0000065        None   44.0  \n",
              "\n",
              "[3 rows x 45 columns]"
            ],
            "text/html": [
              "\n",
              "  <div id=\"df-3850cc4e-ca4a-47c8-ae27-c7ea49778dbf\">\n",
              "    <div class=\"colab-df-container\">\n",
              "      <div>\n",
              "<style scoped>\n",
              "    .dataframe tbody tr th:only-of-type {\n",
              "        vertical-align: middle;\n",
              "    }\n",
              "\n",
              "    .dataframe tbody tr th {\n",
              "        vertical-align: top;\n",
              "    }\n",
              "\n",
              "    .dataframe thead th {\n",
              "        text-align: right;\n",
              "    }\n",
              "</style>\n",
              "<table border=\"1\" class=\"dataframe\">\n",
              "  <thead>\n",
              "    <tr style=\"text-align: right;\">\n",
              "      <th></th>\n",
              "      <th>activity_comment</th>\n",
              "      <th>activity_id</th>\n",
              "      <th>activity_properties</th>\n",
              "      <th>assay_chembl_id</th>\n",
              "      <th>assay_description</th>\n",
              "      <th>assay_type</th>\n",
              "      <th>assay_variant_accession</th>\n",
              "      <th>assay_variant_mutation</th>\n",
              "      <th>bao_endpoint</th>\n",
              "      <th>bao_format</th>\n",
              "      <th>...</th>\n",
              "      <th>target_organism</th>\n",
              "      <th>target_pref_name</th>\n",
              "      <th>target_tax_id</th>\n",
              "      <th>text_value</th>\n",
              "      <th>toid</th>\n",
              "      <th>type</th>\n",
              "      <th>units</th>\n",
              "      <th>uo_units</th>\n",
              "      <th>upper_value</th>\n",
              "      <th>value</th>\n",
              "    </tr>\n",
              "  </thead>\n",
              "  <tbody>\n",
              "    <tr>\n",
              "      <th>0</th>\n",
              "      <td>None</td>\n",
              "      <td>184585</td>\n",
              "      <td>[]</td>\n",
              "      <td>CHEMBL714170</td>\n",
              "      <td>Inhibitory activity against Murine Lewis lung ...</td>\n",
              "      <td>F</td>\n",
              "      <td>None</td>\n",
              "      <td>None</td>\n",
              "      <td>BAO_0000190</td>\n",
              "      <td>BAO_0000219</td>\n",
              "      <td>...</td>\n",
              "      <td>Mus musculus</td>\n",
              "      <td>Lewis lung carcinoma cell line</td>\n",
              "      <td>10090</td>\n",
              "      <td>None</td>\n",
              "      <td>None</td>\n",
              "      <td>IC50</td>\n",
              "      <td>nM</td>\n",
              "      <td>UO_0000065</td>\n",
              "      <td>None</td>\n",
              "      <td>12.0</td>\n",
              "    </tr>\n",
              "    <tr>\n",
              "      <th>1</th>\n",
              "      <td>None</td>\n",
              "      <td>184595</td>\n",
              "      <td>[]</td>\n",
              "      <td>CHEMBL714170</td>\n",
              "      <td>Inhibitory activity against Murine Lewis lung ...</td>\n",
              "      <td>F</td>\n",
              "      <td>None</td>\n",
              "      <td>None</td>\n",
              "      <td>BAO_0000190</td>\n",
              "      <td>BAO_0000219</td>\n",
              "      <td>...</td>\n",
              "      <td>Mus musculus</td>\n",
              "      <td>Lewis lung carcinoma cell line</td>\n",
              "      <td>10090</td>\n",
              "      <td>None</td>\n",
              "      <td>None</td>\n",
              "      <td>IC50</td>\n",
              "      <td>nM</td>\n",
              "      <td>UO_0000065</td>\n",
              "      <td>None</td>\n",
              "      <td>151.0</td>\n",
              "    </tr>\n",
              "    <tr>\n",
              "      <th>2</th>\n",
              "      <td>None</td>\n",
              "      <td>186124</td>\n",
              "      <td>[]</td>\n",
              "      <td>CHEMBL714170</td>\n",
              "      <td>Inhibitory activity against Murine Lewis lung ...</td>\n",
              "      <td>F</td>\n",
              "      <td>None</td>\n",
              "      <td>None</td>\n",
              "      <td>BAO_0000190</td>\n",
              "      <td>BAO_0000219</td>\n",
              "      <td>...</td>\n",
              "      <td>Mus musculus</td>\n",
              "      <td>Lewis lung carcinoma cell line</td>\n",
              "      <td>10090</td>\n",
              "      <td>None</td>\n",
              "      <td>None</td>\n",
              "      <td>IC50</td>\n",
              "      <td>nM</td>\n",
              "      <td>UO_0000065</td>\n",
              "      <td>None</td>\n",
              "      <td>44.0</td>\n",
              "    </tr>\n",
              "  </tbody>\n",
              "</table>\n",
              "<p>3 rows × 45 columns</p>\n",
              "</div>\n",
              "      <button class=\"colab-df-convert\" onclick=\"convertToInteractive('df-3850cc4e-ca4a-47c8-ae27-c7ea49778dbf')\"\n",
              "              title=\"Convert this dataframe to an interactive table.\"\n",
              "              style=\"display:none;\">\n",
              "        \n",
              "  <svg xmlns=\"http://www.w3.org/2000/svg\" height=\"24px\"viewBox=\"0 0 24 24\"\n",
              "       width=\"24px\">\n",
              "    <path d=\"M0 0h24v24H0V0z\" fill=\"none\"/>\n",
              "    <path d=\"M18.56 5.44l.94 2.06.94-2.06 2.06-.94-2.06-.94-.94-2.06-.94 2.06-2.06.94zm-11 1L8.5 8.5l.94-2.06 2.06-.94-2.06-.94L8.5 2.5l-.94 2.06-2.06.94zm10 10l.94 2.06.94-2.06 2.06-.94-2.06-.94-.94-2.06-.94 2.06-2.06.94z\"/><path d=\"M17.41 7.96l-1.37-1.37c-.4-.4-.92-.59-1.43-.59-.52 0-1.04.2-1.43.59L10.3 9.45l-7.72 7.72c-.78.78-.78 2.05 0 2.83L4 21.41c.39.39.9.59 1.41.59.51 0 1.02-.2 1.41-.59l7.78-7.78 2.81-2.81c.8-.78.8-2.07 0-2.86zM5.41 20L4 18.59l7.72-7.72 1.47 1.35L5.41 20z\"/>\n",
              "  </svg>\n",
              "      </button>\n",
              "      \n",
              "  <style>\n",
              "    .colab-df-container {\n",
              "      display:flex;\n",
              "      flex-wrap:wrap;\n",
              "      gap: 12px;\n",
              "    }\n",
              "\n",
              "    .colab-df-convert {\n",
              "      background-color: #E8F0FE;\n",
              "      border: none;\n",
              "      border-radius: 50%;\n",
              "      cursor: pointer;\n",
              "      display: none;\n",
              "      fill: #1967D2;\n",
              "      height: 32px;\n",
              "      padding: 0 0 0 0;\n",
              "      width: 32px;\n",
              "    }\n",
              "\n",
              "    .colab-df-convert:hover {\n",
              "      background-color: #E2EBFA;\n",
              "      box-shadow: 0px 1px 2px rgba(60, 64, 67, 0.3), 0px 1px 3px 1px rgba(60, 64, 67, 0.15);\n",
              "      fill: #174EA6;\n",
              "    }\n",
              "\n",
              "    [theme=dark] .colab-df-convert {\n",
              "      background-color: #3B4455;\n",
              "      fill: #D2E3FC;\n",
              "    }\n",
              "\n",
              "    [theme=dark] .colab-df-convert:hover {\n",
              "      background-color: #434B5C;\n",
              "      box-shadow: 0px 1px 3px 1px rgba(0, 0, 0, 0.15);\n",
              "      filter: drop-shadow(0px 1px 2px rgba(0, 0, 0, 0.3));\n",
              "      fill: #FFFFFF;\n",
              "    }\n",
              "  </style>\n",
              "\n",
              "      <script>\n",
              "        const buttonEl =\n",
              "          document.querySelector('#df-3850cc4e-ca4a-47c8-ae27-c7ea49778dbf button.colab-df-convert');\n",
              "        buttonEl.style.display =\n",
              "          google.colab.kernel.accessAllowed ? 'block' : 'none';\n",
              "\n",
              "        async function convertToInteractive(key) {\n",
              "          const element = document.querySelector('#df-3850cc4e-ca4a-47c8-ae27-c7ea49778dbf');\n",
              "          const dataTable =\n",
              "            await google.colab.kernel.invokeFunction('convertToInteractive',\n",
              "                                                     [key], {});\n",
              "          if (!dataTable) return;\n",
              "\n",
              "          const docLinkHtml = 'Like what you see? Visit the ' +\n",
              "            '<a target=\"_blank\" href=https://colab.research.google.com/notebooks/data_table.ipynb>data table notebook</a>'\n",
              "            + ' to learn more about interactive tables.';\n",
              "          element.innerHTML = '';\n",
              "          dataTable['output_type'] = 'display_data';\n",
              "          await google.colab.output.renderOutput(dataTable, element);\n",
              "          const docLink = document.createElement('div');\n",
              "          docLink.innerHTML = docLinkHtml;\n",
              "          element.appendChild(docLink);\n",
              "        }\n",
              "      </script>\n",
              "    </div>\n",
              "  </div>\n",
              "  "
            ]
          },
          "metadata": {},
          "execution_count": 7
        }
      ],
      "source": [
        "df1.head(3)"
      ]
    },
    {
      "cell_type": "markdown",
      "metadata": {
        "id": "DrATmarmCixN"
      },
      "source": [
        "### Only Selecting the required Columns"
      ]
    },
    {
      "cell_type": "code",
      "execution_count": 8,
      "metadata": {
        "id": "CLtBKBiPpHtI"
      },
      "outputs": [],
      "source": [
        "columns = ['canonical_smiles','molecule_chembl_id','standard_value']"
      ]
    },
    {
      "cell_type": "code",
      "execution_count": 9,
      "metadata": {
        "id": "PFeqBDQ1quLX"
      },
      "outputs": [],
      "source": [
        "df1_selected = df1[columns]"
      ]
    },
    {
      "cell_type": "code",
      "execution_count": 10,
      "metadata": {
        "colab": {
          "base_uri": "https://localhost:8080/"
        },
        "id": "80rkMAU2qzm_",
        "outputId": "637c2007-8eae-4705-8c4b-e9ba1189d56e"
      },
      "outputs": [
        {
          "output_type": "execute_result",
          "data": {
            "text/plain": [
              "334"
            ]
          },
          "metadata": {},
          "execution_count": 10
        }
      ],
      "source": [
        "len(df1_selected)"
      ]
    },
    {
      "cell_type": "markdown",
      "metadata": {
        "id": "dgnR3oetCpsd"
      },
      "source": [
        "### Fixing Missing Values\n",
        "* For that I am using mean() of the column `standard_value`\n",
        "* For values greater than `100000000` I am going to limit it to `100000000` so after converting to log value it will not show any negative value\n",
        "* Then we will finally apply to convert all `standard_value` to log of `standard_value` so it will fix high deviation and outliers(most of them atleast)"
      ]
    },
    {
      "cell_type": "code",
      "execution_count": 11,
      "metadata": {
        "colab": {
          "base_uri": "https://localhost:8080/"
        },
        "id": "9o9FsQYn_KXS",
        "outputId": "3539c9ee-07b4-4246-e2df-4be036c5e10b"
      },
      "outputs": [
        {
          "output_type": "execute_result",
          "data": {
            "text/plain": [
              "canonical_smiles      0\n",
              "molecule_chembl_id    0\n",
              "standard_value        1\n",
              "dtype: int64"
            ]
          },
          "metadata": {},
          "execution_count": 11
        }
      ],
      "source": [
        "df1_selected.isnull().sum()"
      ]
    },
    {
      "cell_type": "code",
      "execution_count": 12,
      "metadata": {
        "colab": {
          "base_uri": "https://localhost:8080/"
        },
        "id": "FGo6k6tUFHBl",
        "outputId": "198c0e55-21c9-4739-e008-cf5cf6f7f910"
      },
      "outputs": [
        {
          "output_type": "execute_result",
          "data": {
            "text/plain": [
              "dtype('O')"
            ]
          },
          "metadata": {},
          "execution_count": 12
        }
      ],
      "source": [
        "df1_selected['standard_value'].dtype"
      ]
    },
    {
      "cell_type": "code",
      "execution_count": 13,
      "metadata": {
        "colab": {
          "base_uri": "https://localhost:8080/"
        },
        "id": "WqXY73DcFNnG",
        "outputId": "b1d2953e-dc3f-4938-fa53-59a2c3ed403b"
      },
      "outputs": [
        {
          "output_type": "stream",
          "name": "stderr",
          "text": [
            "<ipython-input-13-3a9a20ee965c>:1: SettingWithCopyWarning: \n",
            "A value is trying to be set on a copy of a slice from a DataFrame.\n",
            "Try using .loc[row_indexer,col_indexer] = value instead\n",
            "\n",
            "See the caveats in the documentation: https://pandas.pydata.org/pandas-docs/stable/user_guide/indexing.html#returning-a-view-versus-a-copy\n",
            "  df1_selected['standard_value'] = df1_selected['standard_value'].astype(float)\n"
          ]
        }
      ],
      "source": [
        "df1_selected['standard_value'] = df1_selected['standard_value'].astype(float)"
      ]
    },
    {
      "cell_type": "code",
      "execution_count": 14,
      "metadata": {
        "colab": {
          "base_uri": "https://localhost:8080/"
        },
        "id": "Cz3skoIsGwnx",
        "outputId": "f8163dbc-b2f0-4b1c-9ec2-11bb8dc76994"
      },
      "outputs": [
        {
          "output_type": "execute_result",
          "data": {
            "text/plain": [
              "dtype('float64')"
            ]
          },
          "metadata": {},
          "execution_count": 14
        }
      ],
      "source": [
        "df1_selected['standard_value'].dtype"
      ]
    },
    {
      "cell_type": "code",
      "execution_count": 15,
      "metadata": {
        "colab": {
          "base_uri": "https://localhost:8080/"
        },
        "id": "6KWIIbNHGyUY",
        "outputId": "443e1db9-734f-4d04-cc75-bf0ba320a90e"
      },
      "outputs": [
        {
          "output_type": "execute_result",
          "data": {
            "text/plain": [
              "0     12.0\n",
              "1    151.0\n",
              "2     44.0\n",
              "Name: standard_value, dtype: float64"
            ]
          },
          "metadata": {},
          "execution_count": 15
        }
      ],
      "source": [
        "df1_selected['standard_value'].head(3)"
      ]
    },
    {
      "cell_type": "code",
      "execution_count": 16,
      "metadata": {
        "colab": {
          "base_uri": "https://localhost:8080/"
        },
        "id": "ikp-6_CYD__h",
        "outputId": "53505fa0-ddd9-4c48-d765-1e9d82f119ff"
      },
      "outputs": [
        {
          "output_type": "stream",
          "name": "stderr",
          "text": [
            "/usr/local/lib/python3.9/dist-packages/pandas/core/generic.py:6392: SettingWithCopyWarning: \n",
            "A value is trying to be set on a copy of a slice from a DataFrame\n",
            "\n",
            "See the caveats in the documentation: https://pandas.pydata.org/pandas-docs/stable/user_guide/indexing.html#returning-a-view-versus-a-copy\n",
            "  return self._update_inplace(result)\n"
          ]
        }
      ],
      "source": [
        "try:\n",
        "  df1_selected['standard_value'].fillna(df1_selected['standard_value'].mean(),inplace=True)\n",
        "except:\n",
        "  pass"
      ]
    },
    {
      "cell_type": "code",
      "execution_count": 17,
      "metadata": {
        "colab": {
          "base_uri": "https://localhost:8080/"
        },
        "id": "eNLa9BMlG7m-",
        "outputId": "67379ac8-9c17-4570-9f77-ecd0d85f3b29"
      },
      "outputs": [
        {
          "output_type": "execute_result",
          "data": {
            "text/plain": [
              "canonical_smiles      0\n",
              "molecule_chembl_id    0\n",
              "standard_value        0\n",
              "dtype: int64"
            ]
          },
          "metadata": {},
          "execution_count": 17
        }
      ],
      "source": [
        "df1_selected.isnull().sum()"
      ]
    },
    {
      "cell_type": "code",
      "source": [
        "if df1_selected['canonical_smiles'].isnull().sum() > 0:\n",
        "  df1_selected = df1_selected.dropna(axis=0)"
      ],
      "metadata": {
        "id": "w6OuSa28LXSb"
      },
      "execution_count": 18,
      "outputs": []
    },
    {
      "cell_type": "code",
      "execution_count": 19,
      "metadata": {
        "colab": {
          "base_uri": "https://localhost:8080/"
        },
        "id": "rmqo_ox6kNMl",
        "outputId": "c0326f86-0ac8-4b93-838c-9430724ebb58"
      },
      "outputs": [
        {
          "output_type": "execute_result",
          "data": {
            "text/plain": [
              "334"
            ]
          },
          "metadata": {},
          "execution_count": 19
        }
      ],
      "source": [
        "len(df1_selected)"
      ]
    },
    {
      "cell_type": "code",
      "execution_count": 20,
      "metadata": {
        "id": "oNCK36zHHHTl"
      },
      "outputs": [],
      "source": [
        "def norm_val(data):\n",
        "  for i in data['standard_value']:\n",
        "    if i > 100000000:\n",
        "      data['standard_value'] = data['standard_value'].replace(i,100000000)\n",
        "  return data['standard_value']"
      ]
    },
    {
      "cell_type": "code",
      "execution_count": 21,
      "metadata": {
        "id": "6lH8Rv9cHHQv"
      },
      "outputs": [],
      "source": [
        "def convert_log(data):\n",
        "  pIC50 = []\n",
        "  for i in data['standard_value']:\n",
        "    data['standard_value'] = data['standard_value'].replace(i,-np.log10(i*(10**-9)))\n",
        "  return data['standard_value']"
      ]
    },
    {
      "cell_type": "code",
      "execution_count": 22,
      "metadata": {
        "colab": {
          "base_uri": "https://localhost:8080/",
          "height": 300
        },
        "id": "jsxKZUxyRW3A",
        "outputId": "17e353a4-34c2-4a93-decb-5696dd8c0e37"
      },
      "outputs": [
        {
          "output_type": "execute_result",
          "data": {
            "text/plain": [
              "       standard_value\n",
              "count      334.000000\n",
              "mean     12535.759459\n",
              "std      49519.072064\n",
              "min          0.300000\n",
              "25%         32.250000\n",
              "50%       1476.500000\n",
              "75%       9389.500000\n",
              "max     810100.000000"
            ],
            "text/html": [
              "\n",
              "  <div id=\"df-b5f0363a-cf9e-4a2b-97aa-23c4cfda8ed8\">\n",
              "    <div class=\"colab-df-container\">\n",
              "      <div>\n",
              "<style scoped>\n",
              "    .dataframe tbody tr th:only-of-type {\n",
              "        vertical-align: middle;\n",
              "    }\n",
              "\n",
              "    .dataframe tbody tr th {\n",
              "        vertical-align: top;\n",
              "    }\n",
              "\n",
              "    .dataframe thead th {\n",
              "        text-align: right;\n",
              "    }\n",
              "</style>\n",
              "<table border=\"1\" class=\"dataframe\">\n",
              "  <thead>\n",
              "    <tr style=\"text-align: right;\">\n",
              "      <th></th>\n",
              "      <th>standard_value</th>\n",
              "    </tr>\n",
              "  </thead>\n",
              "  <tbody>\n",
              "    <tr>\n",
              "      <th>count</th>\n",
              "      <td>334.000000</td>\n",
              "    </tr>\n",
              "    <tr>\n",
              "      <th>mean</th>\n",
              "      <td>12535.759459</td>\n",
              "    </tr>\n",
              "    <tr>\n",
              "      <th>std</th>\n",
              "      <td>49519.072064</td>\n",
              "    </tr>\n",
              "    <tr>\n",
              "      <th>min</th>\n",
              "      <td>0.300000</td>\n",
              "    </tr>\n",
              "    <tr>\n",
              "      <th>25%</th>\n",
              "      <td>32.250000</td>\n",
              "    </tr>\n",
              "    <tr>\n",
              "      <th>50%</th>\n",
              "      <td>1476.500000</td>\n",
              "    </tr>\n",
              "    <tr>\n",
              "      <th>75%</th>\n",
              "      <td>9389.500000</td>\n",
              "    </tr>\n",
              "    <tr>\n",
              "      <th>max</th>\n",
              "      <td>810100.000000</td>\n",
              "    </tr>\n",
              "  </tbody>\n",
              "</table>\n",
              "</div>\n",
              "      <button class=\"colab-df-convert\" onclick=\"convertToInteractive('df-b5f0363a-cf9e-4a2b-97aa-23c4cfda8ed8')\"\n",
              "              title=\"Convert this dataframe to an interactive table.\"\n",
              "              style=\"display:none;\">\n",
              "        \n",
              "  <svg xmlns=\"http://www.w3.org/2000/svg\" height=\"24px\"viewBox=\"0 0 24 24\"\n",
              "       width=\"24px\">\n",
              "    <path d=\"M0 0h24v24H0V0z\" fill=\"none\"/>\n",
              "    <path d=\"M18.56 5.44l.94 2.06.94-2.06 2.06-.94-2.06-.94-.94-2.06-.94 2.06-2.06.94zm-11 1L8.5 8.5l.94-2.06 2.06-.94-2.06-.94L8.5 2.5l-.94 2.06-2.06.94zm10 10l.94 2.06.94-2.06 2.06-.94-2.06-.94-.94-2.06-.94 2.06-2.06.94z\"/><path d=\"M17.41 7.96l-1.37-1.37c-.4-.4-.92-.59-1.43-.59-.52 0-1.04.2-1.43.59L10.3 9.45l-7.72 7.72c-.78.78-.78 2.05 0 2.83L4 21.41c.39.39.9.59 1.41.59.51 0 1.02-.2 1.41-.59l7.78-7.78 2.81-2.81c.8-.78.8-2.07 0-2.86zM5.41 20L4 18.59l7.72-7.72 1.47 1.35L5.41 20z\"/>\n",
              "  </svg>\n",
              "      </button>\n",
              "      \n",
              "  <style>\n",
              "    .colab-df-container {\n",
              "      display:flex;\n",
              "      flex-wrap:wrap;\n",
              "      gap: 12px;\n",
              "    }\n",
              "\n",
              "    .colab-df-convert {\n",
              "      background-color: #E8F0FE;\n",
              "      border: none;\n",
              "      border-radius: 50%;\n",
              "      cursor: pointer;\n",
              "      display: none;\n",
              "      fill: #1967D2;\n",
              "      height: 32px;\n",
              "      padding: 0 0 0 0;\n",
              "      width: 32px;\n",
              "    }\n",
              "\n",
              "    .colab-df-convert:hover {\n",
              "      background-color: #E2EBFA;\n",
              "      box-shadow: 0px 1px 2px rgba(60, 64, 67, 0.3), 0px 1px 3px 1px rgba(60, 64, 67, 0.15);\n",
              "      fill: #174EA6;\n",
              "    }\n",
              "\n",
              "    [theme=dark] .colab-df-convert {\n",
              "      background-color: #3B4455;\n",
              "      fill: #D2E3FC;\n",
              "    }\n",
              "\n",
              "    [theme=dark] .colab-df-convert:hover {\n",
              "      background-color: #434B5C;\n",
              "      box-shadow: 0px 1px 3px 1px rgba(0, 0, 0, 0.15);\n",
              "      filter: drop-shadow(0px 1px 2px rgba(0, 0, 0, 0.3));\n",
              "      fill: #FFFFFF;\n",
              "    }\n",
              "  </style>\n",
              "\n",
              "      <script>\n",
              "        const buttonEl =\n",
              "          document.querySelector('#df-b5f0363a-cf9e-4a2b-97aa-23c4cfda8ed8 button.colab-df-convert');\n",
              "        buttonEl.style.display =\n",
              "          google.colab.kernel.accessAllowed ? 'block' : 'none';\n",
              "\n",
              "        async function convertToInteractive(key) {\n",
              "          const element = document.querySelector('#df-b5f0363a-cf9e-4a2b-97aa-23c4cfda8ed8');\n",
              "          const dataTable =\n",
              "            await google.colab.kernel.invokeFunction('convertToInteractive',\n",
              "                                                     [key], {});\n",
              "          if (!dataTable) return;\n",
              "\n",
              "          const docLinkHtml = 'Like what you see? Visit the ' +\n",
              "            '<a target=\"_blank\" href=https://colab.research.google.com/notebooks/data_table.ipynb>data table notebook</a>'\n",
              "            + ' to learn more about interactive tables.';\n",
              "          element.innerHTML = '';\n",
              "          dataTable['output_type'] = 'display_data';\n",
              "          await google.colab.output.renderOutput(dataTable, element);\n",
              "          const docLink = document.createElement('div');\n",
              "          docLink.innerHTML = docLinkHtml;\n",
              "          element.appendChild(docLink);\n",
              "        }\n",
              "      </script>\n",
              "    </div>\n",
              "  </div>\n",
              "  "
            ]
          },
          "metadata": {},
          "execution_count": 22
        }
      ],
      "source": [
        "df1_selected.describe()"
      ]
    },
    {
      "cell_type": "code",
      "execution_count": 23,
      "metadata": {
        "id": "LHWkqZ7xRXgV",
        "colab": {
          "base_uri": "https://localhost:8080/"
        },
        "outputId": "128fec5b-2ee8-49d8-9f51-20021f87c1fe"
      },
      "outputs": [
        {
          "output_type": "stream",
          "name": "stderr",
          "text": [
            "<ipython-input-23-1651fe78b754>:1: SettingWithCopyWarning: \n",
            "A value is trying to be set on a copy of a slice from a DataFrame.\n",
            "Try using .loc[row_indexer,col_indexer] = value instead\n",
            "\n",
            "See the caveats in the documentation: https://pandas.pydata.org/pandas-docs/stable/user_guide/indexing.html#returning-a-view-versus-a-copy\n",
            "  df1_selected['standard_value'] = norm_val(df1_selected)\n"
          ]
        }
      ],
      "source": [
        "df1_selected['standard_value'] = norm_val(df1_selected)"
      ]
    },
    {
      "cell_type": "code",
      "execution_count": 24,
      "metadata": {
        "id": "0l4eQ2d0RW5r",
        "colab": {
          "base_uri": "https://localhost:8080/"
        },
        "outputId": "1159db37-9c22-421b-f34f-991aa488f999"
      },
      "outputs": [
        {
          "output_type": "stream",
          "name": "stderr",
          "text": [
            "<ipython-input-21-31a96a23224e>:4: SettingWithCopyWarning: \n",
            "A value is trying to be set on a copy of a slice from a DataFrame.\n",
            "Try using .loc[row_indexer,col_indexer] = value instead\n",
            "\n",
            "See the caveats in the documentation: https://pandas.pydata.org/pandas-docs/stable/user_guide/indexing.html#returning-a-view-versus-a-copy\n",
            "  data['standard_value'] = data['standard_value'].replace(i,-np.log10(i*(10**-9)))\n",
            "<ipython-input-24-dc51576c3f0d>:1: SettingWithCopyWarning: \n",
            "A value is trying to be set on a copy of a slice from a DataFrame.\n",
            "Try using .loc[row_indexer,col_indexer] = value instead\n",
            "\n",
            "See the caveats in the documentation: https://pandas.pydata.org/pandas-docs/stable/user_guide/indexing.html#returning-a-view-versus-a-copy\n",
            "  df1_selected['standard_value'] = convert_log(df1_selected)\n"
          ]
        }
      ],
      "source": [
        "df1_selected['standard_value'] = convert_log(df1_selected)"
      ]
    },
    {
      "cell_type": "code",
      "execution_count": 25,
      "metadata": {
        "colab": {
          "base_uri": "https://localhost:8080/"
        },
        "id": "PhE3hhyaSWtK",
        "outputId": "f5c0a472-617c-4471-a033-0f03e4e4d384"
      },
      "outputs": [
        {
          "output_type": "execute_result",
          "data": {
            "text/plain": [
              "0    8.091974\n",
              "1    6.821023\n",
              "2    7.356547\n",
              "3    8.070844\n",
              "4    6.387216\n",
              "Name: standard_value, dtype: float64"
            ]
          },
          "metadata": {},
          "execution_count": 25
        }
      ],
      "source": [
        "df1_selected['standard_value'].head()"
      ]
    },
    {
      "cell_type": "code",
      "execution_count": 26,
      "metadata": {
        "colab": {
          "base_uri": "https://localhost:8080/"
        },
        "id": "kiJ3cXvQTPeO",
        "outputId": "89cc7468-b742-4f03-b311-bb247e2b3ff2"
      },
      "outputs": [
        {
          "output_type": "execute_result",
          "data": {
            "text/plain": [
              "canonical_smiles      0\n",
              "molecule_chembl_id    0\n",
              "standard_value        0\n",
              "dtype: int64"
            ]
          },
          "metadata": {},
          "execution_count": 26
        }
      ],
      "source": [
        "df1_selected.isnull().sum()"
      ]
    },
    {
      "cell_type": "code",
      "execution_count": 27,
      "metadata": {
        "id": "HEca_Uxkkg5M",
        "colab": {
          "base_uri": "https://localhost:8080/"
        },
        "outputId": "bce3fcb5-77f3-4dc3-da48-239444b5e8d3"
      },
      "outputs": [
        {
          "output_type": "stream",
          "name": "stderr",
          "text": [
            "/usr/local/lib/python3.9/dist-packages/pandas/core/frame.py:5238: SettingWithCopyWarning: \n",
            "A value is trying to be set on a copy of a slice from a DataFrame\n",
            "\n",
            "See the caveats in the documentation: https://pandas.pydata.org/pandas-docs/stable/user_guide/indexing.html#returning-a-view-versus-a-copy\n",
            "  return super().replace(\n",
            "/usr/local/lib/python3.9/dist-packages/pandas/core/generic.py:6392: SettingWithCopyWarning: \n",
            "A value is trying to be set on a copy of a slice from a DataFrame\n",
            "\n",
            "See the caveats in the documentation: https://pandas.pydata.org/pandas-docs/stable/user_guide/indexing.html#returning-a-view-versus-a-copy\n",
            "  return self._update_inplace(result)\n"
          ]
        }
      ],
      "source": [
        "try:\n",
        "  df1_selected.replace([np.inf, -np.inf], np.nan, inplace=True)\n",
        "  df1_selected['standard_value'].fillna(df1_selected['standard_value'].mean(),inplace=True)\n",
        "except:\n",
        "  pass"
      ]
    },
    {
      "cell_type": "markdown",
      "metadata": {
        "id": "YNL0IyQJTh95"
      },
      "source": [
        "### Creating labels and features"
      ]
    },
    {
      "cell_type": "code",
      "execution_count": 28,
      "metadata": {
        "id": "j_oJwzK5q-zR"
      },
      "outputs": [],
      "source": [
        "df1_x = df1_selected.drop(columns=['standard_value'],axis=1)\n",
        "df1_y = df1_selected['standard_value']"
      ]
    },
    {
      "cell_type": "code",
      "execution_count": 29,
      "metadata": {
        "colab": {
          "base_uri": "https://localhost:8080/"
        },
        "id": "Y0Ppqidir2Ep",
        "outputId": "ac3c8fdd-d717-4e60-ea89-99a784280018"
      },
      "outputs": [
        {
          "output_type": "execute_result",
          "data": {
            "text/plain": [
              "(334, 334)"
            ]
          },
          "metadata": {},
          "execution_count": 29
        }
      ],
      "source": [
        "len(df1_x),len(df1_y)"
      ]
    },
    {
      "cell_type": "code",
      "execution_count": 30,
      "metadata": {
        "id": "kEWmxdkLr5Eq"
      },
      "outputs": [],
      "source": [
        "df1_x.to_csv('molecule.smi', sep='\\t', index=False, header=False)\n",
        "df1_y.to_csv('lungs_labels.csv',index=False)"
      ]
    },
    {
      "cell_type": "markdown",
      "metadata": {
        "id": "rgzVpVFwUBOc"
      },
      "source": [
        "### A quick look at files"
      ]
    },
    {
      "cell_type": "code",
      "execution_count": 31,
      "metadata": {
        "colab": {
          "base_uri": "https://localhost:8080/"
        },
        "id": "lI8wYt4tTzGo",
        "outputId": "d287667f-1642-4a0f-d0f3-3626ca84a083"
      },
      "outputs": [
        {
          "output_type": "stream",
          "name": "stdout",
          "text": [
            "lungs_labels.csv  molecule.smi\tsample_data\n"
          ]
        }
      ],
      "source": [
        "! ls"
      ]
    },
    {
      "cell_type": "code",
      "execution_count": 32,
      "metadata": {
        "colab": {
          "base_uri": "https://localhost:8080/"
        },
        "id": "8KoTNDIYT2hq",
        "outputId": "754e970c-edf8-4a3f-ca07-c7044b9bc307"
      },
      "outputs": [
        {
          "output_type": "stream",
          "name": "stdout",
          "text": [
            "CN(CCCNC(=O)c1cc(Cl)cc2nc3ccccc3nc12)CCCNC(=O)c1cc(Cl)cc2nc3ccccc3nc12\tCHEMBL29453\n",
            "CN(CCCNC(=O)c1cccc2nc3c(Cl)cccc3nc12)CCCNC(=O)c1cccc2nc3c(Cl)cccc3nc12\tCHEMBL30189\n",
            "CN(CCCNC(=O)c1cccc2nc3ccc(Cl)cc3nc12)CCCNC(=O)c1cccc2nc3ccc(Cl)cc3nc12\tCHEMBL26582\n",
            "CN(CCCNC(=O)c1cccc2nc3ccc4ccccc4c3nc12)CCCNC(=O)c1cccc2nc3ccc4ccccc4c3nc12\tCHEMBL265239\n",
            "CN(CCCNC(=O)c1cccc2nc3c(ccc4ccccc43)nc12)CCCNC(=O)c1cccc2nc3c(ccc4ccccc43)nc12\tCHEMBL30072\n"
          ]
        }
      ],
      "source": [
        "! cat molecule.smi | head -5"
      ]
    },
    {
      "cell_type": "markdown",
      "metadata": {
        "id": "YX13O8GaUFvl"
      },
      "source": [
        "### Using padel Descriptor to break it into dataset form"
      ]
    },
    {
      "cell_type": "code",
      "execution_count": 33,
      "metadata": {
        "colab": {
          "base_uri": "https://localhost:8080/"
        },
        "id": "imDEI2vhUgGt",
        "outputId": "a9a50f73-3f36-4be0-c295-d6117cf1a27c"
      },
      "outputs": [
        {
          "output_type": "stream",
          "name": "stdout",
          "text": [
            "--2023-03-10 12:43:55--  https://github.com/dataprofessor/bioinformatics/raw/master/padel.zip\n",
            "Resolving github.com (github.com)... 140.82.114.3\n",
            "Connecting to github.com (github.com)|140.82.114.3|:443... connected.\n",
            "HTTP request sent, awaiting response... 302 Found\n",
            "Location: https://raw.githubusercontent.com/dataprofessor/bioinformatics/master/padel.zip [following]\n",
            "--2023-03-10 12:43:55--  https://raw.githubusercontent.com/dataprofessor/bioinformatics/master/padel.zip\n",
            "Resolving raw.githubusercontent.com (raw.githubusercontent.com)... 185.199.109.133, 185.199.108.133, 185.199.111.133, ...\n",
            "Connecting to raw.githubusercontent.com (raw.githubusercontent.com)|185.199.109.133|:443... connected.\n",
            "HTTP request sent, awaiting response... 200 OK\n",
            "Length: 25768637 (25M) [application/zip]\n",
            "Saving to: ‘padel.zip’\n",
            "\n",
            "padel.zip           100%[===================>]  24.57M   143MB/s    in 0.2s    \n",
            "\n",
            "2023-03-10 12:43:56 (143 MB/s) - ‘padel.zip’ saved [25768637/25768637]\n",
            "\n",
            "--2023-03-10 12:43:56--  https://github.com/dataprofessor/bioinformatics/raw/master/padel.sh\n",
            "Resolving github.com (github.com)... 140.82.114.3\n",
            "Connecting to github.com (github.com)|140.82.114.3|:443... connected.\n",
            "HTTP request sent, awaiting response... 302 Found\n",
            "Location: https://raw.githubusercontent.com/dataprofessor/bioinformatics/master/padel.sh [following]\n",
            "--2023-03-10 12:43:56--  https://raw.githubusercontent.com/dataprofessor/bioinformatics/master/padel.sh\n",
            "Resolving raw.githubusercontent.com (raw.githubusercontent.com)... 185.199.108.133, 185.199.109.133, 185.199.110.133, ...\n",
            "Connecting to raw.githubusercontent.com (raw.githubusercontent.com)|185.199.108.133|:443... connected.\n",
            "HTTP request sent, awaiting response... 200 OK\n",
            "Length: 231 [text/plain]\n",
            "Saving to: ‘padel.sh’\n",
            "\n",
            "padel.sh            100%[===================>]     231  --.-KB/s    in 0s      \n",
            "\n",
            "2023-03-10 12:43:56 (9.34 MB/s) - ‘padel.sh’ saved [231/231]\n",
            "\n"
          ]
        }
      ],
      "source": [
        "\n",
        "! wget https://github.com/dataprofessor/bioinformatics/raw/master/padel.zip\n",
        "! wget https://github.com/dataprofessor/bioinformatics/raw/master/padel.sh"
      ]
    },
    {
      "cell_type": "code",
      "execution_count": 34,
      "metadata": {
        "colab": {
          "base_uri": "https://localhost:8080/"
        },
        "id": "ZXCzERzIUhQ_",
        "outputId": "ad51508f-b2af-4b36-fde7-96d83a57320e"
      },
      "outputs": [
        {
          "output_type": "stream",
          "name": "stdout",
          "text": [
            "Archive:  padel.zip\n",
            "   creating: PaDEL-Descriptor/\n",
            "  inflating: __MACOSX/._PaDEL-Descriptor  \n",
            "  inflating: PaDEL-Descriptor/MACCSFingerprinter.xml  \n",
            "  inflating: __MACOSX/PaDEL-Descriptor/._MACCSFingerprinter.xml  \n",
            "  inflating: PaDEL-Descriptor/AtomPairs2DFingerprinter.xml  \n",
            "  inflating: __MACOSX/PaDEL-Descriptor/._AtomPairs2DFingerprinter.xml  \n",
            "  inflating: PaDEL-Descriptor/EStateFingerprinter.xml  \n",
            "  inflating: __MACOSX/PaDEL-Descriptor/._EStateFingerprinter.xml  \n",
            "  inflating: PaDEL-Descriptor/Fingerprinter.xml  \n",
            "  inflating: __MACOSX/PaDEL-Descriptor/._Fingerprinter.xml  \n",
            "  inflating: PaDEL-Descriptor/.DS_Store  \n",
            "  inflating: __MACOSX/PaDEL-Descriptor/._.DS_Store  \n",
            "   creating: PaDEL-Descriptor/license/\n",
            "  inflating: __MACOSX/PaDEL-Descriptor/._license  \n",
            "  inflating: PaDEL-Descriptor/KlekotaRothFingerprintCount.xml  \n",
            "  inflating: __MACOSX/PaDEL-Descriptor/._KlekotaRothFingerprintCount.xml  \n",
            "  inflating: PaDEL-Descriptor/config  \n",
            "  inflating: __MACOSX/PaDEL-Descriptor/._config  \n",
            "  inflating: PaDEL-Descriptor/PubchemFingerprinter.xml  \n",
            "  inflating: __MACOSX/PaDEL-Descriptor/._PubchemFingerprinter.xml  \n",
            "  inflating: PaDEL-Descriptor/ExtendedFingerprinter.xml  \n",
            "  inflating: __MACOSX/PaDEL-Descriptor/._ExtendedFingerprinter.xml  \n",
            "  inflating: PaDEL-Descriptor/KlekotaRothFingerprinter.xml  \n",
            "  inflating: __MACOSX/PaDEL-Descriptor/._KlekotaRothFingerprinter.xml  \n",
            "  inflating: PaDEL-Descriptor/GraphOnlyFingerprinter.xml  \n",
            "  inflating: __MACOSX/PaDEL-Descriptor/._GraphOnlyFingerprinter.xml  \n",
            "  inflating: PaDEL-Descriptor/SubstructureFingerprinter.xml  \n",
            "  inflating: __MACOSX/PaDEL-Descriptor/._SubstructureFingerprinter.xml  \n",
            "  inflating: PaDEL-Descriptor/Descriptors.xls  \n",
            "  inflating: __MACOSX/PaDEL-Descriptor/._Descriptors.xls  \n",
            "   creating: PaDEL-Descriptor/lib/\n",
            "  inflating: __MACOSX/PaDEL-Descriptor/._lib  \n",
            "  inflating: PaDEL-Descriptor/PaDEL-Descriptor.jar  \n",
            "  inflating: __MACOSX/PaDEL-Descriptor/._PaDEL-Descriptor.jar  \n",
            "  inflating: PaDEL-Descriptor/SubstructureFingerprintCount.xml  \n",
            "  inflating: __MACOSX/PaDEL-Descriptor/._SubstructureFingerprintCount.xml  \n",
            "  inflating: PaDEL-Descriptor/AtomPairs2DFingerprintCount.xml  \n",
            "  inflating: __MACOSX/PaDEL-Descriptor/._AtomPairs2DFingerprintCount.xml  \n",
            "  inflating: PaDEL-Descriptor/descriptors.xml  \n",
            "  inflating: __MACOSX/PaDEL-Descriptor/._descriptors.xml  \n",
            "  inflating: PaDEL-Descriptor/license/lgpl-2.1.txt  \n",
            "  inflating: __MACOSX/PaDEL-Descriptor/license/._lgpl-2.1.txt  \n",
            "  inflating: PaDEL-Descriptor/license/LICENSE.txt  \n",
            "  inflating: __MACOSX/PaDEL-Descriptor/license/._LICENSE.txt  \n",
            "  inflating: PaDEL-Descriptor/license/README - CDK  \n",
            "  inflating: __MACOSX/PaDEL-Descriptor/license/._README - CDK  \n",
            "  inflating: PaDEL-Descriptor/license/lgpl.license  \n",
            "  inflating: __MACOSX/PaDEL-Descriptor/license/._lgpl.license  \n",
            "  inflating: PaDEL-Descriptor/lib/ambit2-core-2.4.7-SNAPSHOT(3).jar  \n",
            "  inflating: __MACOSX/PaDEL-Descriptor/lib/._ambit2-core-2.4.7-SNAPSHOT(3).jar  \n",
            "  inflating: PaDEL-Descriptor/lib/libPaDEL-Jobs(6).jar  \n",
            "  inflating: __MACOSX/PaDEL-Descriptor/lib/._libPaDEL-Jobs(6).jar  \n",
            "  inflating: PaDEL-Descriptor/lib/libPaDEL.jar  \n",
            "  inflating: __MACOSX/PaDEL-Descriptor/lib/._libPaDEL.jar  \n",
            "  inflating: PaDEL-Descriptor/lib/jgrapht-0.6.0(4).jar  \n",
            "  inflating: __MACOSX/PaDEL-Descriptor/lib/._jgrapht-0.6.0(4).jar  \n",
            "  inflating: PaDEL-Descriptor/lib/commons-cli-1.2(2).jar  \n",
            "  inflating: __MACOSX/PaDEL-Descriptor/lib/._commons-cli-1.2(2).jar  \n",
            "  inflating: PaDEL-Descriptor/lib/xom-1.1(1).jar  \n",
            "  inflating: __MACOSX/PaDEL-Descriptor/lib/._xom-1.1(1).jar  \n",
            "  inflating: PaDEL-Descriptor/lib/swing-worker-1.1.jar  \n",
            "  inflating: __MACOSX/PaDEL-Descriptor/lib/._swing-worker-1.1.jar  \n",
            "  inflating: PaDEL-Descriptor/lib/commons-cli-1.2(3).jar  \n",
            "  inflating: __MACOSX/PaDEL-Descriptor/lib/._commons-cli-1.2(3).jar  \n",
            "  inflating: PaDEL-Descriptor/lib/jgrapht-0.6.0(5).jar  \n",
            "  inflating: __MACOSX/PaDEL-Descriptor/lib/._jgrapht-0.6.0(5).jar  \n",
            "  inflating: PaDEL-Descriptor/lib/jama(1).jar  \n",
            "  inflating: __MACOSX/PaDEL-Descriptor/lib/._jama(1).jar  \n",
            "  inflating: PaDEL-Descriptor/lib/appframework-1.0.3.jar  \n",
            "  inflating: __MACOSX/PaDEL-Descriptor/lib/._appframework-1.0.3.jar  \n",
            "  inflating: PaDEL-Descriptor/lib/libPaDEL-Jobs(7).jar  \n",
            "  inflating: __MACOSX/PaDEL-Descriptor/lib/._libPaDEL-Jobs(7).jar  \n",
            "  inflating: PaDEL-Descriptor/lib/vecmath1.2-1.14.jar  \n",
            "  inflating: __MACOSX/PaDEL-Descriptor/lib/._vecmath1.2-1.14.jar  \n",
            "  inflating: PaDEL-Descriptor/lib/ambit2-smarts-2.4.7-SNAPSHOT(6).jar  \n",
            "  inflating: __MACOSX/PaDEL-Descriptor/lib/._ambit2-smarts-2.4.7-SNAPSHOT(6).jar  \n",
            "  inflating: PaDEL-Descriptor/lib/ambit2-core-2.4.7-SNAPSHOT(2).jar  \n",
            "  inflating: __MACOSX/PaDEL-Descriptor/lib/._ambit2-core-2.4.7-SNAPSHOT(2).jar  \n",
            "  inflating: PaDEL-Descriptor/lib/jama(6).jar  \n",
            "  inflating: __MACOSX/PaDEL-Descriptor/lib/._jama(6).jar  \n",
            "  inflating: PaDEL-Descriptor/lib/jgrapht-0.6.0(2).jar  \n",
            "  inflating: __MACOSX/PaDEL-Descriptor/lib/._jgrapht-0.6.0(2).jar  \n",
            "  inflating: PaDEL-Descriptor/lib/libPaDEL-Descriptor(3).jar  \n",
            "  inflating: __MACOSX/PaDEL-Descriptor/lib/._libPaDEL-Descriptor(3).jar  \n",
            "  inflating: PaDEL-Descriptor/lib/commons-cli-1.2(4).jar  \n",
            "  inflating: __MACOSX/PaDEL-Descriptor/lib/._commons-cli-1.2(4).jar  \n",
            "  inflating: PaDEL-Descriptor/lib/ambit2-base-2.4.7-SNAPSHOT.jar  \n",
            "  inflating: __MACOSX/PaDEL-Descriptor/lib/._ambit2-base-2.4.7-SNAPSHOT.jar  \n",
            "  inflating: PaDEL-Descriptor/lib/ambit2-smarts-2.4.7-SNAPSHOT(1).jar  \n",
            "  inflating: __MACOSX/PaDEL-Descriptor/lib/._ambit2-smarts-2.4.7-SNAPSHOT(1).jar  \n",
            "  inflating: PaDEL-Descriptor/lib/commons-cli-1.2.jar  \n",
            "  inflating: __MACOSX/PaDEL-Descriptor/lib/._commons-cli-1.2.jar  \n",
            "  inflating: PaDEL-Descriptor/lib/commons-cli-1.2(8).jar  \n",
            "  inflating: __MACOSX/PaDEL-Descriptor/lib/._commons-cli-1.2(8).jar  \n",
            "  inflating: PaDEL-Descriptor/lib/jgrapht-0.6.0.jar  \n",
            "  inflating: __MACOSX/PaDEL-Descriptor/lib/._jgrapht-0.6.0.jar  \n",
            "  inflating: PaDEL-Descriptor/lib/libPaDEL-Jobs(1).jar  \n",
            "  inflating: __MACOSX/PaDEL-Descriptor/lib/._libPaDEL-Jobs(1).jar  \n",
            "  inflating: PaDEL-Descriptor/lib/libPaDEL-Jobs.jar  \n",
            "  inflating: __MACOSX/PaDEL-Descriptor/lib/._libPaDEL-Jobs.jar  \n",
            "  inflating: PaDEL-Descriptor/lib/ambit2-core-2.4.7-SNAPSHOT(4).jar  \n",
            "  inflating: __MACOSX/PaDEL-Descriptor/lib/._ambit2-core-2.4.7-SNAPSHOT(4).jar  \n",
            "  inflating: PaDEL-Descriptor/lib/xom-1.1.jar  \n",
            "  inflating: __MACOSX/PaDEL-Descriptor/lib/._xom-1.1.jar  \n",
            "  inflating: PaDEL-Descriptor/lib/commons-cli-1.2(5).jar  \n",
            "  inflating: __MACOSX/PaDEL-Descriptor/lib/._commons-cli-1.2(5).jar  \n",
            "  inflating: PaDEL-Descriptor/lib/libPaDEL-Descriptor(2).jar  \n",
            "  inflating: __MACOSX/PaDEL-Descriptor/lib/._libPaDEL-Descriptor(2).jar  \n",
            "  inflating: PaDEL-Descriptor/lib/jgrapht-0.6.0(3).jar  \n",
            "  inflating: __MACOSX/PaDEL-Descriptor/lib/._jgrapht-0.6.0(3).jar  \n",
            "  inflating: PaDEL-Descriptor/lib/jama(7).jar  \n",
            "  inflating: __MACOSX/PaDEL-Descriptor/lib/._jama(7).jar  \n",
            "  inflating: PaDEL-Descriptor/lib/ambit2-core-2.4.7-SNAPSHOT.jar  \n",
            "  inflating: __MACOSX/PaDEL-Descriptor/lib/._ambit2-core-2.4.7-SNAPSHOT.jar  \n",
            "  inflating: PaDEL-Descriptor/lib/commons-cli-1.2(6).jar  \n",
            "  inflating: __MACOSX/PaDEL-Descriptor/lib/._commons-cli-1.2(6).jar  \n",
            "  inflating: PaDEL-Descriptor/lib/libPaDEL-Descriptor(1).jar  \n",
            "  inflating: __MACOSX/PaDEL-Descriptor/lib/._libPaDEL-Descriptor(1).jar  \n",
            "  inflating: PaDEL-Descriptor/lib/jama(4).jar  \n",
            "  inflating: __MACOSX/PaDEL-Descriptor/lib/._jama(4).jar  \n",
            "  inflating: PaDEL-Descriptor/lib/libPaDEL-Jobs(2).jar  \n",
            "  inflating: __MACOSX/PaDEL-Descriptor/lib/._libPaDEL-Jobs(2).jar  \n",
            "  inflating: PaDEL-Descriptor/lib/ambit2-smarts-2.4.7-SNAPSHOT(3).jar  \n",
            "  inflating: __MACOSX/PaDEL-Descriptor/lib/._ambit2-smarts-2.4.7-SNAPSHOT(3).jar  \n",
            "  inflating: PaDEL-Descriptor/lib/ambit2-smarts-2.4.7-SNAPSHOT(2).jar  \n",
            "  inflating: __MACOSX/PaDEL-Descriptor/lib/._ambit2-smarts-2.4.7-SNAPSHOT(2).jar  \n",
            "  inflating: PaDEL-Descriptor/lib/ambit2-smarts-2.4.7-SNAPSHOT.jar  \n",
            "  inflating: __MACOSX/PaDEL-Descriptor/lib/._ambit2-smarts-2.4.7-SNAPSHOT.jar  \n",
            "  inflating: PaDEL-Descriptor/lib/libPaDEL-Jobs(3).jar  \n",
            "  inflating: __MACOSX/PaDEL-Descriptor/lib/._libPaDEL-Jobs(3).jar  \n",
            "  inflating: PaDEL-Descriptor/lib/l2fprod-common-all(1).jar  \n",
            "  inflating: __MACOSX/PaDEL-Descriptor/lib/._l2fprod-common-all(1).jar  \n",
            "  inflating: PaDEL-Descriptor/lib/jama.jar  \n",
            "  inflating: __MACOSX/PaDEL-Descriptor/lib/._jama.jar  \n",
            "  inflating: PaDEL-Descriptor/lib/l2fprod-common-all.jar  \n",
            "  inflating: __MACOSX/PaDEL-Descriptor/lib/._l2fprod-common-all.jar  \n",
            "  inflating: PaDEL-Descriptor/lib/jama(5).jar  \n",
            "  inflating: __MACOSX/PaDEL-Descriptor/lib/._jama(5).jar  \n",
            "  inflating: PaDEL-Descriptor/lib/jgrapht-0.6.0(1).jar  \n",
            "  inflating: __MACOSX/PaDEL-Descriptor/lib/._jgrapht-0.6.0(1).jar  \n",
            "  inflating: PaDEL-Descriptor/lib/commons-cli-1.2(7).jar  \n",
            "  inflating: __MACOSX/PaDEL-Descriptor/lib/._commons-cli-1.2(7).jar  \n",
            "  inflating: PaDEL-Descriptor/lib/libPaDEL-Descriptor.jar  \n",
            "  inflating: __MACOSX/PaDEL-Descriptor/lib/._libPaDEL-Descriptor.jar  \n",
            "  inflating: PaDEL-Descriptor/lib/libPaDEL-Jobs(4).jar  \n",
            "  inflating: __MACOSX/PaDEL-Descriptor/lib/._libPaDEL-Jobs(4).jar  \n",
            "  inflating: PaDEL-Descriptor/lib/cdk-1.4.15.jar  \n",
            "  inflating: __MACOSX/PaDEL-Descriptor/lib/._cdk-1.4.15.jar  \n",
            "  inflating: PaDEL-Descriptor/lib/ambit2-smarts-2.4.7-SNAPSHOT(5).jar  \n",
            "  inflating: __MACOSX/PaDEL-Descriptor/lib/._ambit2-smarts-2.4.7-SNAPSHOT(5).jar  \n",
            "  inflating: PaDEL-Descriptor/lib/ambit2-core-2.4.7-SNAPSHOT(1).jar  \n",
            "  inflating: __MACOSX/PaDEL-Descriptor/lib/._ambit2-core-2.4.7-SNAPSHOT(1).jar  \n",
            "  inflating: PaDEL-Descriptor/lib/libPaDEL-Jobs(8).jar  \n",
            "  inflating: __MACOSX/PaDEL-Descriptor/lib/._libPaDEL-Jobs(8).jar  \n",
            "  inflating: PaDEL-Descriptor/lib/jgrapht-0.6.0(6).jar  \n",
            "  inflating: __MACOSX/PaDEL-Descriptor/lib/._jgrapht-0.6.0(6).jar  \n",
            "  inflating: PaDEL-Descriptor/lib/jama(2).jar  \n",
            "  inflating: __MACOSX/PaDEL-Descriptor/lib/._jama(2).jar  \n",
            "  inflating: PaDEL-Descriptor/lib/jama(3).jar  \n",
            "  inflating: __MACOSX/PaDEL-Descriptor/lib/._jama(3).jar  \n",
            "  inflating: PaDEL-Descriptor/lib/commons-cli-1.2(1).jar  \n",
            "  inflating: __MACOSX/PaDEL-Descriptor/lib/._commons-cli-1.2(1).jar  \n",
            "  inflating: PaDEL-Descriptor/lib/guava-17.0.jar  \n",
            "  inflating: __MACOSX/PaDEL-Descriptor/lib/._guava-17.0.jar  \n",
            "  inflating: PaDEL-Descriptor/lib/ambit2-smarts-2.4.7-SNAPSHOT(4).jar  \n",
            "  inflating: __MACOSX/PaDEL-Descriptor/lib/._ambit2-smarts-2.4.7-SNAPSHOT(4).jar  \n",
            "  inflating: PaDEL-Descriptor/lib/libPaDEL-Jobs(5).jar  \n",
            "  inflating: __MACOSX/PaDEL-Descriptor/lib/._libPaDEL-Jobs(5).jar  \n"
          ]
        }
      ],
      "source": [
        "! unzip padel.zip"
      ]
    },
    {
      "cell_type": "code",
      "execution_count": 35,
      "metadata": {
        "id": "1YeimCamshFR",
        "colab": {
          "base_uri": "https://localhost:8080/"
        },
        "outputId": "cfd92d49-9119-42d1-8d17-59b285a1e402"
      },
      "outputs": [
        {
          "output_type": "stream",
          "name": "stdout",
          "text": [
            "Processing CHEMBL29453 in molecule.smi (1/334). \n",
            "Processing CHEMBL30189 in molecule.smi (2/334). \n",
            "Processing CHEMBL265239 in molecule.smi (4/334). Average speed: 3.18 s/mol.\n",
            "Processing CHEMBL26582 in molecule.smi (3/334). Average speed: 6.26 s/mol.\n",
            "Processing CHEMBL30072 in molecule.smi (5/334). Average speed: 4.70 s/mol.\n",
            "Processing CHEMBL281681 in molecule.smi (6/334). Average speed: 2.86 s/mol.\n",
            "Processing CHEMBL285371 in molecule.smi (7/334). Average speed: 2.57 s/mol.\n",
            "Processing CHEMBL26583 in molecule.smi (8/334). Average speed: 2.17 s/mol.\n",
            "Processing CHEMBL281482 in molecule.smi (9/334). Average speed: 2.03 s/mol.\n",
            "Processing CHEMBL286410 in molecule.smi (10/334). Average speed: 1.82 s/mol.\n",
            "Processing CHEMBL26692 in molecule.smi (11/334). Average speed: 1.74 s/mol.\n",
            "Processing CHEMBL281020 in molecule.smi (12/334). Average speed: 1.60 s/mol.\n",
            "Processing CHEMBL281483 in molecule.smi (13/334). Average speed: 1.54 s/mol.\n",
            "Processing CHEMBL29452 in molecule.smi (14/334). Average speed: 1.49 s/mol.\n",
            "Processing CHEMBL9402 in molecule.smi (15/334). Average speed: 1.41 s/mol.\n",
            "Processing CHEMBL29451 in molecule.smi (17/334). Average speed: 1.34 s/mol.\n",
            "Processing CHEMBL27300 in molecule.smi (16/334). Average speed: 1.40 s/mol.\n",
            "Processing CHEMBL29350 in molecule.smi (18/334). Average speed: 1.29 s/mol.\n",
            "Processing CHEMBL287098 in molecule.smi (19/334). Average speed: 1.28 s/mol.\n",
            "Processing CHEMBL284638 in molecule.smi (20/334). Average speed: 1.26 s/mol.\n",
            "Processing CHEMBL30232 in molecule.smi (22/334). Average speed: 1.28 s/mol.\n",
            "Processing CHEMBL26944 in molecule.smi (21/334). Average speed: 1.31 s/mol.\n",
            "Processing CHEMBL283699 in molecule.smi (23/334). Average speed: 1.26 s/mol.\n",
            "Processing CHEMBL25899 in molecule.smi (24/334). Average speed: 1.22 s/mol.\n",
            "Processing CHEMBL178 in molecule.smi (25/334). Average speed: 1.21 s/mol.\n",
            "Processing CHEMBL428647 in molecule.smi (26/334). Average speed: 1.17 s/mol.\n",
            "Processing CHEMBL17289 in molecule.smi (27/334). Average speed: 1.16 s/mol.\n",
            "Processing CHEMBL322225 in molecule.smi (28/334). Average speed: 1.13 s/mol.\n",
            "Processing CHEMBL39594 in molecule.smi (29/334). Average speed: 1.09 s/mol.\n",
            "Processing CHEMBL169978 in molecule.smi (30/334). Average speed: 1.07 s/mol.\n",
            "Processing CHEMBL168402 in molecule.smi (31/334). Average speed: 1.04 s/mol.\n",
            "Processing CHEMBL166973 in molecule.smi (33/334). Average speed: 0.99 s/mol.\n",
            "Processing CHEMBL168696 in molecule.smi (32/334). Average speed: 1.01 s/mol.\n",
            "Processing CHEMBL167099 in molecule.smi (34/334). Average speed: 0.96 s/mol.\n",
            "Processing CHEMBL351244 in molecule.smi (35/334). Average speed: 0.94 s/mol.\n",
            "Processing CHEMBL162112 in molecule.smi (36/334). Average speed: 0.92 s/mol.\n",
            "Processing CHEMBL163577 in molecule.smi (37/334). Average speed: 0.89 s/mol.\n",
            "Processing CHEMBL349474 in molecule.smi (38/334). Average speed: 0.89 s/mol.\n",
            "Processing CHEMBL162885 in molecule.smi (39/334). Average speed: 0.86 s/mol.\n",
            "Processing CHEMBL162987 in molecule.smi (40/334). Average speed: 0.85 s/mol.\n",
            "Processing CHEMBL353127 in molecule.smi (41/334). Average speed: 0.83 s/mol.\n",
            "Processing CHEMBL433703 in molecule.smi (42/334). Average speed: 0.82 s/mol.\n",
            "Processing CHEMBL163072 in molecule.smi (43/334). Average speed: 0.82 s/mol.\n",
            "Processing CHEMBL162739 in molecule.smi (44/334). Average speed: 0.79 s/mol.\n",
            "Processing CHEMBL53463 in molecule.smi (45/334). Average speed: 0.78 s/mol.\n",
            "Processing CHEMBL164407 in molecule.smi (46/334). Average speed: 0.77 s/mol.\n",
            "Processing CHEMBL355827 in molecule.smi (47/334). Average speed: 0.76 s/mol.\n",
            "Processing CHEMBL163525 in molecule.smi (48/334). Average speed: 0.75 s/mol.\n",
            "Processing CHEMBL30628 in molecule.smi (49/334). Average speed: 0.74 s/mol.\n",
            "Processing CHEMBL286942 in molecule.smi (50/334). Average speed: 0.75 s/mol.\n",
            "Processing CHEMBL285349 in molecule.smi (51/334). Average speed: 0.77 s/mol.\n",
            "Processing CHEMBL31879 in molecule.smi (52/334). Average speed: 0.76 s/mol.\n",
            "Processing CHEMBL30912 in molecule.smi (53/334). Average speed: 0.76 s/mol.\n",
            "Processing CHEMBL422414 in molecule.smi (54/334). Average speed: 0.76 s/mol.\n",
            "Processing CHEMBL3144064 in molecule.smi (55/334). Average speed: 0.75 s/mol.\n",
            "Processing CHEMBL286429 in molecule.smi (56/334). Average speed: 0.74 s/mol.\n",
            "Processing CHEMBL285322 in molecule.smi (57/334). Average speed: 0.72 s/mol.\n",
            "Processing CHEMBL108358 in molecule.smi (59/334). Average speed: 0.72 s/mol.\n",
            "Processing CHEMBL287582 in molecule.smi (58/334). Average speed: 0.73 s/mol.\n",
            "Processing CHEMBL31790 in molecule.smi (60/334). Average speed: 0.71 s/mol.\n",
            "Processing CHEMBL29602 in molecule.smi (62/334). Average speed: 0.70 s/mol.\n",
            "Processing CHEMBL283677 in molecule.smi (61/334). Average speed: 0.71 s/mol.\n",
            "Processing CHEMBL32741 in molecule.smi (63/334). Average speed: 0.69 s/mol.\n",
            "Processing CHEMBL30843 in molecule.smi (65/334). Average speed: 0.69 s/mol.\n",
            "Processing CHEMBL31400 in molecule.smi (64/334). Average speed: 0.69 s/mol.\n",
            "Processing CHEMBL3143993 in molecule.smi (67/334). Average speed: 0.68 s/mol.\n",
            "Processing CHEMBL30424 in molecule.smi (66/334). Average speed: 0.68 s/mol.\n",
            "Processing CHEMBL31769 in molecule.smi (68/334). Average speed: 0.67 s/mol.\n",
            "Processing CHEMBL30232 in molecule.smi (70/334). Average speed: 0.67 s/mol.\n",
            "Processing CHEMBL283010 in molecule.smi (69/334). Average speed: 0.67 s/mol.\n",
            "Processing CHEMBL29944 in molecule.smi (71/334). Average speed: 0.66 s/mol.\n",
            "Processing CHEMBL355742 in molecule.smi (72/334). Average speed: 0.67 s/mol.\n",
            "Processing CHEMBL10128 in molecule.smi (73/334). Average speed: 0.66 s/mol.\n",
            "Processing CHEMBL354992 in molecule.smi (74/334). Average speed: 0.65 s/mol.\n",
            "Processing CHEMBL302583 in molecule.smi (75/334). Average speed: 0.64 s/mol.\n",
            "Processing CHEMBL423668 in molecule.smi (76/334). Average speed: 0.64 s/mol.\n",
            "Processing CHEMBL66843 in molecule.smi (78/334). Average speed: 0.63 s/mol.\n",
            "Processing CHEMBL67301 in molecule.smi (77/334). Average speed: 0.63 s/mol.\n",
            "Processing CHEMBL63736 in molecule.smi (79/334). Average speed: 0.63 s/mol.\n",
            "Processing CHEMBL44657 in molecule.smi (80/334). Average speed: 0.63 s/mol.\n",
            "Processing CHEMBL70057 in molecule.smi (81/334). Average speed: 0.62 s/mol.\n",
            "Processing CHEMBL66398 in molecule.smi (83/334). Average speed: 0.63 s/mol.\n",
            "Processing CHEMBL304122 in molecule.smi (82/334). Average speed: 0.62 s/mol.\n",
            "Processing CHEMBL67093 in molecule.smi (84/334). Average speed: 0.63 s/mol.\n",
            "Processing CHEMBL302629 in molecule.smi (85/334). Average speed: 0.62 s/mol.\n",
            "Processing CHEMBL67491 in molecule.smi (86/334). Average speed: 0.61 s/mol.\n",
            "Processing CHEMBL9940 in molecule.smi (88/334). Average speed: 0.60 s/mol.\n",
            "Processing CHEMBL9676 in molecule.smi (87/334). Average speed: 0.61 s/mol.\n",
            "Processing CHEMBL266809 in molecule.smi (89/334). Average speed: 0.60 s/mol.\n",
            "Processing CHEMBL9489 in molecule.smi (90/334). Average speed: 0.59 s/mol.\n",
            "Processing CHEMBL9595 in molecule.smi (91/334). Average speed: 0.59 s/mol.\n",
            "Processing CHEMBL611408 in molecule.smi (92/334). Average speed: 0.59 s/mol.\n",
            "Processing CHEMBL44657 in molecule.smi (93/334). Average speed: 0.58 s/mol.\n",
            "Processing CHEMBL53463 in molecule.smi (95/334). Average speed: 0.58 s/mol.\n",
            "Processing CHEMBL269663 in molecule.smi (94/334). Average speed: 0.58 s/mol.\n",
            "Processing CHEMBL276261 in molecule.smi (96/334). Average speed: 0.57 s/mol.\n",
            "Processing CHEMBL9902 in molecule.smi (97/334). Average speed: 0.58 s/mol.\n",
            "Processing CHEMBL65 in molecule.smi (98/334). Average speed: 0.58 s/mol.\n",
            "Processing CHEMBL268798 in molecule.smi (99/334). Average speed: 0.57 s/mol.\n",
            "Processing CHEMBL292079 in molecule.smi (101/334). Average speed: 0.57 s/mol.\n",
            "Processing CHEMBL80196 in molecule.smi (100/334). Average speed: 0.57 s/mol.\n",
            "Processing CHEMBL76774 in molecule.smi (102/334). Average speed: 0.57 s/mol.\n",
            "Processing CHEMBL312465 in molecule.smi (103/334). Average speed: 0.57 s/mol.\n",
            "Processing CHEMBL61064 in molecule.smi (104/334). Average speed: 0.57 s/mol.\n",
            "Processing CHEMBL76617 in molecule.smi (105/334). Average speed: 0.57 s/mol.\n",
            "Processing CHEMBL311658 in molecule.smi (106/334). Average speed: 0.57 s/mol.\n",
            "Processing CHEMBL76039 in molecule.smi (107/334). Average speed: 0.57 s/mol.\n",
            "Processing CHEMBL307058 in molecule.smi (108/334). Average speed: 0.57 s/mol.\n",
            "Processing CHEMBL78465 in molecule.smi (109/334). Average speed: 0.58 s/mol.\n",
            "Processing CHEMBL293209 in molecule.smi (110/334). Average speed: 0.59 s/mol.\n",
            "Processing CHEMBL76615 in molecule.smi (111/334). Average speed: 0.59 s/mol.\n",
            "Processing CHEMBL311202 in molecule.smi (112/334). Average speed: 0.59 s/mol.\n",
            "Processing CHEMBL294064 in molecule.smi (114/334). Average speed: 0.59 s/mol.\n",
            "Processing CHEMBL78114 in molecule.smi (113/334). Average speed: 0.59 s/mol.\n",
            "Processing CHEMBL76616 in molecule.smi (115/334). Average speed: 0.59 s/mol.\n",
            "Processing CHEMBL306495 in molecule.smi (116/334). Average speed: 0.59 s/mol.\n",
            "Processing CHEMBL60129 in molecule.smi (117/334). Average speed: 0.59 s/mol.\n",
            "Processing CHEMBL305719 in molecule.smi (119/334). Average speed: 0.59 s/mol.\n",
            "Processing CHEMBL76973 in molecule.smi (118/334). Average speed: 0.59 s/mol.\n",
            "Processing CHEMBL59664 in molecule.smi (120/334). Average speed: 0.59 s/mol.\n",
            "Processing CHEMBL9940 in molecule.smi (121/334). Average speed: 0.59 s/mol.\n",
            "Processing CHEMBL78667 in molecule.smi (122/334). Average speed: 0.59 s/mol.\n",
            "Processing CHEMBL80217 in molecule.smi (123/334). Average speed: 0.58 s/mol.\n",
            "Processing CHEMBL265267 in molecule.smi (124/334). Average speed: 0.59 s/mol.\n",
            "Processing CHEMBL80178 in molecule.smi (126/334). Average speed: 0.59 s/mol.\n",
            "Processing CHEMBL80399 in molecule.smi (125/334). Average speed: 0.59 s/mol.\n",
            "Processing CHEMBL76833 in molecule.smi (127/334). Average speed: 0.58 s/mol.\n",
            "Processing CHEMBL64378 in molecule.smi (128/334). Average speed: 0.59 s/mol.\n",
            "Processing CHEMBL77069 in molecule.smi (130/334). Average speed: 0.59 s/mol.\n",
            "Processing CHEMBL292038 in molecule.smi (129/334). Average speed: 0.59 s/mol.\n",
            "Processing CHEMBL76610 in molecule.smi (131/334). Average speed: 0.59 s/mol.\n",
            "Processing CHEMBL75700 in molecule.smi (132/334). Average speed: 0.60 s/mol.\n",
            "Processing CHEMBL76423 in molecule.smi (133/334). Average speed: 0.59 s/mol.\n",
            "Processing CHEMBL61526 in molecule.smi (134/334). Average speed: 0.60 s/mol.\n",
            "Processing CHEMBL276261 in molecule.smi (135/334). Average speed: 0.59 s/mol.\n",
            "Processing CHEMBL65 in molecule.smi (136/334). Average speed: 0.59 s/mol.\n",
            "Processing CHEMBL43 in molecule.smi (137/334). Average speed: 0.59 s/mol.\n",
            "Processing CHEMBL60794 in molecule.smi (138/334). Average speed: 0.58 s/mol.\n",
            "Processing CHEMBL76568 in molecule.smi (140/334). Average speed: 0.58 s/mol.\n",
            "Processing CHEMBL9402 in molecule.smi (139/334). Average speed: 0.58 s/mol.\n",
            "Processing CHEMBL80804 in molecule.smi (142/334). Average speed: 0.58 s/mol.\n",
            "Processing CHEMBL76094 in molecule.smi (141/334). Average speed: 0.58 s/mol.\n",
            "Processing CHEMBL62324 in molecule.smi (144/334). Average speed: 0.58 s/mol.\n",
            "Processing CHEMBL80462 in molecule.smi (143/334). Average speed: 0.58 s/mol.\n",
            "Processing CHEMBL64071 in molecule.smi (145/334). Average speed: 0.58 s/mol.\n",
            "Processing CHEMBL43 in molecule.smi (147/334). Average speed: 0.58 s/mol.\n",
            "Processing CHEMBL53463 in molecule.smi (146/334). Average speed: 0.58 s/mol.\n",
            "Processing CHEMBL75798 in molecule.smi (148/334). Average speed: 0.58 s/mol.\n",
            "Processing CHEMBL75807 in molecule.smi (149/334). Average speed: 0.57 s/mol.\n",
            "Processing CHEMBL77628 in molecule.smi (150/334). Average speed: 0.58 s/mol.\n",
            "Processing CHEMBL433253 in molecule.smi (151/334). Average speed: 0.58 s/mol.\n",
            "Processing CHEMBL303559 in molecule.smi (152/334). Average speed: 0.58 s/mol.\n",
            "Processing CHEMBL312552 in molecule.smi (153/334). Average speed: 0.57 s/mol.\n",
            "Processing CHEMBL307246 in molecule.smi (154/334). Average speed: 0.59 s/mol.\n",
            "Processing CHEMBL78207 in molecule.smi (155/334). Average speed: 0.59 s/mol.\n",
            "Processing CHEMBL80141 in molecule.smi (156/334). Average speed: 0.60 s/mol.\n",
            "Processing CHEMBL75923 in molecule.smi (157/334). Average speed: 0.60 s/mol.\n",
            "Processing CHEMBL76810 in molecule.smi (158/334). Average speed: 0.60 s/mol.\n",
            "Processing CHEMBL54473 in molecule.smi (159/334). Average speed: 0.60 s/mol.\n",
            "Processing CHEMBL80427 in molecule.smi (160/334). Average speed: 0.60 s/mol.\n",
            "Processing CHEMBL820 in molecule.smi (161/334). Average speed: 0.60 s/mol.\n",
            "Processing CHEMBL169275 in molecule.smi (162/334). Average speed: 0.60 s/mol.\n",
            "Processing CHEMBL169400 in molecule.smi (163/334). Average speed: 0.59 s/mol.\n",
            "Processing CHEMBL334676 in molecule.smi (164/334). Average speed: 0.59 s/mol.\n",
            "Processing CHEMBL135845 in molecule.smi (165/334). Average speed: 0.59 s/mol.\n",
            "Processing CHEMBL803 in molecule.smi (166/334). Average speed: 0.58 s/mol.\n",
            "Processing CHEMBL1079328 in molecule.smi (167/334). Average speed: 0.58 s/mol.\n",
            "Processing CHEMBL1743599 in molecule.smi (168/334). Average speed: 0.58 s/mol.\n",
            "Processing CHEMBL53463 in molecule.smi (169/334). Average speed: 0.58 s/mol.\n",
            "Processing CHEMBL1276110 in molecule.smi (170/334). Average speed: 0.57 s/mol.\n",
            "Processing CHEMBL1276898 in molecule.smi (171/334). Average speed: 0.57 s/mol.\n",
            "Processing CHEMBL1278152 in molecule.smi (173/334). Average speed: 0.57 s/mol.\n",
            "Processing CHEMBL1278062 in molecule.smi (172/334). Average speed: 0.57 s/mol.\n",
            "Processing CHEMBL1277977 in molecule.smi (174/334). Average speed: 0.57 s/mol.\n",
            "Processing CHEMBL1278063 in molecule.smi (175/334). Average speed: 0.56 s/mol.\n",
            "Processing CHEMBL1278064 in molecule.smi (176/334). Average speed: 0.56 s/mol.\n",
            "Processing CHEMBL1277975 in molecule.smi (177/334). Average speed: 0.56 s/mol.\n",
            "Processing CHEMBL1278154 in molecule.smi (178/334). Average speed: 0.56 s/mol.\n",
            "Processing CHEMBL1276111 in molecule.smi (179/334). Average speed: 0.56 s/mol.\n",
            "Processing CHEMBL1276900 in molecule.smi (180/334). Average speed: 0.55 s/mol.\n",
            "Processing CHEMBL1276988 in molecule.smi (181/334). Average speed: 0.55 s/mol.\n",
            "Processing CHEMBL1957050 in molecule.smi (182/334). Average speed: 0.55 s/mol.\n",
            "Processing CHEMBL1957051 in molecule.smi (183/334). Average speed: 0.55 s/mol.\n",
            "Processing CHEMBL2058275 in molecule.smi (184/334). Average speed: 0.55 s/mol.\n",
            "Processing CHEMBL2058276 in molecule.smi (185/334). Average speed: 0.55 s/mol.\n",
            "Processing CHEMBL2058275 in molecule.smi (186/334). Average speed: 0.55 s/mol.\n",
            "Processing CHEMBL53463 in molecule.smi (187/334). Average speed: 0.56 s/mol.\n",
            "Processing CHEMBL2058276 in molecule.smi (188/334). Average speed: 0.57 s/mol.\n",
            "Processing CHEMBL140 in molecule.smi (189/334). Average speed: 0.56 s/mol.\n",
            "Processing CHEMBL379849 in molecule.smi (190/334). Average speed: 0.56 s/mol.\n",
            "Processing CHEMBL249697 in molecule.smi (191/334). Average speed: 0.56 s/mol.\n",
            "Processing CHEMBL4104091 in molecule.smi (192/334). Average speed: 0.56 s/mol.\n",
            "Processing CHEMBL4087721 in molecule.smi (193/334). Average speed: 0.56 s/mol.\n",
            "Processing CHEMBL4066382 in molecule.smi (194/334). Average speed: 0.56 s/mol.\n",
            "Processing CHEMBL4062775 in molecule.smi (195/334). Average speed: 0.55 s/mol.\n",
            "Processing CHEMBL4084452 in molecule.smi (196/334). Average speed: 0.55 s/mol.\n",
            "Processing CHEMBL4092202 in molecule.smi (197/334). Average speed: 0.55 s/mol.\n",
            "Processing CHEMBL4081951 in molecule.smi (198/334). Average speed: 0.55 s/mol.\n",
            "Processing CHEMBL4099950 in molecule.smi (199/334). Average speed: 0.55 s/mol.\n",
            "Processing CHEMBL4089813 in molecule.smi (200/334). Average speed: 0.55 s/mol.\n",
            "Processing CHEMBL4061732 in molecule.smi (201/334). Average speed: 0.55 s/mol.\n",
            "Processing CHEMBL4175195 in molecule.smi (202/334). Average speed: 0.54 s/mol.\n",
            "Processing CHEMBL4165810 in molecule.smi (203/334). Average speed: 0.54 s/mol.\n",
            "Processing CHEMBL4173737 in molecule.smi (204/334). Average speed: 0.54 s/mol.\n",
            "Processing CHEMBL4177132 in molecule.smi (205/334). Average speed: 0.54 s/mol.\n",
            "Processing CHEMBL4166511 in molecule.smi (206/334). Average speed: 0.54 s/mol.\n",
            "Processing CHEMBL4163075 in molecule.smi (208/334). Average speed: 0.54 s/mol.\n",
            "Processing CHEMBL4173781 in molecule.smi (207/334). Average speed: 0.54 s/mol.\n",
            "Processing CHEMBL4173376 in molecule.smi (210/334). Average speed: 0.54 s/mol.\n",
            "Processing CHEMBL4165461 in molecule.smi (209/334). Average speed: 0.54 s/mol.\n",
            "Processing CHEMBL4162014 in molecule.smi (211/334). Average speed: 0.54 s/mol.\n",
            "Processing CHEMBL4169937 in molecule.smi (212/334). Average speed: 0.54 s/mol.\n",
            "Processing CHEMBL4172238 in molecule.smi (213/334). Average speed: 0.55 s/mol.\n",
            "Processing CHEMBL4161618 in molecule.smi (214/334). Average speed: 0.54 s/mol.\n",
            "Processing CHEMBL4166693 in molecule.smi (215/334). Average speed: 0.55 s/mol.\n",
            "Processing CHEMBL4177326 in molecule.smi (216/334). Average speed: 0.55 s/mol.\n",
            "Processing CHEMBL4170107 in molecule.smi (217/334). Average speed: 0.55 s/mol.\n",
            "Processing CHEMBL4162198 in molecule.smi (218/334). Average speed: 0.55 s/mol.\n",
            "Processing CHEMBL4165630 in molecule.smi (220/334). Average speed: 0.55 s/mol.\n",
            "Processing CHEMBL4173560 in molecule.smi (219/334). Average speed: 0.55 s/mol.\n",
            "Processing CHEMBL4169061 in molecule.smi (222/334). Average speed: 0.55 s/mol.\n",
            "Processing CHEMBL4176923 in molecule.smi (221/334). Average speed: 0.56 s/mol.\n",
            "Processing CHEMBL241806 in molecule.smi (223/334). Average speed: 0.56 s/mol.\n",
            "Processing CHEMBL3087686 in molecule.smi (225/334). Average speed: 0.55 s/mol.\n",
            "Processing CHEMBL465673 in molecule.smi (224/334). Average speed: 0.56 s/mol.\n",
            "Processing CHEMBL3545369 in molecule.smi (226/334). Average speed: 0.55 s/mol.\n",
            "Processing CHEMBL98 in molecule.smi (227/334). Average speed: 0.55 s/mol.\n",
            "Processing CHEMBL4291940 in molecule.smi (228/334). Average speed: 0.55 s/mol.\n",
            "Processing CHEMBL4277863 in molecule.smi (229/334). Average speed: 0.55 s/mol.\n",
            "Processing CHEMBL4288519 in molecule.smi (230/334). Average speed: 0.55 s/mol.\n",
            "Processing CHEMBL4292998 in molecule.smi (231/334). Average speed: 0.54 s/mol.\n",
            "Processing CHEMBL4285161 in molecule.smi (232/334). Average speed: 0.54 s/mol.\n",
            "Processing CHEMBL4289614 in molecule.smi (233/334). Average speed: 0.54 s/mol.\n",
            "Processing CHEMBL4281734 in molecule.smi (234/334). Average speed: 0.54 s/mol.\n",
            "Processing CHEMBL4294936 in molecule.smi (235/334). Average speed: 0.54 s/mol.\n",
            "Processing CHEMBL4287028 in molecule.smi (236/334). Average speed: 0.54 s/mol.\n",
            "Processing CHEMBL4279657 in molecule.smi (237/334). Average speed: 0.54 s/mol.\n",
            "Processing CHEMBL4290006 in molecule.smi (238/334). Average speed: 0.54 s/mol.\n",
            "Processing CHEMBL4277764 in molecule.smi (239/334). Average speed: 0.53 s/mol.\n",
            "Processing CHEMBL4288076 in molecule.smi (240/334). Average speed: 0.53 s/mol.\n",
            "Processing CHEMBL4283574 in molecule.smi (241/334). Average speed: 0.53 s/mol.\n",
            "Processing CHEMBL4287623 in molecule.smi (242/334). Average speed: 0.53 s/mol.\n",
            "Processing CHEMBL4287623 in molecule.smi (244/334). Average speed: 0.53 s/mol.\n",
            "Processing CHEMBL4287623 in molecule.smi (243/334). Average speed: 0.53 s/mol.\n",
            "Processing CHEMBL4282702 in molecule.smi (245/334). Average speed: 0.53 s/mol.\n",
            "Processing CHEMBL4282702 in molecule.smi (247/334). Average speed: 0.53 s/mol.\n",
            "Processing CHEMBL4282702 in molecule.smi (246/334). Average speed: 0.53 s/mol.\n",
            "Processing CHEMBL4291048 in molecule.smi (248/334). Average speed: 0.54 s/mol.\n",
            "Processing CHEMBL4291048 in molecule.smi (249/334). Average speed: 0.53 s/mol.\n",
            "Processing CHEMBL4278465 in molecule.smi (251/334). Average speed: 0.53 s/mol.\n",
            "Processing CHEMBL4291048 in molecule.smi (250/334). Average speed: 0.53 s/mol.\n",
            "Processing CHEMBL4278465 in molecule.smi (252/334). Average speed: 0.53 s/mol.\n",
            "Processing CHEMBL4278465 in molecule.smi (253/334). Average speed: 0.53 s/mol.\n",
            "Processing CHEMBL1644978 in molecule.smi (255/334). Average speed: 0.53 s/mol.\n",
            "Processing CHEMBL1644978 in molecule.smi (254/334). Average speed: 0.53 s/mol.\n",
            "Processing CHEMBL1644978 in molecule.smi (256/334). Average speed: 0.53 s/mol.\n",
            "Processing CHEMBL1644980 in molecule.smi (257/334). Average speed: 0.53 s/mol.\n",
            "Processing CHEMBL1644980 in molecule.smi (259/334). Average speed: 0.53 s/mol.\n",
            "Processing CHEMBL1644980 in molecule.smi (258/334). Average speed: 0.53 s/mol.\n",
            "Processing CHEMBL4293307 in molecule.smi (260/334). Average speed: 0.53 s/mol.\n",
            "Processing CHEMBL4293307 in molecule.smi (261/334). Average speed: 0.52 s/mol.\n",
            "Processing CHEMBL47050 in molecule.smi (263/334). Average speed: 0.52 s/mol.\n",
            "Processing CHEMBL4293307 in molecule.smi (262/334). Average speed: 0.52 s/mol.\n",
            "Processing CHEMBL47050 in molecule.smi (265/334). Average speed: 0.52 s/mol.\n",
            "Processing CHEMBL47050 in molecule.smi (264/334). Average speed: 0.52 s/mol.\n",
            "Processing CHEMBL169 in molecule.smi (267/334). Average speed: 0.52 s/mol.\n",
            "Processing CHEMBL230006 in molecule.smi (266/334). Average speed: 0.52 s/mol.\n",
            "Processing CHEMBL168 in molecule.smi (268/334). Average speed: 0.52 s/mol.\n",
            "Processing CHEMBL4288004 in molecule.smi (269/334). Average speed: 0.52 s/mol.\n",
            "Processing CHEMBL4289547 in molecule.smi (270/334). Average speed: 0.52 s/mol.\n",
            "Processing CHEMBL4280149 in molecule.smi (271/334). Average speed: 0.52 s/mol.\n",
            "Processing CHEMBL4288054 in molecule.smi (272/334). Average speed: 0.52 s/mol.\n",
            "Processing CHEMBL4282540 in molecule.smi (273/334). Average speed: 0.53 s/mol.\n",
            "Processing CHEMBL4293141 in molecule.smi (274/334). Average speed: 0.54 s/mol.\n",
            "Processing CHEMBL4285934 in molecule.smi (275/334). Average speed: 0.54 s/mol.\n",
            "Processing CHEMBL4289338 in molecule.smi (277/334). Average speed: 0.54 s/mol.\n",
            "Processing CHEMBL4278005 in molecule.smi (276/334). Average speed: 0.54 s/mol.\n",
            "Processing CHEMBL4292749 in molecule.smi (279/334). Average speed: 0.54 s/mol.\n",
            "Processing CHEMBL4281458 in molecule.smi (278/334). Average speed: 0.54 s/mol.\n",
            "Processing CHEMBL4287415 in molecule.smi (281/334). Average speed: 0.54 s/mol.\n",
            "Processing CHEMBL4284879 in molecule.smi (280/334). Average speed: 0.54 s/mol.\n",
            "Processing CHEMBL4279499 in molecule.smi (282/334). Average speed: 0.55 s/mol.\n",
            "Processing CHEMBL4283777 in molecule.smi (283/334). Average speed: 0.55 s/mol.\n",
            "Processing CHEMBL4291633 in molecule.smi (284/334). Average speed: 0.55 s/mol.\n",
            "Processing CHEMBL4280321 in molecule.smi (285/334). Average speed: 0.55 s/mol.\n",
            "Processing CHEMBL4288221 in molecule.smi (286/334). Average speed: 0.55 s/mol.\n",
            "Processing CHEMBL4290551 in molecule.smi (287/334). Average speed: 0.55 s/mol.\n",
            "Processing CHEMBL4279897 in molecule.smi (288/334). Average speed: 0.56 s/mol.\n",
            "Processing CHEMBL4287127 in molecule.smi (289/334). Average speed: 0.56 s/mol.\n",
            "Processing CHEMBL4288617 in molecule.smi (291/334). Average speed: 0.56 s/mol.\n",
            "Processing CHEMBL4295051 in molecule.smi (290/334). Average speed: 0.56 s/mol.\n",
            "Processing CHEMBL4277953 in molecule.smi (292/334). Average speed: 0.56 s/mol.\n",
            "Processing CHEMBL4286397 in molecule.smi (293/334). Average speed: 0.56 s/mol.\n",
            "Processing CHEMBL4283027 in molecule.smi (295/334). Average speed: 0.56 s/mol.\n",
            "Processing CHEMBL4278483 in molecule.smi (294/334). Average speed: 0.56 s/mol.\n",
            "Processing CHEMBL4279561 in molecule.smi (297/334). Average speed: 0.56 s/mol.\n",
            "Processing CHEMBL4293611 in molecule.smi (296/334). Average speed: 0.56 s/mol.\n",
            "Processing CHEMBL4290226 in molecule.smi (298/334). Average speed: 0.57 s/mol.\n",
            "Processing CHEMBL4294707 in molecule.smi (299/334). Average speed: 0.56 s/mol.\n",
            "Processing CHEMBL4286805 in molecule.smi (300/334). Average speed: 0.57 s/mol.\n",
            "Processing CHEMBL4291301 in molecule.smi (301/334). Average speed: 0.57 s/mol.\n",
            "Processing CHEMBL4283462 in molecule.smi (302/334). Average speed: 0.58 s/mol.\n",
            "Processing CHEMBL4288639 in molecule.smi (303/334). Average speed: 0.57 s/mol.\n",
            "Processing CHEMBL4277972 in molecule.smi (304/334). Average speed: 0.57 s/mol.\n",
            "Processing CHEMBL4292053 in molecule.smi (305/334). Average speed: 0.57 s/mol.\n",
            "Processing CHEMBL4276916 in molecule.smi (307/334). Average speed: 0.58 s/mol.\n",
            "Processing CHEMBL4281429 in molecule.smi (306/334). Average speed: 0.58 s/mol.\n",
            "Processing CHEMBL4280339 in molecule.smi (309/334). Average speed: 0.58 s/mol.\n",
            "Processing CHEMBL4284844 in molecule.smi (308/334). Average speed: 0.58 s/mol.\n",
            "Processing CHEMBL4283797 in molecule.smi (311/334). Average speed: 0.58 s/mol.\n",
            "Processing CHEMBL4288239 in molecule.smi (310/334). Average speed: 0.58 s/mol.\n",
            "Processing CHEMBL4291658 in molecule.smi (312/334). Average speed: 0.58 s/mol.\n",
            "Processing CHEMBL4277977 in molecule.smi (313/334). Average speed: 0.58 s/mol.\n",
            "Processing CHEMBL4288642 in molecule.smi (314/334). Average speed: 0.58 s/mol.\n",
            "Processing CHEMBL4281434 in molecule.smi (315/334). Average speed: 0.58 s/mol.\n",
            "Processing CHEMBL4289732 in molecule.smi (317/334). Average speed: 0.59 s/mol.\n",
            "Processing CHEMBL4292057 in molecule.smi (316/334). Average speed: 0.59 s/mol.\n",
            "Processing CHEMBL4281866 in molecule.smi (318/334). Average speed: 0.59 s/mol.\n",
            "Processing CHEMBL4293118 in molecule.smi (319/334). Average speed: 0.59 s/mol.\n",
            "Processing CHEMBL53463 in molecule.smi (321/334). Average speed: 0.59 s/mol.\n",
            "Processing CHEMBL4285303 in molecule.smi (320/334). Average speed: 0.59 s/mol.\n",
            "Processing CHEMBL428647 in molecule.smi (322/334). Average speed: 0.59 s/mol.\n",
            "Processing CHEMBL4550214 in molecule.smi (323/334). Average speed: 0.59 s/mol.\n",
            "Processing CHEMBL1668229 in molecule.smi (325/334). Average speed: 0.59 s/mol.\n",
            "Processing CHEMBL428647 in molecule.smi (324/334). Average speed: 0.59 s/mol.\n",
            "Processing CHEMBL4539339 in molecule.smi (326/334). Average speed: 0.59 s/mol.\n",
            "Processing CHEMBL4636992 in molecule.smi (327/334). Average speed: 0.59 s/mol.\n",
            "Processing CHEMBL4640766 in molecule.smi (328/334). Average speed: 0.59 s/mol.\n",
            "Processing CHEMBL4649315 in molecule.smi (329/334). Average speed: 0.59 s/mol.\n",
            "Processing CHEMBL4649170 in molecule.smi (330/334). Average speed: 0.59 s/mol.\n",
            "Processing CHEMBL4633257 in molecule.smi (331/334). Average speed: 0.59 s/mol.\n",
            "Processing CHEMBL4645165 in molecule.smi (333/334). Average speed: 0.58 s/mol.\n",
            "Processing CHEMBL4645104 in molecule.smi (332/334). Average speed: 0.58 s/mol.\n",
            "Processing CHEMBL4640540 in molecule.smi (334/334). Average speed: 0.58 s/mol.\n",
            "Descriptor calculation completed in 3 mins 13.981 secs . Average speed: 0.58 s/mol.\n"
          ]
        }
      ],
      "source": [
        "! bash padel.sh"
      ]
    },
    {
      "cell_type": "markdown",
      "metadata": {
        "id": "PaHKjxbyVEVx"
      },
      "source": [
        "### Model selection and usage"
      ]
    },
    {
      "cell_type": "markdown",
      "metadata": {
        "id": "FuqBUBbgXvaq"
      },
      "source": [
        "### Importing Modules"
      ]
    },
    {
      "cell_type": "code",
      "execution_count": 36,
      "metadata": {
        "id": "8AW9jy8uXlKz"
      },
      "outputs": [],
      "source": [
        "from sklearn.tree import DecisionTreeRegressor\n",
        "from sklearn.ensemble import RandomForestRegressor , ExtraTreesRegressor\n",
        "from sklearn.linear_model import Lasso,Ridge,OrthogonalMatchingPursuit,LinearRegression\n",
        "from sklearn.svm import SVR\n",
        "from sklearn.model_selection import train_test_split, KFold , cross_val_score\n",
        "from sklearn.metrics import r2_score,mean_squared_error,mean_absolute_error"
      ]
    },
    {
      "cell_type": "markdown",
      "metadata": {
        "id": "NIF6keLVZFgZ"
      },
      "source": [
        "### Using different models and importing processed data "
      ]
    },
    {
      "cell_type": "code",
      "execution_count": 37,
      "metadata": {
        "id": "ZmdaqLd8bLp_"
      },
      "outputs": [],
      "source": [
        "X = pd.read_csv('descriptors_output.csv')\n",
        "Y = pd.read_csv('lungs_labels.csv')"
      ]
    },
    {
      "cell_type": "code",
      "source": [
        "len(X),len(Y)"
      ],
      "metadata": {
        "id": "4QuUbklCexJn",
        "colab": {
          "base_uri": "https://localhost:8080/"
        },
        "outputId": "1b59d74b-3fd9-4543-f229-48fa52b1fb8f"
      },
      "execution_count": 38,
      "outputs": [
        {
          "output_type": "execute_result",
          "data": {
            "text/plain": [
              "(334, 334)"
            ]
          },
          "metadata": {},
          "execution_count": 38
        }
      ]
    },
    {
      "cell_type": "code",
      "execution_count": 39,
      "metadata": {
        "id": "apotqTqnjyXi",
        "colab": {
          "base_uri": "https://localhost:8080/"
        },
        "outputId": "1b2a252f-90e7-46c2-8693-6364e7c6849c"
      },
      "outputs": [
        {
          "output_type": "execute_result",
          "data": {
            "text/plain": [
              "0"
            ]
          },
          "metadata": {},
          "execution_count": 39
        }
      ],
      "source": [
        "Y['standard_value'].isnull().sum()"
      ]
    },
    {
      "cell_type": "code",
      "execution_count": 40,
      "metadata": {
        "id": "T02ORodMdgR0"
      },
      "outputs": [],
      "source": [
        "for i in Y['standard_value']:\n",
        "  Y['standard_value'] = Y['standard_value'].replace(i,round(i,2))"
      ]
    },
    {
      "cell_type": "code",
      "execution_count": 41,
      "metadata": {
        "id": "ZfB1Pt8HaJOb",
        "colab": {
          "base_uri": "https://localhost:8080/"
        },
        "outputId": "2715adfe-0318-4149-c3c7-5078fb30ef7c"
      },
      "outputs": [
        {
          "output_type": "execute_result",
          "data": {
            "text/plain": [
              "array([8.09, 6.82, 7.36, 8.07, 6.39, 5.08, 6.51, 6.97, 8.13, 7.08, 7.14,\n",
              "       8.28, 7.59, 8.16, 7.62, 5.88, 8.14, 8.8 , 7.19, 8.2 , 6.52, 5.53,\n",
              "       5.54, 5.73, 4.98, 5.46, 4.62, 7.39, 7.64, 7.27, 8.62, 7.6 , 7.18,\n",
              "       8.39, 7.05, 8.08, 8.1 , 9.47, 8.92, 8.41, 4.9 , 9.34, 6.95, 6.54,\n",
              "       5.82, 9.52, 8.25, 8.55, 8.31, 7.51, 8.48, 7.  , 8.11, 4.64, 4.54,\n",
              "       4.96, 5.44, 8.3 , 5.96, 5.  , 5.03, 8.34, 8.32, 5.3 , 8.77, 6.72,\n",
              "       7.3 , 7.82, 6.79, 6.74, 8.36, 6.77, 6.14, 7.17, 7.25, 6.05, 8.74,\n",
              "       5.61, 6.49, 5.99, 7.57, 5.68, 7.01, 5.85, 6.08, 8.17, 8.85, 7.38,\n",
              "       6.17, 6.89, 5.75, 7.74, 6.91, 6.28, 6.32, 7.89, 5.97, 5.62, 6.7 ,\n",
              "       6.33, 6.11, 6.21, 5.98, 7.49, 4.68, 4.55, 5.31, 5.28, 4.39, 8.64,\n",
              "       8.27, 8.24, 8.19, 8.05, 7.88, 7.77, 6.23, 6.29, 4.85, 3.7 , 6.68,\n",
              "       6.76, 4.61, 5.32, 5.21, 4.86, 4.76, 4.82, 4.81, 4.88, 4.53, 4.29,\n",
              "       5.36, 4.91, 4.78, 4.66, 4.42, 4.34, 5.47, 4.84, 5.87, 5.42, 5.01,\n",
              "       4.75, 4.74, 4.5 , 4.27, 4.44, 4.05, 4.25, 4.92, 4.57, 8.29, 5.15,\n",
              "       5.24, 4.97, 4.94, 5.18, 5.04, 5.2 , 5.4 , 5.57, 5.22, 5.37, 3.93,\n",
              "       4.63, 3.09, 5.29, 5.38, 5.12, 5.1 , 5.25, 4.06, 5.05, 4.87, 5.84,\n",
              "       5.35, 5.77, 5.16, 5.89, 5.19, 5.49, 4.23, 5.79, 5.9 , 4.35, 4.79,\n",
              "       5.5 , 6.04, 5.41, 5.14, 5.11])"
            ]
          },
          "metadata": {},
          "execution_count": 41
        }
      ],
      "source": [
        "Y.standard_value.unique()"
      ]
    },
    {
      "cell_type": "code",
      "execution_count": 42,
      "metadata": {
        "id": "Fpx2JPmQboUW",
        "colab": {
          "base_uri": "https://localhost:8080/",
          "height": 300
        },
        "outputId": "53bf1a91-1ed9-4814-b16f-2cd4f75ac084"
      },
      "outputs": [
        {
          "output_type": "execute_result",
          "data": {
            "text/plain": [
              "       standard_value\n",
              "count      334.000000\n",
              "mean         6.634820\n",
              "std          1.485572\n",
              "min          3.090000\n",
              "25%          5.212500\n",
              "50%          6.740000\n",
              "75%          8.090000\n",
              "max          9.520000"
            ],
            "text/html": [
              "\n",
              "  <div id=\"df-9945a275-cb0a-42e5-b9cf-aecb1616cf15\">\n",
              "    <div class=\"colab-df-container\">\n",
              "      <div>\n",
              "<style scoped>\n",
              "    .dataframe tbody tr th:only-of-type {\n",
              "        vertical-align: middle;\n",
              "    }\n",
              "\n",
              "    .dataframe tbody tr th {\n",
              "        vertical-align: top;\n",
              "    }\n",
              "\n",
              "    .dataframe thead th {\n",
              "        text-align: right;\n",
              "    }\n",
              "</style>\n",
              "<table border=\"1\" class=\"dataframe\">\n",
              "  <thead>\n",
              "    <tr style=\"text-align: right;\">\n",
              "      <th></th>\n",
              "      <th>standard_value</th>\n",
              "    </tr>\n",
              "  </thead>\n",
              "  <tbody>\n",
              "    <tr>\n",
              "      <th>count</th>\n",
              "      <td>334.000000</td>\n",
              "    </tr>\n",
              "    <tr>\n",
              "      <th>mean</th>\n",
              "      <td>6.634820</td>\n",
              "    </tr>\n",
              "    <tr>\n",
              "      <th>std</th>\n",
              "      <td>1.485572</td>\n",
              "    </tr>\n",
              "    <tr>\n",
              "      <th>min</th>\n",
              "      <td>3.090000</td>\n",
              "    </tr>\n",
              "    <tr>\n",
              "      <th>25%</th>\n",
              "      <td>5.212500</td>\n",
              "    </tr>\n",
              "    <tr>\n",
              "      <th>50%</th>\n",
              "      <td>6.740000</td>\n",
              "    </tr>\n",
              "    <tr>\n",
              "      <th>75%</th>\n",
              "      <td>8.090000</td>\n",
              "    </tr>\n",
              "    <tr>\n",
              "      <th>max</th>\n",
              "      <td>9.520000</td>\n",
              "    </tr>\n",
              "  </tbody>\n",
              "</table>\n",
              "</div>\n",
              "      <button class=\"colab-df-convert\" onclick=\"convertToInteractive('df-9945a275-cb0a-42e5-b9cf-aecb1616cf15')\"\n",
              "              title=\"Convert this dataframe to an interactive table.\"\n",
              "              style=\"display:none;\">\n",
              "        \n",
              "  <svg xmlns=\"http://www.w3.org/2000/svg\" height=\"24px\"viewBox=\"0 0 24 24\"\n",
              "       width=\"24px\">\n",
              "    <path d=\"M0 0h24v24H0V0z\" fill=\"none\"/>\n",
              "    <path d=\"M18.56 5.44l.94 2.06.94-2.06 2.06-.94-2.06-.94-.94-2.06-.94 2.06-2.06.94zm-11 1L8.5 8.5l.94-2.06 2.06-.94-2.06-.94L8.5 2.5l-.94 2.06-2.06.94zm10 10l.94 2.06.94-2.06 2.06-.94-2.06-.94-.94-2.06-.94 2.06-2.06.94z\"/><path d=\"M17.41 7.96l-1.37-1.37c-.4-.4-.92-.59-1.43-.59-.52 0-1.04.2-1.43.59L10.3 9.45l-7.72 7.72c-.78.78-.78 2.05 0 2.83L4 21.41c.39.39.9.59 1.41.59.51 0 1.02-.2 1.41-.59l7.78-7.78 2.81-2.81c.8-.78.8-2.07 0-2.86zM5.41 20L4 18.59l7.72-7.72 1.47 1.35L5.41 20z\"/>\n",
              "  </svg>\n",
              "      </button>\n",
              "      \n",
              "  <style>\n",
              "    .colab-df-container {\n",
              "      display:flex;\n",
              "      flex-wrap:wrap;\n",
              "      gap: 12px;\n",
              "    }\n",
              "\n",
              "    .colab-df-convert {\n",
              "      background-color: #E8F0FE;\n",
              "      border: none;\n",
              "      border-radius: 50%;\n",
              "      cursor: pointer;\n",
              "      display: none;\n",
              "      fill: #1967D2;\n",
              "      height: 32px;\n",
              "      padding: 0 0 0 0;\n",
              "      width: 32px;\n",
              "    }\n",
              "\n",
              "    .colab-df-convert:hover {\n",
              "      background-color: #E2EBFA;\n",
              "      box-shadow: 0px 1px 2px rgba(60, 64, 67, 0.3), 0px 1px 3px 1px rgba(60, 64, 67, 0.15);\n",
              "      fill: #174EA6;\n",
              "    }\n",
              "\n",
              "    [theme=dark] .colab-df-convert {\n",
              "      background-color: #3B4455;\n",
              "      fill: #D2E3FC;\n",
              "    }\n",
              "\n",
              "    [theme=dark] .colab-df-convert:hover {\n",
              "      background-color: #434B5C;\n",
              "      box-shadow: 0px 1px 3px 1px rgba(0, 0, 0, 0.15);\n",
              "      filter: drop-shadow(0px 1px 2px rgba(0, 0, 0, 0.3));\n",
              "      fill: #FFFFFF;\n",
              "    }\n",
              "  </style>\n",
              "\n",
              "      <script>\n",
              "        const buttonEl =\n",
              "          document.querySelector('#df-9945a275-cb0a-42e5-b9cf-aecb1616cf15 button.colab-df-convert');\n",
              "        buttonEl.style.display =\n",
              "          google.colab.kernel.accessAllowed ? 'block' : 'none';\n",
              "\n",
              "        async function convertToInteractive(key) {\n",
              "          const element = document.querySelector('#df-9945a275-cb0a-42e5-b9cf-aecb1616cf15');\n",
              "          const dataTable =\n",
              "            await google.colab.kernel.invokeFunction('convertToInteractive',\n",
              "                                                     [key], {});\n",
              "          if (!dataTable) return;\n",
              "\n",
              "          const docLinkHtml = 'Like what you see? Visit the ' +\n",
              "            '<a target=\"_blank\" href=https://colab.research.google.com/notebooks/data_table.ipynb>data table notebook</a>'\n",
              "            + ' to learn more about interactive tables.';\n",
              "          element.innerHTML = '';\n",
              "          dataTable['output_type'] = 'display_data';\n",
              "          await google.colab.output.renderOutput(dataTable, element);\n",
              "          const docLink = document.createElement('div');\n",
              "          docLink.innerHTML = docLinkHtml;\n",
              "          element.appendChild(docLink);\n",
              "        }\n",
              "      </script>\n",
              "    </div>\n",
              "  </div>\n",
              "  "
            ]
          },
          "metadata": {},
          "execution_count": 42
        }
      ],
      "source": [
        "Y.describe()"
      ]
    },
    {
      "cell_type": "code",
      "execution_count": 43,
      "metadata": {
        "id": "SKx4Oz0HdlYW"
      },
      "outputs": [],
      "source": [
        "Y = Y.to_numpy().ravel()\n",
        "X = X.drop(columns=['Name'],axis=1)"
      ]
    },
    {
      "cell_type": "code",
      "execution_count": 44,
      "metadata": {
        "id": "a1e3oHx-dvLo",
        "colab": {
          "base_uri": "https://localhost:8080/",
          "height": 299
        },
        "outputId": "3b253b32-91d5-4b10-f36d-cc374f1e434d"
      },
      "outputs": [
        {
          "output_type": "execute_result",
          "data": {
            "text/plain": [
              "   PubchemFP0  PubchemFP1  PubchemFP2  PubchemFP3  PubchemFP4  PubchemFP5  \\\n",
              "0           1           1           1           0           0           0   \n",
              "1           1           1           1           0           0           0   \n",
              "2           1           1           1           0           0           0   \n",
              "3           1           1           1           1           0           0   \n",
              "4           1           1           1           0           0           0   \n",
              "\n",
              "   PubchemFP6  PubchemFP7  PubchemFP8  PubchemFP9  ...  PubchemFP871  \\\n",
              "0           0           0           0           1  ...             0   \n",
              "1           0           0           0           1  ...             0   \n",
              "2           0           0           0           1  ...             0   \n",
              "3           0           0           0           1  ...             0   \n",
              "4           0           0           0           1  ...             0   \n",
              "\n",
              "   PubchemFP872  PubchemFP873  PubchemFP874  PubchemFP875  PubchemFP876  \\\n",
              "0             0             0             0             0             0   \n",
              "1             0             0             0             0             0   \n",
              "2             0             0             0             0             0   \n",
              "3             0             0             0             0             0   \n",
              "4             0             0             0             0             0   \n",
              "\n",
              "   PubchemFP877  PubchemFP878  PubchemFP879  PubchemFP880  \n",
              "0             0             0             0             0  \n",
              "1             0             0             0             0  \n",
              "2             0             0             0             0  \n",
              "3             0             0             0             0  \n",
              "4             0             0             0             0  \n",
              "\n",
              "[5 rows x 881 columns]"
            ],
            "text/html": [
              "\n",
              "  <div id=\"df-a5e98f74-7c3a-40fd-a75c-335310dd4099\">\n",
              "    <div class=\"colab-df-container\">\n",
              "      <div>\n",
              "<style scoped>\n",
              "    .dataframe tbody tr th:only-of-type {\n",
              "        vertical-align: middle;\n",
              "    }\n",
              "\n",
              "    .dataframe tbody tr th {\n",
              "        vertical-align: top;\n",
              "    }\n",
              "\n",
              "    .dataframe thead th {\n",
              "        text-align: right;\n",
              "    }\n",
              "</style>\n",
              "<table border=\"1\" class=\"dataframe\">\n",
              "  <thead>\n",
              "    <tr style=\"text-align: right;\">\n",
              "      <th></th>\n",
              "      <th>PubchemFP0</th>\n",
              "      <th>PubchemFP1</th>\n",
              "      <th>PubchemFP2</th>\n",
              "      <th>PubchemFP3</th>\n",
              "      <th>PubchemFP4</th>\n",
              "      <th>PubchemFP5</th>\n",
              "      <th>PubchemFP6</th>\n",
              "      <th>PubchemFP7</th>\n",
              "      <th>PubchemFP8</th>\n",
              "      <th>PubchemFP9</th>\n",
              "      <th>...</th>\n",
              "      <th>PubchemFP871</th>\n",
              "      <th>PubchemFP872</th>\n",
              "      <th>PubchemFP873</th>\n",
              "      <th>PubchemFP874</th>\n",
              "      <th>PubchemFP875</th>\n",
              "      <th>PubchemFP876</th>\n",
              "      <th>PubchemFP877</th>\n",
              "      <th>PubchemFP878</th>\n",
              "      <th>PubchemFP879</th>\n",
              "      <th>PubchemFP880</th>\n",
              "    </tr>\n",
              "  </thead>\n",
              "  <tbody>\n",
              "    <tr>\n",
              "      <th>0</th>\n",
              "      <td>1</td>\n",
              "      <td>1</td>\n",
              "      <td>1</td>\n",
              "      <td>0</td>\n",
              "      <td>0</td>\n",
              "      <td>0</td>\n",
              "      <td>0</td>\n",
              "      <td>0</td>\n",
              "      <td>0</td>\n",
              "      <td>1</td>\n",
              "      <td>...</td>\n",
              "      <td>0</td>\n",
              "      <td>0</td>\n",
              "      <td>0</td>\n",
              "      <td>0</td>\n",
              "      <td>0</td>\n",
              "      <td>0</td>\n",
              "      <td>0</td>\n",
              "      <td>0</td>\n",
              "      <td>0</td>\n",
              "      <td>0</td>\n",
              "    </tr>\n",
              "    <tr>\n",
              "      <th>1</th>\n",
              "      <td>1</td>\n",
              "      <td>1</td>\n",
              "      <td>1</td>\n",
              "      <td>0</td>\n",
              "      <td>0</td>\n",
              "      <td>0</td>\n",
              "      <td>0</td>\n",
              "      <td>0</td>\n",
              "      <td>0</td>\n",
              "      <td>1</td>\n",
              "      <td>...</td>\n",
              "      <td>0</td>\n",
              "      <td>0</td>\n",
              "      <td>0</td>\n",
              "      <td>0</td>\n",
              "      <td>0</td>\n",
              "      <td>0</td>\n",
              "      <td>0</td>\n",
              "      <td>0</td>\n",
              "      <td>0</td>\n",
              "      <td>0</td>\n",
              "    </tr>\n",
              "    <tr>\n",
              "      <th>2</th>\n",
              "      <td>1</td>\n",
              "      <td>1</td>\n",
              "      <td>1</td>\n",
              "      <td>0</td>\n",
              "      <td>0</td>\n",
              "      <td>0</td>\n",
              "      <td>0</td>\n",
              "      <td>0</td>\n",
              "      <td>0</td>\n",
              "      <td>1</td>\n",
              "      <td>...</td>\n",
              "      <td>0</td>\n",
              "      <td>0</td>\n",
              "      <td>0</td>\n",
              "      <td>0</td>\n",
              "      <td>0</td>\n",
              "      <td>0</td>\n",
              "      <td>0</td>\n",
              "      <td>0</td>\n",
              "      <td>0</td>\n",
              "      <td>0</td>\n",
              "    </tr>\n",
              "    <tr>\n",
              "      <th>3</th>\n",
              "      <td>1</td>\n",
              "      <td>1</td>\n",
              "      <td>1</td>\n",
              "      <td>1</td>\n",
              "      <td>0</td>\n",
              "      <td>0</td>\n",
              "      <td>0</td>\n",
              "      <td>0</td>\n",
              "      <td>0</td>\n",
              "      <td>1</td>\n",
              "      <td>...</td>\n",
              "      <td>0</td>\n",
              "      <td>0</td>\n",
              "      <td>0</td>\n",
              "      <td>0</td>\n",
              "      <td>0</td>\n",
              "      <td>0</td>\n",
              "      <td>0</td>\n",
              "      <td>0</td>\n",
              "      <td>0</td>\n",
              "      <td>0</td>\n",
              "    </tr>\n",
              "    <tr>\n",
              "      <th>4</th>\n",
              "      <td>1</td>\n",
              "      <td>1</td>\n",
              "      <td>1</td>\n",
              "      <td>0</td>\n",
              "      <td>0</td>\n",
              "      <td>0</td>\n",
              "      <td>0</td>\n",
              "      <td>0</td>\n",
              "      <td>0</td>\n",
              "      <td>1</td>\n",
              "      <td>...</td>\n",
              "      <td>0</td>\n",
              "      <td>0</td>\n",
              "      <td>0</td>\n",
              "      <td>0</td>\n",
              "      <td>0</td>\n",
              "      <td>0</td>\n",
              "      <td>0</td>\n",
              "      <td>0</td>\n",
              "      <td>0</td>\n",
              "      <td>0</td>\n",
              "    </tr>\n",
              "  </tbody>\n",
              "</table>\n",
              "<p>5 rows × 881 columns</p>\n",
              "</div>\n",
              "      <button class=\"colab-df-convert\" onclick=\"convertToInteractive('df-a5e98f74-7c3a-40fd-a75c-335310dd4099')\"\n",
              "              title=\"Convert this dataframe to an interactive table.\"\n",
              "              style=\"display:none;\">\n",
              "        \n",
              "  <svg xmlns=\"http://www.w3.org/2000/svg\" height=\"24px\"viewBox=\"0 0 24 24\"\n",
              "       width=\"24px\">\n",
              "    <path d=\"M0 0h24v24H0V0z\" fill=\"none\"/>\n",
              "    <path d=\"M18.56 5.44l.94 2.06.94-2.06 2.06-.94-2.06-.94-.94-2.06-.94 2.06-2.06.94zm-11 1L8.5 8.5l.94-2.06 2.06-.94-2.06-.94L8.5 2.5l-.94 2.06-2.06.94zm10 10l.94 2.06.94-2.06 2.06-.94-2.06-.94-.94-2.06-.94 2.06-2.06.94z\"/><path d=\"M17.41 7.96l-1.37-1.37c-.4-.4-.92-.59-1.43-.59-.52 0-1.04.2-1.43.59L10.3 9.45l-7.72 7.72c-.78.78-.78 2.05 0 2.83L4 21.41c.39.39.9.59 1.41.59.51 0 1.02-.2 1.41-.59l7.78-7.78 2.81-2.81c.8-.78.8-2.07 0-2.86zM5.41 20L4 18.59l7.72-7.72 1.47 1.35L5.41 20z\"/>\n",
              "  </svg>\n",
              "      </button>\n",
              "      \n",
              "  <style>\n",
              "    .colab-df-container {\n",
              "      display:flex;\n",
              "      flex-wrap:wrap;\n",
              "      gap: 12px;\n",
              "    }\n",
              "\n",
              "    .colab-df-convert {\n",
              "      background-color: #E8F0FE;\n",
              "      border: none;\n",
              "      border-radius: 50%;\n",
              "      cursor: pointer;\n",
              "      display: none;\n",
              "      fill: #1967D2;\n",
              "      height: 32px;\n",
              "      padding: 0 0 0 0;\n",
              "      width: 32px;\n",
              "    }\n",
              "\n",
              "    .colab-df-convert:hover {\n",
              "      background-color: #E2EBFA;\n",
              "      box-shadow: 0px 1px 2px rgba(60, 64, 67, 0.3), 0px 1px 3px 1px rgba(60, 64, 67, 0.15);\n",
              "      fill: #174EA6;\n",
              "    }\n",
              "\n",
              "    [theme=dark] .colab-df-convert {\n",
              "      background-color: #3B4455;\n",
              "      fill: #D2E3FC;\n",
              "    }\n",
              "\n",
              "    [theme=dark] .colab-df-convert:hover {\n",
              "      background-color: #434B5C;\n",
              "      box-shadow: 0px 1px 3px 1px rgba(0, 0, 0, 0.15);\n",
              "      filter: drop-shadow(0px 1px 2px rgba(0, 0, 0, 0.3));\n",
              "      fill: #FFFFFF;\n",
              "    }\n",
              "  </style>\n",
              "\n",
              "      <script>\n",
              "        const buttonEl =\n",
              "          document.querySelector('#df-a5e98f74-7c3a-40fd-a75c-335310dd4099 button.colab-df-convert');\n",
              "        buttonEl.style.display =\n",
              "          google.colab.kernel.accessAllowed ? 'block' : 'none';\n",
              "\n",
              "        async function convertToInteractive(key) {\n",
              "          const element = document.querySelector('#df-a5e98f74-7c3a-40fd-a75c-335310dd4099');\n",
              "          const dataTable =\n",
              "            await google.colab.kernel.invokeFunction('convertToInteractive',\n",
              "                                                     [key], {});\n",
              "          if (!dataTable) return;\n",
              "\n",
              "          const docLinkHtml = 'Like what you see? Visit the ' +\n",
              "            '<a target=\"_blank\" href=https://colab.research.google.com/notebooks/data_table.ipynb>data table notebook</a>'\n",
              "            + ' to learn more about interactive tables.';\n",
              "          element.innerHTML = '';\n",
              "          dataTable['output_type'] = 'display_data';\n",
              "          await google.colab.output.renderOutput(dataTable, element);\n",
              "          const docLink = document.createElement('div');\n",
              "          docLink.innerHTML = docLinkHtml;\n",
              "          element.appendChild(docLink);\n",
              "        }\n",
              "      </script>\n",
              "    </div>\n",
              "  </div>\n",
              "  "
            ]
          },
          "metadata": {},
          "execution_count": 44
        }
      ],
      "source": [
        "X.head(5)"
      ]
    },
    {
      "cell_type": "code",
      "execution_count": 45,
      "metadata": {
        "id": "BQv4ODdpdxLz",
        "colab": {
          "base_uri": "https://localhost:8080/"
        },
        "outputId": "32e4ee16-2938-4174-aa5c-db96f66e07b3"
      },
      "outputs": [
        {
          "output_type": "execute_result",
          "data": {
            "text/plain": [
              "array([8.09, 6.82, 7.36, 8.07, 6.39])"
            ]
          },
          "metadata": {},
          "execution_count": 45
        }
      ],
      "source": [
        "Y[:5]"
      ]
    },
    {
      "cell_type": "code",
      "execution_count": 46,
      "metadata": {
        "id": "VFhn9EsifToH",
        "colab": {
          "base_uri": "https://localhost:8080/"
        },
        "outputId": "9a4a5d2c-253c-48a4-9acc-1b138f7ce242"
      },
      "outputs": [
        {
          "output_type": "execute_result",
          "data": {
            "text/plain": [
              "(334, 881)"
            ]
          },
          "metadata": {},
          "execution_count": 46
        }
      ],
      "source": [
        "X.shape"
      ]
    },
    {
      "cell_type": "markdown",
      "source": [
        "### Defining all the Regressors"
      ],
      "metadata": {
        "id": "d6fRfED16p4S"
      }
    },
    {
      "cell_type": "code",
      "execution_count": 47,
      "metadata": {
        "id": "Uavte79UY8Mm"
      },
      "outputs": [],
      "source": [
        "rfe = RandomForestRegressor(n_estimators = 100)\n",
        "dtree = DecisionTreeRegressor()\n",
        "svr = SVR()\n",
        "etree = ExtraTreesRegressor()\n",
        "lin_reg = LinearRegression()\n",
        "lasso = Lasso()\n",
        "ridge = Ridge()\n",
        "oth = OrthogonalMatchingPursuit()"
      ]
    },
    {
      "cell_type": "code",
      "source": [
        "def evaluation(y,predictions):\n",
        "    mae = mean_absolute_error(y,predictions)\n",
        "    mse = mean_squared_error(y,predictions)\n",
        "    rmse = np.sqrt(mean_squared_error(y,predictions))\n",
        "    r2 = r2_score(y,predictions)\n",
        "    return mae,mse,rmse,r2"
      ],
      "metadata": {
        "id": "MHrZHioPBSVd"
      },
      "execution_count": 48,
      "outputs": []
    },
    {
      "cell_type": "markdown",
      "source": [
        "### Using different regressors and finding best fit model for our dataset"
      ],
      "metadata": {
        "id": "CqNtuYLy6w9A"
      }
    },
    {
      "cell_type": "code",
      "source": [
        "rmse_arr = []\n",
        "r2_arr=[]"
      ],
      "metadata": {
        "id": "sJccvqinhv5v"
      },
      "execution_count": 49,
      "outputs": []
    },
    {
      "cell_type": "markdown",
      "source": [
        "### Random Forest Tree"
      ],
      "metadata": {
        "id": "X9YrN2oMlUJH"
      }
    },
    {
      "cell_type": "code",
      "execution_count": 50,
      "metadata": {
        "id": "xXwa2Z2IrrMl",
        "colab": {
          "base_uri": "https://localhost:8080/"
        },
        "outputId": "3948ec4a-2347-4be5-ef33-83163351a059"
      },
      "outputs": [
        {
          "output_type": "stream",
          "name": "stdout",
          "text": [
            "R sqaured value : 0.07653674539854005\n",
            "\n",
            "Mean Sqaured Error : 2.1961926962517855\n",
            "\n",
            "Mean Absolute Error : 1.1402274356033686\n",
            "\n",
            "Root Mean Squared : 1.4819556998276924\n"
          ]
        }
      ],
      "source": [
        "X_train,X_test,Y_train,Y_test = train_test_split(X,Y,test_size=0.2,random_state=100)\n",
        "rfe.fit(X_train,Y_train)\n",
        "Y_pred = rfe.predict(X_test)\n",
        "mae,mse,rmse,r2 = evaluation(Y_test,Y_pred)\n",
        "r2_arr.append(r2)\n",
        "rmse_arr.append(rmse)\n",
        "print(\"R sqaured value :\",r2)\n",
        "print(\"\")\n",
        "print(\"Mean Sqaured Error :\",mse)\n",
        "print(\"\")\n",
        "print(\"Mean Absolute Error :\",mae)\n",
        "print(\"\")\n",
        "print(\"Root Mean Squared :\",rmse)"
      ]
    },
    {
      "cell_type": "markdown",
      "source": [
        "### Decision Tree Regressor"
      ],
      "metadata": {
        "id": "QWcIVMsrlQjL"
      }
    },
    {
      "cell_type": "code",
      "execution_count": 51,
      "metadata": {
        "id": "SbWD69fhyY3R",
        "colab": {
          "base_uri": "https://localhost:8080/"
        },
        "outputId": "6cb60163-947e-45ae-9c0f-1b2f2c3e66e9"
      },
      "outputs": [
        {
          "output_type": "stream",
          "name": "stdout",
          "text": [
            "R sqaured value : -0.10555521306756077\n",
            "\n",
            "Mean Sqaured Error : 2.6292462338308455\n",
            "\n",
            "Mean Absolute Error : 1.1565721393034827\n",
            "\n",
            "Root Mean Squared : 1.6214950613032546\n"
          ]
        }
      ],
      "source": [
        "X_train,X_test,Y_train,Y_test = train_test_split(X,Y,test_size=0.2,random_state=100)\n",
        "dtree.fit(X_train,Y_train)\n",
        "Y_pred = dtree.predict(X_test)\n",
        "mae,mse,rmse,r2 = evaluation(Y_test,Y_pred)\n",
        "r2_arr.append(r2)\n",
        "rmse_arr.append(rmse)\n",
        "print(\"R sqaured value :\",r2)\n",
        "print(\"\")\n",
        "print(\"Mean Sqaured Error :\",mse)\n",
        "print(\"\")\n",
        "print(\"Mean Absolute Error :\",mae)\n",
        "print(\"\")\n",
        "print(\"Root Mean Squared :\",rmse)"
      ]
    },
    {
      "cell_type": "markdown",
      "source": [
        "### Support Vector Regressor"
      ],
      "metadata": {
        "id": "wmSy6y_YlMur"
      }
    },
    {
      "cell_type": "code",
      "execution_count": 52,
      "metadata": {
        "id": "S86sMcYjycVd",
        "colab": {
          "base_uri": "https://localhost:8080/"
        },
        "outputId": "ee10edd8-9244-4c70-c4f8-9f64c01df6b9"
      },
      "outputs": [
        {
          "output_type": "stream",
          "name": "stdout",
          "text": [
            "R sqaured value : 0.10964637311772851\n",
            "\n",
            "Mean Sqaured Error : 2.117450935591391\n",
            "\n",
            "Mean Absolute Error : 1.1369271612405032\n",
            "\n",
            "Root Mean Squared : 1.4551463622575533\n"
          ]
        }
      ],
      "source": [
        "X_train,X_test,Y_train,Y_test = train_test_split(X,Y,test_size=0.2,random_state=100)\n",
        "svr.fit(X_train,Y_train)\n",
        "Y_pred = svr.predict(X_test)\n",
        "mae,mse,rmse,r2 = evaluation(Y_test,Y_pred)\n",
        "rmse_arr.append(rmse)\n",
        "r2_arr.append(r2)\n",
        "print(\"R sqaured value :\",r2)\n",
        "print(\"\")\n",
        "print(\"Mean Sqaured Error :\",mse)\n",
        "print(\"\")\n",
        "print(\"Mean Absolute Error :\",mae)\n",
        "print(\"\")\n",
        "print(\"Root Mean Squared :\",rmse)"
      ]
    },
    {
      "cell_type": "markdown",
      "source": [
        "### Extra Tree Regression"
      ],
      "metadata": {
        "id": "4xXw5tCRlJE2"
      }
    },
    {
      "cell_type": "code",
      "execution_count": 53,
      "metadata": {
        "id": "ci_fE2VtydGr",
        "colab": {
          "base_uri": "https://localhost:8080/"
        },
        "outputId": "1991498d-f2ad-489f-b782-31cb9ca75673"
      },
      "outputs": [
        {
          "output_type": "stream",
          "name": "stdout",
          "text": [
            "R sqaured value : -0.08253005176013373\n",
            "\n",
            "Mean Sqaured Error : 2.5744874864292346\n",
            "\n",
            "Mean Absolute Error : 1.155785497512439\n",
            "\n",
            "Root Mean Squared : 1.6045209523185524\n"
          ]
        }
      ],
      "source": [
        "X_train,X_test,Y_train,Y_test = train_test_split(X,Y,test_size=0.2,random_state=100)\n",
        "etree.fit(X_train,Y_train)\n",
        "Y_pred = etree.predict(X_test)\n",
        "mae,mse,rmse,r2 = evaluation(Y_test,Y_pred)\n",
        "r2_arr.append(r2)\n",
        "rmse_arr.append(rmse)\n",
        "print(\"R sqaured value :\",r2)\n",
        "print(\"\")\n",
        "print(\"Mean Sqaured Error :\",mse)\n",
        "print(\"\")\n",
        "print(\"Mean Absolute Error :\",mae)\n",
        "print(\"\")\n",
        "print(\"Root Mean Squared :\",rmse)"
      ]
    },
    {
      "cell_type": "markdown",
      "source": [
        "### Lasso Regression"
      ],
      "metadata": {
        "id": "Eej25EL-kscD"
      }
    },
    {
      "cell_type": "code",
      "source": [
        "X_train,X_test,Y_train,Y_test = train_test_split(X,Y,test_size=0.2,random_state=100)\n",
        "lasso.fit(X_train,Y_train)\n",
        "Y_pred = lasso.predict(X_test)\n",
        "mae,mse,rmse,r2 = evaluation(Y_test,Y_pred)\n",
        "rmse_arr.append(rmse)\n",
        "r2_arr.append(r2)\n",
        "print(\"R sqaured value :\",r2)\n",
        "print(\"\")\n",
        "print(\"Mean Sqaured Error :\",mse)\n",
        "print(\"\")\n",
        "print(\"Mean Absolute Error :\",mae)\n",
        "print(\"\")\n",
        "print(\"Root Mean Squared :\",rmse)"
      ],
      "metadata": {
        "id": "KqZTjmkykJR0",
        "colab": {
          "base_uri": "https://localhost:8080/"
        },
        "outputId": "69b79b65-c5ba-447b-f207-0596abf0ecb7"
      },
      "execution_count": 54,
      "outputs": [
        {
          "output_type": "stream",
          "name": "stdout",
          "text": [
            "R sqaured value : -0.010276102726274994\n",
            "\n",
            "Mean Sqaured Error : 2.402652175871055\n",
            "\n",
            "Mean Absolute Error : 1.4491178936776792\n",
            "\n",
            "Root Mean Squared : 1.5500490882133555\n"
          ]
        }
      ]
    },
    {
      "cell_type": "markdown",
      "source": [
        "### Ridge Regression"
      ],
      "metadata": {
        "id": "yAZkOQV9kpRX"
      }
    },
    {
      "cell_type": "code",
      "source": [
        "X_train,X_test,Y_train,Y_test = train_test_split(X,Y,test_size=0.2,random_state=100)\n",
        "ridge.fit(X_train,Y_train)\n",
        "Y_pred = ridge.predict(X_test)\n",
        "mae,mse,rmse,r2 = evaluation(Y_test,Y_pred)\n",
        "r2_arr.append(r2)\n",
        "rmse_arr.append(rmse)\n",
        "print(\"R sqaured value :\",r2)\n",
        "print(\"\")\n",
        "print(\"Mean Sqaured Error :\",mse)\n",
        "print(\"\")\n",
        "print(\"Mean Absolute Error :\",mae)\n",
        "print(\"\")\n",
        "print(\"Root Mean Squared :\",rmse)"
      ],
      "metadata": {
        "id": "JF0R_3MikNEV",
        "colab": {
          "base_uri": "https://localhost:8080/"
        },
        "outputId": "8cf08469-bd70-4e0a-b84f-788151f9714a"
      },
      "execution_count": 55,
      "outputs": [
        {
          "output_type": "stream",
          "name": "stdout",
          "text": [
            "R sqaured value : -0.1316981524201284\n",
            "\n",
            "Mean Sqaured Error : 2.691419722790556\n",
            "\n",
            "Mean Absolute Error : 1.289692940880627\n",
            "\n",
            "Root Mean Squared : 1.640554699725235\n"
          ]
        }
      ]
    },
    {
      "cell_type": "markdown",
      "source": [
        "### Orthogonal Matching Pursuit Regressor"
      ],
      "metadata": {
        "id": "g6MYBOrRki8L"
      }
    },
    {
      "cell_type": "code",
      "source": [
        "X_train,X_test,Y_train,Y_test = train_test_split(X,Y,test_size=0.2,random_state=100)\n",
        "oth.fit(X_train,Y_train)\n",
        "Y_pred = oth.predict(X_test)\n",
        "mae,mse,rmse,r2 = evaluation(Y_test,Y_pred)\n",
        "r2_arr.append(r2)\n",
        "rmse_arr.append(rmse)\n",
        "print(\"R sqaured value :\",r2)\n",
        "print(\"\")\n",
        "print(\"Mean Sqaured Error :\",mse)\n",
        "print(\"\")\n",
        "print(\"Mean Absolute Error :\",mae)\n",
        "print(\"\")\n",
        "print(\"Root Mean Squared :\",rmse)"
      ],
      "metadata": {
        "id": "B8KxdkEukQRp",
        "colab": {
          "base_uri": "https://localhost:8080/"
        },
        "outputId": "e8a7e0d9-f4a7-4200-944e-bf16fc2b439c"
      },
      "execution_count": 56,
      "outputs": [
        {
          "output_type": "stream",
          "name": "stdout",
          "text": [
            "R sqaured value : -0.46000883833431194\n",
            "\n",
            "Mean Sqaured Error : 3.472212598861539\n",
            "\n",
            "Mean Absolute Error : 1.4235110287553112\n",
            "\n",
            "Root Mean Squared : 1.8633873990293963\n"
          ]
        }
      ]
    },
    {
      "cell_type": "markdown",
      "source": [
        "### Linear Regression"
      ],
      "metadata": {
        "id": "8MZ76JXukZs6"
      }
    },
    {
      "cell_type": "code",
      "source": [
        "X_train,X_test,Y_train,Y_test = train_test_split(X,Y,test_size=0.2,random_state=100)\n",
        "lin_reg.fit(X_train,Y_train)\n",
        "Y_pred = lin_reg.predict(X_test)\n",
        "mae,mse,rmse,r2 = evaluation(Y_test,Y_pred)\n",
        "r2_arr.append(r2)\n",
        "rmse_arr.append(rmse)\n",
        "print(\"R sqaured value :\",r2)\n",
        "print(\"\")\n",
        "print(\"Mean Sqaured Error :\",mse)\n",
        "print(\"\")\n",
        "print(\"Mean Absolute Error :\",mae)\n",
        "print(\"\")\n",
        "print(\"Root Mean Squared :\",rmse)"
      ],
      "metadata": {
        "id": "rqW03a-mkUhF",
        "colab": {
          "base_uri": "https://localhost:8080/"
        },
        "outputId": "b8911c32-1bc4-4128-90cb-c0c5e488b7ff"
      },
      "execution_count": 57,
      "outputs": [
        {
          "output_type": "stream",
          "name": "stdout",
          "text": [
            "R sqaured value : -3.4390535729059994e+23\n",
            "\n",
            "Mean Sqaured Error : 8.178803326716388e+23\n",
            "\n",
            "Mean Absolute Error : 400625580077.9846\n",
            "\n",
            "Root Mean Squared : 904367365992.1829\n"
          ]
        }
      ]
    },
    {
      "cell_type": "markdown",
      "source": [
        "### Model Performance"
      ],
      "metadata": {
        "id": "dIU8xk4XHQDD"
      }
    },
    {
      "cell_type": "code",
      "source": [
        "import seaborn as sns"
      ],
      "metadata": {
        "id": "lbjJTcKqGSA0"
      },
      "execution_count": 58,
      "outputs": []
    },
    {
      "cell_type": "code",
      "source": [
        "di = {\"Name\":[\"Random Forest\",\"Decision Tree\",\"Support Vector\",\"Extra Tree\",\"Lasso\",\"Ridge\",\"Orthogonal\",\"Linear\"],\n",
        "      \"RMSE\":rmse_arr,\"R_Sq\":r2_arr}"
      ],
      "metadata": {
        "id": "a1M-XG96pg_r"
      },
      "execution_count": 59,
      "outputs": []
    },
    {
      "cell_type": "code",
      "source": [
        "model_performance = pd.DataFrame.from_dict(di)"
      ],
      "metadata": {
        "id": "p-vUcxFFqw4g"
      },
      "execution_count": 60,
      "outputs": []
    },
    {
      "cell_type": "code",
      "source": [
        "model_performance"
      ],
      "metadata": {
        "id": "s981HWb7sOtU",
        "colab": {
          "base_uri": "https://localhost:8080/",
          "height": 300
        },
        "outputId": "058e546a-c9ee-4f69-b974-c22f57818f6f"
      },
      "execution_count": 61,
      "outputs": [
        {
          "output_type": "execute_result",
          "data": {
            "text/plain": [
              "             Name          RMSE          R_Sq\n",
              "0   Random Forest  1.481956e+00  7.653675e-02\n",
              "1   Decision Tree  1.621495e+00 -1.055552e-01\n",
              "2  Support Vector  1.455146e+00  1.096464e-01\n",
              "3      Extra Tree  1.604521e+00 -8.253005e-02\n",
              "4           Lasso  1.550049e+00 -1.027610e-02\n",
              "5           Ridge  1.640555e+00 -1.316982e-01\n",
              "6      Orthogonal  1.863387e+00 -4.600088e-01\n",
              "7          Linear  9.043674e+11 -3.439054e+23"
            ],
            "text/html": [
              "\n",
              "  <div id=\"df-1b4d7c8d-d295-40ee-9781-2aec497e64c8\">\n",
              "    <div class=\"colab-df-container\">\n",
              "      <div>\n",
              "<style scoped>\n",
              "    .dataframe tbody tr th:only-of-type {\n",
              "        vertical-align: middle;\n",
              "    }\n",
              "\n",
              "    .dataframe tbody tr th {\n",
              "        vertical-align: top;\n",
              "    }\n",
              "\n",
              "    .dataframe thead th {\n",
              "        text-align: right;\n",
              "    }\n",
              "</style>\n",
              "<table border=\"1\" class=\"dataframe\">\n",
              "  <thead>\n",
              "    <tr style=\"text-align: right;\">\n",
              "      <th></th>\n",
              "      <th>Name</th>\n",
              "      <th>RMSE</th>\n",
              "      <th>R_Sq</th>\n",
              "    </tr>\n",
              "  </thead>\n",
              "  <tbody>\n",
              "    <tr>\n",
              "      <th>0</th>\n",
              "      <td>Random Forest</td>\n",
              "      <td>1.481956e+00</td>\n",
              "      <td>7.653675e-02</td>\n",
              "    </tr>\n",
              "    <tr>\n",
              "      <th>1</th>\n",
              "      <td>Decision Tree</td>\n",
              "      <td>1.621495e+00</td>\n",
              "      <td>-1.055552e-01</td>\n",
              "    </tr>\n",
              "    <tr>\n",
              "      <th>2</th>\n",
              "      <td>Support Vector</td>\n",
              "      <td>1.455146e+00</td>\n",
              "      <td>1.096464e-01</td>\n",
              "    </tr>\n",
              "    <tr>\n",
              "      <th>3</th>\n",
              "      <td>Extra Tree</td>\n",
              "      <td>1.604521e+00</td>\n",
              "      <td>-8.253005e-02</td>\n",
              "    </tr>\n",
              "    <tr>\n",
              "      <th>4</th>\n",
              "      <td>Lasso</td>\n",
              "      <td>1.550049e+00</td>\n",
              "      <td>-1.027610e-02</td>\n",
              "    </tr>\n",
              "    <tr>\n",
              "      <th>5</th>\n",
              "      <td>Ridge</td>\n",
              "      <td>1.640555e+00</td>\n",
              "      <td>-1.316982e-01</td>\n",
              "    </tr>\n",
              "    <tr>\n",
              "      <th>6</th>\n",
              "      <td>Orthogonal</td>\n",
              "      <td>1.863387e+00</td>\n",
              "      <td>-4.600088e-01</td>\n",
              "    </tr>\n",
              "    <tr>\n",
              "      <th>7</th>\n",
              "      <td>Linear</td>\n",
              "      <td>9.043674e+11</td>\n",
              "      <td>-3.439054e+23</td>\n",
              "    </tr>\n",
              "  </tbody>\n",
              "</table>\n",
              "</div>\n",
              "      <button class=\"colab-df-convert\" onclick=\"convertToInteractive('df-1b4d7c8d-d295-40ee-9781-2aec497e64c8')\"\n",
              "              title=\"Convert this dataframe to an interactive table.\"\n",
              "              style=\"display:none;\">\n",
              "        \n",
              "  <svg xmlns=\"http://www.w3.org/2000/svg\" height=\"24px\"viewBox=\"0 0 24 24\"\n",
              "       width=\"24px\">\n",
              "    <path d=\"M0 0h24v24H0V0z\" fill=\"none\"/>\n",
              "    <path d=\"M18.56 5.44l.94 2.06.94-2.06 2.06-.94-2.06-.94-.94-2.06-.94 2.06-2.06.94zm-11 1L8.5 8.5l.94-2.06 2.06-.94-2.06-.94L8.5 2.5l-.94 2.06-2.06.94zm10 10l.94 2.06.94-2.06 2.06-.94-2.06-.94-.94-2.06-.94 2.06-2.06.94z\"/><path d=\"M17.41 7.96l-1.37-1.37c-.4-.4-.92-.59-1.43-.59-.52 0-1.04.2-1.43.59L10.3 9.45l-7.72 7.72c-.78.78-.78 2.05 0 2.83L4 21.41c.39.39.9.59 1.41.59.51 0 1.02-.2 1.41-.59l7.78-7.78 2.81-2.81c.8-.78.8-2.07 0-2.86zM5.41 20L4 18.59l7.72-7.72 1.47 1.35L5.41 20z\"/>\n",
              "  </svg>\n",
              "      </button>\n",
              "      \n",
              "  <style>\n",
              "    .colab-df-container {\n",
              "      display:flex;\n",
              "      flex-wrap:wrap;\n",
              "      gap: 12px;\n",
              "    }\n",
              "\n",
              "    .colab-df-convert {\n",
              "      background-color: #E8F0FE;\n",
              "      border: none;\n",
              "      border-radius: 50%;\n",
              "      cursor: pointer;\n",
              "      display: none;\n",
              "      fill: #1967D2;\n",
              "      height: 32px;\n",
              "      padding: 0 0 0 0;\n",
              "      width: 32px;\n",
              "    }\n",
              "\n",
              "    .colab-df-convert:hover {\n",
              "      background-color: #E2EBFA;\n",
              "      box-shadow: 0px 1px 2px rgba(60, 64, 67, 0.3), 0px 1px 3px 1px rgba(60, 64, 67, 0.15);\n",
              "      fill: #174EA6;\n",
              "    }\n",
              "\n",
              "    [theme=dark] .colab-df-convert {\n",
              "      background-color: #3B4455;\n",
              "      fill: #D2E3FC;\n",
              "    }\n",
              "\n",
              "    [theme=dark] .colab-df-convert:hover {\n",
              "      background-color: #434B5C;\n",
              "      box-shadow: 0px 1px 3px 1px rgba(0, 0, 0, 0.15);\n",
              "      filter: drop-shadow(0px 1px 2px rgba(0, 0, 0, 0.3));\n",
              "      fill: #FFFFFF;\n",
              "    }\n",
              "  </style>\n",
              "\n",
              "      <script>\n",
              "        const buttonEl =\n",
              "          document.querySelector('#df-1b4d7c8d-d295-40ee-9781-2aec497e64c8 button.colab-df-convert');\n",
              "        buttonEl.style.display =\n",
              "          google.colab.kernel.accessAllowed ? 'block' : 'none';\n",
              "\n",
              "        async function convertToInteractive(key) {\n",
              "          const element = document.querySelector('#df-1b4d7c8d-d295-40ee-9781-2aec497e64c8');\n",
              "          const dataTable =\n",
              "            await google.colab.kernel.invokeFunction('convertToInteractive',\n",
              "                                                     [key], {});\n",
              "          if (!dataTable) return;\n",
              "\n",
              "          const docLinkHtml = 'Like what you see? Visit the ' +\n",
              "            '<a target=\"_blank\" href=https://colab.research.google.com/notebooks/data_table.ipynb>data table notebook</a>'\n",
              "            + ' to learn more about interactive tables.';\n",
              "          element.innerHTML = '';\n",
              "          dataTable['output_type'] = 'display_data';\n",
              "          await google.colab.output.renderOutput(dataTable, element);\n",
              "          const docLink = document.createElement('div');\n",
              "          docLink.innerHTML = docLinkHtml;\n",
              "          element.appendChild(docLink);\n",
              "        }\n",
              "      </script>\n",
              "    </div>\n",
              "  </div>\n",
              "  "
            ]
          },
          "metadata": {},
          "execution_count": 61
        }
      ]
    },
    {
      "cell_type": "code",
      "source": [
        "sns.set(rc={'figure.figsize':(10,5)})\n",
        "ax = sns.lineplot(x='RMSE',y='R_Sq',data=model_performance).set(title='Regressor Performance')"
      ],
      "metadata": {
        "id": "8kvulYCREFOu",
        "colab": {
          "base_uri": "https://localhost:8080/",
          "height": 355
        },
        "outputId": "42e01751-b4d2-4779-e860-125a82c78362"
      },
      "execution_count": 62,
      "outputs": [
        {
          "output_type": "display_data",
          "data": {
            "text/plain": [
              "<Figure size 720x360 with 1 Axes>"
            ],
            "image/png": "[encoded data removed]"
          },
          "metadata": {}
        }
      ]
    },
    {
      "cell_type": "markdown",
      "source": [
        "### Using model with lowest rmse"
      ],
      "metadata": {
        "id": "xsGZz74YHfog"
      }
    },
    {
      "cell_type": "code",
      "source": [
        "X_train,X_test,Y_train,Y_test = train_test_split(X,Y,test_size=0.2,random_state=100)\n",
        "rfe.fit(X_train,Y_train)\n",
        "Y_pred = rfe.predict(X_test)\n",
        "rmse = np.sqrt(mean_squared_error(Y_test,Y_pred))"
      ],
      "metadata": {
        "id": "Govnii6WFhDx"
      },
      "execution_count": 63,
      "outputs": []
    },
    {
      "cell_type": "code",
      "source": [
        "rmse"
      ],
      "metadata": {
        "id": "Wr7tofXBI7H6",
        "colab": {
          "base_uri": "https://localhost:8080/"
        },
        "outputId": "154c6d23-b8fb-4fdd-908f-8b830ca23cb2"
      },
      "execution_count": 64,
      "outputs": [
        {
          "output_type": "execute_result",
          "data": {
            "text/plain": [
              "1.4643073253491048"
            ]
          },
          "metadata": {},
          "execution_count": 64
        }
      ]
    },
    {
      "cell_type": "markdown",
      "source": [
        "### Saving model state for later use"
      ],
      "metadata": {
        "id": "bUeMqW2aJCFg"
      }
    },
    {
      "cell_type": "code",
      "source": [
        "import pickle\n",
        "\n",
        "pickle.dump(rfe,open(\"lungs_model.pkl\",\"wb\"))"
      ],
      "metadata": {
        "id": "jyxlWv2aI78G"
      },
      "execution_count": 65,
      "outputs": []
    },
    {
      "cell_type": "code",
      "source": [],
      "metadata": {
        "id": "Lo5V0P8AJ4xg"
      },
      "execution_count": 65,
      "outputs": []
    }
  ],
  "metadata": {
    "colab": {
      "provenance": []
    },
    "kernelspec": {
      "display_name": "Python 3",
      "name": "python3"
    },
    "language_info": {
      "name": "python"
    }
  },
  "nbformat": 4,
  "nbformat_minor": 0
}